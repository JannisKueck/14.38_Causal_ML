{
 "cells": [
  {
   "cell_type": "markdown",
   "metadata": {
    "papermill": {
     "duration": 0.010003,
     "end_time": "2021-03-28T13:27:45.376868",
     "exception": false,
     "start_time": "2021-03-28T13:27:45.366865",
     "status": "completed"
    },
    "tags": []
   },
   "source": [
    "\n",
    "\n",
    "This notebook contains an example for teaching.\n"
   ]
  },
  {
   "cell_type": "markdown",
   "metadata": {
    "_execution_state": "idle",
    "_uuid": "051d70d956493feee0c6d64651c6a088724dca2a",
    "papermill": {
     "duration": 0.008782,
     "end_time": "2021-03-28T13:27:45.395504",
     "exception": false,
     "start_time": "2021-03-28T13:27:45.386722",
     "status": "completed"
    },
    "tags": []
   },
   "source": [
    "# A Simple Case Study using Wage Data from 2015 - proceeding"
   ]
  },
  {
   "cell_type": "markdown",
   "metadata": {
    "papermill": {
     "duration": 0.008735,
     "end_time": "2021-03-28T13:27:45.413302",
     "exception": false,
     "start_time": "2021-03-28T13:27:45.404567",
     "status": "completed"
    },
    "tags": []
   },
   "source": [
    "So far we considered many machine learning method, e.g Lasso and Random Forests, to build a predictive model. In this lab, we extend our toolbox by predicting wages by a neural network."
   ]
  },
  {
   "cell_type": "markdown",
   "metadata": {
    "papermill": {
     "duration": 0.009256,
     "end_time": "2021-03-28T13:27:45.431663",
     "exception": false,
     "start_time": "2021-03-28T13:27:45.422407",
     "status": "completed"
    },
    "tags": []
   },
   "source": [
    "## Data preparation"
   ]
  },
  {
   "cell_type": "markdown",
   "metadata": {
    "papermill": {
     "duration": 0.0088,
     "end_time": "2021-03-28T13:27:45.449606",
     "exception": false,
     "start_time": "2021-03-28T13:27:45.440806",
     "status": "completed"
    },
    "tags": []
   },
   "source": [
    "Again, we consider data from the U.S. March Supplement of the Current Population Survey (CPS) in 2015."
   ]
  },
  {
   "cell_type": "markdown",
   "metadata": {},
   "source": [
    "\n",
    "\n",
    "This notebook contains an example for teaching.\n",
    "\n",
    "\n",
    "# A Simple Case Study using Wage Data from 2015 - proceeding\n",
    "\n",
    "So far we considered many machine learning method, e.g Lasso and Random Forests, to build a predictive model. In this lab, we extend our toolbox by predicting wages by a neural network.\n",
    "\n",
    "## Data preparation\n",
    "\n",
    "Again, we consider data from the U.S. March Supplement of the Current Population Survey (CPS) in 2015."
   ]
  },
  {
   "cell_type": "code",
   "execution_count": 1,
   "metadata": {},
   "outputs": [],
   "source": [
    "# Import relevant packages\n",
    "import pandas as pd\n",
    "import numpy as np\n",
    "import pyreadr\n",
    "from sklearn import preprocessing\n",
    "import patsy"
   ]
  },
  {
   "cell_type": "code",
   "execution_count": 2,
   "metadata": {},
   "outputs": [
    {
     "data": {
      "text/plain": [
       "pandas.core.frame.DataFrame"
      ]
     },
     "execution_count": 2,
     "metadata": {},
     "output_type": "execute_result"
    }
   ],
   "source": [
    "rdata_read = pyreadr.read_r(\"../data/wage2015_subsample_inference.Rdata\")\n",
    "data = rdata_read[ 'data' ]\n",
    "n = data.shape[0]\n",
    "\n",
    "type(data)\n"
   ]
  },
  {
   "cell_type": "code",
   "execution_count": 3,
   "metadata": {},
   "outputs": [
    {
     "data": {
      "text/plain": [
       "array([2732, 2607, 1653, ..., 4184, 2349, 3462])"
      ]
     },
     "execution_count": 3,
     "metadata": {},
     "output_type": "execute_result"
    }
   ],
   "source": [
    "# Import relevant packages for splitting data\n",
    "import random\n",
    "import math\n",
    "\n",
    "\n",
    "\n",
    "# Set Seed\n",
    "# to make the results replicable (generating random numbers)\n",
    "np.random.seed(0)\n",
    "random = np.random.randint(0, data.shape[0], size=math.floor(data.shape[0]))\n",
    "data[\"random\"] = random\n",
    "random    # the array does not change "
   ]
  },
  {
   "cell_type": "code",
   "execution_count": 4,
   "metadata": {},
   "outputs": [
    {
     "data": {
      "text/html": [
       "<div>\n",
       "<style scoped>\n",
       "    .dataframe tbody tr th:only-of-type {\n",
       "        vertical-align: middle;\n",
       "    }\n",
       "\n",
       "    .dataframe tbody tr th {\n",
       "        vertical-align: top;\n",
       "    }\n",
       "\n",
       "    .dataframe thead th {\n",
       "        text-align: right;\n",
       "    }\n",
       "</style>\n",
       "<table border=\"1\" class=\"dataframe\">\n",
       "  <thead>\n",
       "    <tr style=\"text-align: right;\">\n",
       "      <th></th>\n",
       "      <th>wage</th>\n",
       "      <th>lwage</th>\n",
       "      <th>sex</th>\n",
       "      <th>shs</th>\n",
       "      <th>hsg</th>\n",
       "      <th>scl</th>\n",
       "      <th>clg</th>\n",
       "      <th>ad</th>\n",
       "      <th>mw</th>\n",
       "      <th>so</th>\n",
       "      <th>...</th>\n",
       "      <th>ne</th>\n",
       "      <th>exp1</th>\n",
       "      <th>exp2</th>\n",
       "      <th>exp3</th>\n",
       "      <th>exp4</th>\n",
       "      <th>occ</th>\n",
       "      <th>occ2</th>\n",
       "      <th>ind</th>\n",
       "      <th>ind2</th>\n",
       "      <th>random</th>\n",
       "    </tr>\n",
       "    <tr>\n",
       "      <th>rownames</th>\n",
       "      <th></th>\n",
       "      <th></th>\n",
       "      <th></th>\n",
       "      <th></th>\n",
       "      <th></th>\n",
       "      <th></th>\n",
       "      <th></th>\n",
       "      <th></th>\n",
       "      <th></th>\n",
       "      <th></th>\n",
       "      <th></th>\n",
       "      <th></th>\n",
       "      <th></th>\n",
       "      <th></th>\n",
       "      <th></th>\n",
       "      <th></th>\n",
       "      <th></th>\n",
       "      <th></th>\n",
       "      <th></th>\n",
       "      <th></th>\n",
       "      <th></th>\n",
       "    </tr>\n",
       "  </thead>\n",
       "  <tbody>\n",
       "    <tr>\n",
       "      <th>2223</th>\n",
       "      <td>26.442308</td>\n",
       "      <td>3.274965</td>\n",
       "      <td>1.0</td>\n",
       "      <td>0.0</td>\n",
       "      <td>1.0</td>\n",
       "      <td>0.0</td>\n",
       "      <td>0.0</td>\n",
       "      <td>0.0</td>\n",
       "      <td>0.0</td>\n",
       "      <td>0.0</td>\n",
       "      <td>...</td>\n",
       "      <td>1.0</td>\n",
       "      <td>29.0</td>\n",
       "      <td>8.4100</td>\n",
       "      <td>24.389000</td>\n",
       "      <td>70.728100</td>\n",
       "      <td>340</td>\n",
       "      <td>1</td>\n",
       "      <td>8660</td>\n",
       "      <td>20</td>\n",
       "      <td>0</td>\n",
       "    </tr>\n",
       "    <tr>\n",
       "      <th>3467</th>\n",
       "      <td>19.230769</td>\n",
       "      <td>2.956512</td>\n",
       "      <td>0.0</td>\n",
       "      <td>0.0</td>\n",
       "      <td>0.0</td>\n",
       "      <td>1.0</td>\n",
       "      <td>0.0</td>\n",
       "      <td>0.0</td>\n",
       "      <td>0.0</td>\n",
       "      <td>0.0</td>\n",
       "      <td>...</td>\n",
       "      <td>1.0</td>\n",
       "      <td>33.5</td>\n",
       "      <td>11.2225</td>\n",
       "      <td>37.595375</td>\n",
       "      <td>125.944506</td>\n",
       "      <td>9620</td>\n",
       "      <td>22</td>\n",
       "      <td>1870</td>\n",
       "      <td>5</td>\n",
       "      <td>0</td>\n",
       "    </tr>\n",
       "    <tr>\n",
       "      <th>13501</th>\n",
       "      <td>48.076923</td>\n",
       "      <td>3.872802</td>\n",
       "      <td>1.0</td>\n",
       "      <td>0.0</td>\n",
       "      <td>0.0</td>\n",
       "      <td>0.0</td>\n",
       "      <td>0.0</td>\n",
       "      <td>1.0</td>\n",
       "      <td>1.0</td>\n",
       "      <td>0.0</td>\n",
       "      <td>...</td>\n",
       "      <td>0.0</td>\n",
       "      <td>2.0</td>\n",
       "      <td>0.0400</td>\n",
       "      <td>0.008000</td>\n",
       "      <td>0.001600</td>\n",
       "      <td>3060</td>\n",
       "      <td>10</td>\n",
       "      <td>8190</td>\n",
       "      <td>18</td>\n",
       "      <td>0</td>\n",
       "    </tr>\n",
       "    <tr>\n",
       "      <th>15588</th>\n",
       "      <td>12.019231</td>\n",
       "      <td>2.486508</td>\n",
       "      <td>0.0</td>\n",
       "      <td>0.0</td>\n",
       "      <td>1.0</td>\n",
       "      <td>0.0</td>\n",
       "      <td>0.0</td>\n",
       "      <td>0.0</td>\n",
       "      <td>0.0</td>\n",
       "      <td>1.0</td>\n",
       "      <td>...</td>\n",
       "      <td>0.0</td>\n",
       "      <td>29.0</td>\n",
       "      <td>8.4100</td>\n",
       "      <td>24.389000</td>\n",
       "      <td>70.728100</td>\n",
       "      <td>6440</td>\n",
       "      <td>19</td>\n",
       "      <td>770</td>\n",
       "      <td>4</td>\n",
       "      <td>2</td>\n",
       "    </tr>\n",
       "    <tr>\n",
       "      <th>16049</th>\n",
       "      <td>39.903846</td>\n",
       "      <td>3.686473</td>\n",
       "      <td>1.0</td>\n",
       "      <td>0.0</td>\n",
       "      <td>0.0</td>\n",
       "      <td>0.0</td>\n",
       "      <td>0.0</td>\n",
       "      <td>1.0</td>\n",
       "      <td>0.0</td>\n",
       "      <td>1.0</td>\n",
       "      <td>...</td>\n",
       "      <td>0.0</td>\n",
       "      <td>12.0</td>\n",
       "      <td>1.4400</td>\n",
       "      <td>1.728000</td>\n",
       "      <td>2.073600</td>\n",
       "      <td>1820</td>\n",
       "      <td>5</td>\n",
       "      <td>7860</td>\n",
       "      <td>17</td>\n",
       "      <td>2</td>\n",
       "    </tr>\n",
       "  </tbody>\n",
       "</table>\n",
       "<p>5 rows × 21 columns</p>\n",
       "</div>"
      ],
      "text/plain": [
       "               wage     lwage  sex  shs  hsg  scl  clg   ad   mw   so  ...  \\\n",
       "rownames                                                               ...   \n",
       "2223      26.442308  3.274965  1.0  0.0  1.0  0.0  0.0  0.0  0.0  0.0  ...   \n",
       "3467      19.230769  2.956512  0.0  0.0  0.0  1.0  0.0  0.0  0.0  0.0  ...   \n",
       "13501     48.076923  3.872802  1.0  0.0  0.0  0.0  0.0  1.0  1.0  0.0  ...   \n",
       "15588     12.019231  2.486508  0.0  0.0  1.0  0.0  0.0  0.0  0.0  1.0  ...   \n",
       "16049     39.903846  3.686473  1.0  0.0  0.0  0.0  0.0  1.0  0.0  1.0  ...   \n",
       "\n",
       "           ne  exp1     exp2       exp3        exp4   occ occ2   ind ind2  \\\n",
       "rownames                                                                    \n",
       "2223      1.0  29.0   8.4100  24.389000   70.728100   340    1  8660   20   \n",
       "3467      1.0  33.5  11.2225  37.595375  125.944506  9620   22  1870    5   \n",
       "13501     0.0   2.0   0.0400   0.008000    0.001600  3060   10  8190   18   \n",
       "15588     0.0  29.0   8.4100  24.389000   70.728100  6440   19   770    4   \n",
       "16049     0.0  12.0   1.4400   1.728000    2.073600  1820    5  7860   17   \n",
       "\n",
       "         random  \n",
       "rownames         \n",
       "2223          0  \n",
       "3467          0  \n",
       "13501         0  \n",
       "15588         2  \n",
       "16049         2  \n",
       "\n",
       "[5 rows x 21 columns]"
      ]
     },
     "execution_count": 4,
     "metadata": {},
     "output_type": "execute_result"
    }
   ],
   "source": [
    "data_2 = data.sort_values(by=['random'])\n",
    "data_2.head()"
   ]
  },
  {
   "cell_type": "code",
   "execution_count": 5,
   "metadata": {},
   "outputs": [
    {
     "name": "stdout",
     "output_type": "stream",
     "text": [
      "(3862, 21)\n",
      "(1288, 21)\n"
     ]
    }
   ],
   "source": [
    "# Create training and testing sample \n",
    "data_train = data_2[ : math.floor(n*3/4)]    # training sample\n",
    "data_test =  data_2[ math.floor(n*3/4) : ]   # testing sample\n",
    "print(data_train.shape)\n",
    "print(data_test.shape)"
   ]
  },
  {
   "cell_type": "code",
   "execution_count": 6,
   "metadata": {},
   "outputs": [],
   "source": [
    "data_train = data_train.iloc[:, 0:16]\n",
    "data_test = data_test.iloc[:, 0:16]    "
   ]
  },
  {
   "cell_type": "code",
   "execution_count": 7,
   "metadata": {},
   "outputs": [],
   "source": [
    "# normalize the data\n",
    "\n",
    "scaler = preprocessing.StandardScaler().fit(data_train)\n",
    "scaler = preprocessing.StandardScaler().fit(data_test)\n",
    "\n",
    "data_train_scaled = scaler.transform(data_train)\n",
    "data_test_scaled = scaler.transform(data_test)\n"
   ]
  },
  {
   "cell_type": "markdown",
   "metadata": {},
   "source": [
    "Then, we construct the inputs for our network."
   ]
  },
  {
   "cell_type": "code",
   "execution_count": null,
   "metadata": {},
   "outputs": [],
   "source": [
    "formula_basic = \"lwage ~ sex + exp1 + exp2+ shs + hsg+ scl + clg + mw + so + we + occ2+ ind2\"\n",
    "Y_train, model_X_basic_train = patsy.dmatrices(formula_basic, data_train_scaled, return_type='dataframe')\n",
    "Y_test, model_X_basic_test = patsy.dmatrices(formula_basic, data_test_scaled, return_type='dataframe')\n"
   ]
  },
  {
   "cell_type": "code",
   "execution_count": 8,
   "metadata": {},
   "outputs": [
    {
     "ename": "NameError",
     "evalue": "name 'model_X_basic_test' is not defined",
     "output_type": "error",
     "traceback": [
      "\u001b[1;31m---------------------------------------------------------------------------\u001b[0m",
      "\u001b[1;31mNameError\u001b[0m                                 Traceback (most recent call last)",
      "\u001b[1;32m<ipython-input-8-2f843374b3fe>\u001b[0m in \u001b[0;36m<module>\u001b[1;34m\u001b[0m\n\u001b[1;32m----> 1\u001b[1;33m \u001b[0mmodel_X_basic_test\u001b[0m\u001b[1;33m\u001b[0m\u001b[1;33m\u001b[0m\u001b[0m\n\u001b[0m",
      "\u001b[1;31mNameError\u001b[0m: name 'model_X_basic_test' is not defined"
     ]
    },
    {
     "name": "stdout",
     "output_type": "stream",
     "text": [
      "ERROR! Session/line number was not unique in database. History logging moved to new session 153\n"
     ]
    }
   ],
   "source": [
    "model_X_basic_test"
   ]
  },
  {
   "cell_type": "code",
   "execution_count": null,
   "metadata": {},
   "outputs": [],
   "source": []
  },
  {
   "cell_type": "code",
   "execution_count": null,
   "metadata": {
    "execution": {
     "iopub.execute_input": "2021-02-13T18:19:45.294943Z",
     "iopub.status.busy": "2021-02-13T18:19:45.293619Z",
     "iopub.status.idle": "2021-02-13T18:19:45.347808Z",
     "shell.execute_reply": "2021-02-13T18:19:45.346525Z"
    },
    "papermill": {
     "duration": 0.094135,
     "end_time": "2021-02-13T18:19:45.347955",
     "exception": false,
     "start_time": "2021-02-13T18:19:45.253820",
     "status": "completed"
    },
    "tags": []
   },
   "outputs": [],
   "source": [
    "formula_basic =  \"lwage ~ sex + exp1 + exp2+ shs + hsg+ scl + clg + mw + so + we + occ2+ ind2\"\n",
    "formula_flex = \"lwage ~ sex + exp1 + exp2 + shs+hsg+scl+clg+occ2+ind2+mw+so+we + (exp1+exp2+exp3+exp4)*(shs+hsg+scl+clg+occ2+ind2+mw+so+we)\"\n",
    "\n",
    "y_basic_train, model_X_basic_train = patsy.dmatrices(formula_basic, data_train, return_type='dataframe')\n",
    "y_basic_test, model_X_basic_test = patsy.dmatrices(formula_basic, data_test, return_type='dataframe')\n",
    "p_basic = model_X_basic_train.shape[ 1 ]\n",
    "\n",
    "y_flex_train, model_X_flex_train = patsy.dmatrices(formula_flex, data_train, return_type='dataframe')\n",
    "y_flex_test, model_X_flex_test = patsy.dmatrices(formula_flex, data_test, return_type='dataframe')\n",
    "p_flex = model_X_flex_train.shape[ 1 ]"
   ]
  },
  {
   "cell_type": "code",
   "execution_count": null,
   "metadata": {},
   "outputs": [],
   "source": []
  },
  {
   "cell_type": "code",
   "execution_count": null,
   "metadata": {},
   "outputs": [],
   "source": []
  },
  {
   "cell_type": "code",
   "execution_count": null,
   "metadata": {
    "execution": {
     "iopub.execute_input": "2021-02-13T18:19:45.427620Z",
     "iopub.status.busy": "2021-02-13T18:19:45.425988Z",
     "iopub.status.idle": "2021-02-13T18:19:45.445227Z",
     "shell.execute_reply": "2021-02-13T18:19:45.443481Z"
    },
    "papermill": {
     "duration": 0.060969,
     "end_time": "2021-02-13T18:19:45.445389",
     "exception": false,
     "start_time": "2021-02-13T18:19:45.384420",
     "status": "completed"
    },
    "tags": []
   },
   "outputs": [],
   "source": [
    "Y_train = data_train['lwage']\n",
    "Y_test = data_test['lwage']"
   ]
  },
  {
   "cell_type": "code",
   "execution_count": null,
   "metadata": {},
   "outputs": [],
   "source": []
  }
 ],
 "metadata": {
  "kernelspec": {
   "display_name": "Python 3",
   "language": "python",
   "name": "python3"
  },
  "language_info": {
   "codemirror_mode": {
    "name": "ipython",
    "version": 3
   },
   "file_extension": ".py",
   "mimetype": "text/x-python",
   "name": "python",
   "nbconvert_exporter": "python",
   "pygments_lexer": "ipython3",
   "version": "3.8.5"
  }
 },
 "nbformat": 4,
 "nbformat_minor": 4
}
