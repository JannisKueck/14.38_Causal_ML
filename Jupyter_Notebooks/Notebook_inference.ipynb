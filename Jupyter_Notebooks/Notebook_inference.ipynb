{
 "cells": [
  {
   "cell_type": "markdown",
   "metadata": {},
   "source": [
    "# An inferential problem: The Gender Wage Gap"
   ]
  },
  {
   "cell_type": "code",
   "execution_count": 1,
   "metadata": {},
   "outputs": [],
   "source": [
    "import pandas as pd\n",
    "import numpy as np\n",
    "import pyreadr"
   ]
  },
  {
   "cell_type": "code",
   "execution_count": 2,
   "metadata": {},
   "outputs": [],
   "source": [
    "rdata_read = pyreadr.read_r(\"../data/wage2015_subsample_inference.Rdata\")"
   ]
  },
  {
   "cell_type": "code",
   "execution_count": 3,
   "metadata": {},
   "outputs": [
    {
     "name": "stdout",
     "output_type": "stream",
     "text": [
      "odict_keys(['data'])\n"
     ]
    }
   ],
   "source": [
    "# Which elements are inside this object\n",
    "print( rdata_read.keys() )"
   ]
  },
  {
   "cell_type": "code",
   "execution_count": 4,
   "metadata": {},
   "outputs": [],
   "source": [
    "# Extracting the data frame from rdata_read\n",
    "data = rdata_read[ 'data' ]"
   ]
  },
  {
   "cell_type": "code",
   "execution_count": 5,
   "metadata": {},
   "outputs": [],
   "source": [
    "Z = data[ [\"lwage\",\"sex\",\"shs\",\"hsg\",\"scl\",\"clg\",\"ad\",\"ne\",\"mw\",\"so\",\"we\",\"exp1\"] ]\n",
    "\n",
    "data_female = data[data[ 'sex' ] == 1 ]\n",
    "Z_female = data_female[ [\"lwage\",\"sex\",\"shs\",\"hsg\",\"scl\",\"clg\",\"ad\",\"ne\",\"mw\",\"so\",\"we\",\"exp1\"] ]\n",
    "\n",
    "data_male = data[ data[ 'sex' ] == 0 ]\n",
    "Z_male = data_male[ [ \"lwage\",\"sex\",\"shs\",\"hsg\",\"scl\",\"clg\",\"ad\",\"ne\",\"mw\",\"so\",\"we\",\"exp1\" ] ]\n"
   ]
  },
  {
   "cell_type": "markdown",
   "metadata": {},
   "source": [
    "## Sumarize mean values"
   ]
  },
  {
   "cell_type": "code",
   "execution_count": 6,
   "metadata": {},
   "outputs": [],
   "source": [
    "table = np.zeros( (12, 3) )"
   ]
  },
  {
   "cell_type": "code",
   "execution_count": 7,
   "metadata": {},
   "outputs": [],
   "source": [
    "table[:, 0] = Z.mean().values\n",
    "table[:, 1] = Z_male.mean().values\n",
    "table[:, 2] = Z_female.mean().values"
   ]
  },
  {
   "cell_type": "code",
   "execution_count": 8,
   "metadata": {},
   "outputs": [
    {
     "data": {
      "text/html": [
       "<div>\n",
       "<style scoped>\n",
       "    .dataframe tbody tr th:only-of-type {\n",
       "        vertical-align: middle;\n",
       "    }\n",
       "\n",
       "    .dataframe tbody tr th {\n",
       "        vertical-align: top;\n",
       "    }\n",
       "\n",
       "    .dataframe thead th {\n",
       "        text-align: right;\n",
       "    }\n",
       "</style>\n",
       "<table border=\"1\" class=\"dataframe\">\n",
       "  <thead>\n",
       "    <tr style=\"text-align: right;\">\n",
       "      <th></th>\n",
       "      <th>All</th>\n",
       "      <th>Men</th>\n",
       "      <th>Women</th>\n",
       "    </tr>\n",
       "  </thead>\n",
       "  <tbody>\n",
       "    <tr>\n",
       "      <th>Log Wage</th>\n",
       "      <td>2.970787</td>\n",
       "      <td>2.987830</td>\n",
       "      <td>2.949485</td>\n",
       "    </tr>\n",
       "    <tr>\n",
       "      <th>Sex</th>\n",
       "      <td>0.444466</td>\n",
       "      <td>0.000000</td>\n",
       "      <td>1.000000</td>\n",
       "    </tr>\n",
       "    <tr>\n",
       "      <th>Less then High School</th>\n",
       "      <td>0.023301</td>\n",
       "      <td>0.031807</td>\n",
       "      <td>0.012669</td>\n",
       "    </tr>\n",
       "    <tr>\n",
       "      <th>High School Graduate</th>\n",
       "      <td>0.243883</td>\n",
       "      <td>0.294303</td>\n",
       "      <td>0.180865</td>\n",
       "    </tr>\n",
       "    <tr>\n",
       "      <th>Some College</th>\n",
       "      <td>0.278058</td>\n",
       "      <td>0.273331</td>\n",
       "      <td>0.283967</td>\n",
       "    </tr>\n",
       "    <tr>\n",
       "      <th>Gollage Graduate</th>\n",
       "      <td>0.317670</td>\n",
       "      <td>0.293953</td>\n",
       "      <td>0.347313</td>\n",
       "    </tr>\n",
       "    <tr>\n",
       "      <th>Advanced Degree</th>\n",
       "      <td>0.137087</td>\n",
       "      <td>0.106606</td>\n",
       "      <td>0.175186</td>\n",
       "    </tr>\n",
       "    <tr>\n",
       "      <th>Northeast</th>\n",
       "      <td>0.227767</td>\n",
       "      <td>0.221950</td>\n",
       "      <td>0.235037</td>\n",
       "    </tr>\n",
       "    <tr>\n",
       "      <th>Midwest</th>\n",
       "      <td>0.259612</td>\n",
       "      <td>0.259000</td>\n",
       "      <td>0.260376</td>\n",
       "    </tr>\n",
       "    <tr>\n",
       "      <th>South</th>\n",
       "      <td>0.296505</td>\n",
       "      <td>0.298148</td>\n",
       "      <td>0.294452</td>\n",
       "    </tr>\n",
       "    <tr>\n",
       "      <th>West</th>\n",
       "      <td>0.216117</td>\n",
       "      <td>0.220902</td>\n",
       "      <td>0.210135</td>\n",
       "    </tr>\n",
       "    <tr>\n",
       "      <th>Experience</th>\n",
       "      <td>13.760583</td>\n",
       "      <td>13.783992</td>\n",
       "      <td>13.731324</td>\n",
       "    </tr>\n",
       "  </tbody>\n",
       "</table>\n",
       "</div>"
      ],
      "text/plain": [
       "                             All        Men      Women\n",
       "Log Wage                2.970787   2.987830   2.949485\n",
       "Sex                     0.444466   0.000000   1.000000\n",
       "Less then High School   0.023301   0.031807   0.012669\n",
       "High School Graduate    0.243883   0.294303   0.180865\n",
       "Some College            0.278058   0.273331   0.283967\n",
       "Gollage Graduate        0.317670   0.293953   0.347313\n",
       "Advanced Degree         0.137087   0.106606   0.175186\n",
       "Northeast               0.227767   0.221950   0.235037\n",
       "Midwest                 0.259612   0.259000   0.260376\n",
       "South                   0.296505   0.298148   0.294452\n",
       "West                    0.216117   0.220902   0.210135\n",
       "Experience             13.760583  13.783992  13.731324"
      ]
     },
     "execution_count": 8,
     "metadata": {},
     "output_type": "execute_result"
    }
   ],
   "source": [
    "table_pandas = pd.DataFrame( table, columns = [ 'All', 'Men', 'Women'])\n",
    "table_pandas.index = [\"Log Wage\",\"Sex\",\"Less then High School\",\"High School Graduate\",\"Some College\",\"Gollage Graduate\",\"Advanced Degree\", \"Northeast\",\"Midwest\",\"South\",\"West\",\"Experience\"]\n",
    "table_pandas"
   ]
  },
  {
   "cell_type": "code",
   "execution_count": 9,
   "metadata": {},
   "outputs": [
    {
     "data": {
      "text/plain": [
       "-0.03834473367441493"
      ]
     },
     "execution_count": 9,
     "metadata": {},
     "output_type": "execute_result"
    }
   ],
   "source": [
    "data_female['lwage'].mean() - data_male['lwage'].mean()"
   ]
  },
  {
   "cell_type": "code",
   "execution_count": 10,
   "metadata": {},
   "outputs": [],
   "source": [
    "import statsmodels.api as sm\n",
    "import statsmodels.formula.api as smf"
   ]
  },
  {
   "cell_type": "markdown",
   "metadata": {},
   "source": [
    "## Nocontrol Model"
   ]
  },
  {
   "cell_type": "code",
   "execution_count": 11,
   "metadata": {},
   "outputs": [],
   "source": [
    "nocontrol_model = smf.ols( formula = 'lwage ~ sex', data = data )"
   ]
  },
  {
   "cell_type": "code",
   "execution_count": 12,
   "metadata": {},
   "outputs": [],
   "source": [
    "nocontrol_est = nocontrol_model.fit().summary2().tables[1]['Coef.']['sex']"
   ]
  },
  {
   "cell_type": "code",
   "execution_count": 13,
   "metadata": {},
   "outputs": [],
   "source": [
    "# Principal covariables\n",
    "\n",
    "lwage = data[[ 'lwage' ]].values\n",
    "sex = data[[ 'sex' ]].values\n",
    "X = sm.add_constant( sex )"
   ]
  },
  {
   "cell_type": "code",
   "execution_count": 14,
   "metadata": {},
   "outputs": [],
   "source": [
    "# In Math\n",
    "\n",
    "xtx_inv = np.linalg.inv(np.transpose( X ).dot( X ))\n",
    "\n",
    "HCV_coefs = xtx_inv.dot(np.transpose(X)).dot(np.diag(nocontrol_model.fit().resid**2)).dot(X).dot(xtx_inv)\n",
    "\n",
    "nocontrol_se = np.power( HCV_coefs.diagonal() , 0.5)[1]"
   ]
  },
  {
   "cell_type": "code",
   "execution_count": 15,
   "metadata": {},
   "outputs": [],
   "source": [
    "# With built-in functions\n",
    "HCV_coefs = nocontrol_model.fit().cov_HC0\n",
    "\n",
    "nocontrol_se = np.power( HCV_coefs.diagonal() , 0.5)[1]"
   ]
  },
  {
   "cell_type": "code",
   "execution_count": 16,
   "metadata": {},
   "outputs": [
    {
     "name": "stdout",
     "output_type": "stream",
     "text": [
      "The estimated gender coefficient is -0.03834473367441481 and the corresponding robust standard error is 0.01590193507909572\n"
     ]
    }
   ],
   "source": [
    "print( f'The estimated gender coefficient is {nocontrol_est} and the corresponding robust standard error is {nocontrol_se}' )"
   ]
  },
  {
   "cell_type": "markdown",
   "metadata": {},
   "source": [
    "## Control Model"
   ]
  },
  {
   "cell_type": "code",
   "execution_count": 17,
   "metadata": {},
   "outputs": [
    {
     "name": "stdout",
     "output_type": "stream",
     "text": [
      "Coefficient for OLS with controls -0.06955320329684744\n"
     ]
    }
   ],
   "source": [
    "flex = 'lwage ~ sex + (exp1+exp2+exp3+exp4)*(shs+hsg+scl+clg+occ2+ind2+mw+so+we)'\n",
    "\n",
    "control_model = smf.ols( formula = flex, data = data )\n",
    "\n",
    "control_est = control_model.fit().summary2().tables[1]['Coef.']['sex']\n",
    "\n",
    "print( f\"Coefficient for OLS with controls {control_est}\" )\n",
    "\n",
    "HCV_coefs = control_model.fit().cov_HC0\n",
    "control_se = np.power( HCV_coefs.diagonal() , 0.5)[1]"
   ]
  },
  {
   "cell_type": "markdown",
   "metadata": {},
   "source": [
    "## Partialling-Out using ols"
   ]
  },
  {
   "cell_type": "code",
   "execution_count": 18,
   "metadata": {},
   "outputs": [],
   "source": [
    "# models\n",
    "# model for Y\n",
    "flex_y = 'lwage ~  (exp1+exp2+exp3+exp4)*(shs+hsg+scl+clg+occ2+ind2+mw+so+we)'\n",
    "\n",
    "# model for D\n",
    "flex_d = 'sex ~ (exp1+exp2+exp3+exp4)*(shs+hsg+scl+clg+occ2+ind2+mw+so+we)' "
   ]
  },
  {
   "cell_type": "code",
   "execution_count": 19,
   "metadata": {},
   "outputs": [],
   "source": [
    "# partialling-out the linear effect of W from Y\n",
    "t_Y = smf.ols( formula = flex_y , data = data ).fit().resid\n",
    "\n",
    "# partialling-out the linear effect of W from D\n",
    "t_D = smf.ols( formula = flex_d , data = data ).fit().resid\n",
    "\n",
    "data_res = pd.DataFrame( np.vstack(( t_Y.values , t_D.values )).T , columns = [ 't_Y', 't_D' ] )"
   ]
  },
  {
   "cell_type": "code",
   "execution_count": 20,
   "metadata": {},
   "outputs": [],
   "source": [
    "# regression of Y on D after partialling-out the effect of W\n",
    "partial_fit =  smf.ols( formula = 't_Y ~ t_D' , data = data_res ).fit()"
   ]
  },
  {
   "cell_type": "code",
   "execution_count": 21,
   "metadata": {},
   "outputs": [],
   "source": [
    "partial_est = partial_fit.summary2().tables[1]['Coef.']['t_D']"
   ]
  },
  {
   "cell_type": "code",
   "execution_count": 22,
   "metadata": {},
   "outputs": [
    {
     "name": "stdout",
     "output_type": "stream",
     "text": [
      "Coefficient for D via partialling-out -0.06955320329684613\n"
     ]
    }
   ],
   "source": [
    "print(\"Coefficient for D via partialling-out\", partial_est)"
   ]
  },
  {
   "cell_type": "code",
   "execution_count": 23,
   "metadata": {},
   "outputs": [],
   "source": [
    "# standard error\n",
    "HCV_coefs = partial_fit.cov_HC0\n",
    "partial_se = np.power( HCV_coefs.diagonal() , 0.5)[1]"
   ]
  },
  {
   "cell_type": "code",
   "execution_count": 24,
   "metadata": {},
   "outputs": [
    {
     "data": {
      "text/plain": [
       "0   -0.098671\n",
       "1   -0.040435\n",
       "Name: t_D, dtype: float64"
      ]
     },
     "execution_count": 24,
     "metadata": {},
     "output_type": "execute_result"
    }
   ],
   "source": [
    "# confidence interval\n",
    "\n",
    "partial_fit.conf_int( alpha=0.05 ).iloc[1, :]"
   ]
  },
  {
   "cell_type": "markdown",
   "metadata": {},
   "source": [
    "## Partialling-Out using lasso"
   ]
  },
  {
   "cell_type": "code",
   "execution_count": 25,
   "metadata": {},
   "outputs": [],
   "source": [
    "# models\n",
    "# model for Y\n",
    "flex_y = 'lwage ~  (exp1+exp2+exp3+exp4)*(shs+hsg+scl+clg+occ2+ind2+mw+so+we)'\n",
    "\n",
    "# model for D\n",
    "flex_d = 'sex ~ (exp1+exp2+exp3+exp4)*(shs+hsg+scl+clg+occ2+ind2+mw+so+we)'"
   ]
  },
  {
   "cell_type": "markdown",
   "metadata": {},
   "source": [
    "### With Statsmodels"
   ]
  },
  {
   "cell_type": "code",
   "execution_count": 26,
   "metadata": {},
   "outputs": [],
   "source": [
    "# partialling-out the linear effect of W from Y\n",
    "Y_lasso_fitted = smf.ols(formula = flex_y, data = data).fit_regularized( method='elastic_net', alpha=0.0, L1_wt=1.0 ,  start_params = None, profile_scale = False, refit = False ).fittedvalues\n",
    "t_Y = lwage - Y_lasso_fitted.values.reshape( Y_lasso_fitted.values.size, 1 )\n",
    "\n",
    "\n",
    "D_lasso_fitted = smf.ols( flex_d, data=data).fit_regularized( method = 'elastic_net', alpha = 0.0, L1_wt = 1.0 ,  start_params = None, profile_scale = False, refit = False ).fittedvalues\n",
    "t_D = lwage - D_lasso_fitted.values.reshape( D_lasso_fitted.values.size, 1 )\n"
   ]
  },
  {
   "cell_type": "code",
   "execution_count": 28,
   "metadata": {},
   "outputs": [],
   "source": [
    "from sklearn import linear_model"
   ]
  },
  {
   "cell_type": "code",
   "execution_count": 29,
   "metadata": {},
   "outputs": [],
   "source": [
    "lasso_model = linear_model.Lasso(alpha=0.1)"
   ]
  },
  {
   "cell_type": "markdown",
   "metadata": {},
   "source": [
    "### With Sklearn"
   ]
  },
  {
   "cell_type": "code",
   "execution_count": 30,
   "metadata": {},
   "outputs": [],
   "source": [
    "# Flex_y\n",
    "\n",
    "covariables_flex_y = smf.ols(formula = flex_y, data = data)\n",
    "\n",
    "Y_lasso_fitted = lasso_model.fit( covariables_flex_y.exog, lwage ).predict( covariables_flex_y.exog )\n",
    "\n",
    "t_Y = lwage - Y_lasso_fitted.reshape( Y_lasso_fitted.size, 1)"
   ]
  },
  {
   "cell_type": "code",
   "execution_count": 31,
   "metadata": {},
   "outputs": [],
   "source": [
    "# Flex_d\n",
    "covariables_flex_d = smf.ols( flex_d, data=data)\n",
    "\n",
    "D_lasso_fitted = lasso_model.fit( covariables_flex_d.exog, lwage ).predict( covariables_flex_d.exog )\n",
    "\n",
    "t_D = lwage - D_lasso_fitted.reshape( D_lasso_fitted.size, 1)"
   ]
  },
  {
   "cell_type": "code",
   "execution_count": 32,
   "metadata": {},
   "outputs": [],
   "source": [
    "data_res = pd.DataFrame( np.hstack(( t_Y , t_D )) , columns = [ 't_Y', 't_D' ] )"
   ]
  },
  {
   "cell_type": "code",
   "execution_count": 33,
   "metadata": {},
   "outputs": [],
   "source": [
    "# regression of Y on D after partialling-out the effect of W\n",
    "partial_lasso_fit = smf.ols( formula = 't_Y ~ t_D' , data = data_res ).fit()\n",
    "partial_lasso_est = partial_fit.summary2().tables[1]['Coef.']['t_D']"
   ]
  },
  {
   "cell_type": "code",
   "execution_count": 34,
   "metadata": {},
   "outputs": [
    {
     "name": "stdout",
     "output_type": "stream",
     "text": [
      "Coefficient for D via partialling-out using lasso, -0.06955320329684613\n"
     ]
    }
   ],
   "source": [
    "print( f\"Coefficient for D via partialling-out using lasso, {partial_lasso_est}\")"
   ]
  },
  {
   "cell_type": "code",
   "execution_count": 35,
   "metadata": {},
   "outputs": [],
   "source": [
    "# standard error\n",
    "HCV_coefs = partial_lasso_fit.cov_HC0\n",
    "partial_lasso_se = np.power( HCV_coefs.diagonal() , 0.5)[1]"
   ]
  },
  {
   "cell_type": "markdown",
   "metadata": {},
   "source": [
    "## Summarize the results"
   ]
  },
  {
   "cell_type": "code",
   "execution_count": 36,
   "metadata": {},
   "outputs": [],
   "source": [
    "table2 = np.zeros( (4, 2) )"
   ]
  },
  {
   "cell_type": "code",
   "execution_count": 37,
   "metadata": {},
   "outputs": [],
   "source": [
    "table2[0,0] = nocontrol_est  \n",
    "table2[0,1] = nocontrol_se   \n",
    "table2[1,0] = control_est\n",
    "table2[1,1] = control_se    \n",
    "table2[2,0] = partial_est  \n",
    "table2[2,1] = partial_se  \n",
    "table2[3,0] =  partial_lasso_est\n",
    "table2[3,1] = partial_lasso_se "
   ]
  },
  {
   "cell_type": "code",
   "execution_count": 38,
   "metadata": {},
   "outputs": [
    {
     "data": {
      "text/html": [
       "<div>\n",
       "<style scoped>\n",
       "    .dataframe tbody tr th:only-of-type {\n",
       "        vertical-align: middle;\n",
       "    }\n",
       "\n",
       "    .dataframe tbody tr th {\n",
       "        vertical-align: top;\n",
       "    }\n",
       "\n",
       "    .dataframe thead th {\n",
       "        text-align: right;\n",
       "    }\n",
       "</style>\n",
       "<table border=\"1\" class=\"dataframe\">\n",
       "  <thead>\n",
       "    <tr style=\"text-align: right;\">\n",
       "      <th></th>\n",
       "      <th>Estimate</th>\n",
       "      <th>Std. Error</th>\n",
       "    </tr>\n",
       "  </thead>\n",
       "  <tbody>\n",
       "    <tr>\n",
       "      <th>Without controls</th>\n",
       "      <td>-0.038345</td>\n",
       "      <td>1.590194e-02</td>\n",
       "    </tr>\n",
       "    <tr>\n",
       "      <th>full reg</th>\n",
       "      <td>-0.069553</td>\n",
       "      <td>1.446080e-01</td>\n",
       "    </tr>\n",
       "    <tr>\n",
       "      <th>partial reg</th>\n",
       "      <td>-0.069553</td>\n",
       "      <td>1.500047e-02</td>\n",
       "    </tr>\n",
       "    <tr>\n",
       "      <th>partial reg via lasso</th>\n",
       "      <td>-0.069553</td>\n",
       "      <td>1.429019e-17</td>\n",
       "    </tr>\n",
       "  </tbody>\n",
       "</table>\n",
       "</div>"
      ],
      "text/plain": [
       "                       Estimate    Std. Error\n",
       "Without controls      -0.038345  1.590194e-02\n",
       "full reg              -0.069553  1.446080e-01\n",
       "partial reg           -0.069553  1.500047e-02\n",
       "partial reg via lasso -0.069553  1.429019e-17"
      ]
     },
     "execution_count": 38,
     "metadata": {},
     "output_type": "execute_result"
    }
   ],
   "source": [
    "table2_pandas = pd.DataFrame( table2, columns = [ \"Estimate\",\"Std. Error\" ])\n",
    "table2_pandas.index = [ \"Without controls\", \"full reg\", \"partial reg\", \"partial reg via lasso\" ]\n",
    "table2_pandas"
   ]
  },
  {
   "cell_type": "markdown",
   "metadata": {},
   "source": [
    "## \"Extra\" flexible model"
   ]
  },
  {
   "cell_type": "code",
   "execution_count": 39,
   "metadata": {},
   "outputs": [],
   "source": [
    "extraflex = 'lwage ~ sex + (exp1+exp2+exp3+exp4+shs+hsg+scl+clg+occ2+ind2+mw+so+we)**2'\n",
    "\n",
    "control_fit = smf.ols( formula = extraflex, data=data).fit()\n",
    "\n"
   ]
  },
  {
   "cell_type": "code",
   "execution_count": 40,
   "metadata": {},
   "outputs": [],
   "source": [
    "#summary( control_fit )\n",
    "control_est = control_fit.summary2().tables[1]['Coef.']['sex']"
   ]
  },
  {
   "cell_type": "code",
   "execution_count": 41,
   "metadata": {},
   "outputs": [
    {
     "name": "stdout",
     "output_type": "stream",
     "text": [
      "Number of Extra-Flex Controls 979 \n",
      "Coefficient for OLS with extra flex controls -0.061270463794010514\n"
     ]
    }
   ],
   "source": [
    "print( f\"Number of Extra-Flex Controls {control_fit.summary2().tables[1].shape[0]-1} \\nCoefficient for OLS with extra flex controls {control_est}\" )"
   ]
  },
  {
   "cell_type": "code",
   "execution_count": 42,
   "metadata": {},
   "outputs": [],
   "source": [
    "# standard error\n",
    "HCV_coefs = control_fit.cov_HC0"
   ]
  },
  {
   "cell_type": "code",
   "execution_count": 43,
   "metadata": {},
   "outputs": [],
   "source": [
    "n= len(data[ 'wage' ])"
   ]
  },
  {
   "cell_type": "code",
   "execution_count": 44,
   "metadata": {},
   "outputs": [],
   "source": [
    "p = len(control_fit.summary2().tables[1]['Coef.'])"
   ]
  },
  {
   "cell_type": "code",
   "execution_count": 45,
   "metadata": {},
   "outputs": [],
   "source": [
    "control_se = np.power( HCV_coefs.diagonal() , 0.5)[1]*n/(n-p)"
   ]
  },
  {
   "cell_type": "markdown",
   "metadata": {},
   "source": [
    "## Laso \"Extra\" Flexible model"
   ]
  },
  {
   "cell_type": "code",
   "execution_count": 46,
   "metadata": {},
   "outputs": [],
   "source": [
    "# models\n",
    "# model for Y\n",
    "extraflex_y = 'lwage ~  (exp1+exp2+exp3+exp4+shs+hsg+scl+clg+occ2+ind2+mw+so+we)**2'\n",
    "\n",
    "# model for \n",
    "extraflex_d = 'sex ~ (exp1+exp2+exp3+exp4+shs+hsg+scl+clg+occ2+ind2+mw+so+we)**2'"
   ]
  },
  {
   "cell_type": "markdown",
   "metadata": {},
   "source": [
    "### With SKlearn"
   ]
  },
  {
   "cell_type": "code",
   "execution_count": 47,
   "metadata": {},
   "outputs": [
    {
     "name": "stderr",
     "output_type": "stream",
     "text": [
      "c:\\python\\python38\\lib\\site-packages\\sklearn\\linear_model\\_coordinate_descent.py:529: ConvergenceWarning: Objective did not converge. You might want to increase the number of iterations. Duality gap: 351.0313404454811, tolerance: 0.1675169484647611\n",
      "  model = cd_fast.enet_coordinate_descent(\n",
      "c:\\python\\python38\\lib\\site-packages\\sklearn\\linear_model\\_coordinate_descent.py:529: ConvergenceWarning: Objective did not converge. You might want to increase the number of iterations. Duality gap: 351.0313404454811, tolerance: 0.1675169484647611\n",
      "  model = cd_fast.enet_coordinate_descent(\n"
     ]
    }
   ],
   "source": [
    "# extraflex_y\n",
    "lasso_model = linear_model.Lasso(alpha=0.1)\n",
    "\n",
    "extraflex_y_covariables = smf.ols(formula = extraflex_y, data = data)\n",
    "\n",
    "Y_lasso_fitted = lasso_model.fit( extraflex_y_covariables.exog, lwage ).predict( extraflex_y_covariables.exog )\n",
    "\n",
    "t_Y = lwage - Y_lasso_fitted.reshape( Y_lasso_fitted.size, 1)\n",
    "\n",
    "# extraflex_d\n",
    "extraflex_d_covariables = smf.ols( extraflex_d, data=data)\n",
    "\n",
    "D_lasso_fitted = lasso_model.fit( extraflex_d_covariables.exog, lwage ).predict( extraflex_d_covariables.exog )\n",
    "\n",
    "t_D = lwage - D_lasso_fitted.reshape( D_lasso_fitted.size, 1)"
   ]
  },
  {
   "cell_type": "code",
   "execution_count": 48,
   "metadata": {},
   "outputs": [],
   "source": [
    "data_res = pd.DataFrame( np.hstack(( t_Y , t_D )) , columns = [ 't_Y', 't_D' ] )"
   ]
  },
  {
   "cell_type": "code",
   "execution_count": 49,
   "metadata": {},
   "outputs": [],
   "source": [
    "# regression of Y on D after partialling-out the effect of W\n",
    "partial_lasso_fit = smf.ols( formula = 't_Y ~ t_D' , data = data_res ).fit()\n",
    "partial_lasso_est = partial_fit.summary2().tables[1]['Coef.']['t_D']"
   ]
  },
  {
   "cell_type": "code",
   "execution_count": 50,
   "metadata": {},
   "outputs": [
    {
     "name": "stdout",
     "output_type": "stream",
     "text": [
      "Coefficient for D via partialling-out using lasso -0.06955320329684613\n"
     ]
    }
   ],
   "source": [
    "print( f\"Coefficient for D via partialling-out using lasso {partial_lasso_est}\" )"
   ]
  },
  {
   "cell_type": "code",
   "execution_count": 51,
   "metadata": {},
   "outputs": [],
   "source": [
    "# standard error\n",
    "HCV_coefs = partial_lasso_fit.cov_HC0\n",
    "partial_lasso_se = np.power( HCV_coefs.diagonal() , 0.5)[1]"
   ]
  },
  {
   "cell_type": "code",
   "execution_count": 52,
   "metadata": {},
   "outputs": [
    {
     "data": {
      "text/plain": [
       "2.7384487301008737e-17"
      ]
     },
     "execution_count": 52,
     "metadata": {},
     "output_type": "execute_result"
    }
   ],
   "source": [
    "partial_lasso_se"
   ]
  },
  {
   "cell_type": "markdown",
   "metadata": {},
   "source": [
    "## Summarize the results"
   ]
  },
  {
   "cell_type": "code",
   "execution_count": 53,
   "metadata": {},
   "outputs": [],
   "source": [
    "table3 = np.zeros( ( 2, 2 ) )"
   ]
  },
  {
   "cell_type": "code",
   "execution_count": 54,
   "metadata": {},
   "outputs": [],
   "source": [
    "table3[0,0] = control_est\n",
    "table3[0,1] = control_se    \n",
    "table3[1,0] =  partial_lasso_est\n",
    "table3[1,1] = partial_lasso_se "
   ]
  },
  {
   "cell_type": "code",
   "execution_count": 55,
   "metadata": {},
   "outputs": [
    {
     "data": {
      "text/html": [
       "<div>\n",
       "<style scoped>\n",
       "    .dataframe tbody tr th:only-of-type {\n",
       "        vertical-align: middle;\n",
       "    }\n",
       "\n",
       "    .dataframe tbody tr th {\n",
       "        vertical-align: top;\n",
       "    }\n",
       "\n",
       "    .dataframe thead th {\n",
       "        text-align: right;\n",
       "    }\n",
       "</style>\n",
       "<table border=\"1\" class=\"dataframe\">\n",
       "  <thead>\n",
       "    <tr style=\"text-align: right;\">\n",
       "      <th></th>\n",
       "      <th>Estimate</th>\n",
       "      <th>Std. Error</th>\n",
       "    </tr>\n",
       "  </thead>\n",
       "  <tbody>\n",
       "    <tr>\n",
       "      <th>full reg</th>\n",
       "      <td>-0.061270</td>\n",
       "      <td>0.212402</td>\n",
       "    </tr>\n",
       "    <tr>\n",
       "      <th>partial reg via lasso</th>\n",
       "      <td>-0.069553</td>\n",
       "      <td>0.000000</td>\n",
       "    </tr>\n",
       "  </tbody>\n",
       "</table>\n",
       "</div>"
      ],
      "text/plain": [
       "                       Estimate  Std. Error\n",
       "full reg              -0.061270    0.212402\n",
       "partial reg via lasso -0.069553    0.000000"
      ]
     },
     "execution_count": 55,
     "metadata": {},
     "output_type": "execute_result"
    }
   ],
   "source": [
    "table3_pandas = pd.DataFrame( table3, columns = [ \"Estimate\",\"Std. Error\" ])\n",
    "table3_pandas.index = [ \"full reg\",\"partial reg via lasso\" ]\n",
    "table3_pandas.round(8)"
   ]
  }
 ],
 "metadata": {
  "hide_input": false,
  "kernelspec": {
   "display_name": "Python 3",
   "language": "python",
   "name": "python3"
  },
  "language_info": {
   "codemirror_mode": {
    "name": "ipython",
    "version": 3
   },
   "file_extension": ".py",
   "mimetype": "text/x-python",
   "name": "python",
   "nbconvert_exporter": "python",
   "pygments_lexer": "ipython3",
   "version": "3.8.6"
  }
 },
 "nbformat": 4,
 "nbformat_minor": 4
}
