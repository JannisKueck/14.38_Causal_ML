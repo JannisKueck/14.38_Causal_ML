{
 "cells": [
  {
   "cell_type": "markdown",
   "metadata": {
    "papermill": {
     "duration": 0.011184,
     "end_time": "2021-02-28T17:17:25.882205",
     "exception": false,
     "start_time": "2021-02-28T17:17:25.871021",
     "status": "completed"
    },
    "tags": []
   },
   "source": [
    "# Application: Heterogeneous Effect of Gender on Wage Using Double Lasso\n",
    "\n",
    " We use US census data from the year 2012 to analyse the effect of gender and interaction effects of other variables with gender on wage jointly. The dependent variable is the logarithm of the wage, the target variable is *female* (in combination with other variables). All other variables denote some other socio-economic characteristics, e.g. marital status, education, and experience.  For a detailed description of the variables we refer to the help page.\n",
    "\n",
    "\n",
    "\n",
    "This analysis allows a closer look how discrimination according to gender is related to other socio-economic variables.\n",
    "\n"
   ]
  },
  {
   "cell_type": "code",
   "execution_count": 88,
   "metadata": {},
   "outputs": [],
   "source": [
    "import hdmpy\n",
    "import pyreadr\n",
    "import patsy\n",
    "import numpy as np\n",
    "import pandas as pd\n",
    "import matplotlib.pyplot as plt\n",
    "from matplotlib.pyplot import figure\n",
    "from scipy import stats\n",
    "import numpy as np\n",
    "import scipy.linalg as sci_lag"
   ]
  },
  {
   "cell_type": "code",
   "execution_count": 2,
   "metadata": {},
   "outputs": [
    {
     "data": {
      "text/html": [
       "<div>\n",
       "<style scoped>\n",
       "    .dataframe tbody tr th:only-of-type {\n",
       "        vertical-align: middle;\n",
       "    }\n",
       "\n",
       "    .dataframe tbody tr th {\n",
       "        vertical-align: top;\n",
       "    }\n",
       "\n",
       "    .dataframe thead th {\n",
       "        text-align: right;\n",
       "    }\n",
       "</style>\n",
       "<table border=\"1\" class=\"dataframe\">\n",
       "  <thead>\n",
       "    <tr style=\"text-align: right;\">\n",
       "      <th></th>\n",
       "      <th>year</th>\n",
       "      <th>lnw</th>\n",
       "      <th>female</th>\n",
       "      <th>widowed</th>\n",
       "      <th>divorced</th>\n",
       "      <th>separated</th>\n",
       "      <th>nevermarried</th>\n",
       "      <th>hsd08</th>\n",
       "      <th>hsd911</th>\n",
       "      <th>hsg</th>\n",
       "      <th>cg</th>\n",
       "      <th>ad</th>\n",
       "      <th>mw</th>\n",
       "      <th>so</th>\n",
       "      <th>we</th>\n",
       "      <th>exp1</th>\n",
       "      <th>exp2</th>\n",
       "      <th>exp3</th>\n",
       "      <th>exp4</th>\n",
       "      <th>weight</th>\n",
       "    </tr>\n",
       "  </thead>\n",
       "  <tbody>\n",
       "    <tr>\n",
       "      <th>count</th>\n",
       "      <td>29217.0</td>\n",
       "      <td>29217.000000</td>\n",
       "      <td>29217.000000</td>\n",
       "      <td>29217.000000</td>\n",
       "      <td>29217.000000</td>\n",
       "      <td>29217.000000</td>\n",
       "      <td>29217.000000</td>\n",
       "      <td>29217.000000</td>\n",
       "      <td>29217.000000</td>\n",
       "      <td>29217.000000</td>\n",
       "      <td>29217.000000</td>\n",
       "      <td>29217.000000</td>\n",
       "      <td>29217.000000</td>\n",
       "      <td>29217.000000</td>\n",
       "      <td>29217.000000</td>\n",
       "      <td>29217.000000</td>\n",
       "      <td>29217.000000</td>\n",
       "      <td>29217.000000</td>\n",
       "      <td>29217.000000</td>\n",
       "      <td>29217.000000</td>\n",
       "    </tr>\n",
       "    <tr>\n",
       "      <th>mean</th>\n",
       "      <td>2012.0</td>\n",
       "      <td>2.797007</td>\n",
       "      <td>0.428757</td>\n",
       "      <td>0.007975</td>\n",
       "      <td>0.113393</td>\n",
       "      <td>0.016600</td>\n",
       "      <td>0.156347</td>\n",
       "      <td>0.004107</td>\n",
       "      <td>0.022179</td>\n",
       "      <td>0.247288</td>\n",
       "      <td>0.283431</td>\n",
       "      <td>0.155800</td>\n",
       "      <td>0.291645</td>\n",
       "      <td>0.282849</td>\n",
       "      <td>0.199644</td>\n",
       "      <td>18.756939</td>\n",
       "      <td>4.286811</td>\n",
       "      <td>10.875998</td>\n",
       "      <td>29.408779</td>\n",
       "      <td>1513.842566</td>\n",
       "    </tr>\n",
       "    <tr>\n",
       "      <th>std</th>\n",
       "      <td>0.0</td>\n",
       "      <td>0.662406</td>\n",
       "      <td>0.494907</td>\n",
       "      <td>0.088947</td>\n",
       "      <td>0.317078</td>\n",
       "      <td>0.127769</td>\n",
       "      <td>0.363191</td>\n",
       "      <td>0.063957</td>\n",
       "      <td>0.147267</td>\n",
       "      <td>0.431443</td>\n",
       "      <td>0.450671</td>\n",
       "      <td>0.362672</td>\n",
       "      <td>0.454528</td>\n",
       "      <td>0.450391</td>\n",
       "      <td>0.399740</td>\n",
       "      <td>8.767040</td>\n",
       "      <td>3.321506</td>\n",
       "      <td>11.121864</td>\n",
       "      <td>36.569919</td>\n",
       "      <td>1009.811610</td>\n",
       "    </tr>\n",
       "    <tr>\n",
       "      <th>min</th>\n",
       "      <td>2012.0</td>\n",
       "      <td>-7.469874</td>\n",
       "      <td>0.000000</td>\n",
       "      <td>0.000000</td>\n",
       "      <td>0.000000</td>\n",
       "      <td>0.000000</td>\n",
       "      <td>0.000000</td>\n",
       "      <td>0.000000</td>\n",
       "      <td>0.000000</td>\n",
       "      <td>0.000000</td>\n",
       "      <td>0.000000</td>\n",
       "      <td>0.000000</td>\n",
       "      <td>0.000000</td>\n",
       "      <td>0.000000</td>\n",
       "      <td>0.000000</td>\n",
       "      <td>0.000000</td>\n",
       "      <td>0.000000</td>\n",
       "      <td>0.000000</td>\n",
       "      <td>0.000000</td>\n",
       "      <td>106.790000</td>\n",
       "    </tr>\n",
       "    <tr>\n",
       "      <th>25%</th>\n",
       "      <td>2012.0</td>\n",
       "      <td>2.408296</td>\n",
       "      <td>0.000000</td>\n",
       "      <td>0.000000</td>\n",
       "      <td>0.000000</td>\n",
       "      <td>0.000000</td>\n",
       "      <td>0.000000</td>\n",
       "      <td>0.000000</td>\n",
       "      <td>0.000000</td>\n",
       "      <td>0.000000</td>\n",
       "      <td>0.000000</td>\n",
       "      <td>0.000000</td>\n",
       "      <td>0.000000</td>\n",
       "      <td>0.000000</td>\n",
       "      <td>0.000000</td>\n",
       "      <td>11.500000</td>\n",
       "      <td>1.322500</td>\n",
       "      <td>1.520875</td>\n",
       "      <td>1.749006</td>\n",
       "      <td>654.240000</td>\n",
       "    </tr>\n",
       "    <tr>\n",
       "      <th>50%</th>\n",
       "      <td>2012.0</td>\n",
       "      <td>2.774540</td>\n",
       "      <td>0.000000</td>\n",
       "      <td>0.000000</td>\n",
       "      <td>0.000000</td>\n",
       "      <td>0.000000</td>\n",
       "      <td>0.000000</td>\n",
       "      <td>0.000000</td>\n",
       "      <td>0.000000</td>\n",
       "      <td>0.000000</td>\n",
       "      <td>0.000000</td>\n",
       "      <td>0.000000</td>\n",
       "      <td>0.000000</td>\n",
       "      <td>0.000000</td>\n",
       "      <td>0.000000</td>\n",
       "      <td>19.000000</td>\n",
       "      <td>3.610000</td>\n",
       "      <td>6.859000</td>\n",
       "      <td>13.032100</td>\n",
       "      <td>1472.100000</td>\n",
       "    </tr>\n",
       "    <tr>\n",
       "      <th>75%</th>\n",
       "      <td>2012.0</td>\n",
       "      <td>3.181569</td>\n",
       "      <td>1.000000</td>\n",
       "      <td>0.000000</td>\n",
       "      <td>0.000000</td>\n",
       "      <td>0.000000</td>\n",
       "      <td>0.000000</td>\n",
       "      <td>0.000000</td>\n",
       "      <td>0.000000</td>\n",
       "      <td>0.000000</td>\n",
       "      <td>1.000000</td>\n",
       "      <td>0.000000</td>\n",
       "      <td>1.000000</td>\n",
       "      <td>1.000000</td>\n",
       "      <td>0.000000</td>\n",
       "      <td>26.000000</td>\n",
       "      <td>6.760000</td>\n",
       "      <td>17.576000</td>\n",
       "      <td>45.697600</td>\n",
       "      <td>1966.630000</td>\n",
       "    </tr>\n",
       "    <tr>\n",
       "      <th>max</th>\n",
       "      <td>2012.0</td>\n",
       "      <td>5.970942</td>\n",
       "      <td>1.000000</td>\n",
       "      <td>1.000000</td>\n",
       "      <td>1.000000</td>\n",
       "      <td>1.000000</td>\n",
       "      <td>1.000000</td>\n",
       "      <td>1.000000</td>\n",
       "      <td>1.000000</td>\n",
       "      <td>1.000000</td>\n",
       "      <td>1.000000</td>\n",
       "      <td>1.000000</td>\n",
       "      <td>1.000000</td>\n",
       "      <td>1.000000</td>\n",
       "      <td>1.000000</td>\n",
       "      <td>43.500000</td>\n",
       "      <td>18.922500</td>\n",
       "      <td>82.312875</td>\n",
       "      <td>358.061006</td>\n",
       "      <td>6444.150000</td>\n",
       "    </tr>\n",
       "  </tbody>\n",
       "</table>\n",
       "</div>"
      ],
      "text/plain": [
       "          year           lnw        female       widowed      divorced  \\\n",
       "count  29217.0  29217.000000  29217.000000  29217.000000  29217.000000   \n",
       "mean    2012.0      2.797007      0.428757      0.007975      0.113393   \n",
       "std        0.0      0.662406      0.494907      0.088947      0.317078   \n",
       "min     2012.0     -7.469874      0.000000      0.000000      0.000000   \n",
       "25%     2012.0      2.408296      0.000000      0.000000      0.000000   \n",
       "50%     2012.0      2.774540      0.000000      0.000000      0.000000   \n",
       "75%     2012.0      3.181569      1.000000      0.000000      0.000000   \n",
       "max     2012.0      5.970942      1.000000      1.000000      1.000000   \n",
       "\n",
       "          separated  nevermarried         hsd08        hsd911           hsg  \\\n",
       "count  29217.000000  29217.000000  29217.000000  29217.000000  29217.000000   \n",
       "mean       0.016600      0.156347      0.004107      0.022179      0.247288   \n",
       "std        0.127769      0.363191      0.063957      0.147267      0.431443   \n",
       "min        0.000000      0.000000      0.000000      0.000000      0.000000   \n",
       "25%        0.000000      0.000000      0.000000      0.000000      0.000000   \n",
       "50%        0.000000      0.000000      0.000000      0.000000      0.000000   \n",
       "75%        0.000000      0.000000      0.000000      0.000000      0.000000   \n",
       "max        1.000000      1.000000      1.000000      1.000000      1.000000   \n",
       "\n",
       "                 cg            ad            mw            so            we  \\\n",
       "count  29217.000000  29217.000000  29217.000000  29217.000000  29217.000000   \n",
       "mean       0.283431      0.155800      0.291645      0.282849      0.199644   \n",
       "std        0.450671      0.362672      0.454528      0.450391      0.399740   \n",
       "min        0.000000      0.000000      0.000000      0.000000      0.000000   \n",
       "25%        0.000000      0.000000      0.000000      0.000000      0.000000   \n",
       "50%        0.000000      0.000000      0.000000      0.000000      0.000000   \n",
       "75%        1.000000      0.000000      1.000000      1.000000      0.000000   \n",
       "max        1.000000      1.000000      1.000000      1.000000      1.000000   \n",
       "\n",
       "               exp1          exp2          exp3          exp4        weight  \n",
       "count  29217.000000  29217.000000  29217.000000  29217.000000  29217.000000  \n",
       "mean      18.756939      4.286811     10.875998     29.408779   1513.842566  \n",
       "std        8.767040      3.321506     11.121864     36.569919   1009.811610  \n",
       "min        0.000000      0.000000      0.000000      0.000000    106.790000  \n",
       "25%       11.500000      1.322500      1.520875      1.749006    654.240000  \n",
       "50%       19.000000      3.610000      6.859000     13.032100   1472.100000  \n",
       "75%       26.000000      6.760000     17.576000     45.697600   1966.630000  \n",
       "max       43.500000     18.922500     82.312875    358.061006   6444.150000  "
      ]
     },
     "execution_count": 2,
     "metadata": {},
     "output_type": "execute_result"
    }
   ],
   "source": [
    "cps2012_env = pyreadr.read_r(\"../data/cps2012.Rdata\")\n",
    "cps2012 = cps2012_env[ 'data' ]\n",
    "cps2012.describe()"
   ]
  },
  {
   "cell_type": "code",
   "execution_count": 3,
   "metadata": {},
   "outputs": [
    {
     "data": {
      "text/plain": [
       "136"
      ]
     },
     "execution_count": 3,
     "metadata": {},
     "output_type": "execute_result"
    }
   ],
   "source": [
    "formula_basic =  '''lnw ~ -1 + female + female:(widowed + divorced + separated + nevermarried +\n",
    "hsd08 + hsd911 + hsg + cg + ad + mw + so + we + exp1 + exp2 + exp3) + +(widowed +\n",
    "divorced + separated + nevermarried + hsd08 + hsd911 + hsg + cg + ad + mw + so +\n",
    "we + exp1 + exp2 + exp3) ** 2'''\n",
    "\n",
    "y, X = patsy.dmatrices(formula_basic, cps2012, return_type='dataframe')\n",
    "X.shape[1]"
   ]
  },
  {
   "cell_type": "markdown",
   "metadata": {},
   "source": [
    "We have the same number of covariables."
   ]
  },
  {
   "cell_type": "code",
   "execution_count": 4,
   "metadata": {},
   "outputs": [],
   "source": [
    "variance_cols = X.var().to_numpy()\n",
    "X = X.iloc[ : ,  np.where( variance_cols != 0   )[0] ]\n",
    "\n",
    "def demean(x):\n",
    "    dif = x - np.mean( x )\n",
    "    return dif \n",
    "\n",
    "X = X.apply( demean, axis = 0 )\n",
    "\n",
    "index_gender = np.where( X.columns.str.contains('female'))[0]"
   ]
  },
  {
   "cell_type": "markdown",
   "metadata": {},
   "source": [
    "The parameter estimates for the target parameters, i.e. all coefficients related to gender (i.e. by interaction with other variables) are calculated and summarized by the following commands:"
   ]
  },
  {
   "cell_type": "code",
   "execution_count": 5,
   "metadata": {},
   "outputs": [],
   "source": [
    "effect_female = hdmpy.rlassoEffects( x = X , y = y , index = index_gender )"
   ]
  },
  {
   "cell_type": "code",
   "execution_count": 6,
   "metadata": {
    "scrolled": true
   },
   "outputs": [
    {
     "name": "stdout",
     "output_type": "stream",
     "text": [
      "                     Estimate.  Std. Error   t value      Pr(>|t|)\n",
      "female               -0.154593    0.048599 -3.180992  1.467717e-03\n",
      "female:widowed        0.136096    0.094115  1.446056  1.481614e-01\n",
      "female:divorced       0.136939    0.021680  6.316402  2.677227e-10\n",
      "female:separated      0.023303    0.048849  0.477034  6.333381e-01\n",
      "female:nevermarried   0.186853    0.020094  9.299104  1.416347e-20\n",
      "female:hsd08          0.027810    0.140357  0.198140  8.429356e-01\n",
      "female:hsd911        -0.119335    0.052223 -2.285101  2.230692e-02\n",
      "female:hsg           -0.012885    0.018229 -0.706850  4.796595e-01\n",
      "female:cg             0.010139    0.018079  0.560797  5.749360e-01\n",
      "female:ad            -0.030464    0.022807 -1.335714  1.816429e-01\n",
      "female:mw            -0.001063    0.018715 -0.056822  9.546869e-01\n",
      "female:so            -0.008183    0.019027 -0.430096  6.671256e-01\n",
      "female:we            -0.004226    0.021422 -0.197281  8.436076e-01\n",
      "female:exp1           0.004733    0.007483  0.632488  5.270682e-01\n",
      "female:exp2          -0.159519    0.043479 -3.668908  2.435892e-04\n",
      "female:exp3           0.026512    0.008244  3.215830  1.300681e-03\n"
     ]
    },
    {
     "data": {
      "text/plain": [
       "'\\\\begin{tabular}{lrrrr}\\n\\\\toprule\\n{} &  Estimate. &  Std. Error &  t value &  Pr(>|t|) \\\\\\\\\\n\\\\midrule\\nfemale              &     -0.155 &       0.049 &   -3.181 &     0.001 \\\\\\\\\\nfemale:widowed      &      0.136 &       0.094 &    1.446 &     0.148 \\\\\\\\\\nfemale:divorced     &      0.137 &       0.022 &    6.316 &     0.000 \\\\\\\\\\nfemale:separated    &      0.023 &       0.049 &    0.477 &     0.633 \\\\\\\\\\nfemale:nevermarried &      0.187 &       0.020 &    9.299 &     0.000 \\\\\\\\\\nfemale:hsd08        &      0.028 &       0.140 &    0.198 &     0.843 \\\\\\\\\\nfemale:hsd911       &     -0.119 &       0.052 &   -2.285 &     0.022 \\\\\\\\\\nfemale:hsg          &     -0.013 &       0.018 &   -0.707 &     0.480 \\\\\\\\\\nfemale:cg           &      0.010 &       0.018 &    0.561 &     0.575 \\\\\\\\\\nfemale:ad           &     -0.030 &       0.023 &   -1.336 &     0.182 \\\\\\\\\\nfemale:mw           &     -0.001 &       0.019 &   -0.057 &     0.955 \\\\\\\\\\nfemale:so           &     -0.008 &       0.019 &   -0.430 &     0.667 \\\\\\\\\\nfemale:we           &     -0.004 &       0.021 &   -0.197 &     0.844 \\\\\\\\\\nfemale:exp1         &      0.005 &       0.007 &    0.632 &     0.527 \\\\\\\\\\nfemale:exp2         &     -0.160 &       0.043 &   -3.669 &     0.000 \\\\\\\\\\nfemale:exp3         &      0.027 &       0.008 &    3.216 &     0.001 \\\\\\\\\\n\\\\bottomrule\\n\\\\end{tabular}\\n'"
      ]
     },
     "execution_count": 6,
     "metadata": {},
     "output_type": "execute_result"
    }
   ],
   "source": [
    "result_coeff = pd.concat( [ effect_female.res.get( 'coefficients' ).rename(columns = { 0 : \"Estimate.\" }) , \\\n",
    "             effect_female.res.get( 'se' ).rename( columns = { 0 : \"Std. Error\" } ) , \\\n",
    "             effect_female.res.get( 't' ).rename( columns = { 0 : \"t value\" } ) , \\\n",
    "             effect_female.res.get( 'pval' ).rename( columns = { 0 : \"Pr(>|t|)\" } ) ] ,\\\n",
    "             axis = 1 )\n",
    "\n",
    "print( result_coeff )\n",
    "\n",
    "result_coeff.round( 3 ).to_latex()"
   ]
  },
  {
   "cell_type": "markdown",
   "metadata": {},
   "source": [
    "Now, we estimate and plot confident intervals, first \"pointwise\" and then the joint confidence intervals."
   ]
  },
  {
   "cell_type": "code",
   "execution_count": 56,
   "metadata": {},
   "outputs": [],
   "source": [
    "e = effect_female.res['residuals']['e']"
   ]
  },
  {
   "cell_type": "code",
   "execution_count": 57,
   "metadata": {},
   "outputs": [],
   "source": [
    "v = effect_female.res['residuals']['v']"
   ]
  },
  {
   "cell_type": "code",
   "execution_count": 60,
   "metadata": {},
   "outputs": [
    {
     "data": {
      "text/plain": [
       "(29217, 16)"
      ]
     },
     "execution_count": 60,
     "metadata": {},
     "output_type": "execute_result"
    }
   ],
   "source": [
    "v.shape"
   ]
  },
  {
   "cell_type": "code",
   "execution_count": 59,
   "metadata": {},
   "outputs": [
    {
     "data": {
      "text/plain": [
       "(29217, 16)"
      ]
     },
     "execution_count": 59,
     "metadata": {},
     "output_type": "execute_result"
    }
   ],
   "source": [
    "e.shape"
   ]
  },
  {
   "cell_type": "code",
   "execution_count": 67,
   "metadata": {},
   "outputs": [],
   "source": [
    "ev = e.to_numpy() * v.to_numpy()"
   ]
  },
  {
   "cell_type": "code",
   "execution_count": 74,
   "metadata": {},
   "outputs": [],
   "source": [
    "Ev2 = (v ** 2).mean( axis = 0 ).to_numpy()"
   ]
  },
  {
   "cell_type": "code",
   "execution_count": 63,
   "metadata": {},
   "outputs": [],
   "source": [
    "k = e.shape[1]"
   ]
  },
  {
   "cell_type": "code",
   "execution_count": 64,
   "metadata": {},
   "outputs": [],
   "source": [
    "Omegahat = np.zeros( ( k , k ) )"
   ]
  },
  {
   "cell_type": "code",
   "execution_count": 81,
   "metadata": {},
   "outputs": [],
   "source": [
    "for j in range( 0 , k ):\n",
    "    for l in range( 0 , k ):\n",
    "        Omegahat[ j , l ] = 1 / ( Ev2[ j ] * Ev2[ l ] ) * np.mean(ev[ : , j ] * ev[ : , l ] )\n",
    "        Omegahat[ l , j ] = 1 / ( Ev2[ j ] * Ev2[ l ] ) * np.mean(ev[ : , j ] * ev[ : , l ] )"
   ]
  },
  {
   "cell_type": "code",
   "execution_count": 83,
   "metadata": {},
   "outputs": [],
   "source": [
    "var = np.diagonal( Omegahat )"
   ]
  },
  {
   "cell_type": "code",
   "execution_count": 97,
   "metadata": {},
   "outputs": [],
   "source": [
    "mu = np.repeat( 0, k )"
   ]
  },
  {
   "cell_type": "code",
   "execution_count": 98,
   "metadata": {},
   "outputs": [],
   "source": [
    "p = len( mu )"
   ]
  },
  {
   "cell_type": "code",
   "execution_count": 100,
   "metadata": {},
   "outputs": [],
   "source": [
    "n = 1"
   ]
  },
  {
   "cell_type": "code",
   "execution_count": 92,
   "metadata": {},
   "outputs": [],
   "source": [
    "ev = sci_lag.eig( Omegahat )[ 0 ]\n",
    "vectors = sci_lag.eig( Omegahat )[ 1 ]"
   ]
  },
  {
   "cell_type": "code",
   "execution_count": 95,
   "metadata": {},
   "outputs": [
    {
     "data": {
      "text/plain": [
       "array([[2, 5],\n",
       "       [4, 6]])"
      ]
     },
     "execution_count": 95,
     "metadata": {},
     "output_type": "execute_result"
    }
   ],
   "source": [
    "np.array([2, 4, 5, 6]).reshape(2, 2).transpose()"
   ]
  },
  {
   "cell_type": "code",
   "execution_count": 104,
   "metadata": {},
   "outputs": [],
   "source": [
    "X = np.random.normal(0, 1 ,  p * n ).reshape( n , p )"
   ]
  },
  {
   "cell_type": "code",
   "execution_count": 105,
   "metadata": {},
   "outputs": [
    {
     "data": {
      "text/plain": [
       "array([5.76134532e+02+0.j, 2.58967927e+02+0.j, 9.75691108e+01+0.j,\n",
       "       8.05846490e+01+0.j, 6.94907403e+01+0.j, 3.68431286e+01+0.j,\n",
       "       2.22183627e+01+0.j, 1.57345931e+01+0.j, 1.36349078e+01+0.j,\n",
       "       1.63858142e-01+0.j, 3.82133543e-01+0.j, 9.94024373e+00+0.j,\n",
       "       8.19261656e+00+0.j, 5.04793885e+00+0.j, 4.44900679e+00+0.j,\n",
       "       6.39829630e+00+0.j])"
      ]
     },
     "execution_count": 105,
     "metadata": {},
     "output_type": "execute_result"
    }
   ],
   "source": [
    "np.maximum( ev, 0 )"
   ]
  },
  {
   "cell_type": "code",
   "execution_count": null,
   "metadata": {},
   "outputs": [],
   "source": []
  },
  {
   "cell_type": "code",
   "execution_count": null,
   "metadata": {},
   "outputs": [],
   "source": []
  },
  {
   "cell_type": "code",
   "execution_count": null,
   "metadata": {},
   "outputs": [],
   "source": []
  },
  {
   "cell_type": "code",
   "execution_count": 84,
   "metadata": {},
   "outputs": [],
   "source": [
    "B = 500\n",
    "sim = np.zeros( B )"
   ]
  },
  {
   "cell_type": "code",
   "execution_count": null,
   "metadata": {},
   "outputs": [],
   "source": [
    "for i in range( 0 , B ):\n",
    "    beta_i = "
   ]
  },
  {
   "cell_type": "code",
   "execution_count": 87,
   "metadata": {},
   "outputs": [
    {
     "ename": "ModuleNotFoundError",
     "evalue": "No module named 'rpy2'",
     "output_type": "error",
     "traceback": [
      "\u001b[1;31m---------------------------------------------------------------------------\u001b[0m",
      "\u001b[1;31mModuleNotFoundError\u001b[0m                       Traceback (most recent call last)",
      "\u001b[1;32m<ipython-input-87-8afe59b2a535>\u001b[0m in \u001b[0;36m<module>\u001b[1;34m\u001b[0m\n\u001b[1;32m----> 1\u001b[1;33m \u001b[1;32mimport\u001b[0m \u001b[0mrpy2\u001b[0m\u001b[1;33m\u001b[0m\u001b[1;33m\u001b[0m\u001b[0m\n\u001b[0m\u001b[0;32m      2\u001b[0m \u001b[1;32mimport\u001b[0m \u001b[0mrpy2\u001b[0m\u001b[1;33m.\u001b[0m\u001b[0mrobjects\u001b[0m \u001b[1;32mas\u001b[0m \u001b[0mrobjects\u001b[0m\u001b[1;33m\u001b[0m\u001b[1;33m\u001b[0m\u001b[0m\n\u001b[0;32m      3\u001b[0m \u001b[1;32mfrom\u001b[0m \u001b[0mrpy2\u001b[0m\u001b[1;33m.\u001b[0m\u001b[0mrobjects\u001b[0m\u001b[1;33m.\u001b[0m\u001b[0mpackages\u001b[0m \u001b[1;32mimport\u001b[0m \u001b[0mimportr\u001b[0m\u001b[1;33m\u001b[0m\u001b[1;33m\u001b[0m\u001b[0m\n\u001b[0;32m      4\u001b[0m \u001b[0mMASS\u001b[0m \u001b[1;33m=\u001b[0m \u001b[0mimportr\u001b[0m\u001b[1;33m(\u001b[0m\u001b[1;34m'MASS'\u001b[0m\u001b[1;33m)\u001b[0m                       \u001b[1;31m# Must use R: install.packages('MASS')\u001b[0m\u001b[1;33m\u001b[0m\u001b[1;33m\u001b[0m\u001b[0m\n\u001b[0;32m      5\u001b[0m \u001b[0mr\u001b[0m \u001b[1;33m=\u001b[0m \u001b[0mrobjects\u001b[0m\u001b[1;33m.\u001b[0m\u001b[0mr\u001b[0m\u001b[1;33m\u001b[0m\u001b[1;33m\u001b[0m\u001b[0m\n",
      "\u001b[1;31mModuleNotFoundError\u001b[0m: No module named 'rpy2'"
     ]
    }
   ],
   "source": [
    "function (n = 1, mu, Sigma, tol = 1e-06, empirical = FALSE, EISPACK = FALSE) \n",
    "{\n",
    "    p <- length(mu)\n",
    "    if (!all(dim(Sigma) == c(p, p))) \n",
    "        stop(\"incompatible arguments\")\n",
    "    if (EISPACK) \n",
    "        stop(\"'EISPACK' is no longer supported by R\", domain = NA)\n",
    "    eS <- eigen(Sigma, symmetric = TRUE)\n",
    "    ev <- eS$values\n",
    "    if (!all(ev >= -tol * abs(ev[1L]))) \n",
    "        stop(\"'Sigma' is not positive definite\")\n",
    "    X <- matrix(rnorm(p * n), n)\n",
    "    if (empirical) {\n",
    "        X <- scale(X, TRUE, FALSE)\n",
    "        X <- X %*% svd(X, nu = 0)$v\n",
    "        X <- scale(X, FALSE, TRUE)\n",
    "    }\n",
    "    X <- drop(mu) + eS$vectors %*% diag(sqrt(pmax(ev, 0)), p) %*% \n",
    "        t(X)\n",
    "    nm <- names(mu)\n",
    "    if (is.null(nm) && !is.null(dn <- dimnames(Sigma))) \n",
    "        nm <- dn[[1L]]\n",
    "    dimnames(X) <- list(nm, NULL)\n",
    "    if (n == 1) \n",
    "        drop(X)\n",
    "    else t(X)\n",
    "}"
   ]
  },
  {
   "cell_type": "code",
   "execution_count": 76,
   "metadata": {
    "scrolled": false
   },
   "outputs": [
    {
     "data": {
      "text/plain": [
       "0.4258932596538947"
      ]
     },
     "execution_count": 76,
     "metadata": {},
     "output_type": "execute_result"
    }
   ],
   "source": [
    "1/(Ev2[1] * Ev2[2]) * np.mean( ev[ : , 1] * ev[ : , 2] )"
   ]
  },
  {
   "cell_type": "code",
   "execution_count": 80,
   "metadata": {},
   "outputs": [
    {
     "data": {
      "text/plain": [
       "array([ 6, 12, 25, 36])"
      ]
     },
     "execution_count": 80,
     "metadata": {},
     "output_type": "execute_result"
    }
   ],
   "source": [
    "np.array( [2, 3, 5, 6 ] ) * np.array( [3, 4, 5, 6 ] )"
   ]
  },
  {
   "cell_type": "code",
   "execution_count": null,
   "metadata": {
    "scrolled": true
   },
   "outputs": [],
   "source": [
    "pointwise_CI"
   ]
  },
  {
   "cell_type": "code",
   "execution_count": 47,
   "metadata": {},
   "outputs": [],
   "source": [
    "t_value = stats.t.ppf(1-0.05, 29217 - 116 -1 )"
   ]
  },
  {
   "cell_type": "code",
   "execution_count": 48,
   "metadata": {},
   "outputs": [],
   "source": [
    "pointwise_CI = pd.DataFrame({ '5%' : result_coeff.iloc[ : , 0 ] \\\n",
    "                                     - result_coeff.iloc[ : , 1 ] * t_value ,\\\n",
    "                              '95%' : result_coeff.iloc[ : , 0 ] \\\n",
    "                             + result_coeff.iloc[ : , 1 ] * t_value })"
   ]
  },
  {
   "cell_type": "code",
   "execution_count": 49,
   "metadata": {},
   "outputs": [
    {
     "data": {
      "image/png": "[encoded data removed]",
      "text/plain": [
       "<Figure size 960x480 with 1 Axes>"
      ]
     },
     "metadata": {
      "needs_background": "light"
     },
     "output_type": "display_data"
    }
   ],
   "source": [
    "result_coeff = result_coeff.sort_values('Estimate.')\n",
    "\n",
    "x = result_coeff.index\n",
    "\n",
    "coef = result_coeff.iloc[ : , 0 ].to_numpy()\n",
    "\n",
    "sd_error = ( result_coeff.iloc[ : , 1 ] * t_value ).to_numpy()\n",
    "\n",
    "figure(figsize=(12, 6), dpi=80)\n",
    "\n",
    "plt.errorbar( x = x , y = coef , yerr = sd_error , linestyle=\"None\" , color = \"black\", \\\n",
    "              capsize = 3 , marker = \"s\" , markersize = 3 , mfc = \"black\" , mec = \"black\" )\n",
    "plt.xticks(x, x, rotation=90)\n",
    "plt.show()"
   ]
  },
  {
   "cell_type": "markdown",
   "metadata": {},
   "source": [
    "Finally, we compare the pointwise confidence intervals to joint confidence intervals."
   ]
  },
  {
   "cell_type": "code",
   "execution_count": 35,
   "metadata": {},
   "outputs": [],
   "source": [
    "from statsmodels.sandbox.stats.multicomp import multipletests\n",
    "import scipy.stats as st"
   ]
  },
  {
   "cell_type": "code",
   "execution_count": 30,
   "metadata": {},
   "outputs": [],
   "source": [
    "# Getting pvalues from statistics\n",
    "pval = result_coeff.iloc[:, 3].to_list()"
   ]
  },
  {
   "cell_type": "code",
   "execution_count": 29,
   "metadata": {},
   "outputs": [],
   "source": [
    "# getting z scores from pvalues\n",
    "p_adjusted = multipletests( pval , alpha = 0.9, method = 'bonferroni')"
   ]
  },
  {
   "cell_type": "code",
   "execution_count": 39,
   "metadata": {},
   "outputs": [
    {
     "data": {
      "text/plain": [
       "1.2815515655446004"
      ]
     },
     "execution_count": 39,
     "metadata": {},
     "output_type": "execute_result"
    }
   ],
   "source": [
    "# getting z values\n",
    "st.norm.ppf( .90 )"
   ]
  },
  {
   "cell_type": "code",
   "execution_count": 31,
   "metadata": {},
   "outputs": [],
   "source": [
    "joint_CI = pd.DataFrame({ '5%' : result_coeff.iloc[ : , 0 ] \\\n",
    "                                     - p_adjusted[1] * result_coeff.iloc[ : , 1 ] ,\\\n",
    "                              '95%' : result_coeff.iloc[ : , 0 ] \\\n",
    "                             + p_adjusted[1] * result_coeff.iloc[ : , 1 ] })"
   ]
  },
  {
   "cell_type": "code",
   "execution_count": 34,
   "metadata": {},
   "outputs": [
    {
     "data": {
      "image/png": "[encoded data removed]",
      "text/plain": [
       "<Figure size 960x480 with 1 Axes>"
      ]
     },
     "metadata": {
      "needs_background": "light"
     },
     "output_type": "display_data"
    }
   ],
   "source": [
    "sd_error = ( p_adjusted[1] * result_coeff.iloc[ : , 1 ] ).to_numpy()\n",
    "\n",
    "figure(figsize=(12, 6), dpi=80)\n",
    "\n",
    "plt.errorbar( x = x , y = coef , yerr = sd_error , linestyle=\"None\" , color = \"black\", \\\n",
    "              capsize = 3 , marker = \"s\" , markersize = 3 , mfc = \"black\" , mec = \"black\" )\n",
    "plt.xticks(x, x, rotation=90)\n",
    "plt.show()"
   ]
  }
 ],
 "metadata": {
  "hide_input": false,
  "kernelspec": {
   "display_name": "Python 3",
   "language": "python",
   "name": "python3"
  },
  "language_info": {
   "codemirror_mode": {
    "name": "ipython",
    "version": 3
   },
   "file_extension": ".py",
   "mimetype": "text/x-python",
   "name": "python",
   "nbconvert_exporter": "python",
   "pygments_lexer": "ipython3",
   "version": "3.8.6"
  }
 },
 "nbformat": 4,
 "nbformat_minor": 4
}
