{
 "cells": [
  {
   "cell_type": "markdown",
   "id": "e4a84b6c",
   "metadata": {},
   "source": [
    "This is a simple demonstration of Debiased Machine Learning estimator for the Conditional Average Treatment Effect. \n",
    "Goal is to estimate the effect of 401(k) eligibility on net financial assets for each value of income. \n",
    "Data set is the same as in (Chernozhukov, Hansen, 2004). \n",
    "\n",
    "\n",
    "The method is based on the following paper. \n",
    "\n",
    "Title:  Debiased Machine Learning of Conditional Average Treatment Effect and Other Causal Functions\n",
    "\n",
    "Authors: Semenova, Vira and Chernozhukov, Victor. \n",
    "\n",
    "Arxiv version: https://arxiv.org/pdf/1702.06240.pdf\n",
    "\n",
    "Published version with replication code: https://academic.oup.com/ectj/advance-article/doi/10.1093/ectj/utaa027/5899048\n",
    "\n",
    "\n",
    "[1]Victor Chernozhukov and Christian Hansen. The impact of 401(k) participation on the wealth distribution: An instrumental quantile regression analysis. Review of Economics and Statistics, 86(3):735–751, 2004."
   ]
  },
  {
   "cell_type": "markdown",
   "id": "2128fec0",
   "metadata": {},
   "source": [
    "Background\n",
    "\n",
    "The target function is Conditional Average Treatment Effect, defined as \n",
    "\n",
    "$$ g(x)=E [ Y(1) - Y(0) |X=x], $$ \n",
    "\n",
    "where $Y(1)$ and $Y(0)$ are potential outcomes in treated and control group. In our case, $Y(1)$ is the potential Net Financial Assets if a subject is eligible for 401(k), and $Y(0)$ is the potential Net Financial Assets if a subject is ineligible. $X$ is a covariate of interest, in this case, income.\n",
    "$ g(x)$ shows expected effect of eligibility on NET TFA for a subject whose income level is $x$.\n",
    "\n",
    "\n",
    "\n",
    "If eligibility indicator is independent of $Y(1), Y(0)$, given pre-401-k assignment characteristics $Z$, the function can expressed in terms of observed data (as opposed to hypothetical, or potential outcomes). Observed data consists of  realized NET TFA $Y = D Y(1) + (1-D) Y(0)$, eligibility indicator $D$, and covariates $Z$ which includes $X$, income. The expression for $g(x)$ is\n",
    "\n",
    "$$ g(x) = E [ Y (\\eta_0) \\mid X=x], $$\n",
    "where the transformed outcome variable is\n",
    "\n",
    "$$Y (\\eta) = \\dfrac{D}{s(Z)} \\left( Y - \\mu(1,Z) \\right) - \\dfrac{1-D}{1-s(Z)} \\left( Y - \\mu(0,Z) \\right) + \\mu(1,Z) - \\mu(0,Z),$$\n",
    "\n",
    "the probability of eligibility is \n",
    "\n",
    "$$s_0(z) = Pr (D=1 \\mid Z=z),$$ \n",
    "\n",
    "the expected net financial asset given $D =d \\in \\{1,0\\}$ and $Z=z$ is\n",
    "\n",
    "$$ \\mu(d,z) = E[ Y \\mid Z=z, D=d]. $$\n",
    "\n",
    "Our goal is to estimate $g(x)$.\n",
    "\n",
    "\n",
    "In step 1, we estimate the unknown functions $s_0(z),  \\mu(1,z),  \\mu(0,z)$ and plug them into $Y (\\eta)$.\n",
    "\n",
    "\n",
    "In step 2, we approximate the function $g(x)$ by a linear combination of basis functions:\n",
    "\n",
    "$$ g(x) = p(x)' \\beta_0, $$\n",
    "\n",
    "\n",
    "where $p(x)$ is a vector of polynomials or splines and\n",
    "\n",
    "$$ \\beta_0 = (E p(X) p(X))^{-1} E p(X) Y (\\eta_0) $$\n",
    "\n",
    "is the best linear predictor. We report\n",
    "\n",
    "$$\n",
    "\\widehat{g}(x) = p(x)' \\widehat{\\beta},\n",
    "$$\n",
    "\n",
    "where $\\widehat{\\beta}$ is the ordinary least squares estimate of $\\beta_0$ defined on the random sample $(X_i, D_i, Y_i)_{i=1}^N$\n",
    "\n",
    "$$\n",
    "\t\\widehat{\\beta} :=\\left( \\dfrac{1}{N} \\sum_{i=1}^N p(X_i) p(X_i)' \\right)^{-1} \\dfrac{1}{N} \\sum_{i=1}^N  p(X_i)Y_i(\\widehat{\\eta})\n",
    "$$"
   ]
  },
  {
   "cell_type": "code",
   "execution_count": null,
   "id": "cc3c6f3d",
   "metadata": {},
   "outputs": [],
   "source": [
    "import numpy as np\n",
    "import pandas as pd\n",
    "import doubleml as dml\n",
    "from doubleml.datasets import fetch_401K\n",
    "\n",
    "# Import relevant packages\n",
    "import pyreadr\n",
    "from sklearn import preprocessing\n",
    "import patsy\n",
    "\n",
    "from sklearn.preprocessing import PolynomialFeatures\n",
    "from sklearn.linear_model import LassoCV, LogisticRegressionCV\n",
    "from sklearn.ensemble import RandomForestClassifier, RandomForestRegressor\n",
    "from sklearn.tree import DecisionTreeClassifier, DecisionTreeRegressor\n",
    "from sklearn.preprocessing import StandardScaler\n",
    "from sklearn.pipeline import make_pipeline\n",
    "\n",
    "from xgboost import XGBClassifier, XGBRegressor\n",
    "\n",
    "import matplotlib.pyplot as plt\n",
    "import seaborn as sns"
   ]
  },
  {
   "cell_type": "code",
   "execution_count": null,
   "id": "ac1b5407",
   "metadata": {},
   "outputs": [],
   "source": [
    "from sklearn.preprocessing import PolynomialFeatures\n",
    "from sklearn.linear_model import LassoCV, LogisticRegressionCV\n",
    "from sklearn.ensemble import RandomForestClassifier, RandomForestRegressor\n",
    "from sklearn.tree import DecisionTreeClassifier, DecisionTreeRegressor\n",
    "from sklearn.preprocessing import StandardScaler\n",
    "from sklearn.pipeline import make_pipeline\n"
   ]
  },
  {
   "cell_type": "code",
   "execution_count": null,
   "id": "4940767d",
   "metadata": {},
   "outputs": [],
   "source": [
    "# pension = fetch_401K(return_type='DataFrame')"
   ]
  },
  {
   "cell_type": "code",
   "execution_count": null,
   "id": "a418fb21",
   "metadata": {},
   "outputs": [],
   "source": [
    "pension_Read = pyreadr.read_r(\"../data/pension.Rdata\")\n",
    "pension = pension_Read[ 'pension' ]"
   ]
  },
  {
   "cell_type": "code",
   "execution_count": null,
   "id": "ac6d0612",
   "metadata": {},
   "outputs": [],
   "source": [
    "pension[\"net_tfa\"] = pension[\"net_tfa\"] / 1000\n",
    "pension"
   ]
  },
  {
   "cell_type": "code",
   "execution_count": null,
   "id": "7f83b31a",
   "metadata": {},
   "outputs": [],
   "source": [
    "## covariate of interest -- log income --\n",
    "pension[\"inc\"] = np.log(pension[\"inc\"])\n",
    "\n",
    "pension = pension[~pension.isin([np.nan, np.inf, -np.inf]).any(1)]\n",
    "pension = pension.reset_index()"
   ]
  },
  {
   "cell_type": "code",
   "execution_count": null,
   "id": "eb345fc4",
   "metadata": {},
   "outputs": [],
   "source": [
    "## outcome variable -- total net financial assets\n",
    "Y = pension[\"net_tfa\"]\n",
    "\n",
    "## binary treatment --  indicator of 401(k) eligibility\n",
    "D = pension[\"e401\"]\n",
    "\n",
    "X = pension[\"inc\"]\n",
    "\n",
    "## raw covariates so that Y(1) and Y(0) are independent of D given Z\n",
    "Z = pension[[\"age\",\"inc\",\"fsize\",\"educ\",\"male\",\"db\",\"marr\",\"twoearn\",\"pira\",\"hown\",\"hval\",\"hequity\",\"hmort\",\n",
    "              \"nohs\",\"hs\",\"smcol\"]]\n",
    "\n",
    "y_name = \"net_tfa\"\n",
    "d_name = \"e401\"\n",
    "form_z = \"(poly(age, 6) + poly(inc, 8) + poly(educ, 4) + poly(fsize,2) + as.factor(marr) + as.factor(twoearn) + as.factor(db) + as.factor(pira) + as.factor(hown))^2\""
   ]
  },
  {
   "cell_type": "code",
   "execution_count": null,
   "id": "b7ea79b3",
   "metadata": {},
   "outputs": [],
   "source": [
    "print(\"\\n sample size is {} \\n\".format(len(Y)))\n",
    "print(\"\\n num raw covariates z is {} \\n\".format(Z.shape[1]))"
   ]
  },
  {
   "cell_type": "code",
   "execution_count": null,
   "id": "61780969",
   "metadata": {},
   "outputs": [],
   "source": [
    "features = pension.copy()[['marr', 'twoearn', 'db', 'pira', 'hown']]\n"
   ]
  },
  {
   "cell_type": "code",
   "execution_count": null,
   "id": "8ee11bcf",
   "metadata": {},
   "outputs": [],
   "source": [
    "poly_dict = {'age': 6,\n",
    "             'inc': 8,\n",
    "             'educ': 4,\n",
    "             'fsize': 2}\n",
    "for key, degree in poly_dict.items():\n",
    "    poly = PolynomialFeatures(degree, include_bias=False)\n",
    "    data_transf = poly.fit_transform(pension[[key]])\n",
    "    x_cols = poly.get_feature_names([key])\n",
    "    data_transf = pd.DataFrame(data_transf, columns=x_cols)\n",
    "    \n",
    "    features = pd.concat((features, data_transf),\n",
    "                          axis=1, sort=False)"
   ]
  },
  {
   "cell_type": "code",
   "execution_count": null,
   "id": "436fdc2e",
   "metadata": {},
   "outputs": [],
   "source": [
    "import patsy \n",
    "from patsy import ModelDesc, Term, EvalFactor"
   ]
  },
  {
   "cell_type": "code",
   "execution_count": null,
   "id": "42f58d0f",
   "metadata": {},
   "outputs": [],
   "source": [
    "features"
   ]
  },
  {
   "cell_type": "code",
   "execution_count": null,
   "id": "b7aa396c",
   "metadata": {},
   "outputs": [],
   "source": [
    "new_columns = ['marr', 'twoearn', 'db', 'pira', 'hown',\\\n",
    "        'age', 'age_2', 'age_3', 'age_4', 'age_5', 'age_6', \\\n",
    "        'inc', 'inc_2', 'inc_3', 'inc_4', 'inc_5', 'inc_6', 'inc_7', 'inc_8', \\\n",
    "        'educ', 'educ_2', 'educ_3', 'educ_4',\\\n",
    "        'fsize', 'fsize_2']"
   ]
  },
  {
   "cell_type": "code",
   "execution_count": null,
   "id": "2567c72c",
   "metadata": {},
   "outputs": [],
   "source": [
    "features.columns = [new_columns]\n",
    "features"
   ]
  },
  {
   "cell_type": "code",
   "execution_count": null,
   "id": "7362d83d",
   "metadata": {},
   "outputs": [],
   "source": [
    "formula = \"(marr + twoearn + db + pira + hown + \\\n",
    "         age + age_2 +  age_3 +  age_4 +  age_5 +  age_6 + \\\n",
    "         inc +  inc_2 +  inc_3 + inc_4 +  inc_5 +  inc_6 +  inc_7 +  inc_8 + \\\n",
    "         educ +  educ_2 + educ_3 + educ_4 + \\\n",
    "         fsize +  fsize_2)**2\"\n",
    "formula"
   ]
  },
  {
   "cell_type": "code",
   "execution_count": null,
   "id": "f0186532",
   "metadata": {},
   "outputs": [],
   "source": [
    "y_name = pension[\"net_tfa\"].to_numpy()\n",
    "d_name = pension[\"e401\"].to_numpy()\n",
    "form_z = patsy.dmatrix(formula, features)\n"
   ]
  },
  {
   "cell_type": "code",
   "execution_count": null,
   "id": "84ed1b70",
   "metadata": {},
   "outputs": [],
   "source": [
    "Cs = 0.0001*np.logspace(0, 4, 10)\n",
    "clf = LogisticRegressionCV(cv=5, penalty='l1', solver='liblinear',\n",
    "                                                 Cs = Cs, max_iter=100).fit(form_z, d_name)"
   ]
  },
  {
   "cell_type": "code",
   "execution_count": null,
   "id": "75caac9f",
   "metadata": {},
   "outputs": [],
   "source": [
    "a =  clf.predict(form_z)\n",
    "np.var(a)"
   ]
  },
  {
   "cell_type": "code",
   "execution_count": null,
   "id": "8b4ce6b0",
   "metadata": {},
   "outputs": [],
   "source": [
    "np.logspace(0, 4, 10)"
   ]
  },
  {
   "cell_type": "code",
   "execution_count": null,
   "id": "4d1c3b8f",
   "metadata": {},
   "outputs": [],
   "source": []
  },
  {
   "cell_type": "code",
   "execution_count": null,
   "id": "e6956f87",
   "metadata": {},
   "outputs": [],
   "source": []
  },
  {
   "cell_type": "code",
   "execution_count": null,
   "id": "bb196d99",
   "metadata": {},
   "outputs": [],
   "source": []
  },
  {
   "cell_type": "code",
   "execution_count": null,
   "id": "110af6e3",
   "metadata": {},
   "outputs": [],
   "source": []
  },
  {
   "cell_type": "code",
   "execution_count": null,
   "id": "d890193d",
   "metadata": {},
   "outputs": [],
   "source": []
  },
  {
   "cell_type": "code",
   "execution_count": null,
   "id": "89b10155",
   "metadata": {},
   "outputs": [],
   "source": []
  },
  {
   "cell_type": "code",
   "execution_count": null,
   "id": "1343626b",
   "metadata": {},
   "outputs": [],
   "source": []
  },
  {
   "cell_type": "code",
   "execution_count": null,
   "id": "da3aa5a3",
   "metadata": {},
   "outputs": [],
   "source": []
  },
  {
   "cell_type": "code",
   "execution_count": null,
   "id": "24147050",
   "metadata": {},
   "outputs": [],
   "source": []
  },
  {
   "cell_type": "code",
   "execution_count": null,
   "id": "7965f5c7",
   "metadata": {},
   "outputs": [],
   "source": []
  }
 ],
 "metadata": {
  "kernelspec": {
   "display_name": "Python 3",
   "language": "python",
   "name": "python3"
  },
  "language_info": {
   "codemirror_mode": {
    "name": "ipython",
    "version": 3
   },
   "file_extension": ".py",
   "mimetype": "text/x-python",
   "name": "python",
   "nbconvert_exporter": "python",
   "pygments_lexer": "ipython3",
   "version": "3.8.8"
  }
 },
 "nbformat": 4,
 "nbformat_minor": 5
}
