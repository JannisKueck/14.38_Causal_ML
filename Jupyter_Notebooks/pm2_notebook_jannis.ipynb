{
 "cells": [
  {
   "cell_type": "markdown",
   "metadata": {},
   "source": [
    "This notebook contains an example for teaching."
   ]
  },
  {
   "cell_type": "markdown",
   "metadata": {},
   "source": [
    "# Testing the Convergence Hypothesis"
   ]
  },
  {
   "cell_type": "markdown",
   "metadata": {},
   "source": [
    "## Introduction"
   ]
  },
  {
   "cell_type": "markdown",
   "metadata": {},
   "source": [
    "We provide an additional empirical example of partialling-out with Lasso to estimate the regression coefficient $\\beta_1$ in the high-dimensional linear regression model:\n",
    "  $$\n",
    "  Y = \\beta_1 D +  \\beta_2'W + \\epsilon.\n",
    "  $$\n",
    "  \n",
    "Specifically, we are interested in how the rates  at which economies of different countries grow ($Y$) are related to the initial wealth levels in each country ($D$) controlling for country's institutional, educational, and other similar characteristics ($W$).\n",
    "  \n",
    "The relationship is captured by $\\beta_1$, the *speed of convergence/divergence*, which measures the speed at which poor countries catch up $(\\beta_1< 0)$ or fall behind $(\\beta_1> 0)$ rich countries, after controlling for $W$. Our inference question here is: do poor countries grow faster than rich countries, controlling for educational and other characteristics? In other words, is the speed of convergence negative: $ \\beta_1 <0?$ This is the Convergence Hypothesis predicted by the Solow Growth Model. This is a structural economic model. Under some strong assumptions, that we won't state here, the predictive exercise we are doing here can be given causal interpretation.\n"
   ]
  },
  {
   "cell_type": "markdown",
   "metadata": {},
   "source": [
    "The outcome $Y$ is the realized annual growth rate of a country's wealth  (Gross Domestic Product per capita). The target regressor ($D$) is the initial level of the country's wealth. The target parameter $\\beta_1$ is the speed of convergence, which measures the speed at which poor countries catch up with rich countries. The controls ($W$) include measures of education levels, quality of institutions, trade openness, and political stability in the country."
   ]
  },
  {
   "cell_type": "markdown",
   "metadata": {},
   "source": [
    "## Data analysis\n"
   ]
  },
  {
   "cell_type": "markdown",
   "metadata": {},
   "source": [
    "We consider the data set GrowthData which is included in the package *hdm*. First, let us load the data set to get familiar with the data."
   ]
  },
  {
   "cell_type": "code",
   "execution_count": 166,
   "metadata": {},
   "outputs": [],
   "source": [
    "import hdmpy\n",
    "import pandas as pd\n",
    "import numpy as np\n",
    "import pyreadr\n",
    "import math\n",
    "import matplotlib.pyplot as plt\n",
    "import random"
   ]
  },
  {
   "cell_type": "code",
   "execution_count": 167,
   "metadata": {},
   "outputs": [],
   "source": [
    "growth_read = pyreadr.read_r(\"C:/Users/MSI-NB/Documents/GitHub/14.38_Causal_ML/data/GrowthData.RData\")\n",
    "# Extracting the data frame from rdata_read\n",
    "growth = growth_read[ 'GrowthData' ]"
   ]
  },
  {
   "cell_type": "code",
   "execution_count": 168,
   "metadata": {},
   "outputs": [
    {
     "data": {
      "text/html": [
       "<div>\n",
       "<style scoped>\n",
       "    .dataframe tbody tr th:only-of-type {\n",
       "        vertical-align: middle;\n",
       "    }\n",
       "\n",
       "    .dataframe tbody tr th {\n",
       "        vertical-align: top;\n",
       "    }\n",
       "\n",
       "    .dataframe thead th {\n",
       "        text-align: right;\n",
       "    }\n",
       "</style>\n",
       "<table border=\"1\" class=\"dataframe\">\n",
       "  <thead>\n",
       "    <tr style=\"text-align: right;\">\n",
       "      <th></th>\n",
       "      <th>Outcome</th>\n",
       "      <th>intercept</th>\n",
       "      <th>gdpsh465</th>\n",
       "      <th>bmp1l</th>\n",
       "      <th>freeop</th>\n",
       "      <th>freetar</th>\n",
       "      <th>h65</th>\n",
       "      <th>hm65</th>\n",
       "      <th>hf65</th>\n",
       "      <th>p65</th>\n",
       "      <th>...</th>\n",
       "      <th>seccf65</th>\n",
       "      <th>syr65</th>\n",
       "      <th>syrm65</th>\n",
       "      <th>syrf65</th>\n",
       "      <th>teapri65</th>\n",
       "      <th>teasec65</th>\n",
       "      <th>ex1</th>\n",
       "      <th>im1</th>\n",
       "      <th>xr65</th>\n",
       "      <th>tot1</th>\n",
       "    </tr>\n",
       "  </thead>\n",
       "  <tbody>\n",
       "    <tr>\n",
       "      <th>0</th>\n",
       "      <td>-0.024336</td>\n",
       "      <td>1</td>\n",
       "      <td>6.591674</td>\n",
       "      <td>0.2837</td>\n",
       "      <td>0.153491</td>\n",
       "      <td>0.043888</td>\n",
       "      <td>0.007</td>\n",
       "      <td>0.013</td>\n",
       "      <td>0.001</td>\n",
       "      <td>0.29</td>\n",
       "      <td>...</td>\n",
       "      <td>0.04</td>\n",
       "      <td>0.033</td>\n",
       "      <td>0.057</td>\n",
       "      <td>0.010</td>\n",
       "      <td>47.6</td>\n",
       "      <td>17.3</td>\n",
       "      <td>0.0729</td>\n",
       "      <td>0.0667</td>\n",
       "      <td>0.348</td>\n",
       "      <td>-0.014727</td>\n",
       "    </tr>\n",
       "    <tr>\n",
       "      <th>1</th>\n",
       "      <td>0.100473</td>\n",
       "      <td>1</td>\n",
       "      <td>6.829794</td>\n",
       "      <td>0.6141</td>\n",
       "      <td>0.313509</td>\n",
       "      <td>0.061827</td>\n",
       "      <td>0.019</td>\n",
       "      <td>0.032</td>\n",
       "      <td>0.007</td>\n",
       "      <td>0.91</td>\n",
       "      <td>...</td>\n",
       "      <td>0.64</td>\n",
       "      <td>0.173</td>\n",
       "      <td>0.274</td>\n",
       "      <td>0.067</td>\n",
       "      <td>57.1</td>\n",
       "      <td>18.0</td>\n",
       "      <td>0.0940</td>\n",
       "      <td>0.1438</td>\n",
       "      <td>0.525</td>\n",
       "      <td>0.005750</td>\n",
       "    </tr>\n",
       "    <tr>\n",
       "      <th>2</th>\n",
       "      <td>0.067051</td>\n",
       "      <td>1</td>\n",
       "      <td>8.895082</td>\n",
       "      <td>0.0000</td>\n",
       "      <td>0.204244</td>\n",
       "      <td>0.009186</td>\n",
       "      <td>0.260</td>\n",
       "      <td>0.325</td>\n",
       "      <td>0.201</td>\n",
       "      <td>1.00</td>\n",
       "      <td>...</td>\n",
       "      <td>18.14</td>\n",
       "      <td>2.573</td>\n",
       "      <td>2.478</td>\n",
       "      <td>2.667</td>\n",
       "      <td>26.5</td>\n",
       "      <td>20.7</td>\n",
       "      <td>0.1741</td>\n",
       "      <td>0.1750</td>\n",
       "      <td>1.082</td>\n",
       "      <td>-0.010040</td>\n",
       "    </tr>\n",
       "    <tr>\n",
       "      <th>3</th>\n",
       "      <td>0.064089</td>\n",
       "      <td>1</td>\n",
       "      <td>7.565275</td>\n",
       "      <td>0.1997</td>\n",
       "      <td>0.248714</td>\n",
       "      <td>0.036270</td>\n",
       "      <td>0.061</td>\n",
       "      <td>0.070</td>\n",
       "      <td>0.051</td>\n",
       "      <td>1.00</td>\n",
       "      <td>...</td>\n",
       "      <td>2.63</td>\n",
       "      <td>0.438</td>\n",
       "      <td>0.453</td>\n",
       "      <td>0.424</td>\n",
       "      <td>27.8</td>\n",
       "      <td>22.7</td>\n",
       "      <td>0.1265</td>\n",
       "      <td>0.1496</td>\n",
       "      <td>6.625</td>\n",
       "      <td>-0.002195</td>\n",
       "    </tr>\n",
       "    <tr>\n",
       "      <th>4</th>\n",
       "      <td>0.027930</td>\n",
       "      <td>1</td>\n",
       "      <td>7.162397</td>\n",
       "      <td>0.1740</td>\n",
       "      <td>0.299252</td>\n",
       "      <td>0.037367</td>\n",
       "      <td>0.017</td>\n",
       "      <td>0.027</td>\n",
       "      <td>0.007</td>\n",
       "      <td>0.82</td>\n",
       "      <td>...</td>\n",
       "      <td>2.11</td>\n",
       "      <td>0.257</td>\n",
       "      <td>0.287</td>\n",
       "      <td>0.229</td>\n",
       "      <td>34.5</td>\n",
       "      <td>17.6</td>\n",
       "      <td>0.1211</td>\n",
       "      <td>0.1308</td>\n",
       "      <td>2.500</td>\n",
       "      <td>0.003283</td>\n",
       "    </tr>\n",
       "    <tr>\n",
       "      <th>...</th>\n",
       "      <td>...</td>\n",
       "      <td>...</td>\n",
       "      <td>...</td>\n",
       "      <td>...</td>\n",
       "      <td>...</td>\n",
       "      <td>...</td>\n",
       "      <td>...</td>\n",
       "      <td>...</td>\n",
       "      <td>...</td>\n",
       "      <td>...</td>\n",
       "      <td>...</td>\n",
       "      <td>...</td>\n",
       "      <td>...</td>\n",
       "      <td>...</td>\n",
       "      <td>...</td>\n",
       "      <td>...</td>\n",
       "      <td>...</td>\n",
       "      <td>...</td>\n",
       "      <td>...</td>\n",
       "      <td>...</td>\n",
       "      <td>...</td>\n",
       "    </tr>\n",
       "    <tr>\n",
       "      <th>85</th>\n",
       "      <td>0.031196</td>\n",
       "      <td>1</td>\n",
       "      <td>8.991064</td>\n",
       "      <td>0.0000</td>\n",
       "      <td>0.371898</td>\n",
       "      <td>0.014586</td>\n",
       "      <td>0.255</td>\n",
       "      <td>0.336</td>\n",
       "      <td>0.170</td>\n",
       "      <td>0.98</td>\n",
       "      <td>...</td>\n",
       "      <td>11.41</td>\n",
       "      <td>2.226</td>\n",
       "      <td>2.494</td>\n",
       "      <td>1.971</td>\n",
       "      <td>27.5</td>\n",
       "      <td>15.9</td>\n",
       "      <td>0.4407</td>\n",
       "      <td>0.4257</td>\n",
       "      <td>2.529</td>\n",
       "      <td>-0.011883</td>\n",
       "    </tr>\n",
       "    <tr>\n",
       "      <th>86</th>\n",
       "      <td>0.034096</td>\n",
       "      <td>1</td>\n",
       "      <td>8.025189</td>\n",
       "      <td>0.0050</td>\n",
       "      <td>0.296437</td>\n",
       "      <td>0.013615</td>\n",
       "      <td>0.108</td>\n",
       "      <td>0.117</td>\n",
       "      <td>0.093</td>\n",
       "      <td>1.00</td>\n",
       "      <td>...</td>\n",
       "      <td>1.95</td>\n",
       "      <td>0.510</td>\n",
       "      <td>0.694</td>\n",
       "      <td>0.362</td>\n",
       "      <td>20.2</td>\n",
       "      <td>15.7</td>\n",
       "      <td>0.1669</td>\n",
       "      <td>0.2201</td>\n",
       "      <td>25.553</td>\n",
       "      <td>-0.039080</td>\n",
       "    </tr>\n",
       "    <tr>\n",
       "      <th>87</th>\n",
       "      <td>0.046900</td>\n",
       "      <td>1</td>\n",
       "      <td>9.030137</td>\n",
       "      <td>0.0000</td>\n",
       "      <td>0.265778</td>\n",
       "      <td>0.008629</td>\n",
       "      <td>0.288</td>\n",
       "      <td>0.337</td>\n",
       "      <td>0.237</td>\n",
       "      <td>1.00</td>\n",
       "      <td>...</td>\n",
       "      <td>25.64</td>\n",
       "      <td>2.727</td>\n",
       "      <td>2.664</td>\n",
       "      <td>2.788</td>\n",
       "      <td>20.4</td>\n",
       "      <td>9.4</td>\n",
       "      <td>0.3238</td>\n",
       "      <td>0.3134</td>\n",
       "      <td>4.152</td>\n",
       "      <td>0.005175</td>\n",
       "    </tr>\n",
       "    <tr>\n",
       "      <th>88</th>\n",
       "      <td>0.039773</td>\n",
       "      <td>1</td>\n",
       "      <td>8.865312</td>\n",
       "      <td>0.0000</td>\n",
       "      <td>0.282939</td>\n",
       "      <td>0.005048</td>\n",
       "      <td>0.188</td>\n",
       "      <td>0.236</td>\n",
       "      <td>0.139</td>\n",
       "      <td>1.00</td>\n",
       "      <td>...</td>\n",
       "      <td>10.76</td>\n",
       "      <td>1.888</td>\n",
       "      <td>1.920</td>\n",
       "      <td>1.860</td>\n",
       "      <td>20.0</td>\n",
       "      <td>16.0</td>\n",
       "      <td>0.1845</td>\n",
       "      <td>0.1940</td>\n",
       "      <td>0.452</td>\n",
       "      <td>-0.029551</td>\n",
       "    </tr>\n",
       "    <tr>\n",
       "      <th>89</th>\n",
       "      <td>0.040642</td>\n",
       "      <td>1</td>\n",
       "      <td>8.912339</td>\n",
       "      <td>0.0000</td>\n",
       "      <td>0.150366</td>\n",
       "      <td>0.024377</td>\n",
       "      <td>0.257</td>\n",
       "      <td>0.338</td>\n",
       "      <td>0.215</td>\n",
       "      <td>1.00</td>\n",
       "      <td>...</td>\n",
       "      <td>24.40</td>\n",
       "      <td>3.051</td>\n",
       "      <td>3.235</td>\n",
       "      <td>2.875</td>\n",
       "      <td>18.5</td>\n",
       "      <td>29.1</td>\n",
       "      <td>0.1876</td>\n",
       "      <td>0.2007</td>\n",
       "      <td>0.886</td>\n",
       "      <td>-0.036482</td>\n",
       "    </tr>\n",
       "  </tbody>\n",
       "</table>\n",
       "<p>90 rows × 63 columns</p>\n",
       "</div>"
      ],
      "text/plain": [
       "     Outcome  intercept  gdpsh465   bmp1l    freeop   freetar    h65   hm65  \\\n",
       "0  -0.024336          1  6.591674  0.2837  0.153491  0.043888  0.007  0.013   \n",
       "1   0.100473          1  6.829794  0.6141  0.313509  0.061827  0.019  0.032   \n",
       "2   0.067051          1  8.895082  0.0000  0.204244  0.009186  0.260  0.325   \n",
       "3   0.064089          1  7.565275  0.1997  0.248714  0.036270  0.061  0.070   \n",
       "4   0.027930          1  7.162397  0.1740  0.299252  0.037367  0.017  0.027   \n",
       "..       ...        ...       ...     ...       ...       ...    ...    ...   \n",
       "85  0.031196          1  8.991064  0.0000  0.371898  0.014586  0.255  0.336   \n",
       "86  0.034096          1  8.025189  0.0050  0.296437  0.013615  0.108  0.117   \n",
       "87  0.046900          1  9.030137  0.0000  0.265778  0.008629  0.288  0.337   \n",
       "88  0.039773          1  8.865312  0.0000  0.282939  0.005048  0.188  0.236   \n",
       "89  0.040642          1  8.912339  0.0000  0.150366  0.024377  0.257  0.338   \n",
       "\n",
       "     hf65   p65  ...  seccf65  syr65  syrm65  syrf65  teapri65  teasec65  \\\n",
       "0   0.001  0.29  ...     0.04  0.033   0.057   0.010      47.6      17.3   \n",
       "1   0.007  0.91  ...     0.64  0.173   0.274   0.067      57.1      18.0   \n",
       "2   0.201  1.00  ...    18.14  2.573   2.478   2.667      26.5      20.7   \n",
       "3   0.051  1.00  ...     2.63  0.438   0.453   0.424      27.8      22.7   \n",
       "4   0.007  0.82  ...     2.11  0.257   0.287   0.229      34.5      17.6   \n",
       "..    ...   ...  ...      ...    ...     ...     ...       ...       ...   \n",
       "85  0.170  0.98  ...    11.41  2.226   2.494   1.971      27.5      15.9   \n",
       "86  0.093  1.00  ...     1.95  0.510   0.694   0.362      20.2      15.7   \n",
       "87  0.237  1.00  ...    25.64  2.727   2.664   2.788      20.4       9.4   \n",
       "88  0.139  1.00  ...    10.76  1.888   1.920   1.860      20.0      16.0   \n",
       "89  0.215  1.00  ...    24.40  3.051   3.235   2.875      18.5      29.1   \n",
       "\n",
       "       ex1     im1    xr65      tot1  \n",
       "0   0.0729  0.0667   0.348 -0.014727  \n",
       "1   0.0940  0.1438   0.525  0.005750  \n",
       "2   0.1741  0.1750   1.082 -0.010040  \n",
       "3   0.1265  0.1496   6.625 -0.002195  \n",
       "4   0.1211  0.1308   2.500  0.003283  \n",
       "..     ...     ...     ...       ...  \n",
       "85  0.4407  0.4257   2.529 -0.011883  \n",
       "86  0.1669  0.2201  25.553 -0.039080  \n",
       "87  0.3238  0.3134   4.152  0.005175  \n",
       "88  0.1845  0.1940   0.452 -0.029551  \n",
       "89  0.1876  0.2007   0.886 -0.036482  \n",
       "\n",
       "[90 rows x 63 columns]"
      ]
     },
     "execution_count": 168,
     "metadata": {},
     "output_type": "execute_result"
    }
   ],
   "source": [
    "growth"
   ]
  },
  {
   "cell_type": "markdown",
   "metadata": {},
   "source": [
    "We determine the dimension of our data set."
   ]
  },
  {
   "cell_type": "code",
   "execution_count": 169,
   "metadata": {},
   "outputs": [
    {
     "data": {
      "text/plain": [
       "(90, 63)"
      ]
     },
     "execution_count": 169,
     "metadata": {},
     "output_type": "execute_result"
    }
   ],
   "source": [
    "growth.shape"
   ]
  },
  {
   "cell_type": "markdown",
   "metadata": {
    "papermill": {
     "duration": 0.025013,
     "end_time": "2021-01-20T08:46:45.109042",
     "exception": false,
     "start_time": "2021-01-20T08:46:45.084029",
     "status": "completed"
    },
    "tags": []
   },
   "source": [
    "The sample contains $90$ countries and $63$ controls. Thus $p \\approx 60$, $n=90$ and $p/n$ is not small. We expect the least squares method to provide a poor estimate of $\\beta_1$.  We expect the method based on partialling-out with Lasso to provide a high quality estimate of $\\beta_1$."
   ]
  },
  {
   "cell_type": "markdown",
   "metadata": {
    "papermill": {
     "duration": 0.024124,
     "end_time": "2021-01-20T08:46:45.157510",
     "exception": false,
     "start_time": "2021-01-20T08:46:45.133386",
     "status": "completed"
    },
    "tags": []
   },
   "source": [
    "To check this hypothesis, we analyze the relation between the output variable $Y$ and the other country's characteristics by running a linear regression in the first step."
   ]
  },
  {
   "cell_type": "code",
   "execution_count": 170,
   "metadata": {},
   "outputs": [],
   "source": [
    "import statsmodels.api as sm\n",
    "import statsmodels.formula.api as smf"
   ]
  },
  {
   "cell_type": "code",
   "execution_count": 171,
   "metadata": {},
   "outputs": [],
   "source": [
    "# We create the main variables\n",
    "y = growth['Outcome']\n",
    "X = growth.drop('Outcome', 1)"
   ]
  },
  {
   "cell_type": "code",
   "execution_count": 172,
   "metadata": {},
   "outputs": [
    {
     "name": "stdout",
     "output_type": "stream",
     "text": [
      "                            OLS Regression Results                            \n",
      "==============================================================================\n",
      "Dep. Variable:                Outcome   R-squared:                       0.887\n",
      "Model:                            OLS   Adj. R-squared:                  0.641\n",
      "Method:                 Least Squares   F-statistic:                     3.607\n",
      "Date:                Tue, 06 Apr 2021   Prob (F-statistic):           0.000200\n",
      "Time:                        15:05:15   Log-Likelihood:                 238.24\n",
      "No. Observations:                  90   AIC:                            -352.5\n",
      "Df Residuals:                      28   BIC:                            -197.5\n",
      "Df Model:                          61                                         \n",
      "Covariance Type:            nonrobust                                         \n",
      "==============================================================================\n",
      "                 coef    std err          t      P>|t|      [0.025      0.975]\n",
      "------------------------------------------------------------------------------\n",
      "intercept      0.2472      0.785      0.315      0.755      -1.360       1.854\n",
      "gdpsh465      -0.0094      0.030     -0.314      0.756      -0.071       0.052\n",
      "bmp1l         -0.0689      0.033     -2.117      0.043      -0.135      -0.002\n",
      "freeop         0.0801      0.208      0.385      0.703      -0.346       0.506\n",
      "freetar       -0.4890      0.418     -1.169      0.252      -1.346       0.368\n",
      "h65           -2.3621      0.857     -2.755      0.010      -4.118      -0.606\n",
      "hm65           0.7071      0.523      1.352      0.187      -0.364       1.779\n",
      "hf65           1.6934      0.503      3.365      0.002       0.663       2.724\n",
      "p65            0.2655      0.164      1.616      0.117      -0.071       0.602\n",
      "pm65           0.1370      0.151      0.906      0.373      -0.173       0.447\n",
      "pf65          -0.3313      0.165     -2.006      0.055      -0.670       0.007\n",
      "s65            0.0391      0.186      0.211      0.835      -0.341       0.419\n",
      "sm65          -0.0307      0.117     -0.263      0.795      -0.270       0.209\n",
      "sf65          -0.1799      0.118     -1.523      0.139      -0.422       0.062\n",
      "fert65         0.0069      0.027      0.254      0.801      -0.049       0.062\n",
      "mort65        -0.2335      0.817     -0.286      0.777      -1.908       1.441\n",
      "lifee065      -0.0149      0.193     -0.077      0.939      -0.411       0.381\n",
      "gpop1          0.9702      1.812      0.535      0.597      -2.742       4.682\n",
      "fert1          0.0088      0.035      0.252      0.803      -0.063       0.081\n",
      "mort1          0.0666      0.685      0.097      0.923      -1.336       1.469\n",
      "invsh41        0.0745      0.108      0.687      0.498      -0.148       0.297\n",
      "geetot1       -0.7151      1.680     -0.426      0.674      -4.157       2.726\n",
      "geerec1        0.6300      2.447      0.257      0.799      -4.383       5.643\n",
      "gde1          -0.4436      1.671     -0.265      0.793      -3.867       2.980\n",
      "govwb1         0.3375      0.438      0.770      0.447      -0.560       1.235\n",
      "govsh41        0.4632      1.925      0.241      0.812      -3.481       4.407\n",
      "gvxdxe41      -0.7934      2.059     -0.385      0.703      -5.012       3.425\n",
      "high65        -0.7525      0.906     -0.831      0.413      -2.608       1.103\n",
      "highm65       -0.3903      0.681     -0.573      0.571      -1.786       1.005\n",
      "highf65       -0.4177      0.561     -0.744      0.463      -1.568       0.732\n",
      "highc65       -2.2158      1.481     -1.496      0.146      -5.249       0.818\n",
      "highcm65       0.2797      0.658      0.425      0.674      -1.069       1.628\n",
      "highcf65       0.3921      0.766      0.512      0.613      -1.177       1.961\n",
      "human65        2.3373      3.307      0.707      0.486      -4.437       9.112\n",
      "humanm65      -1.2092      1.619     -0.747      0.461      -4.525       2.106\n",
      "humanf65      -1.1039      1.685     -0.655      0.518      -4.555       2.347\n",
      "hyr65         54.9139     23.887      2.299      0.029       5.983     103.845\n",
      "hyrm65        12.9350     23.171      0.558      0.581     -34.529      60.400\n",
      "hyrf65         9.0926     17.670      0.515      0.611     -27.102      45.287\n",
      "no65           0.0372      0.132      0.282      0.780      -0.233       0.308\n",
      "nom65         -0.0212      0.065     -0.326      0.747      -0.154       0.112\n",
      "nof65         -0.0169      0.067     -0.252      0.803      -0.154       0.120\n",
      "pinstab1      -0.0500      0.031     -1.616      0.117      -0.113       0.013\n",
      "pop65       1.032e-07   1.32e-07      0.783      0.440   -1.67e-07    3.73e-07\n",
      "worker65       0.0341      0.156      0.218      0.829      -0.286       0.354\n",
      "pop1565       -0.4655      0.471     -0.988      0.332      -1.431       0.500\n",
      "pop6565       -1.3575      0.635     -2.138      0.041      -2.658      -0.057\n",
      "sec65         -0.0109      0.308     -0.035      0.972      -0.641       0.619\n",
      "secm65         0.0033      0.151      0.022      0.983      -0.306       0.313\n",
      "secf65        -0.0023      0.158     -0.015      0.988      -0.326       0.321\n",
      "secc65        -0.4915      0.729     -0.674      0.506      -1.985       1.002\n",
      "seccm65        0.2596      0.356      0.730      0.471      -0.469       0.988\n",
      "seccf65        0.2207      0.373      0.591      0.559      -0.544       0.985\n",
      "syr65         -0.7556      7.977     -0.095      0.925     -17.095      15.584\n",
      "syrm65         0.3109      3.897      0.080      0.937      -7.671       8.293\n",
      "syrf65         0.7593      4.111      0.185      0.855      -7.661       9.180\n",
      "teapri65    3.955e-05      0.001      0.051      0.959      -0.002       0.002\n",
      "teasec65       0.0002      0.001      0.213      0.833      -0.002       0.003\n",
      "ex1           -0.5804      0.242     -2.400      0.023      -1.076      -0.085\n",
      "im1            0.5914      0.250      2.363      0.025       0.079       1.104\n",
      "xr65          -0.0001   5.42e-05     -1.916      0.066      -0.000    7.18e-06\n",
      "tot1          -0.1279      0.113     -1.136      0.266      -0.359       0.103\n",
      "==============================================================================\n",
      "Omnibus:                        0.439   Durbin-Watson:                   1.982\n",
      "Prob(Omnibus):                  0.803   Jarque-Bera (JB):                0.417\n",
      "Skew:                           0.158   Prob(JB):                        0.812\n",
      "Kurtosis:                       2.896   Cond. No.                     7.52e+08\n",
      "==============================================================================\n",
      "\n",
      "Notes:\n",
      "[1] Standard Errors assume that the covariance matrix of the errors is correctly specified.\n",
      "[2] The condition number is large, 7.52e+08. This might indicate that there are\n",
      "strong multicollinearity or other numerical problems.\n"
     ]
    }
   ],
   "source": [
    "# OLS regression\n",
    "reg_ols  = sm.OLS(y, X).fit()\n",
    "print(reg_ols.summary())"
   ]
  },
  {
   "cell_type": "code",
   "execution_count": 173,
   "metadata": {},
   "outputs": [],
   "source": [
    "# output: estimated regression coefficient corresponding to the target regressor\n",
    "est_ols = reg_ols.summary2().tables[1]['Coef.']['gdpsh465']\n",
    "\n",
    "# output: std. error\n",
    "std_ols = reg_ols.summary2().tables[1]['Std.Err.']['gdpsh465']\n",
    "\n",
    "# output: 95% confidence interval\n",
    "lower_ci = reg_ols.summary2().tables[1]['[0.025']['gdpsh465']\n",
    "upper_ci = reg_ols.summary2().tables[1]['0.975]']['gdpsh465']"
   ]
  },
  {
   "cell_type": "markdown",
   "metadata": {},
   "source": [
    "## Summarize OLS results"
   ]
  },
  {
   "cell_type": "code",
   "execution_count": 178,
   "metadata": {},
   "outputs": [
    {
     "data": {
      "text/html": [
       "<div>\n",
       "<style scoped>\n",
       "    .dataframe tbody tr th:only-of-type {\n",
       "        vertical-align: middle;\n",
       "    }\n",
       "\n",
       "    .dataframe tbody tr th {\n",
       "        vertical-align: top;\n",
       "    }\n",
       "\n",
       "    .dataframe thead th {\n",
       "        text-align: right;\n",
       "    }\n",
       "</style>\n",
       "<table border=\"1\" class=\"dataframe\">\n",
       "  <thead>\n",
       "    <tr style=\"text-align: right;\">\n",
       "      <th></th>\n",
       "      <th>Estimator</th>\n",
       "      <th>Std. Error</th>\n",
       "      <th>lower bound CI</th>\n",
       "      <th>upper bound CI</th>\n",
       "    </tr>\n",
       "  </thead>\n",
       "  <tbody>\n",
       "    <tr>\n",
       "      <th>OLS</th>\n",
       "      <td>-0.009378</td>\n",
       "      <td>0.029888</td>\n",
       "      <td>-0.0706</td>\n",
       "      <td>0.051844</td>\n",
       "    </tr>\n",
       "  </tbody>\n",
       "</table>\n",
       "</div>"
      ],
      "text/plain": [
       "     Estimator  Std. Error  lower bound CI  upper bound CI\n",
       "OLS  -0.009378    0.029888         -0.0706        0.051844"
      ]
     },
     "execution_count": 178,
     "metadata": {},
     "output_type": "execute_result"
    }
   ],
   "source": [
    "table_1 = np.zeros( (1, 4) )\n",
    "\n",
    "table_1[0,0] = est_ols  \n",
    "table_1[0,1] = std_ols   \n",
    "table_1[0,2] = lower_ci\n",
    "table_1[0,3] = upper_ci    \n",
    "\n",
    "\n",
    "table_1_pandas = pd.DataFrame( table_1, columns = [ \"Estimator\",\"Std. Error\", \"lower bound CI\", \"upper bound CI\"  ])\n",
    "table_1_pandas.index = [ \"OLS\" ]\n",
    "table_1_html = table_1_pandas.to_html()\n",
    "table_1_pandas"
   ]
  },
  {
   "cell_type": "markdown",
   "metadata": {},
   "source": [
    "Least squares provides a rather noisy estimate (high standard error) of the\n",
    "speed of convergence, and does not allow us to answer the question\n",
    "about the convergence hypothesis since the confidence interval includes zero.\n",
    "\n",
    "In contrast, we can use the partialling-out approach based on lasso regression (\"Double Lasso\")."
   ]
  },
  {
   "cell_type": "code",
   "execution_count": 179,
   "metadata": {},
   "outputs": [],
   "source": [
    "# Create main variables\n",
    "Y = growth['Outcome']\n",
    "W = growth.drop(['Outcome','intercept', 'gdpsh465'], 1 )\n",
    "D = growth['gdpsh465']"
   ]
  },
  {
   "cell_type": "code",
   "execution_count": 180,
   "metadata": {},
   "outputs": [
    {
     "name": "stderr",
     "output_type": "stream",
     "text": [
      "C:\\Users\\MSI-NB\\anaconda3\\lib\\site-packages\\sklearn\\linear_model\\_coordinate_descent.py:529: ConvergenceWarning: Objective did not converge. You might want to increase the number of iterations. Duality gap: 0.0058288944773880885, tolerance: 2.3434976975716032e-05\n",
      "  model = cd_fast.enet_coordinate_descent(\n",
      "C:\\Users\\MSI-NB\\anaconda3\\lib\\site-packages\\sklearn\\linear_model\\_coordinate_descent.py:529: ConvergenceWarning: Objective did not converge. You might want to increase the number of iterations. Duality gap: 2.99724470007767, tolerance: 0.007147912790119585\n",
      "  model = cd_fast.enet_coordinate_descent(\n"
     ]
    }
   ],
   "source": [
    "from sklearn import linear_model\n",
    "\n",
    "# Seat values for Lasso\n",
    "lasso_model = linear_model.Lasso( alpha = 0.00077 )\n",
    "\n",
    "# Part. out Y\n",
    "Y_lasso_fitted = lasso_model.fit( W, Y ).predict( W )\n",
    "r_Y = Y - Y_lasso_fitted\n",
    "r_Y\n",
    "\n",
    "# Rename pandas series\n",
    "r_Y = r_Y.rename('r_Y')\n",
    "\n",
    "\n",
    "# Part. out d\n",
    "D_lasso_fitted = lasso_model.fit( W, D ).predict( W )\n",
    "r_D = D - D_lasso_fitted\n",
    "r_D\n",
    "\n",
    "# Rename pandas series\n",
    "r_D = r_D.rename('r_D')"
   ]
  },
  {
   "cell_type": "code",
   "execution_count": 181,
   "metadata": {},
   "outputs": [
    {
     "name": "stdout",
     "output_type": "stream",
     "text": [
      "Coefficient for D via partialling-out using lasso -0.04774655653302118\n"
     ]
    }
   ],
   "source": [
    "# Regress residuales\n",
    "partial_lasso_fit = sm.OLS(r_Y, r_D).fit()\n",
    "partial_lasso_est = partial_lasso_fit.summary2().tables[1]['Coef.']['r_D']\n",
    "\n",
    "print( f\"Coefficient for D via partialling-out using lasso {partial_lasso_est}\" )"
   ]
  },
  {
   "cell_type": "code",
   "execution_count": 182,
   "metadata": {},
   "outputs": [],
   "source": [
    "# output: estimated regression coefficient corresponding to the target regressor\n",
    "est_lasso = partial_lasso_fit.summary2().tables[1]['Coef.']['r_D']\n",
    "\n",
    "# output: std. error\n",
    "std_lasso = partial_lasso_fit.summary2().tables[1]['Std.Err.']['r_D']\n",
    "\n",
    "# output: 95% confidence interval\n",
    "lower_ci_lasso = partial_lasso_fit.summary2().tables[1]['[0.025']['r_D']\n",
    "upper_ci_lasso = partial_lasso_fit.summary2().tables[1]['0.975]']['r_D']"
   ]
  },
  {
   "cell_type": "markdown",
   "metadata": {},
   "source": [
    "## Summary LASSO results\n"
   ]
  },
  {
   "cell_type": "markdown",
   "metadata": {},
   "source": [
    "Finally, let us have a look at the results."
   ]
  },
  {
   "cell_type": "code",
   "execution_count": 183,
   "metadata": {},
   "outputs": [
    {
     "data": {
      "text/html": [
       "<div>\n",
       "<style scoped>\n",
       "    .dataframe tbody tr th:only-of-type {\n",
       "        vertical-align: middle;\n",
       "    }\n",
       "\n",
       "    .dataframe tbody tr th {\n",
       "        vertical-align: top;\n",
       "    }\n",
       "\n",
       "    .dataframe thead th {\n",
       "        text-align: right;\n",
       "    }\n",
       "</style>\n",
       "<table border=\"1\" class=\"dataframe\">\n",
       "  <thead>\n",
       "    <tr style=\"text-align: right;\">\n",
       "      <th></th>\n",
       "      <th>Estimator</th>\n",
       "      <th>Std. Error</th>\n",
       "      <th>lower bound CI</th>\n",
       "      <th>upper bound CI</th>\n",
       "    </tr>\n",
       "  </thead>\n",
       "  <tbody>\n",
       "    <tr>\n",
       "      <th>LASSO</th>\n",
       "      <td>-0.047747</td>\n",
       "      <td>0.017705</td>\n",
       "      <td>-0.082926</td>\n",
       "      <td>-0.012567</td>\n",
       "    </tr>\n",
       "  </tbody>\n",
       "</table>\n",
       "</div>"
      ],
      "text/plain": [
       "       Estimator  Std. Error  lower bound CI  upper bound CI\n",
       "LASSO  -0.047747    0.017705       -0.082926       -0.012567"
      ]
     },
     "execution_count": 183,
     "metadata": {},
     "output_type": "execute_result"
    }
   ],
   "source": [
    "table_2 = np.zeros( (1, 4) )\n",
    "\n",
    "table_2[0,0] = est_lasso  \n",
    "table_2[0,1] = std_lasso   \n",
    "table_2[0,2] = lower_ci_lasso\n",
    "table_2[0,3] = upper_ci_lasso    \n",
    "\n",
    "\n",
    "table_2_pandas = pd.DataFrame( table_2, columns = [ \"Estimator\",\"Std. Error\", \"lower bound CI\", \"upper bound CI\"  ])\n",
    "table_2_pandas.index = [ \"LASSO\" ]\n",
    "table_2_pandas"
   ]
  },
  {
   "cell_type": "code",
   "execution_count": 184,
   "metadata": {},
   "outputs": [
    {
     "data": {
      "text/html": [
       "<div>\n",
       "<style scoped>\n",
       "    .dataframe tbody tr th:only-of-type {\n",
       "        vertical-align: middle;\n",
       "    }\n",
       "\n",
       "    .dataframe tbody tr th {\n",
       "        vertical-align: top;\n",
       "    }\n",
       "\n",
       "    .dataframe thead th {\n",
       "        text-align: right;\n",
       "    }\n",
       "</style>\n",
       "<table border=\"1\" class=\"dataframe\">\n",
       "  <thead>\n",
       "    <tr style=\"text-align: right;\">\n",
       "      <th></th>\n",
       "      <th>Estimator</th>\n",
       "      <th>Std. Error</th>\n",
       "      <th>lower bound CI</th>\n",
       "      <th>upper bound CI</th>\n",
       "    </tr>\n",
       "  </thead>\n",
       "  <tbody>\n",
       "    <tr>\n",
       "      <th>OLS</th>\n",
       "      <td>-0.009378</td>\n",
       "      <td>0.029888</td>\n",
       "      <td>-0.070600</td>\n",
       "      <td>0.051844</td>\n",
       "    </tr>\n",
       "    <tr>\n",
       "      <th>LASSO</th>\n",
       "      <td>-0.047747</td>\n",
       "      <td>0.017705</td>\n",
       "      <td>-0.082926</td>\n",
       "      <td>-0.012567</td>\n",
       "    </tr>\n",
       "  </tbody>\n",
       "</table>\n",
       "</div>"
      ],
      "text/plain": [
       "       Estimator  Std. Error  lower bound CI  upper bound CI\n",
       "OLS    -0.009378    0.029888       -0.070600        0.051844\n",
       "LASSO  -0.047747    0.017705       -0.082926       -0.012567"
      ]
     },
     "execution_count": 184,
     "metadata": {},
     "output_type": "execute_result"
    }
   ],
   "source": [
    "table_3 = table_1_pandas.append(table_2_pandas)\n",
    "table_3"
   ]
  },
  {
   "cell_type": "code",
   "execution_count": 185,
   "metadata": {},
   "outputs": [
    {
     "name": "stdout",
     "output_type": "stream",
     "text": [
      "<table border=\"1\" class=\"dataframe\">\n",
      "  <thead>\n",
      "    <tr style=\"text-align: right;\">\n",
      "      <th></th>\n",
      "      <th>Estimator</th>\n",
      "      <th>Std. Error</th>\n",
      "      <th>lower bound CI</th>\n",
      "      <th>upper bound CI</th>\n",
      "    </tr>\n",
      "  </thead>\n",
      "  <tbody>\n",
      "    <tr>\n",
      "      <th>OLS</th>\n",
      "      <td>-0.009378</td>\n",
      "      <td>0.029888</td>\n",
      "      <td>-0.070600</td>\n",
      "      <td>0.051844</td>\n",
      "    </tr>\n",
      "    <tr>\n",
      "      <th>LASSO</th>\n",
      "      <td>-0.047747</td>\n",
      "      <td>0.017705</td>\n",
      "      <td>-0.082926</td>\n",
      "      <td>-0.012567</td>\n",
      "    </tr>\n",
      "  </tbody>\n",
      "</table>\n"
     ]
    }
   ],
   "source": [
    "table_3_html = table_3.to_html()\n",
    "print(table_html)"
   ]
  },
  {
   "cell_type": "markdown",
   "metadata": {},
   "source": [
    "The least square method provides a rather noisy estimate of the speed of convergence. We can not answer the question if poor countries grow faster than rich countries. The least square method does not work when the ratio $p/n$ is large.\n",
    "\n",
    "In sharp contrast, partialling-out via Lasso provides a more precise estimate. The Lasso based point estimate is $-5\\%$ and the $95\\%$ confidence interval for the (annual) rate of convergence $[-7.8\\%,-2.2\\%]$ only includes negative numbers. This empirical evidence does support the convergence hypothesis."
   ]
  },
  {
   "cell_type": "markdown",
   "metadata": {},
   "source": [
    "<table border=\"1\" class=\"dataframe\">\n",
    "  <thead>\n",
    "    <tr style=\"text-align: right;\">\n",
    "      <th></th>\n",
    "      <th>Estimator</th>\n",
    "      <th>Std. Error</th>\n",
    "      <th>lower bound CI</th>\n",
    "      <th>upper bound CI</th>\n",
    "    </tr>\n",
    "  </thead>\n",
    "  <tbody>\n",
    "    <tr>\n",
    "      <th>OLS</th>\n",
    "      <td>-0.009378</td>\n",
    "      <td>0.029888</td>\n",
    "      <td>-0.070600</td>\n",
    "      <td>0.051844</td>\n",
    "    </tr>\n",
    "    <tr>\n",
    "      <th>LASSO</th>\n",
    "      <td>-0.047747</td>\n",
    "      <td>0.017705</td>\n",
    "      <td>-0.082926</td>\n",
    "      <td>-0.012567</td>\n",
    "    </tr>\n",
    "  </tbody>\n",
    "</table>"
   ]
  }
 ],
 "metadata": {
  "kernelspec": {
   "display_name": "Python 3",
   "language": "python",
   "name": "python3"
  },
  "language_info": {
   "codemirror_mode": {
    "name": "ipython",
    "version": 3
   },
   "file_extension": ".py",
   "mimetype": "text/x-python",
   "name": "python",
   "nbconvert_exporter": "python",
   "pygments_lexer": "ipython3",
   "version": "3.8.5"
  }
 },
 "nbformat": 4,
 "nbformat_minor": 4
}
