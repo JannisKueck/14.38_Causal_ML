{
 "cells": [
  {
   "cell_type": "markdown",
   "id": "uniform-momentum",
   "metadata": {},
   "source": [
    "# Python: Impact of 401(k) on Financial Wealth"
   ]
  },
  {
   "cell_type": "markdown",
   "id": "numerical-petite",
   "metadata": {},
   "source": [
    "In this real-data example, we illustrate how the [DoubleML](https://docs.doubleml.org/stable/index.html) package can be used to estimate the effect of 401(k) eligibility and participation on accumulated assets. The 401(k) data set has been analyzed in several studies, among others [Chernozhukov et al. (2018)](https://arxiv.org/abs/1608.00060).\n",
    "\n",
    "401(k) plans are pension accounts sponsored by employers. The key problem in determining the effect of participation in 401(k) plans on accumulated assets is saver heterogeneity coupled with the fact that the decision to enroll in a 401(k) is non-random. It is generally recognized that some people have a higher preference for saving than others. It also seems likely that those individuals with high unobserved preference for saving would be most likely to choose to participate in tax-advantaged retirement savings plans and would tend to have otherwise high amounts of accumulated assets. The presence of unobserved savings preferences with these properties then implies that conventional estimates that do not account for saver heterogeneity and endogeneity of participation will be biased upward, tending to overstate the savings effects of 401(k) participation.\n",
    "\n",
    "One can argue that eligibility for enrolling in a 401(k) plan in this data can be taken as exogenous after conditioning on a few observables of which the most important for their argument is income. The basic idea is that, at least around the time 401(k)’s initially became available, people were unlikely to be basing their employment decisions on whether an employer offered a 401(k) but would instead focus on income and other aspects of the job."
   ]
  },
  {
   "cell_type": "markdown",
   "id": "earlier-happening",
   "metadata": {},
   "source": [
    "## Data\n",
    "\n",
    "The preprocessed data can be fetched by calling [fetch_401K()](https://docs.doubleml.org/stable/api/generated/doubleml.datasets.fetch_401K.html#doubleml.datasets.fetch_401K). Note that an internet connection is required for loading the data."
   ]
  },
  {
   "cell_type": "code",
   "execution_count": 1,
   "id": "complicated-preserve",
   "metadata": {
    "execution": {
     "iopub.execute_input": "2021-04-28T07:17:34.579921Z",
     "iopub.status.busy": "2021-04-28T07:17:34.579463Z",
     "iopub.status.idle": "2021-04-28T07:17:35.476590Z",
     "shell.execute_reply": "2021-04-28T07:17:35.475975Z"
    }
   },
   "outputs": [],
   "source": [
    "import numpy as np\n",
    "import pandas as pd\n",
    "import doubleml as dml\n",
    "from doubleml.datasets import fetch_401K\n",
    "\n",
    "from sklearn.preprocessing import PolynomialFeatures\n",
    "from sklearn.linear_model import LassoCV, LogisticRegressionCV\n",
    "from sklearn.ensemble import RandomForestClassifier, RandomForestRegressor\n",
    "from sklearn.tree import DecisionTreeClassifier, DecisionTreeRegressor\n",
    "from sklearn.preprocessing import StandardScaler\n",
    "from sklearn.pipeline import make_pipeline\n",
    "\n",
    "from xgboost import XGBClassifier, XGBRegressor\n",
    "\n",
    "import matplotlib.pyplot as plt\n",
    "import seaborn as sns"
   ]
  },
  {
   "cell_type": "code",
   "execution_count": 2,
   "id": "earned-frame",
   "metadata": {
    "execution": {
     "iopub.execute_input": "2021-04-28T07:17:35.480511Z",
     "iopub.status.busy": "2021-04-28T07:17:35.480058Z",
     "iopub.status.idle": "2021-04-28T07:17:35.482733Z",
     "shell.execute_reply": "2021-04-28T07:17:35.483081Z"
    }
   },
   "outputs": [],
   "source": [
    "sns.set()\n",
    "colors = sns.color_palette()"
   ]
  },
  {
   "cell_type": "code",
   "execution_count": 3,
   "id": "featured-pottery",
   "metadata": {
    "execution": {
     "iopub.execute_input": "2021-04-28T07:17:35.487898Z",
     "iopub.status.busy": "2021-04-28T07:17:35.487103Z",
     "iopub.status.idle": "2021-04-28T07:17:35.488583Z",
     "shell.execute_reply": "2021-04-28T07:17:35.488955Z"
    }
   },
   "outputs": [],
   "source": [
    "plt.rcParams['figure.figsize'] = 10., 7.5\n",
    "sns.set(font_scale=1.5)\n",
    "sns.set_style('whitegrid', {'axes.spines.top': False,\n",
    "                            'axes.spines.bottom': False,\n",
    "                            'axes.spines.left': False,\n",
    "                            'axes.spines.right': False})"
   ]
  },
  {
   "cell_type": "code",
   "execution_count": 4,
   "id": "discrete-reception",
   "metadata": {
    "execution": {
     "iopub.execute_input": "2021-04-28T07:17:35.493272Z",
     "iopub.status.busy": "2021-04-28T07:17:35.492820Z",
     "iopub.status.idle": "2021-04-28T07:17:35.663095Z",
     "shell.execute_reply": "2021-04-28T07:17:35.662581Z"
    }
   },
   "outputs": [],
   "source": [
    "data = fetch_401K(return_type='DataFrame')"
   ]
  },
  {
   "cell_type": "code",
   "execution_count": 5,
   "id": "curious-hurricane",
   "metadata": {
    "execution": {
     "iopub.execute_input": "2021-04-28T07:17:35.672615Z",
     "iopub.status.busy": "2021-04-28T07:17:35.667456Z",
     "iopub.status.idle": "2021-04-28T07:17:35.682488Z",
     "shell.execute_reply": "2021-04-28T07:17:35.682075Z"
    }
   },
   "outputs": [
    {
     "data": {
      "text/html": [
       "<div>\n",
       "<style scoped>\n",
       "    .dataframe tbody tr th:only-of-type {\n",
       "        vertical-align: middle;\n",
       "    }\n",
       "\n",
       "    .dataframe tbody tr th {\n",
       "        vertical-align: top;\n",
       "    }\n",
       "\n",
       "    .dataframe thead th {\n",
       "        text-align: right;\n",
       "    }\n",
       "</style>\n",
       "<table border=\"1\" class=\"dataframe\">\n",
       "  <thead>\n",
       "    <tr style=\"text-align: right;\">\n",
       "      <th></th>\n",
       "      <th>nifa</th>\n",
       "      <th>net_tfa</th>\n",
       "      <th>tw</th>\n",
       "      <th>age</th>\n",
       "      <th>inc</th>\n",
       "      <th>fsize</th>\n",
       "      <th>educ</th>\n",
       "      <th>db</th>\n",
       "      <th>marr</th>\n",
       "      <th>twoearn</th>\n",
       "      <th>e401</th>\n",
       "      <th>p401</th>\n",
       "      <th>pira</th>\n",
       "      <th>hown</th>\n",
       "    </tr>\n",
       "  </thead>\n",
       "  <tbody>\n",
       "    <tr>\n",
       "      <th>0</th>\n",
       "      <td>0.0</td>\n",
       "      <td>0.0</td>\n",
       "      <td>4500.0</td>\n",
       "      <td>47</td>\n",
       "      <td>6765.0</td>\n",
       "      <td>2</td>\n",
       "      <td>8</td>\n",
       "      <td>0</td>\n",
       "      <td>0</td>\n",
       "      <td>0</td>\n",
       "      <td>0</td>\n",
       "      <td>0</td>\n",
       "      <td>0</td>\n",
       "      <td>1</td>\n",
       "    </tr>\n",
       "    <tr>\n",
       "      <th>1</th>\n",
       "      <td>6215.0</td>\n",
       "      <td>1015.0</td>\n",
       "      <td>22390.0</td>\n",
       "      <td>36</td>\n",
       "      <td>28452.0</td>\n",
       "      <td>1</td>\n",
       "      <td>16</td>\n",
       "      <td>0</td>\n",
       "      <td>0</td>\n",
       "      <td>0</td>\n",
       "      <td>0</td>\n",
       "      <td>0</td>\n",
       "      <td>0</td>\n",
       "      <td>1</td>\n",
       "    </tr>\n",
       "    <tr>\n",
       "      <th>2</th>\n",
       "      <td>0.0</td>\n",
       "      <td>-2000.0</td>\n",
       "      <td>-2000.0</td>\n",
       "      <td>37</td>\n",
       "      <td>3300.0</td>\n",
       "      <td>6</td>\n",
       "      <td>12</td>\n",
       "      <td>1</td>\n",
       "      <td>0</td>\n",
       "      <td>0</td>\n",
       "      <td>0</td>\n",
       "      <td>0</td>\n",
       "      <td>0</td>\n",
       "      <td>0</td>\n",
       "    </tr>\n",
       "    <tr>\n",
       "      <th>3</th>\n",
       "      <td>15000.0</td>\n",
       "      <td>15000.0</td>\n",
       "      <td>155000.0</td>\n",
       "      <td>58</td>\n",
       "      <td>52590.0</td>\n",
       "      <td>2</td>\n",
       "      <td>16</td>\n",
       "      <td>0</td>\n",
       "      <td>1</td>\n",
       "      <td>1</td>\n",
       "      <td>0</td>\n",
       "      <td>0</td>\n",
       "      <td>0</td>\n",
       "      <td>1</td>\n",
       "    </tr>\n",
       "    <tr>\n",
       "      <th>4</th>\n",
       "      <td>0.0</td>\n",
       "      <td>0.0</td>\n",
       "      <td>58000.0</td>\n",
       "      <td>32</td>\n",
       "      <td>21804.0</td>\n",
       "      <td>1</td>\n",
       "      <td>11</td>\n",
       "      <td>0</td>\n",
       "      <td>0</td>\n",
       "      <td>0</td>\n",
       "      <td>0</td>\n",
       "      <td>0</td>\n",
       "      <td>0</td>\n",
       "      <td>1</td>\n",
       "    </tr>\n",
       "  </tbody>\n",
       "</table>\n",
       "</div>"
      ],
      "text/plain": [
       "      nifa  net_tfa        tw  age      inc  fsize  educ  db  marr  twoearn  \\\n",
       "0      0.0      0.0    4500.0   47   6765.0      2     8   0     0        0   \n",
       "1   6215.0   1015.0   22390.0   36  28452.0      1    16   0     0        0   \n",
       "2      0.0  -2000.0   -2000.0   37   3300.0      6    12   1     0        0   \n",
       "3  15000.0  15000.0  155000.0   58  52590.0      2    16   0     1        1   \n",
       "4      0.0      0.0   58000.0   32  21804.0      1    11   0     0        0   \n",
       "\n",
       "   e401  p401  pira  hown  \n",
       "0     0     0     0     1  \n",
       "1     0     0     0     1  \n",
       "2     0     0     0     0  \n",
       "3     0     0     0     1  \n",
       "4     0     0     0     1  "
      ]
     },
     "execution_count": 5,
     "metadata": {},
     "output_type": "execute_result"
    }
   ],
   "source": [
    "data.head()"
   ]
  },
  {
   "cell_type": "code",
   "execution_count": 6,
   "id": "comprehensive-atlantic",
   "metadata": {
    "execution": {
     "iopub.execute_input": "2021-04-28T07:17:35.686678Z",
     "iopub.status.busy": "2021-04-28T07:17:35.684722Z",
     "iopub.status.idle": "2021-04-28T07:17:35.728957Z",
     "shell.execute_reply": "2021-04-28T07:17:35.728571Z"
    }
   },
   "outputs": [
    {
     "data": {
      "text/html": [
       "<div>\n",
       "<style scoped>\n",
       "    .dataframe tbody tr th:only-of-type {\n",
       "        vertical-align: middle;\n",
       "    }\n",
       "\n",
       "    .dataframe tbody tr th {\n",
       "        vertical-align: top;\n",
       "    }\n",
       "\n",
       "    .dataframe thead th {\n",
       "        text-align: right;\n",
       "    }\n",
       "</style>\n",
       "<table border=\"1\" class=\"dataframe\">\n",
       "  <thead>\n",
       "    <tr style=\"text-align: right;\">\n",
       "      <th></th>\n",
       "      <th>nifa</th>\n",
       "      <th>net_tfa</th>\n",
       "      <th>tw</th>\n",
       "      <th>age</th>\n",
       "      <th>inc</th>\n",
       "      <th>fsize</th>\n",
       "      <th>educ</th>\n",
       "      <th>db</th>\n",
       "      <th>marr</th>\n",
       "      <th>twoearn</th>\n",
       "      <th>e401</th>\n",
       "      <th>p401</th>\n",
       "      <th>pira</th>\n",
       "      <th>hown</th>\n",
       "    </tr>\n",
       "  </thead>\n",
       "  <tbody>\n",
       "    <tr>\n",
       "      <th>count</th>\n",
       "      <td>9.915000e+03</td>\n",
       "      <td>9.915000e+03</td>\n",
       "      <td>9.915000e+03</td>\n",
       "      <td>9915.000000</td>\n",
       "      <td>9915.000000</td>\n",
       "      <td>9915.000000</td>\n",
       "      <td>9915.000000</td>\n",
       "      <td>9915.000000</td>\n",
       "      <td>9915.000000</td>\n",
       "      <td>9915.000000</td>\n",
       "      <td>9915.000000</td>\n",
       "      <td>9915.000000</td>\n",
       "      <td>9915.000000</td>\n",
       "      <td>9915.000000</td>\n",
       "    </tr>\n",
       "    <tr>\n",
       "      <th>mean</th>\n",
       "      <td>1.392864e+04</td>\n",
       "      <td>1.805153e+04</td>\n",
       "      <td>6.381685e+04</td>\n",
       "      <td>41.060212</td>\n",
       "      <td>37200.621094</td>\n",
       "      <td>2.865860</td>\n",
       "      <td>13.206253</td>\n",
       "      <td>0.271004</td>\n",
       "      <td>0.604841</td>\n",
       "      <td>0.380837</td>\n",
       "      <td>0.371357</td>\n",
       "      <td>0.261624</td>\n",
       "      <td>0.242158</td>\n",
       "      <td>0.635199</td>\n",
       "    </tr>\n",
       "    <tr>\n",
       "      <th>std</th>\n",
       "      <td>5.490488e+04</td>\n",
       "      <td>6.352250e+04</td>\n",
       "      <td>1.115297e+05</td>\n",
       "      <td>10.344505</td>\n",
       "      <td>24774.289062</td>\n",
       "      <td>1.538937</td>\n",
       "      <td>2.810382</td>\n",
       "      <td>0.444500</td>\n",
       "      <td>0.488909</td>\n",
       "      <td>0.485617</td>\n",
       "      <td>0.483192</td>\n",
       "      <td>0.439541</td>\n",
       "      <td>0.428411</td>\n",
       "      <td>0.481399</td>\n",
       "    </tr>\n",
       "    <tr>\n",
       "      <th>min</th>\n",
       "      <td>0.000000e+00</td>\n",
       "      <td>-5.023020e+05</td>\n",
       "      <td>-5.023020e+05</td>\n",
       "      <td>25.000000</td>\n",
       "      <td>-2652.000000</td>\n",
       "      <td>1.000000</td>\n",
       "      <td>1.000000</td>\n",
       "      <td>0.000000</td>\n",
       "      <td>0.000000</td>\n",
       "      <td>0.000000</td>\n",
       "      <td>0.000000</td>\n",
       "      <td>0.000000</td>\n",
       "      <td>0.000000</td>\n",
       "      <td>0.000000</td>\n",
       "    </tr>\n",
       "    <tr>\n",
       "      <th>25%</th>\n",
       "      <td>2.000000e+02</td>\n",
       "      <td>-5.000000e+02</td>\n",
       "      <td>3.291500e+03</td>\n",
       "      <td>32.000000</td>\n",
       "      <td>19413.000000</td>\n",
       "      <td>2.000000</td>\n",
       "      <td>12.000000</td>\n",
       "      <td>0.000000</td>\n",
       "      <td>0.000000</td>\n",
       "      <td>0.000000</td>\n",
       "      <td>0.000000</td>\n",
       "      <td>0.000000</td>\n",
       "      <td>0.000000</td>\n",
       "      <td>0.000000</td>\n",
       "    </tr>\n",
       "    <tr>\n",
       "      <th>50%</th>\n",
       "      <td>1.635000e+03</td>\n",
       "      <td>1.499000e+03</td>\n",
       "      <td>2.510000e+04</td>\n",
       "      <td>40.000000</td>\n",
       "      <td>31476.000000</td>\n",
       "      <td>3.000000</td>\n",
       "      <td>12.000000</td>\n",
       "      <td>0.000000</td>\n",
       "      <td>1.000000</td>\n",
       "      <td>0.000000</td>\n",
       "      <td>0.000000</td>\n",
       "      <td>0.000000</td>\n",
       "      <td>0.000000</td>\n",
       "      <td>1.000000</td>\n",
       "    </tr>\n",
       "    <tr>\n",
       "      <th>75%</th>\n",
       "      <td>8.765500e+03</td>\n",
       "      <td>1.652450e+04</td>\n",
       "      <td>8.148750e+04</td>\n",
       "      <td>48.000000</td>\n",
       "      <td>48583.500000</td>\n",
       "      <td>4.000000</td>\n",
       "      <td>16.000000</td>\n",
       "      <td>1.000000</td>\n",
       "      <td>1.000000</td>\n",
       "      <td>1.000000</td>\n",
       "      <td>1.000000</td>\n",
       "      <td>1.000000</td>\n",
       "      <td>0.000000</td>\n",
       "      <td>1.000000</td>\n",
       "    </tr>\n",
       "    <tr>\n",
       "      <th>max</th>\n",
       "      <td>1.430298e+06</td>\n",
       "      <td>1.536798e+06</td>\n",
       "      <td>2.029910e+06</td>\n",
       "      <td>64.000000</td>\n",
       "      <td>242124.000000</td>\n",
       "      <td>13.000000</td>\n",
       "      <td>18.000000</td>\n",
       "      <td>1.000000</td>\n",
       "      <td>1.000000</td>\n",
       "      <td>1.000000</td>\n",
       "      <td>1.000000</td>\n",
       "      <td>1.000000</td>\n",
       "      <td>1.000000</td>\n",
       "      <td>1.000000</td>\n",
       "    </tr>\n",
       "  </tbody>\n",
       "</table>\n",
       "</div>"
      ],
      "text/plain": [
       "               nifa       net_tfa            tw          age            inc  \\\n",
       "count  9.915000e+03  9.915000e+03  9.915000e+03  9915.000000    9915.000000   \n",
       "mean   1.392864e+04  1.805153e+04  6.381685e+04    41.060212   37200.621094   \n",
       "std    5.490488e+04  6.352250e+04  1.115297e+05    10.344505   24774.289062   \n",
       "min    0.000000e+00 -5.023020e+05 -5.023020e+05    25.000000   -2652.000000   \n",
       "25%    2.000000e+02 -5.000000e+02  3.291500e+03    32.000000   19413.000000   \n",
       "50%    1.635000e+03  1.499000e+03  2.510000e+04    40.000000   31476.000000   \n",
       "75%    8.765500e+03  1.652450e+04  8.148750e+04    48.000000   48583.500000   \n",
       "max    1.430298e+06  1.536798e+06  2.029910e+06    64.000000  242124.000000   \n",
       "\n",
       "             fsize         educ           db         marr      twoearn  \\\n",
       "count  9915.000000  9915.000000  9915.000000  9915.000000  9915.000000   \n",
       "mean      2.865860    13.206253     0.271004     0.604841     0.380837   \n",
       "std       1.538937     2.810382     0.444500     0.488909     0.485617   \n",
       "min       1.000000     1.000000     0.000000     0.000000     0.000000   \n",
       "25%       2.000000    12.000000     0.000000     0.000000     0.000000   \n",
       "50%       3.000000    12.000000     0.000000     1.000000     0.000000   \n",
       "75%       4.000000    16.000000     1.000000     1.000000     1.000000   \n",
       "max      13.000000    18.000000     1.000000     1.000000     1.000000   \n",
       "\n",
       "              e401         p401         pira         hown  \n",
       "count  9915.000000  9915.000000  9915.000000  9915.000000  \n",
       "mean      0.371357     0.261624     0.242158     0.635199  \n",
       "std       0.483192     0.439541     0.428411     0.481399  \n",
       "min       0.000000     0.000000     0.000000     0.000000  \n",
       "25%       0.000000     0.000000     0.000000     0.000000  \n",
       "50%       0.000000     0.000000     0.000000     1.000000  \n",
       "75%       1.000000     1.000000     0.000000     1.000000  \n",
       "max       1.000000     1.000000     1.000000     1.000000  "
      ]
     },
     "execution_count": 6,
     "metadata": {},
     "output_type": "execute_result"
    }
   ],
   "source": [
    "data.describe()"
   ]
  },
  {
   "cell_type": "markdown",
   "id": "parallel-malawi",
   "metadata": {},
   "source": [
    "The data consist of 9,915 observations at the household level drawn from the 1991 Survey of Income and Program Participation (SIPP).  All the variables are referred to 1990. We use net financial assets (*net\\_tfa*) as the outcome variable, $Y$,  in our analysis. The net financial assets are computed as the sum of IRA balances, 401(k) balances, checking accounts, saving bonds, other interest-earning accounts, other interest-earning assets, stocks, and mutual funds less non mortgage debts. "
   ]
  },
  {
   "cell_type": "markdown",
   "id": "physical-compatibility",
   "metadata": {},
   "source": [
    "Among the $9915$ individuals, $3682$ are eligible to participate in the program. The variable *e401* indicates eligibility and *p401* indicates participation, respectively."
   ]
  },
  {
   "cell_type": "code",
   "execution_count": 7,
   "id": "passive-complaint",
   "metadata": {
    "execution": {
     "iopub.execute_input": "2021-04-28T07:17:35.732642Z",
     "iopub.status.busy": "2021-04-28T07:17:35.732194Z",
     "iopub.status.idle": "2021-04-28T07:17:35.859396Z",
     "shell.execute_reply": "2021-04-28T07:17:35.858931Z"
    }
   },
   "outputs": [
    {
     "data": {
      "image/png": "[encoded data removed]",
      "text/plain": [
       "<Figure size 720x540 with 1 Axes>"
      ]
     },
     "metadata": {},
     "output_type": "display_data"
    }
   ],
   "source": [
    "data['e401'].value_counts().plot(kind='bar', color=colors)\n",
    "plt.title('Eligibility, 401(k)')\n",
    "plt.xlabel('e401')\n",
    "_ = plt.ylabel('count')"
   ]
  },
  {
   "cell_type": "code",
   "execution_count": 8,
   "id": "aggregate-damages",
   "metadata": {
    "execution": {
     "iopub.execute_input": "2021-04-28T07:17:35.863107Z",
     "iopub.status.busy": "2021-04-28T07:17:35.862649Z",
     "iopub.status.idle": "2021-04-28T07:17:35.976467Z",
     "shell.execute_reply": "2021-04-28T07:17:35.976827Z"
    }
   },
   "outputs": [
    {
     "data": {
      "image/png": "[encoded data removed]",
      "text/plain": [
       "<Figure size 720x540 with 1 Axes>"
      ]
     },
     "metadata": {},
     "output_type": "display_data"
    }
   ],
   "source": [
    "data['p401'].value_counts().plot(kind='bar', color=colors)\n",
    "plt.title('Participation, 401(k)')\n",
    "plt.xlabel('p401')\n",
    "_ = plt.ylabel('count')"
   ]
  },
  {
   "cell_type": "markdown",
   "id": "whole-infrared",
   "metadata": {},
   "source": [
    "Eligibility is highly associated with financial wealth:"
   ]
  },
  {
   "cell_type": "code",
   "execution_count": 9,
   "id": "elegant-realtor",
   "metadata": {
    "execution": {
     "iopub.execute_input": "2021-04-28T07:17:35.981045Z",
     "iopub.status.busy": "2021-04-28T07:17:35.979892Z",
     "iopub.status.idle": "2021-04-28T07:17:36.488603Z",
     "shell.execute_reply": "2021-04-28T07:17:36.488969Z"
    }
   },
   "outputs": [
    {
     "data": {
      "image/png": "[encoded data removed]",
      "text/plain": [
       "<Figure size 788.525x360 with 2 Axes>"
      ]
     },
     "metadata": {},
     "output_type": "display_data"
    }
   ],
   "source": [
    "_ = sns.displot(data, x=\"net_tfa\", hue=\"e401\", col=\"e401\",\n",
    "                kind=\"kde\", fill=True)"
   ]
  },
  {
   "cell_type": "markdown",
   "id": "discrete-paragraph",
   "metadata": {},
   "source": [
    "As a first estimate, we calculate the unconditional average predictive effect (APE) of 401(k) eligibility on accumulated assets. This effect corresponds to the average treatment effect if 401(k) eligibility would be assigned to individuals in an entirely randomized way. The unconditional APE of e401 is about $19559$:"
   ]
  },
  {
   "cell_type": "code",
   "execution_count": 10,
   "id": "massive-royalty",
   "metadata": {
    "execution": {
     "iopub.execute_input": "2021-04-28T07:17:36.494885Z",
     "iopub.status.busy": "2021-04-28T07:17:36.494426Z",
     "iopub.status.idle": "2021-04-28T07:17:36.501719Z",
     "shell.execute_reply": "2021-04-28T07:17:36.502096Z"
    }
   },
   "outputs": [
    {
     "data": {
      "text/html": [
       "<div>\n",
       "<style scoped>\n",
       "    .dataframe tbody tr th:only-of-type {\n",
       "        vertical-align: middle;\n",
       "    }\n",
       "\n",
       "    .dataframe tbody tr th {\n",
       "        vertical-align: top;\n",
       "    }\n",
       "\n",
       "    .dataframe thead th {\n",
       "        text-align: right;\n",
       "    }\n",
       "</style>\n",
       "<table border=\"1\" class=\"dataframe\">\n",
       "  <thead>\n",
       "    <tr style=\"text-align: right;\">\n",
       "      <th></th>\n",
       "      <th>net_tfa</th>\n",
       "    </tr>\n",
       "    <tr>\n",
       "      <th>e401</th>\n",
       "      <th></th>\n",
       "    </tr>\n",
       "  </thead>\n",
       "  <tbody>\n",
       "    <tr>\n",
       "      <th>0</th>\n",
       "      <td>NaN</td>\n",
       "    </tr>\n",
       "    <tr>\n",
       "      <th>1</th>\n",
       "      <td>19559.34375</td>\n",
       "    </tr>\n",
       "  </tbody>\n",
       "</table>\n",
       "</div>"
      ],
      "text/plain": [
       "          net_tfa\n",
       "e401             \n",
       "0             NaN\n",
       "1     19559.34375"
      ]
     },
     "execution_count": 10,
     "metadata": {},
     "output_type": "execute_result"
    }
   ],
   "source": [
    "data[['e401', 'net_tfa']].groupby('e401').mean().diff()"
   ]
  },
  {
   "cell_type": "markdown",
   "id": "nervous-physics",
   "metadata": {},
   "source": [
    "Among the $3682$ individuals that  are eligible, $2594$ decided to participate in the program. The unconditional APE of p401 is about $27372$:"
   ]
  },
  {
   "cell_type": "code",
   "execution_count": 11,
   "id": "typical-agent",
   "metadata": {
    "execution": {
     "iopub.execute_input": "2021-04-28T07:17:36.507003Z",
     "iopub.status.busy": "2021-04-28T07:17:36.506540Z",
     "iopub.status.idle": "2021-04-28T07:17:36.512873Z",
     "shell.execute_reply": "2021-04-28T07:17:36.512413Z"
    }
   },
   "outputs": [
    {
     "data": {
      "text/html": [
       "<div>\n",
       "<style scoped>\n",
       "    .dataframe tbody tr th:only-of-type {\n",
       "        vertical-align: middle;\n",
       "    }\n",
       "\n",
       "    .dataframe tbody tr th {\n",
       "        vertical-align: top;\n",
       "    }\n",
       "\n",
       "    .dataframe thead th {\n",
       "        text-align: right;\n",
       "    }\n",
       "</style>\n",
       "<table border=\"1\" class=\"dataframe\">\n",
       "  <thead>\n",
       "    <tr style=\"text-align: right;\">\n",
       "      <th></th>\n",
       "      <th>net_tfa</th>\n",
       "    </tr>\n",
       "    <tr>\n",
       "      <th>p401</th>\n",
       "      <th></th>\n",
       "    </tr>\n",
       "  </thead>\n",
       "  <tbody>\n",
       "    <tr>\n",
       "      <th>0</th>\n",
       "      <td>NaN</td>\n",
       "    </tr>\n",
       "    <tr>\n",
       "      <th>1</th>\n",
       "      <td>27371.582031</td>\n",
       "    </tr>\n",
       "  </tbody>\n",
       "</table>\n",
       "</div>"
      ],
      "text/plain": [
       "           net_tfa\n",
       "p401              \n",
       "0              NaN\n",
       "1     27371.582031"
      ]
     },
     "execution_count": 11,
     "metadata": {},
     "output_type": "execute_result"
    }
   ],
   "source": [
    "data[['p401', 'net_tfa']].groupby('p401').mean().diff()"
   ]
  },
  {
   "cell_type": "markdown",
   "id": "compliant-martin",
   "metadata": {},
   "source": [
    "As discussed, these estimates are biased since they do not account for saver heterogeneity and endogeneity of participation."
   ]
  },
  {
   "cell_type": "markdown",
   "id": "welsh-error",
   "metadata": {},
   "source": [
    "## The `DoubleML` package"
   ]
  },
  {
   "cell_type": "markdown",
   "id": "completed-recovery",
   "metadata": {},
   "source": [
    "Let's use the package [DoubleML](https://docs.doubleml.org/stable/index.html) to estimate the average treatment effect of 401(k) eligibility, i.e. `e401`, and participation, i.e. `p401`, on net financial assets `net_tfa`."
   ]
  },
  {
   "cell_type": "markdown",
   "id": "significant-mystery",
   "metadata": {},
   "source": [
    "## Estimating the Average Treatment Effect of 401(k) Eligibility on Net Financial Assets"
   ]
  },
  {
   "cell_type": "markdown",
   "id": "imperial-masters",
   "metadata": {},
   "source": [
    "We first look at the treatment effect of `e401` on net total financial assets. We give estimates of the ATE in the linear model\n",
    "\n",
    "\\begin{equation*}\n",
    "Y = D \\alpha + f(X)'\\beta+ \\epsilon,\n",
    "\\end{equation*}\n",
    "where $f(X)$ is a dictonary applied to the raw regressors. $X$ contains variables on marital status, two-earner status, defined benefit pension status, IRA participation, home ownership, family size, education, age, and income. \n",
    "\n",
    "In the following, we will consider two different models, \n",
    "\n",
    "* a basic model specification that includes the raw regressors, i.e., $f(X) = X$, and \n",
    "\n",
    "* a flexible model specification, where $f(X)$ includes the raw regressors $X$ and the orthogonal polynomials of degree 2 for the variables family size education, age, and incuome. \n",
    "\n",
    "We will use the basic model specification whenever we use nonlinear methods, for example regression trees or random forests, and use the flexible model for linear methods such as the lasso. There are, of course, multiple ways how the model can be specified even more flexibly, for example including interactions of variable and higher order interaction. However, for the sake of simplicity we stick to the specification above. Users who are interested in varying the model can adapt the code below accordingly, for example to implement the orignal specification in Chernozhukov et al. (2018). \n",
    "\n",
    "In the first step, we report estimates of the average treatment effect (ATE) of 401(k) eligibility on net financial assets both in the partially linear regression (PLR) model and in the interactive regression model (IRM) allowing for heterogeneous treatment effects."
   ]
  },
  {
   "cell_type": "markdown",
   "id": "assumed-liverpool",
   "metadata": {},
   "source": [
    "### The Data Backend: `DoubleMLData`"
   ]
  },
  {
   "cell_type": "markdown",
   "id": "south-shannon",
   "metadata": {},
   "source": [
    "To start our analysis, we initialize the data backend, i.e., a new instance of a [DoubleMLData](https://docs.doubleml.org/dev/api/generated/doubleml.DoubleMLData.html#doubleml.DoubleMLData) object. We implement the regression model by using scikit-learn's `PolynomialFeatures` class.\n",
    "\n",
    "To implement both models (basic and flexible), we generate two data backends: `data_dml_base` and `data_dml_flex`."
   ]
  },
  {
   "cell_type": "code",
   "execution_count": 12,
   "id": "removed-potter",
   "metadata": {
    "execution": {
     "iopub.execute_input": "2021-04-28T07:17:36.518502Z",
     "iopub.status.busy": "2021-04-28T07:17:36.516599Z",
     "iopub.status.idle": "2021-04-28T07:17:36.520312Z",
     "shell.execute_reply": "2021-04-28T07:17:36.519938Z"
    }
   },
   "outputs": [],
   "source": [
    "# Set up basic model: Specify variables for data-backend\n",
    "features_base = ['age', 'inc', 'educ', 'fsize', 'marr',\n",
    "                 'twoearn', 'db', 'pira', 'hown']\n",
    "\n",
    "# Initialize DoubleMLData (data-backend of DoubleML)\n",
    "data_dml_base = dml.DoubleMLData(data,\n",
    "                                 y_col='net_tfa',\n",
    "                                 d_cols='e401',\n",
    "                                 x_cols=features_base)"
   ]
  },
  {
   "cell_type": "code",
   "execution_count": 13,
   "id": "understanding-idaho",
   "metadata": {
    "execution": {
     "iopub.execute_input": "2021-04-28T07:17:36.528868Z",
     "iopub.status.busy": "2021-04-28T07:17:36.528071Z",
     "iopub.status.idle": "2021-04-28T07:17:36.530233Z",
     "shell.execute_reply": "2021-04-28T07:17:36.530623Z"
    }
   },
   "outputs": [
    {
     "name": "stdout",
     "output_type": "stream",
     "text": [
      "=== DoubleMLData Object ===\n",
      "y_col: net_tfa\n",
      "d_cols: ['e401']\n",
      "x_cols: ['age', 'inc', 'educ', 'fsize', 'marr', 'twoearn', 'db', 'pira', 'hown']\n",
      "z_cols: None\n",
      "data:\n",
      " <class 'pandas.core.frame.DataFrame'>\n",
      "Int64Index: 9915 entries, 0 to 9914\n",
      "Columns: 14 entries, nifa to hown\n",
      "dtypes: float32(4), int8(10)\n",
      "memory usage: 329.2 KB\n",
      "\n"
     ]
    }
   ],
   "source": [
    "print(data_dml_base)"
   ]
  },
  {
   "cell_type": "code",
   "execution_count": 31,
   "id": "7cd937f0",
   "metadata": {
    "execution": {
     "iopub.execute_input": "2021-04-28T07:17:36.597554Z",
     "iopub.status.busy": "2021-04-28T07:17:36.596972Z",
     "iopub.status.idle": "2021-04-28T07:17:36.616631Z",
     "shell.execute_reply": "2021-04-28T07:17:36.616212Z"
    }
   },
   "outputs": [
    {
     "data": {
      "text/plain": [
       "pandas.core.frame.DataFrame"
      ]
     },
     "execution_count": 31,
     "metadata": {},
     "output_type": "execute_result"
    }
   ],
   "source": [
    "# Set up a model according to regression formula with polynomials\n",
    "features = data.copy()[['marr', 'twoearn', 'db', 'pira', 'hown']]\n"
   ]
  },
  {
   "cell_type": "code",
   "execution_count": 27,
   "id": "demanding-annotation",
   "metadata": {
    "execution": {
     "iopub.execute_input": "2021-04-28T07:17:36.597554Z",
     "iopub.status.busy": "2021-04-28T07:17:36.596972Z",
     "iopub.status.idle": "2021-04-28T07:17:36.616631Z",
     "shell.execute_reply": "2021-04-28T07:17:36.616212Z"
    }
   },
   "outputs": [],
   "source": [
    "poly_dict = {'age': 2,\n",
    "             'inc': 6,\n",
    "             'educ': 2,\n",
    "             'fsize': 2}\n",
    "for key, degree in poly_dict.items():\n",
    "    poly = PolynomialFeatures(degree, include_bias=False)\n",
    "    data_transf = poly.fit_transform(data[[key]])\n",
    "    x_cols = poly.get_feature_names([key])\n",
    "    data_transf = pd.DataFrame(data_transf, columns=x_cols)\n",
    "    \n",
    "    features = pd.concat((features, data_transf),\n",
    "                          axis=1, sort=False)\n",
    "\n",
    "model_data = pd.concat((data.copy()[['net_tfa', 'e401']], features.copy()),\n",
    "                        axis=1, sort=False)\n",
    "\n",
    "# Initialize DoubleMLData (data-backend of DoubleML)\n",
    "data_dml_flex = dml.DoubleMLData(model_data, y_col='net_tfa', d_cols='e401')"
   ]
  },
  {
   "cell_type": "code",
   "execution_count": 28,
   "id": "f6e27fb0",
   "metadata": {},
   "outputs": [],
   "source": [
    "# Set up a model according to regression formula with polynomials\n",
    "features = data.copy()[['marr', 'twoearn', 'db', 'pira', 'hown']]\n",
    "\n",
    "poly_dict = {'age': 2,\n",
    "             'inc': 6,\n",
    "             'educ': 2,\n",
    "             'fsize': 2}\n",
    "for key, degree in poly_dict.items():\n",
    "    poly = PolynomialFeatures(degree, include_bias=False)\n",
    "    data_transf = poly.fit_transform(data[[key]])\n",
    "    x_cols = poly.get_feature_names([key])\n",
    "    data_transf = pd.DataFrame(data_transf, columns=x_cols)\n",
    "    \n",
    "    features = pd.concat((features, data_transf),\n",
    "                          axis=1, sort=False)"
   ]
  },
  {
   "cell_type": "code",
   "execution_count": 29,
   "id": "caaa11d6",
   "metadata": {},
   "outputs": [
    {
     "data": {
      "text/html": [
       "<div>\n",
       "<style scoped>\n",
       "    .dataframe tbody tr th:only-of-type {\n",
       "        vertical-align: middle;\n",
       "    }\n",
       "\n",
       "    .dataframe tbody tr th {\n",
       "        vertical-align: top;\n",
       "    }\n",
       "\n",
       "    .dataframe thead th {\n",
       "        text-align: right;\n",
       "    }\n",
       "</style>\n",
       "<table border=\"1\" class=\"dataframe\">\n",
       "  <thead>\n",
       "    <tr style=\"text-align: right;\">\n",
       "      <th></th>\n",
       "      <th>marr</th>\n",
       "      <th>twoearn</th>\n",
       "      <th>db</th>\n",
       "      <th>pira</th>\n",
       "      <th>hown</th>\n",
       "      <th>age</th>\n",
       "      <th>age^2</th>\n",
       "      <th>inc</th>\n",
       "      <th>inc^2</th>\n",
       "      <th>inc^3</th>\n",
       "      <th>inc^4</th>\n",
       "      <th>inc^5</th>\n",
       "      <th>inc^6</th>\n",
       "      <th>educ</th>\n",
       "      <th>educ^2</th>\n",
       "      <th>fsize</th>\n",
       "      <th>fsize^2</th>\n",
       "    </tr>\n",
       "  </thead>\n",
       "  <tbody>\n",
       "    <tr>\n",
       "      <th>0</th>\n",
       "      <td>0</td>\n",
       "      <td>0</td>\n",
       "      <td>0</td>\n",
       "      <td>0</td>\n",
       "      <td>1</td>\n",
       "      <td>47.0</td>\n",
       "      <td>2209.0</td>\n",
       "      <td>6765.0</td>\n",
       "      <td>4.576522e+07</td>\n",
       "      <td>3.096017e+11</td>\n",
       "      <td>2.094456e+15</td>\n",
       "      <td>1.416899e+19</td>\n",
       "      <td>9.585324e+22</td>\n",
       "      <td>8.0</td>\n",
       "      <td>64.0</td>\n",
       "      <td>2.0</td>\n",
       "      <td>4.0</td>\n",
       "    </tr>\n",
       "    <tr>\n",
       "      <th>1</th>\n",
       "      <td>0</td>\n",
       "      <td>0</td>\n",
       "      <td>0</td>\n",
       "      <td>0</td>\n",
       "      <td>1</td>\n",
       "      <td>36.0</td>\n",
       "      <td>1296.0</td>\n",
       "      <td>28452.0</td>\n",
       "      <td>8.095163e+08</td>\n",
       "      <td>2.303236e+13</td>\n",
       "      <td>6.553166e+17</td>\n",
       "      <td>1.864507e+22</td>\n",
       "      <td>5.304895e+26</td>\n",
       "      <td>16.0</td>\n",
       "      <td>256.0</td>\n",
       "      <td>1.0</td>\n",
       "      <td>1.0</td>\n",
       "    </tr>\n",
       "    <tr>\n",
       "      <th>2</th>\n",
       "      <td>0</td>\n",
       "      <td>0</td>\n",
       "      <td>1</td>\n",
       "      <td>0</td>\n",
       "      <td>0</td>\n",
       "      <td>37.0</td>\n",
       "      <td>1369.0</td>\n",
       "      <td>3300.0</td>\n",
       "      <td>1.089000e+07</td>\n",
       "      <td>3.593700e+10</td>\n",
       "      <td>1.185921e+14</td>\n",
       "      <td>3.913539e+17</td>\n",
       "      <td>1.291468e+21</td>\n",
       "      <td>12.0</td>\n",
       "      <td>144.0</td>\n",
       "      <td>6.0</td>\n",
       "      <td>36.0</td>\n",
       "    </tr>\n",
       "    <tr>\n",
       "      <th>3</th>\n",
       "      <td>1</td>\n",
       "      <td>1</td>\n",
       "      <td>0</td>\n",
       "      <td>0</td>\n",
       "      <td>1</td>\n",
       "      <td>58.0</td>\n",
       "      <td>3364.0</td>\n",
       "      <td>52590.0</td>\n",
       "      <td>2.765708e+09</td>\n",
       "      <td>1.454486e+14</td>\n",
       "      <td>7.649141e+18</td>\n",
       "      <td>4.022683e+23</td>\n",
       "      <td>2.115529e+28</td>\n",
       "      <td>16.0</td>\n",
       "      <td>256.0</td>\n",
       "      <td>2.0</td>\n",
       "      <td>4.0</td>\n",
       "    </tr>\n",
       "    <tr>\n",
       "      <th>4</th>\n",
       "      <td>0</td>\n",
       "      <td>0</td>\n",
       "      <td>0</td>\n",
       "      <td>0</td>\n",
       "      <td>1</td>\n",
       "      <td>32.0</td>\n",
       "      <td>1024.0</td>\n",
       "      <td>21804.0</td>\n",
       "      <td>4.754144e+08</td>\n",
       "      <td>1.036594e+13</td>\n",
       "      <td>2.260189e+17</td>\n",
       "      <td>4.928116e+21</td>\n",
       "      <td>1.074526e+26</td>\n",
       "      <td>11.0</td>\n",
       "      <td>121.0</td>\n",
       "      <td>1.0</td>\n",
       "      <td>1.0</td>\n",
       "    </tr>\n",
       "    <tr>\n",
       "      <th>...</th>\n",
       "      <td>...</td>\n",
       "      <td>...</td>\n",
       "      <td>...</td>\n",
       "      <td>...</td>\n",
       "      <td>...</td>\n",
       "      <td>...</td>\n",
       "      <td>...</td>\n",
       "      <td>...</td>\n",
       "      <td>...</td>\n",
       "      <td>...</td>\n",
       "      <td>...</td>\n",
       "      <td>...</td>\n",
       "      <td>...</td>\n",
       "      <td>...</td>\n",
       "      <td>...</td>\n",
       "      <td>...</td>\n",
       "      <td>...</td>\n",
       "    </tr>\n",
       "    <tr>\n",
       "      <th>9910</th>\n",
       "      <td>0</td>\n",
       "      <td>0</td>\n",
       "      <td>1</td>\n",
       "      <td>0</td>\n",
       "      <td>1</td>\n",
       "      <td>52.0</td>\n",
       "      <td>2704.0</td>\n",
       "      <td>73920.0</td>\n",
       "      <td>5.464166e+09</td>\n",
       "      <td>4.039112e+14</td>\n",
       "      <td>2.985711e+19</td>\n",
       "      <td>2.207038e+24</td>\n",
       "      <td>1.631442e+29</td>\n",
       "      <td>16.0</td>\n",
       "      <td>256.0</td>\n",
       "      <td>1.0</td>\n",
       "      <td>1.0</td>\n",
       "    </tr>\n",
       "    <tr>\n",
       "      <th>9911</th>\n",
       "      <td>1</td>\n",
       "      <td>1</td>\n",
       "      <td>0</td>\n",
       "      <td>1</td>\n",
       "      <td>1</td>\n",
       "      <td>41.0</td>\n",
       "      <td>1681.0</td>\n",
       "      <td>42927.0</td>\n",
       "      <td>1.842727e+09</td>\n",
       "      <td>7.910275e+13</td>\n",
       "      <td>3.395644e+18</td>\n",
       "      <td>1.457648e+23</td>\n",
       "      <td>6.257246e+27</td>\n",
       "      <td>14.0</td>\n",
       "      <td>196.0</td>\n",
       "      <td>4.0</td>\n",
       "      <td>16.0</td>\n",
       "    </tr>\n",
       "    <tr>\n",
       "      <th>9912</th>\n",
       "      <td>0</td>\n",
       "      <td>0</td>\n",
       "      <td>1</td>\n",
       "      <td>1</td>\n",
       "      <td>0</td>\n",
       "      <td>40.0</td>\n",
       "      <td>1600.0</td>\n",
       "      <td>23619.0</td>\n",
       "      <td>5.578572e+08</td>\n",
       "      <td>1.317603e+13</td>\n",
       "      <td>3.112046e+17</td>\n",
       "      <td>7.350341e+21</td>\n",
       "      <td>1.736077e+26</td>\n",
       "      <td>16.0</td>\n",
       "      <td>256.0</td>\n",
       "      <td>2.0</td>\n",
       "      <td>4.0</td>\n",
       "    </tr>\n",
       "    <tr>\n",
       "      <th>9913</th>\n",
       "      <td>0</td>\n",
       "      <td>0</td>\n",
       "      <td>1</td>\n",
       "      <td>0</td>\n",
       "      <td>0</td>\n",
       "      <td>47.0</td>\n",
       "      <td>2209.0</td>\n",
       "      <td>14280.0</td>\n",
       "      <td>2.039184e+08</td>\n",
       "      <td>2.911955e+12</td>\n",
       "      <td>4.158271e+16</td>\n",
       "      <td>5.938012e+20</td>\n",
       "      <td>8.479481e+24</td>\n",
       "      <td>6.0</td>\n",
       "      <td>36.0</td>\n",
       "      <td>4.0</td>\n",
       "      <td>16.0</td>\n",
       "    </tr>\n",
       "    <tr>\n",
       "      <th>9914</th>\n",
       "      <td>0</td>\n",
       "      <td>0</td>\n",
       "      <td>0</td>\n",
       "      <td>0</td>\n",
       "      <td>0</td>\n",
       "      <td>33.0</td>\n",
       "      <td>1089.0</td>\n",
       "      <td>11112.0</td>\n",
       "      <td>1.234765e+08</td>\n",
       "      <td>1.372071e+12</td>\n",
       "      <td>1.524646e+16</td>\n",
       "      <td>1.694186e+20</td>\n",
       "      <td>1.882580e+24</td>\n",
       "      <td>14.0</td>\n",
       "      <td>196.0</td>\n",
       "      <td>1.0</td>\n",
       "      <td>1.0</td>\n",
       "    </tr>\n",
       "  </tbody>\n",
       "</table>\n",
       "<p>9915 rows × 17 columns</p>\n",
       "</div>"
      ],
      "text/plain": [
       "      marr  twoearn  db  pira  hown   age   age^2      inc         inc^2  \\\n",
       "0        0        0   0     0     1  47.0  2209.0   6765.0  4.576522e+07   \n",
       "1        0        0   0     0     1  36.0  1296.0  28452.0  8.095163e+08   \n",
       "2        0        0   1     0     0  37.0  1369.0   3300.0  1.089000e+07   \n",
       "3        1        1   0     0     1  58.0  3364.0  52590.0  2.765708e+09   \n",
       "4        0        0   0     0     1  32.0  1024.0  21804.0  4.754144e+08   \n",
       "...    ...      ...  ..   ...   ...   ...     ...      ...           ...   \n",
       "9910     0        0   1     0     1  52.0  2704.0  73920.0  5.464166e+09   \n",
       "9911     1        1   0     1     1  41.0  1681.0  42927.0  1.842727e+09   \n",
       "9912     0        0   1     1     0  40.0  1600.0  23619.0  5.578572e+08   \n",
       "9913     0        0   1     0     0  47.0  2209.0  14280.0  2.039184e+08   \n",
       "9914     0        0   0     0     0  33.0  1089.0  11112.0  1.234765e+08   \n",
       "\n",
       "             inc^3         inc^4         inc^5         inc^6  educ  educ^2  \\\n",
       "0     3.096017e+11  2.094456e+15  1.416899e+19  9.585324e+22   8.0    64.0   \n",
       "1     2.303236e+13  6.553166e+17  1.864507e+22  5.304895e+26  16.0   256.0   \n",
       "2     3.593700e+10  1.185921e+14  3.913539e+17  1.291468e+21  12.0   144.0   \n",
       "3     1.454486e+14  7.649141e+18  4.022683e+23  2.115529e+28  16.0   256.0   \n",
       "4     1.036594e+13  2.260189e+17  4.928116e+21  1.074526e+26  11.0   121.0   \n",
       "...            ...           ...           ...           ...   ...     ...   \n",
       "9910  4.039112e+14  2.985711e+19  2.207038e+24  1.631442e+29  16.0   256.0   \n",
       "9911  7.910275e+13  3.395644e+18  1.457648e+23  6.257246e+27  14.0   196.0   \n",
       "9912  1.317603e+13  3.112046e+17  7.350341e+21  1.736077e+26  16.0   256.0   \n",
       "9913  2.911955e+12  4.158271e+16  5.938012e+20  8.479481e+24   6.0    36.0   \n",
       "9914  1.372071e+12  1.524646e+16  1.694186e+20  1.882580e+24  14.0   196.0   \n",
       "\n",
       "      fsize  fsize^2  \n",
       "0       2.0      4.0  \n",
       "1       1.0      1.0  \n",
       "2       6.0     36.0  \n",
       "3       2.0      4.0  \n",
       "4       1.0      1.0  \n",
       "...     ...      ...  \n",
       "9910    1.0      1.0  \n",
       "9911    4.0     16.0  \n",
       "9912    2.0      4.0  \n",
       "9913    4.0     16.0  \n",
       "9914    1.0      1.0  \n",
       "\n",
       "[9915 rows x 17 columns]"
      ]
     },
     "execution_count": 29,
     "metadata": {},
     "output_type": "execute_result"
    }
   ],
   "source": [
    "features"
   ]
  },
  {
   "cell_type": "code",
   "execution_count": 23,
   "id": "focal-share",
   "metadata": {
    "execution": {
     "iopub.execute_input": "2021-04-28T07:17:36.625380Z",
     "iopub.status.busy": "2021-04-28T07:17:36.624580Z",
     "iopub.status.idle": "2021-04-28T07:17:36.627163Z",
     "shell.execute_reply": "2021-04-28T07:17:36.626774Z"
    }
   },
   "outputs": [
    {
     "name": "stdout",
     "output_type": "stream",
     "text": [
      "=== DoubleMLData Object ===\n",
      "y_col: net_tfa\n",
      "d_cols: ['e401']\n",
      "x_cols: ['marr', 'twoearn', 'db', 'pira', 'hown', 'age', 'age^2', 'inc', 'inc^2', 'educ', 'educ^2', 'fsize', 'fsize^2']\n",
      "z_cols: None\n",
      "data:\n",
      " <class 'pandas.core.frame.DataFrame'>\n",
      "Int64Index: 9915 entries, 0 to 9914\n",
      "Columns: 15 entries, net_tfa to fsize^2\n",
      "dtypes: float32(3), float64(6), int8(6)\n",
      "memory usage: 716.5 KB\n",
      "\n"
     ]
    }
   ],
   "source": [
    "print(data_dml_flex)"
   ]
  },
  {
   "cell_type": "markdown",
   "id": "educational-shoulder",
   "metadata": {},
   "source": [
    "### Partially Linear Regression Model (PLR)"
   ]
  },
  {
   "cell_type": "markdown",
   "id": "comfortable-history",
   "metadata": {},
   "source": [
    "We start using lasso to estimate the function $g_0$ and $m_0$ in the following PLR model:"
   ]
  },
  {
   "cell_type": "markdown",
   "id": "mighty-conviction",
   "metadata": {},
   "source": [
    "\\begin{eqnarray}\n",
    "& Y = D\\theta_0 + g_0(X) + \\zeta, &\\quad E[\\zeta \\mid D,X]= 0,\\\\\n",
    "& D = m_0(X) +  V, &\\quad E[V \\mid X] = 0.\n",
    "\\end{eqnarray}"
   ]
  },
  {
   "cell_type": "markdown",
   "id": "animated-athletics",
   "metadata": {},
   "source": [
    "To estimate the causal parameter $\\theta_0$ here, we use double machine learning with 3-fold cross-fitting. \n",
    " \n",
    "Estimation of the nuisance components $g_0$ and $m_0$, is based on the lasso with cross-validated choice of the penalty term , $\\lambda$, as provided by [scikit-learn](https://scikit-learn.org). We load the learner by initializing instances from the classes [LassoCV](https://scikit-learn.org/stable/modules/generated/sklearn.linear_model.LassoCV.html) and [LogisticRegressionCV](https://scikit-learn.org/stable/modules/generated/sklearn.linear_model.LogisticRegressionCV.html). Hyperparameters and options can be set during instantiation of the learner. Here we specify that the lasso should use that value of $\\lambda$ that minimizes the cross-validated mean squared error which is based on 5-fold cross validation.\n",
    "\n",
    "We start by estimation the ATE in the basic model and then repeat the estimation in the flexible model."
   ]
  },
  {
   "cell_type": "code",
   "execution_count": 24,
   "id": "dangerous-fraud",
   "metadata": {
    "execution": {
     "iopub.execute_input": "2021-04-28T07:17:36.632143Z",
     "iopub.status.busy": "2021-04-28T07:17:36.631685Z",
     "iopub.status.idle": "2021-04-28T07:17:37.446709Z",
     "shell.execute_reply": "2021-04-28T07:17:37.447157Z"
    },
    "scrolled": true
   },
   "outputs": [
    {
     "data": {
      "text/html": [
       "<div>\n",
       "<style scoped>\n",
       "    .dataframe tbody tr th:only-of-type {\n",
       "        vertical-align: middle;\n",
       "    }\n",
       "\n",
       "    .dataframe tbody tr th {\n",
       "        vertical-align: top;\n",
       "    }\n",
       "\n",
       "    .dataframe thead th {\n",
       "        text-align: right;\n",
       "    }\n",
       "</style>\n",
       "<table border=\"1\" class=\"dataframe\">\n",
       "  <thead>\n",
       "    <tr style=\"text-align: right;\">\n",
       "      <th></th>\n",
       "      <th>coef</th>\n",
       "      <th>std err</th>\n",
       "      <th>t</th>\n",
       "      <th>P&gt;|t|</th>\n",
       "      <th>2.5 %</th>\n",
       "      <th>97.5 %</th>\n",
       "    </tr>\n",
       "  </thead>\n",
       "  <tbody>\n",
       "    <tr>\n",
       "      <th>e401</th>\n",
       "      <td>5722.460772</td>\n",
       "      <td>1380.579139</td>\n",
       "      <td>4.144971</td>\n",
       "      <td>0.000034</td>\n",
       "      <td>3016.575383</td>\n",
       "      <td>8428.346162</td>\n",
       "    </tr>\n",
       "  </tbody>\n",
       "</table>\n",
       "</div>"
      ],
      "text/plain": [
       "             coef      std err         t     P>|t|        2.5 %       97.5 %\n",
       "e401  5722.460772  1380.579139  4.144971  0.000034  3016.575383  8428.346162"
      ]
     },
     "execution_count": 24,
     "metadata": {},
     "output_type": "execute_result"
    }
   ],
   "source": [
    "# Initialize learners\n",
    "Cs = 0.0001*np.logspace(0, 4, 10)\n",
    "lasso = make_pipeline(StandardScaler(), LassoCV(cv=5, max_iter=10000))\n",
    "lasso_class = make_pipeline(StandardScaler(),\n",
    "                            LogisticRegressionCV(cv=5, penalty='l1', solver='liblinear',\n",
    "                                                 Cs = Cs, max_iter=1000))\n",
    "\n",
    "np.random.seed(123)\n",
    "# Initialize DoubleMLPLR model\n",
    "dml_plr_lasso = dml.DoubleMLPLR(data_dml_base,\n",
    "                                ml_g = lasso,\n",
    "                                ml_m = lasso_class,\n",
    "                                n_folds = 3)\n",
    "\n",
    "dml_plr_lasso.fit(store_predictions=True)\n",
    "dml_plr_lasso.summary"
   ]
  },
  {
   "cell_type": "code",
   "execution_count": 26,
   "id": "exterior-overhead",
   "metadata": {
    "execution": {
     "iopub.execute_input": "2021-04-28T07:17:37.449313Z",
     "iopub.status.busy": "2021-04-28T07:17:37.448872Z",
     "iopub.status.idle": "2021-04-28T07:17:41.993894Z",
     "shell.execute_reply": "2021-04-28T07:17:41.994569Z"
    }
   },
   "outputs": [
    {
     "data": {
      "text/html": [
       "<div>\n",
       "<style scoped>\n",
       "    .dataframe tbody tr th:only-of-type {\n",
       "        vertical-align: middle;\n",
       "    }\n",
       "\n",
       "    .dataframe tbody tr th {\n",
       "        vertical-align: top;\n",
       "    }\n",
       "\n",
       "    .dataframe thead th {\n",
       "        text-align: right;\n",
       "    }\n",
       "</style>\n",
       "<table border=\"1\" class=\"dataframe\">\n",
       "  <thead>\n",
       "    <tr style=\"text-align: right;\">\n",
       "      <th></th>\n",
       "      <th>coef</th>\n",
       "      <th>std err</th>\n",
       "      <th>t</th>\n",
       "      <th>P&gt;|t|</th>\n",
       "      <th>2.5 %</th>\n",
       "      <th>97.5 %</th>\n",
       "    </tr>\n",
       "  </thead>\n",
       "  <tbody>\n",
       "    <tr>\n",
       "      <th>e401</th>\n",
       "      <td>8974.791097</td>\n",
       "      <td>1324.323636</td>\n",
       "      <td>6.776887</td>\n",
       "      <td>1.227932e-11</td>\n",
       "      <td>6379.164467</td>\n",
       "      <td>11570.417727</td>\n",
       "    </tr>\n",
       "  </tbody>\n",
       "</table>\n",
       "</div>"
      ],
      "text/plain": [
       "             coef      std err         t         P>|t|        2.5 %  \\\n",
       "e401  8974.791097  1324.323636  6.776887  1.227932e-11  6379.164467   \n",
       "\n",
       "            97.5 %  \n",
       "e401  11570.417727  "
      ]
     },
     "execution_count": 26,
     "metadata": {},
     "output_type": "execute_result"
    }
   ],
   "source": [
    "# Estimate the ATE in the flexible model with lasso\n",
    "\n",
    "np.random.seed(123)\n",
    "dml_plr_lasso = dml.DoubleMLPLR(data_dml_flex,\n",
    "                                ml_g = lasso,\n",
    "                                ml_m = lasso_class,\n",
    "                                n_folds = 3)\n",
    "\n",
    "dml_plr_lasso.fit(store_predictions=True)\n",
    "lasso_summary = dml_plr_lasso.summary\n",
    "\n",
    "lasso_summary"
   ]
  },
  {
   "cell_type": "markdown",
   "id": "selected-respondent",
   "metadata": {},
   "source": [
    "Alternatively, we can repeat this procedure with other machine learning methods, for example a random forest learner as provided by the [RandomForestRegressor](https://scikit-learn.org/stable/modules/generated/sklearn.ensemble.RandomForestRegressor.html) and [RandomForestClassifier](https://scikit-learn.org/stable/modules/generated/sklearn.ensemble.RandomForestClassifier.html) class in [scikit-learn](https://scikit-learn.org). "
   ]
  },
  {
   "cell_type": "code",
   "execution_count": 27,
   "id": "stone-option",
   "metadata": {
    "execution": {
     "iopub.execute_input": "2021-04-28T07:17:41.997446Z",
     "iopub.status.busy": "2021-04-28T07:17:41.996575Z",
     "iopub.status.idle": "2021-04-28T07:17:53.412349Z",
     "shell.execute_reply": "2021-04-28T07:17:53.411886Z"
    }
   },
   "outputs": [
    {
     "data": {
      "text/html": [
       "<div>\n",
       "<style scoped>\n",
       "    .dataframe tbody tr th:only-of-type {\n",
       "        vertical-align: middle;\n",
       "    }\n",
       "\n",
       "    .dataframe tbody tr th {\n",
       "        vertical-align: top;\n",
       "    }\n",
       "\n",
       "    .dataframe thead th {\n",
       "        text-align: right;\n",
       "    }\n",
       "</style>\n",
       "<table border=\"1\" class=\"dataframe\">\n",
       "  <thead>\n",
       "    <tr style=\"text-align: right;\">\n",
       "      <th></th>\n",
       "      <th>coef</th>\n",
       "      <th>std err</th>\n",
       "      <th>t</th>\n",
       "      <th>P&gt;|t|</th>\n",
       "      <th>2.5 %</th>\n",
       "      <th>97.5 %</th>\n",
       "    </tr>\n",
       "  </thead>\n",
       "  <tbody>\n",
       "    <tr>\n",
       "      <th>e401</th>\n",
       "      <td>8909.634078</td>\n",
       "      <td>1321.822289</td>\n",
       "      <td>6.740417</td>\n",
       "      <td>1.579322e-11</td>\n",
       "      <td>6318.909997</td>\n",
       "      <td>11500.358158</td>\n",
       "    </tr>\n",
       "  </tbody>\n",
       "</table>\n",
       "</div>"
      ],
      "text/plain": [
       "             coef      std err         t         P>|t|        2.5 %  \\\n",
       "e401  8909.634078  1321.822289  6.740417  1.579322e-11  6318.909997   \n",
       "\n",
       "            97.5 %  \n",
       "e401  11500.358158  "
      ]
     },
     "execution_count": 27,
     "metadata": {},
     "output_type": "execute_result"
    }
   ],
   "source": [
    "# Random Forest\n",
    "randomForest = RandomForestRegressor(\n",
    "    n_estimators=500, max_depth=7, max_features=3, min_samples_leaf=3)\n",
    "randomForest_class = RandomForestClassifier(\n",
    "    n_estimators=500, max_depth=5, max_features=4, min_samples_leaf=7)\n",
    "\n",
    "np.random.seed(123)\n",
    "dml_plr_forest = dml.DoubleMLPLR(data_dml_base,\n",
    "                                 ml_g = randomForest,\n",
    "                                 ml_m = randomForest_class,\n",
    "                                 n_folds = 3)\n",
    "dml_plr_forest.fit(store_predictions=True)\n",
    "forest_summary = dml_plr_forest.summary\n",
    "\n",
    "forest_summary"
   ]
  },
  {
   "cell_type": "markdown",
   "id": "roman-finding",
   "metadata": {},
   "source": [
    "Now, let's use a regression tree as provided in [scikit-learn](https://scikit-learn.org)'s [DecisionTreeRegressor](https://scikit-learn.org/stable/modules/generated/sklearn.tree.DecisionTreeRegressor.html) and [DecisionTreeClassifier](https://scikit-learn.org/stable/modules/generated/sklearn.tree.DecisionTreeClassifier.html)."
   ]
  },
  {
   "cell_type": "code",
   "execution_count": 28,
   "id": "approved-replication",
   "metadata": {
    "execution": {
     "iopub.execute_input": "2021-04-28T07:17:53.417090Z",
     "iopub.status.busy": "2021-04-28T07:17:53.416560Z",
     "iopub.status.idle": "2021-04-28T07:17:53.508155Z",
     "shell.execute_reply": "2021-04-28T07:17:53.507714Z"
    }
   },
   "outputs": [
    {
     "data": {
      "text/html": [
       "<div>\n",
       "<style scoped>\n",
       "    .dataframe tbody tr th:only-of-type {\n",
       "        vertical-align: middle;\n",
       "    }\n",
       "\n",
       "    .dataframe tbody tr th {\n",
       "        vertical-align: top;\n",
       "    }\n",
       "\n",
       "    .dataframe thead th {\n",
       "        text-align: right;\n",
       "    }\n",
       "</style>\n",
       "<table border=\"1\" class=\"dataframe\">\n",
       "  <thead>\n",
       "    <tr style=\"text-align: right;\">\n",
       "      <th></th>\n",
       "      <th>coef</th>\n",
       "      <th>std err</th>\n",
       "      <th>t</th>\n",
       "      <th>P&gt;|t|</th>\n",
       "      <th>2.5 %</th>\n",
       "      <th>97.5 %</th>\n",
       "    </tr>\n",
       "  </thead>\n",
       "  <tbody>\n",
       "    <tr>\n",
       "      <th>e401</th>\n",
       "      <td>8260.06428</td>\n",
       "      <td>1348.624798</td>\n",
       "      <td>6.124805</td>\n",
       "      <td>9.079458e-10</td>\n",
       "      <td>5616.808246</td>\n",
       "      <td>10903.320314</td>\n",
       "    </tr>\n",
       "  </tbody>\n",
       "</table>\n",
       "</div>"
      ],
      "text/plain": [
       "            coef      std err         t         P>|t|        2.5 %  \\\n",
       "e401  8260.06428  1348.624798  6.124805  9.079458e-10  5616.808246   \n",
       "\n",
       "            97.5 %  \n",
       "e401  10903.320314  "
      ]
     },
     "execution_count": 28,
     "metadata": {},
     "output_type": "execute_result"
    }
   ],
   "source": [
    "# Trees\n",
    "trees = DecisionTreeRegressor(\n",
    "    max_depth=30, ccp_alpha=0.0047, min_samples_split=203, min_samples_leaf=67)\n",
    "trees_class = DecisionTreeClassifier(\n",
    "    max_depth=30, ccp_alpha=0.0042, min_samples_split=104, min_samples_leaf=34)\n",
    "\n",
    "np.random.seed(123)\n",
    "dml_plr_tree = dml.DoubleMLPLR(data_dml_base,\n",
    "                               ml_g = trees,\n",
    "                               ml_m = trees_class,\n",
    "                               n_folds = 3)\n",
    "dml_plr_tree.fit(store_predictions=True)\n",
    "tree_summary = dml_plr_tree.summary\n",
    "\n",
    "tree_summary"
   ]
  },
  {
   "cell_type": "markdown",
   "id": "aware-robin",
   "metadata": {},
   "source": [
    "We can also experiment with extreme gradient boosting as provided by [xgboost](https://xgboost.readthedocs.io/en/latest/)."
   ]
  },
  {
   "cell_type": "code",
   "execution_count": 29,
   "id": "blocked-victoria",
   "metadata": {
    "execution": {
     "iopub.execute_input": "2021-04-28T07:17:53.513288Z",
     "iopub.status.busy": "2021-04-28T07:17:53.512819Z",
     "iopub.status.idle": "2021-04-28T07:17:54.533757Z",
     "shell.execute_reply": "2021-04-28T07:17:54.533350Z"
    }
   },
   "outputs": [
    {
     "data": {
      "text/html": [
       "<div>\n",
       "<style scoped>\n",
       "    .dataframe tbody tr th:only-of-type {\n",
       "        vertical-align: middle;\n",
       "    }\n",
       "\n",
       "    .dataframe tbody tr th {\n",
       "        vertical-align: top;\n",
       "    }\n",
       "\n",
       "    .dataframe thead th {\n",
       "        text-align: right;\n",
       "    }\n",
       "</style>\n",
       "<table border=\"1\" class=\"dataframe\">\n",
       "  <thead>\n",
       "    <tr style=\"text-align: right;\">\n",
       "      <th></th>\n",
       "      <th>coef</th>\n",
       "      <th>std err</th>\n",
       "      <th>t</th>\n",
       "      <th>P&gt;|t|</th>\n",
       "      <th>2.5 %</th>\n",
       "      <th>97.5 %</th>\n",
       "    </tr>\n",
       "  </thead>\n",
       "  <tbody>\n",
       "    <tr>\n",
       "      <th>e401</th>\n",
       "      <td>8816.895693</td>\n",
       "      <td>1417.488971</td>\n",
       "      <td>6.220081</td>\n",
       "      <td>4.968995e-10</td>\n",
       "      <td>6038.668362</td>\n",
       "      <td>11595.123025</td>\n",
       "    </tr>\n",
       "  </tbody>\n",
       "</table>\n",
       "</div>"
      ],
      "text/plain": [
       "             coef      std err         t         P>|t|        2.5 %  \\\n",
       "e401  8816.895693  1417.488971  6.220081  4.968995e-10  6038.668362   \n",
       "\n",
       "            97.5 %  \n",
       "e401  11595.123025  "
      ]
     },
     "execution_count": 29,
     "metadata": {},
     "output_type": "execute_result"
    }
   ],
   "source": [
    "# Boosted Trees\n",
    "boost = XGBRegressor(n_jobs=1, objective = \"reg:squarederror\",\n",
    "                     eta=0.1, n_estimators=35)\n",
    "boost_class = XGBClassifier(use_label_encoder=False, n_jobs=1,\n",
    "                            objective = \"binary:logistic\", eval_metric = \"logloss\",\n",
    "                            eta=0.1, n_estimators=34)\n",
    "\n",
    "np.random.seed(123)\n",
    "dml_plr_boost = dml.DoubleMLPLR(data_dml_base,\n",
    "                                ml_g = boost,\n",
    "                                ml_m = boost_class,\n",
    "                                n_folds = 3)\n",
    "dml_plr_boost.fit(store_predictions=True)\n",
    "boost_summary = dml_plr_boost.summary\n",
    "\n",
    "boost_summary"
   ]
  },
  {
   "cell_type": "markdown",
   "id": "disciplinary-there",
   "metadata": {},
   "source": [
    "Let's sum up the results:"
   ]
  },
  {
   "cell_type": "code",
   "execution_count": 30,
   "id": "cheap-russia",
   "metadata": {
    "execution": {
     "iopub.execute_input": "2021-04-28T07:17:54.543063Z",
     "iopub.status.busy": "2021-04-28T07:17:54.542622Z",
     "iopub.status.idle": "2021-04-28T07:17:54.546276Z",
     "shell.execute_reply": "2021-04-28T07:17:54.545842Z"
    }
   },
   "outputs": [
    {
     "data": {
      "text/html": [
       "<div>\n",
       "<style scoped>\n",
       "    .dataframe tbody tr th:only-of-type {\n",
       "        vertical-align: middle;\n",
       "    }\n",
       "\n",
       "    .dataframe tbody tr th {\n",
       "        vertical-align: top;\n",
       "    }\n",
       "\n",
       "    .dataframe thead th {\n",
       "        text-align: right;\n",
       "    }\n",
       "</style>\n",
       "<table border=\"1\" class=\"dataframe\">\n",
       "  <thead>\n",
       "    <tr style=\"text-align: right;\">\n",
       "      <th></th>\n",
       "      <th>coef</th>\n",
       "      <th>2.5 %</th>\n",
       "      <th>97.5 %</th>\n",
       "    </tr>\n",
       "  </thead>\n",
       "  <tbody>\n",
       "    <tr>\n",
       "      <th>lasso</th>\n",
       "      <td>8974.791097</td>\n",
       "      <td>6379.164467</td>\n",
       "      <td>11570.417727</td>\n",
       "    </tr>\n",
       "    <tr>\n",
       "      <th>forest</th>\n",
       "      <td>8909.634078</td>\n",
       "      <td>6318.909997</td>\n",
       "      <td>11500.358158</td>\n",
       "    </tr>\n",
       "    <tr>\n",
       "      <th>tree</th>\n",
       "      <td>8260.064280</td>\n",
       "      <td>5616.808246</td>\n",
       "      <td>10903.320314</td>\n",
       "    </tr>\n",
       "    <tr>\n",
       "      <th>xgboost</th>\n",
       "      <td>8816.895693</td>\n",
       "      <td>6038.668362</td>\n",
       "      <td>11595.123025</td>\n",
       "    </tr>\n",
       "  </tbody>\n",
       "</table>\n",
       "</div>"
      ],
      "text/plain": [
       "                coef        2.5 %        97.5 %\n",
       "lasso    8974.791097  6379.164467  11570.417727\n",
       "forest   8909.634078  6318.909997  11500.358158\n",
       "tree     8260.064280  5616.808246  10903.320314\n",
       "xgboost  8816.895693  6038.668362  11595.123025"
      ]
     },
     "execution_count": 30,
     "metadata": {},
     "output_type": "execute_result"
    }
   ],
   "source": [
    "plr_summary = pd.concat((lasso_summary, forest_summary, tree_summary, boost_summary))\n",
    "plr_summary.index = ['lasso', 'forest', 'tree', 'xgboost']\n",
    "plr_summary[['coef', '2.5 %', '97.5 %']]"
   ]
  },
  {
   "cell_type": "code",
   "execution_count": 31,
   "id": "consistent-penguin",
   "metadata": {
    "execution": {
     "iopub.execute_input": "2021-04-28T07:17:54.574707Z",
     "iopub.status.busy": "2021-04-28T07:17:54.561002Z",
     "iopub.status.idle": "2021-04-28T07:17:54.670603Z",
     "shell.execute_reply": "2021-04-28T07:17:54.671043Z"
    }
   },
   "outputs": [
    {
     "data": {
      "image/png": "[encoded data removed]",
      "text/plain": [
       "<Figure size 720x540 with 1 Axes>"
      ]
     },
     "metadata": {},
     "output_type": "display_data"
    }
   ],
   "source": [
    "errors = np.full((2, plr_summary.shape[0]), np.nan)\n",
    "errors[0, :] = plr_summary['coef'] - plr_summary['2.5 %']\n",
    "errors[1, :] = plr_summary['97.5 %'] - plr_summary['coef']\n",
    "plt.errorbar(plr_summary.index, plr_summary.coef, fmt='o', yerr=errors)\n",
    "plt.ylim([0, 12500])\n",
    "\n",
    "plt.title('Partially Linear Regression Model (PLR)')\n",
    "plt.xlabel('ML method')\n",
    "_ =  plt.ylabel('Coefficients and 95%-CI')"
   ]
  },
  {
   "cell_type": "markdown",
   "id": "relevant-amsterdam",
   "metadata": {},
   "source": [
    "### Interactive Regression Model (IRM)"
   ]
  },
  {
   "cell_type": "markdown",
   "id": "industrial-colony",
   "metadata": {},
   "source": [
    "Next, we consider estimation of average treatment effects when treatment effects are fully heterogeneous:"
   ]
  },
  {
   "cell_type": "markdown",
   "id": "removed-consciousness",
   "metadata": {},
   "source": [
    "\\begin{eqnarray}\n",
    "& Y = g_0(D,X) + U, &\\quad E[U\\mid X,D] = 0,\\\\\n",
    "& D = m_0(X) + V, &\\quad E[V\\mid X] = 0.\n",
    "\\end{eqnarray}"
   ]
  },
  {
   "cell_type": "markdown",
   "id": "average-shade",
   "metadata": {},
   "source": [
    "To reduce the disproportionate impact of extreme propensity score weights in the interactive model\n",
    "we trim the propensity scores which are close to the bounds."
   ]
  },
  {
   "cell_type": "code",
   "execution_count": 34,
   "id": "opponent-disclaimer",
   "metadata": {
    "execution": {
     "iopub.execute_input": "2021-04-28T07:17:54.675393Z",
     "iopub.status.busy": "2021-04-28T07:17:54.674939Z",
     "iopub.status.idle": "2021-04-28T07:17:59.252384Z",
     "shell.execute_reply": "2021-04-28T07:17:59.253066Z"
    }
   },
   "outputs": [
    {
     "data": {
      "text/html": [
       "<div>\n",
       "<style scoped>\n",
       "    .dataframe tbody tr th:only-of-type {\n",
       "        vertical-align: middle;\n",
       "    }\n",
       "\n",
       "    .dataframe tbody tr th {\n",
       "        vertical-align: top;\n",
       "    }\n",
       "\n",
       "    .dataframe thead th {\n",
       "        text-align: right;\n",
       "    }\n",
       "</style>\n",
       "<table border=\"1\" class=\"dataframe\">\n",
       "  <thead>\n",
       "    <tr style=\"text-align: right;\">\n",
       "      <th></th>\n",
       "      <th>coef</th>\n",
       "      <th>std err</th>\n",
       "      <th>t</th>\n",
       "      <th>P&gt;|t|</th>\n",
       "      <th>2.5 %</th>\n",
       "      <th>97.5 %</th>\n",
       "    </tr>\n",
       "  </thead>\n",
       "  <tbody>\n",
       "    <tr>\n",
       "      <th>e401</th>\n",
       "      <td>7918.270136</td>\n",
       "      <td>1206.438374</td>\n",
       "      <td>6.563344</td>\n",
       "      <td>5.261425e-11</td>\n",
       "      <td>5553.694373</td>\n",
       "      <td>10282.845898</td>\n",
       "    </tr>\n",
       "  </tbody>\n",
       "</table>\n",
       "</div>"
      ],
      "text/plain": [
       "             coef      std err         t         P>|t|        2.5 %  \\\n",
       "e401  7918.270136  1206.438374  6.563344  5.261425e-11  5553.694373   \n",
       "\n",
       "            97.5 %  \n",
       "e401  10282.845898  "
      ]
     },
     "execution_count": 34,
     "metadata": {},
     "output_type": "execute_result"
    }
   ],
   "source": [
    "# Lasso\n",
    "lasso = make_pipeline(StandardScaler(), LassoCV(cv=5, max_iter=20000))\n",
    "\n",
    "# Initialize DoubleMLIRM model\n",
    "np.random.seed(123)\n",
    "dml_irm_lasso = dml.DoubleMLIRM(data_dml_flex,\n",
    "                          ml_g = lasso,\n",
    "                          ml_m = lasso_class,\n",
    "                          trimming_threshold = 0.01,\n",
    "                          n_folds = 3)\n",
    "dml_irm_lasso.fit(store_predictions=True) \n",
    "lasso_summary = dml_irm_lasso.summary\n",
    "\n",
    "lasso_summary"
   ]
  },
  {
   "cell_type": "code",
   "execution_count": 36,
   "id": "illegal-alloy",
   "metadata": {
    "execution": {
     "iopub.execute_input": "2021-04-28T07:17:59.258365Z",
     "iopub.status.busy": "2021-04-28T07:17:59.257872Z",
     "iopub.status.idle": "2021-04-28T07:18:12.290660Z",
     "shell.execute_reply": "2021-04-28T07:18:12.291076Z"
    }
   },
   "outputs": [
    {
     "data": {
      "text/html": [
       "<div>\n",
       "<style scoped>\n",
       "    .dataframe tbody tr th:only-of-type {\n",
       "        vertical-align: middle;\n",
       "    }\n",
       "\n",
       "    .dataframe tbody tr th {\n",
       "        vertical-align: top;\n",
       "    }\n",
       "\n",
       "    .dataframe thead th {\n",
       "        text-align: right;\n",
       "    }\n",
       "</style>\n",
       "<table border=\"1\" class=\"dataframe\">\n",
       "  <thead>\n",
       "    <tr style=\"text-align: right;\">\n",
       "      <th></th>\n",
       "      <th>coef</th>\n",
       "      <th>std err</th>\n",
       "      <th>t</th>\n",
       "      <th>P&gt;|t|</th>\n",
       "      <th>2.5 %</th>\n",
       "      <th>97.5 %</th>\n",
       "    </tr>\n",
       "  </thead>\n",
       "  <tbody>\n",
       "    <tr>\n",
       "      <th>e401</th>\n",
       "      <td>8020.190199</td>\n",
       "      <td>1140.240133</td>\n",
       "      <td>7.033773</td>\n",
       "      <td>2.010222e-12</td>\n",
       "      <td>5785.360605</td>\n",
       "      <td>10255.019793</td>\n",
       "    </tr>\n",
       "  </tbody>\n",
       "</table>\n",
       "</div>"
      ],
      "text/plain": [
       "             coef      std err         t         P>|t|        2.5 %  \\\n",
       "e401  8020.190199  1140.240133  7.033773  2.010222e-12  5785.360605   \n",
       "\n",
       "            97.5 %  \n",
       "e401  10255.019793  "
      ]
     },
     "execution_count": 36,
     "metadata": {},
     "output_type": "execute_result"
    }
   ],
   "source": [
    "# Random Forest\n",
    "randomForest = RandomForestRegressor(n_estimators=500)\n",
    "randomForest_class = RandomForestClassifier(n_estimators=500)\n",
    "\n",
    "np.random.seed(123)\n",
    "dml_irm_forest = dml.DoubleMLIRM(data_dml_base,\n",
    "                                 ml_g = randomForest,\n",
    "                                 ml_m = randomForest_class,\n",
    "                                 trimming_threshold = 0.01,\n",
    "                                 n_folds = 3)\n",
    "\n",
    "# Set nuisance-part specific parameters\n",
    "dml_irm_forest.set_ml_nuisance_params('ml_g0', 'e401', {\n",
    "    'max_depth': 6, 'max_features': 4, 'min_samples_leaf': 7})\n",
    "dml_irm_forest.set_ml_nuisance_params('ml_g1', 'e401', {\n",
    "    'max_depth': 6, 'max_features': 3, 'min_samples_leaf': 5})\n",
    "dml_irm_forest.set_ml_nuisance_params('ml_m', 'e401', {\n",
    "    'max_depth': 6, 'max_features': 3, 'min_samples_leaf': 6})\n",
    "\n",
    "dml_irm_forest.fit(store_predictions=True) \n",
    "forest_summary = dml_irm_forest.summary\n",
    "\n",
    "forest_summary"
   ]
  },
  {
   "cell_type": "code",
   "execution_count": 37,
   "id": "sustainable-capture",
   "metadata": {
    "execution": {
     "iopub.execute_input": "2021-04-28T07:18:12.296366Z",
     "iopub.status.busy": "2021-04-28T07:18:12.295826Z",
     "iopub.status.idle": "2021-04-28T07:18:12.388236Z",
     "shell.execute_reply": "2021-04-28T07:18:12.388670Z"
    }
   },
   "outputs": [
    {
     "data": {
      "text/html": [
       "<div>\n",
       "<style scoped>\n",
       "    .dataframe tbody tr th:only-of-type {\n",
       "        vertical-align: middle;\n",
       "    }\n",
       "\n",
       "    .dataframe tbody tr th {\n",
       "        vertical-align: top;\n",
       "    }\n",
       "\n",
       "    .dataframe thead th {\n",
       "        text-align: right;\n",
       "    }\n",
       "</style>\n",
       "<table border=\"1\" class=\"dataframe\">\n",
       "  <thead>\n",
       "    <tr style=\"text-align: right;\">\n",
       "      <th></th>\n",
       "      <th>coef</th>\n",
       "      <th>std err</th>\n",
       "      <th>t</th>\n",
       "      <th>P&gt;|t|</th>\n",
       "      <th>2.5 %</th>\n",
       "      <th>97.5 %</th>\n",
       "    </tr>\n",
       "  </thead>\n",
       "  <tbody>\n",
       "    <tr>\n",
       "      <th>e401</th>\n",
       "      <td>8054.077008</td>\n",
       "      <td>1184.437455</td>\n",
       "      <td>6.799918</td>\n",
       "      <td>1.046791e-11</td>\n",
       "      <td>5732.622255</td>\n",
       "      <td>10375.531761</td>\n",
       "    </tr>\n",
       "  </tbody>\n",
       "</table>\n",
       "</div>"
      ],
      "text/plain": [
       "             coef      std err         t         P>|t|        2.5 %  \\\n",
       "e401  8054.077008  1184.437455  6.799918  1.046791e-11  5732.622255   \n",
       "\n",
       "            97.5 %  \n",
       "e401  10375.531761  "
      ]
     },
     "execution_count": 37,
     "metadata": {},
     "output_type": "execute_result"
    }
   ],
   "source": [
    "# Trees\n",
    "trees = DecisionTreeRegressor(max_depth=30)\n",
    "trees_class = DecisionTreeClassifier(max_depth=30)\n",
    "\n",
    "np.random.seed(123)\n",
    "dml_irm_tree = dml.DoubleMLIRM(data_dml_base,\n",
    "                               ml_g = trees,\n",
    "                               ml_m = trees_class,\n",
    "                               trimming_threshold = 0.01,\n",
    "                               n_folds = 3)\n",
    "\n",
    "# Set nuisance-part specific parameters\n",
    "dml_irm_tree.set_ml_nuisance_params('ml_g0', 'e401', {\n",
    "    'ccp_alpha': 0.0016, 'min_samples_split': 74, 'min_samples_leaf': 24})\n",
    "dml_irm_tree.set_ml_nuisance_params('ml_g1', 'e401', {\n",
    "    'ccp_alpha': 0.0018, 'min_samples_split': 70, 'min_samples_leaf': 23})\n",
    "dml_irm_tree.set_ml_nuisance_params('ml_m', 'e401', {\n",
    "    'ccp_alpha': 0.0028, 'min_samples_split': 167, 'min_samples_leaf': 55})\n",
    "\n",
    "dml_irm_tree.fit(store_predictions=True)\n",
    "tree_summary = dml_irm_tree.summary\n",
    "\n",
    "tree_summary"
   ]
  },
  {
   "cell_type": "code",
   "execution_count": 38,
   "id": "dying-ready",
   "metadata": {
    "execution": {
     "iopub.execute_input": "2021-04-28T07:18:12.393864Z",
     "iopub.status.busy": "2021-04-28T07:18:12.393402Z",
     "iopub.status.idle": "2021-04-28T07:18:13.050213Z",
     "shell.execute_reply": "2021-04-28T07:18:13.050700Z"
    }
   },
   "outputs": [
    {
     "data": {
      "text/html": [
       "<div>\n",
       "<style scoped>\n",
       "    .dataframe tbody tr th:only-of-type {\n",
       "        vertical-align: middle;\n",
       "    }\n",
       "\n",
       "    .dataframe tbody tr th {\n",
       "        vertical-align: top;\n",
       "    }\n",
       "\n",
       "    .dataframe thead th {\n",
       "        text-align: right;\n",
       "    }\n",
       "</style>\n",
       "<table border=\"1\" class=\"dataframe\">\n",
       "  <thead>\n",
       "    <tr style=\"text-align: right;\">\n",
       "      <th></th>\n",
       "      <th>coef</th>\n",
       "      <th>std err</th>\n",
       "      <th>t</th>\n",
       "      <th>P&gt;|t|</th>\n",
       "      <th>2.5 %</th>\n",
       "      <th>97.5 %</th>\n",
       "    </tr>\n",
       "  </thead>\n",
       "  <tbody>\n",
       "    <tr>\n",
       "      <th>e401</th>\n",
       "      <td>8232.068655</td>\n",
       "      <td>1231.951289</td>\n",
       "      <td>6.682138</td>\n",
       "      <td>2.354809e-11</td>\n",
       "      <td>5817.488498</td>\n",
       "      <td>10646.648811</td>\n",
       "    </tr>\n",
       "  </tbody>\n",
       "</table>\n",
       "</div>"
      ],
      "text/plain": [
       "             coef      std err         t         P>|t|        2.5 %  \\\n",
       "e401  8232.068655  1231.951289  6.682138  2.354809e-11  5817.488498   \n",
       "\n",
       "            97.5 %  \n",
       "e401  10646.648811  "
      ]
     },
     "execution_count": 38,
     "metadata": {},
     "output_type": "execute_result"
    }
   ],
   "source": [
    "# Boosted Trees\n",
    "boost = XGBRegressor(n_jobs=1, objective = \"reg:squarederror\")\n",
    "boost_class = XGBClassifier(use_label_encoder=False, n_jobs=1,\n",
    "                            objective = \"binary:logistic\", eval_metric = \"logloss\")\n",
    "\n",
    "np.random.seed(123)\n",
    "dml_irm_boost = dml.DoubleMLIRM(data_dml_base,\n",
    "                                ml_g = boost,\n",
    "                                ml_m = boost_class,\n",
    "                                trimming_threshold = 0.01,\n",
    "                                n_folds = 3)\n",
    "\n",
    "# Set nuisance-part specific parameters\n",
    "dml_irm_boost.set_ml_nuisance_params('ml_g0', 'e401', {\n",
    "    'eta': 0.1, 'n_estimators': 8})\n",
    "dml_irm_boost.set_ml_nuisance_params('ml_g1', 'e401', {\n",
    "    'eta': 0.1, 'n_estimators': 29})\n",
    "dml_irm_boost.set_ml_nuisance_params('ml_m', 'e401', {\n",
    "    'eta': 0.1, 'n_estimators': 23})\n",
    "\n",
    "dml_irm_boost.fit(store_predictions=True)\n",
    "boost_summary = dml_irm_boost.summary\n",
    "\n",
    "boost_summary"
   ]
  },
  {
   "cell_type": "code",
   "execution_count": 39,
   "id": "convinced-master",
   "metadata": {
    "execution": {
     "iopub.execute_input": "2021-04-28T07:18:13.060654Z",
     "iopub.status.busy": "2021-04-28T07:18:13.060183Z",
     "iopub.status.idle": "2021-04-28T07:18:13.062339Z",
     "shell.execute_reply": "2021-04-28T07:18:13.062713Z"
    }
   },
   "outputs": [
    {
     "data": {
      "text/html": [
       "<div>\n",
       "<style scoped>\n",
       "    .dataframe tbody tr th:only-of-type {\n",
       "        vertical-align: middle;\n",
       "    }\n",
       "\n",
       "    .dataframe tbody tr th {\n",
       "        vertical-align: top;\n",
       "    }\n",
       "\n",
       "    .dataframe thead th {\n",
       "        text-align: right;\n",
       "    }\n",
       "</style>\n",
       "<table border=\"1\" class=\"dataframe\">\n",
       "  <thead>\n",
       "    <tr style=\"text-align: right;\">\n",
       "      <th></th>\n",
       "      <th>coef</th>\n",
       "      <th>2.5 %</th>\n",
       "      <th>97.5 %</th>\n",
       "    </tr>\n",
       "  </thead>\n",
       "  <tbody>\n",
       "    <tr>\n",
       "      <th>lasso</th>\n",
       "      <td>7918.270136</td>\n",
       "      <td>5553.694373</td>\n",
       "      <td>10282.845898</td>\n",
       "    </tr>\n",
       "    <tr>\n",
       "      <th>forest</th>\n",
       "      <td>8020.190199</td>\n",
       "      <td>5785.360605</td>\n",
       "      <td>10255.019793</td>\n",
       "    </tr>\n",
       "    <tr>\n",
       "      <th>tree</th>\n",
       "      <td>8054.077008</td>\n",
       "      <td>5732.622255</td>\n",
       "      <td>10375.531761</td>\n",
       "    </tr>\n",
       "    <tr>\n",
       "      <th>xgboost</th>\n",
       "      <td>8232.068655</td>\n",
       "      <td>5817.488498</td>\n",
       "      <td>10646.648811</td>\n",
       "    </tr>\n",
       "  </tbody>\n",
       "</table>\n",
       "</div>"
      ],
      "text/plain": [
       "                coef        2.5 %        97.5 %\n",
       "lasso    7918.270136  5553.694373  10282.845898\n",
       "forest   8020.190199  5785.360605  10255.019793\n",
       "tree     8054.077008  5732.622255  10375.531761\n",
       "xgboost  8232.068655  5817.488498  10646.648811"
      ]
     },
     "execution_count": 39,
     "metadata": {},
     "output_type": "execute_result"
    }
   ],
   "source": [
    "irm_summary = pd.concat((lasso_summary, forest_summary, tree_summary, boost_summary))\n",
    "irm_summary.index = ['lasso', 'forest', 'tree', 'xgboost']\n",
    "irm_summary[['coef', '2.5 %', '97.5 %']]"
   ]
  },
  {
   "cell_type": "code",
   "execution_count": 40,
   "id": "vietnamese-wedding",
   "metadata": {
    "execution": {
     "iopub.execute_input": "2021-04-28T07:18:13.090551Z",
     "iopub.status.busy": "2021-04-28T07:18:13.084647Z",
     "iopub.status.idle": "2021-04-28T07:18:13.187687Z",
     "shell.execute_reply": "2021-04-28T07:18:13.187285Z"
    }
   },
   "outputs": [
    {
     "data": {
      "image/png": "[encoded data removed]",
      "text/plain": [
       "<Figure size 720x540 with 1 Axes>"
      ]
     },
     "metadata": {},
     "output_type": "display_data"
    }
   ],
   "source": [
    "errors = np.full((2, irm_summary.shape[0]), np.nan)\n",
    "errors[0, :] = irm_summary['coef'] - irm_summary['2.5 %']\n",
    "errors[1, :] = irm_summary['97.5 %'] - irm_summary['coef']\n",
    "plt.errorbar(irm_summary.index, irm_summary.coef, fmt='o', yerr=errors)\n",
    "plt.ylim([0, 12500])\n",
    "\n",
    "plt.title('Interactive Regression Model (IRM)')\n",
    "plt.xlabel('ML method')\n",
    "_ = plt.ylabel('Coefficients and 95%-CI')"
   ]
  },
  {
   "cell_type": "markdown",
   "id": "figured-disposition",
   "metadata": {},
   "source": [
    "These estimates that flexibly account for confounding are\n",
    "substantially attenuated relative to the baseline estimate (*19559*) that does not account for confounding. They suggest much smaller causal effects of 401(k) eligiblity on financial asset holdings. The best model with lowest RMSE in both equations is the PLR model estimated via lasso. It gives the following estimate:"
   ]
  },
  {
   "cell_type": "markdown",
   "id": "protected-alignment",
   "metadata": {},
   "source": [
    "## Local Average Treatment Effects of 401(k) Participation on Net Financial Assets"
   ]
  },
  {
   "cell_type": "markdown",
   "id": "freelance-tennis",
   "metadata": {},
   "source": [
    "### Interactive IV Model (IIVM)"
   ]
  },
  {
   "cell_type": "markdown",
   "id": "blind-angel",
   "metadata": {},
   "source": [
    "In the examples above, we estimated the average treatment effect of *eligibility* on financial asset holdings. Now, we consider estimation of local average treatment effects (LATE) of *participation* using eligibility as an instrument for the participation decision. Under appropriate assumptions, the LATE identifies the treatment effect for so-called compliers, i.e., individuals who would only participate if eligible and otherwise not participate in the program. \n",
    "\n",
    "As before, $Y$ denotes the outcome `net_tfa`, and $X$ is the vector of covariates. We use `e401` as a binary instrument for the treatment variable `p401`. Here the structural equation model is:\n",
    "\n",
    "\\begin{eqnarray}\n",
    "& Y = g_0(Z,X) + U, &\\quad E[U\\mid Z,X] = 0,\\\\\n",
    "& D = r_0(Z,X) + V, &\\quad E[V\\mid Z, X] = 0,\\\\\n",
    "& Z = m_0(X) + \\zeta, &\\quad E[\\zeta \\mid X] = 0.\n",
    "\\end{eqnarray}"
   ]
  },
  {
   "cell_type": "code",
   "execution_count": null,
   "id": "interim-booth",
   "metadata": {
    "execution": {
     "iopub.execute_input": "2021-04-28T07:18:13.198508Z",
     "iopub.status.busy": "2021-04-28T07:18:13.191540Z",
     "iopub.status.idle": "2021-04-28T07:18:13.201860Z",
     "shell.execute_reply": "2021-04-28T07:18:13.201471Z"
    }
   },
   "outputs": [],
   "source": [
    "# Initialize DoubleMLData with an instrument\n",
    "\n",
    "# Basic model\n",
    "data_dml_base_iv = dml.DoubleMLData(data,\n",
    "                                    y_col='net_tfa',\n",
    "                                    d_cols='p401',\n",
    "                                    z_cols='e401',\n",
    "                                    x_cols=features_base)\n",
    "\n",
    "print(data_dml_base_iv)"
   ]
  },
  {
   "cell_type": "code",
   "execution_count": null,
   "id": "intensive-royal",
   "metadata": {
    "execution": {
     "iopub.execute_input": "2021-04-28T07:18:13.206307Z",
     "iopub.status.busy": "2021-04-28T07:18:13.205833Z",
     "iopub.status.idle": "2021-04-28T07:18:13.218206Z",
     "shell.execute_reply": "2021-04-28T07:18:13.217734Z"
    }
   },
   "outputs": [],
   "source": [
    "# Flexible model\n",
    "model_data = pd.concat((data.copy()[['net_tfa', 'e401', 'p401']], features.copy()),\n",
    "                        axis=1, sort=False)\n",
    "\n",
    "data_dml_iv_flex = dml.DoubleMLData(model_data,\n",
    "                                    y_col='net_tfa',\n",
    "                                    d_cols='p401',\n",
    "                                    z_cols='e401')\n",
    "\n",
    "print(data_dml_iv_flex)"
   ]
  },
  {
   "cell_type": "code",
   "execution_count": null,
   "id": "future-suspension",
   "metadata": {
    "execution": {
     "iopub.execute_input": "2021-04-28T07:18:13.222293Z",
     "iopub.status.busy": "2021-04-28T07:18:13.221824Z",
     "iopub.status.idle": "2021-04-28T07:18:18.593590Z",
     "shell.execute_reply": "2021-04-28T07:18:18.593943Z"
    }
   },
   "outputs": [],
   "source": [
    "# Lasso\n",
    "lasso = make_pipeline(StandardScaler(), LassoCV(cv=5, max_iter=20000))\n",
    "\n",
    "# Initialize DoubleMLIRM model\n",
    "np.random.seed(123)\n",
    "dml_iivm_lasso = dml.DoubleMLIIVM(data_dml_iv_flex,\n",
    "                                  ml_g = lasso,\n",
    "                                  ml_m = lasso_class,\n",
    "                                  ml_r = lasso_class,\n",
    "                                  subgroups = {'always_takers': False,\n",
    "                                             'never_takers': True},\n",
    "                                  trimming_threshold = 0.01,\n",
    "                                  n_folds = 3)\n",
    "dml_iivm_lasso.fit(store_predictions=True)\n",
    "lasso_summary = dml_iivm_lasso.summary\n",
    "\n",
    "lasso_summary"
   ]
  },
  {
   "cell_type": "markdown",
   "id": "configured-hanging",
   "metadata": {},
   "source": [
    "Again, we repeat the procedure for the other machine learning methods:"
   ]
  },
  {
   "cell_type": "code",
   "execution_count": null,
   "id": "equipped-logan",
   "metadata": {
    "execution": {
     "iopub.execute_input": "2021-04-28T07:18:18.599436Z",
     "iopub.status.busy": "2021-04-28T07:18:18.598980Z",
     "iopub.status.idle": "2021-04-28T07:18:35.683887Z",
     "shell.execute_reply": "2021-04-28T07:18:35.683434Z"
    }
   },
   "outputs": [],
   "source": [
    "# Random Forest\n",
    "randomForest = RandomForestRegressor(n_estimators=500)\n",
    "randomForest_class = RandomForestClassifier(n_estimators=500)\n",
    "\n",
    "np.random.seed(123)\n",
    "dml_iivm_forest = dml.DoubleMLIIVM(data_dml_base_iv,\n",
    "                                   ml_g = randomForest,\n",
    "                                   ml_m = randomForest_class,\n",
    "                                   ml_r = randomForest_class,\n",
    "                                   subgroups = {'always_takers': False,\n",
    "                                                'never_takers': True},\n",
    "                                   trimming_threshold = 0.01,\n",
    "                                   n_folds = 3)\n",
    "\n",
    "# Set nuisance-part specific parameters\n",
    "dml_iivm_forest.set_ml_nuisance_params('ml_g0', 'p401', {\n",
    "    'max_depth': 6, 'max_features': 4, 'min_samples_leaf': 7})\n",
    "dml_iivm_forest.set_ml_nuisance_params('ml_g1', 'p401', {\n",
    "    'max_depth': 6, 'max_features': 3, 'min_samples_leaf': 5})\n",
    "dml_iivm_forest.set_ml_nuisance_params('ml_m', 'p401', {\n",
    "    'max_depth': 6, 'max_features': 3, 'min_samples_leaf': 6})\n",
    "dml_iivm_forest.set_ml_nuisance_params('ml_r1', 'p401', {\n",
    "    'max_depth': 4, 'max_features': 7, 'min_samples_leaf': 6})\n",
    "\n",
    "dml_iivm_forest.fit(store_predictions=True) \n",
    "forest_summary = dml_iivm_forest.summary\n",
    "\n",
    "forest_summary"
   ]
  },
  {
   "cell_type": "code",
   "execution_count": null,
   "id": "novel-asset",
   "metadata": {
    "execution": {
     "iopub.execute_input": "2021-04-28T07:18:35.689760Z",
     "iopub.status.busy": "2021-04-28T07:18:35.688883Z",
     "iopub.status.idle": "2021-04-28T07:18:35.800144Z",
     "shell.execute_reply": "2021-04-28T07:18:35.799703Z"
    }
   },
   "outputs": [],
   "source": [
    "# Trees\n",
    "trees = DecisionTreeRegressor(max_depth=30)\n",
    "trees_class = DecisionTreeClassifier(max_depth=30)\n",
    "\n",
    "np.random.seed(123)\n",
    "dml_iivm_tree = dml.DoubleMLIIVM(data_dml_base_iv,\n",
    "                                 ml_g = trees,\n",
    "                                 ml_m = trees_class,\n",
    "                                 ml_r = trees_class,\n",
    "                                 subgroups = {'always_takers': False,\n",
    "                                              'never_takers': True},\n",
    "                                 trimming_threshold = 0.01,\n",
    "                                 n_folds = 3)\n",
    "\n",
    "# Set nuisance-part specific parameters\n",
    "dml_iivm_tree.set_ml_nuisance_params('ml_g0', 'p401', {\n",
    "    'ccp_alpha': 0.0016, 'min_samples_split': 74, 'min_samples_leaf': 24})\n",
    "dml_iivm_tree.set_ml_nuisance_params('ml_g1', 'p401', {\n",
    "    'ccp_alpha': 0.0018, 'min_samples_split': 70, 'min_samples_leaf': 23})\n",
    "dml_iivm_tree.set_ml_nuisance_params('ml_m', 'p401', {\n",
    "    'ccp_alpha': 0.0028, 'min_samples_split': 167, 'min_samples_leaf': 55})\n",
    "dml_iivm_tree.set_ml_nuisance_params('ml_r1', 'p401', {\n",
    "    'ccp_alpha': 0.0576, 'min_samples_split': 55, 'min_samples_leaf': 18})\n",
    "\n",
    "dml_iivm_tree.fit(store_predictions=True)\n",
    "tree_summary = dml_iivm_tree.summary\n",
    "\n",
    "tree_summary"
   ]
  },
  {
   "cell_type": "code",
   "execution_count": null,
   "id": "built-campbell",
   "metadata": {
    "execution": {
     "iopub.execute_input": "2021-04-28T07:18:35.806152Z",
     "iopub.status.busy": "2021-04-28T07:18:35.805377Z",
     "iopub.status.idle": "2021-04-28T07:18:36.514818Z",
     "shell.execute_reply": "2021-04-28T07:18:36.514363Z"
    }
   },
   "outputs": [],
   "source": [
    "# Boosted Trees\n",
    "boost = XGBRegressor(n_jobs=1, objective = \"reg:squarederror\")\n",
    "boost_class = XGBClassifier(use_label_encoder=False, n_jobs=1,\n",
    "                            objective = \"binary:logistic\", eval_metric = \"logloss\")\n",
    "\n",
    "np.random.seed(123)\n",
    "dml_iivm_boost = dml.DoubleMLIIVM(data_dml_base_iv,\n",
    "                                  ml_g = boost,\n",
    "                                  ml_m = boost_class,\n",
    "                                  ml_r = boost_class,\n",
    "                                  subgroups = {'always_takers': False,\n",
    "                                               'never_takers': True},\n",
    "                                  trimming_threshold = 0.01,\n",
    "                                  n_folds = 3)\n",
    "\n",
    "# Set nuisance-part specific parameters\n",
    "dml_iivm_boost.set_ml_nuisance_params('ml_g0', 'p401', {\n",
    "    'eta': 0.1, 'n_estimators': 9})\n",
    "dml_iivm_boost.set_ml_nuisance_params('ml_g1', 'p401', {\n",
    "    'eta': 0.1, 'n_estimators': 33})\n",
    "dml_iivm_boost.set_ml_nuisance_params('ml_m', 'p401', {\n",
    "    'eta': 0.1, 'n_estimators': 12})\n",
    "dml_iivm_boost.set_ml_nuisance_params('ml_r1', 'p401', {\n",
    "    'eta': 0.1, 'n_estimators': 25})\n",
    "\n",
    "dml_iivm_boost.fit(store_predictions=True)\n",
    "boost_summary = dml_iivm_boost.summary\n",
    "\n",
    "boost_summary"
   ]
  },
  {
   "cell_type": "code",
   "execution_count": null,
   "id": "photographic-advocate",
   "metadata": {
    "execution": {
     "iopub.execute_input": "2021-04-28T07:18:36.524385Z",
     "iopub.status.busy": "2021-04-28T07:18:36.518771Z",
     "iopub.status.idle": "2021-04-28T07:18:36.528501Z",
     "shell.execute_reply": "2021-04-28T07:18:36.528105Z"
    }
   },
   "outputs": [],
   "source": [
    "iivm_summary = pd.concat((lasso_summary, forest_summary, tree_summary, boost_summary))\n",
    "iivm_summary.index = ['lasso', 'forest', 'tree', 'xgboost']\n",
    "iivm_summary[['coef', '2.5 %', '97.5 %']]"
   ]
  },
  {
   "cell_type": "code",
   "execution_count": null,
   "id": "united-sculpture",
   "metadata": {
    "execution": {
     "iopub.execute_input": "2021-04-28T07:18:36.531737Z",
     "iopub.status.busy": "2021-04-28T07:18:36.531297Z",
     "iopub.status.idle": "2021-04-28T07:18:36.534520Z",
     "shell.execute_reply": "2021-04-28T07:18:36.534096Z"
    }
   },
   "outputs": [],
   "source": [
    "colors = sns.color_palette()"
   ]
  },
  {
   "cell_type": "code",
   "execution_count": null,
   "id": "optimum-services",
   "metadata": {
    "execution": {
     "iopub.execute_input": "2021-04-28T07:18:36.562191Z",
     "iopub.status.busy": "2021-04-28T07:18:36.549183Z",
     "iopub.status.idle": "2021-04-28T07:18:36.664915Z",
     "shell.execute_reply": "2021-04-28T07:18:36.664486Z"
    }
   },
   "outputs": [],
   "source": [
    "errors = np.full((2, iivm_summary.shape[0]), np.nan)\n",
    "errors[0, :] = iivm_summary['coef'] - iivm_summary['2.5 %']\n",
    "errors[1, :] = iivm_summary['97.5 %'] - iivm_summary['coef']\n",
    "plt.errorbar(iivm_summary.index, iivm_summary.coef, fmt='o', yerr=errors)\n",
    "plt.ylim([0, 16500])\n",
    "\n",
    "plt.title('Interactive IV Model (IIVM)')\n",
    "plt.xlabel('ML method')\n",
    "_ = plt.ylabel('Coefficients and 95%-CI')"
   ]
  },
  {
   "cell_type": "markdown",
   "id": "historical-convention",
   "metadata": {},
   "source": [
    "## Summary of Results"
   ]
  },
  {
   "cell_type": "markdown",
   "id": "spiritual-scene",
   "metadata": {},
   "source": [
    "To sum up, let's merge all our results so far and illustrate them in a plot. "
   ]
  },
  {
   "cell_type": "code",
   "execution_count": null,
   "id": "activated-average",
   "metadata": {
    "execution": {
     "iopub.execute_input": "2021-04-28T07:18:36.681757Z",
     "iopub.status.busy": "2021-04-28T07:18:36.681291Z",
     "iopub.status.idle": "2021-04-28T07:18:36.685780Z",
     "shell.execute_reply": "2021-04-28T07:18:36.685375Z"
    }
   },
   "outputs": [],
   "source": [
    "df_summary = pd.concat((plr_summary, irm_summary, iivm_summary)).reset_index().rename(columns={'index': 'ML'})\n",
    "df_summary['Model'] = np.concatenate((np.repeat('PLR', 4), np.repeat('IRM', 4), np.repeat('IIVM', 4)))\n",
    "df_summary.set_index(['Model', 'ML'])"
   ]
  },
  {
   "cell_type": "code",
   "execution_count": null,
   "id": "pending-sport",
   "metadata": {
    "execution": {
     "iopub.execute_input": "2021-04-28T07:18:36.724046Z",
     "iopub.status.busy": "2021-04-28T07:18:36.712456Z",
     "iopub.status.idle": "2021-04-28T07:18:37.058828Z",
     "shell.execute_reply": "2021-04-28T07:18:37.058386Z"
    },
    "tags": [
     "nbsphinx-thumbnail"
    ]
   },
   "outputs": [],
   "source": [
    "plt.figure(figsize=(10, 15))\n",
    "colors = sns.color_palette()\n",
    "for ind, model in enumerate(['PLR', 'IRM', 'IIVM']):\n",
    "    plt.subplot(3, 1, ind+1)\n",
    "    this_df = df_summary.query('Model == @model')\n",
    "    errors = np.full((2, this_df.shape[0]), np.nan)\n",
    "    errors[0, :] = this_df['coef'] - this_df['2.5 %']\n",
    "    errors[1, :] = this_df['97.5 %'] - this_df['coef']\n",
    "    plt.errorbar(this_df.ML, this_df.coef, fmt='o', yerr=errors,\n",
    "                 color=colors[ind], ecolor=colors[ind])\n",
    "    plt.ylim([0, 16500])\n",
    "    plt.title(model)\n",
    "    plt.ylabel('Coefficients and 95%-CI')\n",
    "\n",
    "_ = plt.xlabel('ML method')"
   ]
  },
  {
   "cell_type": "markdown",
   "id": "announced-ozone",
   "metadata": {},
   "source": [
    "We report results based on four ML methods for estimating the nuisance functions used in\n",
    "forming the orthogonal estimating equations. We find again that the estimates of the treatment effect are stable across ML methods. The estimates are highly significant, hence we would reject the hypothesis\n",
    "that 401(k) participation has no effect on financial wealth."
   ]
  },
  {
   "cell_type": "markdown",
   "id": "suffering-cologne",
   "metadata": {},
   "source": [
    "______\n",
    "\n",
    "**Acknowledgement**\n",
    "\n",
    "We would like to thank [Jannis Kueck](https://www.bwl.uni-hamburg.de/en/statistik/team/kueck.html) for sharing [the kaggle notebook](https://www.kaggle.com/janniskueck/pm5-401k). The pension data set has been analyzed in several studies, among others [Chernozhukov et al. (2018)](https://arxiv.org/abs/1608.00060).\n",
    "\n"
   ]
  }
 ],
 "metadata": {
  "kernelspec": {
   "display_name": "Python 3",
   "language": "python",
   "name": "python3"
  },
  "language_info": {
   "codemirror_mode": {
    "name": "ipython",
    "version": 3
   },
   "file_extension": ".py",
   "mimetype": "text/x-python",
   "name": "python",
   "nbconvert_exporter": "python",
   "pygments_lexer": "ipython3",
   "version": "3.8.8"
  }
 },
 "nbformat": 4,
 "nbformat_minor": 5
}
