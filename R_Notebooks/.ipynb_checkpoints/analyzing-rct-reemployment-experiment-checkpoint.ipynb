{
 "cells": [
  {
   "cell_type": "markdown",
   "metadata": {
    "papermill": {
     "duration": 0.013538,
     "end_time": "2021-02-20T13:42:41.189745",
     "exception": false,
     "start_time": "2021-02-20T13:42:41.176207",
     "status": "completed"
    },
    "tags": []
   },
   "source": [
    "# Analyzing RCT data with Precision Adjustment"
   ]
  },
  {
   "cell_type": "markdown",
   "metadata": {
    "papermill": {
     "duration": 0.011347,
     "end_time": "2021-02-20T13:42:41.213041",
     "exception": false,
     "start_time": "2021-02-20T13:42:41.201694",
     "status": "completed"
    },
    "tags": []
   },
   "source": [
    "## Data\n",
    "\n",
    "In this lab, we analyze the Pennsylvania re-employment bonus experiment, which was previously studied in \"Sequential testing of duration data: the case of the Pennsylvania ‘reemployment bonus’ experiment\" (Bilias, 2000), among others. These experiments were conducted in the 1980s by the U.S. Department of Labor to test the incentive effects of alternative compensation schemes for unemployment insurance (UI). In these experiments, UI claimants were randomly assigned either to a control group or one of five treatment groups. Actually, there are six treatment groups in the experiments. Here we focus on treatment group 4, but feel free to explore other treatment groups. In the control group the current rules of the UI applied. Individuals in the treatment groups were offered a cash bonus if they found a job within some pre-specified period of time (qualification period), provided that the job was retained for a specified duration. The treatments differed in the level of the bonus, the length of the qualification period, and whether the bonus was declining over time in the qualification period; see http://qed.econ.queensu.ca/jae/2000-v15.6/bilias/readme.b.txt for further details on data. \n",
    "  "
   ]
  },
  {
   "cell_type": "code",
   "execution_count": 1,
   "metadata": {
    "execution": {
     "iopub.execute_input": "2021-02-20T13:42:41.267823Z",
     "iopub.status.busy": "2021-02-20T13:42:41.265606Z",
     "iopub.status.idle": "2021-02-20T13:42:41.503621Z",
     "shell.execute_reply": "2021-02-20T13:42:41.502578Z"
    },
    "papermill": {
     "duration": 0.279482,
     "end_time": "2021-02-20T13:42:41.503829",
     "exception": false,
     "start_time": "2021-02-20T13:42:41.224347",
     "status": "completed"
    },
    "tags": []
   },
   "outputs": [],
   "source": [
    "## loading the data\n",
    "Penn <- as.data.frame(read.table(\"../data/penn_jae.dat\", header=T ))\n",
    "n <- dim(Penn)[1]\n",
    "p_1 <- dim(Penn)[2]\n",
    "Penn<- subset(Penn, tg==4 | tg==0)\n",
    "attach(Penn)"
   ]
  },
  {
   "cell_type": "code",
   "execution_count": 2,
   "metadata": {
    "execution": {
     "iopub.execute_input": "2021-02-20T13:42:41.560613Z",
     "iopub.status.busy": "2021-02-20T13:42:41.531063Z",
     "iopub.status.idle": "2021-02-20T13:42:41.580817Z",
     "shell.execute_reply": "2021-02-20T13:42:41.579312Z"
    },
    "papermill": {
     "duration": 0.065266,
     "end_time": "2021-02-20T13:42:41.580972",
     "exception": false,
     "start_time": "2021-02-20T13:42:41.515706",
     "status": "completed"
    },
    "tags": []
   },
   "outputs": [
    {
     "data": {
      "text/plain": [
       "   Mode   FALSE    TRUE \n",
       "logical    3354    1745 "
      ]
     },
     "metadata": {},
     "output_type": "display_data"
    }
   ],
   "source": [
    "T4<- (tg==4)\n",
    "summary(T4)"
   ]
  },
  {
   "cell_type": "code",
   "execution_count": null,
   "metadata": {
    "execution": {
     "iopub.execute_input": "2021-02-20T13:42:41.611073Z",
     "iopub.status.busy": "2021-02-20T13:42:41.609253Z",
     "iopub.status.idle": "2021-02-20T13:42:41.646504Z",
     "shell.execute_reply": "2021-02-20T13:42:41.645094Z"
    },
    "papermill": {
     "duration": 0.053285,
     "end_time": "2021-02-20T13:42:41.646704",
     "exception": false,
     "start_time": "2021-02-20T13:42:41.593419",
     "status": "completed"
    },
    "tags": []
   },
   "outputs": [],
   "source": [
    "head(Penn)"
   ]
  },
  {
   "cell_type": "markdown",
   "metadata": {
    "papermill": {
     "duration": 0.012846,
     "end_time": "2021-02-20T13:42:41.672662",
     "exception": false,
     "start_time": "2021-02-20T13:42:41.659816",
     "status": "completed"
    },
    "tags": []
   },
   "source": [
    "### Model \n",
    "To evaluate the impact of the treatments on unemployment duration, we consider the linear regression model:\n",
    "\n",
    "$$\n",
    "Y =  D \\beta_1 + W'\\beta_2 + \\varepsilon, \\quad E \\varepsilon (D,W')' = 0,\n",
    "$$\n",
    "\n",
    "where $Y$ is  the  log of duration of unemployment, $D$ is a treatment  indicators,  and $W$ is a set of controls including age group dummies, gender, race, number of dependents, quarter of the experiment, location within the state, existence of recall expectations, and type of occupation.   Here $\\beta_1$ is the ATE, if the RCT assumptions hold rigorously.\n",
    "\n",
    "\n",
    "We also consider interactive regression model:\n",
    "\n",
    "$$\n",
    "Y =  D \\alpha_1 + D W' \\alpha_2 + W'\\beta_2 + \\varepsilon, \\quad E \\varepsilon (D,W', DW')' = 0,\n",
    "$$\n",
    "where $W$'s are demeaned (apart from the intercept), so that $\\alpha_1$ is the ATE, if the RCT assumptions hold rigorously."
   ]
  },
  {
   "cell_type": "markdown",
   "metadata": {
    "papermill": {
     "duration": 0.012735,
     "end_time": "2021-02-20T13:42:41.698676",
     "exception": false,
     "start_time": "2021-02-20T13:42:41.685941",
     "status": "completed"
    },
    "tags": []
   },
   "source": [
    "Under RCT, the projection coefficient $\\beta_1$ has\n",
    "the interpretation of the causal effect of the treatment on\n",
    "the average outcome. We thus refer to $\\beta_1$ as the average\n",
    "treatment effect (ATE). Note that the covariates, here are\n",
    "independent of the treatment $D$, so we can identify $\\beta_1$ by\n",
    "just linear regression of $Y$ on $D$, without adding covariates.\n",
    "However we do add covariates in an effort to improve the\n",
    "precision of our estimates of the average treatment effect."
   ]
  },
  {
   "cell_type": "markdown",
   "metadata": {
    "papermill": {
     "duration": 0.012728,
     "end_time": "2021-02-20T13:42:41.724182",
     "exception": false,
     "start_time": "2021-02-20T13:42:41.711454",
     "status": "completed"
    },
    "tags": []
   },
   "source": [
    "### Analysis\n",
    "\n",
    "We consider \n",
    "\n",
    "*  classical 2-sample approach, no adjustment (CL)\n",
    "*  classical linear regression adjustment (CRA)\n",
    "*  interactive regression adjusment (IRA)\n",
    "\n",
    "and carry out robust inference using the *estimatr* R packages. "
   ]
  },
  {
   "cell_type": "markdown",
   "metadata": {
    "papermill": {
     "duration": 0.01276,
     "end_time": "2021-02-20T13:42:41.749736",
     "exception": false,
     "start_time": "2021-02-20T13:42:41.736976",
     "status": "completed"
    },
    "tags": []
   },
   "source": [
    "# Carry out covariate balance check"
   ]
  },
  {
   "cell_type": "markdown",
   "metadata": {
    "papermill": {
     "duration": 0.013486,
     "end_time": "2021-02-20T13:42:41.776684",
     "exception": false,
     "start_time": "2021-02-20T13:42:41.763198",
     "status": "completed"
    },
    "tags": []
   },
   "source": [
    "This is done using \"lm_robust\" command which unlike \"lm\" in the base command automatically does the correct Eicher-Huber-White standard errors, instead othe classical non-robus formula based on the homoscdedasticity command."
   ]
  },
  {
   "cell_type": "code",
   "execution_count": null,
   "metadata": {
    "execution": {
     "iopub.execute_input": "2021-02-20T13:42:41.808584Z",
     "iopub.status.busy": "2021-02-20T13:42:41.806963Z",
     "iopub.status.idle": "2021-02-20T13:42:42.217752Z",
     "shell.execute_reply": "2021-02-20T13:42:42.215514Z"
    },
    "papermill": {
     "duration": 0.428084,
     "end_time": "2021-02-20T13:42:42.217973",
     "exception": false,
     "start_time": "2021-02-20T13:42:41.789889",
     "status": "completed"
    },
    "tags": []
   },
   "outputs": [],
   "source": [
    "m <- lm(T4~(female+black+othrace+factor(dep)+q2+q3+q4+q5+q6+agelt35+agegt54+durable+lusd+husd)^2)\n",
    "library(lmtest)\n",
    "library(sandwich)\n",
    "coeftest(m, vcov = vcovHC(m, type=\"HC1\"))"
   ]
  },
  {
   "cell_type": "code",
   "execution_count": 186,
   "metadata": {},
   "outputs": [],
   "source": [
    "# get same dataframe\n",
    "X <- as.data.frame( model.matrix(m) )\n",
    "\n",
    "no_col <- attributes(m$coefficients)$names[is.na(m$coefficients)]\n",
    "\n",
    "X1  <- X[, -which(names( X ) %in% no_col ) ]\n",
    "\n",
    "save( X1, file = \"../data/m_reg.RData\")"
   ]
  },
  {
   "cell_type": "markdown",
   "metadata": {},
   "source": [
    "### Generating similar qr decomposition"
   ]
  },
  {
   "cell_type": "markdown",
   "metadata": {},
   "source": [
    "#### Replicate how lm drop variables [as discussed here](https://stackoverflow.com/questions/35410769/remove-perfectly-multicollinear-variables-from-data-frame)"
   ]
  },
  {
   "cell_type": "code",
   "execution_count": null,
   "metadata": {},
   "outputs": [],
   "source": [
    "# qr.X <- qr(X, tol=1e-3, LAPACK = FALSE)\n",
    "# (rnkX <- qr.X$rank)  ## 4 (number of non-collinear columns)\n",
    "# (keep <- qr.X$pivot[seq_len(rnkX)])\n",
    "# X2 <- X[,keep]"
   ]
  },
  {
   "cell_type": "code",
   "execution_count": null,
   "metadata": {},
   "outputs": [],
   "source": [
    "# colnames(X[,-keep]) == attributes(m$coefficients)$names[is.na(m$coefficients)]\n",
    "\n",
    "# colnames(X[,-keep]) \n",
    "\n",
    "# attributes(m$coefficients)$names[is.na(m$coefficients)]"
   ]
  },
  {
   "cell_type": "markdown",
   "metadata": {
    "papermill": {
     "duration": 0.02549,
     "end_time": "2021-02-20T13:42:42.269256",
     "exception": false,
     "start_time": "2021-02-20T13:42:42.243766",
     "status": "completed"
    },
    "tags": []
   },
   "source": [
    "We see that that even though this is a randomized experiment, balance conditions are failed."
   ]
  },
  {
   "cell_type": "markdown",
   "metadata": {
    "papermill": {
     "duration": 0.021046,
     "end_time": "2021-02-20T13:42:42.315674",
     "exception": false,
     "start_time": "2021-02-20T13:42:42.294628",
     "status": "completed"
    },
    "tags": []
   },
   "source": [
    "# Model Specification"
   ]
  },
  {
   "cell_type": "code",
   "execution_count": 203,
   "metadata": {
    "execution": {
     "iopub.execute_input": "2021-02-20T13:42:42.351202Z",
     "iopub.status.busy": "2021-02-20T13:42:42.350620Z",
     "iopub.status.idle": "2021-02-20T13:42:42.680257Z",
     "shell.execute_reply": "2021-02-20T13:42:42.677739Z"
    },
    "papermill": {
     "duration": 0.350081,
     "end_time": "2021-02-20T13:42:42.680497",
     "exception": false,
     "start_time": "2021-02-20T13:42:42.330416",
     "status": "completed"
    },
    "tags": []
   },
   "outputs": [
    {
     "name": "stdout",
     "output_type": "stream",
     "text": [
      "\n",
      "t test of coefficients:\n",
      "\n",
      "             Estimate Std. Error  t value Pr(>|t|)    \n",
      "(Intercept)  2.027585   0.017004 119.2431  < 2e-16 ***\n",
      "T4          -0.085455   0.035856  -2.3833  0.01719 *  \n",
      "---\n",
      "Signif. codes:  0 '***' 0.001 '**' 0.01 '*' 0.05 '.' 0.1 ' ' 1\n",
      "\n",
      "\n",
      "t test of coefficients:\n",
      "\n",
      "                       Estimate Std. Error t value  Pr(>|t|)    \n",
      "(Intercept)           2.6058121  0.3679364  7.0822 1.615e-12 ***\n",
      "T4                   -0.0796801  0.0355909 -2.2388 0.0252143 *  \n",
      "female               -0.1146093  0.3163904 -0.3622 0.7171880    \n",
      "black                -0.8990265  0.2402463 -3.7421 0.0001845 ***\n",
      "othrace              -2.6269216  0.4541551 -5.7842 7.729e-09 ***\n",
      "factor(dep)1         -0.7196978  0.5812182 -1.2383 0.2156788    \n",
      "factor(dep)2         -0.0405584  0.3598395 -0.1127 0.9102631    \n",
      "q2                   -0.1596700  0.3704317 -0.4310 0.6664596    \n",
      "q3                   -0.5398906  0.3700794 -1.4589 0.1446691    \n",
      "q4                   -0.4333540  0.3711943 -1.1675 0.2430809    \n",
      "q5                   -0.3452411  0.3688695 -0.9359 0.3493474    \n",
      "q6                   -0.4936773  0.3711965 -1.3300 0.1835915    \n",
      "agelt35              -0.6258624  0.3075342 -2.0351 0.0418936 *  \n",
      "agegt54              -0.3613731  0.7123413 -0.5073 0.6119644    \n",
      "durable              -0.2792290  0.4915163 -0.5681 0.5699946    \n",
      "lusd                 -0.2228702  0.1872595 -1.1902 0.2340371    \n",
      "husd                 -0.1701852  0.2009770 -0.8468 0.3971531    \n",
      "female:black         -0.1549507  0.1219071 -1.2711 0.2037680    \n",
      "female:othrace        0.3102073  0.4235996  0.7323 0.4640122    \n",
      "female:factor(dep)1  -0.0278778  0.1175012 -0.2373 0.8124682    \n",
      "female:factor(dep)2   0.1481502  0.1028922  1.4399 0.1499700    \n",
      "female:q2            -0.0874102  0.3159348 -0.2767 0.7820437    \n",
      "female:q3             0.2048766  0.3157548  0.6488 0.5164669    \n",
      "female:q4             0.2731929  0.3155243  0.8658 0.3866207    \n",
      "female:q5             0.0611480  0.3147517  0.1943 0.8459693    \n",
      "female:q6             0.2872199  0.3383699  0.8488 0.3960143    \n",
      "female:agelt35        0.1263862  0.0771246  1.6387 0.1013333    \n",
      "female:agegt54        0.0399664  0.1273024  0.3139 0.7535731    \n",
      "female:durable        0.0680019  0.1098236  0.6192 0.5358179    \n",
      "female:lusd           0.0837401  0.0849409  0.9859 0.3242482    \n",
      "female:husd           0.0623186  0.0939899  0.6630 0.5073383    \n",
      "black:factor(dep)1    0.1574946  0.1944014  0.8102 0.4178917    \n",
      "black:factor(dep)2   -0.1038472  0.1830946 -0.5672 0.5706190    \n",
      "black:q2              0.4585250  0.2502346  1.8324 0.0669543 .  \n",
      "black:q3              0.4165852  0.2406748  1.7309 0.0835305 .  \n",
      "black:q4              0.5484541  0.2405233  2.2803 0.0226346 *  \n",
      "black:q5              0.7346046  0.2385727  3.0792 0.0020871 ** \n",
      "black:agelt35         0.0150577  0.1278921  0.1177 0.9062805    \n",
      "black:agegt54         0.4438236  0.2032818  2.1833 0.0290607 *  \n",
      "black:durable         0.2436432  0.1767895  1.3782 0.1682174    \n",
      "black:lusd            0.2909737  0.1516517  1.9187 0.0550796 .  \n",
      "black:husd            1.3148898  0.3375145  3.8958 9.915e-05 ***\n",
      "othrace:factor(dep)1  1.0735683  0.6412293  1.6742 0.0941471 .  \n",
      "othrace:factor(dep)2  0.0069864  0.4290751  0.0163 0.9870097    \n",
      "othrace:q2            1.7440567  0.4939140  3.5311 0.0004176 ***\n",
      "othrace:q3            1.3575029  0.6005228  2.2605 0.0238309 *  \n",
      "othrace:q4            1.4433098  0.5114574  2.8220 0.0047920 ** \n",
      "othrace:q5            1.4252414  0.5377240  2.6505 0.0080624 ** \n",
      "othrace:agelt35       1.1845483  0.3885957  3.0483 0.0023136 ** \n",
      "othrace:agegt54      -0.2219307  0.6946266 -0.3195 0.7493635    \n",
      "othrace:durable       1.6279730  0.3646743  4.4642 8.214e-06 ***\n",
      "othrace:lusd         -0.0706857  0.4614414 -0.1532 0.8782589    \n",
      "othrace:husd         -0.7714207  0.3511811 -2.1966 0.0280915 *  \n",
      "factor(dep)1:q2       0.6398160  0.5731436  1.1163 0.2643356    \n",
      "factor(dep)2:q2      -0.0444763  0.3582375 -0.1242 0.9011990    \n",
      "factor(dep)1:q3       0.6984404  0.5738771  1.2171 0.2236405    \n",
      "factor(dep)2:q3      -0.0295370  0.3591136 -0.0822 0.9344515    \n",
      "factor(dep)1:q4       0.5041391  0.5735998  0.8789 0.3794957    \n",
      "factor(dep)2:q4       0.1390476  0.3613911  0.3848 0.7004342    \n",
      "factor(dep)1:q5       0.5277650  0.5710098  0.9243 0.3553924    \n",
      "factor(dep)2:q5      -0.1696878  0.3594357 -0.4721 0.6368797    \n",
      "factor(dep)1:q6       1.0950006  0.6028539  1.8164 0.0693749 .  \n",
      "factor(dep)2:q6       0.3408681  0.3877331  0.8791 0.3793727    \n",
      "factor(dep)1:agelt35  0.0745954  0.1218982  0.6119 0.5405997    \n",
      "factor(dep)2:agelt35  0.0332783  0.0943357  0.3528 0.7242796    \n",
      "factor(dep)1:agegt54  0.0724984  0.1689300  0.4292 0.6678233    \n",
      "factor(dep)2:agegt54  0.1566880  0.3685784  0.4251 0.6707716    \n",
      "factor(dep)1:durable  0.2945693  0.1488177  1.9794 0.0478261 *  \n",
      "factor(dep)2:durable  0.0454331  0.1197948  0.3793 0.7045127    \n",
      "factor(dep)1:lusd     0.1500114  0.1282812  1.1694 0.2423003    \n",
      "factor(dep)2:lusd     0.1825593  0.1129078  1.6169 0.1059655    \n",
      "factor(dep)1:husd     0.0813778  0.1386621  0.5869 0.5573117    \n",
      "factor(dep)2:husd     0.1522329  0.1210549  1.2576 0.2086125    \n",
      "q2:agelt35            0.4302198  0.3070259  1.4012 0.1612016    \n",
      "q2:agegt54            0.6712185  0.7087949  0.9470 0.3436919    \n",
      "q2:durable           -0.1064128  0.4876416 -0.2182 0.8272671    \n",
      "q2:lusd              -0.0427925  0.1895762 -0.2257 0.8214230    \n",
      "q2:husd              -0.0416684  0.1968781 -0.2116 0.8323923    \n",
      "q3:agelt35            0.4544980  0.3073864  1.4786 0.1393134    \n",
      "q3:agegt54            0.8660082  0.7091553  1.2212 0.2220745    \n",
      "q3:durable            0.2449985  0.4871951  0.5029 0.6150739    \n",
      "q3:lusd               0.0858674  0.1872141  0.4587 0.6464991    \n",
      "q3:husd               0.1703037  0.1968349  0.8652 0.3869646    \n",
      "q4:agelt35            0.3882234  0.3073238  1.2632 0.2065623    \n",
      "q4:agegt54            0.5553344  0.7074422  0.7850 0.4324972    \n",
      "q4:durable            0.2173382  0.4911082  0.4425 0.6581129    \n",
      "q4:lusd              -0.0950058  0.1883029 -0.5045 0.6139061    \n",
      "q4:husd              -0.1206083  0.1991519 -0.6056 0.5448017    \n",
      "q5:agelt35            0.2779587  0.3060249  0.9083 0.3637700    \n",
      "q5:agegt54            0.4514516  0.7061981  0.6393 0.5226762    \n",
      "q5:durable            0.2881290  0.4872177  0.5914 0.5542950    \n",
      "q5:lusd              -0.1040223  0.1890812 -0.5501 0.5822434    \n",
      "q5:husd              -0.1523360  0.1969199 -0.7736 0.4392077    \n",
      "q6:agelt35            0.3381108  0.3327264  1.0162 0.3095917    \n",
      "q6:agegt54            0.9493469  0.7289766  1.3023 0.1928736    \n",
      "q6:durable            0.4091672  0.5081837  0.8052 0.4207679    \n",
      "agelt35:durable       0.0252788  0.1015065  0.2490 0.8033430    \n",
      "agelt35:lusd         -0.0652757  0.0883181 -0.7391 0.4598825    \n",
      "agelt35:husd          0.0577119  0.1018421  0.5667 0.5709568    \n",
      "agegt54:durable       0.0319891  0.1658304  0.1929 0.8470434    \n",
      "agegt54:lusd         -0.1481624  0.1374421 -1.0780 0.2810863    \n",
      "agegt54:husd         -0.3015467  0.1537536 -1.9612 0.0499073 *  \n",
      "durable:lusd          0.1157832  0.1100547  1.0521 0.2928269    \n",
      "durable:husd          0.2376411  0.1290104  1.8420 0.0655298 .  \n",
      "---\n",
      "Signif. codes:  0 '***' 0.001 '**' 0.01 '*' 0.05 '.' 0.1 ' ' 1\n",
      "\n"
     ]
    }
   ],
   "source": [
    "# model specifications\n",
    "\n",
    "\n",
    "# no adjustment (2-sample approach)\n",
    "formula_cl <- log(inuidur1)~T4\n",
    "\n",
    "# adding controls\n",
    "formula_cra <- log(inuidur1)~T4+ (female+black+othrace+factor(dep)+q2+q3+q4+q5+q6+agelt35+agegt54+durable+lusd+husd)^2\n",
    "# Omitted dummies: q1, nondurable, muld\n",
    "\n",
    "\n",
    "ols.cl_reg <- lm(formula_cl)\n",
    "ols.cra_reg <- lm(formula_cra)\n",
    "\n",
    "\n",
    "ols.cl = coeftest(ols.cl_reg, vcov = vcovHC(ols.cl_reg, type=\"HC1\"))\n",
    "ols.cra = coeftest(ols.cra_reg, vcov = vcovHC(ols.cra_reg, type=\"HC1\"))\n",
    "\n",
    "print(ols.cl)\n",
    "print(ols.cra)\n",
    "\n"
   ]
  },
  {
   "cell_type": "code",
   "execution_count": 191,
   "metadata": {},
   "outputs": [],
   "source": [
    "# get same dataframe for ols.cl\n",
    "X <- as.data.frame( model.matrix(ols.cl_reg) )\n",
    "\n",
    "no_col <- attributes(ols.cl_reg$coefficients)$names[is.na(ols.cl_reg$coefficients)]\n",
    "\n",
    "X1  <- X[, -which(names( X ) %in% no_col ) ]\n",
    "\n",
    "save( X1, file = \"../data/ols_cl_reg.RData\")\n",
    "\n",
    "# get same dataframe for ols.cl\n",
    "X <- as.data.frame( model.matrix(ols.cra_reg) )\n",
    "\n",
    "no_col <- attributes(ols.cra_reg$coefficients)$names[is.na(ols.cra_reg$coefficients)]\n",
    "\n",
    "X1  <- X[, -which(names( X ) %in% no_col ) ]\n",
    "\n",
    "save( X1, file = \"../data/ols_cra_reg.RData\")\n"
   ]
  },
  {
   "cell_type": "markdown",
   "metadata": {
    "papermill": {
     "duration": 0.02768,
     "end_time": "2021-02-20T13:42:42.735966",
     "exception": false,
     "start_time": "2021-02-20T13:42:42.708286",
     "status": "completed"
    },
    "tags": []
   },
   "source": [
    "The interactive specificaiton corresponds to the approach introduced in Lin (2013)."
   ]
  },
  {
   "cell_type": "code",
   "execution_count": 205,
   "metadata": {
    "execution": {
     "iopub.execute_input": "2021-02-20T13:42:42.787957Z",
     "iopub.status.busy": "2021-02-20T13:42:42.787434Z",
     "iopub.status.idle": "2021-02-20T13:42:43.662431Z",
     "shell.execute_reply": "2021-02-20T13:42:43.659030Z"
    },
    "papermill": {
     "duration": 0.898452,
     "end_time": "2021-02-20T13:42:43.662684",
     "exception": false,
     "start_time": "2021-02-20T13:42:42.764232",
     "status": "completed"
    },
    "tags": []
   },
   "outputs": [
    {
     "data": {
      "text/html": [
       "<style>\n",
       ".list-inline {list-style: none; margin:0; padding: 0}\n",
       ".list-inline>li {display: inline-block}\n",
       ".list-inline>li:not(:last-child)::after {content: \"\\00b7\"; padding: 0 .5ex}\n",
       "</style>\n",
       "<ol class=list-inline><li>5099</li><li>119</li></ol>\n"
      ],
      "text/latex": [
       "\\begin{enumerate*}\n",
       "\\item 5099\n",
       "\\item 119\n",
       "\\end{enumerate*}\n"
      ],
      "text/markdown": [
       "1. 5099\n",
       "2. 119\n",
       "\n",
       "\n"
      ],
      "text/plain": [
       "[1] 5099  119"
      ]
     },
     "metadata": {},
     "output_type": "display_data"
    },
    {
     "name": "stdout",
     "output_type": "stream",
     "text": [
      "\n",
      "t test of coefficients:\n",
      "\n",
      "                            Estimate  Std. Error  t value  Pr(>|t|)    \n",
      "(Intercept)               2.03177499  0.01687682 120.3885 < 2.2e-16 ***\n",
      "T4                       -0.07550055  0.03560489  -2.1205 0.0340132 *  \n",
      "Xfemale                  -0.12942734  0.31860760  -0.4062 0.6845928    \n",
      "Xblack                   -0.92100431  0.24598526  -3.7441 0.0001831 ***\n",
      "Xothrace                 -3.29328494  0.63054001  -5.2230 1.834e-07 ***\n",
      "Xfactor(dep)1            -0.76246913  0.50426996  -1.5120 0.1305919    \n",
      "Xfactor(dep)2             0.01931125  0.35130594   0.0550 0.9561647    \n",
      "Xq2                      -0.13711567  0.39125789  -0.3504 0.7260173    \n",
      "Xq3                      -0.52117189  0.39083482  -1.3335 0.1824351    \n",
      "Xq4                      -0.41958694  0.39156262  -1.0716 0.2839658    \n",
      "Xq5                      -0.33617506  0.38967611  -0.8627 0.3883426    \n",
      "Xq6                      -0.47296422  0.39510320  -1.1971 0.2313392    \n",
      "Xagelt35                 -0.61482757  0.32134379  -1.9133 0.0557677 .  \n",
      "Xagegt54                 -0.22655363  0.71801258  -0.3155 0.7523737    \n",
      "Xdurable                 -0.44141505  0.43392262  -1.0173 0.3090768    \n",
      "Xlusd                    -0.25456911  0.19300633  -1.3190 0.1872416    \n",
      "Xhusd                    -0.21552995  0.20906151  -1.0309 0.3026197    \n",
      "Xfemale:black            -0.16823428  0.12323701  -1.3651 0.1722756    \n",
      "Xfemale:othrace           0.40825421  0.41257179   0.9895 0.3224504    \n",
      "Xfemale:factor(dep)1     -0.03787166  0.11544661  -0.3280 0.7428918    \n",
      "Xfemale:factor(dep)2      0.17960463  0.10359708   1.7337 0.0830371 .  \n",
      "Xfemale:q2               -0.06304613  0.31645949  -0.1992 0.8420963    \n",
      "Xfemale:q3                0.22855273  0.31638167   0.7224 0.4700858    \n",
      "Xfemale:q4                0.28739823  0.31652559   0.9080 0.3639346    \n",
      "Xfemale:q5                0.08263261  0.31532897   0.2621 0.7932923    \n",
      "Xfemale:q6                0.32346553  0.34138206   0.9475 0.3434218    \n",
      "Xfemale:agelt35           0.13968203  0.07803317   1.7900 0.0735102 .  \n",
      "Xfemale:agegt54           0.07262028  0.12919882   0.5621 0.5740861    \n",
      "Xfemale:durable           0.07116460  0.11370105   0.6259 0.5314148    \n",
      "Xfemale:lusd              0.05937707  0.08623141   0.6886 0.4911214    \n",
      "Xfemale:husd              0.00890867  0.09451846   0.0943 0.9249119    \n",
      "Xblack:factor(dep)1       0.17415656  0.19873116   0.8763 0.3808869    \n",
      "Xblack:factor(dep)2      -0.10152602  0.18486028  -0.5492 0.5828905    \n",
      "Xblack:q2                 0.47770102  0.25670675   1.8609 0.0628207 .  \n",
      "Xblack:q3                 0.43566978  0.24672248   1.7658 0.0774868 .  \n",
      "Xblack:q4                 0.56532446  0.24646074   2.2938 0.0218458 *  \n",
      "Xblack:q5                 0.76339948  0.24485849   3.1177 0.0018331 ** \n",
      "Xblack:agelt35            0.02475864  0.13004742   0.1904 0.8490180    \n",
      "Xblack:agegt54            0.45946817  0.20394897   2.2529 0.0243122 *  \n",
      "Xblack:durable            0.21732198  0.18320293   1.1862 0.2355865    \n",
      "Xblack:lusd               0.31230623  0.15126284   2.0647 0.0390078 *  \n",
      "Xblack:husd               1.01659361  0.44535345   2.2827 0.0224927 *  \n",
      "Xothrace:factor(dep)1     2.52019271  1.85952844   1.3553 0.1753890    \n",
      "Xothrace:factor(dep)2     0.70906710  0.40134919   1.7667 0.0773393 .  \n",
      "Xothrace:q2               1.69386400  0.46505045   3.6423 0.0002730 ***\n",
      "Xothrace:q3               1.29301634  0.53449000   2.4192 0.0155927 *  \n",
      "Xothrace:q4               2.59203806  0.62029389   4.1787 2.983e-05 ***\n",
      "Xothrace:q5               1.17484171  0.45175619   2.6006 0.0093338 ** \n",
      "Xothrace:agelt35          1.98281556  0.66609374   2.9768 0.0029272 ** \n",
      "Xothrace:agegt54          0.62468266  0.55383007   1.1279 0.2594039    \n",
      "Xothrace:durable          1.87996898  0.40650287   4.6247 3.847e-06 ***\n",
      "Xothrace:lusd            -0.27949475  0.35445532  -0.7885 0.4304314    \n",
      "Xothrace:husd            -0.17980057  0.61393596  -0.2929 0.7696375    \n",
      "Xfactor(dep)1:q2          0.72460161  0.49854184   1.4534 0.1461652    \n",
      "Xfactor(dep)2:q2         -0.14051698  0.35039191  -0.4010 0.6884170    \n",
      "Xfactor(dep)1:q3          0.74312487  0.49890063   1.4895 0.1364136    \n",
      "Xfactor(dep)2:q3         -0.10355134  0.35057761  -0.2954 0.7677211    \n",
      "Xfactor(dep)1:q4          0.54454950  0.49903287   1.0912 0.2752343    \n",
      "Xfactor(dep)2:q4          0.08021259  0.35257086   0.2275 0.8200385    \n",
      "Xfactor(dep)1:q5          0.53482915  0.49546607   1.0794 0.2804419    \n",
      "Xfactor(dep)2:q5         -0.25458917  0.35087476  -0.7256 0.4681284    \n",
      "Xfactor(dep)1:q6          1.14887070  0.53556835   2.1451 0.0319905 *  \n",
      "Xfactor(dep)2:q6          0.33202764  0.38241956   0.8682 0.3853117    \n",
      "Xfactor(dep)1:agelt35     0.06366422  0.12015153   0.5299 0.5962288    \n",
      "Xfactor(dep)2:agelt35     0.02751143  0.09569136   0.2875 0.7737404    \n",
      "Xfactor(dep)1:agegt54     0.14990601  0.16681120   0.8987 0.3688797    \n",
      "Xfactor(dep)2:agegt54     0.11478859  0.32143580   0.3571 0.7210233    \n",
      "Xfactor(dep)1:durable     0.20501703  0.15812600   1.2965 0.1948499    \n",
      "Xfactor(dep)2:durable     0.03445465  0.12375059   0.2784 0.7807017    \n",
      "Xfactor(dep)1:lusd        0.12807390  0.12715867   1.0072 0.3138896    \n",
      "Xfactor(dep)2:lusd        0.17612382  0.11356861   1.5508 0.1210108    \n",
      "Xfactor(dep)1:husd        0.08523457  0.13551893   0.6289 0.5294114    \n",
      "Xfactor(dep)2:husd        0.19412383  0.12218671   1.5887 0.1121820    \n",
      "Xq2:agelt35               0.39750123  0.32090112   1.2387 0.2155148    \n",
      "Xq2:agegt54               0.47138852  0.71513721   0.6592 0.5098252    \n",
      "Xq2:durable               0.08463697  0.42718339   0.1981 0.8429532    \n",
      "Xq2:lusd                 -0.01078968  0.19660710  -0.0549 0.9562368    \n",
      "Xq2:husd                  0.00031206  0.20564961   0.0015 0.9987893    \n",
      "Xq3:agelt35               0.43649077  0.32101887   1.3597 0.1739861    \n",
      "Xq3:agegt54               0.65826315  0.71368889   0.9223 0.3563972    \n",
      "Xq3:durable               0.43181729  0.42745373   1.0102 0.3124454    \n",
      "Xq3:lusd                  0.10634302  0.19418230   0.5476 0.5839604    \n",
      "Xq3:husd                  0.20546332  0.20535044   1.0005 0.3170940    \n",
      "Xq4:agelt35               0.35867123  0.32079097   1.1181 0.2635860    \n",
      "Xq4:agegt54               0.36767632  0.71048938   0.5175 0.6048325    \n",
      "Xq4:durable               0.37882174  0.43284694   0.8752 0.3815154    \n",
      "Xq4:lusd                 -0.06511292  0.19497046  -0.3340 0.7384218    \n",
      "Xq4:husd                 -0.04141022  0.20797298  -0.1991 0.8421823    \n",
      "Xq5:agelt35               0.24918329  0.31967844   0.7795 0.4357341    \n",
      "Xq5:agegt54               0.26467503  0.71044917   0.3725 0.7095025    \n",
      "Xq5:durable               0.42938757  0.42750901   1.0044 0.3152383    \n",
      "Xq5:lusd                 -0.04853775  0.19651427  -0.2470 0.8049236    \n",
      "Xq5:husd                 -0.07273682  0.20532256  -0.3543 0.7231620    \n",
      "Xq6:agelt35               0.38200434  0.34946038   1.0931 0.2743921    \n",
      "Xq6:agegt54               0.83620347  0.72956553   1.1462 0.2517823    \n",
      "Xq6:durable               0.56170341  0.45359274   1.2383 0.2156483    \n",
      "Xagelt35:durable          0.04657072  0.10401783   0.4477 0.6543761    \n",
      "Xagelt35:lusd            -0.06211925  0.08952191  -0.6939 0.4877779    \n",
      "Xagelt35:husd             0.06459659  0.10267354   0.6291 0.5292832    \n",
      "Xagegt54:durable          0.06255177  0.16558376   0.3778 0.7056214    \n",
      "Xagegt54:lusd            -0.10702607  0.13958786  -0.7667 0.4432796    \n",
      "Xagegt54:husd            -0.24917590  0.15471092  -1.6106 0.1073335    \n",
      "Xdurable:lusd             0.13523116  0.11299662   1.1968 0.2314535    \n",
      "Xdurable:husd             0.19808491  0.13018661   1.5215 0.1281875    \n",
      "T4:Xfemale                1.56872412  0.64497171   2.4322 0.0150415 *  \n",
      "T4:Xblack                -0.16807153  0.52717553  -0.3188 0.7498803    \n",
      "T4:Xothrace               1.53233911  1.00972004   1.5176 0.1291828    \n",
      "T4:Xfactor(dep)1         -2.33296216  1.01756816  -2.2927 0.0219084 *  \n",
      "T4:Xfactor(dep)2         -0.56233443  0.70888843  -0.7933 0.4276635    \n",
      "T4:Xq2                    0.34342414  0.86355597   0.3977 0.6908790    \n",
      "T4:Xq3                    0.29238377  0.86245488   0.3390 0.7346142    \n",
      "T4:Xq4                    0.17631719  0.86361865   0.2042 0.8382362    \n",
      "T4:Xq5                    0.10429543  0.85950774   0.1213 0.9034242    \n",
      "T4:Xq6                    0.59634388  0.88282700   0.6755 0.4993942    \n",
      "T4:Xagelt35               0.18373292  0.65419054   0.2809 0.7788332    \n",
      "T4:Xagegt54               0.22662223  0.55367383   0.4093 0.6823327    \n",
      "T4:Xdurable               1.15887009  0.80300283   1.4432 0.1490364    \n",
      "T4:Xlusd                 -0.45315379  0.42120489  -1.0759 0.2820468    \n",
      "T4:Xhusd                 -0.44674842  0.47305120  -0.9444 0.3450131    \n",
      "T4:Xfemale:black          0.13805474  0.26142155   0.5281 0.5974591    \n",
      "T4:Xfemale:othrace       -0.55865303  0.77233186  -0.7233 0.4695099    \n",
      "T4:Xfemale:factor(dep)1   0.39609388  0.24350642   1.6266 0.1038809    \n",
      "T4:Xfemale:factor(dep)2  -0.10822468  0.22005265  -0.4918 0.6228738    \n",
      "T4:Xfemale:q2            -1.32934781  0.63820782  -2.0829 0.0373086 *  \n",
      "T4:Xfemale:q3            -1.33388189  0.63845356  -2.0892 0.0367377 *  \n",
      "T4:Xfemale:q4            -1.26808674  0.63939465  -1.9833 0.0473940 *  \n",
      "T4:Xfemale:q5            -1.41177625  0.63668920  -2.2174 0.0266435 *  \n",
      "T4:Xfemale:q6            -1.70854252  0.70248593  -2.4321 0.0150456 *  \n",
      "T4:Xfemale:agelt35       -0.08881135  0.16590111  -0.5353 0.5924480    \n",
      "T4:Xfemale:agegt54       -0.47667811  0.27038057  -1.7630 0.0779646 .  \n",
      "T4:Xfemale:durable       -0.07670001  0.24312140  -0.3155 0.7524104    \n",
      "T4:Xfemale:lusd          -0.03690755  0.18102345  -0.2039 0.8384537    \n",
      "T4:Xfemale:husd          -0.15211812  0.19891565  -0.7647 0.4444651    \n",
      "T4:Xblack:factor(dep)1    0.19035839  0.44257814   0.4301 0.6671327    \n",
      "T4:Xblack:factor(dep)2    0.28978210  0.38791398   0.7470 0.4550833    \n",
      "T4:Xblack:q2              0.14903581  0.53315131   0.2795 0.7798441    \n",
      "T4:Xblack:q3              0.30893491  0.52076220   0.5932 0.5530506    \n",
      "T4:Xblack:q4              0.06139229  0.50752501   0.1210 0.9037245    \n",
      "T4:Xblack:q5              0.30314301  0.51784680   0.5854 0.5583116    \n",
      "T4:Xblack:agelt35        -0.17013103  0.27663154  -0.6150 0.5385770    \n",
      "T4:Xblack:agegt54         0.10664540  0.42361466   0.2518 0.8012441    \n",
      "T4:Xblack:durable        -0.73293200  0.38280370  -1.9146 0.0555964 .  \n",
      "T4:Xblack:lusd            0.01080452  0.32148509   0.0336 0.9731910    \n",
      "T4:Xblack:husd            1.36393377  0.71798719   1.8997 0.0575361 .  \n",
      "T4:Xothrace:factor(dep)2 -1.40197536  0.69708226  -2.0112 0.0443585 *  \n",
      "T4:Xothrace:q2           -1.13585000  0.91898617  -1.2360 0.2165247    \n",
      "T4:Xothrace:q3            1.03933498  1.12210509   0.9262 0.3543686    \n",
      "T4:Xothrace:q4           -3.70420560  1.08911564  -3.4011 0.0006765 ***\n",
      "T4:Xothrace:q5            0.59511562  0.95703290   0.6218 0.5340800    \n",
      "T4:Xothrace:agelt35      -0.77486270  1.23266672  -0.6286 0.5296358    \n",
      "T4:Xothrace:agegt54      -0.57004701  1.40243408  -0.4065 0.6844153    \n",
      "T4:Xothrace:durable       0.37813857  1.01945177   0.3709 0.7107106    \n",
      "T4:Xothrace:lusd          1.21251718  0.63932740   1.8966 0.0579460 .  \n",
      "T4:Xfactor(dep)1:q2       1.43386677  1.00389686   1.4283 0.1532691    \n",
      "T4:Xfactor(dep)2:q2       0.22546851  0.71027161   0.3174 0.7509234    \n",
      "T4:Xfactor(dep)1:q3       1.72046428  1.00165799   1.7176 0.0859298 .  \n",
      "T4:Xfactor(dep)2:q3       0.44104160  0.70758519   0.6233 0.5331130    \n",
      "T4:Xfactor(dep)1:q4       1.66104891  1.00467468   1.6533 0.0983298 .  \n",
      "T4:Xfactor(dep)2:q4       0.70747114  0.71445757   0.9902 0.3221149    \n",
      "T4:Xfactor(dep)1:q5       1.15499974  0.99650344   1.1591 0.2464913    \n",
      "T4:Xfactor(dep)2:q5       0.90014621  0.71111952   1.2658 0.2056393    \n",
      "T4:Xfactor(dep)1:q6       1.94472429  1.09361959   1.7782 0.0754256 .  \n",
      "T4:Xfactor(dep)2:q6       0.98424111  0.79490722   1.2382 0.2157073    \n",
      "T4:Xfactor(dep)1:agelt35  0.03759542  0.25084371   0.1499 0.8808687    \n",
      "T4:Xfactor(dep)2:agelt35 -0.26804188  0.20397399  -1.3141 0.1888747    \n",
      "T4:Xfactor(dep)1:agegt54  0.33097516  0.35118471   0.9425 0.3460071    \n",
      "T4:Xfactor(dep)2:agegt54 -0.31653304  0.63475162  -0.4987 0.6180327    \n",
      "T4:Xfactor(dep)1:durable -0.39358417  0.34881695  -1.1283 0.2592316    \n",
      "T4:Xfactor(dep)2:durable -0.23436198  0.25927168  -0.9039 0.3660800    \n",
      "T4:Xfactor(dep)1:lusd     1.13501612  0.25918244   4.3792 1.216e-05 ***\n",
      "T4:Xfactor(dep)2:lusd     0.17833765  0.23906402   0.7460 0.4557136    \n",
      "T4:Xfactor(dep)1:husd     0.37411779  0.28708546   1.3032 0.1925820    \n",
      "T4:Xfactor(dep)2:husd     0.51460112  0.25623202   2.0083 0.0446619 *  \n",
      "T4:Xq2:agelt35           -0.30166548  0.65177323  -0.4628 0.6435010    \n",
      "T4:Xq2:agegt54            0.11463934  0.56729540   0.2021 0.8398622    \n",
      "T4:Xq2:durable           -0.51682751  0.77804451  -0.6643 0.5065522    \n",
      "T4:Xq2:lusd               0.16577332  0.43093714   0.3847 0.7004905    \n",
      "T4:Xq2:husd               0.53225757  0.46178688   1.1526 0.2491291    \n",
      "T4:Xq3:agelt35           -0.22566361  0.65208062  -0.3461 0.7293072    \n",
      "T4:Xq3:agegt54           -0.19372286  0.56597247  -0.3423 0.7321525    \n",
      "T4:Xq3:durable           -0.84903338  0.78220324  -1.0854 0.2777810    \n",
      "T4:Xq3:lusd               0.31471931  0.42257685   0.7448 0.4564512    \n",
      "T4:Xq3:husd               0.31130144  0.46348198   0.6717 0.5018331    \n",
      "T4:Xq4:agelt35           -0.13479299  0.65122219  -0.2070 0.8360305    \n",
      "T4:Xq4:agegt54            0.35291366  0.55027290   0.6413 0.5213299    \n",
      "T4:Xq4:durable           -0.62808314  0.79482286  -0.7902 0.4294389    \n",
      "T4:Xq4:lusd               0.30234922  0.42236302   0.7159 0.4741172    \n",
      "T4:Xq4:husd               0.30287654  0.46904965   0.6457 0.5184885    \n",
      "T4:Xq5:agelt35            0.09695165  0.64934741   0.1493 0.8813181    \n",
      "T4:Xq5:agegt54            0.48227138  0.55575680   0.8678 0.3855605    \n",
      "T4:Xq5:durable           -1.23960750  0.78553320  -1.5780 0.1146197    \n",
      "T4:Xq5:lusd               0.61584508  0.42600901   1.4456 0.1483492    \n",
      "T4:Xq5:husd               0.29462546  0.46338907   0.6358 0.5249327    \n",
      "T4:Xq6:agelt35           -0.00104403  0.72951680  -0.0014 0.9988582    \n",
      "T4:Xq6:durable           -1.36524981  0.84964394  -1.6068 0.1081519    \n",
      "T4:Xagelt35:durable       0.14394848  0.22292228   0.6457 0.5184820    \n",
      "T4:Xagelt35:lusd         -0.01386007  0.18994138  -0.0730 0.9418328    \n",
      "T4:Xagelt35:husd          0.02940562  0.21749120   0.1352 0.8924564    \n",
      "T4:Xagegt54:durable       0.54493158  0.34305902   1.5884 0.1122495    \n",
      "T4:Xagegt54:lusd         -0.57936148  0.28775359  -2.0134 0.0441278 *  \n",
      "T4:Xagegt54:husd          0.19104862  0.32770119   0.5830 0.5599226    \n",
      "T4:Xdurable:lusd         -0.37443953  0.24003690  -1.5599 0.1188423    \n",
      "T4:Xdurable:husd         -0.33810961  0.27744425  -1.2187 0.2230328    \n",
      "---\n",
      "Signif. codes:  0 '***' 0.001 '**' 0.01 '*' 0.05 '.' 0.1 ' ' 1\n",
      "\n"
     ]
    }
   ],
   "source": [
    "\n",
    "#interactive regression model;\n",
    "\n",
    "X = model.matrix (~ (female+black+othrace+factor(dep)+q2+q3+q4+q5+q6+agelt35+agegt54+durable+lusd+husd)^2)[,-1]\n",
    "dim(X)\n",
    "demean<- function(x){ x - mean(x)}\n",
    "X = apply(X, 2, demean)\n",
    "\n",
    "ols.ira_reg = lm(log(inuidur1) ~ T4*X) \n",
    "ols.ira= coeftest(ols.ira_reg, vcov = vcovHC(ols.ira_reg, type=\"HC1\"))\n",
    "print(ols.ira)\n",
    "\n",
    "\n"
   ]
  },
  {
   "cell_type": "code",
   "execution_count": 207,
   "metadata": {},
   "outputs": [
    {
     "data": {
      "text/html": [
       "5276.37536771916"
      ],
      "text/latex": [
       "5276.37536771916"
      ],
      "text/markdown": [
       "5276.37536771916"
      ],
      "text/plain": [
       "[1] 5276.375"
      ]
     },
     "metadata": {},
     "output_type": "display_data"
    }
   ],
   "source": [
    "sum(S)"
   ]
  },
  {
   "cell_type": "code",
   "execution_count": 206,
   "metadata": {},
   "outputs": [],
   "source": [
    "# get same dataframe for ols.ira\n",
    "S <- as.data.frame( model.matrix(ols.ira_reg) )\n",
    "\n",
    "no_col <- attributes(ols.ira_reg$coefficients)$names[is.na(ols.ira_reg$coefficients)]\n",
    "\n",
    "S1  <- S[, -which(names( S ) %in% no_col ) ]\n",
    "\n",
    "save( S1, file = \"../data/ols_ira_reg.RData\")\n",
    "\n"
   ]
  },
  {
   "cell_type": "markdown",
   "metadata": {
    "papermill": {
     "duration": 0.030243,
     "end_time": "2021-02-20T13:42:43.724231",
     "exception": false,
     "start_time": "2021-02-20T13:42:43.693988",
     "status": "completed"
    },
    "tags": []
   },
   "source": [
    "Next we try out partialling out with lasso"
   ]
  },
  {
   "cell_type": "code",
   "execution_count": 198,
   "metadata": {
    "execution": {
     "iopub.execute_input": "2021-02-20T13:42:43.774524Z",
     "iopub.status.busy": "2021-02-20T13:42:43.773643Z",
     "iopub.status.idle": "2021-02-20T13:42:45.044886Z",
     "shell.execute_reply": "2021-02-20T13:42:45.043005Z"
    },
    "papermill": {
     "duration": 1.29547,
     "end_time": "2021-02-20T13:42:45.045172",
     "exception": false,
     "start_time": "2021-02-20T13:42:43.749702",
     "status": "completed"
    },
    "tags": []
   },
   "outputs": [
    {
     "name": "stdout",
     "output_type": "stream",
     "text": [
      "[1] \"Estimates and significance testing of the effect of target variables\"\n",
      "   Estimate. Std. Error t value Pr(>|t|)  \n",
      "T4  -0.07889    0.03555  -2.219   0.0265 *\n",
      "---\n",
      "Signif. codes:  0 '***' 0.001 '**' 0.01 '*' 0.05 '.' 0.1 ' ' 1\n",
      "\n",
      "\n"
     ]
    }
   ],
   "source": [
    "library(hdm)\n",
    "\n",
    "T4 = demean(T4)\n",
    "\n",
    "DX = model.matrix(~T4*X)[,-1]\n",
    "\n",
    "rlasso.ira = summary(rlassoEffects(DX, log(inuidur1), index = 1))\n",
    "\n",
    "\n",
    "print(rlasso.ira)\n",
    "\n"
   ]
  },
  {
   "cell_type": "code",
   "execution_count": 201,
   "metadata": {},
   "outputs": [],
   "source": [
    "# getting data\n",
    "S = as.data.frame(DX)\n",
    "save( S, file = \"../data/rlasso_ira_reg.RData\")"
   ]
  },
  {
   "cell_type": "markdown",
   "metadata": {
    "papermill": {
     "duration": 0.030965,
     "end_time": "2021-02-20T13:42:45.107753",
     "exception": false,
     "start_time": "2021-02-20T13:42:45.076788",
     "status": "completed"
    },
    "tags": []
   },
   "source": [
    "### Results"
   ]
  },
  {
   "cell_type": "code",
   "execution_count": 9,
   "metadata": {
    "execution": {
     "iopub.execute_input": "2021-02-20T13:42:45.214919Z",
     "iopub.status.busy": "2021-02-20T13:42:45.213709Z",
     "iopub.status.idle": "2021-02-20T13:42:45.304637Z",
     "shell.execute_reply": "2021-02-20T13:42:45.303410Z"
    },
    "papermill": {
     "duration": 0.113372,
     "end_time": "2021-02-20T13:42:45.304786",
     "exception": false,
     "start_time": "2021-02-20T13:42:45.191414",
     "status": "completed"
    },
    "tags": []
   },
   "outputs": [
    {
     "data": {
      "text/html": [
       "<table class=\"dataframe\">\n",
       "<caption>A xtable: 2 × 4</caption>\n",
       "<thead>\n",
       "\t<tr><th></th><th scope=col>CL</th><th scope=col>CRA</th><th scope=col>IRA</th><th scope=col>IRA w Lasso</th></tr>\n",
       "\t<tr><th></th><th scope=col>&lt;dbl&gt;</th><th scope=col>&lt;dbl&gt;</th><th scope=col>&lt;dbl&gt;</th><th scope=col>&lt;dbl&gt;</th></tr>\n",
       "</thead>\n",
       "<tbody>\n",
       "\t<tr><th scope=row>estimate</th><td>-0.08545541</td><td>-0.07968012</td><td>-0.07550055</td><td>-0.07888608</td></tr>\n",
       "\t<tr><th scope=row>standard error</th><td> 0.03585569</td><td> 0.03559092</td><td> 0.03560489</td><td> 0.03555130</td></tr>\n",
       "</tbody>\n",
       "</table>\n"
      ],
      "text/latex": [
       "A xtable: 2 × 4\n",
       "\\begin{tabular}{r|llll}\n",
       "  & CL & CRA & IRA & IRA w Lasso\\\\\n",
       "  & <dbl> & <dbl> & <dbl> & <dbl>\\\\\n",
       "\\hline\n",
       "\testimate & -0.08545541 & -0.07968012 & -0.07550055 & -0.07888608\\\\\n",
       "\tstandard error &  0.03585569 &  0.03559092 &  0.03560489 &  0.03555130\\\\\n",
       "\\end{tabular}\n"
      ],
      "text/markdown": [
       "\n",
       "A xtable: 2 × 4\n",
       "\n",
       "| <!--/--> | CL &lt;dbl&gt; | CRA &lt;dbl&gt; | IRA &lt;dbl&gt; | IRA w Lasso &lt;dbl&gt; |\n",
       "|---|---|---|---|---|\n",
       "| estimate | -0.08545541 | -0.07968012 | -0.07550055 | -0.07888608 |\n",
       "| standard error |  0.03585569 |  0.03559092 |  0.03560489 |  0.03555130 |\n",
       "\n"
      ],
      "text/plain": [
       "               CL          CRA         IRA         IRA w Lasso\n",
       "estimate       -0.08545541 -0.07968012 -0.07550055 -0.07888608\n",
       "standard error  0.03585569  0.03559092  0.03560489  0.03555130"
      ]
     },
     "metadata": {},
     "output_type": "display_data"
    },
    {
     "name": "stdout",
     "output_type": "stream",
     "text": [
      "% latex table generated in R 3.6.3 by xtable 1.8-4 package\n",
      "% Sat Feb 20 13:42:45 2021\n",
      "\\begin{table}[ht]\n",
      "\\centering\n",
      "\\begin{tabular}{rrrrr}\n",
      "  \\hline\n",
      " & CL & CRA & IRA & IRA w Lasso \\\\ \n",
      "  \\hline\n",
      "estimate & -0.08546 & -0.07968 & -0.07550 & -0.07889 \\\\ \n",
      "  standard error & 0.03586 & 0.03559 & 0.03560 & 0.03555 \\\\ \n",
      "   \\hline\n",
      "\\end{tabular}\n",
      "\\end{table}\n"
     ]
    }
   ],
   "source": [
    "library(xtable)\n",
    "table<- matrix(0, 2, 4)\n",
    "table[1,1]<-  ols.cl[2,1]\n",
    "table[1,2]<-  ols.cra[2,1]\n",
    "table[1,3]<-  ols.ira[2,1]\n",
    "table[1,4]<-  rlasso.ira[[1]][1]\n",
    "\n",
    "table[2,1]<-  ols.cl[2,2]\n",
    "table[2,2]<-  ols.cra[2,2]\n",
    "table[2,3]<-  ols.ira[2,2]\n",
    "table[2,4]<-  rlasso.ira[[1]][2]\n",
    "\n",
    "\n",
    "colnames(table)<- c(\"CL\",\"CRA\",\"IRA\", \"IRA w Lasso\")\n",
    "rownames(table)<- c(\"estimate\", \"standard error\")\n",
    "tab<- xtable(table, digits=5)\n",
    "tab\n",
    "\n",
    "print(tab, type=\"latex\", digits=5)"
   ]
  },
  {
   "cell_type": "markdown",
   "metadata": {
    "papermill": {
     "duration": 0.019862,
     "end_time": "2021-02-20T13:42:45.344887",
     "exception": false,
     "start_time": "2021-02-20T13:42:45.325025",
     "status": "completed"
    },
    "tags": []
   },
   "source": [
    "Treatment group 4 experiences an average decrease of about $7.8\\%$ in the length of unemployment spell.\n",
    "\n",
    "\n",
    "Observe that regression estimators delivers estimates that are slighly more efficient (lower standard errors) than the simple 2 mean estimator, but essentially all methods have very similar standard errors. From IRA results we also see that there is not any statistically detectable heterogeneity.  We also see the regression estimators offer slightly lower estimates -- these difference occur perhaps to due minor imbalance in the treatment allocation, which the regression estimators try to correct.\n",
    "\n",
    "\n"
   ]
  }
 ],
 "metadata": {
  "hide_input": false,
  "kernelspec": {
   "display_name": "R",
   "language": "R",
   "name": "ir"
  },
  "language_info": {
   "codemirror_mode": "r",
   "file_extension": ".r",
   "mimetype": "text/x-r-source",
   "name": "R",
   "pygments_lexer": "r",
   "version": "4.0.4"
  },
  "papermill": {
   "default_parameters": {},
   "duration": 7.178818,
   "end_time": "2021-02-20T13:42:45.473549",
   "environment_variables": {},
   "exception": null,
   "input_path": "__notebook__.ipynb",
   "output_path": "__notebook__.ipynb",
   "parameters": {},
   "start_time": "2021-02-20T13:42:38.294731",
   "version": "2.2.2"
  }
 },
 "nbformat": 4,
 "nbformat_minor": 4
}
