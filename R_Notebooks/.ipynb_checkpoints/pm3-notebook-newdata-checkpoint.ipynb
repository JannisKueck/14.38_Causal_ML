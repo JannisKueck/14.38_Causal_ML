{
 "cells": [
  {
   "cell_type": "markdown",
   "metadata": {
    "papermill": {
     "duration": 0.03819,
     "end_time": "2021-02-13T18:19:43.324200",
     "exception": false,
     "start_time": "2021-02-13T18:19:43.286010",
     "status": "completed"
    },
    "tags": []
   },
   "source": [
    "\n",
    "\n",
    "This notebook contains an example for teaching.\n"
   ]
  },
  {
   "cell_type": "markdown",
   "metadata": {
    "_execution_state": "idle",
    "_uuid": "051d70d956493feee0c6d64651c6a088724dca2a",
    "papermill": {
     "duration": 0.036479,
     "end_time": "2021-02-13T18:19:43.396666",
     "exception": false,
     "start_time": "2021-02-13T18:19:43.360187",
     "status": "completed"
    },
    "tags": []
   },
   "source": [
    "# A Simple Case Study using Wage Data from 2015"
   ]
  },
  {
   "cell_type": "markdown",
   "metadata": {
    "papermill": {
     "duration": 0.036639,
     "end_time": "2021-02-13T18:19:43.468425",
     "exception": false,
     "start_time": "2021-02-13T18:19:43.431786",
     "status": "completed"
    },
    "tags": []
   },
   "source": [
    "We illustrate how to predict an outcome variable Y in a high-dimensional setting, where the number of covariates $p$ is large in relation to the sample size $n$. So far we have used linear prediction rules, e.g. Lasso regression, for estimation.\n",
    "Now, we also consider nonlinear prediction rules including tree-based methods."
   ]
  },
  {
   "cell_type": "markdown",
   "metadata": {
    "papermill": {
     "duration": 0.034705,
     "end_time": "2021-02-13T18:19:43.537814",
     "exception": false,
     "start_time": "2021-02-13T18:19:43.503109",
     "status": "completed"
    },
    "tags": []
   },
   "source": [
    "## Data"
   ]
  },
  {
   "cell_type": "markdown",
   "metadata": {
    "papermill": {
     "duration": 0.036082,
     "end_time": "2021-02-13T18:19:43.609347",
     "exception": false,
     "start_time": "2021-02-13T18:19:43.573265",
     "status": "completed"
    },
    "tags": []
   },
   "source": [
    "Again, we consider data from the U.S. March Supplement of the Current Population Survey (CPS) in 2015.\n",
    "The preproccessed sample consists of $5150$ never-married individuals."
   ]
  },
  {
   "cell_type": "code",
   "execution_count": 23,
   "metadata": {
    "execution": {
     "iopub.execute_input": "2021-02-13T18:19:43.716559Z",
     "iopub.status.busy": "2021-02-13T18:19:43.714404Z",
     "iopub.status.idle": "2021-02-13T18:19:43.923486Z",
     "shell.execute_reply": "2021-02-13T18:19:43.921830Z"
    },
    "papermill": {
     "duration": 0.279387,
     "end_time": "2021-02-13T18:19:43.923823",
     "exception": false,
     "start_time": "2021-02-13T18:19:43.644436",
     "status": "completed"
    },
    "tags": []
   },
   "outputs": [
    {
     "data": {
      "text/html": [
       "<style>\n",
       ".list-inline {list-style: none; margin:0; padding: 0}\n",
       ".list-inline>li {display: inline-block}\n",
       ".list-inline>li:not(:last-child)::after {content: \"\\00b7\"; padding: 0 .5ex}\n",
       "</style>\n",
       "<ol class=list-inline><li>5150</li><li>20</li></ol>\n"
      ],
      "text/latex": [
       "\\begin{enumerate*}\n",
       "\\item 5150\n",
       "\\item 20\n",
       "\\end{enumerate*}\n"
      ],
      "text/markdown": [
       "1. 5150\n",
       "2. 20\n",
       "\n",
       "\n"
      ],
      "text/plain": [
       "[1] 5150   20"
      ]
     },
     "metadata": {},
     "output_type": "display_data"
    }
   ],
   "source": [
    "load(\"../data/wage2015_subsample_inference.Rdata\")\n",
    "dim(data)"
   ]
  },
  {
   "cell_type": "markdown",
   "metadata": {
    "papermill": {
     "duration": 0.034902,
     "end_time": "2021-02-13T18:19:43.994834",
     "exception": false,
     "start_time": "2021-02-13T18:19:43.959932",
     "status": "completed"
    },
    "tags": []
   },
   "source": [
    "The outcomes $Y_i$'s are hourly (log) wages of never-married workers living in the U.S. The raw regressors $Z_i$'s consist of a variety of characteristics, including experience, education and industry and occupation indicators."
   ]
  },
  {
   "cell_type": "code",
   "execution_count": 24,
   "metadata": {
    "execution": {
     "iopub.execute_input": "2021-02-13T18:19:44.102986Z",
     "iopub.status.busy": "2021-02-13T18:19:44.071379Z",
     "iopub.status.idle": "2021-02-13T18:19:44.123245Z",
     "shell.execute_reply": "2021-02-13T18:19:44.121407Z"
    },
    "papermill": {
     "duration": 0.091723,
     "end_time": "2021-02-13T18:19:44.123394",
     "exception": false,
     "start_time": "2021-02-13T18:19:44.031671",
     "status": "completed"
    },
    "tags": []
   },
   "outputs": [
    {
     "data": {
      "text/html": [
       "<style>\n",
       ".list-inline {list-style: none; margin:0; padding: 0}\n",
       ".list-inline>li {display: inline-block}\n",
       ".list-inline>li:not(:last-child)::after {content: \"\\00b7\"; padding: 0 .5ex}\n",
       "</style>\n",
       "<ol class=list-inline><li>'sex'</li><li>'shs'</li><li>'hsg'</li><li>'scl'</li><li>'clg'</li><li>'ad'</li><li>'mw'</li><li>'so'</li><li>'we'</li><li>'ne'</li><li>'exp1'</li><li>'exp2'</li><li>'exp3'</li><li>'exp4'</li><li>'occ'</li><li>'occ2'</li><li>'ind'</li><li>'ind2'</li></ol>\n"
      ],
      "text/latex": [
       "\\begin{enumerate*}\n",
       "\\item 'sex'\n",
       "\\item 'shs'\n",
       "\\item 'hsg'\n",
       "\\item 'scl'\n",
       "\\item 'clg'\n",
       "\\item 'ad'\n",
       "\\item 'mw'\n",
       "\\item 'so'\n",
       "\\item 'we'\n",
       "\\item 'ne'\n",
       "\\item 'exp1'\n",
       "\\item 'exp2'\n",
       "\\item 'exp3'\n",
       "\\item 'exp4'\n",
       "\\item 'occ'\n",
       "\\item 'occ2'\n",
       "\\item 'ind'\n",
       "\\item 'ind2'\n",
       "\\end{enumerate*}\n"
      ],
      "text/markdown": [
       "1. 'sex'\n",
       "2. 'shs'\n",
       "3. 'hsg'\n",
       "4. 'scl'\n",
       "5. 'clg'\n",
       "6. 'ad'\n",
       "7. 'mw'\n",
       "8. 'so'\n",
       "9. 'we'\n",
       "10. 'ne'\n",
       "11. 'exp1'\n",
       "12. 'exp2'\n",
       "13. 'exp3'\n",
       "14. 'exp4'\n",
       "15. 'occ'\n",
       "16. 'occ2'\n",
       "17. 'ind'\n",
       "18. 'ind2'\n",
       "\n",
       "\n"
      ],
      "text/plain": [
       " [1] \"sex\"  \"shs\"  \"hsg\"  \"scl\"  \"clg\"  \"ad\"   \"mw\"   \"so\"   \"we\"   \"ne\"  \n",
       "[11] \"exp1\" \"exp2\" \"exp3\" \"exp4\" \"occ\"  \"occ2\" \"ind\"  \"ind2\""
      ]
     },
     "metadata": {},
     "output_type": "display_data"
    }
   ],
   "source": [
    "Z <- subset(data,select=-c(lwage,wage)) # regressors\n",
    "colnames(Z)"
   ]
  },
  {
   "cell_type": "markdown",
   "metadata": {
    "papermill": {
     "duration": 0.037074,
     "end_time": "2021-02-13T18:19:44.196749",
     "exception": false,
     "start_time": "2021-02-13T18:19:44.159675",
     "status": "completed"
    },
    "tags": []
   },
   "source": [
    "The following figure shows the weekly wage distribution from the US survey data."
   ]
  },
  {
   "cell_type": "code",
   "execution_count": 25,
   "metadata": {
    "execution": {
     "iopub.execute_input": "2021-02-13T18:19:44.276894Z",
     "iopub.status.busy": "2021-02-13T18:19:44.275229Z",
     "iopub.status.idle": "2021-02-13T18:19:44.677229Z",
     "shell.execute_reply": "2021-02-13T18:19:44.675956Z"
    },
    "papermill": {
     "duration": 0.443391,
     "end_time": "2021-02-13T18:19:44.677379",
     "exception": false,
     "start_time": "2021-02-13T18:19:44.233988",
     "status": "completed"
    },
    "tags": []
   },
   "outputs": [
    {
     "data": {
      "image/png": "[encoded data removed]",
      "text/plain": [
       "Plot with title \"Empirical wage distribution from the US survey data\""
      ]
     },
     "metadata": {
      "image/png": {
       "height": 420,
       "width": 420
      }
     },
     "output_type": "display_data"
    }
   ],
   "source": [
    "HV = hist(data$wage, xlab= \"hourly wage\", main=\"Empirical wage distribution from the US survey data\", breaks= 35)\n"
   ]
  },
  {
   "cell_type": "code",
   "execution_count": 26,
   "metadata": {},
   "outputs": [
    {
     "data": {
      "text/html": [
       "<style>\n",
       ".list-inline {list-style: none; margin:0; padding: 0}\n",
       ".list-inline>li {display: inline-block}\n",
       ".list-inline>li:not(:last-child)::after {content: \"\\00b7\"; padding: 0 .5ex}\n",
       "</style>\n",
       "<ol class=list-inline><li>0</li><li>20</li><li>40</li><li>60</li><li>80</li><li>100</li><li>120</li><li>140</li><li>160</li><li>180</li><li>200</li><li>220</li><li>240</li><li>260</li><li>280</li><li>300</li><li>320</li><li>340</li><li>360</li><li>380</li><li>400</li><li>420</li><li>440</li><li>460</li><li>480</li><li>500</li><li>520</li><li>540</li></ol>\n"
      ],
      "text/latex": [
       "\\begin{enumerate*}\n",
       "\\item 0\n",
       "\\item 20\n",
       "\\item 40\n",
       "\\item 60\n",
       "\\item 80\n",
       "\\item 100\n",
       "\\item 120\n",
       "\\item 140\n",
       "\\item 160\n",
       "\\item 180\n",
       "\\item 200\n",
       "\\item 220\n",
       "\\item 240\n",
       "\\item 260\n",
       "\\item 280\n",
       "\\item 300\n",
       "\\item 320\n",
       "\\item 340\n",
       "\\item 360\n",
       "\\item 380\n",
       "\\item 400\n",
       "\\item 420\n",
       "\\item 440\n",
       "\\item 460\n",
       "\\item 480\n",
       "\\item 500\n",
       "\\item 520\n",
       "\\item 540\n",
       "\\end{enumerate*}\n"
      ],
      "text/markdown": [
       "1. 0\n",
       "2. 20\n",
       "3. 40\n",
       "4. 60\n",
       "5. 80\n",
       "6. 100\n",
       "7. 120\n",
       "8. 140\n",
       "9. 160\n",
       "10. 180\n",
       "11. 200\n",
       "12. 220\n",
       "13. 240\n",
       "14. 260\n",
       "15. 280\n",
       "16. 300\n",
       "17. 320\n",
       "18. 340\n",
       "19. 360\n",
       "20. 380\n",
       "21. 400\n",
       "22. 420\n",
       "23. 440\n",
       "24. 460\n",
       "25. 480\n",
       "26. 500\n",
       "27. 520\n",
       "28. 540\n",
       "\n",
       "\n"
      ],
      "text/plain": [
       " [1]   0  20  40  60  80 100 120 140 160 180 200 220 240 260 280 300 320 340 360\n",
       "[20] 380 400 420 440 460 480 500 520 540"
      ]
     },
     "metadata": {},
     "output_type": "display_data"
    }
   ],
   "source": [
    "HV$breaks"
   ]
  },
  {
   "cell_type": "markdown",
   "metadata": {
    "papermill": {
     "duration": 0.036602,
     "end_time": "2021-02-13T18:19:44.752465",
     "exception": false,
     "start_time": "2021-02-13T18:19:44.715863",
     "status": "completed"
    },
    "tags": []
   },
   "source": [
    "Wages show a high degree of skewness. Hence, wages are transformed in almost all studies by\n",
    "the logarithm."
   ]
  },
  {
   "cell_type": "markdown",
   "metadata": {
    "papermill": {
     "duration": 0.036009,
     "end_time": "2021-02-13T18:19:44.826260",
     "exception": false,
     "start_time": "2021-02-13T18:19:44.790251",
     "status": "completed"
    },
    "tags": []
   },
   "source": [
    "## Analysis"
   ]
  },
  {
   "cell_type": "markdown",
   "metadata": {
    "papermill": {
     "duration": 0.036925,
     "end_time": "2021-02-13T18:19:44.899159",
     "exception": false,
     "start_time": "2021-02-13T18:19:44.862234",
     "status": "completed"
    },
    "tags": []
   },
   "source": [
    "Due to the skewness of the data, we are considering log wages which leads to the following regression model\n",
    "\n",
    "$$log(wage) = g(Z) + \\epsilon.$$"
   ]
  },
  {
   "cell_type": "markdown",
   "metadata": {
    "papermill": {
     "duration": 0.036183,
     "end_time": "2021-02-13T18:19:44.971528",
     "exception": false,
     "start_time": "2021-02-13T18:19:44.935345",
     "status": "completed"
    },
    "tags": []
   },
   "source": [
    "We will estimate the two sets of prediction rules: Linear and Nonlinear Models.\n",
    "In linear models, we estimate the prediction rule of the form\n",
    "\n",
    "$$\\hat g(Z) = \\hat \\beta'X.$$\n",
    "Again, we generate $X$ in two ways:\n",
    " \n",
    "1. Basic Model:   $X$ consists of a set of raw regressors (e.g. gender, experience, education indicators, regional indicators).\n",
    "\n",
    "\n",
    "2. Flexible Model:  $X$ consists of all raw regressors from the basic model plus occupation and industry indicators, transformations (e.g., ${exp}^2$ and ${exp}^3$) and additional two-way interactions.\n"
   ]
  },
  {
   "cell_type": "markdown",
   "metadata": {
    "papermill": {
     "duration": 0.037318,
     "end_time": "2021-02-13T18:19:45.044959",
     "exception": false,
     "start_time": "2021-02-13T18:19:45.007641",
     "status": "completed"
    },
    "tags": []
   },
   "source": [
    "To evaluate the out-of-sample performance, we split the data first."
   ]
  },
  {
   "cell_type": "code",
   "execution_count": 27,
   "metadata": {
    "execution": {
     "iopub.execute_input": "2021-02-13T18:19:45.123907Z",
     "iopub.status.busy": "2021-02-13T18:19:45.122054Z",
     "iopub.status.idle": "2021-02-13T18:19:45.142976Z",
     "shell.execute_reply": "2021-02-13T18:19:45.141825Z"
    },
    "papermill": {
     "duration": 0.062188,
     "end_time": "2021-02-13T18:19:45.143118",
     "exception": false,
     "start_time": "2021-02-13T18:19:45.080930",
     "status": "completed"
    },
    "tags": []
   },
   "outputs": [],
   "source": [
    "set.seed(1234)\n",
    "training <- sample(nrow(data), nrow(data)*(3/4), replace=FALSE)\n",
    "\n",
    "data_train <- data[training,]\n",
    "data_test <- data[-training,]"
   ]
  },
  {
   "cell_type": "markdown",
   "metadata": {
    "papermill": {
     "duration": 0.038774,
     "end_time": "2021-02-13T18:19:45.217757",
     "exception": false,
     "start_time": "2021-02-13T18:19:45.178983",
     "status": "completed"
    },
    "tags": []
   },
   "source": [
    "We construct the two different model matrices $X_{basic}$ and $X_{flex}$ for both the training and the test sample:"
   ]
  },
  {
   "cell_type": "code",
   "execution_count": 28,
   "metadata": {},
   "outputs": [
    {
     "data": {
      "text/html": [
       "<style>\n",
       ".list-inline {list-style: none; margin:0; padding: 0}\n",
       ".list-inline>li {display: inline-block}\n",
       ".list-inline>li:not(:last-child)::after {content: \"\\00b7\"; padding: 0 .5ex}\n",
       "</style>\n",
       "<ol class=list-inline><li>1288</li><li>20</li></ol>\n"
      ],
      "text/latex": [
       "\\begin{enumerate*}\n",
       "\\item 1288\n",
       "\\item 20\n",
       "\\end{enumerate*}\n"
      ],
      "text/markdown": [
       "1. 1288\n",
       "2. 20\n",
       "\n",
       "\n"
      ],
      "text/plain": [
       "[1] 1288   20"
      ]
     },
     "metadata": {},
     "output_type": "display_data"
    }
   ],
   "source": [
    "dim(data_test)"
   ]
  },
  {
   "cell_type": "code",
   "execution_count": 29,
   "metadata": {},
   "outputs": [
    {
     "data": {
      "text/html": [
       "<style>\n",
       ".list-inline {list-style: none; margin:0; padding: 0}\n",
       ".list-inline>li {display: inline-block}\n",
       ".list-inline>li:not(:last-child)::after {content: \"\\00b7\"; padding: 0 .5ex}\n",
       "</style>\n",
       "<ol class=list-inline><li>3862</li><li>20</li></ol>\n"
      ],
      "text/latex": [
       "\\begin{enumerate*}\n",
       "\\item 3862\n",
       "\\item 20\n",
       "\\end{enumerate*}\n"
      ],
      "text/markdown": [
       "1. 3862\n",
       "2. 20\n",
       "\n",
       "\n"
      ],
      "text/plain": [
       "[1] 3862   20"
      ]
     },
     "metadata": {},
     "output_type": "display_data"
    }
   ],
   "source": [
    "dim(data_train)"
   ]
  },
  {
   "cell_type": "code",
   "execution_count": 30,
   "metadata": {
    "execution": {
     "iopub.execute_input": "2021-02-13T18:19:45.294943Z",
     "iopub.status.busy": "2021-02-13T18:19:45.293619Z",
     "iopub.status.idle": "2021-02-13T18:19:45.347808Z",
     "shell.execute_reply": "2021-02-13T18:19:45.346525Z"
    },
    "papermill": {
     "duration": 0.094135,
     "end_time": "2021-02-13T18:19:45.347955",
     "exception": false,
     "start_time": "2021-02-13T18:19:45.253820",
     "status": "completed"
    },
    "tags": []
   },
   "outputs": [],
   "source": [
    "X_basic <-  \"sex + exp1 + exp2+ shs + hsg+ scl + clg + mw + so + we + occ2+ ind2\"\n",
    "X_flex <- \"sex + exp1 + exp2 + shs+hsg+scl+clg+occ2+ind2+mw+so+we + (exp1+exp2+exp3+exp4)*(shs+hsg+scl+clg+occ2+ind2+mw+so+we)\"\n",
    "formula_basic <- as.formula(paste(\"lwage\", \"~\", X_basic))\n",
    "formula_flex <- as.formula(paste(\"lwage\", \"~\", X_flex))\n",
    "\n",
    "model_X_basic_train <- model.matrix(formula_basic,data_train)\n",
    "model_X_basic_test <- model.matrix(formula_basic,data_test)\n",
    "p_basic <- dim(model_X_basic_train)[2]\n",
    "model_X_flex_train <- model.matrix(formula_flex,data_train)\n",
    "model_X_flex_test <- model.matrix(formula_flex,data_test)\n",
    "p_flex <- dim(model_X_flex_train)[2]"
   ]
  },
  {
   "cell_type": "code",
   "execution_count": 31,
   "metadata": {
    "execution": {
     "iopub.execute_input": "2021-02-13T18:19:45.427620Z",
     "iopub.status.busy": "2021-02-13T18:19:45.425988Z",
     "iopub.status.idle": "2021-02-13T18:19:45.445227Z",
     "shell.execute_reply": "2021-02-13T18:19:45.443481Z"
    },
    "papermill": {
     "duration": 0.060969,
     "end_time": "2021-02-13T18:19:45.445389",
     "exception": false,
     "start_time": "2021-02-13T18:19:45.384420",
     "status": "completed"
    },
    "tags": []
   },
   "outputs": [],
   "source": [
    "Y_train <- data_train$lwage\n",
    "Y_test <- data_test$lwage"
   ]
  },
  {
   "cell_type": "code",
   "execution_count": 32,
   "metadata": {
    "execution": {
     "iopub.execute_input": "2021-02-13T18:19:45.525496Z",
     "iopub.status.busy": "2021-02-13T18:19:45.523623Z",
     "iopub.status.idle": "2021-02-13T18:19:45.545044Z",
     "shell.execute_reply": "2021-02-13T18:19:45.543332Z"
    },
    "papermill": {
     "duration": 0.062723,
     "end_time": "2021-02-13T18:19:45.545189",
     "exception": false,
     "start_time": "2021-02-13T18:19:45.482466",
     "status": "completed"
    },
    "tags": []
   },
   "outputs": [
    {
     "data": {
      "text/html": [
       "52"
      ],
      "text/latex": [
       "52"
      ],
      "text/markdown": [
       "52"
      ],
      "text/plain": [
       "[1] 52"
      ]
     },
     "metadata": {},
     "output_type": "display_data"
    },
    {
     "data": {
      "text/html": [
       "246"
      ],
      "text/latex": [
       "246"
      ],
      "text/markdown": [
       "246"
      ],
      "text/plain": [
       "[1] 246"
      ]
     },
     "metadata": {},
     "output_type": "display_data"
    }
   ],
   "source": [
    "p_basic\n",
    "p_flex"
   ]
  },
  {
   "cell_type": "markdown",
   "metadata": {
    "papermill": {
     "duration": 0.037704,
     "end_time": "2021-02-13T18:19:45.622370",
     "exception": false,
     "start_time": "2021-02-13T18:19:45.584666",
     "status": "completed"
    },
    "tags": []
   },
   "source": [
    "As known from our first lab, the basic model consists of $10$ regressors and the flexible model of $246$ regressors. Let us fit our models to the training sample using the two different model specifications. We are starting by running a simple ols regression. "
   ]
  },
  {
   "cell_type": "markdown",
   "metadata": {
    "papermill": {
     "duration": 0.038763,
     "end_time": "2021-02-13T18:19:45.699126",
     "exception": false,
     "start_time": "2021-02-13T18:19:45.660363",
     "status": "completed"
    },
    "tags": []
   },
   "source": [
    "### OLS"
   ]
  },
  {
   "cell_type": "markdown",
   "metadata": {
    "papermill": {
     "duration": 0.039458,
     "end_time": "2021-02-13T18:19:45.779460",
     "exception": false,
     "start_time": "2021-02-13T18:19:45.740002",
     "status": "completed"
    },
    "tags": []
   },
   "source": [
    "We fit the basic model to our training data by running an ols regression and compute the mean squared error on the test sample."
   ]
  },
  {
   "cell_type": "code",
   "execution_count": 33,
   "metadata": {
    "execution": {
     "iopub.execute_input": "2021-02-13T18:19:45.861949Z",
     "iopub.status.busy": "2021-02-13T18:19:45.860219Z",
     "iopub.status.idle": "2021-02-13T18:19:45.887011Z",
     "shell.execute_reply": "2021-02-13T18:19:45.885343Z"
    },
    "papermill": {
     "duration": 0.069537,
     "end_time": "2021-02-13T18:19:45.887169",
     "exception": false,
     "start_time": "2021-02-13T18:19:45.817632",
     "status": "completed"
    },
    "tags": []
   },
   "outputs": [],
   "source": [
    "# ols (basic model)\n",
    "fit.lm.basic <- lm(formula_basic, data_train)  "
   ]
  },
  {
   "cell_type": "code",
   "execution_count": 34,
   "metadata": {
    "execution": {
     "iopub.execute_input": "2021-02-13T18:19:45.968754Z",
     "iopub.status.busy": "2021-02-13T18:19:45.967421Z",
     "iopub.status.idle": "2021-02-13T18:19:45.999647Z",
     "shell.execute_reply": "2021-02-13T18:19:45.997473Z"
    },
    "papermill": {
     "duration": 0.074423,
     "end_time": "2021-02-13T18:19:45.999870",
     "exception": false,
     "start_time": "2021-02-13T18:19:45.925447",
     "status": "completed"
    },
    "tags": []
   },
   "outputs": [
    {
     "name": "stdout",
     "output_type": "stream",
     "text": [
      "The mean squared error (MSE) using the basic model is equal to 0.2293541"
     ]
    }
   ],
   "source": [
    "# Compute the Out-Of-Sample Performance\n",
    "yhat.lm.basic <- predict(fit.lm.basic, newdata=data_test)\n",
    "cat(\"The mean squared error (MSE) using the basic model is equal to\" , mean((Y_test-yhat.lm.basic)^2)) # MSE OLS (basic model)    "
   ]
  },
  {
   "cell_type": "markdown",
   "metadata": {
    "papermill": {
     "duration": 0.052764,
     "end_time": "2021-02-13T18:19:46.122829",
     "exception": false,
     "start_time": "2021-02-13T18:19:46.070065",
     "status": "completed"
    },
    "tags": []
   },
   "source": [
    "To determine the out-of-sample $MSE$ and the standard error in one step, we can use the function *lm*:"
   ]
  },
  {
   "cell_type": "code",
   "execution_count": 35,
   "metadata": {
    "execution": {
     "iopub.execute_input": "2021-02-13T18:19:46.211377Z",
     "iopub.status.busy": "2021-02-13T18:19:46.210084Z",
     "iopub.status.idle": "2021-02-13T18:19:46.238805Z",
     "shell.execute_reply": "2021-02-13T18:19:46.237555Z"
    },
    "papermill": {
     "duration": 0.076484,
     "end_time": "2021-02-13T18:19:46.239015",
     "exception": false,
     "start_time": "2021-02-13T18:19:46.162531",
     "status": "completed"
    },
    "tags": []
   },
   "outputs": [
    {
     "data": {
      "text/html": [
       "<style>\n",
       ".list-inline {list-style: none; margin:0; padding: 0}\n",
       ".list-inline>li {display: inline-block}\n",
       ".list-inline>li:not(:last-child)::after {content: \"\\00b7\"; padding: 0 .5ex}\n",
       "</style>\n",
       "<ol class=list-inline><li>0.229354063526121</li><li>0.0156466563702777</li></ol>\n"
      ],
      "text/latex": [
       "\\begin{enumerate*}\n",
       "\\item 0.229354063526121\n",
       "\\item 0.0156466563702777\n",
       "\\end{enumerate*}\n"
      ],
      "text/markdown": [
       "1. 0.229354063526121\n",
       "2. 0.0156466563702777\n",
       "\n",
       "\n"
      ],
      "text/plain": [
       "[1] 0.22935406 0.01564666"
      ]
     },
     "metadata": {},
     "output_type": "display_data"
    }
   ],
   "source": [
    "MSE.lm.basic <- summary(lm((Y_test-yhat.lm.basic)^2~1))$coef[1:2]\n",
    "MSE.lm.basic"
   ]
  },
  {
   "cell_type": "markdown",
   "metadata": {
    "papermill": {
     "duration": 0.039088,
     "end_time": "2021-02-13T18:19:46.317915",
     "exception": false,
     "start_time": "2021-02-13T18:19:46.278827",
     "status": "completed"
    },
    "tags": []
   },
   "source": [
    "We also compute the out-of-sample $R^2$:"
   ]
  },
  {
   "cell_type": "code",
   "execution_count": 36,
   "metadata": {
    "execution": {
     "iopub.execute_input": "2021-02-13T18:19:46.400518Z",
     "iopub.status.busy": "2021-02-13T18:19:46.399316Z",
     "iopub.status.idle": "2021-02-13T18:19:46.413606Z",
     "shell.execute_reply": "2021-02-13T18:19:46.412345Z"
    },
    "papermill": {
     "duration": 0.057098,
     "end_time": "2021-02-13T18:19:46.413754",
     "exception": false,
     "start_time": "2021-02-13T18:19:46.356656",
     "status": "completed"
    },
    "tags": []
   },
   "outputs": [
    {
     "name": "stdout",
     "output_type": "stream",
     "text": [
      "The R^2 using the basic model is equal to 0.2819899"
     ]
    }
   ],
   "source": [
    "R2.lm.basic <- 1-MSE.lm.basic[1]/var(Y_test)\n",
    "cat(\"The R^2 using the basic model is equal to\",R2.lm.basic) # MSE OLS (basic model) "
   ]
  },
  {
   "cell_type": "markdown",
   "metadata": {
    "papermill": {
     "duration": 0.039585,
     "end_time": "2021-02-13T18:19:46.492903",
     "exception": false,
     "start_time": "2021-02-13T18:19:46.453318",
     "status": "completed"
    },
    "tags": []
   },
   "source": [
    "We repeat the same procedure for the flexible model."
   ]
  },
  {
   "cell_type": "code",
   "execution_count": 37,
   "metadata": {
    "execution": {
     "iopub.execute_input": "2021-02-13T18:19:46.576417Z",
     "iopub.status.busy": "2021-02-13T18:19:46.575228Z",
     "iopub.status.idle": "2021-02-13T18:19:46.730486Z",
     "shell.execute_reply": "2021-02-13T18:19:46.728575Z"
    },
    "papermill": {
     "duration": 0.198636,
     "end_time": "2021-02-13T18:19:46.730717",
     "exception": false,
     "start_time": "2021-02-13T18:19:46.532081",
     "status": "completed"
    },
    "tags": []
   },
   "outputs": [
    {
     "name": "stdout",
     "output_type": "stream",
     "text": [
      "The R^2 using the flexible model is equal to 0.2383204"
     ]
    }
   ],
   "source": [
    "# ols (flexible model)\n",
    "fit.lm.flex <- lm(formula_flex, data_train)  \n",
    "# Compute the Out-Of-Sample Performance\n",
    "options(warn=-1)\n",
    "yhat.lm.flex <- predict(fit.lm.flex, newdata=data_test)\n",
    "MSE.lm.flex <- summary(lm((Y_test-yhat.lm.flex)^2~1))$coef[1:2]\n",
    "R2.lm.flex <- 1-MSE.lm.flex[1]/var(Y_test)\n",
    "cat(\"The R^2 using the flexible model is equal to\",R2.lm.flex) # MSE OLS (flexible model) "
   ]
  },
  {
   "cell_type": "markdown",
   "metadata": {
    "papermill": {
     "duration": 0.051953,
     "end_time": "2021-02-13T18:19:46.853182",
     "exception": false,
     "start_time": "2021-02-13T18:19:46.801229",
     "status": "completed"
    },
    "tags": []
   },
   "source": [
    "We observe that ols regression works better for the basic model with smaller $p/n$ ratio. We are proceeding by running lasso regressions and its versions."
   ]
  },
  {
   "cell_type": "markdown",
   "metadata": {
    "papermill": {
     "duration": 0.042521,
     "end_time": "2021-02-13T18:19:46.935859",
     "exception": false,
     "start_time": "2021-02-13T18:19:46.893338",
     "status": "completed"
    },
    "tags": []
   },
   "source": [
    "### Lasso, Ridge and Elastic Net\n"
   ]
  },
  {
   "cell_type": "markdown",
   "metadata": {
    "papermill": {
     "duration": 0.040161,
     "end_time": "2021-02-13T18:19:47.015626",
     "exception": false,
     "start_time": "2021-02-13T18:19:46.975465",
     "status": "completed"
    },
    "tags": []
   },
   "source": [
    "Considering the basic model, we run a lasso/post-lasso regression first and then we compute the measures for the out-of-sample performance. Note that applying the package *hdm* and the function *rlasso* we rely on a theoretical based choice of the penalty level $\\lambda$ in the lasso regression."
   ]
  },
  {
   "cell_type": "code",
   "execution_count": 38,
   "metadata": {
    "execution": {
     "iopub.execute_input": "2021-02-13T18:19:47.107560Z",
     "iopub.status.busy": "2021-02-13T18:19:47.102422Z",
     "iopub.status.idle": "2021-02-13T18:19:47.634039Z",
     "shell.execute_reply": "2021-02-13T18:19:47.630516Z"
    },
    "papermill": {
     "duration": 0.577781,
     "end_time": "2021-02-13T18:19:47.634269",
     "exception": false,
     "start_time": "2021-02-13T18:19:47.056488",
     "status": "completed"
    },
    "tags": []
   },
   "outputs": [
    {
     "name": "stdout",
     "output_type": "stream",
     "text": [
      "The R^2 using the basic model is equal to 0.2674345 for lasso and 0.2706874 for post-lasso"
     ]
    }
   ],
   "source": [
    "# lasso and versions\n",
    "library(hdm) \n",
    "fit.rlasso  <- rlasso(formula_basic, data_train, post=FALSE)\n",
    "fit.rlasso.post <- rlasso(formula_basic, data_train, post=TRUE)\n",
    "yhat.rlasso   <- predict(fit.rlasso, newdata=data_test)\n",
    "yhat.rlasso.post   <- predict(fit.rlasso.post, newdata=data_test)\n",
    "\n",
    "MSE.lasso <- summary(lm((Y_test-yhat.rlasso)^2~1))$coef[1:2]\n",
    "MSE.lasso.post <- summary(lm((Y_test-yhat.rlasso.post)^2~1))$coef[1:2]\n",
    "\n",
    "R2.lasso <- 1-MSE.lasso[1]/var(Y_test)\n",
    "R2.lasso.post <- 1-MSE.lasso.post[1]/var(Y_test)\n",
    "cat(\"The R^2 using the basic model is equal to\",R2.lasso,\"for lasso and\",R2.lasso.post,\"for post-lasso\") # R^2 lasso/post-lasso (basic model) "
   ]
  },
  {
   "cell_type": "markdown",
   "metadata": {
    "papermill": {
     "duration": 0.049543,
     "end_time": "2021-02-13T18:19:47.757271",
     "exception": false,
     "start_time": "2021-02-13T18:19:47.707728",
     "status": "completed"
    },
    "tags": []
   },
   "source": [
    "Now, we repeat the same procedure for the flexible model."
   ]
  },
  {
   "cell_type": "code",
   "execution_count": 39,
   "metadata": {
    "execution": {
     "iopub.execute_input": "2021-02-13T18:19:47.845841Z",
     "iopub.status.busy": "2021-02-13T18:19:47.845003Z",
     "iopub.status.idle": "2021-02-13T18:19:51.228723Z",
     "shell.execute_reply": "2021-02-13T18:19:51.217927Z"
    },
    "papermill": {
     "duration": 3.430649,
     "end_time": "2021-02-13T18:19:51.229007",
     "exception": false,
     "start_time": "2021-02-13T18:19:47.798358",
     "status": "completed"
    },
    "tags": []
   },
   "outputs": [
    {
     "name": "stdout",
     "output_type": "stream",
     "text": [
      "The R^2 using the flexible model is equal to 0.2653058 for lasso and 0.2614714 for post-lasso"
     ]
    }
   ],
   "source": [
    "fit.rlasso.flex  <- rlasso(formula_flex, data_train, post=FALSE)\n",
    "fit.rlasso.post.flex <- rlasso(formula_flex, data_train, post=TRUE)\n",
    "yhat.rlasso.flex   <- predict(fit.rlasso.flex, newdata=data_test)\n",
    "yhat.rlasso.post.flex   <- predict(fit.rlasso.post.flex, newdata=data_test)\n",
    "\n",
    "MSE.lasso.flex <- summary(lm((Y_test-yhat.rlasso.flex)^2~1))$coef[1:2]\n",
    "MSE.lasso.post.flex <- summary(lm((Y_test-yhat.rlasso.post.flex)^2~1))$coef[1:2]\n",
    "\n",
    "R2.lasso.flex <- 1-MSE.lasso.flex[1]/var(Y_test)\n",
    "R2.lasso.post.flex <- 1-MSE.lasso.post.flex[1]/var(Y_test)\n",
    "cat(\"The R^2 using the flexible model is equal to\",R2.lasso.flex,\"for lasso and\",R2.lasso.post.flex,\"for post-lasso\") # R^2 lasso/post-lasso (flexible model) "
   ]
  },
  {
   "cell_type": "markdown",
   "metadata": {
    "papermill": {
     "duration": 0.04206,
     "end_time": "2021-02-13T18:19:51.353816",
     "exception": false,
     "start_time": "2021-02-13T18:19:51.311756",
     "status": "completed"
    },
    "tags": []
   },
   "source": [
    "It is worth to notice that lasso regression works better for the more complex model."
   ]
  },
  {
   "cell_type": "markdown",
   "metadata": {
    "papermill": {
     "duration": 0.041452,
     "end_time": "2021-02-13T18:19:51.436401",
     "exception": false,
     "start_time": "2021-02-13T18:19:51.394949",
     "status": "completed"
    },
    "tags": []
   },
   "source": [
    "In contrast to a theoretical based choice of the tuning parameter $\\lambda$ in the lasso regression, we can also use cross-validation to determine the penalty level by applying the package *glmnet* and the function cv.glmnet. In this context, we also run a ridge and a elastic net regression by adjusting the parameter *alpha*."
   ]
  },
  {
   "cell_type": "code",
   "execution_count": 40,
   "metadata": {
    "execution": {
     "iopub.execute_input": "2021-02-13T18:19:51.552849Z",
     "iopub.status.busy": "2021-02-13T18:19:51.551162Z",
     "iopub.status.idle": "2021-02-13T18:19:53.725572Z",
     "shell.execute_reply": "2021-02-13T18:19:53.724293Z"
    },
    "papermill": {
     "duration": 2.248453,
     "end_time": "2021-02-13T18:19:53.725885",
     "exception": false,
     "start_time": "2021-02-13T18:19:51.477432",
     "status": "completed"
    },
    "tags": []
   },
   "outputs": [
    {
     "name": "stdout",
     "output_type": "stream",
     "text": [
      "R^2 using cross-validation for lasso, ridge and elastic net in the basic model: 0.2824847 0.2669501 0.28039"
     ]
    }
   ],
   "source": [
    "library(glmnet)\n",
    "fit.lasso.cv   <- cv.glmnet(model_X_basic_train, Y_train, family=\"gaussian\", alpha=1)\n",
    "fit.ridge   <- cv.glmnet(model_X_basic_train, Y_train, family=\"gaussian\", alpha=0)\n",
    "fit.elnet   <- cv.glmnet(model_X_basic_train, Y_train, family=\"gaussian\", alpha=.5)\n",
    "\n",
    "yhat.lasso.cv    <- predict(fit.lasso.cv, newx = model_X_basic_test)\n",
    "yhat.ridge   <- predict(fit.ridge, newx = model_X_basic_test)\n",
    "yhat.elnet   <- predict(fit.elnet, newx = model_X_basic_test)\n",
    "\n",
    "MSE.lasso.cv <- summary(lm((Y_test-yhat.lasso.cv)^2~1))$coef[1:2]\n",
    "MSE.ridge <- summary(lm((Y_test-yhat.ridge)^2~1))$coef[1:2]\n",
    "MSE.elnet <- summary(lm((Y_test-yhat.elnet)^2~1))$coef[1:2]\n",
    "\n",
    "R2.lasso.cv <- 1-MSE.lasso.cv[1]/var(Y_test)\n",
    "R2.ridge <- 1-MSE.ridge[1]/var(Y_test)\n",
    "R2.elnet <- 1-MSE.elnet[1]/var(Y_test)\n",
    "\n",
    "# R^2 using cross-validation (basic model) \n",
    "cat(\"R^2 using cross-validation for lasso, ridge and elastic net in the basic model:\",R2.lasso.cv,R2.ridge,R2.elnet)"
   ]
  },
  {
   "cell_type": "markdown",
   "metadata": {
    "papermill": {
     "duration": 0.042613,
     "end_time": "2021-02-13T18:19:53.812553",
     "exception": false,
     "start_time": "2021-02-13T18:19:53.769940",
     "status": "completed"
    },
    "tags": []
   },
   "source": [
    "Note that the following calculations for the flexible model need some computation time."
   ]
  },
  {
   "cell_type": "code",
   "execution_count": 41,
   "metadata": {
    "execution": {
     "iopub.execute_input": "2021-02-13T18:19:53.902028Z",
     "iopub.status.busy": "2021-02-13T18:19:53.900666Z",
     "iopub.status.idle": "2021-02-13T18:20:07.442822Z",
     "shell.execute_reply": "2021-02-13T18:20:07.441296Z"
    },
    "papermill": {
     "duration": 13.588391,
     "end_time": "2021-02-13T18:20:07.443188",
     "exception": false,
     "start_time": "2021-02-13T18:19:53.854797",
     "status": "completed"
    },
    "tags": []
   },
   "outputs": [
    {
     "name": "stdout",
     "output_type": "stream",
     "text": [
      "R^2 using cross-validation for lasso, ridge and elastic net in the flexible model: 0.2751157 0.2710676 0.2761405"
     ]
    }
   ],
   "source": [
    "fit.lasso.cv.flex   <- cv.glmnet(model_X_flex_train, Y_train, family=\"gaussian\", alpha=1)\n",
    "fit.ridge.flex   <- cv.glmnet(model_X_flex_train, Y_train, family=\"gaussian\", alpha=0)\n",
    "fit.elnet.flex   <- cv.glmnet(model_X_flex_train, Y_train, family=\"gaussian\", alpha=.5)\n",
    "\n",
    "yhat.lasso.cv.flex    <- predict(fit.lasso.cv.flex , newx = model_X_flex_test)\n",
    "yhat.ridge.flex    <- predict(fit.ridge.flex , newx = model_X_flex_test)\n",
    "yhat.elnet.flex    <- predict(fit.elnet.flex , newx = model_X_flex_test)\n",
    "\n",
    "MSE.lasso.cv.flex  <- summary(lm((Y_test-yhat.lasso.cv.flex )^2~1))$coef[1:2]\n",
    "MSE.ridge.flex  <- summary(lm((Y_test-yhat.ridge.flex )^2~1))$coef[1:2]\n",
    "MSE.elnet.flex  <- summary(lm((Y_test-yhat.elnet.flex )^2~1))$coef[1:2]\n",
    "\n",
    "R2.lasso.cv.flex  <- 1-MSE.lasso.cv.flex [1]/var(Y_test)\n",
    "R2.ridge.flex  <- 1-MSE.ridge.flex [1]/var(Y_test)\n",
    "R2.elnet.flex  <- 1-MSE.elnet.flex [1]/var(Y_test)\n",
    "\n",
    "# R^2 using cross-validation (flexible model) \n",
    "cat(\"R^2 using cross-validation for lasso, ridge and elastic net in the flexible model:\",R2.lasso.cv.flex,R2.ridge.flex,R2.elnet.flex)"
   ]
  },
  {
   "cell_type": "markdown",
   "metadata": {
    "papermill": {
     "duration": 0.04263,
     "end_time": "2021-02-13T18:20:07.529566",
     "exception": false,
     "start_time": "2021-02-13T18:20:07.486936",
     "status": "completed"
    },
    "tags": []
   },
   "source": [
    "The performance of the lasso regression with cross-validated penalty is quite similar to the performance of lasso using a theoretical based choice of the tuning parameter."
   ]
  },
  {
   "cell_type": "markdown",
   "metadata": {
    "papermill": {
     "duration": 0.042859,
     "end_time": "2021-02-13T18:20:07.614751",
     "exception": false,
     "start_time": "2021-02-13T18:20:07.571892",
     "status": "completed"
    },
    "tags": []
   },
   "source": [
    "## Non-linear models"
   ]
  },
  {
   "cell_type": "markdown",
   "metadata": {
    "papermill": {
     "duration": 0.042125,
     "end_time": "2021-02-13T18:20:07.699092",
     "exception": false,
     "start_time": "2021-02-13T18:20:07.656967",
     "status": "completed"
    },
    "tags": []
   },
   "source": [
    "Besides linear regression models, we consider nonlinear regression models to build a predictive model. We are applying regression trees, random forests, boosted trees and neural nets to estimate the regression function $g(X)$. First, we load the relevant libraries"
   ]
  },
  {
   "cell_type": "code",
   "execution_count": 46,
   "metadata": {
    "execution": {
     "iopub.execute_input": "2021-02-13T18:20:07.790700Z",
     "iopub.status.busy": "2021-02-13T18:20:07.789477Z",
     "iopub.status.idle": "2021-02-13T18:20:08.087479Z",
     "shell.execute_reply": "2021-02-13T18:20:08.086103Z"
    },
    "papermill": {
     "duration": 0.345105,
     "end_time": "2021-02-13T18:20:08.087641",
     "exception": false,
     "start_time": "2021-02-13T18:20:07.742536",
     "status": "completed"
    },
    "tags": []
   },
   "outputs": [],
   "source": [
    "library(randomForest)\n",
    "library(rpart)\n",
    "library(nnet)\n",
    "library(gbm)\n",
    "library(rpart.plot)\n",
    "library(keras)"
   ]
  },
  {
   "cell_type": "markdown",
   "metadata": {
    "papermill": {
     "duration": 0.043418,
     "end_time": "2021-02-13T18:20:08.174622",
     "exception": false,
     "start_time": "2021-02-13T18:20:08.131204",
     "status": "completed"
    },
    "tags": []
   },
   "source": [
    "and we illustrate the application of regression trees."
   ]
  },
  {
   "cell_type": "markdown",
   "metadata": {
    "papermill": {
     "duration": 0.043267,
     "end_time": "2021-02-13T18:20:08.261600",
     "exception": false,
     "start_time": "2021-02-13T18:20:08.218333",
     "status": "completed"
    },
    "tags": []
   },
   "source": [
    "### Regression Trees"
   ]
  },
  {
   "cell_type": "markdown",
   "metadata": {
    "papermill": {
     "duration": 0.043445,
     "end_time": "2021-02-13T18:20:08.348402",
     "exception": false,
     "start_time": "2021-02-13T18:20:08.304957",
     "status": "completed"
    },
    "tags": []
   },
   "source": [
    "We fit a regression tree to the training data using the basic model. The variable *cp* controls the complexity of the regression tree, i.e. how deep we build the tree."
   ]
  },
  {
   "cell_type": "code",
   "execution_count": 47,
   "metadata": {
    "execution": {
     "iopub.execute_input": "2021-02-13T18:20:08.440713Z",
     "iopub.status.busy": "2021-02-13T18:20:08.439068Z",
     "iopub.status.idle": "2021-02-13T18:20:10.234852Z",
     "shell.execute_reply": "2021-02-13T18:20:10.235333Z"
    },
    "papermill": {
     "duration": 1.843972,
     "end_time": "2021-02-13T18:20:10.235503",
     "exception": false,
     "start_time": "2021-02-13T18:20:08.391531",
     "status": "completed"
    },
    "tags": []
   },
   "outputs": [
    {
     "name": "stdout",
     "output_type": "stream",
     "text": [
      "cex 0.15   xlim c(0, 1)   ylim c(0, 1)\n"
     ]
    },
    {
     "data": {
      "image/png": "[encoded data removed]",
      "text/plain": [
       "plot without title"
      ]
     },
     "metadata": {
      "image/png": {
       "height": 420,
       "width": 420
      }
     },
     "output_type": "display_data"
    }
   ],
   "source": [
    "# tree\n",
    "fit.trees   <- rpart(formula_basic, data_train,cp = 0.001)\n",
    "prp(fit.trees,leaf.round=1, space=2, yspace=2,split.space=2,shadow.col = \"gray\",trace = 1) # plotting the tree"
   ]
  },
  {
   "cell_type": "markdown",
   "metadata": {
    "papermill": {
     "duration": 0.046456,
     "end_time": "2021-02-13T18:20:10.328795",
     "exception": false,
     "start_time": "2021-02-13T18:20:10.282339",
     "status": "completed"
    },
    "tags": []
   },
   "source": [
    "An important method to improve predictive performance is called \"Pruning the Tree\". This\n",
    "means the process of cutting down the branches of a tree. We apply pruning to the complex tree above to reduce the depth. Initially, we determine the optimal complexity of the regression tree."
   ]
  },
  {
   "cell_type": "code",
   "execution_count": 51,
   "metadata": {},
   "outputs": [
    {
     "data": {
      "text/html": [
       "<table class=\"dataframe\">\n",
       "<caption>A matrix: 53 × 5 of type dbl</caption>\n",
       "<thead>\n",
       "\t<tr><th></th><th scope=col>CP</th><th scope=col>nsplit</th><th scope=col>rel error</th><th scope=col>xerror</th><th scope=col>xstd</th></tr>\n",
       "</thead>\n",
       "<tbody>\n",
       "\t<tr><th scope=row>1</th><td>0.143782671</td><td> 0</td><td>1.0000000</td><td>1.0006385</td><td>0.02830985</td></tr>\n",
       "\t<tr><th scope=row>2</th><td>0.033232401</td><td> 1</td><td>0.8562173</td><td>0.8583545</td><td>0.02582850</td></tr>\n",
       "\t<tr><th scope=row>3</th><td>0.013547061</td><td> 2</td><td>0.8229849</td><td>0.8347385</td><td>0.02565099</td></tr>\n",
       "\t<tr><th scope=row>4</th><td>0.013100098</td><td> 3</td><td>0.8094379</td><td>0.8322688</td><td>0.02623596</td></tr>\n",
       "\t<tr><th scope=row>5</th><td>0.012137010</td><td> 4</td><td>0.7963378</td><td>0.8296152</td><td>0.02615622</td></tr>\n",
       "\t<tr><th scope=row>6</th><td>0.010793911</td><td> 5</td><td>0.7842008</td><td>0.8255968</td><td>0.02592291</td></tr>\n",
       "\t<tr><th scope=row>7</th><td>0.010780955</td><td> 6</td><td>0.7734068</td><td>0.8209575</td><td>0.02583769</td></tr>\n",
       "\t<tr><th scope=row>8</th><td>0.007796456</td><td> 7</td><td>0.7626259</td><td>0.8132921</td><td>0.02565316</td></tr>\n",
       "\t<tr><th scope=row>9</th><td>0.007305074</td><td> 8</td><td>0.7548294</td><td>0.8097419</td><td>0.02559565</td></tr>\n",
       "\t<tr><th scope=row>10</th><td>0.006327716</td><td> 9</td><td>0.7475244</td><td>0.8017226</td><td>0.02543792</td></tr>\n",
       "\t<tr><th scope=row>11</th><td>0.006063134</td><td>10</td><td>0.7411966</td><td>0.7997098</td><td>0.02541913</td></tr>\n",
       "\t<tr><th scope=row>12</th><td>0.004775456</td><td>11</td><td>0.7351335</td><td>0.7914688</td><td>0.02526290</td></tr>\n",
       "\t<tr><th scope=row>13</th><td>0.003941242</td><td>12</td><td>0.7303581</td><td>0.7755933</td><td>0.02430251</td></tr>\n",
       "\t<tr><th scope=row>14</th><td>0.003737171</td><td>13</td><td>0.7264168</td><td>0.7728943</td><td>0.02432760</td></tr>\n",
       "\t<tr><th scope=row>15</th><td>0.003725247</td><td>14</td><td>0.7226796</td><td>0.7709327</td><td>0.02424431</td></tr>\n",
       "\t<tr><th scope=row>16</th><td>0.003702427</td><td>15</td><td>0.7189544</td><td>0.7702922</td><td>0.02424702</td></tr>\n",
       "\t<tr><th scope=row>17</th><td>0.003232657</td><td>17</td><td>0.7115495</td><td>0.7697914</td><td>0.02424519</td></tr>\n",
       "\t<tr><th scope=row>18</th><td>0.003222053</td><td>18</td><td>0.7083169</td><td>0.7677827</td><td>0.02434091</td></tr>\n",
       "\t<tr><th scope=row>19</th><td>0.002556354</td><td>20</td><td>0.7018728</td><td>0.7619422</td><td>0.02405366</td></tr>\n",
       "\t<tr><th scope=row>20</th><td>0.002438161</td><td>23</td><td>0.6942037</td><td>0.7716882</td><td>0.02437314</td></tr>\n",
       "\t<tr><th scope=row>21</th><td>0.002362721</td><td>24</td><td>0.6917656</td><td>0.7724529</td><td>0.02440181</td></tr>\n",
       "\t<tr><th scope=row>22</th><td>0.002293097</td><td>27</td><td>0.6846774</td><td>0.7737601</td><td>0.02442073</td></tr>\n",
       "\t<tr><th scope=row>23</th><td>0.001961069</td><td>28</td><td>0.6823843</td><td>0.7717837</td><td>0.02442477</td></tr>\n",
       "\t<tr><th scope=row>24</th><td>0.001853106</td><td>30</td><td>0.6784622</td><td>0.7833850</td><td>0.02488015</td></tr>\n",
       "\t<tr><th scope=row>25</th><td>0.001759359</td><td>31</td><td>0.6766091</td><td>0.7860544</td><td>0.02501568</td></tr>\n",
       "\t<tr><th scope=row>26</th><td>0.001755570</td><td>32</td><td>0.6748497</td><td>0.7858394</td><td>0.02500739</td></tr>\n",
       "\t<tr><th scope=row>27</th><td>0.001686507</td><td>33</td><td>0.6730941</td><td>0.7855623</td><td>0.02495925</td></tr>\n",
       "\t<tr><th scope=row>28</th><td>0.001637324</td><td>34</td><td>0.6714076</td><td>0.7850723</td><td>0.02495368</td></tr>\n",
       "\t<tr><th scope=row>29</th><td>0.001593642</td><td>36</td><td>0.6681330</td><td>0.7868312</td><td>0.02496195</td></tr>\n",
       "\t<tr><th scope=row>30</th><td>0.001572273</td><td>37</td><td>0.6665393</td><td>0.7887740</td><td>0.02502956</td></tr>\n",
       "\t<tr><th scope=row>31</th><td>0.001517043</td><td>40</td><td>0.6618225</td><td>0.7887880</td><td>0.02500542</td></tr>\n",
       "\t<tr><th scope=row>32</th><td>0.001495208</td><td>41</td><td>0.6603055</td><td>0.7890205</td><td>0.02492562</td></tr>\n",
       "\t<tr><th scope=row>33</th><td>0.001434461</td><td>42</td><td>0.6588103</td><td>0.7880858</td><td>0.02492028</td></tr>\n",
       "\t<tr><th scope=row>34</th><td>0.001401923</td><td>44</td><td>0.6559413</td><td>0.7885685</td><td>0.02493448</td></tr>\n",
       "\t<tr><th scope=row>35</th><td>0.001387024</td><td>45</td><td>0.6545394</td><td>0.7886965</td><td>0.02490070</td></tr>\n",
       "\t<tr><th scope=row>36</th><td>0.001299634</td><td>47</td><td>0.6517654</td><td>0.7897400</td><td>0.02492114</td></tr>\n",
       "\t<tr><th scope=row>37</th><td>0.001298016</td><td>48</td><td>0.6504657</td><td>0.7916690</td><td>0.02503899</td></tr>\n",
       "\t<tr><th scope=row>38</th><td>0.001292366</td><td>50</td><td>0.6478697</td><td>0.7915517</td><td>0.02503836</td></tr>\n",
       "\t<tr><th scope=row>39</th><td>0.001284244</td><td>52</td><td>0.6452850</td><td>0.7916575</td><td>0.02503858</td></tr>\n",
       "\t<tr><th scope=row>40</th><td>0.001268808</td><td>54</td><td>0.6427165</td><td>0.7924782</td><td>0.02503615</td></tr>\n",
       "\t<tr><th scope=row>41</th><td>0.001202743</td><td>55</td><td>0.6414477</td><td>0.7951104</td><td>0.02509153</td></tr>\n",
       "\t<tr><th scope=row>42</th><td>0.001157934</td><td>56</td><td>0.6402449</td><td>0.7930856</td><td>0.02503399</td></tr>\n",
       "\t<tr><th scope=row>43</th><td>0.001122966</td><td>57</td><td>0.6390870</td><td>0.7926675</td><td>0.02498662</td></tr>\n",
       "\t<tr><th scope=row>44</th><td>0.001118808</td><td>59</td><td>0.6368411</td><td>0.7939017</td><td>0.02498640</td></tr>\n",
       "\t<tr><th scope=row>45</th><td>0.001096306</td><td>62</td><td>0.6334846</td><td>0.7952486</td><td>0.02501820</td></tr>\n",
       "\t<tr><th scope=row>46</th><td>0.001091083</td><td>63</td><td>0.6323883</td><td>0.7959506</td><td>0.02506159</td></tr>\n",
       "\t<tr><th scope=row>47</th><td>0.001088710</td><td>65</td><td>0.6302062</td><td>0.7944846</td><td>0.02501940</td></tr>\n",
       "\t<tr><th scope=row>48</th><td>0.001078505</td><td>67</td><td>0.6280287</td><td>0.7953351</td><td>0.02485498</td></tr>\n",
       "\t<tr><th scope=row>49</th><td>0.001066378</td><td>69</td><td>0.6258717</td><td>0.7943402</td><td>0.02486274</td></tr>\n",
       "\t<tr><th scope=row>50</th><td>0.001030387</td><td>70</td><td>0.6248054</td><td>0.7927183</td><td>0.02486548</td></tr>\n",
       "\t<tr><th scope=row>51</th><td>0.001027153</td><td>71</td><td>0.6237750</td><td>0.7947570</td><td>0.02496882</td></tr>\n",
       "\t<tr><th scope=row>52</th><td>0.001009887</td><td>72</td><td>0.6227478</td><td>0.7961042</td><td>0.02498524</td></tr>\n",
       "\t<tr><th scope=row>53</th><td>0.001000000</td><td>73</td><td>0.6217379</td><td>0.7960197</td><td>0.02493581</td></tr>\n",
       "</tbody>\n",
       "</table>\n"
      ],
      "text/latex": [
       "A matrix: 53 × 5 of type dbl\n",
       "\\begin{tabular}{r|lllll}\n",
       "  & CP & nsplit & rel error & xerror & xstd\\\\\n",
       "\\hline\n",
       "\t1 & 0.143782671 &  0 & 1.0000000 & 1.0006385 & 0.02830985\\\\\n",
       "\t2 & 0.033232401 &  1 & 0.8562173 & 0.8583545 & 0.02582850\\\\\n",
       "\t3 & 0.013547061 &  2 & 0.8229849 & 0.8347385 & 0.02565099\\\\\n",
       "\t4 & 0.013100098 &  3 & 0.8094379 & 0.8322688 & 0.02623596\\\\\n",
       "\t5 & 0.012137010 &  4 & 0.7963378 & 0.8296152 & 0.02615622\\\\\n",
       "\t6 & 0.010793911 &  5 & 0.7842008 & 0.8255968 & 0.02592291\\\\\n",
       "\t7 & 0.010780955 &  6 & 0.7734068 & 0.8209575 & 0.02583769\\\\\n",
       "\t8 & 0.007796456 &  7 & 0.7626259 & 0.8132921 & 0.02565316\\\\\n",
       "\t9 & 0.007305074 &  8 & 0.7548294 & 0.8097419 & 0.02559565\\\\\n",
       "\t10 & 0.006327716 &  9 & 0.7475244 & 0.8017226 & 0.02543792\\\\\n",
       "\t11 & 0.006063134 & 10 & 0.7411966 & 0.7997098 & 0.02541913\\\\\n",
       "\t12 & 0.004775456 & 11 & 0.7351335 & 0.7914688 & 0.02526290\\\\\n",
       "\t13 & 0.003941242 & 12 & 0.7303581 & 0.7755933 & 0.02430251\\\\\n",
       "\t14 & 0.003737171 & 13 & 0.7264168 & 0.7728943 & 0.02432760\\\\\n",
       "\t15 & 0.003725247 & 14 & 0.7226796 & 0.7709327 & 0.02424431\\\\\n",
       "\t16 & 0.003702427 & 15 & 0.7189544 & 0.7702922 & 0.02424702\\\\\n",
       "\t17 & 0.003232657 & 17 & 0.7115495 & 0.7697914 & 0.02424519\\\\\n",
       "\t18 & 0.003222053 & 18 & 0.7083169 & 0.7677827 & 0.02434091\\\\\n",
       "\t19 & 0.002556354 & 20 & 0.7018728 & 0.7619422 & 0.02405366\\\\\n",
       "\t20 & 0.002438161 & 23 & 0.6942037 & 0.7716882 & 0.02437314\\\\\n",
       "\t21 & 0.002362721 & 24 & 0.6917656 & 0.7724529 & 0.02440181\\\\\n",
       "\t22 & 0.002293097 & 27 & 0.6846774 & 0.7737601 & 0.02442073\\\\\n",
       "\t23 & 0.001961069 & 28 & 0.6823843 & 0.7717837 & 0.02442477\\\\\n",
       "\t24 & 0.001853106 & 30 & 0.6784622 & 0.7833850 & 0.02488015\\\\\n",
       "\t25 & 0.001759359 & 31 & 0.6766091 & 0.7860544 & 0.02501568\\\\\n",
       "\t26 & 0.001755570 & 32 & 0.6748497 & 0.7858394 & 0.02500739\\\\\n",
       "\t27 & 0.001686507 & 33 & 0.6730941 & 0.7855623 & 0.02495925\\\\\n",
       "\t28 & 0.001637324 & 34 & 0.6714076 & 0.7850723 & 0.02495368\\\\\n",
       "\t29 & 0.001593642 & 36 & 0.6681330 & 0.7868312 & 0.02496195\\\\\n",
       "\t30 & 0.001572273 & 37 & 0.6665393 & 0.7887740 & 0.02502956\\\\\n",
       "\t31 & 0.001517043 & 40 & 0.6618225 & 0.7887880 & 0.02500542\\\\\n",
       "\t32 & 0.001495208 & 41 & 0.6603055 & 0.7890205 & 0.02492562\\\\\n",
       "\t33 & 0.001434461 & 42 & 0.6588103 & 0.7880858 & 0.02492028\\\\\n",
       "\t34 & 0.001401923 & 44 & 0.6559413 & 0.7885685 & 0.02493448\\\\\n",
       "\t35 & 0.001387024 & 45 & 0.6545394 & 0.7886965 & 0.02490070\\\\\n",
       "\t36 & 0.001299634 & 47 & 0.6517654 & 0.7897400 & 0.02492114\\\\\n",
       "\t37 & 0.001298016 & 48 & 0.6504657 & 0.7916690 & 0.02503899\\\\\n",
       "\t38 & 0.001292366 & 50 & 0.6478697 & 0.7915517 & 0.02503836\\\\\n",
       "\t39 & 0.001284244 & 52 & 0.6452850 & 0.7916575 & 0.02503858\\\\\n",
       "\t40 & 0.001268808 & 54 & 0.6427165 & 0.7924782 & 0.02503615\\\\\n",
       "\t41 & 0.001202743 & 55 & 0.6414477 & 0.7951104 & 0.02509153\\\\\n",
       "\t42 & 0.001157934 & 56 & 0.6402449 & 0.7930856 & 0.02503399\\\\\n",
       "\t43 & 0.001122966 & 57 & 0.6390870 & 0.7926675 & 0.02498662\\\\\n",
       "\t44 & 0.001118808 & 59 & 0.6368411 & 0.7939017 & 0.02498640\\\\\n",
       "\t45 & 0.001096306 & 62 & 0.6334846 & 0.7952486 & 0.02501820\\\\\n",
       "\t46 & 0.001091083 & 63 & 0.6323883 & 0.7959506 & 0.02506159\\\\\n",
       "\t47 & 0.001088710 & 65 & 0.6302062 & 0.7944846 & 0.02501940\\\\\n",
       "\t48 & 0.001078505 & 67 & 0.6280287 & 0.7953351 & 0.02485498\\\\\n",
       "\t49 & 0.001066378 & 69 & 0.6258717 & 0.7943402 & 0.02486274\\\\\n",
       "\t50 & 0.001030387 & 70 & 0.6248054 & 0.7927183 & 0.02486548\\\\\n",
       "\t51 & 0.001027153 & 71 & 0.6237750 & 0.7947570 & 0.02496882\\\\\n",
       "\t52 & 0.001009887 & 72 & 0.6227478 & 0.7961042 & 0.02498524\\\\\n",
       "\t53 & 0.001000000 & 73 & 0.6217379 & 0.7960197 & 0.02493581\\\\\n",
       "\\end{tabular}\n"
      ],
      "text/markdown": [
       "\n",
       "A matrix: 53 × 5 of type dbl\n",
       "\n",
       "| <!--/--> | CP | nsplit | rel error | xerror | xstd |\n",
       "|---|---|---|---|---|---|\n",
       "| 1 | 0.143782671 |  0 | 1.0000000 | 1.0006385 | 0.02830985 |\n",
       "| 2 | 0.033232401 |  1 | 0.8562173 | 0.8583545 | 0.02582850 |\n",
       "| 3 | 0.013547061 |  2 | 0.8229849 | 0.8347385 | 0.02565099 |\n",
       "| 4 | 0.013100098 |  3 | 0.8094379 | 0.8322688 | 0.02623596 |\n",
       "| 5 | 0.012137010 |  4 | 0.7963378 | 0.8296152 | 0.02615622 |\n",
       "| 6 | 0.010793911 |  5 | 0.7842008 | 0.8255968 | 0.02592291 |\n",
       "| 7 | 0.010780955 |  6 | 0.7734068 | 0.8209575 | 0.02583769 |\n",
       "| 8 | 0.007796456 |  7 | 0.7626259 | 0.8132921 | 0.02565316 |\n",
       "| 9 | 0.007305074 |  8 | 0.7548294 | 0.8097419 | 0.02559565 |\n",
       "| 10 | 0.006327716 |  9 | 0.7475244 | 0.8017226 | 0.02543792 |\n",
       "| 11 | 0.006063134 | 10 | 0.7411966 | 0.7997098 | 0.02541913 |\n",
       "| 12 | 0.004775456 | 11 | 0.7351335 | 0.7914688 | 0.02526290 |\n",
       "| 13 | 0.003941242 | 12 | 0.7303581 | 0.7755933 | 0.02430251 |\n",
       "| 14 | 0.003737171 | 13 | 0.7264168 | 0.7728943 | 0.02432760 |\n",
       "| 15 | 0.003725247 | 14 | 0.7226796 | 0.7709327 | 0.02424431 |\n",
       "| 16 | 0.003702427 | 15 | 0.7189544 | 0.7702922 | 0.02424702 |\n",
       "| 17 | 0.003232657 | 17 | 0.7115495 | 0.7697914 | 0.02424519 |\n",
       "| 18 | 0.003222053 | 18 | 0.7083169 | 0.7677827 | 0.02434091 |\n",
       "| 19 | 0.002556354 | 20 | 0.7018728 | 0.7619422 | 0.02405366 |\n",
       "| 20 | 0.002438161 | 23 | 0.6942037 | 0.7716882 | 0.02437314 |\n",
       "| 21 | 0.002362721 | 24 | 0.6917656 | 0.7724529 | 0.02440181 |\n",
       "| 22 | 0.002293097 | 27 | 0.6846774 | 0.7737601 | 0.02442073 |\n",
       "| 23 | 0.001961069 | 28 | 0.6823843 | 0.7717837 | 0.02442477 |\n",
       "| 24 | 0.001853106 | 30 | 0.6784622 | 0.7833850 | 0.02488015 |\n",
       "| 25 | 0.001759359 | 31 | 0.6766091 | 0.7860544 | 0.02501568 |\n",
       "| 26 | 0.001755570 | 32 | 0.6748497 | 0.7858394 | 0.02500739 |\n",
       "| 27 | 0.001686507 | 33 | 0.6730941 | 0.7855623 | 0.02495925 |\n",
       "| 28 | 0.001637324 | 34 | 0.6714076 | 0.7850723 | 0.02495368 |\n",
       "| 29 | 0.001593642 | 36 | 0.6681330 | 0.7868312 | 0.02496195 |\n",
       "| 30 | 0.001572273 | 37 | 0.6665393 | 0.7887740 | 0.02502956 |\n",
       "| 31 | 0.001517043 | 40 | 0.6618225 | 0.7887880 | 0.02500542 |\n",
       "| 32 | 0.001495208 | 41 | 0.6603055 | 0.7890205 | 0.02492562 |\n",
       "| 33 | 0.001434461 | 42 | 0.6588103 | 0.7880858 | 0.02492028 |\n",
       "| 34 | 0.001401923 | 44 | 0.6559413 | 0.7885685 | 0.02493448 |\n",
       "| 35 | 0.001387024 | 45 | 0.6545394 | 0.7886965 | 0.02490070 |\n",
       "| 36 | 0.001299634 | 47 | 0.6517654 | 0.7897400 | 0.02492114 |\n",
       "| 37 | 0.001298016 | 48 | 0.6504657 | 0.7916690 | 0.02503899 |\n",
       "| 38 | 0.001292366 | 50 | 0.6478697 | 0.7915517 | 0.02503836 |\n",
       "| 39 | 0.001284244 | 52 | 0.6452850 | 0.7916575 | 0.02503858 |\n",
       "| 40 | 0.001268808 | 54 | 0.6427165 | 0.7924782 | 0.02503615 |\n",
       "| 41 | 0.001202743 | 55 | 0.6414477 | 0.7951104 | 0.02509153 |\n",
       "| 42 | 0.001157934 | 56 | 0.6402449 | 0.7930856 | 0.02503399 |\n",
       "| 43 | 0.001122966 | 57 | 0.6390870 | 0.7926675 | 0.02498662 |\n",
       "| 44 | 0.001118808 | 59 | 0.6368411 | 0.7939017 | 0.02498640 |\n",
       "| 45 | 0.001096306 | 62 | 0.6334846 | 0.7952486 | 0.02501820 |\n",
       "| 46 | 0.001091083 | 63 | 0.6323883 | 0.7959506 | 0.02506159 |\n",
       "| 47 | 0.001088710 | 65 | 0.6302062 | 0.7944846 | 0.02501940 |\n",
       "| 48 | 0.001078505 | 67 | 0.6280287 | 0.7953351 | 0.02485498 |\n",
       "| 49 | 0.001066378 | 69 | 0.6258717 | 0.7943402 | 0.02486274 |\n",
       "| 50 | 0.001030387 | 70 | 0.6248054 | 0.7927183 | 0.02486548 |\n",
       "| 51 | 0.001027153 | 71 | 0.6237750 | 0.7947570 | 0.02496882 |\n",
       "| 52 | 0.001009887 | 72 | 0.6227478 | 0.7961042 | 0.02498524 |\n",
       "| 53 | 0.001000000 | 73 | 0.6217379 | 0.7960197 | 0.02493581 |\n",
       "\n"
      ],
      "text/plain": [
       "   CP          nsplit rel error xerror    xstd      \n",
       "1  0.143782671  0     1.0000000 1.0006385 0.02830985\n",
       "2  0.033232401  1     0.8562173 0.8583545 0.02582850\n",
       "3  0.013547061  2     0.8229849 0.8347385 0.02565099\n",
       "4  0.013100098  3     0.8094379 0.8322688 0.02623596\n",
       "5  0.012137010  4     0.7963378 0.8296152 0.02615622\n",
       "6  0.010793911  5     0.7842008 0.8255968 0.02592291\n",
       "7  0.010780955  6     0.7734068 0.8209575 0.02583769\n",
       "8  0.007796456  7     0.7626259 0.8132921 0.02565316\n",
       "9  0.007305074  8     0.7548294 0.8097419 0.02559565\n",
       "10 0.006327716  9     0.7475244 0.8017226 0.02543792\n",
       "11 0.006063134 10     0.7411966 0.7997098 0.02541913\n",
       "12 0.004775456 11     0.7351335 0.7914688 0.02526290\n",
       "13 0.003941242 12     0.7303581 0.7755933 0.02430251\n",
       "14 0.003737171 13     0.7264168 0.7728943 0.02432760\n",
       "15 0.003725247 14     0.7226796 0.7709327 0.02424431\n",
       "16 0.003702427 15     0.7189544 0.7702922 0.02424702\n",
       "17 0.003232657 17     0.7115495 0.7697914 0.02424519\n",
       "18 0.003222053 18     0.7083169 0.7677827 0.02434091\n",
       "19 0.002556354 20     0.7018728 0.7619422 0.02405366\n",
       "20 0.002438161 23     0.6942037 0.7716882 0.02437314\n",
       "21 0.002362721 24     0.6917656 0.7724529 0.02440181\n",
       "22 0.002293097 27     0.6846774 0.7737601 0.02442073\n",
       "23 0.001961069 28     0.6823843 0.7717837 0.02442477\n",
       "24 0.001853106 30     0.6784622 0.7833850 0.02488015\n",
       "25 0.001759359 31     0.6766091 0.7860544 0.02501568\n",
       "26 0.001755570 32     0.6748497 0.7858394 0.02500739\n",
       "27 0.001686507 33     0.6730941 0.7855623 0.02495925\n",
       "28 0.001637324 34     0.6714076 0.7850723 0.02495368\n",
       "29 0.001593642 36     0.6681330 0.7868312 0.02496195\n",
       "30 0.001572273 37     0.6665393 0.7887740 0.02502956\n",
       "31 0.001517043 40     0.6618225 0.7887880 0.02500542\n",
       "32 0.001495208 41     0.6603055 0.7890205 0.02492562\n",
       "33 0.001434461 42     0.6588103 0.7880858 0.02492028\n",
       "34 0.001401923 44     0.6559413 0.7885685 0.02493448\n",
       "35 0.001387024 45     0.6545394 0.7886965 0.02490070\n",
       "36 0.001299634 47     0.6517654 0.7897400 0.02492114\n",
       "37 0.001298016 48     0.6504657 0.7916690 0.02503899\n",
       "38 0.001292366 50     0.6478697 0.7915517 0.02503836\n",
       "39 0.001284244 52     0.6452850 0.7916575 0.02503858\n",
       "40 0.001268808 54     0.6427165 0.7924782 0.02503615\n",
       "41 0.001202743 55     0.6414477 0.7951104 0.02509153\n",
       "42 0.001157934 56     0.6402449 0.7930856 0.02503399\n",
       "43 0.001122966 57     0.6390870 0.7926675 0.02498662\n",
       "44 0.001118808 59     0.6368411 0.7939017 0.02498640\n",
       "45 0.001096306 62     0.6334846 0.7952486 0.02501820\n",
       "46 0.001091083 63     0.6323883 0.7959506 0.02506159\n",
       "47 0.001088710 65     0.6302062 0.7944846 0.02501940\n",
       "48 0.001078505 67     0.6280287 0.7953351 0.02485498\n",
       "49 0.001066378 69     0.6258717 0.7943402 0.02486274\n",
       "50 0.001030387 70     0.6248054 0.7927183 0.02486548\n",
       "51 0.001027153 71     0.6237750 0.7947570 0.02496882\n",
       "52 0.001009887 72     0.6227478 0.7961042 0.02498524\n",
       "53 0.001000000 73     0.6217379 0.7960197 0.02493581"
      ]
     },
     "metadata": {},
     "output_type": "display_data"
    }
   ],
   "source": [
    "fit.trees$cptable"
   ]
  },
  {
   "cell_type": "code",
   "execution_count": 19,
   "metadata": {
    "execution": {
     "iopub.execute_input": "2021-02-13T18:20:10.427847Z",
     "iopub.status.busy": "2021-02-13T18:20:10.426526Z",
     "iopub.status.idle": "2021-02-13T18:20:10.445546Z",
     "shell.execute_reply": "2021-02-13T18:20:10.443834Z"
    },
    "papermill": {
     "duration": 0.070106,
     "end_time": "2021-02-13T18:20:10.445828",
     "exception": false,
     "start_time": "2021-02-13T18:20:10.375722",
     "status": "completed"
    },
    "tags": []
   },
   "outputs": [
    {
     "data": {
      "text/html": [
       "0.00255635359187592"
      ],
      "text/latex": [
       "0.00255635359187592"
      ],
      "text/markdown": [
       "0.00255635359187592"
      ],
      "text/plain": [
       "[1] 0.002556354"
      ]
     },
     "metadata": {},
     "output_type": "display_data"
    }
   ],
   "source": [
    "bestcp<- fit.trees$cptable[which.min(fit.trees$cptable[,\"xerror\"]),\"CP\"]\n",
    "bestcp"
   ]
  },
  {
   "cell_type": "markdown",
   "metadata": {
    "papermill": {
     "duration": 0.047157,
     "end_time": "2021-02-13T18:20:10.540327",
     "exception": false,
     "start_time": "2021-02-13T18:20:10.493170",
     "status": "completed"
    },
    "tags": []
   },
   "source": [
    "Now, we can prune the tree and visualize the prediction rule."
   ]
  },
  {
   "cell_type": "code",
   "execution_count": 20,
   "metadata": {
    "execution": {
     "iopub.execute_input": "2021-02-13T18:20:10.642192Z",
     "iopub.status.busy": "2021-02-13T18:20:10.640249Z",
     "iopub.status.idle": "2021-02-13T18:20:11.131307Z",
     "shell.execute_reply": "2021-02-13T18:20:11.130922Z"
    },
    "papermill": {
     "duration": 0.543483,
     "end_time": "2021-02-13T18:20:11.131455",
     "exception": false,
     "start_time": "2021-02-13T18:20:10.587972",
     "status": "completed"
    },
    "tags": []
   },
   "outputs": [
    {
     "name": "stdout",
     "output_type": "stream",
     "text": [
      "cex 0.438   xlim c(0, 1)   ylim c(0, 1)\n"
     ]
    },
    {
     "data": {
      "image/png": "[encoded data removed]"
     },
     "metadata": {
      "image/png": {
       "height": 420,
       "width": 420
      }
     },
     "output_type": "display_data"
    }
   ],
   "source": [
    "fit.prunedtree <- prune(fit.trees,cp=bestcp)\n",
    "prp(fit.prunedtree,leaf.round=1, space=3, yspace=3, split.space=7, shadow.col = \"gray\",trace = 1,yesno=1)"
   ]
  },
  {
   "cell_type": "markdown",
   "metadata": {
    "papermill": {
     "duration": 0.052169,
     "end_time": "2021-02-13T18:20:11.234467",
     "exception": false,
     "start_time": "2021-02-13T18:20:11.182298",
     "status": "completed"
    },
    "tags": []
   },
   "source": [
    "E.g., in the pruned tree the predicted hourly log wage for high-school graduates with more than $9.5$ years of experience is $2.8$, and otherwise is $2.6$."
   ]
  },
  {
   "cell_type": "markdown",
   "metadata": {
    "papermill": {
     "duration": 0.04994,
     "end_time": "2021-02-13T18:20:11.334448",
     "exception": false,
     "start_time": "2021-02-13T18:20:11.284508",
     "status": "completed"
    },
    "tags": []
   },
   "source": [
    "Finally, we calculate the mean-squared error and the $R^2$ on the test sample to evaluate the out-of-sample performance of the pruned tree."
   ]
  },
  {
   "cell_type": "code",
   "execution_count": 21,
   "metadata": {
    "execution": {
     "iopub.execute_input": "2021-02-13T18:20:11.440337Z",
     "iopub.status.busy": "2021-02-13T18:20:11.438623Z",
     "iopub.status.idle": "2021-02-13T18:20:11.463531Z",
     "shell.execute_reply": "2021-02-13T18:20:11.461981Z"
    },
    "papermill": {
     "duration": 0.079534,
     "end_time": "2021-02-13T18:20:11.463701",
     "exception": false,
     "start_time": "2021-02-13T18:20:11.384167",
     "status": "completed"
    },
    "tags": []
   },
   "outputs": [
    {
     "name": "stdout",
     "output_type": "stream",
     "text": [
      "R^2 of the pruned tree: 0.2238947"
     ]
    }
   ],
   "source": [
    "yhat.pt <- predict(fit.prunedtree,newdata=data_test)\n",
    "MSE.pt <- summary(lm((Y_test-yhat.pt)^2~1))$coef[1:2]\n",
    "R2.pt  <- 1-MSE.pt[1]/var(Y_test)\n",
    "\n",
    "# R^2 of the pruned tree\n",
    "cat(\"R^2 of the pruned tree:\",R2.pt)"
   ]
  },
  {
   "cell_type": "markdown",
   "metadata": {
    "papermill": {
     "duration": 0.052287,
     "end_time": "2021-02-13T18:20:11.566330",
     "exception": false,
     "start_time": "2021-02-13T18:20:11.514043",
     "status": "completed"
    },
    "tags": []
   },
   "source": [
    "### Random Forest and Boosted Trees"
   ]
  },
  {
   "cell_type": "markdown",
   "metadata": {
    "papermill": {
     "duration": 0.050794,
     "end_time": "2021-02-13T18:20:11.667980",
     "exception": false,
     "start_time": "2021-02-13T18:20:11.617186",
     "status": "completed"
    },
    "tags": []
   },
   "source": [
    "In the next step, we apply the more advanced tree-based methods random forest and boosted trees."
   ]
  },
  {
   "cell_type": "code",
   "execution_count": 22,
   "metadata": {
    "execution": {
     "iopub.execute_input": "2021-02-13T18:20:11.776249Z",
     "iopub.status.busy": "2021-02-13T18:20:11.775630Z",
     "iopub.status.idle": "2021-02-13T18:21:08.396208Z",
     "shell.execute_reply": "2021-02-13T18:21:08.394839Z"
    },
    "papermill": {
     "duration": 56.677891,
     "end_time": "2021-02-13T18:21:08.396363",
     "exception": false,
     "start_time": "2021-02-13T18:20:11.718472",
     "status": "completed"
    },
    "tags": []
   },
   "outputs": [
    {
     "name": "stderr",
     "output_type": "stream",
     "text": [
      "OOB generally underestimates the optimal number of iterations although predictive performance is reasonably competitive. Using cv_folds>1 when calling gbm usually results in improved predictive performance.\n",
      "\n"
     ]
    },
    {
     "name": "stdout",
     "output_type": "stream",
     "text": [
      "R^2 of the random forest and boosted trees: 0.2695651 0.2786383"
     ]
    }
   ],
   "source": [
    "## Applying the methods\n",
    "# random forest\n",
    "fit.rf       <- randomForest(formula_basic, ntree=2000, nodesize=5, data=data_train)\n",
    "# for tuning: adjust input \"mtry\" to change the number of variables randomly sampled as candidates at each split\n",
    "\n",
    "# boosting\n",
    "fit.boost   <- gbm(formula_basic, data=data_train, distribution= \"gaussian\", bag.fraction = .5, interaction.depth=2, n.trees=1000, shrinkage=.01)\n",
    "best.boost  <- gbm.perf(fit.boost, plot.it = FALSE) # cross-validation to determine when to stop\n",
    "\n",
    "## Evaluating the methods\n",
    "yhat.rf       <- predict(fit.rf, newdata=data_test) # prediction\n",
    "yhat.boost    <- predict(fit.boost, newdata=data_test, n.trees=best.boost)\n",
    "\n",
    "MSE.rf       = summary(lm((Y_test-yhat.rf)^2~1))$coef[1:2]\n",
    "MSE.boost    = summary(lm((Y_test-yhat.boost)^2~1))$coef[1:2]\n",
    "R2.rf  <- 1-MSE.rf[1]/var(Y_test)\n",
    "R2.boost  <- 1-MSE.boost[1]/var(Y_test)\n",
    "\n",
    "# printing R^2\n",
    "cat(\"R^2 of the random forest and boosted trees:\",R2.rf,R2.boost)\n"
   ]
  },
  {
   "cell_type": "markdown",
   "metadata": {
    "papermill": {
     "duration": 0.051225,
     "end_time": "2021-02-13T18:21:08.500313",
     "exception": false,
     "start_time": "2021-02-13T18:21:08.449088",
     "status": "completed"
    },
    "tags": []
   },
   "source": [
    "To conclude, let us have a look at our results."
   ]
  },
  {
   "cell_type": "markdown",
   "metadata": {
    "papermill": {
     "duration": 0.052403,
     "end_time": "2021-02-13T18:21:08.603976",
     "exception": false,
     "start_time": "2021-02-13T18:21:08.551573",
     "status": "completed"
    },
    "tags": []
   },
   "source": [
    "## Results"
   ]
  },
  {
   "cell_type": "code",
   "execution_count": 23,
   "metadata": {
    "execution": {
     "iopub.execute_input": "2021-02-13T18:21:08.713334Z",
     "iopub.status.busy": "2021-02-13T18:21:08.711841Z",
     "iopub.status.idle": "2021-02-13T18:21:08.823320Z",
     "shell.execute_reply": "2021-02-13T18:21:08.822357Z"
    },
    "papermill": {
     "duration": 0.167847,
     "end_time": "2021-02-13T18:21:08.823485",
     "exception": false,
     "start_time": "2021-02-13T18:21:08.655638",
     "status": "completed"
    },
    "tags": []
   },
   "outputs": [
    {
     "name": "stdout",
     "output_type": "stream",
     "text": [
      "% latex table generated in R 3.6.3 by xtable 1.8-4 package\n",
      "% Sat Feb 13 18:21:08 2021\n",
      "\\begin{table}[ht]\n",
      "\\centering\n",
      "\\begin{tabular}{rrrr}\n",
      "  \\hline\n",
      " & MSE & S.E. for MSE & R-squared \\\\ \n",
      "  \\hline\n",
      "Least Squares (basic) & 0.229 & 0.016 & 0.282 \\\\ \n",
      "  Least Squares (flexible) & 0.243 & 0.016 & 0.238 \\\\ \n",
      "  Lasso & 0.234 & 0.015 & 0.267 \\\\ \n",
      "  Post-Lasso & 0.233 & 0.015 & 0.271 \\\\ \n",
      "  Lasso (flexible) & 0.235 & 0.015 & 0.265 \\\\ \n",
      "  Post-Lasso (flexible) & 0.236 & 0.016 & 0.261 \\\\ \n",
      "  Cross-Validated lasso & 0.229 & 0.015 & 0.282 \\\\ \n",
      "  Cross-Validated ridge & 0.234 & 0.015 & 0.267 \\\\ \n",
      "  Cross-Validated elnet & 0.230 & 0.015 & 0.280 \\\\ \n",
      "  Cross-Validated lasso (flexible) & 0.232 & 0.015 & 0.275 \\\\ \n",
      "  Cross-Validated ridge (flexible) & 0.233 & 0.015 & 0.271 \\\\ \n",
      "  Cross-Validated elnet (flexible) & 0.231 & 0.015 & 0.276 \\\\ \n",
      "  Random Forest & 0.233 & 0.015 & 0.270 \\\\ \n",
      "  Boosted Trees & 0.230 & 0.015 & 0.279 \\\\ \n",
      "  Pruned Tree & 0.248 & 0.016 & 0.224 \\\\ \n",
      "   \\hline\n",
      "\\end{tabular}\n",
      "\\end{table}\n"
     ]
    },
    {
     "data": {
      "text/html": [
       "<table class=\"dataframe\">\n",
       "<caption>A xtable: 15 × 3</caption>\n",
       "<thead>\n",
       "\t<tr><th></th><th scope=col>MSE</th><th scope=col>S.E. for MSE</th><th scope=col>R-squared</th></tr>\n",
       "\t<tr><th></th><th scope=col>&lt;dbl&gt;</th><th scope=col>&lt;dbl&gt;</th><th scope=col>&lt;dbl&gt;</th></tr>\n",
       "</thead>\n",
       "<tbody>\n",
       "\t<tr><th scope=row>Least Squares (basic)</th><td>0.2293541</td><td>0.01564666</td><td>0.2819899</td></tr>\n",
       "\t<tr><th scope=row>Least Squares (flexible)</th><td>0.2433034</td><td>0.01582928</td><td>0.2383204</td></tr>\n",
       "\t<tr><th scope=row>Lasso</th><td>0.2340035</td><td>0.01515122</td><td>0.2674345</td></tr>\n",
       "\t<tr><th scope=row>Post-Lasso</th><td>0.2329644</td><td>0.01549996</td><td>0.2706874</td></tr>\n",
       "\t<tr><th scope=row>Lasso (flexible)</th><td>0.2346835</td><td>0.01512532</td><td>0.2653058</td></tr>\n",
       "\t<tr><th scope=row>Post-Lasso (flexible)</th><td>0.2359083</td><td>0.01560299</td><td>0.2614714</td></tr>\n",
       "\t<tr><th scope=row>Cross-Validated lasso</th><td>0.2291960</td><td>0.01546289</td><td>0.2824847</td></tr>\n",
       "\t<tr><th scope=row>Cross-Validated ridge</th><td>0.2341582</td><td>0.01534611</td><td>0.2669501</td></tr>\n",
       "\t<tr><th scope=row>Cross-Validated elnet</th><td>0.2298651</td><td>0.01543630</td><td>0.2803900</td></tr>\n",
       "\t<tr><th scope=row>Cross-Validated lasso (flexible)</th><td>0.2315499</td><td>0.01540925</td><td>0.2751157</td></tr>\n",
       "\t<tr><th scope=row>Cross-Validated ridge (flexible)</th><td>0.2328430</td><td>0.01541643</td><td>0.2710676</td></tr>\n",
       "\t<tr><th scope=row>Cross-Validated elnet (flexible)</th><td>0.2312225</td><td>0.01545404</td><td>0.2761405</td></tr>\n",
       "\t<tr><th scope=row>Random Forest</th><td>0.2333229</td><td>0.01512040</td><td>0.2695651</td></tr>\n",
       "\t<tr><th scope=row>Boosted Trees</th><td>0.2304247</td><td>0.01466382</td><td>0.2786383</td></tr>\n",
       "\t<tr><th scope=row>Pruned Tree</th><td>0.2479114</td><td>0.01586478</td><td>0.2238947</td></tr>\n",
       "</tbody>\n",
       "</table>\n"
      ],
      "text/latex": [
       "A xtable: 15 × 3\n",
       "\\begin{tabular}{r|lll}\n",
       "  & MSE & S.E. for MSE & R-squared\\\\\n",
       "  & <dbl> & <dbl> & <dbl>\\\\\n",
       "\\hline\n",
       "\tLeast Squares (basic) & 0.2293541 & 0.01564666 & 0.2819899\\\\\n",
       "\tLeast Squares (flexible) & 0.2433034 & 0.01582928 & 0.2383204\\\\\n",
       "\tLasso & 0.2340035 & 0.01515122 & 0.2674345\\\\\n",
       "\tPost-Lasso & 0.2329644 & 0.01549996 & 0.2706874\\\\\n",
       "\tLasso (flexible) & 0.2346835 & 0.01512532 & 0.2653058\\\\\n",
       "\tPost-Lasso (flexible) & 0.2359083 & 0.01560299 & 0.2614714\\\\\n",
       "\tCross-Validated lasso & 0.2291960 & 0.01546289 & 0.2824847\\\\\n",
       "\tCross-Validated ridge & 0.2341582 & 0.01534611 & 0.2669501\\\\\n",
       "\tCross-Validated elnet & 0.2298651 & 0.01543630 & 0.2803900\\\\\n",
       "\tCross-Validated lasso (flexible) & 0.2315499 & 0.01540925 & 0.2751157\\\\\n",
       "\tCross-Validated ridge (flexible) & 0.2328430 & 0.01541643 & 0.2710676\\\\\n",
       "\tCross-Validated elnet (flexible) & 0.2312225 & 0.01545404 & 0.2761405\\\\\n",
       "\tRandom Forest & 0.2333229 & 0.01512040 & 0.2695651\\\\\n",
       "\tBoosted Trees & 0.2304247 & 0.01466382 & 0.2786383\\\\\n",
       "\tPruned Tree & 0.2479114 & 0.01586478 & 0.2238947\\\\\n",
       "\\end{tabular}\n"
      ],
      "text/markdown": [
       "\n",
       "A xtable: 15 × 3\n",
       "\n",
       "| <!--/--> | MSE &lt;dbl&gt; | S.E. for MSE &lt;dbl&gt; | R-squared &lt;dbl&gt; |\n",
       "|---|---|---|---|\n",
       "| Least Squares (basic) | 0.2293541 | 0.01564666 | 0.2819899 |\n",
       "| Least Squares (flexible) | 0.2433034 | 0.01582928 | 0.2383204 |\n",
       "| Lasso | 0.2340035 | 0.01515122 | 0.2674345 |\n",
       "| Post-Lasso | 0.2329644 | 0.01549996 | 0.2706874 |\n",
       "| Lasso (flexible) | 0.2346835 | 0.01512532 | 0.2653058 |\n",
       "| Post-Lasso (flexible) | 0.2359083 | 0.01560299 | 0.2614714 |\n",
       "| Cross-Validated lasso | 0.2291960 | 0.01546289 | 0.2824847 |\n",
       "| Cross-Validated ridge | 0.2341582 | 0.01534611 | 0.2669501 |\n",
       "| Cross-Validated elnet | 0.2298651 | 0.01543630 | 0.2803900 |\n",
       "| Cross-Validated lasso (flexible) | 0.2315499 | 0.01540925 | 0.2751157 |\n",
       "| Cross-Validated ridge (flexible) | 0.2328430 | 0.01541643 | 0.2710676 |\n",
       "| Cross-Validated elnet (flexible) | 0.2312225 | 0.01545404 | 0.2761405 |\n",
       "| Random Forest | 0.2333229 | 0.01512040 | 0.2695651 |\n",
       "| Boosted Trees | 0.2304247 | 0.01466382 | 0.2786383 |\n",
       "| Pruned Tree | 0.2479114 | 0.01586478 | 0.2238947 |\n",
       "\n"
      ],
      "text/plain": [
       "                                 MSE       S.E. for MSE R-squared\n",
       "Least Squares (basic)            0.2293541 0.01564666   0.2819899\n",
       "Least Squares (flexible)         0.2433034 0.01582928   0.2383204\n",
       "Lasso                            0.2340035 0.01515122   0.2674345\n",
       "Post-Lasso                       0.2329644 0.01549996   0.2706874\n",
       "Lasso (flexible)                 0.2346835 0.01512532   0.2653058\n",
       "Post-Lasso (flexible)            0.2359083 0.01560299   0.2614714\n",
       "Cross-Validated lasso            0.2291960 0.01546289   0.2824847\n",
       "Cross-Validated ridge            0.2341582 0.01534611   0.2669501\n",
       "Cross-Validated elnet            0.2298651 0.01543630   0.2803900\n",
       "Cross-Validated lasso (flexible) 0.2315499 0.01540925   0.2751157\n",
       "Cross-Validated ridge (flexible) 0.2328430 0.01541643   0.2710676\n",
       "Cross-Validated elnet (flexible) 0.2312225 0.01545404   0.2761405\n",
       "Random Forest                    0.2333229 0.01512040   0.2695651\n",
       "Boosted Trees                    0.2304247 0.01466382   0.2786383\n",
       "Pruned Tree                      0.2479114 0.01586478   0.2238947"
      ]
     },
     "metadata": {},
     "output_type": "display_data"
    }
   ],
   "source": [
    "library(xtable)\n",
    "table<- matrix(0, 15, 3)\n",
    "table[1,1:2]   <- MSE.lm.basic\n",
    "table[2,1:2]   <- MSE.lm.flex\n",
    "table[3,1:2]   <- MSE.lasso\n",
    "table[4,1:2]   <- MSE.lasso.post\n",
    "table[5,1:2]   <- MSE.lasso.flex\n",
    "table[6,1:2]   <- MSE.lasso.post.flex\n",
    "table[7,1:2]   <- MSE.lasso.cv\n",
    "table[8,1:2]   <- MSE.ridge\n",
    "table[9,1:2]   <- MSE.elnet\n",
    "table[10,1:2]   <- MSE.lasso.cv.flex\n",
    "table[11,1:2]  <- MSE.ridge.flex\n",
    "table[12,1:2]  <- MSE.elnet.flex\n",
    "table[13,1:2]  <- MSE.rf\n",
    "table[14,1:2]  <- MSE.boost\n",
    "table[15,1:2]  <- MSE.pt\n",
    "\n",
    "\n",
    "\n",
    "table[1,3]   <- R2.lm.basic\n",
    "table[2,3]   <- R2.lm.flex\n",
    "table[3,3]   <- R2.lasso\n",
    "table[4,3]   <- R2.lasso.post\n",
    "table[5,3]   <- R2.lasso.flex\n",
    "table[6,3]   <- R2.lasso.post.flex\n",
    "table[7,3]   <- R2.lasso.cv\n",
    "table[8,3]   <- R2.ridge\n",
    "table[9,3]   <- R2.elnet\n",
    "table[10,3]   <- R2.lasso.cv.flex\n",
    "table[11,3]  <- R2.ridge.flex\n",
    "table[12,3]  <- R2.elnet.flex\n",
    "table[13,3]  <- R2.rf\n",
    "table[14,3]  <- R2.boost\n",
    "table[15,3]  <- R2.pt\n",
    "\n",
    "\n",
    "\n",
    "\n",
    "colnames(table)<- c(\"MSE\", \"S.E. for MSE\", \"R-squared\")\n",
    "rownames(table)<- c(\"Least Squares (basic)\",\"Least Squares (flexible)\", \"Lasso\", \"Post-Lasso\",\"Lasso (flexible)\",\"Post-Lasso (flexible)\", \n",
    "                    \"Cross-Validated lasso\", \"Cross-Validated ridge\",\"Cross-Validated elnet\",\"Cross-Validated lasso (flexible)\",\"Cross-Validated ridge (flexible)\",\"Cross-Validated elnet (flexible)\",  \n",
    "                    \"Random Forest\",\"Boosted Trees\", \"Pruned Tree\")\n",
    "tab <- xtable(table, digits =3)\n",
    "print(tab,type=\"latex\") # set type=\"latex\" for printing table in LaTeX\n",
    "tab"
   ]
  },
  {
   "cell_type": "markdown",
   "metadata": {
    "papermill": {
     "duration": 0.052897,
     "end_time": "2021-02-13T18:21:08.930888",
     "exception": false,
     "start_time": "2021-02-13T18:21:08.877991",
     "status": "completed"
    },
    "tags": []
   },
   "source": [
    "Above, we displayed the results for a single split of data into the training and testing part. The table shows the test MSE in column 1 as well as the standard error in column 2 and the test $R^2$\n",
    "in column 3. We see that the prediction rule produced by Elastic Net using the flexible model performs the best here, giving the lowest test MSE. Cross-Validated Lasso and Ridge, perform nearly as well. For any two of these methods, their testing MSEs are within one standard error of each other. Remarkably, OLS on a simple model performs extremely well, almost as well as best tree based method Random Forest. On the other hand, OLS on a flexible model with many regressors performs very poorly giving the highest test MSE. It is worth to notice that the nonlinear models, e.g. Random Forest, are not tuned. Thus, there is a lot of potential to improve the performance of the nonlinear methods we used in the analysis."
   ]
  },
  {
   "cell_type": "markdown",
   "metadata": {
    "papermill": {
     "duration": 0.052594,
     "end_time": "2021-02-13T18:21:09.036009",
     "exception": false,
     "start_time": "2021-02-13T18:21:08.983415",
     "status": "completed"
    },
    "tags": []
   },
   "source": [
    "### Ensemble learning"
   ]
  },
  {
   "cell_type": "markdown",
   "metadata": {
    "papermill": {
     "duration": 0.053134,
     "end_time": "2021-02-13T18:21:09.146558",
     "exception": false,
     "start_time": "2021-02-13T18:21:09.093424",
     "status": "completed"
    },
    "tags": []
   },
   "source": [
    "In the final step, we can build a prediction model by combing the strengths of the models we considered so far. This ensemble method is of the form\n",
    "\t$$ f(x) = \\sum_{k=1}^K \\alpha_k f_k(x) $$\n",
    "where the $f_k$'s denote our prediction rules from the table above and the $\\alpha_k$'s are the corresponding weights."
   ]
  },
  {
   "cell_type": "markdown",
   "metadata": {
    "papermill": {
     "duration": 0.053696,
     "end_time": "2021-02-13T18:21:09.254342",
     "exception": false,
     "start_time": "2021-02-13T18:21:09.200646",
     "status": "completed"
    },
    "tags": []
   },
   "source": [
    "We focus on the prediction rules based on OLS, Post-Lasso, Elastic Net, Pruned Tree, Random Forest, Boosted Trees, and Neural Network and combine these methods into an ensemble method. The weights can be determined by a simple ols regression:"
   ]
  },
  {
   "cell_type": "code",
   "execution_count": 24,
   "metadata": {
    "execution": {
     "iopub.execute_input": "2021-02-13T18:21:09.366397Z",
     "iopub.status.busy": "2021-02-13T18:21:09.365233Z",
     "iopub.status.idle": "2021-02-13T18:21:09.388494Z",
     "shell.execute_reply": "2021-02-13T18:21:09.387115Z"
    },
    "papermill": {
     "duration": 0.079851,
     "end_time": "2021-02-13T18:21:09.388686",
     "exception": false,
     "start_time": "2021-02-13T18:21:09.308835",
     "status": "completed"
    },
    "tags": []
   },
   "outputs": [
    {
     "data": {
      "text/plain": [
       "\n",
       "Call:\n",
       "lm(formula = Y_test ~ yhat.lm.basic + yhat.rlasso.post.flex + \n",
       "    yhat.elnet.flex + yhat.pt + yhat.rf + yhat.boost)\n",
       "\n",
       "Residuals:\n",
       "    Min      1Q  Median      3Q     Max \n",
       "-1.8520 -0.2848 -0.0067  0.2648  3.5151 \n",
       "\n",
       "Coefficients:\n",
       "                      Estimate Std. Error t value Pr(>|t|)    \n",
       "(Intercept)           -0.16216    0.18693  -0.867 0.385835    \n",
       "yhat.lm.basic          0.28137    0.14874   1.892 0.058755 .  \n",
       "yhat.rlasso.post.flex  0.23709    0.17873   1.327 0.184904    \n",
       "yhat.elnet.flex       -0.06780    0.28979  -0.234 0.815055    \n",
       "yhat.pt               -0.13990    0.10440  -1.340 0.180496    \n",
       "yhat.rf                0.37694    0.09861   3.823 0.000138 ***\n",
       "yhat.boost             0.36707    0.18497   1.985 0.047412 *  \n",
       "---\n",
       "Signif. codes:  0 ‘***’ 0.001 ‘**’ 0.01 ‘*’ 0.05 ‘.’ 0.1 ‘ ’ 1\n",
       "\n",
       "Residual standard error: 0.4735 on 1281 degrees of freedom\n",
       "Multiple R-squared:  0.3013,\tAdjusted R-squared:  0.298 \n",
       "F-statistic: 92.07 on 6 and 1281 DF,  p-value: < 2.2e-16\n"
      ]
     },
     "metadata": {},
     "output_type": "display_data"
    }
   ],
   "source": [
    "ensemble.ols <- summary(lm(Y_test~ yhat.lm.basic + yhat.rlasso.post.flex + yhat.elnet.flex+ yhat.pt+ yhat.rf + yhat.boost))\n",
    "ensemble.ols"
   ]
  },
  {
   "cell_type": "markdown",
   "metadata": {
    "papermill": {
     "duration": 0.054822,
     "end_time": "2021-02-13T18:21:09.498067",
     "exception": false,
     "start_time": "2021-02-13T18:21:09.443245",
     "status": "completed"
    },
    "tags": []
   },
   "source": [
    "Alternatively, we can determine the weights via lasso regression. "
   ]
  },
  {
   "cell_type": "code",
   "execution_count": 25,
   "metadata": {
    "execution": {
     "iopub.execute_input": "2021-02-13T18:21:09.610555Z",
     "iopub.status.busy": "2021-02-13T18:21:09.609156Z",
     "iopub.status.idle": "2021-02-13T18:21:09.726901Z",
     "shell.execute_reply": "2021-02-13T18:21:09.725489Z"
    },
    "papermill": {
     "duration": 0.175196,
     "end_time": "2021-02-13T18:21:09.727077",
     "exception": false,
     "start_time": "2021-02-13T18:21:09.551881",
     "status": "completed"
    },
    "tags": []
   },
   "outputs": [
    {
     "name": "stdout",
     "output_type": "stream",
     "text": [
      "\n",
      "Call:\n",
      "rlasso.formula(formula = Y_test ~ yhat.lm.basic + yhat.rlasso.post.flex + \n",
      "    yhat.elnet.flex + yhat.pt + yhat.rf + yhat.boost)\n",
      "\n",
      "Post-Lasso Estimation:  TRUE \n",
      "\n",
      "Total number of variables: 6\n",
      "Number of selected variables: 5 \n",
      "\n",
      "Residuals: \n",
      "      Min        1Q    Median        3Q       Max \n",
      "-1.853465 -0.282571 -0.005527  0.263961  3.548724 \n",
      "\n",
      "                      Estimate\n",
      "(Intercept)             -0.147\n",
      "yhat.lm.basic            0.293\n",
      "yhat.rlasso.post.flex    0.223\n",
      "yhat.elnet.flex         -0.056\n",
      "yhat.pt                  0.000\n",
      "yhat.rf                  0.344\n",
      "yhat.boost               0.245\n",
      "\n",
      "Residual standard error: 0.4728\n",
      "Multiple R-squared:  0.3003\n",
      "Adjusted R-squared:  0.2976\n",
      "Joint significance test:\n",
      " the sup score statistic for joint significance test is  3.53 with a p-value of  0.04\n"
     ]
    },
    {
     "data": {
      "text/plain": [
       "\n",
       "Call:\n",
       "rlasso.formula(formula = Y_test ~ yhat.lm.basic + yhat.rlasso.post.flex + \n",
       "    yhat.elnet.flex + yhat.pt + yhat.rf + yhat.boost)\n",
       "\n",
       "Coefficients:\n",
       "          (Intercept)          yhat.lm.basic  yhat.rlasso.post.flex  \n",
       "              -0.1469                 0.2931                 0.2229  \n",
       "      yhat.elnet.flex                yhat.pt                yhat.rf  \n",
       "              -0.0555                 0.0000                 0.3441  \n",
       "           yhat.boost  \n",
       "               0.2453  \n"
      ]
     },
     "metadata": {},
     "output_type": "display_data"
    }
   ],
   "source": [
    "ensemble.lasso <- summary(rlasso(Y_test~ yhat.lm.basic + yhat.rlasso.post.flex + yhat.elnet.flex+ yhat.pt+ yhat.rf + yhat.boost))\n",
    "ensemble.lasso"
   ]
  },
  {
   "cell_type": "markdown",
   "metadata": {
    "papermill": {
     "duration": 0.055874,
     "end_time": "2021-02-13T18:21:09.838636",
     "exception": false,
     "start_time": "2021-02-13T18:21:09.782762",
     "status": "completed"
    },
    "tags": []
   },
   "source": [
    "The estimated weights are shown in the following table."
   ]
  },
  {
   "cell_type": "code",
   "execution_count": 26,
   "metadata": {
    "execution": {
     "iopub.execute_input": "2021-02-13T18:21:09.957249Z",
     "iopub.status.busy": "2021-02-13T18:21:09.956737Z",
     "iopub.status.idle": "2021-02-13T18:21:09.988806Z",
     "shell.execute_reply": "2021-02-13T18:21:09.987757Z"
    },
    "papermill": {
     "duration": 0.094431,
     "end_time": "2021-02-13T18:21:09.988946",
     "exception": false,
     "start_time": "2021-02-13T18:21:09.894515",
     "status": "completed"
    },
    "tags": []
   },
   "outputs": [
    {
     "name": "stdout",
     "output_type": "stream",
     "text": [
      "% latex table generated in R 3.6.3 by xtable 1.8-4 package\n",
      "% Sat Feb 13 18:21:09 2021\n",
      "\\begin{table}[ht]\n",
      "\\centering\n",
      "\\begin{tabular}{rrr}\n",
      "  \\hline\n",
      " & Weight OLS & Weight Lasso \\\\ \n",
      "  \\hline\n",
      "Constant & -0.162 & -0.147 \\\\ \n",
      "  Least Squares (basic) & 0.281 & 0.293 \\\\ \n",
      "  Post-Lasso (flexible) & 0.237 & 0.223 \\\\ \n",
      "  Cross-Validated elnet (flexible) & -0.068 & -0.056 \\\\ \n",
      "  Pruned Tree & -0.140 & 0.000 \\\\ \n",
      "  Random Forest & 0.377 & 0.344 \\\\ \n",
      "  Boosted Trees & 0.367 & 0.245 \\\\ \n",
      "   \\hline\n",
      "\\end{tabular}\n",
      "\\end{table}\n"
     ]
    },
    {
     "data": {
      "text/html": [
       "<table class=\"dataframe\">\n",
       "<caption>A xtable: 7 × 2</caption>\n",
       "<thead>\n",
       "\t<tr><th></th><th scope=col>Weight OLS</th><th scope=col>Weight Lasso</th></tr>\n",
       "\t<tr><th></th><th scope=col>&lt;dbl&gt;</th><th scope=col>&lt;dbl&gt;</th></tr>\n",
       "</thead>\n",
       "<tbody>\n",
       "\t<tr><th scope=row>Constant</th><td>-0.16216323</td><td>-0.14687746</td></tr>\n",
       "\t<tr><th scope=row>Least Squares (basic)</th><td> 0.28137447</td><td> 0.29306223</td></tr>\n",
       "\t<tr><th scope=row>Post-Lasso (flexible)</th><td> 0.23709009</td><td> 0.22287842</td></tr>\n",
       "\t<tr><th scope=row>Cross-Validated elnet (flexible)</th><td>-0.06779791</td><td>-0.05550462</td></tr>\n",
       "\t<tr><th scope=row>Pruned Tree</th><td>-0.13989808</td><td> 0.00000000</td></tr>\n",
       "\t<tr><th scope=row>Random Forest</th><td> 0.37694246</td><td> 0.34410087</td></tr>\n",
       "\t<tr><th scope=row>Boosted Trees</th><td> 0.36707275</td><td> 0.24526815</td></tr>\n",
       "</tbody>\n",
       "</table>\n"
      ],
      "text/latex": [
       "A xtable: 7 × 2\n",
       "\\begin{tabular}{r|ll}\n",
       "  & Weight OLS & Weight Lasso\\\\\n",
       "  & <dbl> & <dbl>\\\\\n",
       "\\hline\n",
       "\tConstant & -0.16216323 & -0.14687746\\\\\n",
       "\tLeast Squares (basic) &  0.28137447 &  0.29306223\\\\\n",
       "\tPost-Lasso (flexible) &  0.23709009 &  0.22287842\\\\\n",
       "\tCross-Validated elnet (flexible) & -0.06779791 & -0.05550462\\\\\n",
       "\tPruned Tree & -0.13989808 &  0.00000000\\\\\n",
       "\tRandom Forest &  0.37694246 &  0.34410087\\\\\n",
       "\tBoosted Trees &  0.36707275 &  0.24526815\\\\\n",
       "\\end{tabular}\n"
      ],
      "text/markdown": [
       "\n",
       "A xtable: 7 × 2\n",
       "\n",
       "| <!--/--> | Weight OLS &lt;dbl&gt; | Weight Lasso &lt;dbl&gt; |\n",
       "|---|---|---|\n",
       "| Constant | -0.16216323 | -0.14687746 |\n",
       "| Least Squares (basic) |  0.28137447 |  0.29306223 |\n",
       "| Post-Lasso (flexible) |  0.23709009 |  0.22287842 |\n",
       "| Cross-Validated elnet (flexible) | -0.06779791 | -0.05550462 |\n",
       "| Pruned Tree | -0.13989808 |  0.00000000 |\n",
       "| Random Forest |  0.37694246 |  0.34410087 |\n",
       "| Boosted Trees |  0.36707275 |  0.24526815 |\n",
       "\n"
      ],
      "text/plain": [
       "                                 Weight OLS  Weight Lasso\n",
       "Constant                         -0.16216323 -0.14687746 \n",
       "Least Squares (basic)             0.28137447  0.29306223 \n",
       "Post-Lasso (flexible)             0.23709009  0.22287842 \n",
       "Cross-Validated elnet (flexible) -0.06779791 -0.05550462 \n",
       "Pruned Tree                      -0.13989808  0.00000000 \n",
       "Random Forest                     0.37694246  0.34410087 \n",
       "Boosted Trees                     0.36707275  0.24526815 "
      ]
     },
     "metadata": {},
     "output_type": "display_data"
    }
   ],
   "source": [
    "table<- matrix(0, 7, 2)\n",
    "table[1:7,1]   <- ensemble.ols$coef[1:7]\n",
    "table[1:7,2]   <- ensemble.lasso$coef[1:7]\n",
    "\n",
    "\n",
    "colnames(table)<- c(\"Weight OLS\", \"Weight Lasso\")\n",
    "rownames(table)<- c(\"Constant\",\"Least Squares (basic)\",\"Post-Lasso (flexible)\", \"Cross-Validated elnet (flexible)\", \"Pruned Tree\",\n",
    "                    \"Random Forest\",\"Boosted Trees\")\n",
    "tab <- xtable(table, digits =3)\n",
    "print(tab,type=\"latex\") # set type=\"latex\" for printing table in LaTeX\n",
    "tab"
   ]
  },
  {
   "cell_type": "markdown",
   "metadata": {
    "papermill": {
     "duration": 0.056002,
     "end_time": "2021-02-13T18:21:10.101284",
     "exception": false,
     "start_time": "2021-02-13T18:21:10.045282",
     "status": "completed"
    },
    "tags": []
   },
   "source": [
    "Further, the $R^2$ for the test sample gets improved from $30\\%$ obtained by OLS to about $31\\%$ obtained by the ensemble method. We see that it is very powerful to aggregate prediction rules into an ensemble rule. Nevertheless, it is worth to notice that we should compare the ensemble method and the single rules on an additional validation set to ensure a fair comparison."
   ]
  }
 ],
 "metadata": {
  "hide_input": false,
  "kernelspec": {
   "display_name": "R",
   "language": "R",
   "name": "ir"
  },
  "language_info": {
   "codemirror_mode": "r",
   "file_extension": ".r",
   "mimetype": "text/x-r-source",
   "name": "R",
   "pygments_lexer": "r",
   "version": "4.0.4"
  },
  "papermill": {
   "default_parameters": {},
   "duration": 90.376935,
   "end_time": "2021-02-13T18:21:10.266455",
   "environment_variables": {},
   "exception": null,
   "input_path": "__notebook__.ipynb",
   "output_path": "__notebook__.ipynb",
   "parameters": {},
   "start_time": "2021-02-13T18:19:39.889520",
   "version": "2.2.2"
  }
 },
 "nbformat": 4,
 "nbformat_minor": 4
}
