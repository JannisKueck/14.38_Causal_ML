{
 "cells": [
  {
   "cell_type": "markdown",
   "metadata": {
    "papermill": {
     "duration": 0.010003,
     "end_time": "2021-03-28T13:27:45.376868",
     "exception": false,
     "start_time": "2021-03-28T13:27:45.366865",
     "status": "completed"
    },
    "tags": []
   },
   "source": [
    "\n",
    "\n",
    "This notebook contains an example for teaching.\n"
   ]
  },
  {
   "cell_type": "markdown",
   "metadata": {
    "_execution_state": "idle",
    "_uuid": "051d70d956493feee0c6d64651c6a088724dca2a",
    "papermill": {
     "duration": 0.008782,
     "end_time": "2021-03-28T13:27:45.395504",
     "exception": false,
     "start_time": "2021-03-28T13:27:45.386722",
     "status": "completed"
    },
    "tags": []
   },
   "source": [
    "# A Simple Case Study using Wage Data from 2015 - proceeding"
   ]
  },
  {
   "cell_type": "markdown",
   "metadata": {
    "papermill": {
     "duration": 0.008735,
     "end_time": "2021-03-28T13:27:45.413302",
     "exception": false,
     "start_time": "2021-03-28T13:27:45.404567",
     "status": "completed"
    },
    "tags": []
   },
   "source": [
    "So far we considered many machine learning method, e.g Lasso and Random Forests, to build a predictive model. In this lab, we extend our toolbox by predicting wages by a neural network."
   ]
  },
  {
   "cell_type": "markdown",
   "metadata": {
    "papermill": {
     "duration": 0.009256,
     "end_time": "2021-03-28T13:27:45.431663",
     "exception": false,
     "start_time": "2021-03-28T13:27:45.422407",
     "status": "completed"
    },
    "tags": []
   },
   "source": [
    "## Data preparation"
   ]
  },
  {
   "cell_type": "markdown",
   "metadata": {
    "papermill": {
     "duration": 0.0088,
     "end_time": "2021-03-28T13:27:45.449606",
     "exception": false,
     "start_time": "2021-03-28T13:27:45.440806",
     "status": "completed"
    },
    "tags": []
   },
   "source": [
    "Again, we consider data from the U.S. March Supplement of the Current Population Survey (CPS) in 2015."
   ]
  },
  {
   "cell_type": "code",
   "execution_count": 1,
   "metadata": {
    "execution": {
     "iopub.execute_input": "2021-03-28T13:27:45.495647Z",
     "iopub.status.busy": "2021-03-28T13:27:45.493470Z",
     "iopub.status.idle": "2021-03-28T13:27:45.621680Z",
     "shell.execute_reply": "2021-03-28T13:27:45.620630Z"
    },
    "papermill": {
     "duration": 0.163436,
     "end_time": "2021-03-28T13:27:45.621858",
     "exception": false,
     "start_time": "2021-03-28T13:27:45.458422",
     "status": "completed"
    },
    "tags": []
   },
   "outputs": [],
   "source": [
    "load(\"wage2015_subsample_inference.Rdata\")\n",
    "Z <- subset(data,select=-c(lwage,wage)) # regressors"
   ]
  },
  {
   "cell_type": "markdown",
   "metadata": {
    "papermill": {
     "duration": 0.010064,
     "end_time": "2021-03-28T13:27:45.641711",
     "exception": false,
     "start_time": "2021-03-28T13:27:45.631647",
     "status": "completed"
    },
    "tags": []
   },
   "source": [
    "Firt, we split the data first and normalize it."
   ]
  },
  {
   "cell_type": "code",
   "execution_count": 2,
   "metadata": {
    "execution": {
     "iopub.execute_input": "2021-03-28T13:27:45.690724Z",
     "iopub.status.busy": "2021-03-28T13:27:45.666767Z",
     "iopub.status.idle": "2021-03-28T13:27:45.705719Z",
     "shell.execute_reply": "2021-03-28T13:27:45.704555Z"
    },
    "papermill": {
     "duration": 0.055147,
     "end_time": "2021-03-28T13:27:45.705827",
     "exception": false,
     "start_time": "2021-03-28T13:27:45.650680",
     "status": "completed"
    },
    "tags": []
   },
   "outputs": [],
   "source": [
    "set.seed(1234)\n",
    "training <- sample(nrow(data), nrow(data)*(3/4), replace=FALSE)\n",
    "\n",
    "data_train <- data[training,1:16]\n",
    "data_test <- data[-training,1:16]"
   ]
  },
  {
   "cell_type": "code",
   "execution_count": 3,
   "metadata": {
    "execution": {
     "iopub.execute_input": "2021-03-28T13:27:45.728578Z",
     "iopub.status.busy": "2021-03-28T13:27:45.727077Z",
     "iopub.status.idle": "2021-03-28T13:27:45.755489Z",
     "shell.execute_reply": "2021-03-28T13:27:45.754247Z"
    },
    "papermill": {
     "duration": 0.040664,
     "end_time": "2021-03-28T13:27:45.755600",
     "exception": false,
     "start_time": "2021-03-28T13:27:45.714936",
     "status": "completed"
    },
    "tags": []
   },
   "outputs": [],
   "source": [
    "# normalize the data\n",
    "mean <- apply(data_train, 2, mean)\n",
    "std <- apply(data_train, 2, sd)\n",
    "data_train <- scale(data_train, center = mean, scale = std)\n",
    "data_test <- scale(data_test, center = mean, scale = std)\n",
    "data_train <- as.data.frame(data_train)\n",
    "data_test <- as.data.frame(data_test)"
   ]
  },
  {
   "cell_type": "markdown",
   "metadata": {
    "papermill": {
     "duration": 0.009183,
     "end_time": "2021-03-28T13:27:45.774239",
     "exception": false,
     "start_time": "2021-03-28T13:27:45.765056",
     "status": "completed"
    },
    "tags": []
   },
   "source": [
    "Then, we construct the inputs for our network."
   ]
  },
  {
   "cell_type": "code",
   "execution_count": 4,
   "metadata": {
    "execution": {
     "iopub.execute_input": "2021-03-28T13:27:45.796900Z",
     "iopub.status.busy": "2021-03-28T13:27:45.795499Z",
     "iopub.status.idle": "2021-03-28T13:27:45.816633Z",
     "shell.execute_reply": "2021-03-28T13:27:45.815366Z"
    },
    "papermill": {
     "duration": 0.033096,
     "end_time": "2021-03-28T13:27:45.816740",
     "exception": false,
     "start_time": "2021-03-28T13:27:45.783644",
     "status": "completed"
    },
    "tags": []
   },
   "outputs": [],
   "source": [
    "X_basic <-  \"sex + exp1 + shs + hsg+ scl + clg + mw + so + we\"\n",
    "formula_basic <- as.formula(paste(\"lwage\", \"~\", X_basic))\n",
    "model_X_basic_train <- model.matrix(formula_basic,data_train)\n",
    "model_X_basic_test <- model.matrix(formula_basic,data_test)\n",
    "\n",
    "Y_train <- data_train$lwage\n",
    "Y_test <- data_test$lwage"
   ]
  },
  {
   "cell_type": "markdown",
   "metadata": {
    "papermill": {
     "duration": 0.009282,
     "end_time": "2021-03-28T13:27:45.835468",
     "exception": false,
     "start_time": "2021-03-28T13:27:45.826186",
     "status": "completed"
    },
    "tags": []
   },
   "source": [
    "### Neural Networks"
   ]
  },
  {
   "cell_type": "markdown",
   "metadata": {
    "papermill": {
     "duration": 0.00955,
     "end_time": "2021-03-28T13:27:45.854659",
     "exception": false,
     "start_time": "2021-03-28T13:27:45.845109",
     "status": "completed"
    },
    "tags": []
   },
   "source": [
    "First, we need to determine the structure of our network. We are using the R package *keras* to build a simple sequential neural network with three dense layers."
   ]
  },
  {
   "cell_type": "code",
   "execution_count": 5,
   "metadata": {
    "execution": {
     "iopub.execute_input": "2021-03-28T13:27:45.878170Z",
     "iopub.status.busy": "2021-03-28T13:27:45.876629Z",
     "iopub.status.idle": "2021-03-28T13:27:46.824194Z",
     "shell.execute_reply": "2021-03-28T13:27:46.822854Z"
    },
    "papermill": {
     "duration": 0.960182,
     "end_time": "2021-03-28T13:27:46.824333",
     "exception": false,
     "start_time": "2021-03-28T13:27:45.864151",
     "status": "completed"
    },
    "tags": []
   },
   "outputs": [],
   "source": [
    "library(keras)\n",
    "\n",
    "build_model <- function() {\n",
    "  model <- keras_model_sequential() %>% \n",
    "    layer_dense(units = 20, activation = \"relu\", \n",
    "                input_shape = dim(model_X_basic_train)[2])%>% \n",
    "    layer_dense(units = 10, activation = \"relu\") %>% \n",
    "    layer_dense(units = 1) \n",
    "  \n",
    "  model %>% compile(\n",
    "    optimizer = optimizer_adam(lr = 0.005),\n",
    "    loss = \"mse\", \n",
    "    metrics = c(\"mae\")\n",
    "  )\n",
    "}"
   ]
  },
  {
   "cell_type": "markdown",
   "metadata": {
    "papermill": {
     "duration": 0.009512,
     "end_time": "2021-03-28T13:27:46.843449",
     "exception": false,
     "start_time": "2021-03-28T13:27:46.833937",
     "status": "completed"
    },
    "tags": []
   },
   "source": [
    "Let us have a look at the structure of our network in detail."
   ]
  },
  {
   "cell_type": "code",
   "execution_count": 6,
   "metadata": {
    "execution": {
     "iopub.execute_input": "2021-03-28T13:27:46.866740Z",
     "iopub.status.busy": "2021-03-28T13:27:46.865161Z",
     "iopub.status.idle": "2021-03-28T13:27:55.869560Z",
     "shell.execute_reply": "2021-03-28T13:27:55.867969Z"
    },
    "papermill": {
     "duration": 9.016871,
     "end_time": "2021-03-28T13:27:55.869751",
     "exception": false,
     "start_time": "2021-03-28T13:27:46.852880",
     "status": "completed"
    },
    "tags": []
   },
   "outputs": [
    {
     "ename": "ERROR",
     "evalue": "Error: Installation of TensorFlow not found.\n\nPython environments searched for 'tensorflow' package:\n C:\\Users\\MSI-NB\\anaconda3\\python.exe\n C:\\Users\\MSI-NB\\anaconda3\\envs\\rstudio\\python.exe\n\nYou can install TensorFlow using the install_tensorflow() function.\n\n",
     "output_type": "error",
     "traceback": [
      "Error: Installation of TensorFlow not found.\n\nPython environments searched for 'tensorflow' package:\n C:\\Users\\MSI-NB\\anaconda3\\python.exe\n C:\\Users\\MSI-NB\\anaconda3\\envs\\rstudio\\python.exe\n\nYou can install TensorFlow using the install_tensorflow() function.\n\nTraceback:\n",
      "1. build_model()",
      "2. keras_model_sequential() %>% layer_dense(units = 20, activation = \"relu\", \n .     input_shape = dim(model_X_basic_train)[2]) %>% layer_dense(units = 10, \n .     activation = \"relu\") %>% layer_dense(units = 1)   # at line 4-8 of file <text>",
      "3. layer_dense(., units = 1)",
      "4. create_layer(keras$layers$Dense, object, list(units = as.integer(units), \n .     activation = activation, use_bias = use_bias, kernel_initializer = kernel_initializer, \n .     bias_initializer = bias_initializer, kernel_regularizer = kernel_regularizer, \n .     bias_regularizer = bias_regularizer, activity_regularizer = activity_regularizer, \n .     kernel_constraint = kernel_constraint, bias_constraint = bias_constraint, \n .     input_shape = normalize_shape(input_shape), batch_input_shape = normalize_shape(batch_input_shape), \n .     batch_size = as_nullable_integer(batch_size), dtype = dtype, \n .     name = name, trainable = trainable, weights = weights))",
      "5. keras$layers",
      "6. `$.python.builtin.module`(keras, \"layers\")",
      "7. py_resolve_module_proxy(x)",
      "8. on_error(result)",
      "9. stop(tf_config()$error_message, call. = FALSE)"
     ]
    }
   ],
   "source": [
    "model <- build_model()\n",
    "summary(model)"
   ]
  },
  {
   "cell_type": "markdown",
   "metadata": {
    "papermill": {
     "duration": 0.009881,
     "end_time": "2021-03-28T13:27:55.891253",
     "exception": false,
     "start_time": "2021-03-28T13:27:55.881372",
     "status": "completed"
    },
    "tags": []
   },
   "source": [
    "It is worth to notice that we have in total $441$ trainable parameters."
   ]
  },
  {
   "cell_type": "markdown",
   "metadata": {
    "papermill": {
     "duration": 0.009739,
     "end_time": "2021-03-28T13:27:55.910957",
     "exception": false,
     "start_time": "2021-03-28T13:27:55.901218",
     "status": "completed"
    },
    "tags": []
   },
   "source": [
    "Now, let us train the network. Note that this takes some computation time. Thus, we are using gpu to speed up. The exact speed-up varies based on a number of factors including model architecture, batch-size, input pipeline complexity, etc."
   ]
  },
  {
   "cell_type": "code",
   "execution_count": 7,
   "metadata": {
    "execution": {
     "iopub.execute_input": "2021-03-28T13:27:55.936063Z",
     "iopub.status.busy": "2021-03-28T13:27:55.933984Z",
     "iopub.status.idle": "2021-03-28T13:29:15.376683Z",
     "shell.execute_reply": "2021-03-28T13:29:15.375385Z"
    },
    "papermill": {
     "duration": 79.455983,
     "end_time": "2021-03-28T13:29:15.376885",
     "exception": false,
     "start_time": "2021-03-28T13:27:55.920902",
     "status": "completed"
    },
    "tags": []
   },
   "outputs": [],
   "source": [
    "# training the network \n",
    "num_epochs <- 1000\n",
    "model %>% fit(model_X_basic_train, Y_train,\n",
    "                    epochs = num_epochs, batch_size = 100, verbose = 0)"
   ]
  },
  {
   "cell_type": "markdown",
   "metadata": {
    "papermill": {
     "duration": 0.010088,
     "end_time": "2021-03-28T13:29:15.402597",
     "exception": false,
     "start_time": "2021-03-28T13:29:15.392509",
     "status": "completed"
    },
    "tags": []
   },
   "source": [
    "After training the neural network, we can evaluate the performance of our model on the test sample."
   ]
  },
  {
   "cell_type": "code",
   "execution_count": 8,
   "metadata": {
    "execution": {
     "iopub.execute_input": "2021-03-28T13:29:15.427188Z",
     "iopub.status.busy": "2021-03-28T13:29:15.425758Z",
     "iopub.status.idle": "2021-03-28T13:29:15.613538Z",
     "shell.execute_reply": "2021-03-28T13:29:15.612330Z"
    },
    "papermill": {
     "duration": 0.201132,
     "end_time": "2021-03-28T13:29:15.613661",
     "exception": false,
     "start_time": "2021-03-28T13:29:15.412529",
     "status": "completed"
    },
    "tags": []
   },
   "outputs": [
    {
     "data": {
      "text/html": [
       "<style>\n",
       ".dl-inline {width: auto; margin:0; padding: 0}\n",
       ".dl-inline>dt, .dl-inline>dd {float: none; width: auto; display: inline-block}\n",
       ".dl-inline>dt::after {content: \":\\0020\"; padding-right: .5ex}\n",
       ".dl-inline>dt:not(:first-of-type) {padding-left: .5ex}\n",
       "</style><dl class=dl-inline><dt>loss</dt><dd>0.836420178413391</dd><dt>mae</dt><dd>0.695851266384125</dd></dl>\n"
      ],
      "text/latex": [
       "\\begin{description*}\n",
       "\\item[loss] 0.836420178413391\n",
       "\\item[mae] 0.695851266384125\n",
       "\\end{description*}\n"
      ],
      "text/markdown": [
       "loss\n",
       ":   0.836420178413391mae\n",
       ":   0.695851266384125\n",
       "\n"
      ],
      "text/plain": [
       "     loss       mae \n",
       "0.8364202 0.6958513 "
      ]
     },
     "metadata": {},
     "output_type": "display_data"
    }
   ],
   "source": [
    "# evaluating the performnace\n",
    "model %>% evaluate(model_X_basic_test, Y_test, verbose = 0)"
   ]
  },
  {
   "cell_type": "code",
   "execution_count": 9,
   "metadata": {
    "execution": {
     "iopub.execute_input": "2021-03-28T13:29:15.640259Z",
     "iopub.status.busy": "2021-03-28T13:29:15.638781Z",
     "iopub.status.idle": "2021-03-28T13:29:15.788149Z",
     "shell.execute_reply": "2021-03-28T13:29:15.786726Z"
    },
    "papermill": {
     "duration": 0.163629,
     "end_time": "2021-03-28T13:29:15.788272",
     "exception": false,
     "start_time": "2021-03-28T13:29:15.624643",
     "status": "completed"
    },
    "tags": []
   },
   "outputs": [
    {
     "name": "stdout",
     "output_type": "stream",
     "text": [
      "R^2 of the neural network: 0.142743"
     ]
    }
   ],
   "source": [
    "# Calculating the performance measures\n",
    "pred.nn <- model %>% predict(model_X_basic_test)\n",
    "MSE.nn = summary(lm((Y_test-pred.nn)^2~1))$coef[1:2]\n",
    "R2.nn <- 1-MSE.nn[1]/var(Y_test)\n",
    "# printing R^2\n",
    "cat(\"R^2 of the neural network:\",R2.nn)"
   ]
  }
 ],
 "metadata": {
  "kernelspec": {
   "display_name": "R",
   "language": "R",
   "name": "ir"
  },
  "language_info": {
   "codemirror_mode": "r",
   "file_extension": ".r",
   "mimetype": "text/x-r-source",
   "name": "R",
   "pygments_lexer": "r",
   "version": "4.0.4"
  },
  "papermill": {
   "default_parameters": {},
   "duration": 94.624549,
   "end_time": "2021-03-28T13:29:17.384134",
   "environment_variables": {},
   "exception": null,
   "input_path": "__notebook__.ipynb",
   "output_path": "__notebook__.ipynb",
   "parameters": {},
   "start_time": "2021-03-28T13:27:42.759585",
   "version": "2.2.2"
  }
 },
 "nbformat": 4,
 "nbformat_minor": 4
}
