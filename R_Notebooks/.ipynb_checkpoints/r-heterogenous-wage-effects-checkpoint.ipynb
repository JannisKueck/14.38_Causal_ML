{
 "cells": [
  {
   "cell_type": "markdown",
   "metadata": {
    "papermill": {
     "duration": 0.011184,
     "end_time": "2021-02-28T17:17:25.882205",
     "exception": false,
     "start_time": "2021-02-28T17:17:25.871021",
     "status": "completed"
    },
    "tags": []
   },
   "source": [
    "# Application: Heterogeneous Effect of Gender on Wage Using Double Lasso\n",
    "\n",
    " We use US census data from the year 2012 to analyse the effect of gender and interaction effects of other variables with gender on wage jointly. The dependent variable is the logarithm of the wage, the target variable is *female* (in combination with other variables). All other variables denote some other socio-economic characteristics, e.g. marital status, education, and experience.  For a detailed description of the variables we refer to the help page.\n",
    "\n",
    "\n",
    "\n",
    "This analysis allows a closer look how discrimination according to gender is related to other socio-economic variables.\n",
    "\n"
   ]
  },
  {
   "cell_type": "code",
   "execution_count": 1,
   "metadata": {
    "execution": {
     "iopub.execute_input": "2021-02-28T17:17:25.940403Z",
     "iopub.status.busy": "2021-02-28T17:17:25.937816Z",
     "iopub.status.idle": "2021-02-28T17:17:26.291065Z",
     "shell.execute_reply": "2021-02-28T17:17:26.289341Z"
    },
    "papermill": {
     "duration": 0.39942,
     "end_time": "2021-02-28T17:17:26.291369",
     "exception": false,
     "start_time": "2021-02-28T17:17:25.891949",
     "status": "completed"
    },
    "tags": []
   },
   "outputs": [
    {
     "name": "stdout",
     "output_type": "stream",
     "text": [
      "'data.frame':\t29217 obs. of  23 variables:\n",
      " $ year        : num  2012 2012 2012 2012 2012 ...\n",
      " $ lnw         : num  1.91 1.37 2.54 1.8 3.35 ...\n",
      " $ female      : num  1 1 0 1 0 0 0 0 0 1 ...\n",
      " $ widowed     : num  0 0 0 0 0 0 0 0 0 0 ...\n",
      " $ divorced    : num  0 0 0 0 0 0 0 0 0 0 ...\n",
      " $ separated   : num  0 0 0 0 0 0 0 0 0 0 ...\n",
      " $ nevermarried: num  0 0 0 0 0 0 1 0 0 0 ...\n",
      " $ hsd08       : num  0 0 0 0 0 0 0 0 0 0 ...\n",
      " $ hsd911      : num  0 1 0 0 0 0 0 0 0 0 ...\n",
      " $ hsg         : num  0 0 1 1 0 1 1 0 0 0 ...\n",
      " $ cg          : num  0 0 0 0 1 0 0 0 1 0 ...\n",
      " $ ad          : num  0 0 0 0 0 0 0 0 0 0 ...\n",
      " $ mw          : num  0 0 0 0 0 0 0 0 0 0 ...\n",
      " $ so          : num  0 0 0 0 0 0 0 0 0 0 ...\n",
      " $ we          : num  0 0 0 0 0 0 0 0 0 0 ...\n",
      " $ exp1        : num  22 30 19 14 15 23 33 23.5 15 15.5 ...\n",
      " $ exp2        : num  4.84 9 3.61 1.96 2.25 ...\n",
      " $ exp3        : num  10.65 27 6.86 2.74 3.38 ...\n",
      " $ exp4        : num  23.43 81 13.03 3.84 5.06 ...\n",
      " $ weight      : num  569 626 264 257 257 ...\n",
      " $ married     : logi  TRUE TRUE TRUE TRUE TRUE TRUE ...\n",
      " $ ne          : logi  TRUE TRUE TRUE TRUE TRUE TRUE ...\n",
      " $ sc          : logi  TRUE FALSE FALSE FALSE FALSE FALSE ...\n"
     ]
    }
   ],
   "source": [
    "library(hdm)\n",
    "data(cps2012)\n",
    "str(cps2012)"
   ]
  },
  {
   "cell_type": "code",
   "execution_count": 2,
   "metadata": {},
   "outputs": [],
   "source": [
    "X <- model.matrix(~-1 + female + female:(widowed + divorced + separated + nevermarried +\n",
    "hsd08 + hsd911 + hsg + cg + ad + mw + so + we + exp1 + exp2 + exp3) + +(widowed +\n",
    "divorced + separated + nevermarried + hsd08 + hsd911 + hsg + cg + ad + mw + so +\n",
    "we + exp1 + exp2 + exp3)^2, data = cps2012)"
   ]
  },
  {
   "cell_type": "code",
   "execution_count": 5,
   "metadata": {
    "execution": {
     "iopub.execute_input": "2021-02-28T17:17:26.350577Z",
     "iopub.status.busy": "2021-02-28T17:17:26.317735Z",
     "iopub.status.idle": "2021-02-28T17:17:29.196789Z",
     "shell.execute_reply": "2021-02-28T17:17:29.194681Z"
    },
    "papermill": {
     "duration": 2.894102,
     "end_time": "2021-02-28T17:17:29.196986",
     "exception": false,
     "start_time": "2021-02-28T17:17:26.302884",
     "status": "completed"
    },
    "scrolled": true,
    "tags": []
   },
   "outputs": [
    {
     "data": {
      "text/html": [
       "<style>\n",
       ".list-inline {list-style: none; margin:0; padding: 0}\n",
       ".list-inline>li {display: inline-block}\n",
       ".list-inline>li:not(:last-child)::after {content: \"\\00b7\"; padding: 0 .5ex}\n",
       "</style>\n",
       "<ol class=list-inline><li>29217</li><li>116</li></ol>\n"
      ],
      "text/latex": [
       "\\begin{enumerate*}\n",
       "\\item 29217\n",
       "\\item 116\n",
       "\\end{enumerate*}\n"
      ],
      "text/markdown": [
       "1. 29217\n",
       "2. 116\n",
       "\n",
       "\n"
      ],
      "text/plain": [
       "[1] 29217   116"
      ]
     },
     "metadata": {},
     "output_type": "display_data"
    }
   ],
   "source": [
    "# create the model matrix for the covariates\n",
    "X <- model.matrix(~-1 + female + female:(widowed + divorced + separated + nevermarried +\n",
    "hsd08 + hsd911 + hsg + cg + ad + mw + so + we + exp1 + exp2 + exp3) + +(widowed +\n",
    "divorced + separated + nevermarried + hsd08 + hsd911 + hsg + cg + ad + mw + so +\n",
    "we + exp1 + exp2 + exp3)^2, data = cps2012)\n",
    "X <- X[, which(apply(X, 2, var) != 0)] # exclude all constant variables\n",
    "demean<- function (x){ x- mean(x)}\n",
    "X<- apply(X, 2, FUN=demean)\n",
    "dim(X)\n",
    "\n",
    "# target variables, index.gender specifices coefficients we are interested in\n",
    "index.gender <- grep(\"female\", colnames(X))\n",
    "y <- cps2012$lnw"
   ]
  },
  {
   "cell_type": "markdown",
   "metadata": {
    "papermill": {
     "duration": 0.008565,
     "end_time": "2021-02-28T17:17:29.215145",
     "exception": false,
     "start_time": "2021-02-28T17:17:29.206580",
     "status": "completed"
    },
    "tags": []
   },
   "source": [
    "The parameter estimates for the target parameters, i.e. all coefficients related to gender (i.e. by interaction with other variables) are calculated and summarized by the following commands:\n",
    "\n"
   ]
  },
  {
   "cell_type": "code",
   "execution_count": 6,
   "metadata": {
    "_execution_state": "idle",
    "_uuid": "051d70d956493feee0c6d64651c6a088724dca2a",
    "execution": {
     "iopub.execute_input": "2021-02-28T17:17:29.240943Z",
     "iopub.status.busy": "2021-02-28T17:17:29.238952Z",
     "iopub.status.idle": "2021-02-28T17:18:47.651562Z",
     "shell.execute_reply": "2021-02-28T17:18:47.648518Z"
    },
    "papermill": {
     "duration": 78.426974,
     "end_time": "2021-02-28T17:18:47.651893",
     "exception": false,
     "start_time": "2021-02-28T17:17:29.224919",
     "status": "completed"
    },
    "tags": []
   },
   "outputs": [],
   "source": [
    "# this cell takes a minute to run\n",
    "effects.female <- rlassoEffects(x = X, y = y, index = index.gender)"
   ]
  },
  {
   "cell_type": "code",
   "execution_count": null,
   "metadata": {
    "execution": {
     "iopub.execute_input": "2021-02-28T17:18:47.695255Z",
     "iopub.status.busy": "2021-02-28T17:18:47.694641Z",
     "iopub.status.idle": "2021-02-28T17:18:47.787196Z",
     "shell.execute_reply": "2021-02-28T17:18:47.785009Z"
    },
    "papermill": {
     "duration": 0.115154,
     "end_time": "2021-02-28T17:18:47.787349",
     "exception": false,
     "start_time": "2021-02-28T17:18:47.672195",
     "status": "completed"
    },
    "tags": []
   },
   "outputs": [],
   "source": [
    "result=summary(effects.female)\n",
    "result$coef\n",
    "library(xtable)\n",
    "print(xtable(result$coef[,c(1,2,4)], type=\"latex\"), digits=3)"
   ]
  },
  {
   "cell_type": "markdown",
   "metadata": {
    "papermill": {
     "duration": 0.008891,
     "end_time": "2021-02-28T17:18:47.805643",
     "exception": false,
     "start_time": "2021-02-28T17:18:47.796752",
     "status": "completed"
    },
    "tags": []
   },
   "source": [
    "Now, we estimate and plot confident intervals, first \"pointwise\" and then the joint confidence intervals."
   ]
  },
  {
   "cell_type": "code",
   "execution_count": null,
   "metadata": {},
   "outputs": [],
   "source": [
    "pointwise.CI <- confint(effects.female, level = 0.90)\n",
    "pointwise.CI\n",
    "plot(effects.female, level=0.90) # plot of the effects"
   ]
  },
  {
   "cell_type": "markdown",
   "metadata": {
    "papermill": {
     "duration": 0.01145,
     "end_time": "2021-02-28T17:18:48.920882",
     "exception": false,
     "start_time": "2021-02-28T17:18:48.909432",
     "status": "completed"
    },
    "tags": []
   },
   "source": [
    "Finally, we compare the pointwise confidence intervals to joint confidence intervals."
   ]
  },
  {
   "cell_type": "code",
   "execution_count": null,
   "metadata": {
    "execution": {
     "iopub.execute_input": "2021-02-28T17:18:48.950512Z",
     "iopub.status.busy": "2021-02-28T17:18:48.948204Z",
     "iopub.status.idle": "2021-02-28T17:18:49.953148Z",
     "shell.execute_reply": "2021-02-28T17:18:49.950709Z"
    },
    "papermill": {
     "duration": 1.021263,
     "end_time": "2021-02-28T17:18:49.953381",
     "exception": false,
     "start_time": "2021-02-28T17:18:48.932118",
     "status": "completed"
    },
    "tags": []
   },
   "outputs": [],
   "source": [
    "joint.CI <- confint(effects.female, level = 0.90, joint = TRUE)\n",
    "joint.CI\n",
    "plot(effects.female, joint=TRUE, level=0.90) # plot of the effects\n",
    "print(xtable(joint.CI), type=\"latex\")\n",
    "\n",
    "# the plot output does not look great"
   ]
  }
 ],
 "metadata": {
  "hide_input": false,
  "kernelspec": {
   "display_name": "R",
   "language": "R",
   "name": "ir"
  },
  "language_info": {
   "codemirror_mode": "r",
   "file_extension": ".r",
   "mimetype": "text/x-r-source",
   "name": "R",
   "pygments_lexer": "r",
   "version": "4.0.4"
  },
  "papermill": {
   "default_parameters": {},
   "duration": 89.365707,
   "end_time": "2021-02-28T17:18:51.003711",
   "environment_variables": {},
   "exception": null,
   "input_path": "__notebook__.ipynb",
   "output_path": "__notebook__.ipynb",
   "parameters": {},
   "start_time": "2021-02-28T17:17:21.638004",
   "version": "2.2.2"
  }
 },
 "nbformat": 4,
 "nbformat_minor": 4
}
