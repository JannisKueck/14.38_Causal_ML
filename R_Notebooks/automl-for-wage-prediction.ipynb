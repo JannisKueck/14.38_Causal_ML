{
 "cells": [
  {
   "cell_type": "markdown",
   "id": "allied-volume",
   "metadata": {
    "papermill": {
     "duration": 0.015123,
     "end_time": "2021-03-24T11:24:18.422928",
     "exception": false,
     "start_time": "2021-03-24T11:24:18.407805",
     "status": "completed"
    },
    "tags": []
   },
   "source": [
    "This notebook contains an example for teaching.\n"
   ]
  },
  {
   "cell_type": "markdown",
   "id": "senior-plane",
   "metadata": {
    "papermill": {
     "duration": 0.013777,
     "end_time": "2021-03-24T11:24:18.450894",
     "exception": false,
     "start_time": "2021-03-24T11:24:18.437117",
     "status": "completed"
    },
    "tags": []
   },
   "source": [
    "# Automatic Machine Learning with H2O AutoML using Wage Data from 2015"
   ]
  },
  {
   "cell_type": "markdown",
   "id": "impressive-mistress",
   "metadata": {
    "papermill": {
     "duration": 0.014076,
     "end_time": "2021-03-24T11:24:18.478815",
     "exception": false,
     "start_time": "2021-03-24T11:24:18.464739",
     "status": "completed"
    },
    "tags": []
   },
   "source": [
    "We illustrate how to predict an outcome variable Y in a high-dimensional setting, using the AutoML package *H2O* that covers the complete pipeline from the raw dataset to the deployable machine learning model. In last few years, AutoML or automated machine learning has become widely popular among data science community. "
   ]
  },
  {
   "cell_type": "markdown",
   "id": "linear-surgeon",
   "metadata": {
    "papermill": {
     "duration": 0.013915,
     "end_time": "2021-03-24T11:24:18.508556",
     "exception": false,
     "start_time": "2021-03-24T11:24:18.494641",
     "status": "completed"
    },
    "tags": []
   },
   "source": [
    "We can use AutoML as a benchmark and compare it to the methods that we used in the previous notebook where we applied one machine learning method after the other."
   ]
  },
  {
   "cell_type": "code",
   "execution_count": 4,
   "id": "olive-dream",
   "metadata": {
    "execution": {
     "iopub.execute_input": "2021-03-24T11:24:18.543795Z",
     "iopub.status.busy": "2021-03-24T11:24:18.540556Z",
     "iopub.status.idle": "2021-03-24T11:24:19.047587Z",
     "shell.execute_reply": "2021-03-24T11:24:19.046504Z"
    },
    "papermill": {
     "duration": 0.526133,
     "end_time": "2021-03-24T11:24:19.048186",
     "exception": false,
     "start_time": "2021-03-24T11:24:18.522053",
     "status": "completed"
    },
    "tags": []
   },
   "outputs": [
    {
     "name": "stdout",
     "output_type": "stream",
     "text": [
      "\n",
      "H2O is not running yet, starting it now...\n",
      "\n",
      "Note:  In case of errors look at the following log files:\n",
      "    C:\\Users\\MSI-NB\\AppData\\Local\\Temp\\RtmpobARwD\\file525c44661499/h2o_MSI_NB_started_from_r.out\n",
      "    C:\\Users\\MSI-NB\\AppData\\Local\\Temp\\RtmpobARwD\\file525c787c854/h2o_MSI_NB_started_from_r.err\n",
      "\n",
      "\n",
      "Starting H2O JVM and connecting: ............................................................ Connection successful!\n",
      "\n",
      "R is connected to the H2O cluster: \n",
      "    H2O cluster uptime:         1 seconds 479 milliseconds \n",
      "    H2O cluster timezone:       America/Lima \n",
      "    H2O data parsing timezone:  UTC \n",
      "    H2O cluster version:        3.32.1.1 \n",
      "    H2O cluster version age:    23 days  \n",
      "    H2O cluster name:           H2O_from_python_MSI_NB_quco3q \n",
      "    H2O cluster total nodes:    1 \n",
      "    H2O cluster total memory:   7.96 GB \n",
      "    H2O cluster total cores:    12 \n",
      "    H2O cluster allowed cores:  12 \n",
      "    H2O cluster healthy:        TRUE \n",
      "    H2O Connection ip:          localhost \n",
      "    H2O Connection port:        54321 \n",
      "    H2O Connection proxy:       NA \n",
      "    H2O Internal Security:      FALSE \n",
      "    H2O API Extensions:         Amazon S3, Algos, AutoML, Core V3, TargetEncoder, Core V4 \n",
      "    R Version:                  R version 4.0.4 (2021-02-15) \n",
      "\n"
     ]
    }
   ],
   "source": [
    "# load the H2O package\n",
    "library(h2o)\n",
    "# start h2o cluster\n",
    "h2o.init()"
   ]
  },
  {
   "cell_type": "code",
   "execution_count": 5,
   "id": "individual-representative",
   "metadata": {
    "execution": {
     "iopub.execute_input": "2021-03-24T11:24:19.130182Z",
     "iopub.status.busy": "2021-03-24T11:24:19.084881Z",
     "iopub.status.idle": "2021-03-24T11:24:19.246886Z",
     "shell.execute_reply": "2021-03-24T11:24:19.245647Z"
    },
    "papermill": {
     "duration": 0.182687,
     "end_time": "2021-03-24T11:24:19.247049",
     "exception": false,
     "start_time": "2021-03-24T11:24:19.064362",
     "status": "completed"
    },
    "tags": []
   },
   "outputs": [],
   "source": [
    "# load the data set\n",
    "load(\"wage2015_subsample_inference.Rdata\")\n",
    "\n",
    "# split the data\n",
    "set.seed(1234)\n",
    "training <- sample(nrow(data), nrow(data)*(3/4), replace=FALSE)\n",
    "\n",
    "train <- data[training,]\n",
    "test <- data[-training,]"
   ]
  },
  {
   "cell_type": "code",
   "execution_count": 3,
   "id": "banned-relief",
   "metadata": {
    "execution": {
     "iopub.execute_input": "2021-03-24T11:24:19.283801Z",
     "iopub.status.busy": "2021-03-24T11:24:19.282386Z",
     "iopub.status.idle": "2021-03-24T11:24:24.274985Z",
     "shell.execute_reply": "2021-03-24T11:24:24.272769Z"
    },
    "papermill": {
     "duration": 5.013121,
     "end_time": "2021-03-24T11:24:24.275376",
     "exception": false,
     "start_time": "2021-03-24T11:24:19.262255",
     "status": "completed"
    },
    "tags": []
   },
   "outputs": [
    {
     "name": "stdout",
     "output_type": "stream",
     "text": [
      "\n",
      "H2O is not running yet, starting it now...\n",
      "\n",
      "Note:  In case of errors look at the following log files:\n",
      "    C:\\Users\\MSI-NB\\AppData\\Local\\Temp\\RtmpobARwD\\file525c864eed/h2o_MSI_NB_started_from_r.out\n",
      "    C:\\Users\\MSI-NB\\AppData\\Local\\Temp\\RtmpobARwD\\file525c7f8a7e5d/h2o_MSI_NB_started_from_r.err\n",
      "\n",
      "\n",
      "Starting H2O JVM and connecting: ............................................................Diagnostic HTTP Request:\n",
      "   HTTP Status Code: -1\n",
      "HTTP Error Message: Failed to connect to localhost port 54321: Connection refused\n",
      " \n",
      "Error Output:\n",
      "   Only Java versions 8-15 are supported, system version is 16 \n"
     ]
    },
    {
     "ename": "ERROR",
     "evalue": "Error in h2o.init(): H2O failed to start, stopping execution.\n",
     "output_type": "error",
     "traceback": [
      "Error in h2o.init(): H2O failed to start, stopping execution.\nTraceback:\n",
      "1. h2o.init()",
      "2. stop(\"H2O failed to start, stopping execution.\")"
     ]
    }
   ],
   "source": [
    "# start h2o cluster\n",
    "h2o.init()"
   ]
  },
  {
   "cell_type": "code",
   "execution_count": 6,
   "id": "boring-cooper",
   "metadata": {
    "execution": {
     "iopub.execute_input": "2021-03-24T11:24:24.320832Z",
     "iopub.status.busy": "2021-03-24T11:24:24.318399Z",
     "iopub.status.idle": "2021-03-24T11:24:32.160836Z",
     "shell.execute_reply": "2021-03-24T11:24:32.159285Z"
    },
    "papermill": {
     "duration": 7.867453,
     "end_time": "2021-03-24T11:24:32.161116",
     "exception": false,
     "start_time": "2021-03-24T11:24:24.293663",
     "status": "completed"
    },
    "tags": []
   },
   "outputs": [
    {
     "name": "stdout",
     "output_type": "stream",
     "text": [
      "  |======================================================================| 100%\n",
      "  |======================================================================| 100%\n"
     ]
    },
    {
     "data": {
      "text/html": [
       "<table class=\"dataframe\">\n",
       "<caption>A data.frame: 20 × 11</caption>\n",
       "<thead>\n",
       "\t<tr><th scope=col>Label</th><th scope=col>Type</th><th scope=col>Missing</th><th scope=col>Zeros</th><th scope=col>PosInf</th><th scope=col>NegInf</th><th scope=col>Min</th><th scope=col>Max</th><th scope=col>Mean</th><th scope=col>Sigma</th><th scope=col>Cardinality</th></tr>\n",
       "\t<tr><th scope=col>&lt;chr&gt;</th><th scope=col>&lt;chr&gt;</th><th scope=col>&lt;dbl&gt;</th><th scope=col>&lt;dbl&gt;</th><th scope=col>&lt;dbl&gt;</th><th scope=col>&lt;dbl&gt;</th><th scope=col>&lt;dbl&gt;</th><th scope=col>&lt;dbl&gt;</th><th scope=col>&lt;dbl&gt;</th><th scope=col>&lt;dbl&gt;</th><th scope=col>&lt;dbl&gt;</th></tr>\n",
       "</thead>\n",
       "<tbody>\n",
       "\t<tr><td>wage </td><td>real</td><td>0</td><td>   0</td><td>0</td><td>0</td><td>3.021978</td><td>528.845673</td><td>23.37760006</td><td>20.6094388</td><td> NA</td></tr>\n",
       "\t<tr><td>lwage</td><td>real</td><td>0</td><td>   0</td><td>0</td><td>0</td><td>1.105912</td><td>  6.270697</td><td> 2.96967335</td><td> 0.5721780</td><td> NA</td></tr>\n",
       "\t<tr><td>sex  </td><td>int </td><td>0</td><td>2115</td><td>0</td><td>0</td><td>0.000000</td><td>  1.000000</td><td> 0.45235629</td><td> 0.4977894</td><td> NA</td></tr>\n",
       "\t<tr><td>shs  </td><td>int </td><td>0</td><td>3770</td><td>0</td><td>0</td><td>0.000000</td><td>  1.000000</td><td> 0.02382185</td><td> 0.1525136</td><td> NA</td></tr>\n",
       "\t<tr><td>hsg  </td><td>int </td><td>0</td><td>2896</td><td>0</td><td>0</td><td>0.000000</td><td>  1.000000</td><td> 0.25012947</td><td> 0.4331435</td><td> NA</td></tr>\n",
       "\t<tr><td>scl  </td><td>int </td><td>0</td><td>2795</td><td>0</td><td>0</td><td>0.000000</td><td>  1.000000</td><td> 0.27628172</td><td> 0.4472157</td><td> NA</td></tr>\n",
       "\t<tr><td>clg  </td><td>int </td><td>0</td><td>2646</td><td>0</td><td>0</td><td>0.000000</td><td>  1.000000</td><td> 0.31486277</td><td> 0.4645213</td><td> NA</td></tr>\n",
       "\t<tr><td>ad   </td><td>int </td><td>0</td><td>3341</td><td>0</td><td>0</td><td>0.000000</td><td>  1.000000</td><td> 0.13490419</td><td> 0.3416654</td><td> NA</td></tr>\n",
       "\t<tr><td>mw   </td><td>int </td><td>0</td><td>2872</td><td>0</td><td>0</td><td>0.000000</td><td>  1.000000</td><td> 0.25634386</td><td> 0.4366704</td><td> NA</td></tr>\n",
       "\t<tr><td>so   </td><td>int </td><td>0</td><td>2707</td><td>0</td><td>0</td><td>0.000000</td><td>  1.000000</td><td> 0.29906784</td><td> 0.4579089</td><td> NA</td></tr>\n",
       "\t<tr><td>we   </td><td>int </td><td>0</td><td>3034</td><td>0</td><td>0</td><td>0.000000</td><td>  1.000000</td><td> 0.21439669</td><td> 0.4104563</td><td> NA</td></tr>\n",
       "\t<tr><td>ne   </td><td>int </td><td>0</td><td>2973</td><td>0</td><td>0</td><td>0.000000</td><td>  1.000000</td><td> 0.23019161</td><td> 0.4210099</td><td> NA</td></tr>\n",
       "\t<tr><td>exp1 </td><td>real</td><td>0</td><td>  49</td><td>0</td><td>0</td><td>0.000000</td><td> 47.000000</td><td>13.85590368</td><td>10.6713345</td><td> NA</td></tr>\n",
       "\t<tr><td>exp2 </td><td>real</td><td>0</td><td>  49</td><td>0</td><td>0</td><td>0.000000</td><td> 22.090000</td><td> 3.05833959</td><td> 4.0396140</td><td> NA</td></tr>\n",
       "\t<tr><td>exp3 </td><td>real</td><td>0</td><td>  49</td><td>0</td><td>0</td><td>0.000000</td><td>103.823000</td><td> 8.38545329</td><td>14.6586621</td><td> NA</td></tr>\n",
       "\t<tr><td>exp4 </td><td>real</td><td>0</td><td>  49</td><td>0</td><td>0</td><td>0.000000</td><td>487.968100</td><td>25.66769711</td><td>54.2554455</td><td> NA</td></tr>\n",
       "\t<tr><td>occ  </td><td>enum</td><td>0</td><td>  13</td><td>0</td><td>0</td><td>0.000000</td><td>337.000000</td><td>         NA</td><td>        NA</td><td>338</td></tr>\n",
       "\t<tr><td>occ2 </td><td>enum</td><td>0</td><td> 445</td><td>0</td><td>0</td><td>0.000000</td><td> 21.000000</td><td>         NA</td><td>        NA</td><td> 22</td></tr>\n",
       "\t<tr><td>ind  </td><td>enum</td><td>0</td><td>   8</td><td>0</td><td>0</td><td>0.000000</td><td>226.000000</td><td>         NA</td><td>        NA</td><td>227</td></tr>\n",
       "\t<tr><td>ind2 </td><td>enum</td><td>0</td><td> 110</td><td>0</td><td>0</td><td>0.000000</td><td> 20.000000</td><td>         NA</td><td>        NA</td><td> 21</td></tr>\n",
       "</tbody>\n",
       "</table>\n"
      ],
      "text/latex": [
       "A data.frame: 20 × 11\n",
       "\\begin{tabular}{lllllllllll}\n",
       " Label & Type & Missing & Zeros & PosInf & NegInf & Min & Max & Mean & Sigma & Cardinality\\\\\n",
       " <chr> & <chr> & <dbl> & <dbl> & <dbl> & <dbl> & <dbl> & <dbl> & <dbl> & <dbl> & <dbl>\\\\\n",
       "\\hline\n",
       "\t wage  & real & 0 &    0 & 0 & 0 & 3.021978 & 528.845673 & 23.37760006 & 20.6094388 &  NA\\\\\n",
       "\t lwage & real & 0 &    0 & 0 & 0 & 1.105912 &   6.270697 &  2.96967335 &  0.5721780 &  NA\\\\\n",
       "\t sex   & int  & 0 & 2115 & 0 & 0 & 0.000000 &   1.000000 &  0.45235629 &  0.4977894 &  NA\\\\\n",
       "\t shs   & int  & 0 & 3770 & 0 & 0 & 0.000000 &   1.000000 &  0.02382185 &  0.1525136 &  NA\\\\\n",
       "\t hsg   & int  & 0 & 2896 & 0 & 0 & 0.000000 &   1.000000 &  0.25012947 &  0.4331435 &  NA\\\\\n",
       "\t scl   & int  & 0 & 2795 & 0 & 0 & 0.000000 &   1.000000 &  0.27628172 &  0.4472157 &  NA\\\\\n",
       "\t clg   & int  & 0 & 2646 & 0 & 0 & 0.000000 &   1.000000 &  0.31486277 &  0.4645213 &  NA\\\\\n",
       "\t ad    & int  & 0 & 3341 & 0 & 0 & 0.000000 &   1.000000 &  0.13490419 &  0.3416654 &  NA\\\\\n",
       "\t mw    & int  & 0 & 2872 & 0 & 0 & 0.000000 &   1.000000 &  0.25634386 &  0.4366704 &  NA\\\\\n",
       "\t so    & int  & 0 & 2707 & 0 & 0 & 0.000000 &   1.000000 &  0.29906784 &  0.4579089 &  NA\\\\\n",
       "\t we    & int  & 0 & 3034 & 0 & 0 & 0.000000 &   1.000000 &  0.21439669 &  0.4104563 &  NA\\\\\n",
       "\t ne    & int  & 0 & 2973 & 0 & 0 & 0.000000 &   1.000000 &  0.23019161 &  0.4210099 &  NA\\\\\n",
       "\t exp1  & real & 0 &   49 & 0 & 0 & 0.000000 &  47.000000 & 13.85590368 & 10.6713345 &  NA\\\\\n",
       "\t exp2  & real & 0 &   49 & 0 & 0 & 0.000000 &  22.090000 &  3.05833959 &  4.0396140 &  NA\\\\\n",
       "\t exp3  & real & 0 &   49 & 0 & 0 & 0.000000 & 103.823000 &  8.38545329 & 14.6586621 &  NA\\\\\n",
       "\t exp4  & real & 0 &   49 & 0 & 0 & 0.000000 & 487.968100 & 25.66769711 & 54.2554455 &  NA\\\\\n",
       "\t occ   & enum & 0 &   13 & 0 & 0 & 0.000000 & 337.000000 &          NA &         NA & 338\\\\\n",
       "\t occ2  & enum & 0 &  445 & 0 & 0 & 0.000000 &  21.000000 &          NA &         NA &  22\\\\\n",
       "\t ind   & enum & 0 &    8 & 0 & 0 & 0.000000 & 226.000000 &          NA &         NA & 227\\\\\n",
       "\t ind2  & enum & 0 &  110 & 0 & 0 & 0.000000 &  20.000000 &          NA &         NA &  21\\\\\n",
       "\\end{tabular}\n"
      ],
      "text/markdown": [
       "\n",
       "A data.frame: 20 × 11\n",
       "\n",
       "| Label &lt;chr&gt; | Type &lt;chr&gt; | Missing &lt;dbl&gt; | Zeros &lt;dbl&gt; | PosInf &lt;dbl&gt; | NegInf &lt;dbl&gt; | Min &lt;dbl&gt; | Max &lt;dbl&gt; | Mean &lt;dbl&gt; | Sigma &lt;dbl&gt; | Cardinality &lt;dbl&gt; |\n",
       "|---|---|---|---|---|---|---|---|---|---|---|\n",
       "| wage  | real | 0 |    0 | 0 | 0 | 3.021978 | 528.845673 | 23.37760006 | 20.6094388 |  NA |\n",
       "| lwage | real | 0 |    0 | 0 | 0 | 1.105912 |   6.270697 |  2.96967335 |  0.5721780 |  NA |\n",
       "| sex   | int  | 0 | 2115 | 0 | 0 | 0.000000 |   1.000000 |  0.45235629 |  0.4977894 |  NA |\n",
       "| shs   | int  | 0 | 3770 | 0 | 0 | 0.000000 |   1.000000 |  0.02382185 |  0.1525136 |  NA |\n",
       "| hsg   | int  | 0 | 2896 | 0 | 0 | 0.000000 |   1.000000 |  0.25012947 |  0.4331435 |  NA |\n",
       "| scl   | int  | 0 | 2795 | 0 | 0 | 0.000000 |   1.000000 |  0.27628172 |  0.4472157 |  NA |\n",
       "| clg   | int  | 0 | 2646 | 0 | 0 | 0.000000 |   1.000000 |  0.31486277 |  0.4645213 |  NA |\n",
       "| ad    | int  | 0 | 3341 | 0 | 0 | 0.000000 |   1.000000 |  0.13490419 |  0.3416654 |  NA |\n",
       "| mw    | int  | 0 | 2872 | 0 | 0 | 0.000000 |   1.000000 |  0.25634386 |  0.4366704 |  NA |\n",
       "| so    | int  | 0 | 2707 | 0 | 0 | 0.000000 |   1.000000 |  0.29906784 |  0.4579089 |  NA |\n",
       "| we    | int  | 0 | 3034 | 0 | 0 | 0.000000 |   1.000000 |  0.21439669 |  0.4104563 |  NA |\n",
       "| ne    | int  | 0 | 2973 | 0 | 0 | 0.000000 |   1.000000 |  0.23019161 |  0.4210099 |  NA |\n",
       "| exp1  | real | 0 |   49 | 0 | 0 | 0.000000 |  47.000000 | 13.85590368 | 10.6713345 |  NA |\n",
       "| exp2  | real | 0 |   49 | 0 | 0 | 0.000000 |  22.090000 |  3.05833959 |  4.0396140 |  NA |\n",
       "| exp3  | real | 0 |   49 | 0 | 0 | 0.000000 | 103.823000 |  8.38545329 | 14.6586621 |  NA |\n",
       "| exp4  | real | 0 |   49 | 0 | 0 | 0.000000 | 487.968100 | 25.66769711 | 54.2554455 |  NA |\n",
       "| occ   | enum | 0 |   13 | 0 | 0 | 0.000000 | 337.000000 |          NA |         NA | 338 |\n",
       "| occ2  | enum | 0 |  445 | 0 | 0 | 0.000000 |  21.000000 |          NA |         NA |  22 |\n",
       "| ind   | enum | 0 |    8 | 0 | 0 | 0.000000 | 226.000000 |          NA |         NA | 227 |\n",
       "| ind2  | enum | 0 |  110 | 0 | 0 | 0.000000 |  20.000000 |          NA |         NA |  21 |\n",
       "\n"
      ],
      "text/plain": [
       "   Label Type Missing Zeros PosInf NegInf Min      Max        Mean       \n",
       "1  wage  real 0          0  0      0      3.021978 528.845673 23.37760006\n",
       "2  lwage real 0          0  0      0      1.105912   6.270697  2.96967335\n",
       "3  sex   int  0       2115  0      0      0.000000   1.000000  0.45235629\n",
       "4  shs   int  0       3770  0      0      0.000000   1.000000  0.02382185\n",
       "5  hsg   int  0       2896  0      0      0.000000   1.000000  0.25012947\n",
       "6  scl   int  0       2795  0      0      0.000000   1.000000  0.27628172\n",
       "7  clg   int  0       2646  0      0      0.000000   1.000000  0.31486277\n",
       "8  ad    int  0       3341  0      0      0.000000   1.000000  0.13490419\n",
       "9  mw    int  0       2872  0      0      0.000000   1.000000  0.25634386\n",
       "10 so    int  0       2707  0      0      0.000000   1.000000  0.29906784\n",
       "11 we    int  0       3034  0      0      0.000000   1.000000  0.21439669\n",
       "12 ne    int  0       2973  0      0      0.000000   1.000000  0.23019161\n",
       "13 exp1  real 0         49  0      0      0.000000  47.000000 13.85590368\n",
       "14 exp2  real 0         49  0      0      0.000000  22.090000  3.05833959\n",
       "15 exp3  real 0         49  0      0      0.000000 103.823000  8.38545329\n",
       "16 exp4  real 0         49  0      0      0.000000 487.968100 25.66769711\n",
       "17 occ   enum 0         13  0      0      0.000000 337.000000          NA\n",
       "18 occ2  enum 0        445  0      0      0.000000  21.000000          NA\n",
       "19 ind   enum 0          8  0      0      0.000000 226.000000          NA\n",
       "20 ind2  enum 0        110  0      0      0.000000  20.000000          NA\n",
       "   Sigma      Cardinality\n",
       "1  20.6094388  NA        \n",
       "2   0.5721780  NA        \n",
       "3   0.4977894  NA        \n",
       "4   0.1525136  NA        \n",
       "5   0.4331435  NA        \n",
       "6   0.4472157  NA        \n",
       "7   0.4645213  NA        \n",
       "8   0.3416654  NA        \n",
       "9   0.4366704  NA        \n",
       "10  0.4579089  NA        \n",
       "11  0.4104563  NA        \n",
       "12  0.4210099  NA        \n",
       "13 10.6713345  NA        \n",
       "14  4.0396140  NA        \n",
       "15 14.6586621  NA        \n",
       "16 54.2554455  NA        \n",
       "17         NA 338        \n",
       "18         NA  22        \n",
       "19         NA 227        \n",
       "20         NA  21        "
      ]
     },
     "metadata": {},
     "output_type": "display_data"
    }
   ],
   "source": [
    "# convert data as h2o type\n",
    "train_h = as.h2o(train)\n",
    "test_h = as.h2o(test)\n",
    "\n",
    "# have a look at the data\n",
    "h2o.describe(train_h)"
   ]
  },
  {
   "cell_type": "code",
   "execution_count": 7,
   "id": "5e716bf9",
   "metadata": {
    "execution": {
     "iopub.execute_input": "2021-03-24T11:24:32.218623Z",
     "iopub.status.busy": "2021-03-24T11:24:32.216742Z",
     "iopub.status.idle": "2021-03-24T11:25:12.913198Z",
     "shell.execute_reply": "2021-03-24T11:25:12.910837Z"
    },
    "papermill": {
     "duration": 40.72251,
     "end_time": "2021-03-24T11:25:12.913500",
     "exception": false,
     "start_time": "2021-03-24T11:24:32.190990",
     "status": "completed"
    },
    "tags": []
   },
   "outputs": [
    {
     "data": {
      "text/html": [
       "<style>\n",
       ".list-inline {list-style: none; margin:0; padding: 0}\n",
       ".list-inline>li {display: inline-block}\n",
       ".list-inline>li:not(:last-child)::after {content: \"\\00b7\"; padding: 0 .5ex}\n",
       "</style>\n",
       "<ol class=list-inline><li>'lwage'</li><li>'sex'</li><li>'shs'</li><li>'hsg'</li><li>'scl'</li><li>'clg'</li><li>'ad'</li><li>'mw'</li><li>'so'</li><li>'we'</li><li>'ne'</li><li>'exp1'</li><li>'exp2'</li><li>'exp3'</li><li>'exp4'</li><li>'occ'</li><li>'ind'</li></ol>\n"
      ],
      "text/latex": [
       "\\begin{enumerate*}\n",
       "\\item 'lwage'\n",
       "\\item 'sex'\n",
       "\\item 'shs'\n",
       "\\item 'hsg'\n",
       "\\item 'scl'\n",
       "\\item 'clg'\n",
       "\\item 'ad'\n",
       "\\item 'mw'\n",
       "\\item 'so'\n",
       "\\item 'we'\n",
       "\\item 'ne'\n",
       "\\item 'exp1'\n",
       "\\item 'exp2'\n",
       "\\item 'exp3'\n",
       "\\item 'exp4'\n",
       "\\item 'occ'\n",
       "\\item 'ind'\n",
       "\\end{enumerate*}\n"
      ],
      "text/markdown": [
       "1. 'lwage'\n",
       "2. 'sex'\n",
       "3. 'shs'\n",
       "4. 'hsg'\n",
       "5. 'scl'\n",
       "6. 'clg'\n",
       "7. 'ad'\n",
       "8. 'mw'\n",
       "9. 'so'\n",
       "10. 'we'\n",
       "11. 'ne'\n",
       "12. 'exp1'\n",
       "13. 'exp2'\n",
       "14. 'exp3'\n",
       "15. 'exp4'\n",
       "16. 'occ'\n",
       "17. 'ind'\n",
       "\n",
       "\n"
      ],
      "text/plain": [
       " [1] \"lwage\" \"sex\"   \"shs\"   \"hsg\"   \"scl\"   \"clg\"   \"ad\"    \"mw\"    \"so\"   \n",
       "[10] \"we\"    \"ne\"    \"exp1\"  \"exp2\"  \"exp3\"  \"exp4\"  \"occ\"   \"ind\"  "
      ]
     },
     "metadata": {},
     "output_type": "display_data"
    }
   ],
   "source": [
    "# define the variables\n",
    "y = 'lwage'\n",
    "x = setdiff(names(data), c('wage','occ2', 'ind2'))\n",
    "x"
   ]
  },
  {
   "cell_type": "code",
   "execution_count": 8,
   "id": "invalid-blade",
   "metadata": {
    "execution": {
     "iopub.execute_input": "2021-03-24T11:24:32.218623Z",
     "iopub.status.busy": "2021-03-24T11:24:32.216742Z",
     "iopub.status.idle": "2021-03-24T11:25:12.913198Z",
     "shell.execute_reply": "2021-03-24T11:25:12.910837Z"
    },
    "papermill": {
     "duration": 40.72251,
     "end_time": "2021-03-24T11:25:12.913500",
     "exception": false,
     "start_time": "2021-03-24T11:24:32.190990",
     "status": "completed"
    },
    "tags": []
   },
   "outputs": [
    {
     "name": "stderr",
     "output_type": "stream",
     "text": [
      "Warning message in .verify_dataxy(training_frame, x, y):\n",
      "\"removing response variable from the explanatory variables\"\n"
     ]
    },
    {
     "name": "stdout",
     "output_type": "stream",
     "text": [
      "  |                                                                      |   0%\n",
      "  |======================================================================| 100%\n",
      "                                              model_id mean_residual_deviance\n",
      "1     StackedEnsemble_AllModels_AutoML_20210418_161218              0.2161851\n",
      "2  StackedEnsemble_BestOfFamily_AutoML_20210418_161218              0.2169465\n",
      "3                         GLM_1_AutoML_20210418_161218              0.2249230\n",
      "4                         GBM_2_AutoML_20210418_161218              0.2267006\n",
      "5                         GBM_1_AutoML_20210418_161218              0.2272519\n",
      "6           GBM_grid__1_AutoML_20210418_161218_model_1              0.2277730\n",
      "7                         GBM_4_AutoML_20210418_161218              0.2282935\n",
      "8                         GBM_3_AutoML_20210418_161218              0.2296293\n",
      "9                         GBM_5_AutoML_20210418_161218              0.2304692\n",
      "10                        DRF_1_AutoML_20210418_161218              0.2330350\n",
      "11               DeepLearning_1_AutoML_20210418_161218              0.2559651\n",
      "12                        XRT_1_AutoML_20210418_161218              0.2630386\n",
      "        rmse       mse       mae     rmsle\n",
      "1  0.4649571 0.2161851 0.3465184 0.1173993\n",
      "2  0.4657751 0.2169465 0.3470786 0.1175817\n",
      "3  0.4742604 0.2249230 0.3527871 0.1195584\n",
      "4  0.4761309 0.2267006 0.3523627 0.1202115\n",
      "5  0.4767094 0.2272519 0.3560885 0.1210794\n",
      "6  0.4772557 0.2277730 0.3565695 0.1204772\n",
      "7  0.4778007 0.2282935 0.3560883 0.1205781\n",
      "8  0.4791965 0.2296293 0.3563693 0.1212202\n",
      "9  0.4800721 0.2304692 0.3566847 0.1211980\n",
      "10 0.4827370 0.2330350 0.3606736 0.1220230\n",
      "11 0.5059299 0.2559651 0.3790641 0.1269445\n",
      "12 0.5128729 0.2630386 0.3925891 0.1290434\n",
      "\n",
      "[12 rows x 6 columns] \n"
     ]
    }
   ],
   "source": [
    "# run AutoML for 10 base models and a maximal runtime of 100 seconds\n",
    "aml = h2o.automl(x=x,y = y,\n",
    "                  training_frame = train_h,\n",
    "                  leaderboard_frame = test_h,\n",
    "                  max_models = 10,\n",
    "                  seed = 1,\n",
    "                  max_runtime_secs = 100\n",
    "                 )\n",
    "# AutoML Leaderboard\n",
    "lb = aml@leaderboard\n",
    "print(lb, n = nrow(lb))"
   ]
  },
  {
   "cell_type": "markdown",
   "id": "entertaining-making",
   "metadata": {
    "papermill": {
     "duration": 0.028316,
     "end_time": "2021-03-24T11:25:12.970888",
     "exception": false,
     "start_time": "2021-03-24T11:25:12.942572",
     "status": "completed"
    },
    "tags": []
   },
   "source": [
    "We see that two Stacked Ensembles are at the top of the leaderboard. Stacked Ensembles often outperform a single model. The out-of-sample (test) MSE of the leading model is given by"
   ]
  },
  {
   "cell_type": "code",
   "execution_count": 9,
   "id": "spread-resident",
   "metadata": {
    "execution": {
     "iopub.execute_input": "2021-03-24T11:25:13.032063Z",
     "iopub.status.busy": "2021-03-24T11:25:13.030479Z",
     "iopub.status.idle": "2021-03-24T11:25:13.291596Z",
     "shell.execute_reply": "2021-03-24T11:25:13.290039Z"
    },
    "papermill": {
     "duration": 0.29223,
     "end_time": "2021-03-24T11:25:13.291880",
     "exception": false,
     "start_time": "2021-03-24T11:25:12.999650",
     "status": "completed"
    },
    "tags": []
   },
   "outputs": [
    {
     "data": {
      "text/plain": [
       "        mse\n",
       "1 0.2161851\n",
       "\n",
       "[1 row x 1 column] "
      ]
     },
     "metadata": {},
     "output_type": "display_data"
    }
   ],
   "source": [
    "aml@leaderboard$mse[1]"
   ]
  },
  {
   "cell_type": "markdown",
   "id": "embedded-tomorrow",
   "metadata": {
    "papermill": {
     "duration": 0.026882,
     "end_time": "2021-03-24T11:25:13.345629",
     "exception": false,
     "start_time": "2021-03-24T11:25:13.318747",
     "status": "completed"
    },
    "tags": []
   },
   "source": [
    "The in-sample performance can be evaluated by"
   ]
  },
  {
   "cell_type": "code",
   "execution_count": 10,
   "id": "compound-sleeping",
   "metadata": {
    "execution": {
     "iopub.execute_input": "2021-03-24T11:25:13.408388Z",
     "iopub.status.busy": "2021-03-24T11:25:13.406786Z",
     "iopub.status.idle": "2021-03-24T11:25:13.434846Z",
     "shell.execute_reply": "2021-03-24T11:25:13.433454Z"
    },
    "papermill": {
     "duration": 0.060902,
     "end_time": "2021-03-24T11:25:13.435001",
     "exception": false,
     "start_time": "2021-03-24T11:25:13.374099",
     "status": "completed"
    },
    "tags": []
   },
   "outputs": [
    {
     "data": {
      "text/plain": [
       "Model Details:\n",
       "==============\n",
       "\n",
       "H2ORegressionModel: stackedensemble\n",
       "Model ID:  StackedEnsemble_AllModels_AutoML_20210418_161218 \n",
       "Number of Base Models: 10\n",
       "\n",
       "Base Models (count by algorithm type):\n",
       "\n",
       "deeplearning          drf          gbm          glm \n",
       "           1            2            6            1 \n",
       "\n",
       "Metalearner:\n",
       "\n",
       "Metalearner algorithm: glm\n",
       "Metalearner cross-validation fold assignment:\n",
       "  Fold assignment scheme: AUTO\n",
       "  Number of folds: 5\n",
       "  Fold column: NULL\n",
       "Metalearner hyperparameters: \n",
       "\n",
       "\n",
       "H2ORegressionMetrics: stackedensemble\n",
       "** Reported on training data. **\n",
       "\n",
       "MSE:  0.1120885\n",
       "RMSE:  0.3347963\n",
       "MAE:  0.2505204\n",
       "RMSLE:  0.08668005\n",
       "Mean Residual Deviance :  0.1120885\n",
       "\n",
       "\n",
       "\n",
       "H2ORegressionMetrics: stackedensemble\n",
       "** Reported on cross-validation data. **\n",
       "** 5-fold cross-validation on training data (Metrics computed for combined holdout predictions) **\n",
       "\n",
       "MSE:  0.2145879\n",
       "RMSE:  0.4632364\n",
       "MAE:  0.3508643\n",
       "RMSLE:  0.1186928\n",
       "Mean Residual Deviance :  0.2145879\n",
       "\n"
      ]
     },
     "metadata": {},
     "output_type": "display_data"
    }
   ],
   "source": [
    "aml@leader"
   ]
  },
  {
   "cell_type": "markdown",
   "id": "peaceful-grave",
   "metadata": {
    "papermill": {
     "duration": 0.027663,
     "end_time": "2021-03-24T11:25:13.491063",
     "exception": false,
     "start_time": "2021-03-24T11:25:13.463400",
     "status": "completed"
    },
    "tags": []
   },
   "source": [
    "This is in line with our previous results. To understand how the ensemble works, let's take a peek inside the Stacked Ensemble \"All Models\" model.  The \"All Models\" ensemble is an ensemble of all of the individual models in the AutoML run.  This is often the top performing model on the leaderboard."
   ]
  },
  {
   "cell_type": "code",
   "execution_count": 11,
   "id": "piano-content",
   "metadata": {
    "execution": {
     "iopub.execute_input": "2021-03-24T11:25:13.554321Z",
     "iopub.status.busy": "2021-03-24T11:25:13.552770Z",
     "iopub.status.idle": "2021-03-24T11:25:13.773183Z",
     "shell.execute_reply": "2021-03-24T11:25:13.771595Z"
    },
    "papermill": {
     "duration": 0.254859,
     "end_time": "2021-03-24T11:25:13.773369",
     "exception": false,
     "start_time": "2021-03-24T11:25:13.518510",
     "status": "completed"
    },
    "tags": []
   },
   "outputs": [
    {
     "data": {
      "text/html": [
       "<table class=\"dataframe\">\n",
       "<caption>A H2OTable: 10 × 4</caption>\n",
       "<thead>\n",
       "\t<tr><th scope=col>variable</th><th scope=col>relative_importance</th><th scope=col>scaled_importance</th><th scope=col>percentage</th></tr>\n",
       "\t<tr><th scope=col>&lt;chr&gt;</th><th scope=col>&lt;dbl&gt;</th><th scope=col>&lt;dbl&gt;</th><th scope=col>&lt;dbl&gt;</th></tr>\n",
       "</thead>\n",
       "<tbody>\n",
       "\t<tr><td>GLM_1_AutoML_20210418_161218              </td><td>0.188113615</td><td>1.000000000</td><td>0.508876692</td></tr>\n",
       "\t<tr><td>GBM_2_AutoML_20210418_161218              </td><td>0.074993841</td><td>0.398662486</td><td>0.202870047</td></tr>\n",
       "\t<tr><td>DRF_1_AutoML_20210418_161218              </td><td>0.040507846</td><td>0.215337128</td><td>0.109580045</td></tr>\n",
       "\t<tr><td>GBM_4_AutoML_20210418_161218              </td><td>0.027679166</td><td>0.147140683</td><td>0.074876464</td></tr>\n",
       "\t<tr><td>GBM_1_AutoML_20210418_161218              </td><td>0.026224079</td><td>0.139405532</td><td>0.070940226</td></tr>\n",
       "\t<tr><td>GBM_3_AutoML_20210418_161218              </td><td>0.005993288</td><td>0.031859940</td><td>0.016212781</td></tr>\n",
       "\t<tr><td>XRT_1_AutoML_20210418_161218              </td><td>0.004510717</td><td>0.023978687</td><td>0.012202195</td></tr>\n",
       "\t<tr><td>GBM_grid__1_AutoML_20210418_161218_model_1</td><td>0.001641883</td><td>0.008728145</td><td>0.004441549</td></tr>\n",
       "\t<tr><td>GBM_5_AutoML_20210418_161218              </td><td>0.000000000</td><td>0.000000000</td><td>0.000000000</td></tr>\n",
       "\t<tr><td>DeepLearning_1_AutoML_20210418_161218     </td><td>0.000000000</td><td>0.000000000</td><td>0.000000000</td></tr>\n",
       "</tbody>\n",
       "</table>\n"
      ],
      "text/latex": [
       "A H2OTable: 10 × 4\n",
       "\\begin{tabular}{llll}\n",
       " variable & relative\\_importance & scaled\\_importance & percentage\\\\\n",
       " <chr> & <dbl> & <dbl> & <dbl>\\\\\n",
       "\\hline\n",
       "\t GLM\\_1\\_AutoML\\_20210418\\_161218               & 0.188113615 & 1.000000000 & 0.508876692\\\\\n",
       "\t GBM\\_2\\_AutoML\\_20210418\\_161218               & 0.074993841 & 0.398662486 & 0.202870047\\\\\n",
       "\t DRF\\_1\\_AutoML\\_20210418\\_161218               & 0.040507846 & 0.215337128 & 0.109580045\\\\\n",
       "\t GBM\\_4\\_AutoML\\_20210418\\_161218               & 0.027679166 & 0.147140683 & 0.074876464\\\\\n",
       "\t GBM\\_1\\_AutoML\\_20210418\\_161218               & 0.026224079 & 0.139405532 & 0.070940226\\\\\n",
       "\t GBM\\_3\\_AutoML\\_20210418\\_161218               & 0.005993288 & 0.031859940 & 0.016212781\\\\\n",
       "\t XRT\\_1\\_AutoML\\_20210418\\_161218               & 0.004510717 & 0.023978687 & 0.012202195\\\\\n",
       "\t GBM\\_grid\\_\\_1\\_AutoML\\_20210418\\_161218\\_model\\_1 & 0.001641883 & 0.008728145 & 0.004441549\\\\\n",
       "\t GBM\\_5\\_AutoML\\_20210418\\_161218               & 0.000000000 & 0.000000000 & 0.000000000\\\\\n",
       "\t DeepLearning\\_1\\_AutoML\\_20210418\\_161218      & 0.000000000 & 0.000000000 & 0.000000000\\\\\n",
       "\\end{tabular}\n"
      ],
      "text/markdown": [
       "\n",
       "A H2OTable: 10 × 4\n",
       "\n",
       "| variable &lt;chr&gt; | relative_importance &lt;dbl&gt; | scaled_importance &lt;dbl&gt; | percentage &lt;dbl&gt; |\n",
       "|---|---|---|---|\n",
       "| GLM_1_AutoML_20210418_161218               | 0.188113615 | 1.000000000 | 0.508876692 |\n",
       "| GBM_2_AutoML_20210418_161218               | 0.074993841 | 0.398662486 | 0.202870047 |\n",
       "| DRF_1_AutoML_20210418_161218               | 0.040507846 | 0.215337128 | 0.109580045 |\n",
       "| GBM_4_AutoML_20210418_161218               | 0.027679166 | 0.147140683 | 0.074876464 |\n",
       "| GBM_1_AutoML_20210418_161218               | 0.026224079 | 0.139405532 | 0.070940226 |\n",
       "| GBM_3_AutoML_20210418_161218               | 0.005993288 | 0.031859940 | 0.016212781 |\n",
       "| XRT_1_AutoML_20210418_161218               | 0.004510717 | 0.023978687 | 0.012202195 |\n",
       "| GBM_grid__1_AutoML_20210418_161218_model_1 | 0.001641883 | 0.008728145 | 0.004441549 |\n",
       "| GBM_5_AutoML_20210418_161218               | 0.000000000 | 0.000000000 | 0.000000000 |\n",
       "| DeepLearning_1_AutoML_20210418_161218      | 0.000000000 | 0.000000000 | 0.000000000 |\n",
       "\n"
      ],
      "text/plain": [
       "   variable                                   relative_importance\n",
       "1  GLM_1_AutoML_20210418_161218               0.188113615        \n",
       "2  GBM_2_AutoML_20210418_161218               0.074993841        \n",
       "3  DRF_1_AutoML_20210418_161218               0.040507846        \n",
       "4  GBM_4_AutoML_20210418_161218               0.027679166        \n",
       "5  GBM_1_AutoML_20210418_161218               0.026224079        \n",
       "6  GBM_3_AutoML_20210418_161218               0.005993288        \n",
       "7  XRT_1_AutoML_20210418_161218               0.004510717        \n",
       "8  GBM_grid__1_AutoML_20210418_161218_model_1 0.001641883        \n",
       "9  GBM_5_AutoML_20210418_161218               0.000000000        \n",
       "10 DeepLearning_1_AutoML_20210418_161218      0.000000000        \n",
       "   scaled_importance percentage \n",
       "1  1.000000000       0.508876692\n",
       "2  0.398662486       0.202870047\n",
       "3  0.215337128       0.109580045\n",
       "4  0.147140683       0.074876464\n",
       "5  0.139405532       0.070940226\n",
       "6  0.031859940       0.016212781\n",
       "7  0.023978687       0.012202195\n",
       "8  0.008728145       0.004441549\n",
       "9  0.000000000       0.000000000\n",
       "10 0.000000000       0.000000000"
      ]
     },
     "metadata": {},
     "output_type": "display_data"
    }
   ],
   "source": [
    "model_ids <- as.data.frame(aml@leaderboard$model_id)[,1]\n",
    "# Get the \"All Models\" Stacked Ensemble model\n",
    "se <- h2o.getModel(grep(\"StackedEnsemble_AllModels\", model_ids, value = TRUE)[1])\n",
    "# Get the Stacked Ensemble metalearner model\n",
    "metalearner <- se@model$metalearner_model\n",
    "h2o.varimp(metalearner)"
   ]
  },
  {
   "cell_type": "markdown",
   "id": "amber-meditation",
   "metadata": {
    "papermill": {
     "duration": 0.028741,
     "end_time": "2021-03-24T11:25:13.832588",
     "exception": false,
     "start_time": "2021-03-24T11:25:13.803847",
     "status": "completed"
    },
    "tags": []
   },
   "source": [
    "The table above gives us the variable importance of the metalearner in the ensemble. The AutoML Stacked Ensembles use the default metalearner algorithm (GLM with non-negative weights), so the variable importance of the metalearner is actually the standardized coefficient magnitudes of the GLM. \n"
   ]
  },
  {
   "cell_type": "code",
   "execution_count": 13,
   "id": "reserved-trademark",
   "metadata": {
    "execution": {
     "iopub.execute_input": "2021-03-24T11:25:13.897321Z",
     "iopub.status.busy": "2021-03-24T11:25:13.895817Z",
     "iopub.status.idle": "2021-03-24T11:25:14.283123Z",
     "shell.execute_reply": "2021-03-24T11:25:14.281931Z"
    },
    "papermill": {
     "duration": 0.421132,
     "end_time": "2021-03-24T11:25:14.283327",
     "exception": false,
     "start_time": "2021-03-24T11:25:13.862195",
     "status": "completed"
    },
    "tags": []
   },
   "outputs": [
    {
     "data": {
      "image/png": "[encoded data removed]",
      "text/plain": [
       "Plot with title \"Variable Importance: GLM\""
      ]
     },
     "metadata": {
      "image/png": {
       "height": 420,
       "width": 420
      }
     },
     "output_type": "display_data"
    }
   ],
   "source": [
    "h2o.varimp_plot(metalearner)"
   ]
  },
  {
   "cell_type": "markdown",
   "id": "adjustable-repository",
   "metadata": {
    "papermill": {
     "duration": 0.030956,
     "end_time": "2021-03-24T11:25:14.345344",
     "exception": false,
     "start_time": "2021-03-24T11:25:14.314388",
     "status": "completed"
    },
    "tags": []
   },
   "source": [
    "## Generating Predictions Using Leader Model\n",
    "\n",
    "We can also generate predictions on a test sample using the leader model object."
   ]
  },
  {
   "cell_type": "code",
   "execution_count": 14,
   "id": "answering-uganda",
   "metadata": {
    "execution": {
     "iopub.execute_input": "2021-03-24T11:25:14.415237Z",
     "iopub.status.busy": "2021-03-24T11:25:14.412988Z",
     "iopub.status.idle": "2021-03-24T11:25:15.551800Z",
     "shell.execute_reply": "2021-03-24T11:25:15.549874Z"
    },
    "papermill": {
     "duration": 1.175942,
     "end_time": "2021-03-24T11:25:15.551977",
     "exception": false,
     "start_time": "2021-03-24T11:25:14.376035",
     "status": "completed"
    },
    "tags": []
   },
   "outputs": [
    {
     "name": "stdout",
     "output_type": "stream",
     "text": [
      "  |======================================================================| 100%\n"
     ]
    },
    {
     "name": "stderr",
     "output_type": "stream",
     "text": [
      "Warning message in doTryCatch(return(expr), name, parentenv, handler):\n",
      "\"Test/Validation dataset column 'occ' has levels not trained on: [\"2050\", \"2840\", \"3610\", \"3710\", \"3910\", \"4130\", \"5250\", \"5630\", \"6530\", \"6720\", \"8620\", \"9200\", \"9750\"]\"\n",
      "Warning message in doTryCatch(return(expr), name, parentenv, handler):\n",
      "\"Test/Validation dataset column 'ind' has levels not trained on: [\"4980\", \"690\", \"7990\"]\"\n"
     ]
    },
    {
     "data": {
      "text/html": [
       "<table class=\"dataframe\">\n",
       "<caption>A matrix: 6 × 1 of type dbl</caption>\n",
       "<thead>\n",
       "\t<tr><th scope=col>predict</th></tr>\n",
       "</thead>\n",
       "<tbody>\n",
       "\t<tr><td>3.230960</td></tr>\n",
       "\t<tr><td>2.614709</td></tr>\n",
       "\t<tr><td>3.425559</td></tr>\n",
       "\t<tr><td>2.395329</td></tr>\n",
       "\t<tr><td>2.788637</td></tr>\n",
       "\t<tr><td>2.652132</td></tr>\n",
       "</tbody>\n",
       "</table>\n"
      ],
      "text/latex": [
       "A matrix: 6 × 1 of type dbl\n",
       "\\begin{tabular}{l}\n",
       " predict\\\\\n",
       "\\hline\n",
       "\t 3.230960\\\\\n",
       "\t 2.614709\\\\\n",
       "\t 3.425559\\\\\n",
       "\t 2.395329\\\\\n",
       "\t 2.788637\\\\\n",
       "\t 2.652132\\\\\n",
       "\\end{tabular}\n"
      ],
      "text/markdown": [
       "\n",
       "A matrix: 6 × 1 of type dbl\n",
       "\n",
       "| predict |\n",
       "|---|\n",
       "| 3.230960 |\n",
       "| 2.614709 |\n",
       "| 3.425559 |\n",
       "| 2.395329 |\n",
       "| 2.788637 |\n",
       "| 2.652132 |\n",
       "\n"
      ],
      "text/plain": [
       "     predict \n",
       "[1,] 3.230960\n",
       "[2,] 2.614709\n",
       "[3,] 3.425559\n",
       "[4,] 2.395329\n",
       "[5,] 2.788637\n",
       "[6,] 2.652132"
      ]
     },
     "metadata": {},
     "output_type": "display_data"
    }
   ],
   "source": [
    "pred <- as.matrix(h2o.predict(aml@leader,test_h)) # make prediction using x data from the test sample\n",
    "head(pred)"
   ]
  },
  {
   "cell_type": "markdown",
   "id": "conceptual-victor",
   "metadata": {
    "papermill": {
     "duration": 0.033008,
     "end_time": "2021-03-24T11:25:15.618587",
     "exception": false,
     "start_time": "2021-03-24T11:25:15.585579",
     "status": "completed"
    },
    "tags": []
   },
   "source": [
    "This allows us to estimate the out-of-sample (test) MSE and the standard error as well."
   ]
  },
  {
   "cell_type": "code",
   "execution_count": 15,
   "id": "steady-blend",
   "metadata": {
    "execution": {
     "iopub.execute_input": "2021-03-24T11:25:15.690691Z",
     "iopub.status.busy": "2021-03-24T11:25:15.688765Z",
     "iopub.status.idle": "2021-03-24T11:25:15.788558Z",
     "shell.execute_reply": "2021-03-24T11:25:15.786923Z"
    },
    "papermill": {
     "duration": 0.137339,
     "end_time": "2021-03-24T11:25:15.788713",
     "exception": false,
     "start_time": "2021-03-24T11:25:15.651374",
     "status": "completed"
    },
    "tags": []
   },
   "outputs": [
    {
     "data": {
      "text/html": [
       "<style>\n",
       ".list-inline {list-style: none; margin:0; padding: 0}\n",
       ".list-inline>li {display: inline-block}\n",
       ".list-inline>li:not(:last-child)::after {content: \"\\00b7\"; padding: 0 .5ex}\n",
       "</style>\n",
       "<ol class=list-inline><li>0.216185139717896</li><li>0.0132339591799112</li></ol>\n"
      ],
      "text/latex": [
       "\\begin{enumerate*}\n",
       "\\item 0.216185139717896\n",
       "\\item 0.0132339591799112\n",
       "\\end{enumerate*}\n"
      ],
      "text/markdown": [
       "1. 0.216185139717896\n",
       "2. 0.0132339591799112\n",
       "\n",
       "\n"
      ],
      "text/plain": [
       "[1] 0.21618514 0.01323396"
      ]
     },
     "metadata": {},
     "output_type": "display_data"
    }
   ],
   "source": [
    "y_test <- as.matrix(test_h$lwage)\n",
    "summary(lm((y_test-pred)^2~1))$coef[1:2]"
   ]
  },
  {
   "cell_type": "markdown",
   "id": "configured-spray",
   "metadata": {
    "papermill": {
     "duration": 0.034945,
     "end_time": "2021-03-24T11:25:15.858930",
     "exception": false,
     "start_time": "2021-03-24T11:25:15.823985",
     "status": "completed"
    },
    "tags": []
   },
   "source": [
    "We observe both a lower MSE and a lower standard error compared to our previous results (see [here](https://www.kaggle.com/janniskueck/pm3-notebook-newdata))."
   ]
  },
  {
   "cell_type": "code",
   "execution_count": null,
   "id": "sufficient-adjustment",
   "metadata": {
    "execution": {
     "iopub.execute_input": "2021-03-24T11:25:15.931968Z",
     "iopub.status.busy": "2021-03-24T11:25:15.930030Z",
     "iopub.status.idle": "2021-03-24T11:25:15.966908Z",
     "shell.execute_reply": "2021-03-24T11:25:15.965505Z"
    },
    "papermill": {
     "duration": 0.074909,
     "end_time": "2021-03-24T11:25:15.967065",
     "exception": false,
     "start_time": "2021-03-24T11:25:15.892156",
     "status": "completed"
    },
    "tags": []
   },
   "outputs": [],
   "source": [
    "h2o.shutdown(prompt = F)"
   ]
  }
 ],
 "metadata": {
  "kernelspec": {
   "display_name": "R",
   "language": "R",
   "name": "ir"
  },
  "language_info": {
   "codemirror_mode": "r",
   "file_extension": ".r",
   "mimetype": "text/x-r-source",
   "name": "R",
   "pygments_lexer": "r",
   "version": "4.0.4"
  },
  "papermill": {
   "default_parameters": {},
   "duration": 62.011749,
   "end_time": "2021-03-24T11:25:17.053885",
   "environment_variables": {},
   "exception": null,
   "input_path": "__notebook__.ipynb",
   "output_path": "__notebook__.ipynb",
   "parameters": {},
   "start_time": "2021-03-24T11:24:15.042136",
   "version": "2.3.2"
  }
 },
 "nbformat": 4,
 "nbformat_minor": 5
}
