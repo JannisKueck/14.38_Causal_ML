{
 "cells": [
  {
   "cell_type": "markdown",
   "metadata": {
    "papermill": {
     "duration": 0.018414,
     "end_time": "2021-02-13T17:30:13.212232",
     "exception": false,
     "start_time": "2021-02-13T17:30:13.193818",
     "status": "completed"
    },
    "tags": []
   },
   "source": [
    "This notebook contains an example for teaching."
   ]
  },
  {
   "cell_type": "markdown",
   "metadata": {
    "papermill": {
     "duration": 0.016442,
     "end_time": "2021-02-13T17:30:13.246048",
     "exception": false,
     "start_time": "2021-02-13T17:30:13.229606",
     "status": "completed"
    },
    "tags": []
   },
   "source": [
    "# A Case Study: The Effect of Gun Ownership on Gun-Homicide Rates"
   ]
  },
  {
   "cell_type": "markdown",
   "metadata": {
    "papermill": {
     "duration": 0.017996,
     "end_time": "2021-02-13T17:30:13.281738",
     "exception": false,
     "start_time": "2021-02-13T17:30:13.263742",
     "status": "completed"
    },
    "tags": []
   },
   "source": [
    "We consider the problem of estimating the effect of gun\n",
    "ownership on the homicide rate. For this purpose, we estimate the following partially\n",
    "linear model\n",
    "\n",
    "$$\n",
    " Y_{j,t} = \\beta D_{j,(t-1)} + g(Z_{j,t}) + \\epsilon_{j,t}.\n",
    "$$"
   ]
  },
  {
   "cell_type": "markdown",
   "metadata": {
    "papermill": {
     "duration": 0.016649,
     "end_time": "2021-02-13T17:30:13.315270",
     "exception": false,
     "start_time": "2021-02-13T17:30:13.298621",
     "status": "completed"
    },
    "tags": []
   },
   "source": [
    "## Data"
   ]
  },
  {
   "cell_type": "markdown",
   "metadata": {
    "papermill": {
     "duration": 0.018756,
     "end_time": "2021-02-13T17:30:13.351290",
     "exception": false,
     "start_time": "2021-02-13T17:30:13.332534",
     "status": "completed"
    },
    "tags": []
   },
   "source": [
    "$Y_{j,t}$ is log homicide rate in county $j$ at time $t$, $D_{j, t-1}$ is log  fraction of suicides committed with a firearm in county $j$ at time $t-1$, which we use as a proxy for gun ownership,  and  $Z_{j,t}$ is a set of demographic and economic characteristics of county $j$ at time $t$. The parameter $\\beta$ is the effect of gun ownership on the\n",
    "homicide rates, controlling for county-level demographic and economic characteristics. \n",
    "\n",
    "The sample covers 195 large United States counties between the years 1980 through 1999, giving us 3900 observations."
   ]
  },
  {
   "cell_type": "code",
   "execution_count": 3,
   "metadata": {
    "execution": {
     "iopub.execute_input": "2021-02-13T17:30:13.420018Z",
     "iopub.status.busy": "2021-02-13T17:30:13.417784Z",
     "iopub.status.idle": "2021-02-13T17:30:14.397557Z",
     "shell.execute_reply": "2021-02-13T17:30:14.396020Z"
    },
    "papermill": {
     "duration": 1.027605,
     "end_time": "2021-02-13T17:30:14.397806",
     "exception": false,
     "start_time": "2021-02-13T17:30:13.370201",
     "status": "completed"
    },
    "tags": []
   },
   "outputs": [
    {
     "data": {
      "text/html": [
       "3900"
      ],
      "text/latex": [
       "3900"
      ],
      "text/markdown": [
       "3900"
      ],
      "text/plain": [
       "[1] 3900"
      ]
     },
     "metadata": {},
     "output_type": "display_data"
    }
   ],
   "source": [
    "data <- read.csv(\"../data/gun_clean.csv\") \n",
    "dim(data)[1]"
   ]
  },
  {
   "cell_type": "markdown",
   "metadata": {
    "papermill": {
     "duration": 0.017216,
     "end_time": "2021-02-13T17:30:14.432656",
     "exception": false,
     "start_time": "2021-02-13T17:30:14.415440",
     "status": "completed"
    },
    "tags": []
   },
   "source": [
    "### Preprocessing"
   ]
  },
  {
   "cell_type": "markdown",
   "metadata": {
    "papermill": {
     "duration": 0.017212,
     "end_time": "2021-02-13T17:30:14.467075",
     "exception": false,
     "start_time": "2021-02-13T17:30:14.449863",
     "status": "completed"
    },
    "tags": []
   },
   "source": [
    "To account for heterogeneity across counties and time trends in  all variables, we remove from them county-specific and time-specific effects in the following preprocessing."
   ]
  },
  {
   "cell_type": "code",
   "execution_count": 4,
   "metadata": {
    "execution": {
     "iopub.execute_input": "2021-02-13T17:30:14.549368Z",
     "iopub.status.busy": "2021-02-13T17:30:14.504714Z",
     "iopub.status.idle": "2021-02-13T17:30:38.894116Z",
     "shell.execute_reply": "2021-02-13T17:30:38.893545Z"
    },
    "papermill": {
     "duration": 24.410531,
     "end_time": "2021-02-13T17:30:38.894264",
     "exception": false,
     "start_time": "2021-02-13T17:30:14.483733",
     "status": "completed"
    },
    "tags": []
   },
   "outputs": [],
   "source": [
    "#################################  Find Variable Names from Dataset ########################\n",
    "\n",
    "varlist <- function (df=NULL,type=c(\"numeric\",\"factor\",\"character\"), pattern=\"\", exclude=NULL) {\n",
    "  vars <- character(0)\n",
    "  if (any(type %in% \"numeric\")) {\n",
    "    vars <- c(vars,names(df)[sapply(df,is.numeric)])\n",
    "  }\n",
    "  if (any(type %in% \"factor\")) {\n",
    "    vars <- c(vars,names(df)[sapply(df,is.factor)])\n",
    "  }  \n",
    "  if (any(type %in% \"character\")) {\n",
    "    vars <- c(vars,names(df)[sapply(df,is.character)])\n",
    "  }  \n",
    "  vars[(!vars %in% exclude) & grepl(vars,pattern=pattern)]\n",
    "}\n",
    "\n",
    "################################# Create Variables ###############################\n",
    "\n",
    "\n",
    "# Dummy Variables for Year and County Fixed Effects\n",
    "fixed  <- grep(\"X_Jfips\", names(data), value=TRUE, fixed=TRUE)\n",
    "year   <- varlist(data, pattern=\"X_Tyear\")\n",
    "\n",
    "# Census Control Variables\n",
    "census     <- NULL\n",
    "census_var <- c(\"^AGE\", \"^BN\", \"^BP\", \"^BZ\", \"^ED\", \"^EL\",\"^HI\", \"^HS\", \"^INC\", \"^LF\", \"^LN\", \"^PI\", \"^PO\", \"^PP\", \"^PV\", \"^SPR\", \"^VS\")\n",
    "\n",
    "for(i in 1:length(census_var)){\n",
    "  \n",
    "  census  <- append(census, varlist(data, pattern=census_var[i]))\n",
    "  \n",
    "}\n",
    "\n",
    "################################ Variables ##################################\n",
    "# Treatment Variable\n",
    "d     <- \"logfssl\"\n",
    "\n",
    "# Outcome Variable\n",
    "y     <- \"logghomr\"\n",
    "\n",
    "# Other Control Variables\n",
    "X1    <- c(\"logrobr\", \"logburg\", \"burg_missing\", \"robrate_missing\")\n",
    "X2    <- c(\"newblack\", \"newfhh\", \"newmove\", \"newdens\", \"newmal\")\n",
    "\n",
    "#################################  Partial out Fixed Effects ########################\n",
    "\n",
    "# New Dataset for Partiled-out Variables\n",
    "rdata    <- as.data.frame(data$CountyCode) \n",
    "colnames(rdata) <- \"CountyCode\"\n",
    "\n",
    "# Variables to be Partialled-out\n",
    "varlist <- c(y, d,X1, X2, census)\n",
    "\n",
    "\n",
    "# Partial out Variables in varlist from year and county fixed effect\n",
    "for(i in 1:length(varlist)){\n",
    "  form <- as.formula(paste(varlist[i], \"~\", paste(paste(year,collapse=\"+\"),  paste(fixed,collapse=\"+\"), sep=\"+\")))\n",
    "  rdata[, varlist[i]] <- lm(form, data)$residuals\n",
    "}"
   ]
  },
  {
   "cell_type": "markdown",
   "metadata": {
    "papermill": {
     "duration": 0.016789,
     "end_time": "2021-02-13T17:30:38.928857",
     "exception": false,
     "start_time": "2021-02-13T17:30:38.912068",
     "status": "completed"
    },
    "tags": []
   },
   "source": [
    "Now, we can construct the treatment variable, the outcome variable and the matrix $Z$ that includes the control variables."
   ]
  },
  {
   "cell_type": "code",
   "execution_count": 5,
   "metadata": {
    "execution": {
     "iopub.execute_input": "2021-02-13T17:30:38.968895Z",
     "iopub.status.busy": "2021-02-13T17:30:38.967511Z",
     "iopub.status.idle": "2021-02-13T17:30:38.988737Z",
     "shell.execute_reply": "2021-02-13T17:30:38.987198Z"
    },
    "papermill": {
     "duration": 0.042922,
     "end_time": "2021-02-13T17:30:38.988875",
     "exception": false,
     "start_time": "2021-02-13T17:30:38.945953",
     "status": "completed"
    },
    "tags": []
   },
   "outputs": [
    {
     "data": {
      "text/html": [
       "<style>\n",
       ".list-inline {list-style: none; margin:0; padding: 0}\n",
       ".list-inline>li {display: inline-block}\n",
       ".list-inline>li:not(:last-child)::after {content: \"\\00b7\"; padding: 0 .5ex}\n",
       "</style>\n",
       "<ol class=list-inline><li>3900</li><li>195</li></ol>\n"
      ],
      "text/latex": [
       "\\begin{enumerate*}\n",
       "\\item 3900\n",
       "\\item 195\n",
       "\\end{enumerate*}\n"
      ],
      "text/markdown": [
       "1. 3900\n",
       "2. 195\n",
       "\n",
       "\n"
      ],
      "text/plain": [
       "[1] 3900  195"
      ]
     },
     "metadata": {},
     "output_type": "display_data"
    }
   ],
   "source": [
    "# Treatment Variable\n",
    "D     <- rdata[which(colnames(rdata) == d)]\n",
    "\n",
    "# Outcome Variable\n",
    "Y     <- rdata[which(colnames(rdata) == y)]\n",
    "\n",
    "# Construct matrix Z\n",
    "\n",
    "Z <- rdata[which(colnames(rdata) %in% c(X1,X2,census))]\n",
    "\n",
    "dim(Z)"
   ]
  },
  {
   "cell_type": "markdown",
   "metadata": {
    "papermill": {
     "duration": 0.01807,
     "end_time": "2021-02-13T17:30:39.025018",
     "exception": false,
     "start_time": "2021-02-13T17:30:39.006948",
     "status": "completed"
    },
    "tags": []
   },
   "source": [
    "We have in total 195 control variables. The control variables $Z_{j,t}$ are from the U.S. Census Bureau and  contain demographic and economic characteristics of the counties such as  the age distribution, the income distribution, crime rates, federal spending, home ownership rates, house prices, educational attainment, voting paterns, employment statistics, and migration rates. "
   ]
  },
  {
   "cell_type": "code",
   "execution_count": 173,
   "metadata": {
    "execution": {
     "iopub.execute_input": "2021-02-13T17:30:39.065511Z",
     "iopub.status.busy": "2021-02-13T17:30:39.064293Z",
     "iopub.status.idle": "2021-02-13T17:30:39.078277Z",
     "shell.execute_reply": "2021-02-13T17:30:39.077071Z"
    },
    "papermill": {
     "duration": 0.035747,
     "end_time": "2021-02-13T17:30:39.078439",
     "exception": false,
     "start_time": "2021-02-13T17:30:39.042692",
     "status": "completed"
    },
    "tags": []
   },
   "outputs": [],
   "source": [
    "clu <- rdata[which(colnames(rdata) == \"CountyCode\")] #for clustering the standard errors\n",
    "data <- data.frame(cbind(Y, D, Z,as.matrix(clu)))\n"
   ]
  },
  {
   "cell_type": "code",
   "execution_count": 174,
   "metadata": {},
   "outputs": [
    {
     "data": {
      "text/html": [
       "<table class=\"dataframe\">\n",
       "<caption>A data.frame: 3900 × 1</caption>\n",
       "<thead>\n",
       "\t<tr><th scope=col>CountyCode</th></tr>\n",
       "\t<tr><th scope=col>&lt;int&gt;</th></tr>\n",
       "</thead>\n",
       "<tbody>\n",
       "\t<tr><td>1073</td></tr>\n",
       "\t<tr><td>1073</td></tr>\n",
       "\t<tr><td>1073</td></tr>\n",
       "\t<tr><td>1073</td></tr>\n",
       "\t<tr><td>1073</td></tr>\n",
       "\t<tr><td>1073</td></tr>\n",
       "\t<tr><td>1073</td></tr>\n",
       "\t<tr><td>1073</td></tr>\n",
       "\t<tr><td>1073</td></tr>\n",
       "\t<tr><td>1073</td></tr>\n",
       "\t<tr><td>1073</td></tr>\n",
       "\t<tr><td>1073</td></tr>\n",
       "\t<tr><td>1073</td></tr>\n",
       "\t<tr><td>1073</td></tr>\n",
       "\t<tr><td>1073</td></tr>\n",
       "\t<tr><td>1073</td></tr>\n",
       "\t<tr><td>1073</td></tr>\n",
       "\t<tr><td>1073</td></tr>\n",
       "\t<tr><td>1073</td></tr>\n",
       "\t<tr><td>1073</td></tr>\n",
       "\t<tr><td>1097</td></tr>\n",
       "\t<tr><td>1097</td></tr>\n",
       "\t<tr><td>1097</td></tr>\n",
       "\t<tr><td>1097</td></tr>\n",
       "\t<tr><td>1097</td></tr>\n",
       "\t<tr><td>1097</td></tr>\n",
       "\t<tr><td>1097</td></tr>\n",
       "\t<tr><td>1097</td></tr>\n",
       "\t<tr><td>1097</td></tr>\n",
       "\t<tr><td>1097</td></tr>\n",
       "\t<tr><td>...</td></tr>\n",
       "\t<tr><td>55079</td></tr>\n",
       "\t<tr><td>55079</td></tr>\n",
       "\t<tr><td>55079</td></tr>\n",
       "\t<tr><td>55079</td></tr>\n",
       "\t<tr><td>55079</td></tr>\n",
       "\t<tr><td>55079</td></tr>\n",
       "\t<tr><td>55079</td></tr>\n",
       "\t<tr><td>55079</td></tr>\n",
       "\t<tr><td>55079</td></tr>\n",
       "\t<tr><td>55079</td></tr>\n",
       "\t<tr><td>55133</td></tr>\n",
       "\t<tr><td>55133</td></tr>\n",
       "\t<tr><td>55133</td></tr>\n",
       "\t<tr><td>55133</td></tr>\n",
       "\t<tr><td>55133</td></tr>\n",
       "\t<tr><td>55133</td></tr>\n",
       "\t<tr><td>55133</td></tr>\n",
       "\t<tr><td>55133</td></tr>\n",
       "\t<tr><td>55133</td></tr>\n",
       "\t<tr><td>55133</td></tr>\n",
       "\t<tr><td>55133</td></tr>\n",
       "\t<tr><td>55133</td></tr>\n",
       "\t<tr><td>55133</td></tr>\n",
       "\t<tr><td>55133</td></tr>\n",
       "\t<tr><td>55133</td></tr>\n",
       "\t<tr><td>55133</td></tr>\n",
       "\t<tr><td>55133</td></tr>\n",
       "\t<tr><td>55133</td></tr>\n",
       "\t<tr><td>55133</td></tr>\n",
       "\t<tr><td>55133</td></tr>\n",
       "</tbody>\n",
       "</table>\n"
      ],
      "text/latex": [
       "A data.frame: 3900 × 1\n",
       "\\begin{tabular}{l}\n",
       " CountyCode\\\\\n",
       " <int>\\\\\n",
       "\\hline\n",
       "\t 1073\\\\\n",
       "\t 1073\\\\\n",
       "\t 1073\\\\\n",
       "\t 1073\\\\\n",
       "\t 1073\\\\\n",
       "\t 1073\\\\\n",
       "\t 1073\\\\\n",
       "\t 1073\\\\\n",
       "\t 1073\\\\\n",
       "\t 1073\\\\\n",
       "\t 1073\\\\\n",
       "\t 1073\\\\\n",
       "\t 1073\\\\\n",
       "\t 1073\\\\\n",
       "\t 1073\\\\\n",
       "\t 1073\\\\\n",
       "\t 1073\\\\\n",
       "\t 1073\\\\\n",
       "\t 1073\\\\\n",
       "\t 1073\\\\\n",
       "\t 1097\\\\\n",
       "\t 1097\\\\\n",
       "\t 1097\\\\\n",
       "\t 1097\\\\\n",
       "\t 1097\\\\\n",
       "\t 1097\\\\\n",
       "\t 1097\\\\\n",
       "\t 1097\\\\\n",
       "\t 1097\\\\\n",
       "\t 1097\\\\\n",
       "\t ...\\\\\n",
       "\t 55079\\\\\n",
       "\t 55079\\\\\n",
       "\t 55079\\\\\n",
       "\t 55079\\\\\n",
       "\t 55079\\\\\n",
       "\t 55079\\\\\n",
       "\t 55079\\\\\n",
       "\t 55079\\\\\n",
       "\t 55079\\\\\n",
       "\t 55079\\\\\n",
       "\t 55133\\\\\n",
       "\t 55133\\\\\n",
       "\t 55133\\\\\n",
       "\t 55133\\\\\n",
       "\t 55133\\\\\n",
       "\t 55133\\\\\n",
       "\t 55133\\\\\n",
       "\t 55133\\\\\n",
       "\t 55133\\\\\n",
       "\t 55133\\\\\n",
       "\t 55133\\\\\n",
       "\t 55133\\\\\n",
       "\t 55133\\\\\n",
       "\t 55133\\\\\n",
       "\t 55133\\\\\n",
       "\t 55133\\\\\n",
       "\t 55133\\\\\n",
       "\t 55133\\\\\n",
       "\t 55133\\\\\n",
       "\t 55133\\\\\n",
       "\\end{tabular}\n"
      ],
      "text/markdown": [
       "\n",
       "A data.frame: 3900 × 1\n",
       "\n",
       "| CountyCode &lt;int&gt; |\n",
       "|---|\n",
       "| 1073 |\n",
       "| 1073 |\n",
       "| 1073 |\n",
       "| 1073 |\n",
       "| 1073 |\n",
       "| 1073 |\n",
       "| 1073 |\n",
       "| 1073 |\n",
       "| 1073 |\n",
       "| 1073 |\n",
       "| 1073 |\n",
       "| 1073 |\n",
       "| 1073 |\n",
       "| 1073 |\n",
       "| 1073 |\n",
       "| 1073 |\n",
       "| 1073 |\n",
       "| 1073 |\n",
       "| 1073 |\n",
       "| 1073 |\n",
       "| 1097 |\n",
       "| 1097 |\n",
       "| 1097 |\n",
       "| 1097 |\n",
       "| 1097 |\n",
       "| 1097 |\n",
       "| 1097 |\n",
       "| 1097 |\n",
       "| 1097 |\n",
       "| 1097 |\n",
       "| ... |\n",
       "| 55079 |\n",
       "| 55079 |\n",
       "| 55079 |\n",
       "| 55079 |\n",
       "| 55079 |\n",
       "| 55079 |\n",
       "| 55079 |\n",
       "| 55079 |\n",
       "| 55079 |\n",
       "| 55079 |\n",
       "| 55133 |\n",
       "| 55133 |\n",
       "| 55133 |\n",
       "| 55133 |\n",
       "| 55133 |\n",
       "| 55133 |\n",
       "| 55133 |\n",
       "| 55133 |\n",
       "| 55133 |\n",
       "| 55133 |\n",
       "| 55133 |\n",
       "| 55133 |\n",
       "| 55133 |\n",
       "| 55133 |\n",
       "| 55133 |\n",
       "| 55133 |\n",
       "| 55133 |\n",
       "| 55133 |\n",
       "| 55133 |\n",
       "| 55133 |\n",
       "\n"
      ],
      "text/plain": [
       "     CountyCode\n",
       "1    1073      \n",
       "2    1073      \n",
       "3    1073      \n",
       "4    1073      \n",
       "5    1073      \n",
       "6    1073      \n",
       "7    1073      \n",
       "8    1073      \n",
       "9    1073      \n",
       "10   1073      \n",
       "11   1073      \n",
       "12   1073      \n",
       "13   1073      \n",
       "14   1073      \n",
       "15   1073      \n",
       "16   1073      \n",
       "17   1073      \n",
       "18   1073      \n",
       "19   1073      \n",
       "20   1073      \n",
       "21   1097      \n",
       "22   1097      \n",
       "23   1097      \n",
       "24   1097      \n",
       "25   1097      \n",
       "26   1097      \n",
       "27   1097      \n",
       "28   1097      \n",
       "29   1097      \n",
       "30   1097      \n",
       "...  ...       \n",
       "3871 55079     \n",
       "3872 55079     \n",
       "3873 55079     \n",
       "3874 55079     \n",
       "3875 55079     \n",
       "3876 55079     \n",
       "3877 55079     \n",
       "3878 55079     \n",
       "3879 55079     \n",
       "3880 55079     \n",
       "3881 55133     \n",
       "3882 55133     \n",
       "3883 55133     \n",
       "3884 55133     \n",
       "3885 55133     \n",
       "3886 55133     \n",
       "3887 55133     \n",
       "3888 55133     \n",
       "3889 55133     \n",
       "3890 55133     \n",
       "3891 55133     \n",
       "3892 55133     \n",
       "3893 55133     \n",
       "3894 55133     \n",
       "3895 55133     \n",
       "3896 55133     \n",
       "3897 55133     \n",
       "3898 55133     \n",
       "3899 55133     \n",
       "3900 55133     "
      ]
     },
     "metadata": {},
     "output_type": "display_data"
    }
   ],
   "source": [
    "clu"
   ]
  },
  {
   "cell_type": "code",
   "execution_count": 14,
   "metadata": {},
   "outputs": [],
   "source": [
    "save(data, file = \"../data/gun_clean.RData\")"
   ]
  },
  {
   "cell_type": "code",
   "execution_count": 16,
   "metadata": {
    "execution": {
     "iopub.execute_input": "2021-02-13T17:30:39.119837Z",
     "iopub.status.busy": "2021-02-13T17:30:39.119341Z",
     "iopub.status.idle": "2021-02-13T17:30:40.222653Z",
     "shell.execute_reply": "2021-02-13T17:30:40.221044Z"
    },
    "papermill": {
     "duration": 1.126576,
     "end_time": "2021-02-13T17:30:40.222803",
     "exception": false,
     "start_time": "2021-02-13T17:30:39.096227",
     "status": "completed"
    },
    "tags": []
   },
   "outputs": [
    {
     "name": "stderr",
     "output_type": "stream",
     "text": [
      "Warning message:\n",
      "\"package 'lfe' was built under R version 4.0.5\"\n",
      "Loading required package: Matrix\n",
      "\n"
     ]
    }
   ],
   "source": [
    "library(lfe)"
   ]
  },
  {
   "cell_type": "markdown",
   "metadata": {
    "papermill": {
     "duration": 0.01855,
     "end_time": "2021-02-13T17:30:40.260049",
     "exception": false,
     "start_time": "2021-02-13T17:30:40.241499",
     "status": "completed"
    },
    "tags": []
   },
   "source": [
    "## The effect of gun ownership"
   ]
  },
  {
   "cell_type": "markdown",
   "metadata": {
    "papermill": {
     "duration": 0.018478,
     "end_time": "2021-02-13T17:30:40.297035",
     "exception": false,
     "start_time": "2021-02-13T17:30:40.278557",
     "status": "completed"
    },
    "tags": []
   },
   "source": [
    "### OLS"
   ]
  },
  {
   "cell_type": "markdown",
   "metadata": {
    "papermill": {
     "duration": 0.018386,
     "end_time": "2021-02-13T17:30:40.333613",
     "exception": false,
     "start_time": "2021-02-13T17:30:40.315227",
     "status": "completed"
    },
    "tags": []
   },
   "source": [
    "After preprocessing the data, we first look at simple regression of $Y_{j,t}$ on $D_{j,t-1}$ without controls as a baseline model."
   ]
  },
  {
   "cell_type": "code",
   "execution_count": 19,
   "metadata": {
    "execution": {
     "iopub.execute_input": "2021-02-13T17:30:40.378059Z",
     "iopub.status.busy": "2021-02-13T17:30:40.375375Z",
     "iopub.status.idle": "2021-02-13T17:30:40.488189Z",
     "shell.execute_reply": "2021-02-13T17:30:40.485758Z"
    },
    "papermill": {
     "duration": 0.136101,
     "end_time": "2021-02-13T17:30:40.488367",
     "exception": false,
     "start_time": "2021-02-13T17:30:40.352266",
     "status": "completed"
    },
    "tags": []
   },
   "outputs": [
    {
     "data": {
      "text/html": [
       "<style>\n",
       ".dl-inline {width: auto; margin:0; padding: 0}\n",
       ".dl-inline>dt, .dl-inline>dd {float: none; width: auto; display: inline-block}\n",
       ".dl-inline>dt::after {content: \":\\0020\"; padding-right: .5ex}\n",
       ".dl-inline>dt:not(:first-of-type) {padding-left: .5ex}\n",
       "</style><dl class=dl-inline><dt>2.5 %</dt><dd>0.155238182025439</dd><dt>97.5 %</dt><dd>0.40937075124097</dd></dl>\n"
      ],
      "text/latex": [
       "\\begin{description*}\n",
       "\\item[2.5 \\textbackslash{}\\%] 0.155238182025439\n",
       "\\item[97.5 \\textbackslash{}\\%] 0.40937075124097\n",
       "\\end{description*}\n"
      ],
      "text/markdown": [
       "2.5 %\n",
       ":   0.15523818202543997.5 %\n",
       ":   0.40937075124097\n",
       "\n"
      ],
      "text/plain": [
       "    2.5 %    97.5 % \n",
       "0.1552382 0.4093708 "
      ]
     },
     "metadata": {},
     "output_type": "display_data"
    },
    {
     "data": {
      "text/html": [
       "<style>\n",
       ".dl-inline {width: auto; margin:0; padding: 0}\n",
       ".dl-inline>dt, .dl-inline>dd {float: none; width: auto; display: inline-block}\n",
       ".dl-inline>dt::after {content: \":\\0020\"; padding-right: .5ex}\n",
       ".dl-inline>dt:not(:first-of-type) {padding-left: .5ex}\n",
       "</style><dl class=dl-inline><dt>Estimate</dt><dd>0.282304466633205</dd><dt>Cluster s.e.</dt><dd>0.0648107978379264</dd><dt>t value</dt><dd>4.35582458557552</dd><dt>Pr(&gt;|t|)</dt><dd>1.35976701238427e-05</dd></dl>\n"
      ],
      "text/latex": [
       "\\begin{description*}\n",
       "\\item[Estimate] 0.282304466633205\n",
       "\\item[Cluster s.e.] 0.0648107978379264\n",
       "\\item[t value] 4.35582458557552\n",
       "\\item[Pr(>\\textbackslash{}textbar\\{\\}t\\textbackslash{}textbar\\{\\})] 1.35976701238427e-05\n",
       "\\end{description*}\n"
      ],
      "text/markdown": [
       "Estimate\n",
       ":   0.282304466633205Cluster s.e.\n",
       ":   0.0648107978379264t value\n",
       ":   4.35582458557552Pr(&amp;gt;|t|)\n",
       ":   1.35976701238427e-05\n",
       "\n"
      ],
      "text/plain": [
       "    Estimate Cluster s.e.      t value     Pr(>|t|) \n",
       "2.823045e-01 6.481080e-02 4.355825e+00 1.359767e-05 "
      ]
     },
     "metadata": {},
     "output_type": "display_data"
    }
   ],
   "source": [
    "#baseline_formula <- as.formula(paste(y, \"~\", d ))\n",
    "#baseline.ols <- lm(baseline_formula,data=rdata)\n",
    "\n",
    "baseline.ols <- felm(logghomr ~ logfssl |0|0| CountyCode,data=data) # ols with clustered standard errors\n",
    "est_baseline <- summary(baseline.ols)$coef[2,]\n",
    "confint(baseline.ols)[2,]\n",
    "est_baseline"
   ]
  },
  {
   "cell_type": "markdown",
   "metadata": {
    "papermill": {
     "duration": 0.019514,
     "end_time": "2021-02-13T17:30:40.528479",
     "exception": false,
     "start_time": "2021-02-13T17:30:40.508965",
     "status": "completed"
    },
    "tags": []
   },
   "source": [
    "The point estimate is $0.282$ with the confidence interval ranging from 0.155 to 0.41. This\n",
    "suggests that increases in gun ownership rates are related to gun homicide rates - if gun ownership increases by 1% relative\n",
    "to a trend then the predicted gun homicide rate goes up by 0.28%, without controlling for counties' characteristics.\n",
    "\n",
    "Since our goal is to estimate the effect of gun ownership after controlling for a rich set county characteristics we next include the controls. First, we estimate the model by ols and then by an array of the modern regression methods using the double machine learning approach."
   ]
  },
  {
   "cell_type": "code",
   "execution_count": 22,
   "metadata": {
    "execution": {
     "iopub.execute_input": "2021-02-13T17:30:40.575465Z",
     "iopub.status.busy": "2021-02-13T17:30:40.573798Z",
     "iopub.status.idle": "2021-02-13T17:30:40.777165Z",
     "shell.execute_reply": "2021-02-13T17:30:40.774926Z"
    },
    "papermill": {
     "duration": 0.229579,
     "end_time": "2021-02-13T17:30:40.777425",
     "exception": false,
     "start_time": "2021-02-13T17:30:40.547846",
     "status": "completed"
    },
    "tags": []
   },
   "outputs": [
    {
     "data": {
      "text/plain": [
       "logghomr ~ logfssl + logrobr + logburg + burg_missing + robrate_missing + \n",
       "    newblack + newfhh + newmove + newdens + newmal + AGE010D + \n",
       "    AGE050D + AGE110D + AGE170D + AGE180D + AGE270D + AGE310D + \n",
       "    AGE320D + AGE350D + AGE380D + AGE410D + AGE470D + AGE570D + \n",
       "    AGE640D + AGE670D + AGE760D + BNK010D + BNK050D + BPS030D + \n",
       "    BPS130D + BPS230D + BPS020D + BPS120D + BPS220D + BPS820D + \n",
       "    BZA010D + BZA110D + BZA210D + EDU100D + EDU200D + EDU600D + \n",
       "    EDU610D + EDU620D + EDU630D + EDU635D + EDU640D + EDU650D + \n",
       "    EDU680D + EDU685D + ELE010D + ELE020D + ELE025D + ELE030D + \n",
       "    ELE035D + ELE060D + ELE065D + ELE210D + ELE220D + HIS010D + \n",
       "    HIS020D + HIS030D + HIS040D + HIS110D + HIS120D + HIS130D + \n",
       "    HIS140D + HIS200D + HIS300D + HIS500D + HIS700D + HSD010D + \n",
       "    HSD020D + HSD030D + HSD110D + HSD120D + HSD130D + HSD140D + \n",
       "    HSD150D + HSD170D + HSD200D + HSD210D + HSD230D + HSD300D + \n",
       "    HSD310D + HSG030D + HSG195D + HSG200D + HSG220D + HSG440D + \n",
       "    HSG445D + HSG460D + HSG680D + HSG700D + HSD410D + HSD500D + \n",
       "    HSD510D + HSD520D + HSD530D + HSD540D + HSD550D + HSD560D + \n",
       "    HSD570D + HSD580D + HSD590D + HSD610D + HSD620D + HSD710D + \n",
       "    HSD720D + HSD730D + HSD740D + HSD750D + HSD760D + HSD770D + \n",
       "    HSD780D + HSG040D + HSG045D + HSG050D + HSG182D + HSG210D + \n",
       "    HSG230D + HSG240D + HSG250D + HSG310D + HSG315D + HSG320D + \n",
       "    HSG325D + HSG335D + HSG350D + HSG370D + HSG375D + HSG380D + \n",
       "    HSG450D + HSG490D + HSG500D + HSG510D + HSG520D + HSG530D + \n",
       "    HSG540D + HSG550D + HSG560D + HSG570D + HSG650D + HSG690D + \n",
       "    HSG710D + HSG730D + INC110D + INC650D + INC670D + INC680D + \n",
       "    INC690D + INC700D + INC710D + INC720D + INC730D + INC760D + \n",
       "    INC790D + LFE020D + LFE023D + LFE030D + LFE080D + LFE090D + \n",
       "    LFE210D + LFE220D + LND110D + PIN020D + POP110D + POP210D + \n",
       "    POP240D + POP440D + POP450D + POP470D + POP480D + POP540D + \n",
       "    POP550D + POP570D + POP580D + POP700D + POP710D + POP720D + \n",
       "    POP740D + PPQ010D + PPQ100D + PPQ110D + PPQ120D + PVY020D + \n",
       "    PVY120D + PVY210D + PVY310D + PVY420D + PVY520D + SPR030D + \n",
       "    SPR130D + SPR230D + SPR330D + SPR440D + VST020D | 0 | 0 | \n",
       "    CountyCode"
      ]
     },
     "metadata": {},
     "output_type": "display_data"
    }
   ],
   "source": [
    "control_formula <- as.formula(paste(\"logghomr\", \"~\", paste(\"logfssl\",paste(colnames(Z),collapse=\"+\"),\n",
    "                                                          sep=\"+\"),\"|0|0| CountyCode\"))\n",
    "control_formula"
   ]
  },
  {
   "cell_type": "code",
   "execution_count": 25,
   "metadata": {},
   "outputs": [
    {
     "name": "stderr",
     "output_type": "stream",
     "text": [
      "Warning message in chol.default(mat, pivot = TRUE, tol = tol):\n",
      "\"the matrix is either rank-deficient or indefinite\"\n"
     ]
    },
    {
     "data": {
      "text/html": [
       "<table class=\"dataframe\">\n",
       "<caption>A matrix: 197 × 4 of type dbl</caption>\n",
       "<thead>\n",
       "\t<tr><th></th><th scope=col>Estimate</th><th scope=col>Cluster s.e.</th><th scope=col>t value</th><th scope=col>Pr(&gt;|t|)</th></tr>\n",
       "</thead>\n",
       "<tbody>\n",
       "\t<tr><th scope=row>(Intercept)</th><td> 1.675988e-15</td><td>1.659040e-15</td><td> 1.0102155</td><td>0.3124577934</td></tr>\n",
       "\t<tr><th scope=row>logfssl</th><td> 1.906447e-01</td><td>5.244756e-02</td><td> 3.6349591</td><td>0.0002817867</td></tr>\n",
       "\t<tr><th scope=row>logrobr</th><td> 1.890471e-01</td><td>5.385086e-02</td><td> 3.5105680</td><td>0.0004524588</td></tr>\n",
       "\t<tr><th scope=row>logburg</th><td> 2.192630e-01</td><td>6.282510e-02</td><td> 3.4900546</td><td>0.0004885304</td></tr>\n",
       "\t<tr><th scope=row>burg_missing</th><td> 1.529614e+00</td><td>4.443831e-01</td><td> 3.4421076</td><td>0.0005835660</td></tr>\n",
       "\t<tr><th scope=row>robrate_missing</th><td> 1.133081e+00</td><td>3.047595e-01</td><td> 3.7179522</td><td>0.0002038034</td></tr>\n",
       "\t<tr><th scope=row>newblack</th><td> 2.434718e+01</td><td>4.480200e+01</td><td> 0.5434397</td><td>0.5868597027</td></tr>\n",
       "\t<tr><th scope=row>newfhh</th><td>-6.875928e+01</td><td>1.146440e+02</td><td>-0.5997632</td><td>0.5487006184</td></tr>\n",
       "\t<tr><th scope=row>newmove</th><td> 4.211082e+01</td><td>2.869630e+01</td><td> 1.4674649</td><td>0.1423341971</td></tr>\n",
       "\t<tr><th scope=row>newdens</th><td>          NaN</td><td>0.000000e+00</td><td>       NaN</td><td>         NaN</td></tr>\n",
       "\t<tr><th scope=row>newmal</th><td> 6.116798e-01</td><td>2.747573e-01</td><td> 2.2262549</td><td>0.0260568012</td></tr>\n",
       "\t<tr><th scope=row>AGE010D</th><td>          NaN</td><td>0.000000e+00</td><td>       NaN</td><td>         NaN</td></tr>\n",
       "\t<tr><th scope=row>AGE050D</th><td> 1.042682e+01</td><td>6.123894e+00</td><td> 1.7026455</td><td>0.0887179971</td></tr>\n",
       "\t<tr><th scope=row>AGE110D</th><td>-6.459149e+00</td><td>4.079379e+00</td><td>-1.5833657</td><td>0.1134231550</td></tr>\n",
       "\t<tr><th scope=row>AGE170D</th><td>-6.446777e+00</td><td>4.865130e+00</td><td>-1.3250986</td><td>0.1852198433</td></tr>\n",
       "\t<tr><th scope=row>AGE180D</th><td>-1.153232e+01</td><td>1.387809e+01</td><td>-0.8309731</td><td>0.4060421653</td></tr>\n",
       "\t<tr><th scope=row>AGE270D</th><td> 3.565629e+01</td><td>1.975098e+01</td><td> 1.8052917</td><td>0.0711098841</td></tr>\n",
       "\t<tr><th scope=row>AGE310D</th><td> 1.938343e+01</td><td>2.660572e+01</td><td> 0.7285436</td><td>0.4663267705</td></tr>\n",
       "\t<tr><th scope=row>AGE320D</th><td> 1.588112e+00</td><td>1.533212e+00</td><td> 1.0358074</td><td>0.3003593274</td></tr>\n",
       "\t<tr><th scope=row>AGE350D</th><td>-9.330175e+00</td><td>1.308344e+01</td><td>-0.7131288</td><td>0.4758107752</td></tr>\n",
       "\t<tr><th scope=row>AGE380D</th><td> 2.713707e+01</td><td>2.716928e+01</td><td> 0.9988143</td><td>0.3179496313</td></tr>\n",
       "\t<tr><th scope=row>AGE410D</th><td>-9.263883e+00</td><td>1.254796e+01</td><td>-0.7382778</td><td>0.4603922507</td></tr>\n",
       "\t<tr><th scope=row>AGE470D</th><td> 5.171539e+00</td><td>2.509152e+00</td><td> 2.0610704</td><td>0.0393656944</td></tr>\n",
       "\t<tr><th scope=row>AGE570D</th><td> 3.818025e+00</td><td>1.956870e+00</td><td> 1.9510873</td><td>0.0511216497</td></tr>\n",
       "\t<tr><th scope=row>AGE640D</th><td> 1.965092e+00</td><td>1.301353e+00</td><td> 1.5100375</td><td>0.1311188123</td></tr>\n",
       "\t<tr><th scope=row>AGE670D</th><td>-1.729271e+00</td><td>1.281977e+00</td><td>-1.3489093</td><td>0.1774482404</td></tr>\n",
       "\t<tr><th scope=row>AGE760D</th><td> 8.113869e-01</td><td>3.211334e+00</td><td> 0.2526635</td><td>0.8005421838</td></tr>\n",
       "\t<tr><th scope=row>BNK010D</th><td>-7.570156e-02</td><td>8.044091e-02</td><td>-0.9410828</td><td>0.3467235766</td></tr>\n",
       "\t<tr><th scope=row>BNK050D</th><td> 1.852136e-02</td><td>6.938743e-02</td><td> 0.2669267</td><td>0.7895403658</td></tr>\n",
       "\t<tr><th scope=row>BPS030D</th><td>-6.704976e-02</td><td>1.089697e-01</td><td>-0.6153063</td><td>0.5383901048</td></tr>\n",
       "\t<tr><th scope=row>...</th><td>...</td><td>...</td><td>...</td><td>...</td></tr>\n",
       "\t<tr><th scope=row>POP210D</th><td> -0.97209645</td><td> 0.7998094</td><td>-1.21541015</td><td>0.224286848</td></tr>\n",
       "\t<tr><th scope=row>POP240D</th><td>-28.69339007</td><td>44.6041742</td><td>-0.64328935</td><td>0.520076029</td></tr>\n",
       "\t<tr><th scope=row>POP440D</th><td> -3.88112370</td><td> 2.2646538</td><td>-1.71378237</td><td>0.086652034</td></tr>\n",
       "\t<tr><th scope=row>POP450D</th><td> 11.63617966</td><td> 7.3858170</td><td> 1.57547630</td><td>0.115231602</td></tr>\n",
       "\t<tr><th scope=row>POP470D</th><td> -3.53764116</td><td> 1.2980421</td><td>-2.72536703</td><td>0.006453076</td></tr>\n",
       "\t<tr><th scope=row>POP480D</th><td> -1.77257985</td><td> 1.3831761</td><td>-1.28152871</td><td>0.200087916</td></tr>\n",
       "\t<tr><th scope=row>POP540D</th><td> -1.48084629</td><td> 2.1780103</td><td>-0.67990786</td><td>0.496605124</td></tr>\n",
       "\t<tr><th scope=row>POP550D</th><td>-28.19151761</td><td> 9.8025783</td><td>-2.87592884</td><td>0.004051311</td></tr>\n",
       "\t<tr><th scope=row>POP570D</th><td>  0.16646361</td><td> 1.8156766</td><td> 0.09168131</td><td>0.926956183</td></tr>\n",
       "\t<tr><th scope=row>POP580D</th><td>  2.25065499</td><td> 1.8055245</td><td> 1.24653803</td><td>0.212645443</td></tr>\n",
       "\t<tr><th scope=row>POP700D</th><td> 44.31693658</td><td>32.9945036</td><td> 1.34316119</td><td>0.179301745</td></tr>\n",
       "\t<tr><th scope=row>POP710D</th><td>-13.12781956</td><td> 8.5494594</td><td>-1.53551458</td><td>0.124742543</td></tr>\n",
       "\t<tr><th scope=row>POP720D</th><td>  0.89198580</td><td> 0.8173148</td><td> 1.09136132</td><td>0.275184625</td></tr>\n",
       "\t<tr><th scope=row>POP740D</th><td>  0.40686412</td><td> 0.4012353</td><td> 1.01402872</td><td>0.310635014</td></tr>\n",
       "\t<tr><th scope=row>PPQ010D</th><td> -0.31433106</td><td> 0.4125242</td><td>-0.76196997</td><td>0.446126247</td></tr>\n",
       "\t<tr><th scope=row>PPQ100D</th><td>  0.49054324</td><td> 0.2543427</td><td> 1.92867065</td><td>0.053847782</td></tr>\n",
       "\t<tr><th scope=row>PPQ110D</th><td>         NaN</td><td> 0.0000000</td><td>        NaN</td><td>        NaN</td></tr>\n",
       "\t<tr><th scope=row>PPQ120D</th><td>         NaN</td><td> 0.0000000</td><td>        NaN</td><td>        NaN</td></tr>\n",
       "\t<tr><th scope=row>PVY020D</th><td> -1.14717088</td><td> 2.6420324</td><td>-0.43420016</td><td>0.664168287</td></tr>\n",
       "\t<tr><th scope=row>PVY120D</th><td>  2.03161358</td><td> 1.9353901</td><td> 1.04971787</td><td>0.293916055</td></tr>\n",
       "\t<tr><th scope=row>PVY210D</th><td>  0.30728204</td><td> 0.4854728</td><td> 0.63295424</td><td>0.526802444</td></tr>\n",
       "\t<tr><th scope=row>PVY310D</th><td> -0.42834313</td><td> 0.7508571</td><td>-0.57047226</td><td>0.568391896</td></tr>\n",
       "\t<tr><th scope=row>PVY420D</th><td>  0.61149837</td><td> 1.7874181</td><td> 0.34211267</td><td>0.732285434</td></tr>\n",
       "\t<tr><th scope=row>PVY520D</th><td> -0.32686293</td><td> 0.8053323</td><td>-0.40587336</td><td>0.684859006</td></tr>\n",
       "\t<tr><th scope=row>SPR030D</th><td> -0.50017289</td><td> 0.4806889</td><td>-1.04053346</td><td>0.298159768</td></tr>\n",
       "\t<tr><th scope=row>SPR130D</th><td> -1.65749967</td><td> 0.8607775</td><td>-1.92558437</td><td>0.054232451</td></tr>\n",
       "\t<tr><th scope=row>SPR230D</th><td>  1.44840169</td><td> 0.8382389</td><td> 1.72791032</td><td>0.084087316</td></tr>\n",
       "\t<tr><th scope=row>SPR330D</th><td> -0.03365234</td><td> 0.4012711</td><td>-0.08386435</td><td>0.933168796</td></tr>\n",
       "\t<tr><th scope=row>SPR440D</th><td> -0.43182707</td><td> 0.2718852</td><td>-1.58826958</td><td>0.112310400</td></tr>\n",
       "\t<tr><th scope=row>VST020D</th><td>  0.53220207</td><td> 0.2990330</td><td> 1.77974346</td><td>0.075199591</td></tr>\n",
       "</tbody>\n",
       "</table>\n"
      ],
      "text/latex": [
       "A matrix: 197 × 4 of type dbl\n",
       "\\begin{tabular}{r|llll}\n",
       "  & Estimate & Cluster s.e. & t value & Pr(>\\textbar{}t\\textbar{})\\\\\n",
       "\\hline\n",
       "\t(Intercept) &  1.675988e-15 & 1.659040e-15 &  1.0102155 & 0.3124577934\\\\\n",
       "\tlogfssl &  1.906447e-01 & 5.244756e-02 &  3.6349591 & 0.0002817867\\\\\n",
       "\tlogrobr &  1.890471e-01 & 5.385086e-02 &  3.5105680 & 0.0004524588\\\\\n",
       "\tlogburg &  2.192630e-01 & 6.282510e-02 &  3.4900546 & 0.0004885304\\\\\n",
       "\tburg\\_missing &  1.529614e+00 & 4.443831e-01 &  3.4421076 & 0.0005835660\\\\\n",
       "\trobrate\\_missing &  1.133081e+00 & 3.047595e-01 &  3.7179522 & 0.0002038034\\\\\n",
       "\tnewblack &  2.434718e+01 & 4.480200e+01 &  0.5434397 & 0.5868597027\\\\\n",
       "\tnewfhh & -6.875928e+01 & 1.146440e+02 & -0.5997632 & 0.5487006184\\\\\n",
       "\tnewmove &  4.211082e+01 & 2.869630e+01 &  1.4674649 & 0.1423341971\\\\\n",
       "\tnewdens &           NaN & 0.000000e+00 &        NaN &          NaN\\\\\n",
       "\tnewmal &  6.116798e-01 & 2.747573e-01 &  2.2262549 & 0.0260568012\\\\\n",
       "\tAGE010D &           NaN & 0.000000e+00 &        NaN &          NaN\\\\\n",
       "\tAGE050D &  1.042682e+01 & 6.123894e+00 &  1.7026455 & 0.0887179971\\\\\n",
       "\tAGE110D & -6.459149e+00 & 4.079379e+00 & -1.5833657 & 0.1134231550\\\\\n",
       "\tAGE170D & -6.446777e+00 & 4.865130e+00 & -1.3250986 & 0.1852198433\\\\\n",
       "\tAGE180D & -1.153232e+01 & 1.387809e+01 & -0.8309731 & 0.4060421653\\\\\n",
       "\tAGE270D &  3.565629e+01 & 1.975098e+01 &  1.8052917 & 0.0711098841\\\\\n",
       "\tAGE310D &  1.938343e+01 & 2.660572e+01 &  0.7285436 & 0.4663267705\\\\\n",
       "\tAGE320D &  1.588112e+00 & 1.533212e+00 &  1.0358074 & 0.3003593274\\\\\n",
       "\tAGE350D & -9.330175e+00 & 1.308344e+01 & -0.7131288 & 0.4758107752\\\\\n",
       "\tAGE380D &  2.713707e+01 & 2.716928e+01 &  0.9988143 & 0.3179496313\\\\\n",
       "\tAGE410D & -9.263883e+00 & 1.254796e+01 & -0.7382778 & 0.4603922507\\\\\n",
       "\tAGE470D &  5.171539e+00 & 2.509152e+00 &  2.0610704 & 0.0393656944\\\\\n",
       "\tAGE570D &  3.818025e+00 & 1.956870e+00 &  1.9510873 & 0.0511216497\\\\\n",
       "\tAGE640D &  1.965092e+00 & 1.301353e+00 &  1.5100375 & 0.1311188123\\\\\n",
       "\tAGE670D & -1.729271e+00 & 1.281977e+00 & -1.3489093 & 0.1774482404\\\\\n",
       "\tAGE760D &  8.113869e-01 & 3.211334e+00 &  0.2526635 & 0.8005421838\\\\\n",
       "\tBNK010D & -7.570156e-02 & 8.044091e-02 & -0.9410828 & 0.3467235766\\\\\n",
       "\tBNK050D &  1.852136e-02 & 6.938743e-02 &  0.2669267 & 0.7895403658\\\\\n",
       "\tBPS030D & -6.704976e-02 & 1.089697e-01 & -0.6153063 & 0.5383901048\\\\\n",
       "\t... & ... & ... & ... & ...\\\\\n",
       "\tPOP210D &  -0.97209645 &  0.7998094 & -1.21541015 & 0.224286848\\\\\n",
       "\tPOP240D & -28.69339007 & 44.6041742 & -0.64328935 & 0.520076029\\\\\n",
       "\tPOP440D &  -3.88112370 &  2.2646538 & -1.71378237 & 0.086652034\\\\\n",
       "\tPOP450D &  11.63617966 &  7.3858170 &  1.57547630 & 0.115231602\\\\\n",
       "\tPOP470D &  -3.53764116 &  1.2980421 & -2.72536703 & 0.006453076\\\\\n",
       "\tPOP480D &  -1.77257985 &  1.3831761 & -1.28152871 & 0.200087916\\\\\n",
       "\tPOP540D &  -1.48084629 &  2.1780103 & -0.67990786 & 0.496605124\\\\\n",
       "\tPOP550D & -28.19151761 &  9.8025783 & -2.87592884 & 0.004051311\\\\\n",
       "\tPOP570D &   0.16646361 &  1.8156766 &  0.09168131 & 0.926956183\\\\\n",
       "\tPOP580D &   2.25065499 &  1.8055245 &  1.24653803 & 0.212645443\\\\\n",
       "\tPOP700D &  44.31693658 & 32.9945036 &  1.34316119 & 0.179301745\\\\\n",
       "\tPOP710D & -13.12781956 &  8.5494594 & -1.53551458 & 0.124742543\\\\\n",
       "\tPOP720D &   0.89198580 &  0.8173148 &  1.09136132 & 0.275184625\\\\\n",
       "\tPOP740D &   0.40686412 &  0.4012353 &  1.01402872 & 0.310635014\\\\\n",
       "\tPPQ010D &  -0.31433106 &  0.4125242 & -0.76196997 & 0.446126247\\\\\n",
       "\tPPQ100D &   0.49054324 &  0.2543427 &  1.92867065 & 0.053847782\\\\\n",
       "\tPPQ110D &          NaN &  0.0000000 &         NaN &         NaN\\\\\n",
       "\tPPQ120D &          NaN &  0.0000000 &         NaN &         NaN\\\\\n",
       "\tPVY020D &  -1.14717088 &  2.6420324 & -0.43420016 & 0.664168287\\\\\n",
       "\tPVY120D &   2.03161358 &  1.9353901 &  1.04971787 & 0.293916055\\\\\n",
       "\tPVY210D &   0.30728204 &  0.4854728 &  0.63295424 & 0.526802444\\\\\n",
       "\tPVY310D &  -0.42834313 &  0.7508571 & -0.57047226 & 0.568391896\\\\\n",
       "\tPVY420D &   0.61149837 &  1.7874181 &  0.34211267 & 0.732285434\\\\\n",
       "\tPVY520D &  -0.32686293 &  0.8053323 & -0.40587336 & 0.684859006\\\\\n",
       "\tSPR030D &  -0.50017289 &  0.4806889 & -1.04053346 & 0.298159768\\\\\n",
       "\tSPR130D &  -1.65749967 &  0.8607775 & -1.92558437 & 0.054232451\\\\\n",
       "\tSPR230D &   1.44840169 &  0.8382389 &  1.72791032 & 0.084087316\\\\\n",
       "\tSPR330D &  -0.03365234 &  0.4012711 & -0.08386435 & 0.933168796\\\\\n",
       "\tSPR440D &  -0.43182707 &  0.2718852 & -1.58826958 & 0.112310400\\\\\n",
       "\tVST020D &   0.53220207 &  0.2990330 &  1.77974346 & 0.075199591\\\\\n",
       "\\end{tabular}\n"
      ],
      "text/markdown": [
       "\n",
       "A matrix: 197 × 4 of type dbl\n",
       "\n",
       "| <!--/--> | Estimate | Cluster s.e. | t value | Pr(&gt;|t|) |\n",
       "|---|---|---|---|---|\n",
       "| (Intercept) |  1.675988e-15 | 1.659040e-15 |  1.0102155 | 0.3124577934 |\n",
       "| logfssl |  1.906447e-01 | 5.244756e-02 |  3.6349591 | 0.0002817867 |\n",
       "| logrobr |  1.890471e-01 | 5.385086e-02 |  3.5105680 | 0.0004524588 |\n",
       "| logburg |  2.192630e-01 | 6.282510e-02 |  3.4900546 | 0.0004885304 |\n",
       "| burg_missing |  1.529614e+00 | 4.443831e-01 |  3.4421076 | 0.0005835660 |\n",
       "| robrate_missing |  1.133081e+00 | 3.047595e-01 |  3.7179522 | 0.0002038034 |\n",
       "| newblack |  2.434718e+01 | 4.480200e+01 |  0.5434397 | 0.5868597027 |\n",
       "| newfhh | -6.875928e+01 | 1.146440e+02 | -0.5997632 | 0.5487006184 |\n",
       "| newmove |  4.211082e+01 | 2.869630e+01 |  1.4674649 | 0.1423341971 |\n",
       "| newdens |           NaN | 0.000000e+00 |        NaN |          NaN |\n",
       "| newmal |  6.116798e-01 | 2.747573e-01 |  2.2262549 | 0.0260568012 |\n",
       "| AGE010D |           NaN | 0.000000e+00 |        NaN |          NaN |\n",
       "| AGE050D |  1.042682e+01 | 6.123894e+00 |  1.7026455 | 0.0887179971 |\n",
       "| AGE110D | -6.459149e+00 | 4.079379e+00 | -1.5833657 | 0.1134231550 |\n",
       "| AGE170D | -6.446777e+00 | 4.865130e+00 | -1.3250986 | 0.1852198433 |\n",
       "| AGE180D | -1.153232e+01 | 1.387809e+01 | -0.8309731 | 0.4060421653 |\n",
       "| AGE270D |  3.565629e+01 | 1.975098e+01 |  1.8052917 | 0.0711098841 |\n",
       "| AGE310D |  1.938343e+01 | 2.660572e+01 |  0.7285436 | 0.4663267705 |\n",
       "| AGE320D |  1.588112e+00 | 1.533212e+00 |  1.0358074 | 0.3003593274 |\n",
       "| AGE350D | -9.330175e+00 | 1.308344e+01 | -0.7131288 | 0.4758107752 |\n",
       "| AGE380D |  2.713707e+01 | 2.716928e+01 |  0.9988143 | 0.3179496313 |\n",
       "| AGE410D | -9.263883e+00 | 1.254796e+01 | -0.7382778 | 0.4603922507 |\n",
       "| AGE470D |  5.171539e+00 | 2.509152e+00 |  2.0610704 | 0.0393656944 |\n",
       "| AGE570D |  3.818025e+00 | 1.956870e+00 |  1.9510873 | 0.0511216497 |\n",
       "| AGE640D |  1.965092e+00 | 1.301353e+00 |  1.5100375 | 0.1311188123 |\n",
       "| AGE670D | -1.729271e+00 | 1.281977e+00 | -1.3489093 | 0.1774482404 |\n",
       "| AGE760D |  8.113869e-01 | 3.211334e+00 |  0.2526635 | 0.8005421838 |\n",
       "| BNK010D | -7.570156e-02 | 8.044091e-02 | -0.9410828 | 0.3467235766 |\n",
       "| BNK050D |  1.852136e-02 | 6.938743e-02 |  0.2669267 | 0.7895403658 |\n",
       "| BPS030D | -6.704976e-02 | 1.089697e-01 | -0.6153063 | 0.5383901048 |\n",
       "| ... | ... | ... | ... | ... |\n",
       "| POP210D |  -0.97209645 |  0.7998094 | -1.21541015 | 0.224286848 |\n",
       "| POP240D | -28.69339007 | 44.6041742 | -0.64328935 | 0.520076029 |\n",
       "| POP440D |  -3.88112370 |  2.2646538 | -1.71378237 | 0.086652034 |\n",
       "| POP450D |  11.63617966 |  7.3858170 |  1.57547630 | 0.115231602 |\n",
       "| POP470D |  -3.53764116 |  1.2980421 | -2.72536703 | 0.006453076 |\n",
       "| POP480D |  -1.77257985 |  1.3831761 | -1.28152871 | 0.200087916 |\n",
       "| POP540D |  -1.48084629 |  2.1780103 | -0.67990786 | 0.496605124 |\n",
       "| POP550D | -28.19151761 |  9.8025783 | -2.87592884 | 0.004051311 |\n",
       "| POP570D |   0.16646361 |  1.8156766 |  0.09168131 | 0.926956183 |\n",
       "| POP580D |   2.25065499 |  1.8055245 |  1.24653803 | 0.212645443 |\n",
       "| POP700D |  44.31693658 | 32.9945036 |  1.34316119 | 0.179301745 |\n",
       "| POP710D | -13.12781956 |  8.5494594 | -1.53551458 | 0.124742543 |\n",
       "| POP720D |   0.89198580 |  0.8173148 |  1.09136132 | 0.275184625 |\n",
       "| POP740D |   0.40686412 |  0.4012353 |  1.01402872 | 0.310635014 |\n",
       "| PPQ010D |  -0.31433106 |  0.4125242 | -0.76196997 | 0.446126247 |\n",
       "| PPQ100D |   0.49054324 |  0.2543427 |  1.92867065 | 0.053847782 |\n",
       "| PPQ110D |          NaN |  0.0000000 |         NaN |         NaN |\n",
       "| PPQ120D |          NaN |  0.0000000 |         NaN |         NaN |\n",
       "| PVY020D |  -1.14717088 |  2.6420324 | -0.43420016 | 0.664168287 |\n",
       "| PVY120D |   2.03161358 |  1.9353901 |  1.04971787 | 0.293916055 |\n",
       "| PVY210D |   0.30728204 |  0.4854728 |  0.63295424 | 0.526802444 |\n",
       "| PVY310D |  -0.42834313 |  0.7508571 | -0.57047226 | 0.568391896 |\n",
       "| PVY420D |   0.61149837 |  1.7874181 |  0.34211267 | 0.732285434 |\n",
       "| PVY520D |  -0.32686293 |  0.8053323 | -0.40587336 | 0.684859006 |\n",
       "| SPR030D |  -0.50017289 |  0.4806889 | -1.04053346 | 0.298159768 |\n",
       "| SPR130D |  -1.65749967 |  0.8607775 | -1.92558437 | 0.054232451 |\n",
       "| SPR230D |   1.44840169 |  0.8382389 |  1.72791032 | 0.084087316 |\n",
       "| SPR330D |  -0.03365234 |  0.4012711 | -0.08386435 | 0.933168796 |\n",
       "| SPR440D |  -0.43182707 |  0.2718852 | -1.58826958 | 0.112310400 |\n",
       "| VST020D |   0.53220207 |  0.2990330 |  1.77974346 | 0.075199591 |\n",
       "\n"
      ],
      "text/plain": [
       "                Estimate      Cluster s.e. t value     Pr(>|t|)    \n",
       "(Intercept)      1.675988e-15 1.659040e-15  1.0102155  0.3124577934\n",
       "logfssl          1.906447e-01 5.244756e-02  3.6349591  0.0002817867\n",
       "logrobr          1.890471e-01 5.385086e-02  3.5105680  0.0004524588\n",
       "logburg          2.192630e-01 6.282510e-02  3.4900546  0.0004885304\n",
       "burg_missing     1.529614e+00 4.443831e-01  3.4421076  0.0005835660\n",
       "robrate_missing  1.133081e+00 3.047595e-01  3.7179522  0.0002038034\n",
       "newblack         2.434718e+01 4.480200e+01  0.5434397  0.5868597027\n",
       "newfhh          -6.875928e+01 1.146440e+02 -0.5997632  0.5487006184\n",
       "newmove          4.211082e+01 2.869630e+01  1.4674649  0.1423341971\n",
       "newdens                   NaN 0.000000e+00        NaN           NaN\n",
       "newmal           6.116798e-01 2.747573e-01  2.2262549  0.0260568012\n",
       "AGE010D                   NaN 0.000000e+00        NaN           NaN\n",
       "AGE050D          1.042682e+01 6.123894e+00  1.7026455  0.0887179971\n",
       "AGE110D         -6.459149e+00 4.079379e+00 -1.5833657  0.1134231550\n",
       "AGE170D         -6.446777e+00 4.865130e+00 -1.3250986  0.1852198433\n",
       "AGE180D         -1.153232e+01 1.387809e+01 -0.8309731  0.4060421653\n",
       "AGE270D          3.565629e+01 1.975098e+01  1.8052917  0.0711098841\n",
       "AGE310D          1.938343e+01 2.660572e+01  0.7285436  0.4663267705\n",
       "AGE320D          1.588112e+00 1.533212e+00  1.0358074  0.3003593274\n",
       "AGE350D         -9.330175e+00 1.308344e+01 -0.7131288  0.4758107752\n",
       "AGE380D          2.713707e+01 2.716928e+01  0.9988143  0.3179496313\n",
       "AGE410D         -9.263883e+00 1.254796e+01 -0.7382778  0.4603922507\n",
       "AGE470D          5.171539e+00 2.509152e+00  2.0610704  0.0393656944\n",
       "AGE570D          3.818025e+00 1.956870e+00  1.9510873  0.0511216497\n",
       "AGE640D          1.965092e+00 1.301353e+00  1.5100375  0.1311188123\n",
       "AGE670D         -1.729271e+00 1.281977e+00 -1.3489093  0.1774482404\n",
       "AGE760D          8.113869e-01 3.211334e+00  0.2526635  0.8005421838\n",
       "BNK010D         -7.570156e-02 8.044091e-02 -0.9410828  0.3467235766\n",
       "BNK050D          1.852136e-02 6.938743e-02  0.2669267  0.7895403658\n",
       "BPS030D         -6.704976e-02 1.089697e-01 -0.6153063  0.5383901048\n",
       "...             ...           ...          ...         ...         \n",
       "POP210D          -0.97209645   0.7998094   -1.21541015 0.224286848 \n",
       "POP240D         -28.69339007  44.6041742   -0.64328935 0.520076029 \n",
       "POP440D          -3.88112370   2.2646538   -1.71378237 0.086652034 \n",
       "POP450D          11.63617966   7.3858170    1.57547630 0.115231602 \n",
       "POP470D          -3.53764116   1.2980421   -2.72536703 0.006453076 \n",
       "POP480D          -1.77257985   1.3831761   -1.28152871 0.200087916 \n",
       "POP540D          -1.48084629   2.1780103   -0.67990786 0.496605124 \n",
       "POP550D         -28.19151761   9.8025783   -2.87592884 0.004051311 \n",
       "POP570D           0.16646361   1.8156766    0.09168131 0.926956183 \n",
       "POP580D           2.25065499   1.8055245    1.24653803 0.212645443 \n",
       "POP700D          44.31693658  32.9945036    1.34316119 0.179301745 \n",
       "POP710D         -13.12781956   8.5494594   -1.53551458 0.124742543 \n",
       "POP720D           0.89198580   0.8173148    1.09136132 0.275184625 \n",
       "POP740D           0.40686412   0.4012353    1.01402872 0.310635014 \n",
       "PPQ010D          -0.31433106   0.4125242   -0.76196997 0.446126247 \n",
       "PPQ100D           0.49054324   0.2543427    1.92867065 0.053847782 \n",
       "PPQ110D                  NaN   0.0000000           NaN         NaN \n",
       "PPQ120D                  NaN   0.0000000           NaN         NaN \n",
       "PVY020D          -1.14717088   2.6420324   -0.43420016 0.664168287 \n",
       "PVY120D           2.03161358   1.9353901    1.04971787 0.293916055 \n",
       "PVY210D           0.30728204   0.4854728    0.63295424 0.526802444 \n",
       "PVY310D          -0.42834313   0.7508571   -0.57047226 0.568391896 \n",
       "PVY420D           0.61149837   1.7874181    0.34211267 0.732285434 \n",
       "PVY520D          -0.32686293   0.8053323   -0.40587336 0.684859006 \n",
       "SPR030D          -0.50017289   0.4806889   -1.04053346 0.298159768 \n",
       "SPR130D          -1.65749967   0.8607775   -1.92558437 0.054232451 \n",
       "SPR230D           1.44840169   0.8382389    1.72791032 0.084087316 \n",
       "SPR330D          -0.03365234   0.4012711   -0.08386435 0.933168796 \n",
       "SPR440D          -0.43182707   0.2718852   -1.58826958 0.112310400 \n",
       "VST020D           0.53220207   0.2990330    1.77974346 0.075199591 "
      ]
     },
     "metadata": {},
     "output_type": "display_data"
    }
   ],
   "source": [
    "summary(control.ols)$coef"
   ]
  },
  {
   "cell_type": "code",
   "execution_count": 23,
   "metadata": {
    "execution": {
     "iopub.execute_input": "2021-02-13T17:30:40.575465Z",
     "iopub.status.busy": "2021-02-13T17:30:40.573798Z",
     "iopub.status.idle": "2021-02-13T17:30:40.777165Z",
     "shell.execute_reply": "2021-02-13T17:30:40.774926Z"
    },
    "papermill": {
     "duration": 0.229579,
     "end_time": "2021-02-13T17:30:40.777425",
     "exception": false,
     "start_time": "2021-02-13T17:30:40.547846",
     "status": "completed"
    },
    "tags": []
   },
   "outputs": [
    {
     "name": "stderr",
     "output_type": "stream",
     "text": [
      "Warning message in chol.default(mat, pivot = TRUE, tol = tol):\n",
      "\"the matrix is either rank-deficient or indefinite\"\n",
      "Warning message in chol.default(mat, pivot = TRUE, tol = tol):\n",
      "\"the matrix is either rank-deficient or indefinite\"\n"
     ]
    },
    {
     "data": {
      "text/html": [
       "<style>\n",
       ".dl-inline {width: auto; margin:0; padding: 0}\n",
       ".dl-inline>dt, .dl-inline>dd {float: none; width: auto; display: inline-block}\n",
       ".dl-inline>dt::after {content: \":\\0020\"; padding-right: .5ex}\n",
       ".dl-inline>dt:not(:first-of-type) {padding-left: .5ex}\n",
       "</style><dl class=dl-inline><dt>2.5 %</dt><dd>0.087815935618714</dd><dt>97.5 %</dt><dd>0.293473517537939</dd></dl>\n"
      ],
      "text/latex": [
       "\\begin{description*}\n",
       "\\item[2.5 \\textbackslash{}\\%] 0.087815935618714\n",
       "\\item[97.5 \\textbackslash{}\\%] 0.293473517537939\n",
       "\\end{description*}\n"
      ],
      "text/markdown": [
       "2.5 %\n",
       ":   0.08781593561871497.5 %\n",
       ":   0.293473517537939\n",
       "\n"
      ],
      "text/plain": [
       "     2.5 %     97.5 % \n",
       "0.08781594 0.29347352 "
      ]
     },
     "metadata": {},
     "output_type": "display_data"
    },
    {
     "data": {
      "text/html": [
       "<style>\n",
       ".dl-inline {width: auto; margin:0; padding: 0}\n",
       ".dl-inline>dt, .dl-inline>dd {float: none; width: auto; display: inline-block}\n",
       ".dl-inline>dt::after {content: \":\\0020\"; padding-right: .5ex}\n",
       ".dl-inline>dt:not(:first-of-type) {padding-left: .5ex}\n",
       "</style><dl class=dl-inline><dt>Estimate</dt><dd>0.190644726578327</dd><dt>Cluster s.e.</dt><dd>0.0524475581590951</dd><dt>t value</dt><dd>3.63495905757943</dd><dt>Pr(&gt;|t|)</dt><dd>0.000281786721253425</dd></dl>\n"
      ],
      "text/latex": [
       "\\begin{description*}\n",
       "\\item[Estimate] 0.190644726578327\n",
       "\\item[Cluster s.e.] 0.0524475581590951\n",
       "\\item[t value] 3.63495905757943\n",
       "\\item[Pr(>\\textbackslash{}textbar\\{\\}t\\textbackslash{}textbar\\{\\})] 0.000281786721253425\n",
       "\\end{description*}\n"
      ],
      "text/markdown": [
       "Estimate\n",
       ":   0.190644726578327Cluster s.e.\n",
       ":   0.0524475581590951t value\n",
       ":   3.63495905757943Pr(&amp;gt;|t|)\n",
       ":   0.000281786721253425\n",
       "\n"
      ],
      "text/plain": [
       "    Estimate Cluster s.e.      t value     Pr(>|t|) \n",
       "0.1906447266 0.0524475582 3.6349590576 0.0002817867 "
      ]
     },
     "metadata": {},
     "output_type": "display_data"
    }
   ],
   "source": [
    "control.ols <- felm(control_formula,data=data)\n",
    "est_ols <- summary(control.ols)$coef[2,]\n",
    "confint(control.ols)[2,]\n",
    "est_ols"
   ]
  },
  {
   "cell_type": "markdown",
   "metadata": {
    "papermill": {
     "duration": 0.039309,
     "end_time": "2021-02-13T17:30:40.858783",
     "exception": false,
     "start_time": "2021-02-13T17:30:40.819474",
     "status": "completed"
    },
    "tags": []
   },
   "source": [
    "After controlling for a rich set of characteristics, the point estimate of gun ownership reduces to $0.19$."
   ]
  },
  {
   "cell_type": "markdown",
   "metadata": {
    "papermill": {
     "duration": 0.022083,
     "end_time": "2021-02-13T17:30:40.902070",
     "exception": false,
     "start_time": "2021-02-13T17:30:40.879987",
     "status": "completed"
    },
    "tags": []
   },
   "source": [
    "# DML algorithm\n",
    "\n",
    "Here we perform inference of the predictive coefficient $\\beta$ in our partially linear statistical model, \n",
    "\n",
    "$$\n",
    "Y = D\\beta + g(Z) + \\epsilon, \\quad E (\\epsilon | D, Z) = 0,\n",
    "$$\n",
    "\n",
    "using the **double machine learning** approach. \n",
    "\n",
    "For $\\tilde Y = Y- E(Y|Z)$ and $\\tilde D= D- E(D|Z)$, we can write\n",
    "$$\n",
    "\\tilde Y = \\alpha \\tilde D + \\epsilon, \\quad E (\\epsilon |\\tilde D) =0.\n",
    "$$\n",
    "\n",
    "Using cross-fitting, we employ modern regression methods\n",
    "to build estimators $\\hat \\ell(Z)$ and $\\hat m(Z)$ of $\\ell(Z):=E(Y|Z)$ and $m(Z):=E(D|Z)$ to obtain the estimates of the residualized quantities:\n",
    "\n",
    "$$\n",
    "\\tilde Y_i = Y_i  - \\hat \\ell (Z_i),   \\quad \\tilde D_i = D_i - \\hat m(Z_i), \\quad \\text{ for each } i = 1,\\dots,n.\n",
    "$$\n",
    "\n",
    "Finally, using ordinary least squares of $\\tilde Y_i$ on $\\tilde D_i$, we obtain the \n",
    "estimate of $\\beta$."
   ]
  },
  {
   "cell_type": "markdown",
   "metadata": {
    "papermill": {
     "duration": 0.021101,
     "end_time": "2021-02-13T17:30:40.944373",
     "exception": false,
     "start_time": "2021-02-13T17:30:40.923272",
     "status": "completed"
    },
    "tags": []
   },
   "source": [
    "The following algorithm comsumes $Y, D, Z$, and a machine learning method for learning the residuals $\\tilde Y$ and $\\tilde D$, where the residuals are obtained by cross-validation (cross-fitting). Then, it prints the estimated coefficient $\\beta$ and the corresponding standard error from the final OLS regression."
   ]
  },
  {
   "cell_type": "code",
   "execution_count": 76,
   "metadata": {
    "execution": {
     "iopub.execute_input": "2021-02-13T17:30:41.049917Z",
     "iopub.status.busy": "2021-02-13T17:30:41.048343Z",
     "iopub.status.idle": "2021-02-13T17:30:41.060452Z",
     "shell.execute_reply": "2021-02-13T17:30:41.059555Z"
    },
    "papermill": {
     "duration": 0.095479,
     "end_time": "2021-02-13T17:30:41.060587",
     "exception": false,
     "start_time": "2021-02-13T17:30:40.965108",
     "status": "completed"
    },
    "tags": []
   },
   "outputs": [],
   "source": [
    "DML2.for.PLM <- function(z, d, y, dreg, yreg, nfold=2, clu) {\n",
    "  nobs <- nrow(z) #number of observations\n",
    "  foldid <- rep.int(1:nfold,times = ceiling(nobs/nfold))[sample.int(nobs)] #define folds indices\n",
    "  I <- split(1:nobs, foldid)  #split observation indices into folds  \n",
    "  ytil <- dtil <- rep(NA, nobs)\n",
    "  cat(\"fold: \")\n",
    "  for(b in 1:length(I)){\n",
    "    dfit <- dreg(z[-I[[b]],], d[-I[[b]]]) #take a fold out\n",
    "    yfit <- yreg(z[-I[[b]],], y[-I[[b]]]) # take a foldt out\n",
    "    dhat <- predict(dfit, z[I[[b]],], type=\"response\") #predict the left-out fold \n",
    "    yhat <- predict(yfit, z[I[[b]],], type=\"response\") #predict the left-out fold  \n",
    "    dtil[I[[b]]] <- (d[I[[b]]] - dhat) #record residual for the left-out fold\n",
    "    ytil[I[[b]]] <- (y[I[[b]]] - yhat) #record residial for the left-out fold\n",
    "    cat(b,\" \")\n",
    "        }\n",
    "  #rfit <- lm(ytil ~ dtil)    #estimate the main parameter by regressing one residual on the other\n",
    "  data <- data.frame(cbind(ytil, dtil, as.matrix(clu)))\n",
    "  rfit <- felm(ytil ~ dtil|0|0|CountyCode,data=data) \n",
    "  coef.est <- coef(rfit)[2]  #extract coefficient\n",
    "  #HC <- vcovHC(rfit)\n",
    "  se    <- summary(rfit,robust=T)$coefficients[2,2] #record robust standard error by County\n",
    "  cat(sprintf(\"\\ncoef (se) = %g (%g)\\n\", coef.est , se))  #printing output\n",
    "  return( list(coef.est =coef.est , se=se, dtil=dtil, ytil=ytil, rfit=rfit) ) #save output and residuals \n",
    "}"
   ]
  },
  {
   "cell_type": "code",
   "execution_count": 157,
   "metadata": {},
   "outputs": [],
   "source": [
    "#DML with Lasso:\n",
    "set.seed(123)\n",
    "dreg <- function(z,d){ rlasso(z,d, post=FALSE) } #ML method= lasso from hdm \n",
    "yreg <- function(z,y){ rlasso(z,y, post=FALSE) } #ML method = lasso from hdm"
   ]
  },
  {
   "cell_type": "code",
   "execution_count": 172,
   "metadata": {},
   "outputs": [
    {
     "data": {
      "text/html": [
       "<table class=\"dataframe\">\n",
       "<caption>A matrix: 3900 × 1 of type dbl</caption>\n",
       "<tbody>\n",
       "\t<tr><td> 0.02067554</td></tr>\n",
       "\t<tr><td> 0.02067371</td></tr>\n",
       "\t<tr><td> 0.02067636</td></tr>\n",
       "\t<tr><td> 0.02067371</td></tr>\n",
       "\t<tr><td> 0.02134283</td></tr>\n",
       "\t<tr><td> 0.02261468</td></tr>\n",
       "\t<tr><td> 0.02418432</td></tr>\n",
       "\t<tr><td> 0.02415630</td></tr>\n",
       "\t<tr><td> 0.02173860</td></tr>\n",
       "\t<tr><td> 0.02109776</td></tr>\n",
       "\t<tr><td>-0.01832665</td></tr>\n",
       "\t<tr><td>-0.01893859</td></tr>\n",
       "\t<tr><td>-0.02385528</td></tr>\n",
       "\t<tr><td>-0.02278552</td></tr>\n",
       "\t<tr><td>-0.02278494</td></tr>\n",
       "\t<tr><td>-0.02276981</td></tr>\n",
       "\t<tr><td>-0.02158776</td></tr>\n",
       "\t<tr><td>-0.02161449</td></tr>\n",
       "\t<tr><td>-0.02161403</td></tr>\n",
       "\t<tr><td>-0.02355673</td></tr>\n",
       "\t<tr><td> 0.01746842</td></tr>\n",
       "\t<tr><td> 0.01746703</td></tr>\n",
       "\t<tr><td> 0.01746905</td></tr>\n",
       "\t<tr><td> 0.01746703</td></tr>\n",
       "\t<tr><td> 0.01777640</td></tr>\n",
       "\t<tr><td> 0.01630838</td></tr>\n",
       "\t<tr><td> 0.01642439</td></tr>\n",
       "\t<tr><td> 0.01540959</td></tr>\n",
       "\t<tr><td> 0.01507730</td></tr>\n",
       "\t<tr><td> 0.01527803</td></tr>\n",
       "\t<tr><td>...</td></tr>\n",
       "\t<tr><td> 0.01507148</td></tr>\n",
       "\t<tr><td> 0.01449201</td></tr>\n",
       "\t<tr><td> 0.01191765</td></tr>\n",
       "\t<tr><td> 0.01022768</td></tr>\n",
       "\t<tr><td> 0.01022838</td></tr>\n",
       "\t<tr><td> 0.01024649</td></tr>\n",
       "\t<tr><td> 0.01368047</td></tr>\n",
       "\t<tr><td> 0.01364847</td></tr>\n",
       "\t<tr><td> 0.01364901</td></tr>\n",
       "\t<tr><td> 0.01263990</td></tr>\n",
       "\t<tr><td>-0.01609520</td></tr>\n",
       "\t<tr><td>-0.01609645</td></tr>\n",
       "\t<tr><td>-0.01609464</td></tr>\n",
       "\t<tr><td>-0.01609645</td></tr>\n",
       "\t<tr><td>-0.01511949</td></tr>\n",
       "\t<tr><td>-0.01491496</td></tr>\n",
       "\t<tr><td>-0.01499745</td></tr>\n",
       "\t<tr><td>-0.01384599</td></tr>\n",
       "\t<tr><td>-0.01445902</td></tr>\n",
       "\t<tr><td>-0.01412311</td></tr>\n",
       "\t<tr><td> 0.01728224</td></tr>\n",
       "\t<tr><td> 0.01754643</td></tr>\n",
       "\t<tr><td> 0.01514577</td></tr>\n",
       "\t<tr><td> 0.01499052</td></tr>\n",
       "\t<tr><td> 0.01499092</td></tr>\n",
       "\t<tr><td> 0.01500123</td></tr>\n",
       "\t<tr><td> 0.01426385</td></tr>\n",
       "\t<tr><td> 0.01424562</td></tr>\n",
       "\t<tr><td> 0.01368459</td></tr>\n",
       "\t<tr><td> 0.01469160</td></tr>\n",
       "</tbody>\n",
       "</table>\n"
      ],
      "text/latex": [
       "A matrix: 3900 × 1 of type dbl\n",
       "\\begin{tabular}{l}\n",
       "\t  0.02067554\\\\\n",
       "\t  0.02067371\\\\\n",
       "\t  0.02067636\\\\\n",
       "\t  0.02067371\\\\\n",
       "\t  0.02134283\\\\\n",
       "\t  0.02261468\\\\\n",
       "\t  0.02418432\\\\\n",
       "\t  0.02415630\\\\\n",
       "\t  0.02173860\\\\\n",
       "\t  0.02109776\\\\\n",
       "\t -0.01832665\\\\\n",
       "\t -0.01893859\\\\\n",
       "\t -0.02385528\\\\\n",
       "\t -0.02278552\\\\\n",
       "\t -0.02278494\\\\\n",
       "\t -0.02276981\\\\\n",
       "\t -0.02158776\\\\\n",
       "\t -0.02161449\\\\\n",
       "\t -0.02161403\\\\\n",
       "\t -0.02355673\\\\\n",
       "\t  0.01746842\\\\\n",
       "\t  0.01746703\\\\\n",
       "\t  0.01746905\\\\\n",
       "\t  0.01746703\\\\\n",
       "\t  0.01777640\\\\\n",
       "\t  0.01630838\\\\\n",
       "\t  0.01642439\\\\\n",
       "\t  0.01540959\\\\\n",
       "\t  0.01507730\\\\\n",
       "\t  0.01527803\\\\\n",
       "\t ...\\\\\n",
       "\t  0.01507148\\\\\n",
       "\t  0.01449201\\\\\n",
       "\t  0.01191765\\\\\n",
       "\t  0.01022768\\\\\n",
       "\t  0.01022838\\\\\n",
       "\t  0.01024649\\\\\n",
       "\t  0.01368047\\\\\n",
       "\t  0.01364847\\\\\n",
       "\t  0.01364901\\\\\n",
       "\t  0.01263990\\\\\n",
       "\t -0.01609520\\\\\n",
       "\t -0.01609645\\\\\n",
       "\t -0.01609464\\\\\n",
       "\t -0.01609645\\\\\n",
       "\t -0.01511949\\\\\n",
       "\t -0.01491496\\\\\n",
       "\t -0.01499745\\\\\n",
       "\t -0.01384599\\\\\n",
       "\t -0.01445902\\\\\n",
       "\t -0.01412311\\\\\n",
       "\t  0.01728224\\\\\n",
       "\t  0.01754643\\\\\n",
       "\t  0.01514577\\\\\n",
       "\t  0.01499052\\\\\n",
       "\t  0.01499092\\\\\n",
       "\t  0.01500123\\\\\n",
       "\t  0.01426385\\\\\n",
       "\t  0.01424562\\\\\n",
       "\t  0.01368459\\\\\n",
       "\t  0.01469160\\\\\n",
       "\\end{tabular}\n"
      ],
      "text/markdown": [
       "\n",
       "A matrix: 3900 × 1 of type dbl\n",
       "\n",
       "|  0.02067554 |\n",
       "|  0.02067371 |\n",
       "|  0.02067636 |\n",
       "|  0.02067371 |\n",
       "|  0.02134283 |\n",
       "|  0.02261468 |\n",
       "|  0.02418432 |\n",
       "|  0.02415630 |\n",
       "|  0.02173860 |\n",
       "|  0.02109776 |\n",
       "| -0.01832665 |\n",
       "| -0.01893859 |\n",
       "| -0.02385528 |\n",
       "| -0.02278552 |\n",
       "| -0.02278494 |\n",
       "| -0.02276981 |\n",
       "| -0.02158776 |\n",
       "| -0.02161449 |\n",
       "| -0.02161403 |\n",
       "| -0.02355673 |\n",
       "|  0.01746842 |\n",
       "|  0.01746703 |\n",
       "|  0.01746905 |\n",
       "|  0.01746703 |\n",
       "|  0.01777640 |\n",
       "|  0.01630838 |\n",
       "|  0.01642439 |\n",
       "|  0.01540959 |\n",
       "|  0.01507730 |\n",
       "|  0.01527803 |\n",
       "| ... |\n",
       "|  0.01507148 |\n",
       "|  0.01449201 |\n",
       "|  0.01191765 |\n",
       "|  0.01022768 |\n",
       "|  0.01022838 |\n",
       "|  0.01024649 |\n",
       "|  0.01368047 |\n",
       "|  0.01364847 |\n",
       "|  0.01364901 |\n",
       "|  0.01263990 |\n",
       "| -0.01609520 |\n",
       "| -0.01609645 |\n",
       "| -0.01609464 |\n",
       "| -0.01609645 |\n",
       "| -0.01511949 |\n",
       "| -0.01491496 |\n",
       "| -0.01499745 |\n",
       "| -0.01384599 |\n",
       "| -0.01445902 |\n",
       "| -0.01412311 |\n",
       "|  0.01728224 |\n",
       "|  0.01754643 |\n",
       "|  0.01514577 |\n",
       "|  0.01499052 |\n",
       "|  0.01499092 |\n",
       "|  0.01500123 |\n",
       "|  0.01426385 |\n",
       "|  0.01424562 |\n",
       "|  0.01368459 |\n",
       "|  0.01469160 |\n",
       "\n"
      ],
      "text/plain": [
       "      [,1]       \n",
       " [1,]  0.02067554\n",
       " [2,]  0.02067371\n",
       " [3,]  0.02067636\n",
       " [4,]  0.02067371\n",
       " [5,]  0.02134283\n",
       " [6,]  0.02261468\n",
       " [7,]  0.02418432\n",
       " [8,]  0.02415630\n",
       " [9,]  0.02173860\n",
       "[10,]  0.02109776\n",
       "[11,] -0.01832665\n",
       "[12,] -0.01893859\n",
       "[13,] -0.02385528\n",
       "[14,] -0.02278552\n",
       "[15,] -0.02278494\n",
       "[16,] -0.02276981\n",
       "[17,] -0.02158776\n",
       "[18,] -0.02161449\n",
       "[19,] -0.02161403\n",
       "[20,] -0.02355673\n",
       "[21,]  0.01746842\n",
       "[22,]  0.01746703\n",
       "[23,]  0.01746905\n",
       "[24,]  0.01746703\n",
       "[25,]  0.01777640\n",
       "[26,]  0.01630838\n",
       "[27,]  0.01642439\n",
       "[28,]  0.01540959\n",
       "[29,]  0.01507730\n",
       "[30,]  0.01527803\n",
       "[31,] ...        \n",
       "[32,]  0.01507148\n",
       "[33,]  0.01449201\n",
       "[34,]  0.01191765\n",
       "[35,]  0.01022768\n",
       "[36,]  0.01022838\n",
       "[37,]  0.01024649\n",
       "[38,]  0.01368047\n",
       "[39,]  0.01364847\n",
       "[40,]  0.01364901\n",
       "[41,]  0.01263990\n",
       "[42,] -0.01609520\n",
       "[43,] -0.01609645\n",
       "[44,] -0.01609464\n",
       "[45,] -0.01609645\n",
       "[46,] -0.01511949\n",
       "[47,] -0.01491496\n",
       "[48,] -0.01499745\n",
       "[49,] -0.01384599\n",
       "[50,] -0.01445902\n",
       "[51,] -0.01412311\n",
       "[52,]  0.01728224\n",
       "[53,]  0.01754643\n",
       "[54,]  0.01514577\n",
       "[55,]  0.01499052\n",
       "[56,]  0.01499092\n",
       "[57,]  0.01500123\n",
       "[58,]  0.01426385\n",
       "[59,]  0.01424562\n",
       "[60,]  0.01368459\n",
       "[61,]  0.01469160"
      ]
     },
     "metadata": {},
     "output_type": "display_data"
    }
   ],
   "source": [
    "\n",
    "predict(dreg(z,d), z, type=\"response\")"
   ]
  },
  {
   "cell_type": "code",
   "execution_count": 162,
   "metadata": {},
   "outputs": [
    {
     "data": {
      "text/html": [
       "<style>\n",
       ".list-inline {list-style: none; margin:0; padding: 0}\n",
       ".list-inline>li {display: inline-block}\n",
       ".list-inline>li:not(:last-child)::after {content: \"\\00b7\"; padding: 0 .5ex}\n",
       "</style>\n",
       "<ol class=list-inline><li>5</li><li>7</li><li>8</li><li>10</li><li>11</li><li>12</li><li>16</li><li>18</li><li>19</li><li>21</li><li>26</li><li>28</li><li>30</li><li>31</li><li>35</li><li>36</li><li>38</li><li>40</li><li>41</li><li>42</li><li>43</li><li>45</li><li>48</li><li>49</li><li>50</li></ol>\n"
      ],
      "text/latex": [
       "\\begin{enumerate*}\n",
       "\\item 5\n",
       "\\item 7\n",
       "\\item 8\n",
       "\\item 10\n",
       "\\item 11\n",
       "\\item 12\n",
       "\\item 16\n",
       "\\item 18\n",
       "\\item 19\n",
       "\\item 21\n",
       "\\item 26\n",
       "\\item 28\n",
       "\\item 30\n",
       "\\item 31\n",
       "\\item 35\n",
       "\\item 36\n",
       "\\item 38\n",
       "\\item 40\n",
       "\\item 41\n",
       "\\item 42\n",
       "\\item 43\n",
       "\\item 45\n",
       "\\item 48\n",
       "\\item 49\n",
       "\\item 50\n",
       "\\end{enumerate*}\n"
      ],
      "text/markdown": [
       "1. 5\n",
       "2. 7\n",
       "3. 8\n",
       "4. 10\n",
       "5. 11\n",
       "6. 12\n",
       "7. 16\n",
       "8. 18\n",
       "9. 19\n",
       "10. 21\n",
       "11. 26\n",
       "12. 28\n",
       "13. 30\n",
       "14. 31\n",
       "15. 35\n",
       "16. 36\n",
       "17. 38\n",
       "18. 40\n",
       "19. 41\n",
       "20. 42\n",
       "21. 43\n",
       "22. 45\n",
       "23. 48\n",
       "24. 49\n",
       "25. 50\n",
       "\n",
       "\n"
      ],
      "text/plain": [
       " [1]  5  7  8 10 11 12 16 18 19 21 26 28 30 31 35 36 38 40 41 42 43 45 48 49 50"
      ]
     },
     "metadata": {},
     "output_type": "display_data"
    }
   ],
   "source": [
    "I[[1]]"
   ]
  },
  {
   "cell_type": "code",
   "execution_count": 160,
   "metadata": {},
   "outputs": [
    {
     "data": {
      "text/html": [
       "<table class=\"dataframe\">\n",
       "<caption>A matrix: 3875 × 195 of type dbl</caption>\n",
       "<thead>\n",
       "\t<tr><th scope=col>logrobr</th><th scope=col>logburg</th><th scope=col>burg_missing</th><th scope=col>robrate_missing</th><th scope=col>newblack</th><th scope=col>newfhh</th><th scope=col>newmove</th><th scope=col>newdens</th><th scope=col>newmal</th><th scope=col>AGE010D</th><th scope=col>...</th><th scope=col>PVY210D</th><th scope=col>PVY310D</th><th scope=col>PVY420D</th><th scope=col>PVY520D</th><th scope=col>SPR030D</th><th scope=col>SPR130D</th><th scope=col>SPR230D</th><th scope=col>SPR330D</th><th scope=col>SPR440D</th><th scope=col>VST020D</th></tr>\n",
       "</thead>\n",
       "<tbody>\n",
       "\t<tr><td> 0.150892955</td><td>-0.12439496</td><td> 0.010461298</td><td>-0.021229018</td><td> 0.03094714</td><td>-0.02048318</td><td>-0.0008673351</td><td> 0.004602811</td><td> 0.02690836</td><td> 0.05834163</td><td>...</td><td> 0.0048126288</td><td> 0.004968137</td><td> 0.007567125</td><td> 0.002871736</td><td> 0.047881399</td><td> 0.020035591</td><td> 1.631817e-02</td><td> 0.026761021</td><td>-0.0407037865</td><td> 0.077142144</td></tr>\n",
       "\t<tr><td> 0.040168294</td><td>-0.13478137</td><td> 0.010461298</td><td>-0.019418070</td><td> 0.03094714</td><td>-0.02048318</td><td>-0.0008673351</td><td> 0.004602811</td><td> 0.02690836</td><td> 0.05834163</td><td>...</td><td> 0.0048126288</td><td> 0.004968137</td><td> 0.007567125</td><td> 0.002871736</td><td> 0.047881399</td><td> 0.020035591</td><td> 1.631817e-02</td><td> 0.026761021</td><td>-0.0407037865</td><td> 0.077142144</td></tr>\n",
       "\t<tr><td>-0.017678972</td><td>-0.16790879</td><td> 0.010461298</td><td>-0.022037363</td><td> 0.03094714</td><td>-0.02048318</td><td>-0.0008673351</td><td> 0.004602811</td><td> 0.02690836</td><td> 0.05834163</td><td>...</td><td> 0.0048126288</td><td> 0.004968137</td><td> 0.007567125</td><td> 0.002871736</td><td> 0.047881399</td><td> 0.020035591</td><td> 1.631817e-02</td><td> 0.026761021</td><td>-0.0407037865</td><td> 0.077142144</td></tr>\n",
       "\t<tr><td>-0.009633444</td><td>-0.22925024</td><td> 0.010461298</td><td>-0.019418070</td><td> 0.03094714</td><td>-0.02048318</td><td>-0.0008673351</td><td> 0.004602811</td><td> 0.02690836</td><td> 0.05834163</td><td>...</td><td> 0.0048126288</td><td> 0.004968137</td><td> 0.007567125</td><td> 0.002871736</td><td> 0.047881399</td><td> 0.020035591</td><td> 1.631817e-02</td><td> 0.026761021</td><td>-0.0407037865</td><td> 0.077142144</td></tr>\n",
       "\t<tr><td>-0.151486908</td><td>-0.18906867</td><td> 0.010461298</td><td> 0.016952990</td><td> 0.03094714</td><td>-0.02048318</td><td>-0.0008673351</td><td> 0.004602811</td><td> 0.02690836</td><td> 0.05834163</td><td>...</td><td> 0.0048126288</td><td> 0.004968137</td><td> 0.007567125</td><td> 0.002871736</td><td> 0.022591761</td><td> 0.020035591</td><td> 1.631817e-02</td><td> 0.026761021</td><td>-0.0407037865</td><td>-0.004559625</td></tr>\n",
       "\t<tr><td> 0.151556892</td><td> 0.31928157</td><td>-0.044834819</td><td>-0.036662911</td><td> 0.03094714</td><td>-0.02048318</td><td>-0.0008673351</td><td> 0.004602811</td><td> 0.02690836</td><td> 0.05834163</td><td>...</td><td> 0.0048126288</td><td> 0.004968137</td><td> 0.007567125</td><td> 0.002871736</td><td> 0.022591761</td><td> 0.020035591</td><td> 1.631817e-02</td><td> 0.026761021</td><td>-0.0407037865</td><td>-0.004559625</td></tr>\n",
       "\t<tr><td>-0.153504083</td><td> 0.39301462</td><td>-0.048444090</td><td> 0.023057734</td><td>-0.03094714</td><td> 0.02048318</td><td> 0.0008673351</td><td>-0.004602811</td><td>-0.02690836</td><td>-0.05834163</td><td>...</td><td> 0.0048126288</td><td> 0.004968137</td><td> 0.007567125</td><td> 0.002871736</td><td>-0.018974878</td><td>-0.003537254</td><td> 5.560681e-04</td><td>-0.021438194</td><td> 0.0712471943</td><td>-0.062604941</td></tr>\n",
       "\t<tr><td>-0.148068698</td><td>-0.01463156</td><td> 0.008861354</td><td> 0.016110296</td><td>-0.03094714</td><td> 0.02048318</td><td> 0.0008673351</td><td>-0.004602811</td><td>-0.02690836</td><td>-0.05834163</td><td>...</td><td> 0.0048126288</td><td> 0.004968137</td><td> 0.007567125</td><td> 0.002871736</td><td>-0.025635679</td><td>-0.008633104</td><td>-9.996319e-03</td><td>-0.038054364</td><td> 0.0148044822</td><td>-0.039570068</td></tr>\n",
       "\t<tr><td> 0.024709108</td><td> 0.05316178</td><td> 0.006771682</td><td> 0.015536813</td><td>-0.03094714</td><td> 0.02048318</td><td> 0.0008673351</td><td>-0.004602811</td><td>-0.02690836</td><td>-0.05834163</td><td>...</td><td> 0.0048126288</td><td> 0.004968137</td><td> 0.007567125</td><td> 0.002871736</td><td>-0.030345866</td><td>-0.015413846</td><td>-8.746013e-03</td><td>-0.036800544</td><td> 0.0619715536</td><td>-0.058560047</td></tr>\n",
       "\t<tr><td> 0.294983806</td><td> 0.14604679</td><td>-0.004601727</td><td>-0.020556240</td><td>-0.03094714</td><td> 0.02048318</td><td> 0.0008673351</td><td>-0.004602811</td><td>-0.02690836</td><td>-0.05834163</td><td>...</td><td> 0.0048126288</td><td> 0.004968137</td><td> 0.007567125</td><td> 0.002871736</td><td>-0.043088825</td><td>-0.028896727</td><td>-2.352982e-02</td><td>-0.034862294</td><td> 0.0586143860</td><td>-0.054516361</td></tr>\n",
       "\t<tr><td>-0.005426537</td><td> 0.15428468</td><td>-0.012441133</td><td>-0.004111009</td><td>-0.03094714</td><td> 0.02048318</td><td> 0.0008673351</td><td>-0.004602811</td><td>-0.02690836</td><td>-0.05834163</td><td>...</td><td>-0.0914399474</td><td>-0.094394602</td><td>-0.143775366</td><td>-0.054562993</td><td>-0.069449860</td><td>-0.054906356</td><td>-5.354967e-02</td><td>-0.032173836</td><td> 0.0725682880</td><td> 0.008936932</td></tr>\n",
       "\t<tr><td> 0.090647751</td><td>-0.09533810</td><td> 0.007971983</td><td>-0.014797449</td><td> 0.04254860</td><td>-0.02222533</td><td>-0.0026026037</td><td> 0.007637553</td><td>-0.05849978</td><td> 0.02380132</td><td>...</td><td> 0.0007828974</td><td> 0.003524741</td><td> 0.005117566</td><td> 0.002559413</td><td>-0.015394416</td><td>-0.003044149</td><td>-5.185688e-03</td><td>-0.002373132</td><td>-0.0302523208</td><td> 0.070274125</td></tr>\n",
       "\t<tr><td> 0.084448194</td><td>-0.11548055</td><td> 0.007971983</td><td>-0.016793468</td><td> 0.04254860</td><td>-0.02222533</td><td>-0.0026026037</td><td> 0.007637553</td><td>-0.05849978</td><td> 0.02380132</td><td>...</td><td> 0.0007828974</td><td> 0.003524741</td><td> 0.005117566</td><td> 0.002559413</td><td>-0.015394416</td><td>-0.003044149</td><td>-5.185688e-03</td><td>-0.002373132</td><td>-0.0302523208</td><td> 0.070274125</td></tr>\n",
       "\t<tr><td> 0.029735915</td><td>-0.18720186</td><td> 0.007971983</td><td>-0.014797449</td><td> 0.04254860</td><td>-0.02222533</td><td>-0.0026026037</td><td> 0.007637553</td><td>-0.05849978</td><td> 0.02380132</td><td>...</td><td> 0.0007828974</td><td> 0.003524741</td><td> 0.005117566</td><td> 0.002559413</td><td>-0.015394416</td><td>-0.003044149</td><td>-5.185688e-03</td><td>-0.002373132</td><td>-0.0302523208</td><td> 0.070274125</td></tr>\n",
       "\t<tr><td>-0.027009323</td><td>-0.18779441</td><td> 0.002475068</td><td>-0.015853366</td><td> 0.04254860</td><td>-0.02222533</td><td>-0.0026026037</td><td> 0.007637553</td><td>-0.05849978</td><td> 0.02380132</td><td>...</td><td> 0.0007828974</td><td> 0.003524741</td><td> 0.005117566</td><td> 0.002559413</td><td>-0.015394416</td><td>-0.003044149</td><td>-5.185688e-03</td><td>-0.002373132</td><td>-0.0302523208</td><td> 0.070274125</td></tr>\n",
       "\t<tr><td>-0.244200003</td><td>-0.02890416</td><td> 0.007971983</td><td> 0.018708589</td><td> 0.04254860</td><td>-0.02222533</td><td>-0.0026026037</td><td> 0.007637553</td><td>-0.05849978</td><td> 0.02380132</td><td>...</td><td> 0.0007828974</td><td> 0.003524741</td><td> 0.005117566</td><td> 0.002559413</td><td>-0.007350488</td><td>-0.003044149</td><td>-5.185688e-03</td><td>-0.002373132</td><td>-0.0302523208</td><td>-0.003711564</td></tr>\n",
       "\t<tr><td> 0.104239940</td><td> 0.39361867</td><td>-0.034166162</td><td>-0.027938798</td><td> 0.04254860</td><td>-0.02222533</td><td>-0.0026026037</td><td> 0.007637553</td><td>-0.05849978</td><td> 0.02380132</td><td>...</td><td> 0.0007828974</td><td> 0.003524741</td><td> 0.005117566</td><td> 0.002559413</td><td>-0.007350488</td><td>-0.003044149</td><td>-5.185688e-03</td><td>-0.002373132</td><td>-0.0302523208</td><td>-0.003711564</td></tr>\n",
       "\t<tr><td>-0.003144850</td><td> 0.08112507</td><td> 0.006466469</td><td> 0.012891474</td><td>-0.04254860</td><td> 0.02222533</td><td> 0.0026026037</td><td>-0.007637553</td><td> 0.05849978</td><td>-0.02380132</td><td>...</td><td> 0.0007828974</td><td> 0.003524741</td><td> 0.005117566</td><td> 0.002559413</td><td> 0.002790825</td><td>-0.004532060</td><td>-3.121363e-03</td><td>-0.006067187</td><td>-0.0108069038</td><td>-0.053264089</td></tr>\n",
       "\t<tr><td> 0.118090887</td><td> 0.40675205</td><td>-0.036916590</td><td> 0.017571037</td><td>-0.04254860</td><td> 0.02222533</td><td> 0.0026026037</td><td>-0.007637553</td><td> 0.05849978</td><td>-0.02380132</td><td>...</td><td> 0.0007828974</td><td> 0.003524741</td><td> 0.005117566</td><td> 0.002559413</td><td> 0.002634495</td><td>-0.005384213</td><td>-5.331917e-04</td><td>-0.010160716</td><td> 0.0478760116</td><td>-0.048974153</td></tr>\n",
       "\t<tr><td>-0.033169911</td><td>-0.06675761</td><td> 0.006752753</td><td> 0.012276775</td><td>-0.04254860</td><td> 0.02222533</td><td> 0.0026026037</td><td>-0.007637553</td><td> 0.05849978</td><td>-0.02380132</td><td>...</td><td> 0.0007828974</td><td> 0.003524741</td><td> 0.005117566</td><td> 0.002559413</td><td> 0.002050238</td><td>-0.003904819</td><td>-2.418943e-03</td><td>-0.023803203</td><td> 0.0198648240</td><td>-0.016927786</td></tr>\n",
       "\t<tr><td> 0.227698034</td><td> 0.01467498</td><td>-0.003506724</td><td>-0.015664786</td><td>-0.04254860</td><td> 0.02222533</td><td> 0.0026026037</td><td>-0.007637553</td><td> 0.05849978</td><td>-0.02380132</td><td>...</td><td> 0.0007828974</td><td> 0.003524741</td><td> 0.005117566</td><td> 0.002559413</td><td> 0.015102215</td><td> 0.005326303</td><td> 3.350438e-03</td><td> 0.013772283</td><td> 0.0400991658</td><td>-0.031482313</td></tr>\n",
       "\t<tr><td> 0.032417279</td><td> 0.07827567</td><td> 0.004139081</td><td> 0.004111081</td><td>-0.04254860</td><td> 0.02222533</td><td> 0.0026026037</td><td>-0.007637553</td><td> 0.05849978</td><td>-0.02380132</td><td>...</td><td> 0.0007828974</td><td> 0.003524741</td><td> 0.005117566</td><td> 0.002559413</td><td> 0.023127285</td><td> 0.012818180</td><td> 1.821988e-02</td><td> 0.025575362</td><td> 0.0467600328</td><td>-0.004317428</td></tr>\n",
       "\t<tr><td> 0.126504568</td><td>-0.01452511</td><td> 0.010475501</td><td>-0.019444433</td><td> 0.01437432</td><td>-0.02938355</td><td>-0.0073779327</td><td>-0.014778828</td><td>-0.04853354</td><td>-0.04617026</td><td>...</td><td>-0.0071731575</td><td>-0.003734916</td><td> 0.000345699</td><td>-0.005480197</td><td>-0.113793624</td><td>-0.031234032</td><td>-3.830202e-02</td><td>-0.005709529</td><td> 0.0008039992</td><td> 0.055379223</td></tr>\n",
       "\t<tr><td> 0.027515318</td><td> 0.04499948</td><td> 0.010475501</td><td> 0.016976006</td><td> 0.01437432</td><td>-0.02938355</td><td>-0.0073779327</td><td>-0.014778828</td><td>-0.04853354</td><td>-0.04617026</td><td>...</td><td>-0.0071731575</td><td>-0.003734916</td><td> 0.000345699</td><td>-0.005480197</td><td>-0.052047757</td><td>-0.031234032</td><td>-3.830202e-02</td><td>-0.005709529</td><td> 0.0008039992</td><td> 0.034686514</td></tr>\n",
       "\t<tr><td>-0.097104714</td><td>-0.01674136</td><td> 0.010475501</td><td> 0.024583826</td><td> 0.01437432</td><td>-0.02938355</td><td>-0.0073779327</td><td>-0.014778828</td><td>-0.04853354</td><td>-0.04617026</td><td>...</td><td>-0.0071731575</td><td>-0.003734916</td><td> 0.000345699</td><td>-0.005480197</td><td>-0.052047757</td><td>-0.031234032</td><td>-3.830202e-02</td><td>-0.005709529</td><td> 0.0008039992</td><td> 0.034686514</td></tr>\n",
       "\t<tr><td>-0.220219424</td><td>-0.11411980</td><td> 0.010475501</td><td> 0.010181091</td><td>-0.01437432</td><td> 0.02938355</td><td> 0.0073779327</td><td> 0.014778828</td><td> 0.04853354</td><td> 0.04617026</td><td>...</td><td>-0.0071731575</td><td>-0.003734916</td><td> 0.000345699</td><td>-0.005480197</td><td> 0.024315374</td><td>-0.031234032</td><td>-3.830202e-02</td><td>-0.005709529</td><td> 0.0008039992</td><td>-0.040129342</td></tr>\n",
       "\t<tr><td>-0.344000532</td><td>-0.16747425</td><td> 0.008497197</td><td> 0.016939907</td><td>-0.01437432</td><td> 0.02938355</td><td> 0.0073779327</td><td> 0.014778828</td><td> 0.04853354</td><td> 0.04617026</td><td>...</td><td>-0.0071731575</td><td>-0.003734916</td><td> 0.000345699</td><td>-0.005480197</td><td> 0.033564433</td><td>-0.021507382</td><td>-2.255172e-02</td><td>-0.007511284</td><td> 0.0149786458</td><td>-0.040509450</td></tr>\n",
       "\t<tr><td>-0.315987265</td><td> 0.21563033</td><td>-0.048509859</td><td> 0.023089038</td><td>-0.01437432</td><td> 0.02938355</td><td> 0.0073779327</td><td> 0.014778828</td><td> 0.04853354</td><td> 0.04617026</td><td>...</td><td>-0.0071731575</td><td>-0.003734916</td><td> 0.000345699</td><td>-0.005480197</td><td> 0.047022057</td><td>-0.008290138</td><td> 1.232392e-05</td><td>-0.004045351</td><td>-0.0111612043</td><td>-0.025466688</td></tr>\n",
       "\t<tr><td>-0.341502893</td><td>-0.10664320</td><td> 0.008873384</td><td> 0.016132168</td><td>-0.01437432</td><td> 0.02938355</td><td> 0.0073779327</td><td> 0.014778828</td><td> 0.04853354</td><td> 0.04617026</td><td>...</td><td>-0.0071731575</td><td>-0.003734916</td><td> 0.000345699</td><td>-0.005480197</td><td> 0.060817368</td><td> 0.008263706</td><td> 1.404722e-02</td><td>-0.008411896</td><td>-0.0038534553</td><td>-0.042860843</td></tr>\n",
       "\t<tr><td>-0.208267184</td><td>-0.06162816</td><td> 0.006780875</td><td> 0.015557906</td><td>-0.01437432</td><td> 0.02938355</td><td> 0.0073779327</td><td> 0.014778828</td><td> 0.04853354</td><td> 0.04617026</td><td>...</td><td>-0.0071731575</td><td>-0.003734916</td><td> 0.000345699</td><td>-0.005480197</td><td> 0.077796043</td><td> 0.026500753</td><td> 3.387488e-02</td><td>-0.004378953</td><td>-0.0088078445</td><td>-0.048780161</td></tr>\n",
       "\t<tr><td>...</td><td>...</td><td>...</td><td>...</td><td>...</td><td>...</td><td>...</td><td>...</td><td>...</td><td>...</td><td></td><td>...</td><td>...</td><td>...</td><td>...</td><td>...</td><td>...</td><td>...</td><td>...</td><td>...</td><td>...</td></tr>\n",
       "\t<tr><td> 0.16172601</td><td>-0.058949903</td><td> 0.012525651</td><td> 0.0121736232</td><td> 0.07172037</td><td> 0.063099027</td><td>-0.006334409</td><td>-0.004860225</td><td> 0.01665331</td><td>-0.058174118</td><td>...</td><td> 0.007861783</td><td> 6.472679e-03</td><td> 0.011410535</td><td> 0.012500036</td><td> 0.002901047</td><td> 0.043866250</td><td> 0.045522060</td><td> 0.071877985</td><td> 0.0223777268</td><td>-0.039777453</td></tr>\n",
       "\t<tr><td> 0.05810071</td><td>-0.064277142</td><td> 0.010160175</td><td> 0.0202552003</td><td> 0.07172037</td><td> 0.063099027</td><td>-0.006334409</td><td>-0.004860225</td><td> 0.01665331</td><td>-0.058174118</td><td>...</td><td> 0.007861783</td><td> 6.472679e-03</td><td> 0.011410535</td><td> 0.012500036</td><td>-0.017232554</td><td> 0.023645112</td><td> 0.027166247</td><td> 0.046881417</td><td> 0.0563670819</td><td>-0.033595520</td></tr>\n",
       "\t<tr><td> 0.04076475</td><td> 0.398459290</td><td>-0.058003678</td><td> 0.0276077725</td><td> 0.07172037</td><td> 0.063099027</td><td>-0.006334409</td><td>-0.004860225</td><td> 0.01665331</td><td>-0.058174118</td><td>...</td><td> 0.007861783</td><td> 6.472679e-03</td><td> 0.011410535</td><td> 0.012500036</td><td>-0.035124735</td><td> 0.006191585</td><td> 0.005463914</td><td> 0.014921906</td><td> 0.1156620156</td><td>-0.021046019</td></tr>\n",
       "\t<tr><td> 0.05047142</td><td>-0.055342817</td><td> 0.010609986</td><td> 0.0192893791</td><td> 0.07172037</td><td> 0.063099027</td><td>-0.006334409</td><td>-0.004860225</td><td> 0.01665331</td><td>-0.058174118</td><td>...</td><td> 0.007861783</td><td> 6.472679e-03</td><td> 0.011410535</td><td> 0.012500036</td><td>-0.056843578</td><td>-0.014460438</td><td>-0.015816529</td><td>-0.023891632</td><td> 0.0888222181</td><td>-0.016506268</td></tr>\n",
       "\t<tr><td> 0.10541080</td><td> 0.037998948</td><td> 0.008107954</td><td> 0.0186027294</td><td> 0.07172037</td><td> 0.063099027</td><td>-0.006334409</td><td>-0.004860225</td><td> 0.01665331</td><td>-0.058174118</td><td>...</td><td> 0.007861783</td><td> 6.472679e-03</td><td> 0.011410535</td><td> 0.012500036</td><td>-0.078141939</td><td>-0.035437286</td><td>-0.035197537</td><td>-0.055151166</td><td> 0.0097410331</td><td>-0.021668543</td></tr>\n",
       "\t<tr><td> 0.20309428</td><td> 0.182391009</td><td>-0.004481833</td><td> 0.0007114702</td><td> 0.07172037</td><td> 0.063099027</td><td>-0.006334409</td><td>-0.004860225</td><td> 0.01665331</td><td>-0.058174118</td><td>...</td><td> 0.007861783</td><td> 6.472679e-03</td><td> 0.011410535</td><td> 0.012500036</td><td>-0.098459412</td><td>-0.054652598</td><td>-0.053107968</td><td>-0.092128616</td><td> 0.0055357738</td><td>-0.017518635</td></tr>\n",
       "\t<tr><td> 0.31502976</td><td> 0.136014988</td><td>-0.005509796</td><td>-0.0246126523</td><td> 0.07172037</td><td> 0.063099027</td><td>-0.006334409</td><td>-0.004860225</td><td> 0.01665331</td><td>-0.058174118</td><td>...</td><td> 0.007861783</td><td> 6.472679e-03</td><td> 0.011410535</td><td> 0.012500036</td><td>-0.119966932</td><td>-0.075480505</td><td>-0.074083756</td><td>-0.123906973</td><td>-0.1183195861</td><td>-0.011234809</td></tr>\n",
       "\t<tr><td> 0.26121433</td><td> 0.013243671</td><td> 0.007040540</td><td> 0.0069965463</td><td> 0.07172037</td><td> 0.063099027</td><td>-0.006334409</td><td>-0.004860225</td><td> 0.01665331</td><td>-0.058174118</td><td>...</td><td> 0.007861783</td><td> 6.472679e-03</td><td> 0.011410535</td><td> 0.012500036</td><td>-0.139956620</td><td>-0.093099081</td><td>-0.095210401</td><td>-0.160839016</td><td>-0.1273272841</td><td>-0.018412666</td></tr>\n",
       "\t<tr><td> 0.58543180</td><td> 0.380033189</td><td> 0.006503362</td><td> 0.0064593680</td><td> 0.07172037</td><td> 0.063099027</td><td>-0.006334409</td><td>-0.004860225</td><td> 0.01665331</td><td>-0.058174118</td><td>...</td><td> 0.007861783</td><td> 6.472679e-03</td><td> 0.011410535</td><td> 0.012500036</td><td>-0.158563406</td><td>-0.110450215</td><td>-0.118540534</td><td>-0.185354311</td><td>-0.1326405230</td><td> 0.013176981</td></tr>\n",
       "\t<tr><td> 0.44437717</td><td> 0.328252054</td><td>-0.014896172</td><td>-0.0049222440</td><td> 0.07172037</td><td> 0.063099027</td><td>-0.006334409</td><td>-0.004860225</td><td> 0.01665331</td><td>-0.058174118</td><td>...</td><td>-0.149373885</td><td>-1.229809e-01</td><td>-0.216800167</td><td>-0.237500683</td><td>-0.178110574</td><td>-0.128785319</td><td>-0.141416091</td><td>-0.211189443</td><td>-0.1439957243</td><td> 0.027931625</td></tr>\n",
       "\t<tr><td> 0.37950098</td><td> 0.112754347</td><td>-0.020587917</td><td>-0.0422001734</td><td>-0.05315121</td><td> 0.007589957</td><td>-0.003877861</td><td> 0.001813663</td><td> 0.13863585</td><td> 0.008362002</td><td>...</td><td>-0.007611630</td><td> 3.152053e-05</td><td> 0.005450367</td><td> 0.006037515</td><td>-0.092352118</td><td>-0.037960729</td><td>-0.030046378</td><td>-0.002787433</td><td> 0.0076064008</td><td> 0.044897877</td></tr>\n",
       "\t<tr><td> 0.25522101</td><td> 0.158544712</td><td>-0.020587917</td><td>-0.0409651380</td><td>-0.05315121</td><td> 0.007589957</td><td>-0.003877861</td><td> 0.001813663</td><td> 0.13863585</td><td> 0.008362002</td><td>...</td><td>-0.007611630</td><td> 3.152053e-05</td><td> 0.005450367</td><td> 0.006037515</td><td>-0.092352118</td><td>-0.037960729</td><td>-0.030046378</td><td>-0.002787433</td><td> 0.0076064008</td><td> 0.044897877</td></tr>\n",
       "\t<tr><td> 0.16567236</td><td> 0.242547830</td><td>-0.020587917</td><td>-0.0427514512</td><td>-0.05315121</td><td> 0.007589957</td><td>-0.003877861</td><td> 0.001813663</td><td> 0.13863585</td><td> 0.008362002</td><td>...</td><td>-0.007611630</td><td> 3.152053e-05</td><td> 0.005450367</td><td> 0.006037515</td><td>-0.092352118</td><td>-0.037960729</td><td>-0.030046378</td><td>-0.002787433</td><td> 0.0076064008</td><td> 0.044897877</td></tr>\n",
       "\t<tr><td> 0.02007282</td><td> 0.243520884</td><td>-0.020587917</td><td>-0.0409651380</td><td>-0.05315121</td><td> 0.007589957</td><td>-0.003877861</td><td> 0.001813663</td><td> 0.13863585</td><td> 0.008362002</td><td>...</td><td>-0.007611630</td><td> 3.152053e-05</td><td> 0.005450367</td><td> 0.006037515</td><td>-0.092352118</td><td>-0.037960729</td><td>-0.030046378</td><td>-0.002787433</td><td> 0.0076064008</td><td> 0.044897877</td></tr>\n",
       "\t<tr><td> 0.10549245</td><td> 0.162658393</td><td>-0.025507312</td><td>-0.0419101182</td><td>-0.05315121</td><td> 0.007589957</td><td>-0.003877861</td><td> 0.001813663</td><td> 0.13863585</td><td> 0.008362002</td><td>...</td><td>-0.007611630</td><td> 3.152053e-05</td><td> 0.005450367</td><td> 0.006037515</td><td>-0.092352118</td><td>-0.037960729</td><td>-0.030046378</td><td>-0.002787433</td><td> 0.0076064008</td><td> 0.044897877</td></tr>\n",
       "\t<tr><td>-0.02901098</td><td> 0.066351697</td><td>-0.020587917</td><td>-0.0161606928</td><td>-0.05315121</td><td> 0.007589957</td><td>-0.003877861</td><td> 0.001813663</td><td> 0.13863585</td><td> 0.008362002</td><td>...</td><td>-0.007611630</td><td> 3.152053e-05</td><td> 0.005450367</td><td> 0.006037515</td><td>-0.049145205</td><td>-0.037960729</td><td>-0.030046378</td><td>-0.002787433</td><td> 0.0076064008</td><td> 0.003668172</td></tr>\n",
       "\t<tr><td>-0.18890476</td><td>-0.005723382</td><td>-0.020587917</td><td>-0.0109793234</td><td>-0.05315121</td><td> 0.007589957</td><td>-0.003877861</td><td> 0.001813663</td><td> 0.13863585</td><td> 0.008362002</td><td>...</td><td>-0.007611630</td><td> 3.152053e-05</td><td> 0.005450367</td><td> 0.006037515</td><td>-0.049145205</td><td>-0.037960729</td><td>-0.030046378</td><td>-0.002787433</td><td> 0.0076064008</td><td> 0.003668172</td></tr>\n",
       "\t<tr><td>-0.13817027</td><td> 0.113814851</td><td>-0.024660489</td><td>-0.0130890645</td><td>-0.05315121</td><td> 0.007589957</td><td>-0.003877861</td><td> 0.001813663</td><td> 0.13863585</td><td> 0.008362002</td><td>...</td><td>-0.007611630</td><td> 3.152053e-05</td><td> 0.005450367</td><td> 0.006037515</td><td>-0.049145205</td><td>-0.037960729</td><td>-0.030046378</td><td>-0.002787433</td><td> 0.0076064008</td><td> 0.003668172</td></tr>\n",
       "\t<tr><td>-0.11882928</td><td> 0.299746241</td><td>-0.058298929</td><td>-0.0527258267</td><td>-0.05315121</td><td> 0.007589957</td><td>-0.003877861</td><td> 0.001813663</td><td> 0.13863585</td><td> 0.008362002</td><td>...</td><td>-0.007611630</td><td> 3.152053e-05</td><td> 0.005450367</td><td> 0.006037515</td><td>-0.049145205</td><td>-0.037960729</td><td>-0.030046378</td><td>-0.002787433</td><td> 0.0076064008</td><td> 0.003668172</td></tr>\n",
       "\t<tr><td>-0.02201758</td><td> 0.137069407</td><td>-0.029312825</td><td>-0.0225021607</td><td>-0.05315121</td><td> 0.007589957</td><td>-0.003877861</td><td> 0.001813663</td><td> 0.13863585</td><td> 0.008362002</td><td>...</td><td>-0.007611630</td><td> 3.152053e-05</td><td> 0.005450367</td><td> 0.006037515</td><td>-0.049145205</td><td>-0.037960729</td><td>-0.030046378</td><td>-0.002787433</td><td> 0.0076064008</td><td> 0.003668172</td></tr>\n",
       "\t<tr><td> 0.07864742</td><td> 0.134579654</td><td>-0.020587917</td><td>-0.0207884264</td><td> 0.05315121</td><td>-0.007589957</td><td> 0.003877861</td><td>-0.001813663</td><td>-0.13863585</td><td>-0.008362002</td><td>...</td><td>-0.007611630</td><td> 3.152053e-05</td><td> 0.005450367</td><td> 0.006037515</td><td> 0.007581981</td><td>-0.037960729</td><td>-0.030046378</td><td>-0.002787433</td><td> 0.0076064008</td><td>-0.043101269</td></tr>\n",
       "\t<tr><td> 0.05618028</td><td> 0.134566799</td><td>-0.021935257</td><td>-0.0161852784</td><td> 0.05315121</td><td>-0.007589957</td><td> 0.003877861</td><td>-0.001813663</td><td>-0.13863585</td><td>-0.008362002</td><td>...</td><td>-0.007611630</td><td> 3.152053e-05</td><td> 0.005450367</td><td> 0.006037515</td><td> 0.022113032</td><td>-0.021712691</td><td>-0.015627650</td><td> 0.010011736</td><td>-0.0005980671</td><td>-0.039556034</td></tr>\n",
       "\t<tr><td> 0.20932309</td><td> 0.390145995</td><td>-0.060760390</td><td>-0.0119973610</td><td> 0.05315121</td><td>-0.007589957</td><td> 0.003877861</td><td>-0.001813663</td><td>-0.13863585</td><td>-0.008362002</td><td>...</td><td>-0.007611630</td><td> 3.152053e-05</td><td> 0.005450367</td><td> 0.006037515</td><td> 0.034908845</td><td>-0.005785680</td><td>-0.004830226</td><td> 0.012543216</td><td> 0.0225558951</td><td>-0.043288768</td></tr>\n",
       "\t<tr><td>-0.08585336</td><td> 0.157560456</td><td>-0.021679051</td><td>-0.0167353960</td><td> 0.05315121</td><td>-0.007589957</td><td> 0.003877861</td><td>-0.001813663</td><td>-0.13863585</td><td>-0.008362002</td><td>...</td><td>-0.007611630</td><td> 3.152053e-05</td><td> 0.005450367</td><td> 0.006037515</td><td> 0.048884263</td><td> 0.012355332</td><td> 0.011516277</td><td> 0.003122513</td><td> 0.0869502531</td><td>-0.045466311</td></tr>\n",
       "\t<tr><td>-0.09832043</td><td> 0.126737165</td><td>-0.023104172</td><td>-0.0171265017</td><td> 0.05315121</td><td>-0.007589957</td><td> 0.003877861</td><td>-0.001813663</td><td>-0.13863585</td><td>-0.008362002</td><td>...</td><td>-0.007611630</td><td> 3.152053e-05</td><td> 0.005450367</td><td> 0.006037515</td><td> 0.064643846</td><td> 0.030350580</td><td> 0.029461621</td><td> 0.004925352</td><td> 0.0118608965</td><td>-0.022537286</td></tr>\n",
       "\t<tr><td> 0.01822472</td><td> 0.107713806</td><td>-0.030275131</td><td>-0.0273171010</td><td> 0.05315121</td><td>-0.007589957</td><td> 0.003877861</td><td>-0.001813663</td><td>-0.13863585</td><td>-0.008362002</td><td>...</td><td>-0.007611630</td><td> 3.152053e-05</td><td> 0.005450367</td><td> 0.006037515</td><td> 0.075128583</td><td> 0.044522092</td><td> 0.035332117</td><td>-0.003210788</td><td> 0.0475733396</td><td>-0.015327260</td></tr>\n",
       "\t<tr><td> 0.25140238</td><td> 0.151312993</td><td>-0.030860643</td><td>-0.0417413504</td><td> 0.05315121</td><td>-0.007589957</td><td> 0.003877861</td><td>-0.001813663</td><td>-0.13863585</td><td>-0.008362002</td><td>...</td><td>-0.007611630</td><td> 3.152053e-05</td><td> 0.005450367</td><td> 0.006037515</td><td> 0.093162123</td><td> 0.064319840</td><td> 0.054872287</td><td> 0.008974324</td><td>-0.0525011237</td><td>-0.009248346</td></tr>\n",
       "\t<tr><td> 0.17998509</td><td> 0.116497163</td><td>-0.023712155</td><td>-0.0237372136</td><td> 0.05315121</td><td>-0.007589957</td><td> 0.003877861</td><td>-0.001813663</td><td>-0.13863585</td><td>-0.008362002</td><td>...</td><td>-0.007611630</td><td> 3.152053e-05</td><td> 0.005450367</td><td> 0.006037515</td><td> 0.106563026</td><td> 0.081023318</td><td> 0.064830619</td><td> 0.003331563</td><td>-0.0779321620</td><td>-0.008175716</td></tr>\n",
       "\t<tr><td>-1.37540358</td><td>-3.022274601</td><td> 0.530428756</td><td> 0.5304036974</td><td> 0.05315121</td><td>-0.007589957</td><td> 0.003877861</td><td>-0.001813663</td><td>-0.13863585</td><td>-0.008362002</td><td>...</td><td>-0.007611630</td><td> 3.152053e-05</td><td> 0.005450367</td><td> 0.006037515</td><td> 0.119986019</td><td> 0.097815101</td><td> 0.072976997</td><td>-0.006835421</td><td>-0.0534209127</td><td>-0.017525176</td></tr>\n",
       "\t<tr><td> 0.33678762</td><td> 0.171875589</td><td>-0.036206985</td><td>-0.0305259821</td><td> 0.05315121</td><td>-0.007589957</td><td> 0.003877861</td><td>-0.001813663</td><td>-0.13863585</td><td>-0.008362002</td><td>...</td><td> 0.144620973</td><td>-5.988901e-04</td><td>-0.103556968</td><td>-0.114712779</td><td> 0.134514893</td><td> 0.114680125</td><td> 0.081978117</td><td>-0.002200735</td><td>-0.0681585275</td><td> 0.001395923</td></tr>\n",
       "</tbody>\n",
       "</table>\n"
      ],
      "text/latex": [
       "A matrix: 3875 × 195 of type dbl\n",
       "\\begin{tabular}{lllllllllllllllllllll}\n",
       " logrobr & logburg & burg\\_missing & robrate\\_missing & newblack & newfhh & newmove & newdens & newmal & AGE010D & ... & PVY210D & PVY310D & PVY420D & PVY520D & SPR030D & SPR130D & SPR230D & SPR330D & SPR440D & VST020D\\\\\n",
       "\\hline\n",
       "\t  0.150892955 & -0.12439496 &  0.010461298 & -0.021229018 &  0.03094714 & -0.02048318 & -0.0008673351 &  0.004602811 &  0.02690836 &  0.05834163 & ... &  0.0048126288 &  0.004968137 &  0.007567125 &  0.002871736 &  0.047881399 &  0.020035591 &  1.631817e-02 &  0.026761021 & -0.0407037865 &  0.077142144\\\\\n",
       "\t  0.040168294 & -0.13478137 &  0.010461298 & -0.019418070 &  0.03094714 & -0.02048318 & -0.0008673351 &  0.004602811 &  0.02690836 &  0.05834163 & ... &  0.0048126288 &  0.004968137 &  0.007567125 &  0.002871736 &  0.047881399 &  0.020035591 &  1.631817e-02 &  0.026761021 & -0.0407037865 &  0.077142144\\\\\n",
       "\t -0.017678972 & -0.16790879 &  0.010461298 & -0.022037363 &  0.03094714 & -0.02048318 & -0.0008673351 &  0.004602811 &  0.02690836 &  0.05834163 & ... &  0.0048126288 &  0.004968137 &  0.007567125 &  0.002871736 &  0.047881399 &  0.020035591 &  1.631817e-02 &  0.026761021 & -0.0407037865 &  0.077142144\\\\\n",
       "\t -0.009633444 & -0.22925024 &  0.010461298 & -0.019418070 &  0.03094714 & -0.02048318 & -0.0008673351 &  0.004602811 &  0.02690836 &  0.05834163 & ... &  0.0048126288 &  0.004968137 &  0.007567125 &  0.002871736 &  0.047881399 &  0.020035591 &  1.631817e-02 &  0.026761021 & -0.0407037865 &  0.077142144\\\\\n",
       "\t -0.151486908 & -0.18906867 &  0.010461298 &  0.016952990 &  0.03094714 & -0.02048318 & -0.0008673351 &  0.004602811 &  0.02690836 &  0.05834163 & ... &  0.0048126288 &  0.004968137 &  0.007567125 &  0.002871736 &  0.022591761 &  0.020035591 &  1.631817e-02 &  0.026761021 & -0.0407037865 & -0.004559625\\\\\n",
       "\t  0.151556892 &  0.31928157 & -0.044834819 & -0.036662911 &  0.03094714 & -0.02048318 & -0.0008673351 &  0.004602811 &  0.02690836 &  0.05834163 & ... &  0.0048126288 &  0.004968137 &  0.007567125 &  0.002871736 &  0.022591761 &  0.020035591 &  1.631817e-02 &  0.026761021 & -0.0407037865 & -0.004559625\\\\\n",
       "\t -0.153504083 &  0.39301462 & -0.048444090 &  0.023057734 & -0.03094714 &  0.02048318 &  0.0008673351 & -0.004602811 & -0.02690836 & -0.05834163 & ... &  0.0048126288 &  0.004968137 &  0.007567125 &  0.002871736 & -0.018974878 & -0.003537254 &  5.560681e-04 & -0.021438194 &  0.0712471943 & -0.062604941\\\\\n",
       "\t -0.148068698 & -0.01463156 &  0.008861354 &  0.016110296 & -0.03094714 &  0.02048318 &  0.0008673351 & -0.004602811 & -0.02690836 & -0.05834163 & ... &  0.0048126288 &  0.004968137 &  0.007567125 &  0.002871736 & -0.025635679 & -0.008633104 & -9.996319e-03 & -0.038054364 &  0.0148044822 & -0.039570068\\\\\n",
       "\t  0.024709108 &  0.05316178 &  0.006771682 &  0.015536813 & -0.03094714 &  0.02048318 &  0.0008673351 & -0.004602811 & -0.02690836 & -0.05834163 & ... &  0.0048126288 &  0.004968137 &  0.007567125 &  0.002871736 & -0.030345866 & -0.015413846 & -8.746013e-03 & -0.036800544 &  0.0619715536 & -0.058560047\\\\\n",
       "\t  0.294983806 &  0.14604679 & -0.004601727 & -0.020556240 & -0.03094714 &  0.02048318 &  0.0008673351 & -0.004602811 & -0.02690836 & -0.05834163 & ... &  0.0048126288 &  0.004968137 &  0.007567125 &  0.002871736 & -0.043088825 & -0.028896727 & -2.352982e-02 & -0.034862294 &  0.0586143860 & -0.054516361\\\\\n",
       "\t -0.005426537 &  0.15428468 & -0.012441133 & -0.004111009 & -0.03094714 &  0.02048318 &  0.0008673351 & -0.004602811 & -0.02690836 & -0.05834163 & ... & -0.0914399474 & -0.094394602 & -0.143775366 & -0.054562993 & -0.069449860 & -0.054906356 & -5.354967e-02 & -0.032173836 &  0.0725682880 &  0.008936932\\\\\n",
       "\t  0.090647751 & -0.09533810 &  0.007971983 & -0.014797449 &  0.04254860 & -0.02222533 & -0.0026026037 &  0.007637553 & -0.05849978 &  0.02380132 & ... &  0.0007828974 &  0.003524741 &  0.005117566 &  0.002559413 & -0.015394416 & -0.003044149 & -5.185688e-03 & -0.002373132 & -0.0302523208 &  0.070274125\\\\\n",
       "\t  0.084448194 & -0.11548055 &  0.007971983 & -0.016793468 &  0.04254860 & -0.02222533 & -0.0026026037 &  0.007637553 & -0.05849978 &  0.02380132 & ... &  0.0007828974 &  0.003524741 &  0.005117566 &  0.002559413 & -0.015394416 & -0.003044149 & -5.185688e-03 & -0.002373132 & -0.0302523208 &  0.070274125\\\\\n",
       "\t  0.029735915 & -0.18720186 &  0.007971983 & -0.014797449 &  0.04254860 & -0.02222533 & -0.0026026037 &  0.007637553 & -0.05849978 &  0.02380132 & ... &  0.0007828974 &  0.003524741 &  0.005117566 &  0.002559413 & -0.015394416 & -0.003044149 & -5.185688e-03 & -0.002373132 & -0.0302523208 &  0.070274125\\\\\n",
       "\t -0.027009323 & -0.18779441 &  0.002475068 & -0.015853366 &  0.04254860 & -0.02222533 & -0.0026026037 &  0.007637553 & -0.05849978 &  0.02380132 & ... &  0.0007828974 &  0.003524741 &  0.005117566 &  0.002559413 & -0.015394416 & -0.003044149 & -5.185688e-03 & -0.002373132 & -0.0302523208 &  0.070274125\\\\\n",
       "\t -0.244200003 & -0.02890416 &  0.007971983 &  0.018708589 &  0.04254860 & -0.02222533 & -0.0026026037 &  0.007637553 & -0.05849978 &  0.02380132 & ... &  0.0007828974 &  0.003524741 &  0.005117566 &  0.002559413 & -0.007350488 & -0.003044149 & -5.185688e-03 & -0.002373132 & -0.0302523208 & -0.003711564\\\\\n",
       "\t  0.104239940 &  0.39361867 & -0.034166162 & -0.027938798 &  0.04254860 & -0.02222533 & -0.0026026037 &  0.007637553 & -0.05849978 &  0.02380132 & ... &  0.0007828974 &  0.003524741 &  0.005117566 &  0.002559413 & -0.007350488 & -0.003044149 & -5.185688e-03 & -0.002373132 & -0.0302523208 & -0.003711564\\\\\n",
       "\t -0.003144850 &  0.08112507 &  0.006466469 &  0.012891474 & -0.04254860 &  0.02222533 &  0.0026026037 & -0.007637553 &  0.05849978 & -0.02380132 & ... &  0.0007828974 &  0.003524741 &  0.005117566 &  0.002559413 &  0.002790825 & -0.004532060 & -3.121363e-03 & -0.006067187 & -0.0108069038 & -0.053264089\\\\\n",
       "\t  0.118090887 &  0.40675205 & -0.036916590 &  0.017571037 & -0.04254860 &  0.02222533 &  0.0026026037 & -0.007637553 &  0.05849978 & -0.02380132 & ... &  0.0007828974 &  0.003524741 &  0.005117566 &  0.002559413 &  0.002634495 & -0.005384213 & -5.331917e-04 & -0.010160716 &  0.0478760116 & -0.048974153\\\\\n",
       "\t -0.033169911 & -0.06675761 &  0.006752753 &  0.012276775 & -0.04254860 &  0.02222533 &  0.0026026037 & -0.007637553 &  0.05849978 & -0.02380132 & ... &  0.0007828974 &  0.003524741 &  0.005117566 &  0.002559413 &  0.002050238 & -0.003904819 & -2.418943e-03 & -0.023803203 &  0.0198648240 & -0.016927786\\\\\n",
       "\t  0.227698034 &  0.01467498 & -0.003506724 & -0.015664786 & -0.04254860 &  0.02222533 &  0.0026026037 & -0.007637553 &  0.05849978 & -0.02380132 & ... &  0.0007828974 &  0.003524741 &  0.005117566 &  0.002559413 &  0.015102215 &  0.005326303 &  3.350438e-03 &  0.013772283 &  0.0400991658 & -0.031482313\\\\\n",
       "\t  0.032417279 &  0.07827567 &  0.004139081 &  0.004111081 & -0.04254860 &  0.02222533 &  0.0026026037 & -0.007637553 &  0.05849978 & -0.02380132 & ... &  0.0007828974 &  0.003524741 &  0.005117566 &  0.002559413 &  0.023127285 &  0.012818180 &  1.821988e-02 &  0.025575362 &  0.0467600328 & -0.004317428\\\\\n",
       "\t  0.126504568 & -0.01452511 &  0.010475501 & -0.019444433 &  0.01437432 & -0.02938355 & -0.0073779327 & -0.014778828 & -0.04853354 & -0.04617026 & ... & -0.0071731575 & -0.003734916 &  0.000345699 & -0.005480197 & -0.113793624 & -0.031234032 & -3.830202e-02 & -0.005709529 &  0.0008039992 &  0.055379223\\\\\n",
       "\t  0.027515318 &  0.04499948 &  0.010475501 &  0.016976006 &  0.01437432 & -0.02938355 & -0.0073779327 & -0.014778828 & -0.04853354 & -0.04617026 & ... & -0.0071731575 & -0.003734916 &  0.000345699 & -0.005480197 & -0.052047757 & -0.031234032 & -3.830202e-02 & -0.005709529 &  0.0008039992 &  0.034686514\\\\\n",
       "\t -0.097104714 & -0.01674136 &  0.010475501 &  0.024583826 &  0.01437432 & -0.02938355 & -0.0073779327 & -0.014778828 & -0.04853354 & -0.04617026 & ... & -0.0071731575 & -0.003734916 &  0.000345699 & -0.005480197 & -0.052047757 & -0.031234032 & -3.830202e-02 & -0.005709529 &  0.0008039992 &  0.034686514\\\\\n",
       "\t -0.220219424 & -0.11411980 &  0.010475501 &  0.010181091 & -0.01437432 &  0.02938355 &  0.0073779327 &  0.014778828 &  0.04853354 &  0.04617026 & ... & -0.0071731575 & -0.003734916 &  0.000345699 & -0.005480197 &  0.024315374 & -0.031234032 & -3.830202e-02 & -0.005709529 &  0.0008039992 & -0.040129342\\\\\n",
       "\t -0.344000532 & -0.16747425 &  0.008497197 &  0.016939907 & -0.01437432 &  0.02938355 &  0.0073779327 &  0.014778828 &  0.04853354 &  0.04617026 & ... & -0.0071731575 & -0.003734916 &  0.000345699 & -0.005480197 &  0.033564433 & -0.021507382 & -2.255172e-02 & -0.007511284 &  0.0149786458 & -0.040509450\\\\\n",
       "\t -0.315987265 &  0.21563033 & -0.048509859 &  0.023089038 & -0.01437432 &  0.02938355 &  0.0073779327 &  0.014778828 &  0.04853354 &  0.04617026 & ... & -0.0071731575 & -0.003734916 &  0.000345699 & -0.005480197 &  0.047022057 & -0.008290138 &  1.232392e-05 & -0.004045351 & -0.0111612043 & -0.025466688\\\\\n",
       "\t -0.341502893 & -0.10664320 &  0.008873384 &  0.016132168 & -0.01437432 &  0.02938355 &  0.0073779327 &  0.014778828 &  0.04853354 &  0.04617026 & ... & -0.0071731575 & -0.003734916 &  0.000345699 & -0.005480197 &  0.060817368 &  0.008263706 &  1.404722e-02 & -0.008411896 & -0.0038534553 & -0.042860843\\\\\n",
       "\t -0.208267184 & -0.06162816 &  0.006780875 &  0.015557906 & -0.01437432 &  0.02938355 &  0.0073779327 &  0.014778828 &  0.04853354 &  0.04617026 & ... & -0.0071731575 & -0.003734916 &  0.000345699 & -0.005480197 &  0.077796043 &  0.026500753 &  3.387488e-02 & -0.004378953 & -0.0088078445 & -0.048780161\\\\\n",
       "\t ... & ... & ... & ... & ... & ... & ... & ... & ... & ... &  & ... & ... & ... & ... & ... & ... & ... & ... & ... & ...\\\\\n",
       "\t  0.16172601 & -0.058949903 &  0.012525651 &  0.0121736232 &  0.07172037 &  0.063099027 & -0.006334409 & -0.004860225 &  0.01665331 & -0.058174118 & ... &  0.007861783 &  6.472679e-03 &  0.011410535 &  0.012500036 &  0.002901047 &  0.043866250 &  0.045522060 &  0.071877985 &  0.0223777268 & -0.039777453\\\\\n",
       "\t  0.05810071 & -0.064277142 &  0.010160175 &  0.0202552003 &  0.07172037 &  0.063099027 & -0.006334409 & -0.004860225 &  0.01665331 & -0.058174118 & ... &  0.007861783 &  6.472679e-03 &  0.011410535 &  0.012500036 & -0.017232554 &  0.023645112 &  0.027166247 &  0.046881417 &  0.0563670819 & -0.033595520\\\\\n",
       "\t  0.04076475 &  0.398459290 & -0.058003678 &  0.0276077725 &  0.07172037 &  0.063099027 & -0.006334409 & -0.004860225 &  0.01665331 & -0.058174118 & ... &  0.007861783 &  6.472679e-03 &  0.011410535 &  0.012500036 & -0.035124735 &  0.006191585 &  0.005463914 &  0.014921906 &  0.1156620156 & -0.021046019\\\\\n",
       "\t  0.05047142 & -0.055342817 &  0.010609986 &  0.0192893791 &  0.07172037 &  0.063099027 & -0.006334409 & -0.004860225 &  0.01665331 & -0.058174118 & ... &  0.007861783 &  6.472679e-03 &  0.011410535 &  0.012500036 & -0.056843578 & -0.014460438 & -0.015816529 & -0.023891632 &  0.0888222181 & -0.016506268\\\\\n",
       "\t  0.10541080 &  0.037998948 &  0.008107954 &  0.0186027294 &  0.07172037 &  0.063099027 & -0.006334409 & -0.004860225 &  0.01665331 & -0.058174118 & ... &  0.007861783 &  6.472679e-03 &  0.011410535 &  0.012500036 & -0.078141939 & -0.035437286 & -0.035197537 & -0.055151166 &  0.0097410331 & -0.021668543\\\\\n",
       "\t  0.20309428 &  0.182391009 & -0.004481833 &  0.0007114702 &  0.07172037 &  0.063099027 & -0.006334409 & -0.004860225 &  0.01665331 & -0.058174118 & ... &  0.007861783 &  6.472679e-03 &  0.011410535 &  0.012500036 & -0.098459412 & -0.054652598 & -0.053107968 & -0.092128616 &  0.0055357738 & -0.017518635\\\\\n",
       "\t  0.31502976 &  0.136014988 & -0.005509796 & -0.0246126523 &  0.07172037 &  0.063099027 & -0.006334409 & -0.004860225 &  0.01665331 & -0.058174118 & ... &  0.007861783 &  6.472679e-03 &  0.011410535 &  0.012500036 & -0.119966932 & -0.075480505 & -0.074083756 & -0.123906973 & -0.1183195861 & -0.011234809\\\\\n",
       "\t  0.26121433 &  0.013243671 &  0.007040540 &  0.0069965463 &  0.07172037 &  0.063099027 & -0.006334409 & -0.004860225 &  0.01665331 & -0.058174118 & ... &  0.007861783 &  6.472679e-03 &  0.011410535 &  0.012500036 & -0.139956620 & -0.093099081 & -0.095210401 & -0.160839016 & -0.1273272841 & -0.018412666\\\\\n",
       "\t  0.58543180 &  0.380033189 &  0.006503362 &  0.0064593680 &  0.07172037 &  0.063099027 & -0.006334409 & -0.004860225 &  0.01665331 & -0.058174118 & ... &  0.007861783 &  6.472679e-03 &  0.011410535 &  0.012500036 & -0.158563406 & -0.110450215 & -0.118540534 & -0.185354311 & -0.1326405230 &  0.013176981\\\\\n",
       "\t  0.44437717 &  0.328252054 & -0.014896172 & -0.0049222440 &  0.07172037 &  0.063099027 & -0.006334409 & -0.004860225 &  0.01665331 & -0.058174118 & ... & -0.149373885 & -1.229809e-01 & -0.216800167 & -0.237500683 & -0.178110574 & -0.128785319 & -0.141416091 & -0.211189443 & -0.1439957243 &  0.027931625\\\\\n",
       "\t  0.37950098 &  0.112754347 & -0.020587917 & -0.0422001734 & -0.05315121 &  0.007589957 & -0.003877861 &  0.001813663 &  0.13863585 &  0.008362002 & ... & -0.007611630 &  3.152053e-05 &  0.005450367 &  0.006037515 & -0.092352118 & -0.037960729 & -0.030046378 & -0.002787433 &  0.0076064008 &  0.044897877\\\\\n",
       "\t  0.25522101 &  0.158544712 & -0.020587917 & -0.0409651380 & -0.05315121 &  0.007589957 & -0.003877861 &  0.001813663 &  0.13863585 &  0.008362002 & ... & -0.007611630 &  3.152053e-05 &  0.005450367 &  0.006037515 & -0.092352118 & -0.037960729 & -0.030046378 & -0.002787433 &  0.0076064008 &  0.044897877\\\\\n",
       "\t  0.16567236 &  0.242547830 & -0.020587917 & -0.0427514512 & -0.05315121 &  0.007589957 & -0.003877861 &  0.001813663 &  0.13863585 &  0.008362002 & ... & -0.007611630 &  3.152053e-05 &  0.005450367 &  0.006037515 & -0.092352118 & -0.037960729 & -0.030046378 & -0.002787433 &  0.0076064008 &  0.044897877\\\\\n",
       "\t  0.02007282 &  0.243520884 & -0.020587917 & -0.0409651380 & -0.05315121 &  0.007589957 & -0.003877861 &  0.001813663 &  0.13863585 &  0.008362002 & ... & -0.007611630 &  3.152053e-05 &  0.005450367 &  0.006037515 & -0.092352118 & -0.037960729 & -0.030046378 & -0.002787433 &  0.0076064008 &  0.044897877\\\\\n",
       "\t  0.10549245 &  0.162658393 & -0.025507312 & -0.0419101182 & -0.05315121 &  0.007589957 & -0.003877861 &  0.001813663 &  0.13863585 &  0.008362002 & ... & -0.007611630 &  3.152053e-05 &  0.005450367 &  0.006037515 & -0.092352118 & -0.037960729 & -0.030046378 & -0.002787433 &  0.0076064008 &  0.044897877\\\\\n",
       "\t -0.02901098 &  0.066351697 & -0.020587917 & -0.0161606928 & -0.05315121 &  0.007589957 & -0.003877861 &  0.001813663 &  0.13863585 &  0.008362002 & ... & -0.007611630 &  3.152053e-05 &  0.005450367 &  0.006037515 & -0.049145205 & -0.037960729 & -0.030046378 & -0.002787433 &  0.0076064008 &  0.003668172\\\\\n",
       "\t -0.18890476 & -0.005723382 & -0.020587917 & -0.0109793234 & -0.05315121 &  0.007589957 & -0.003877861 &  0.001813663 &  0.13863585 &  0.008362002 & ... & -0.007611630 &  3.152053e-05 &  0.005450367 &  0.006037515 & -0.049145205 & -0.037960729 & -0.030046378 & -0.002787433 &  0.0076064008 &  0.003668172\\\\\n",
       "\t -0.13817027 &  0.113814851 & -0.024660489 & -0.0130890645 & -0.05315121 &  0.007589957 & -0.003877861 &  0.001813663 &  0.13863585 &  0.008362002 & ... & -0.007611630 &  3.152053e-05 &  0.005450367 &  0.006037515 & -0.049145205 & -0.037960729 & -0.030046378 & -0.002787433 &  0.0076064008 &  0.003668172\\\\\n",
       "\t -0.11882928 &  0.299746241 & -0.058298929 & -0.0527258267 & -0.05315121 &  0.007589957 & -0.003877861 &  0.001813663 &  0.13863585 &  0.008362002 & ... & -0.007611630 &  3.152053e-05 &  0.005450367 &  0.006037515 & -0.049145205 & -0.037960729 & -0.030046378 & -0.002787433 &  0.0076064008 &  0.003668172\\\\\n",
       "\t -0.02201758 &  0.137069407 & -0.029312825 & -0.0225021607 & -0.05315121 &  0.007589957 & -0.003877861 &  0.001813663 &  0.13863585 &  0.008362002 & ... & -0.007611630 &  3.152053e-05 &  0.005450367 &  0.006037515 & -0.049145205 & -0.037960729 & -0.030046378 & -0.002787433 &  0.0076064008 &  0.003668172\\\\\n",
       "\t  0.07864742 &  0.134579654 & -0.020587917 & -0.0207884264 &  0.05315121 & -0.007589957 &  0.003877861 & -0.001813663 & -0.13863585 & -0.008362002 & ... & -0.007611630 &  3.152053e-05 &  0.005450367 &  0.006037515 &  0.007581981 & -0.037960729 & -0.030046378 & -0.002787433 &  0.0076064008 & -0.043101269\\\\\n",
       "\t  0.05618028 &  0.134566799 & -0.021935257 & -0.0161852784 &  0.05315121 & -0.007589957 &  0.003877861 & -0.001813663 & -0.13863585 & -0.008362002 & ... & -0.007611630 &  3.152053e-05 &  0.005450367 &  0.006037515 &  0.022113032 & -0.021712691 & -0.015627650 &  0.010011736 & -0.0005980671 & -0.039556034\\\\\n",
       "\t  0.20932309 &  0.390145995 & -0.060760390 & -0.0119973610 &  0.05315121 & -0.007589957 &  0.003877861 & -0.001813663 & -0.13863585 & -0.008362002 & ... & -0.007611630 &  3.152053e-05 &  0.005450367 &  0.006037515 &  0.034908845 & -0.005785680 & -0.004830226 &  0.012543216 &  0.0225558951 & -0.043288768\\\\\n",
       "\t -0.08585336 &  0.157560456 & -0.021679051 & -0.0167353960 &  0.05315121 & -0.007589957 &  0.003877861 & -0.001813663 & -0.13863585 & -0.008362002 & ... & -0.007611630 &  3.152053e-05 &  0.005450367 &  0.006037515 &  0.048884263 &  0.012355332 &  0.011516277 &  0.003122513 &  0.0869502531 & -0.045466311\\\\\n",
       "\t -0.09832043 &  0.126737165 & -0.023104172 & -0.0171265017 &  0.05315121 & -0.007589957 &  0.003877861 & -0.001813663 & -0.13863585 & -0.008362002 & ... & -0.007611630 &  3.152053e-05 &  0.005450367 &  0.006037515 &  0.064643846 &  0.030350580 &  0.029461621 &  0.004925352 &  0.0118608965 & -0.022537286\\\\\n",
       "\t  0.01822472 &  0.107713806 & -0.030275131 & -0.0273171010 &  0.05315121 & -0.007589957 &  0.003877861 & -0.001813663 & -0.13863585 & -0.008362002 & ... & -0.007611630 &  3.152053e-05 &  0.005450367 &  0.006037515 &  0.075128583 &  0.044522092 &  0.035332117 & -0.003210788 &  0.0475733396 & -0.015327260\\\\\n",
       "\t  0.25140238 &  0.151312993 & -0.030860643 & -0.0417413504 &  0.05315121 & -0.007589957 &  0.003877861 & -0.001813663 & -0.13863585 & -0.008362002 & ... & -0.007611630 &  3.152053e-05 &  0.005450367 &  0.006037515 &  0.093162123 &  0.064319840 &  0.054872287 &  0.008974324 & -0.0525011237 & -0.009248346\\\\\n",
       "\t  0.17998509 &  0.116497163 & -0.023712155 & -0.0237372136 &  0.05315121 & -0.007589957 &  0.003877861 & -0.001813663 & -0.13863585 & -0.008362002 & ... & -0.007611630 &  3.152053e-05 &  0.005450367 &  0.006037515 &  0.106563026 &  0.081023318 &  0.064830619 &  0.003331563 & -0.0779321620 & -0.008175716\\\\\n",
       "\t -1.37540358 & -3.022274601 &  0.530428756 &  0.5304036974 &  0.05315121 & -0.007589957 &  0.003877861 & -0.001813663 & -0.13863585 & -0.008362002 & ... & -0.007611630 &  3.152053e-05 &  0.005450367 &  0.006037515 &  0.119986019 &  0.097815101 &  0.072976997 & -0.006835421 & -0.0534209127 & -0.017525176\\\\\n",
       "\t  0.33678762 &  0.171875589 & -0.036206985 & -0.0305259821 &  0.05315121 & -0.007589957 &  0.003877861 & -0.001813663 & -0.13863585 & -0.008362002 & ... &  0.144620973 & -5.988901e-04 & -0.103556968 & -0.114712779 &  0.134514893 &  0.114680125 &  0.081978117 & -0.002200735 & -0.0681585275 &  0.001395923\\\\\n",
       "\\end{tabular}\n"
      ],
      "text/markdown": [
       "\n",
       "A matrix: 3875 × 195 of type dbl\n",
       "\n",
       "| logrobr | logburg | burg_missing | robrate_missing | newblack | newfhh | newmove | newdens | newmal | AGE010D | ... | PVY210D | PVY310D | PVY420D | PVY520D | SPR030D | SPR130D | SPR230D | SPR330D | SPR440D | VST020D |\n",
       "|---|---|---|---|---|---|---|---|---|---|---|---|---|---|---|---|---|---|---|---|---|\n",
       "|  0.150892955 | -0.12439496 |  0.010461298 | -0.021229018 |  0.03094714 | -0.02048318 | -0.0008673351 |  0.004602811 |  0.02690836 |  0.05834163 | ... |  0.0048126288 |  0.004968137 |  0.007567125 |  0.002871736 |  0.047881399 |  0.020035591 |  1.631817e-02 |  0.026761021 | -0.0407037865 |  0.077142144 |\n",
       "|  0.040168294 | -0.13478137 |  0.010461298 | -0.019418070 |  0.03094714 | -0.02048318 | -0.0008673351 |  0.004602811 |  0.02690836 |  0.05834163 | ... |  0.0048126288 |  0.004968137 |  0.007567125 |  0.002871736 |  0.047881399 |  0.020035591 |  1.631817e-02 |  0.026761021 | -0.0407037865 |  0.077142144 |\n",
       "| -0.017678972 | -0.16790879 |  0.010461298 | -0.022037363 |  0.03094714 | -0.02048318 | -0.0008673351 |  0.004602811 |  0.02690836 |  0.05834163 | ... |  0.0048126288 |  0.004968137 |  0.007567125 |  0.002871736 |  0.047881399 |  0.020035591 |  1.631817e-02 |  0.026761021 | -0.0407037865 |  0.077142144 |\n",
       "| -0.009633444 | -0.22925024 |  0.010461298 | -0.019418070 |  0.03094714 | -0.02048318 | -0.0008673351 |  0.004602811 |  0.02690836 |  0.05834163 | ... |  0.0048126288 |  0.004968137 |  0.007567125 |  0.002871736 |  0.047881399 |  0.020035591 |  1.631817e-02 |  0.026761021 | -0.0407037865 |  0.077142144 |\n",
       "| -0.151486908 | -0.18906867 |  0.010461298 |  0.016952990 |  0.03094714 | -0.02048318 | -0.0008673351 |  0.004602811 |  0.02690836 |  0.05834163 | ... |  0.0048126288 |  0.004968137 |  0.007567125 |  0.002871736 |  0.022591761 |  0.020035591 |  1.631817e-02 |  0.026761021 | -0.0407037865 | -0.004559625 |\n",
       "|  0.151556892 |  0.31928157 | -0.044834819 | -0.036662911 |  0.03094714 | -0.02048318 | -0.0008673351 |  0.004602811 |  0.02690836 |  0.05834163 | ... |  0.0048126288 |  0.004968137 |  0.007567125 |  0.002871736 |  0.022591761 |  0.020035591 |  1.631817e-02 |  0.026761021 | -0.0407037865 | -0.004559625 |\n",
       "| -0.153504083 |  0.39301462 | -0.048444090 |  0.023057734 | -0.03094714 |  0.02048318 |  0.0008673351 | -0.004602811 | -0.02690836 | -0.05834163 | ... |  0.0048126288 |  0.004968137 |  0.007567125 |  0.002871736 | -0.018974878 | -0.003537254 |  5.560681e-04 | -0.021438194 |  0.0712471943 | -0.062604941 |\n",
       "| -0.148068698 | -0.01463156 |  0.008861354 |  0.016110296 | -0.03094714 |  0.02048318 |  0.0008673351 | -0.004602811 | -0.02690836 | -0.05834163 | ... |  0.0048126288 |  0.004968137 |  0.007567125 |  0.002871736 | -0.025635679 | -0.008633104 | -9.996319e-03 | -0.038054364 |  0.0148044822 | -0.039570068 |\n",
       "|  0.024709108 |  0.05316178 |  0.006771682 |  0.015536813 | -0.03094714 |  0.02048318 |  0.0008673351 | -0.004602811 | -0.02690836 | -0.05834163 | ... |  0.0048126288 |  0.004968137 |  0.007567125 |  0.002871736 | -0.030345866 | -0.015413846 | -8.746013e-03 | -0.036800544 |  0.0619715536 | -0.058560047 |\n",
       "|  0.294983806 |  0.14604679 | -0.004601727 | -0.020556240 | -0.03094714 |  0.02048318 |  0.0008673351 | -0.004602811 | -0.02690836 | -0.05834163 | ... |  0.0048126288 |  0.004968137 |  0.007567125 |  0.002871736 | -0.043088825 | -0.028896727 | -2.352982e-02 | -0.034862294 |  0.0586143860 | -0.054516361 |\n",
       "| -0.005426537 |  0.15428468 | -0.012441133 | -0.004111009 | -0.03094714 |  0.02048318 |  0.0008673351 | -0.004602811 | -0.02690836 | -0.05834163 | ... | -0.0914399474 | -0.094394602 | -0.143775366 | -0.054562993 | -0.069449860 | -0.054906356 | -5.354967e-02 | -0.032173836 |  0.0725682880 |  0.008936932 |\n",
       "|  0.090647751 | -0.09533810 |  0.007971983 | -0.014797449 |  0.04254860 | -0.02222533 | -0.0026026037 |  0.007637553 | -0.05849978 |  0.02380132 | ... |  0.0007828974 |  0.003524741 |  0.005117566 |  0.002559413 | -0.015394416 | -0.003044149 | -5.185688e-03 | -0.002373132 | -0.0302523208 |  0.070274125 |\n",
       "|  0.084448194 | -0.11548055 |  0.007971983 | -0.016793468 |  0.04254860 | -0.02222533 | -0.0026026037 |  0.007637553 | -0.05849978 |  0.02380132 | ... |  0.0007828974 |  0.003524741 |  0.005117566 |  0.002559413 | -0.015394416 | -0.003044149 | -5.185688e-03 | -0.002373132 | -0.0302523208 |  0.070274125 |\n",
       "|  0.029735915 | -0.18720186 |  0.007971983 | -0.014797449 |  0.04254860 | -0.02222533 | -0.0026026037 |  0.007637553 | -0.05849978 |  0.02380132 | ... |  0.0007828974 |  0.003524741 |  0.005117566 |  0.002559413 | -0.015394416 | -0.003044149 | -5.185688e-03 | -0.002373132 | -0.0302523208 |  0.070274125 |\n",
       "| -0.027009323 | -0.18779441 |  0.002475068 | -0.015853366 |  0.04254860 | -0.02222533 | -0.0026026037 |  0.007637553 | -0.05849978 |  0.02380132 | ... |  0.0007828974 |  0.003524741 |  0.005117566 |  0.002559413 | -0.015394416 | -0.003044149 | -5.185688e-03 | -0.002373132 | -0.0302523208 |  0.070274125 |\n",
       "| -0.244200003 | -0.02890416 |  0.007971983 |  0.018708589 |  0.04254860 | -0.02222533 | -0.0026026037 |  0.007637553 | -0.05849978 |  0.02380132 | ... |  0.0007828974 |  0.003524741 |  0.005117566 |  0.002559413 | -0.007350488 | -0.003044149 | -5.185688e-03 | -0.002373132 | -0.0302523208 | -0.003711564 |\n",
       "|  0.104239940 |  0.39361867 | -0.034166162 | -0.027938798 |  0.04254860 | -0.02222533 | -0.0026026037 |  0.007637553 | -0.05849978 |  0.02380132 | ... |  0.0007828974 |  0.003524741 |  0.005117566 |  0.002559413 | -0.007350488 | -0.003044149 | -5.185688e-03 | -0.002373132 | -0.0302523208 | -0.003711564 |\n",
       "| -0.003144850 |  0.08112507 |  0.006466469 |  0.012891474 | -0.04254860 |  0.02222533 |  0.0026026037 | -0.007637553 |  0.05849978 | -0.02380132 | ... |  0.0007828974 |  0.003524741 |  0.005117566 |  0.002559413 |  0.002790825 | -0.004532060 | -3.121363e-03 | -0.006067187 | -0.0108069038 | -0.053264089 |\n",
       "|  0.118090887 |  0.40675205 | -0.036916590 |  0.017571037 | -0.04254860 |  0.02222533 |  0.0026026037 | -0.007637553 |  0.05849978 | -0.02380132 | ... |  0.0007828974 |  0.003524741 |  0.005117566 |  0.002559413 |  0.002634495 | -0.005384213 | -5.331917e-04 | -0.010160716 |  0.0478760116 | -0.048974153 |\n",
       "| -0.033169911 | -0.06675761 |  0.006752753 |  0.012276775 | -0.04254860 |  0.02222533 |  0.0026026037 | -0.007637553 |  0.05849978 | -0.02380132 | ... |  0.0007828974 |  0.003524741 |  0.005117566 |  0.002559413 |  0.002050238 | -0.003904819 | -2.418943e-03 | -0.023803203 |  0.0198648240 | -0.016927786 |\n",
       "|  0.227698034 |  0.01467498 | -0.003506724 | -0.015664786 | -0.04254860 |  0.02222533 |  0.0026026037 | -0.007637553 |  0.05849978 | -0.02380132 | ... |  0.0007828974 |  0.003524741 |  0.005117566 |  0.002559413 |  0.015102215 |  0.005326303 |  3.350438e-03 |  0.013772283 |  0.0400991658 | -0.031482313 |\n",
       "|  0.032417279 |  0.07827567 |  0.004139081 |  0.004111081 | -0.04254860 |  0.02222533 |  0.0026026037 | -0.007637553 |  0.05849978 | -0.02380132 | ... |  0.0007828974 |  0.003524741 |  0.005117566 |  0.002559413 |  0.023127285 |  0.012818180 |  1.821988e-02 |  0.025575362 |  0.0467600328 | -0.004317428 |\n",
       "|  0.126504568 | -0.01452511 |  0.010475501 | -0.019444433 |  0.01437432 | -0.02938355 | -0.0073779327 | -0.014778828 | -0.04853354 | -0.04617026 | ... | -0.0071731575 | -0.003734916 |  0.000345699 | -0.005480197 | -0.113793624 | -0.031234032 | -3.830202e-02 | -0.005709529 |  0.0008039992 |  0.055379223 |\n",
       "|  0.027515318 |  0.04499948 |  0.010475501 |  0.016976006 |  0.01437432 | -0.02938355 | -0.0073779327 | -0.014778828 | -0.04853354 | -0.04617026 | ... | -0.0071731575 | -0.003734916 |  0.000345699 | -0.005480197 | -0.052047757 | -0.031234032 | -3.830202e-02 | -0.005709529 |  0.0008039992 |  0.034686514 |\n",
       "| -0.097104714 | -0.01674136 |  0.010475501 |  0.024583826 |  0.01437432 | -0.02938355 | -0.0073779327 | -0.014778828 | -0.04853354 | -0.04617026 | ... | -0.0071731575 | -0.003734916 |  0.000345699 | -0.005480197 | -0.052047757 | -0.031234032 | -3.830202e-02 | -0.005709529 |  0.0008039992 |  0.034686514 |\n",
       "| -0.220219424 | -0.11411980 |  0.010475501 |  0.010181091 | -0.01437432 |  0.02938355 |  0.0073779327 |  0.014778828 |  0.04853354 |  0.04617026 | ... | -0.0071731575 | -0.003734916 |  0.000345699 | -0.005480197 |  0.024315374 | -0.031234032 | -3.830202e-02 | -0.005709529 |  0.0008039992 | -0.040129342 |\n",
       "| -0.344000532 | -0.16747425 |  0.008497197 |  0.016939907 | -0.01437432 |  0.02938355 |  0.0073779327 |  0.014778828 |  0.04853354 |  0.04617026 | ... | -0.0071731575 | -0.003734916 |  0.000345699 | -0.005480197 |  0.033564433 | -0.021507382 | -2.255172e-02 | -0.007511284 |  0.0149786458 | -0.040509450 |\n",
       "| -0.315987265 |  0.21563033 | -0.048509859 |  0.023089038 | -0.01437432 |  0.02938355 |  0.0073779327 |  0.014778828 |  0.04853354 |  0.04617026 | ... | -0.0071731575 | -0.003734916 |  0.000345699 | -0.005480197 |  0.047022057 | -0.008290138 |  1.232392e-05 | -0.004045351 | -0.0111612043 | -0.025466688 |\n",
       "| -0.341502893 | -0.10664320 |  0.008873384 |  0.016132168 | -0.01437432 |  0.02938355 |  0.0073779327 |  0.014778828 |  0.04853354 |  0.04617026 | ... | -0.0071731575 | -0.003734916 |  0.000345699 | -0.005480197 |  0.060817368 |  0.008263706 |  1.404722e-02 | -0.008411896 | -0.0038534553 | -0.042860843 |\n",
       "| -0.208267184 | -0.06162816 |  0.006780875 |  0.015557906 | -0.01437432 |  0.02938355 |  0.0073779327 |  0.014778828 |  0.04853354 |  0.04617026 | ... | -0.0071731575 | -0.003734916 |  0.000345699 | -0.005480197 |  0.077796043 |  0.026500753 |  3.387488e-02 | -0.004378953 | -0.0088078445 | -0.048780161 |\n",
       "| ... | ... | ... | ... | ... | ... | ... | ... | ... | ... | <!----> | ... | ... | ... | ... | ... | ... | ... | ... | ... | ... |\n",
       "|  0.16172601 | -0.058949903 |  0.012525651 |  0.0121736232 |  0.07172037 |  0.063099027 | -0.006334409 | -0.004860225 |  0.01665331 | -0.058174118 | ... |  0.007861783 |  6.472679e-03 |  0.011410535 |  0.012500036 |  0.002901047 |  0.043866250 |  0.045522060 |  0.071877985 |  0.0223777268 | -0.039777453 |\n",
       "|  0.05810071 | -0.064277142 |  0.010160175 |  0.0202552003 |  0.07172037 |  0.063099027 | -0.006334409 | -0.004860225 |  0.01665331 | -0.058174118 | ... |  0.007861783 |  6.472679e-03 |  0.011410535 |  0.012500036 | -0.017232554 |  0.023645112 |  0.027166247 |  0.046881417 |  0.0563670819 | -0.033595520 |\n",
       "|  0.04076475 |  0.398459290 | -0.058003678 |  0.0276077725 |  0.07172037 |  0.063099027 | -0.006334409 | -0.004860225 |  0.01665331 | -0.058174118 | ... |  0.007861783 |  6.472679e-03 |  0.011410535 |  0.012500036 | -0.035124735 |  0.006191585 |  0.005463914 |  0.014921906 |  0.1156620156 | -0.021046019 |\n",
       "|  0.05047142 | -0.055342817 |  0.010609986 |  0.0192893791 |  0.07172037 |  0.063099027 | -0.006334409 | -0.004860225 |  0.01665331 | -0.058174118 | ... |  0.007861783 |  6.472679e-03 |  0.011410535 |  0.012500036 | -0.056843578 | -0.014460438 | -0.015816529 | -0.023891632 |  0.0888222181 | -0.016506268 |\n",
       "|  0.10541080 |  0.037998948 |  0.008107954 |  0.0186027294 |  0.07172037 |  0.063099027 | -0.006334409 | -0.004860225 |  0.01665331 | -0.058174118 | ... |  0.007861783 |  6.472679e-03 |  0.011410535 |  0.012500036 | -0.078141939 | -0.035437286 | -0.035197537 | -0.055151166 |  0.0097410331 | -0.021668543 |\n",
       "|  0.20309428 |  0.182391009 | -0.004481833 |  0.0007114702 |  0.07172037 |  0.063099027 | -0.006334409 | -0.004860225 |  0.01665331 | -0.058174118 | ... |  0.007861783 |  6.472679e-03 |  0.011410535 |  0.012500036 | -0.098459412 | -0.054652598 | -0.053107968 | -0.092128616 |  0.0055357738 | -0.017518635 |\n",
       "|  0.31502976 |  0.136014988 | -0.005509796 | -0.0246126523 |  0.07172037 |  0.063099027 | -0.006334409 | -0.004860225 |  0.01665331 | -0.058174118 | ... |  0.007861783 |  6.472679e-03 |  0.011410535 |  0.012500036 | -0.119966932 | -0.075480505 | -0.074083756 | -0.123906973 | -0.1183195861 | -0.011234809 |\n",
       "|  0.26121433 |  0.013243671 |  0.007040540 |  0.0069965463 |  0.07172037 |  0.063099027 | -0.006334409 | -0.004860225 |  0.01665331 | -0.058174118 | ... |  0.007861783 |  6.472679e-03 |  0.011410535 |  0.012500036 | -0.139956620 | -0.093099081 | -0.095210401 | -0.160839016 | -0.1273272841 | -0.018412666 |\n",
       "|  0.58543180 |  0.380033189 |  0.006503362 |  0.0064593680 |  0.07172037 |  0.063099027 | -0.006334409 | -0.004860225 |  0.01665331 | -0.058174118 | ... |  0.007861783 |  6.472679e-03 |  0.011410535 |  0.012500036 | -0.158563406 | -0.110450215 | -0.118540534 | -0.185354311 | -0.1326405230 |  0.013176981 |\n",
       "|  0.44437717 |  0.328252054 | -0.014896172 | -0.0049222440 |  0.07172037 |  0.063099027 | -0.006334409 | -0.004860225 |  0.01665331 | -0.058174118 | ... | -0.149373885 | -1.229809e-01 | -0.216800167 | -0.237500683 | -0.178110574 | -0.128785319 | -0.141416091 | -0.211189443 | -0.1439957243 |  0.027931625 |\n",
       "|  0.37950098 |  0.112754347 | -0.020587917 | -0.0422001734 | -0.05315121 |  0.007589957 | -0.003877861 |  0.001813663 |  0.13863585 |  0.008362002 | ... | -0.007611630 |  3.152053e-05 |  0.005450367 |  0.006037515 | -0.092352118 | -0.037960729 | -0.030046378 | -0.002787433 |  0.0076064008 |  0.044897877 |\n",
       "|  0.25522101 |  0.158544712 | -0.020587917 | -0.0409651380 | -0.05315121 |  0.007589957 | -0.003877861 |  0.001813663 |  0.13863585 |  0.008362002 | ... | -0.007611630 |  3.152053e-05 |  0.005450367 |  0.006037515 | -0.092352118 | -0.037960729 | -0.030046378 | -0.002787433 |  0.0076064008 |  0.044897877 |\n",
       "|  0.16567236 |  0.242547830 | -0.020587917 | -0.0427514512 | -0.05315121 |  0.007589957 | -0.003877861 |  0.001813663 |  0.13863585 |  0.008362002 | ... | -0.007611630 |  3.152053e-05 |  0.005450367 |  0.006037515 | -0.092352118 | -0.037960729 | -0.030046378 | -0.002787433 |  0.0076064008 |  0.044897877 |\n",
       "|  0.02007282 |  0.243520884 | -0.020587917 | -0.0409651380 | -0.05315121 |  0.007589957 | -0.003877861 |  0.001813663 |  0.13863585 |  0.008362002 | ... | -0.007611630 |  3.152053e-05 |  0.005450367 |  0.006037515 | -0.092352118 | -0.037960729 | -0.030046378 | -0.002787433 |  0.0076064008 |  0.044897877 |\n",
       "|  0.10549245 |  0.162658393 | -0.025507312 | -0.0419101182 | -0.05315121 |  0.007589957 | -0.003877861 |  0.001813663 |  0.13863585 |  0.008362002 | ... | -0.007611630 |  3.152053e-05 |  0.005450367 |  0.006037515 | -0.092352118 | -0.037960729 | -0.030046378 | -0.002787433 |  0.0076064008 |  0.044897877 |\n",
       "| -0.02901098 |  0.066351697 | -0.020587917 | -0.0161606928 | -0.05315121 |  0.007589957 | -0.003877861 |  0.001813663 |  0.13863585 |  0.008362002 | ... | -0.007611630 |  3.152053e-05 |  0.005450367 |  0.006037515 | -0.049145205 | -0.037960729 | -0.030046378 | -0.002787433 |  0.0076064008 |  0.003668172 |\n",
       "| -0.18890476 | -0.005723382 | -0.020587917 | -0.0109793234 | -0.05315121 |  0.007589957 | -0.003877861 |  0.001813663 |  0.13863585 |  0.008362002 | ... | -0.007611630 |  3.152053e-05 |  0.005450367 |  0.006037515 | -0.049145205 | -0.037960729 | -0.030046378 | -0.002787433 |  0.0076064008 |  0.003668172 |\n",
       "| -0.13817027 |  0.113814851 | -0.024660489 | -0.0130890645 | -0.05315121 |  0.007589957 | -0.003877861 |  0.001813663 |  0.13863585 |  0.008362002 | ... | -0.007611630 |  3.152053e-05 |  0.005450367 |  0.006037515 | -0.049145205 | -0.037960729 | -0.030046378 | -0.002787433 |  0.0076064008 |  0.003668172 |\n",
       "| -0.11882928 |  0.299746241 | -0.058298929 | -0.0527258267 | -0.05315121 |  0.007589957 | -0.003877861 |  0.001813663 |  0.13863585 |  0.008362002 | ... | -0.007611630 |  3.152053e-05 |  0.005450367 |  0.006037515 | -0.049145205 | -0.037960729 | -0.030046378 | -0.002787433 |  0.0076064008 |  0.003668172 |\n",
       "| -0.02201758 |  0.137069407 | -0.029312825 | -0.0225021607 | -0.05315121 |  0.007589957 | -0.003877861 |  0.001813663 |  0.13863585 |  0.008362002 | ... | -0.007611630 |  3.152053e-05 |  0.005450367 |  0.006037515 | -0.049145205 | -0.037960729 | -0.030046378 | -0.002787433 |  0.0076064008 |  0.003668172 |\n",
       "|  0.07864742 |  0.134579654 | -0.020587917 | -0.0207884264 |  0.05315121 | -0.007589957 |  0.003877861 | -0.001813663 | -0.13863585 | -0.008362002 | ... | -0.007611630 |  3.152053e-05 |  0.005450367 |  0.006037515 |  0.007581981 | -0.037960729 | -0.030046378 | -0.002787433 |  0.0076064008 | -0.043101269 |\n",
       "|  0.05618028 |  0.134566799 | -0.021935257 | -0.0161852784 |  0.05315121 | -0.007589957 |  0.003877861 | -0.001813663 | -0.13863585 | -0.008362002 | ... | -0.007611630 |  3.152053e-05 |  0.005450367 |  0.006037515 |  0.022113032 | -0.021712691 | -0.015627650 |  0.010011736 | -0.0005980671 | -0.039556034 |\n",
       "|  0.20932309 |  0.390145995 | -0.060760390 | -0.0119973610 |  0.05315121 | -0.007589957 |  0.003877861 | -0.001813663 | -0.13863585 | -0.008362002 | ... | -0.007611630 |  3.152053e-05 |  0.005450367 |  0.006037515 |  0.034908845 | -0.005785680 | -0.004830226 |  0.012543216 |  0.0225558951 | -0.043288768 |\n",
       "| -0.08585336 |  0.157560456 | -0.021679051 | -0.0167353960 |  0.05315121 | -0.007589957 |  0.003877861 | -0.001813663 | -0.13863585 | -0.008362002 | ... | -0.007611630 |  3.152053e-05 |  0.005450367 |  0.006037515 |  0.048884263 |  0.012355332 |  0.011516277 |  0.003122513 |  0.0869502531 | -0.045466311 |\n",
       "| -0.09832043 |  0.126737165 | -0.023104172 | -0.0171265017 |  0.05315121 | -0.007589957 |  0.003877861 | -0.001813663 | -0.13863585 | -0.008362002 | ... | -0.007611630 |  3.152053e-05 |  0.005450367 |  0.006037515 |  0.064643846 |  0.030350580 |  0.029461621 |  0.004925352 |  0.0118608965 | -0.022537286 |\n",
       "|  0.01822472 |  0.107713806 | -0.030275131 | -0.0273171010 |  0.05315121 | -0.007589957 |  0.003877861 | -0.001813663 | -0.13863585 | -0.008362002 | ... | -0.007611630 |  3.152053e-05 |  0.005450367 |  0.006037515 |  0.075128583 |  0.044522092 |  0.035332117 | -0.003210788 |  0.0475733396 | -0.015327260 |\n",
       "|  0.25140238 |  0.151312993 | -0.030860643 | -0.0417413504 |  0.05315121 | -0.007589957 |  0.003877861 | -0.001813663 | -0.13863585 | -0.008362002 | ... | -0.007611630 |  3.152053e-05 |  0.005450367 |  0.006037515 |  0.093162123 |  0.064319840 |  0.054872287 |  0.008974324 | -0.0525011237 | -0.009248346 |\n",
       "|  0.17998509 |  0.116497163 | -0.023712155 | -0.0237372136 |  0.05315121 | -0.007589957 |  0.003877861 | -0.001813663 | -0.13863585 | -0.008362002 | ... | -0.007611630 |  3.152053e-05 |  0.005450367 |  0.006037515 |  0.106563026 |  0.081023318 |  0.064830619 |  0.003331563 | -0.0779321620 | -0.008175716 |\n",
       "| -1.37540358 | -3.022274601 |  0.530428756 |  0.5304036974 |  0.05315121 | -0.007589957 |  0.003877861 | -0.001813663 | -0.13863585 | -0.008362002 | ... | -0.007611630 |  3.152053e-05 |  0.005450367 |  0.006037515 |  0.119986019 |  0.097815101 |  0.072976997 | -0.006835421 | -0.0534209127 | -0.017525176 |\n",
       "|  0.33678762 |  0.171875589 | -0.036206985 | -0.0305259821 |  0.05315121 | -0.007589957 |  0.003877861 | -0.001813663 | -0.13863585 | -0.008362002 | ... |  0.144620973 | -5.988901e-04 | -0.103556968 | -0.114712779 |  0.134514893 |  0.114680125 |  0.081978117 | -0.002200735 | -0.0681585275 |  0.001395923 |\n",
       "\n"
      ],
      "text/plain": [
       "      logrobr      logburg      burg_missing robrate_missing newblack   \n",
       " [1,]  0.150892955 -0.12439496   0.010461298 -0.021229018     0.03094714\n",
       " [2,]  0.040168294 -0.13478137   0.010461298 -0.019418070     0.03094714\n",
       " [3,] -0.017678972 -0.16790879   0.010461298 -0.022037363     0.03094714\n",
       " [4,] -0.009633444 -0.22925024   0.010461298 -0.019418070     0.03094714\n",
       " [5,] -0.151486908 -0.18906867   0.010461298  0.016952990     0.03094714\n",
       " [6,]  0.151556892  0.31928157  -0.044834819 -0.036662911     0.03094714\n",
       " [7,] -0.153504083  0.39301462  -0.048444090  0.023057734    -0.03094714\n",
       " [8,] -0.148068698 -0.01463156   0.008861354  0.016110296    -0.03094714\n",
       " [9,]  0.024709108  0.05316178   0.006771682  0.015536813    -0.03094714\n",
       "[10,]  0.294983806  0.14604679  -0.004601727 -0.020556240    -0.03094714\n",
       "[11,] -0.005426537  0.15428468  -0.012441133 -0.004111009    -0.03094714\n",
       "[12,]  0.090647751 -0.09533810   0.007971983 -0.014797449     0.04254860\n",
       "[13,]  0.084448194 -0.11548055   0.007971983 -0.016793468     0.04254860\n",
       "[14,]  0.029735915 -0.18720186   0.007971983 -0.014797449     0.04254860\n",
       "[15,] -0.027009323 -0.18779441   0.002475068 -0.015853366     0.04254860\n",
       "[16,] -0.244200003 -0.02890416   0.007971983  0.018708589     0.04254860\n",
       "[17,]  0.104239940  0.39361867  -0.034166162 -0.027938798     0.04254860\n",
       "[18,] -0.003144850  0.08112507   0.006466469  0.012891474    -0.04254860\n",
       "[19,]  0.118090887  0.40675205  -0.036916590  0.017571037    -0.04254860\n",
       "[20,] -0.033169911 -0.06675761   0.006752753  0.012276775    -0.04254860\n",
       "[21,]  0.227698034  0.01467498  -0.003506724 -0.015664786    -0.04254860\n",
       "[22,]  0.032417279  0.07827567   0.004139081  0.004111081    -0.04254860\n",
       "[23,]  0.126504568 -0.01452511   0.010475501 -0.019444433     0.01437432\n",
       "[24,]  0.027515318  0.04499948   0.010475501  0.016976006     0.01437432\n",
       "[25,] -0.097104714 -0.01674136   0.010475501  0.024583826     0.01437432\n",
       "[26,] -0.220219424 -0.11411980   0.010475501  0.010181091    -0.01437432\n",
       "[27,] -0.344000532 -0.16747425   0.008497197  0.016939907    -0.01437432\n",
       "[28,] -0.315987265  0.21563033  -0.048509859  0.023089038    -0.01437432\n",
       "[29,] -0.341502893 -0.10664320   0.008873384  0.016132168    -0.01437432\n",
       "[30,] -0.208267184 -0.06162816   0.006780875  0.015557906    -0.01437432\n",
       "[31,] ...          ...          ...          ...             ...        \n",
       "[32,]  0.16172601  -0.058949903  0.012525651  0.0121736232    0.07172037\n",
       "[33,]  0.05810071  -0.064277142  0.010160175  0.0202552003    0.07172037\n",
       "[34,]  0.04076475   0.398459290 -0.058003678  0.0276077725    0.07172037\n",
       "[35,]  0.05047142  -0.055342817  0.010609986  0.0192893791    0.07172037\n",
       "[36,]  0.10541080   0.037998948  0.008107954  0.0186027294    0.07172037\n",
       "[37,]  0.20309428   0.182391009 -0.004481833  0.0007114702    0.07172037\n",
       "[38,]  0.31502976   0.136014988 -0.005509796 -0.0246126523    0.07172037\n",
       "[39,]  0.26121433   0.013243671  0.007040540  0.0069965463    0.07172037\n",
       "[40,]  0.58543180   0.380033189  0.006503362  0.0064593680    0.07172037\n",
       "[41,]  0.44437717   0.328252054 -0.014896172 -0.0049222440    0.07172037\n",
       "[42,]  0.37950098   0.112754347 -0.020587917 -0.0422001734   -0.05315121\n",
       "[43,]  0.25522101   0.158544712 -0.020587917 -0.0409651380   -0.05315121\n",
       "[44,]  0.16567236   0.242547830 -0.020587917 -0.0427514512   -0.05315121\n",
       "[45,]  0.02007282   0.243520884 -0.020587917 -0.0409651380   -0.05315121\n",
       "[46,]  0.10549245   0.162658393 -0.025507312 -0.0419101182   -0.05315121\n",
       "[47,] -0.02901098   0.066351697 -0.020587917 -0.0161606928   -0.05315121\n",
       "[48,] -0.18890476  -0.005723382 -0.020587917 -0.0109793234   -0.05315121\n",
       "[49,] -0.13817027   0.113814851 -0.024660489 -0.0130890645   -0.05315121\n",
       "[50,] -0.11882928   0.299746241 -0.058298929 -0.0527258267   -0.05315121\n",
       "[51,] -0.02201758   0.137069407 -0.029312825 -0.0225021607   -0.05315121\n",
       "[52,]  0.07864742   0.134579654 -0.020587917 -0.0207884264    0.05315121\n",
       "[53,]  0.05618028   0.134566799 -0.021935257 -0.0161852784    0.05315121\n",
       "[54,]  0.20932309   0.390145995 -0.060760390 -0.0119973610    0.05315121\n",
       "[55,] -0.08585336   0.157560456 -0.021679051 -0.0167353960    0.05315121\n",
       "[56,] -0.09832043   0.126737165 -0.023104172 -0.0171265017    0.05315121\n",
       "[57,]  0.01822472   0.107713806 -0.030275131 -0.0273171010    0.05315121\n",
       "[58,]  0.25140238   0.151312993 -0.030860643 -0.0417413504    0.05315121\n",
       "[59,]  0.17998509   0.116497163 -0.023712155 -0.0237372136    0.05315121\n",
       "[60,] -1.37540358  -3.022274601  0.530428756  0.5304036974    0.05315121\n",
       "[61,]  0.33678762   0.171875589 -0.036206985 -0.0305259821    0.05315121\n",
       "      newfhh       newmove       newdens      newmal      AGE010D      ...\n",
       " [1,] -0.02048318  -0.0008673351  0.004602811  0.02690836  0.05834163  ...\n",
       " [2,] -0.02048318  -0.0008673351  0.004602811  0.02690836  0.05834163  ...\n",
       " [3,] -0.02048318  -0.0008673351  0.004602811  0.02690836  0.05834163  ...\n",
       " [4,] -0.02048318  -0.0008673351  0.004602811  0.02690836  0.05834163  ...\n",
       " [5,] -0.02048318  -0.0008673351  0.004602811  0.02690836  0.05834163  ...\n",
       " [6,] -0.02048318  -0.0008673351  0.004602811  0.02690836  0.05834163  ...\n",
       " [7,]  0.02048318   0.0008673351 -0.004602811 -0.02690836 -0.05834163  ...\n",
       " [8,]  0.02048318   0.0008673351 -0.004602811 -0.02690836 -0.05834163  ...\n",
       " [9,]  0.02048318   0.0008673351 -0.004602811 -0.02690836 -0.05834163  ...\n",
       "[10,]  0.02048318   0.0008673351 -0.004602811 -0.02690836 -0.05834163  ...\n",
       "[11,]  0.02048318   0.0008673351 -0.004602811 -0.02690836 -0.05834163  ...\n",
       "[12,] -0.02222533  -0.0026026037  0.007637553 -0.05849978  0.02380132  ...\n",
       "[13,] -0.02222533  -0.0026026037  0.007637553 -0.05849978  0.02380132  ...\n",
       "[14,] -0.02222533  -0.0026026037  0.007637553 -0.05849978  0.02380132  ...\n",
       "[15,] -0.02222533  -0.0026026037  0.007637553 -0.05849978  0.02380132  ...\n",
       "[16,] -0.02222533  -0.0026026037  0.007637553 -0.05849978  0.02380132  ...\n",
       "[17,] -0.02222533  -0.0026026037  0.007637553 -0.05849978  0.02380132  ...\n",
       "[18,]  0.02222533   0.0026026037 -0.007637553  0.05849978 -0.02380132  ...\n",
       "[19,]  0.02222533   0.0026026037 -0.007637553  0.05849978 -0.02380132  ...\n",
       "[20,]  0.02222533   0.0026026037 -0.007637553  0.05849978 -0.02380132  ...\n",
       "[21,]  0.02222533   0.0026026037 -0.007637553  0.05849978 -0.02380132  ...\n",
       "[22,]  0.02222533   0.0026026037 -0.007637553  0.05849978 -0.02380132  ...\n",
       "[23,] -0.02938355  -0.0073779327 -0.014778828 -0.04853354 -0.04617026  ...\n",
       "[24,] -0.02938355  -0.0073779327 -0.014778828 -0.04853354 -0.04617026  ...\n",
       "[25,] -0.02938355  -0.0073779327 -0.014778828 -0.04853354 -0.04617026  ...\n",
       "[26,]  0.02938355   0.0073779327  0.014778828  0.04853354  0.04617026  ...\n",
       "[27,]  0.02938355   0.0073779327  0.014778828  0.04853354  0.04617026  ...\n",
       "[28,]  0.02938355   0.0073779327  0.014778828  0.04853354  0.04617026  ...\n",
       "[29,]  0.02938355   0.0073779327  0.014778828  0.04853354  0.04617026  ...\n",
       "[30,]  0.02938355   0.0073779327  0.014778828  0.04853354  0.04617026  ...\n",
       "[31,] ...          ...           ...          ...         ...             \n",
       "[32,]  0.063099027 -0.006334409  -0.004860225  0.01665331 -0.058174118 ...\n",
       "[33,]  0.063099027 -0.006334409  -0.004860225  0.01665331 -0.058174118 ...\n",
       "[34,]  0.063099027 -0.006334409  -0.004860225  0.01665331 -0.058174118 ...\n",
       "[35,]  0.063099027 -0.006334409  -0.004860225  0.01665331 -0.058174118 ...\n",
       "[36,]  0.063099027 -0.006334409  -0.004860225  0.01665331 -0.058174118 ...\n",
       "[37,]  0.063099027 -0.006334409  -0.004860225  0.01665331 -0.058174118 ...\n",
       "[38,]  0.063099027 -0.006334409  -0.004860225  0.01665331 -0.058174118 ...\n",
       "[39,]  0.063099027 -0.006334409  -0.004860225  0.01665331 -0.058174118 ...\n",
       "[40,]  0.063099027 -0.006334409  -0.004860225  0.01665331 -0.058174118 ...\n",
       "[41,]  0.063099027 -0.006334409  -0.004860225  0.01665331 -0.058174118 ...\n",
       "[42,]  0.007589957 -0.003877861   0.001813663  0.13863585  0.008362002 ...\n",
       "[43,]  0.007589957 -0.003877861   0.001813663  0.13863585  0.008362002 ...\n",
       "[44,]  0.007589957 -0.003877861   0.001813663  0.13863585  0.008362002 ...\n",
       "[45,]  0.007589957 -0.003877861   0.001813663  0.13863585  0.008362002 ...\n",
       "[46,]  0.007589957 -0.003877861   0.001813663  0.13863585  0.008362002 ...\n",
       "[47,]  0.007589957 -0.003877861   0.001813663  0.13863585  0.008362002 ...\n",
       "[48,]  0.007589957 -0.003877861   0.001813663  0.13863585  0.008362002 ...\n",
       "[49,]  0.007589957 -0.003877861   0.001813663  0.13863585  0.008362002 ...\n",
       "[50,]  0.007589957 -0.003877861   0.001813663  0.13863585  0.008362002 ...\n",
       "[51,]  0.007589957 -0.003877861   0.001813663  0.13863585  0.008362002 ...\n",
       "[52,] -0.007589957  0.003877861  -0.001813663 -0.13863585 -0.008362002 ...\n",
       "[53,] -0.007589957  0.003877861  -0.001813663 -0.13863585 -0.008362002 ...\n",
       "[54,] -0.007589957  0.003877861  -0.001813663 -0.13863585 -0.008362002 ...\n",
       "[55,] -0.007589957  0.003877861  -0.001813663 -0.13863585 -0.008362002 ...\n",
       "[56,] -0.007589957  0.003877861  -0.001813663 -0.13863585 -0.008362002 ...\n",
       "[57,] -0.007589957  0.003877861  -0.001813663 -0.13863585 -0.008362002 ...\n",
       "[58,] -0.007589957  0.003877861  -0.001813663 -0.13863585 -0.008362002 ...\n",
       "[59,] -0.007589957  0.003877861  -0.001813663 -0.13863585 -0.008362002 ...\n",
       "[60,] -0.007589957  0.003877861  -0.001813663 -0.13863585 -0.008362002 ...\n",
       "[61,] -0.007589957  0.003877861  -0.001813663 -0.13863585 -0.008362002 ...\n",
       "      PVY210D       PVY310D       PVY420D      PVY520D      SPR030D     \n",
       " [1,]  0.0048126288  0.004968137   0.007567125  0.002871736  0.047881399\n",
       " [2,]  0.0048126288  0.004968137   0.007567125  0.002871736  0.047881399\n",
       " [3,]  0.0048126288  0.004968137   0.007567125  0.002871736  0.047881399\n",
       " [4,]  0.0048126288  0.004968137   0.007567125  0.002871736  0.047881399\n",
       " [5,]  0.0048126288  0.004968137   0.007567125  0.002871736  0.022591761\n",
       " [6,]  0.0048126288  0.004968137   0.007567125  0.002871736  0.022591761\n",
       " [7,]  0.0048126288  0.004968137   0.007567125  0.002871736 -0.018974878\n",
       " [8,]  0.0048126288  0.004968137   0.007567125  0.002871736 -0.025635679\n",
       " [9,]  0.0048126288  0.004968137   0.007567125  0.002871736 -0.030345866\n",
       "[10,]  0.0048126288  0.004968137   0.007567125  0.002871736 -0.043088825\n",
       "[11,] -0.0914399474 -0.094394602  -0.143775366 -0.054562993 -0.069449860\n",
       "[12,]  0.0007828974  0.003524741   0.005117566  0.002559413 -0.015394416\n",
       "[13,]  0.0007828974  0.003524741   0.005117566  0.002559413 -0.015394416\n",
       "[14,]  0.0007828974  0.003524741   0.005117566  0.002559413 -0.015394416\n",
       "[15,]  0.0007828974  0.003524741   0.005117566  0.002559413 -0.015394416\n",
       "[16,]  0.0007828974  0.003524741   0.005117566  0.002559413 -0.007350488\n",
       "[17,]  0.0007828974  0.003524741   0.005117566  0.002559413 -0.007350488\n",
       "[18,]  0.0007828974  0.003524741   0.005117566  0.002559413  0.002790825\n",
       "[19,]  0.0007828974  0.003524741   0.005117566  0.002559413  0.002634495\n",
       "[20,]  0.0007828974  0.003524741   0.005117566  0.002559413  0.002050238\n",
       "[21,]  0.0007828974  0.003524741   0.005117566  0.002559413  0.015102215\n",
       "[22,]  0.0007828974  0.003524741   0.005117566  0.002559413  0.023127285\n",
       "[23,] -0.0071731575 -0.003734916   0.000345699 -0.005480197 -0.113793624\n",
       "[24,] -0.0071731575 -0.003734916   0.000345699 -0.005480197 -0.052047757\n",
       "[25,] -0.0071731575 -0.003734916   0.000345699 -0.005480197 -0.052047757\n",
       "[26,] -0.0071731575 -0.003734916   0.000345699 -0.005480197  0.024315374\n",
       "[27,] -0.0071731575 -0.003734916   0.000345699 -0.005480197  0.033564433\n",
       "[28,] -0.0071731575 -0.003734916   0.000345699 -0.005480197  0.047022057\n",
       "[29,] -0.0071731575 -0.003734916   0.000345699 -0.005480197  0.060817368\n",
       "[30,] -0.0071731575 -0.003734916   0.000345699 -0.005480197  0.077796043\n",
       "[31,] ...           ...           ...          ...          ...         \n",
       "[32,]  0.007861783   6.472679e-03  0.011410535  0.012500036  0.002901047\n",
       "[33,]  0.007861783   6.472679e-03  0.011410535  0.012500036 -0.017232554\n",
       "[34,]  0.007861783   6.472679e-03  0.011410535  0.012500036 -0.035124735\n",
       "[35,]  0.007861783   6.472679e-03  0.011410535  0.012500036 -0.056843578\n",
       "[36,]  0.007861783   6.472679e-03  0.011410535  0.012500036 -0.078141939\n",
       "[37,]  0.007861783   6.472679e-03  0.011410535  0.012500036 -0.098459412\n",
       "[38,]  0.007861783   6.472679e-03  0.011410535  0.012500036 -0.119966932\n",
       "[39,]  0.007861783   6.472679e-03  0.011410535  0.012500036 -0.139956620\n",
       "[40,]  0.007861783   6.472679e-03  0.011410535  0.012500036 -0.158563406\n",
       "[41,] -0.149373885  -1.229809e-01 -0.216800167 -0.237500683 -0.178110574\n",
       "[42,] -0.007611630   3.152053e-05  0.005450367  0.006037515 -0.092352118\n",
       "[43,] -0.007611630   3.152053e-05  0.005450367  0.006037515 -0.092352118\n",
       "[44,] -0.007611630   3.152053e-05  0.005450367  0.006037515 -0.092352118\n",
       "[45,] -0.007611630   3.152053e-05  0.005450367  0.006037515 -0.092352118\n",
       "[46,] -0.007611630   3.152053e-05  0.005450367  0.006037515 -0.092352118\n",
       "[47,] -0.007611630   3.152053e-05  0.005450367  0.006037515 -0.049145205\n",
       "[48,] -0.007611630   3.152053e-05  0.005450367  0.006037515 -0.049145205\n",
       "[49,] -0.007611630   3.152053e-05  0.005450367  0.006037515 -0.049145205\n",
       "[50,] -0.007611630   3.152053e-05  0.005450367  0.006037515 -0.049145205\n",
       "[51,] -0.007611630   3.152053e-05  0.005450367  0.006037515 -0.049145205\n",
       "[52,] -0.007611630   3.152053e-05  0.005450367  0.006037515  0.007581981\n",
       "[53,] -0.007611630   3.152053e-05  0.005450367  0.006037515  0.022113032\n",
       "[54,] -0.007611630   3.152053e-05  0.005450367  0.006037515  0.034908845\n",
       "[55,] -0.007611630   3.152053e-05  0.005450367  0.006037515  0.048884263\n",
       "[56,] -0.007611630   3.152053e-05  0.005450367  0.006037515  0.064643846\n",
       "[57,] -0.007611630   3.152053e-05  0.005450367  0.006037515  0.075128583\n",
       "[58,] -0.007611630   3.152053e-05  0.005450367  0.006037515  0.093162123\n",
       "[59,] -0.007611630   3.152053e-05  0.005450367  0.006037515  0.106563026\n",
       "[60,] -0.007611630   3.152053e-05  0.005450367  0.006037515  0.119986019\n",
       "[61,]  0.144620973  -5.988901e-04 -0.103556968 -0.114712779  0.134514893\n",
       "      SPR130D      SPR230D       SPR330D      SPR440D       VST020D     \n",
       " [1,]  0.020035591  1.631817e-02  0.026761021 -0.0407037865  0.077142144\n",
       " [2,]  0.020035591  1.631817e-02  0.026761021 -0.0407037865  0.077142144\n",
       " [3,]  0.020035591  1.631817e-02  0.026761021 -0.0407037865  0.077142144\n",
       " [4,]  0.020035591  1.631817e-02  0.026761021 -0.0407037865  0.077142144\n",
       " [5,]  0.020035591  1.631817e-02  0.026761021 -0.0407037865 -0.004559625\n",
       " [6,]  0.020035591  1.631817e-02  0.026761021 -0.0407037865 -0.004559625\n",
       " [7,] -0.003537254  5.560681e-04 -0.021438194  0.0712471943 -0.062604941\n",
       " [8,] -0.008633104 -9.996319e-03 -0.038054364  0.0148044822 -0.039570068\n",
       " [9,] -0.015413846 -8.746013e-03 -0.036800544  0.0619715536 -0.058560047\n",
       "[10,] -0.028896727 -2.352982e-02 -0.034862294  0.0586143860 -0.054516361\n",
       "[11,] -0.054906356 -5.354967e-02 -0.032173836  0.0725682880  0.008936932\n",
       "[12,] -0.003044149 -5.185688e-03 -0.002373132 -0.0302523208  0.070274125\n",
       "[13,] -0.003044149 -5.185688e-03 -0.002373132 -0.0302523208  0.070274125\n",
       "[14,] -0.003044149 -5.185688e-03 -0.002373132 -0.0302523208  0.070274125\n",
       "[15,] -0.003044149 -5.185688e-03 -0.002373132 -0.0302523208  0.070274125\n",
       "[16,] -0.003044149 -5.185688e-03 -0.002373132 -0.0302523208 -0.003711564\n",
       "[17,] -0.003044149 -5.185688e-03 -0.002373132 -0.0302523208 -0.003711564\n",
       "[18,] -0.004532060 -3.121363e-03 -0.006067187 -0.0108069038 -0.053264089\n",
       "[19,] -0.005384213 -5.331917e-04 -0.010160716  0.0478760116 -0.048974153\n",
       "[20,] -0.003904819 -2.418943e-03 -0.023803203  0.0198648240 -0.016927786\n",
       "[21,]  0.005326303  3.350438e-03  0.013772283  0.0400991658 -0.031482313\n",
       "[22,]  0.012818180  1.821988e-02  0.025575362  0.0467600328 -0.004317428\n",
       "[23,] -0.031234032 -3.830202e-02 -0.005709529  0.0008039992  0.055379223\n",
       "[24,] -0.031234032 -3.830202e-02 -0.005709529  0.0008039992  0.034686514\n",
       "[25,] -0.031234032 -3.830202e-02 -0.005709529  0.0008039992  0.034686514\n",
       "[26,] -0.031234032 -3.830202e-02 -0.005709529  0.0008039992 -0.040129342\n",
       "[27,] -0.021507382 -2.255172e-02 -0.007511284  0.0149786458 -0.040509450\n",
       "[28,] -0.008290138  1.232392e-05 -0.004045351 -0.0111612043 -0.025466688\n",
       "[29,]  0.008263706  1.404722e-02 -0.008411896 -0.0038534553 -0.042860843\n",
       "[30,]  0.026500753  3.387488e-02 -0.004378953 -0.0088078445 -0.048780161\n",
       "[31,] ...          ...           ...          ...           ...         \n",
       "[32,]  0.043866250  0.045522060   0.071877985  0.0223777268 -0.039777453\n",
       "[33,]  0.023645112  0.027166247   0.046881417  0.0563670819 -0.033595520\n",
       "[34,]  0.006191585  0.005463914   0.014921906  0.1156620156 -0.021046019\n",
       "[35,] -0.014460438 -0.015816529  -0.023891632  0.0888222181 -0.016506268\n",
       "[36,] -0.035437286 -0.035197537  -0.055151166  0.0097410331 -0.021668543\n",
       "[37,] -0.054652598 -0.053107968  -0.092128616  0.0055357738 -0.017518635\n",
       "[38,] -0.075480505 -0.074083756  -0.123906973 -0.1183195861 -0.011234809\n",
       "[39,] -0.093099081 -0.095210401  -0.160839016 -0.1273272841 -0.018412666\n",
       "[40,] -0.110450215 -0.118540534  -0.185354311 -0.1326405230  0.013176981\n",
       "[41,] -0.128785319 -0.141416091  -0.211189443 -0.1439957243  0.027931625\n",
       "[42,] -0.037960729 -0.030046378  -0.002787433  0.0076064008  0.044897877\n",
       "[43,] -0.037960729 -0.030046378  -0.002787433  0.0076064008  0.044897877\n",
       "[44,] -0.037960729 -0.030046378  -0.002787433  0.0076064008  0.044897877\n",
       "[45,] -0.037960729 -0.030046378  -0.002787433  0.0076064008  0.044897877\n",
       "[46,] -0.037960729 -0.030046378  -0.002787433  0.0076064008  0.044897877\n",
       "[47,] -0.037960729 -0.030046378  -0.002787433  0.0076064008  0.003668172\n",
       "[48,] -0.037960729 -0.030046378  -0.002787433  0.0076064008  0.003668172\n",
       "[49,] -0.037960729 -0.030046378  -0.002787433  0.0076064008  0.003668172\n",
       "[50,] -0.037960729 -0.030046378  -0.002787433  0.0076064008  0.003668172\n",
       "[51,] -0.037960729 -0.030046378  -0.002787433  0.0076064008  0.003668172\n",
       "[52,] -0.037960729 -0.030046378  -0.002787433  0.0076064008 -0.043101269\n",
       "[53,] -0.021712691 -0.015627650   0.010011736 -0.0005980671 -0.039556034\n",
       "[54,] -0.005785680 -0.004830226   0.012543216  0.0225558951 -0.043288768\n",
       "[55,]  0.012355332  0.011516277   0.003122513  0.0869502531 -0.045466311\n",
       "[56,]  0.030350580  0.029461621   0.004925352  0.0118608965 -0.022537286\n",
       "[57,]  0.044522092  0.035332117  -0.003210788  0.0475733396 -0.015327260\n",
       "[58,]  0.064319840  0.054872287   0.008974324 -0.0525011237 -0.009248346\n",
       "[59,]  0.081023318  0.064830619   0.003331563 -0.0779321620 -0.008175716\n",
       "[60,]  0.097815101  0.072976997  -0.006835421 -0.0534209127 -0.017525176\n",
       "[61,]  0.114680125  0.081978117  -0.002200735 -0.0681585275  0.001395923"
      ]
     },
     "metadata": {},
     "output_type": "display_data"
    }
   ],
   "source": [
    "z[-I[[1]],]"
   ]
  },
  {
   "cell_type": "code",
   "execution_count": 159,
   "metadata": {},
   "outputs": [
    {
     "data": {
      "text/plain": [
       "\n",
       "Call:\n",
       "rlasso.default(x = z, y = d, post = FALSE)\n",
       "\n",
       "Coefficients:\n",
       "    (Intercept)          logrobr          logburg     burg_missing  \n",
       "      7.673e-05        0.000e+00        0.000e+00        0.000e+00  \n",
       "robrate_missing         newblack           newfhh          newmove  \n",
       "     -9.995e-04        0.000e+00        0.000e+00        0.000e+00  \n",
       "        newdens           newmal          AGE010D          AGE050D  \n",
       "     -7.036e-02       -4.408e-02        0.000e+00       -2.530e-01  \n",
       "        AGE110D          AGE170D          AGE180D          AGE270D  \n",
       "      0.000e+00        0.000e+00        0.000e+00        0.000e+00  \n",
       "        AGE310D          AGE320D          AGE350D          AGE380D  \n",
       "      0.000e+00        0.000e+00        0.000e+00        0.000e+00  \n",
       "        AGE410D          AGE470D          AGE570D          AGE640D  \n",
       "      0.000e+00       -8.912e-02        0.000e+00        0.000e+00  \n",
       "        AGE670D          AGE760D          BNK010D          BNK050D  \n",
       "      0.000e+00        0.000e+00        0.000e+00        0.000e+00  \n",
       "        BPS030D          BPS130D          BPS230D          BPS020D  \n",
       "      0.000e+00        0.000e+00        0.000e+00        0.000e+00  \n",
       "        BPS120D          BPS220D          BPS820D          BZA010D  \n",
       "      0.000e+00        0.000e+00        2.059e-03        0.000e+00  \n",
       "        BZA110D          BZA210D          EDU100D          EDU200D  \n",
       "      0.000e+00        0.000e+00        0.000e+00        0.000e+00  \n",
       "        EDU600D          EDU610D          EDU620D          EDU630D  \n",
       "      0.000e+00       -6.239e-03       -4.134e-03        0.000e+00  \n",
       "        EDU635D          EDU640D          EDU650D          EDU680D  \n",
       "      0.000e+00        0.000e+00        0.000e+00        0.000e+00  \n",
       "        EDU685D          ELE010D          ELE020D          ELE025D  \n",
       "      0.000e+00        0.000e+00        0.000e+00        0.000e+00  \n",
       "        ELE030D          ELE035D          ELE060D          ELE065D  \n",
       "     -2.012e-02        0.000e+00        0.000e+00        0.000e+00  \n",
       "        ELE210D          ELE220D          HIS010D          HIS020D  \n",
       "      0.000e+00        0.000e+00        0.000e+00        0.000e+00  \n",
       "        HIS030D          HIS040D          HIS110D          HIS120D  \n",
       "      0.000e+00        0.000e+00        0.000e+00        0.000e+00  \n",
       "        HIS130D          HIS140D          HIS200D          HIS300D  \n",
       "      0.000e+00        0.000e+00        0.000e+00        0.000e+00  \n",
       "        HIS500D          HIS700D          HSD010D          HSD020D  \n",
       "      0.000e+00        0.000e+00        0.000e+00        0.000e+00  \n",
       "        HSD030D          HSD110D          HSD120D          HSD130D  \n",
       "      0.000e+00        0.000e+00        0.000e+00        0.000e+00  \n",
       "        HSD140D          HSD150D          HSD170D          HSD200D  \n",
       "      0.000e+00        0.000e+00        0.000e+00        0.000e+00  \n",
       "        HSD210D          HSD230D          HSD300D          HSD310D  \n",
       "      0.000e+00        0.000e+00        0.000e+00        0.000e+00  \n",
       "        HSG030D          HSG195D          HSG200D          HSG220D  \n",
       "      0.000e+00       -1.874e-02        0.000e+00        0.000e+00  \n",
       "        HSG440D          HSG445D          HSG460D          HSG680D  \n",
       "      0.000e+00        0.000e+00        3.833e-02        0.000e+00  \n",
       "        HSG700D          HSD410D          HSD500D          HSD510D  \n",
       "      0.000e+00        0.000e+00        0.000e+00        0.000e+00  \n",
       "        HSD520D          HSD530D          HSD540D          HSD550D  \n",
       "      0.000e+00        0.000e+00        0.000e+00        0.000e+00  \n",
       "        HSD560D          HSD570D          HSD580D          HSD590D  \n",
       "      0.000e+00        0.000e+00        0.000e+00        0.000e+00  \n",
       "        HSD610D          HSD620D          HSD710D          HSD720D  \n",
       "      0.000e+00        0.000e+00        0.000e+00        0.000e+00  \n",
       "        HSD730D          HSD740D          HSD750D          HSD760D  \n",
       "      0.000e+00        0.000e+00        0.000e+00        0.000e+00  \n",
       "        HSD770D          HSD780D          HSG040D          HSG045D  \n",
       "      0.000e+00        0.000e+00        0.000e+00        0.000e+00  \n",
       "        HSG050D          HSG182D          HSG210D          HSG230D  \n",
       "      0.000e+00        0.000e+00        0.000e+00        0.000e+00  \n",
       "        HSG240D          HSG250D          HSG310D          HSG315D  \n",
       "      0.000e+00        0.000e+00        0.000e+00        1.061e-03  \n",
       "        HSG320D          HSG325D          HSG335D          HSG350D  \n",
       "      0.000e+00        0.000e+00        0.000e+00        1.578e-04  \n",
       "        HSG370D          HSG375D          HSG380D          HSG450D  \n",
       "      0.000e+00       -4.149e-02        0.000e+00        0.000e+00  \n",
       "        HSG490D          HSG500D          HSG510D          HSG520D  \n",
       "      0.000e+00        0.000e+00       -4.433e-03        0.000e+00  \n",
       "        HSG530D          HSG540D          HSG550D          HSG560D  \n",
       "      0.000e+00        0.000e+00        0.000e+00        0.000e+00  \n",
       "        HSG570D          HSG650D          HSG690D          HSG710D  \n",
       "      0.000e+00        0.000e+00        0.000e+00       -5.223e-03  \n",
       "        HSG730D          INC110D          INC650D          INC670D  \n",
       "      0.000e+00        0.000e+00        0.000e+00        0.000e+00  \n",
       "        INC680D          INC690D          INC700D          INC710D  \n",
       "      0.000e+00        0.000e+00        0.000e+00        0.000e+00  \n",
       "        INC720D          INC730D          INC760D          INC790D  \n",
       "      0.000e+00        0.000e+00       -1.548e-02        0.000e+00  \n",
       "        LFE020D          LFE023D          LFE030D          LFE080D  \n",
       "      0.000e+00        0.000e+00        0.000e+00        0.000e+00  \n",
       "        LFE090D          LFE210D          LFE220D          LND110D  \n",
       "      0.000e+00        0.000e+00        0.000e+00        0.000e+00  \n",
       "        PIN020D          POP110D          POP210D          POP240D  \n",
       "      0.000e+00        0.000e+00        0.000e+00        0.000e+00  \n",
       "        POP440D          POP450D          POP470D          POP480D  \n",
       "      0.000e+00        0.000e+00        0.000e+00        0.000e+00  \n",
       "        POP540D          POP550D          POP570D          POP580D  \n",
       "      0.000e+00        0.000e+00        0.000e+00        0.000e+00  \n",
       "        POP700D          POP710D          POP720D          POP740D  \n",
       "      0.000e+00        0.000e+00        0.000e+00        0.000e+00  \n",
       "        PPQ010D          PPQ100D          PPQ110D          PPQ120D  \n",
       "      0.000e+00       -1.034e-01        0.000e+00        0.000e+00  \n",
       "        PVY020D          PVY120D          PVY210D          PVY310D  \n",
       "      0.000e+00        0.000e+00        0.000e+00        0.000e+00  \n",
       "        PVY420D          PVY520D          SPR030D          SPR130D  \n",
       "      0.000e+00        0.000e+00        0.000e+00        0.000e+00  \n",
       "        SPR230D          SPR330D          SPR440D          VST020D  \n",
       "      0.000e+00        0.000e+00        0.000e+00        0.000e+00  \n"
      ]
     },
     "metadata": {},
     "output_type": "display_data"
    }
   ],
   "source": [
    "dfit <- dreg(z[-I[[1]],], d[-I[[1]]])\n",
    "dfit"
   ]
  },
  {
   "cell_type": "code",
   "execution_count": 153,
   "metadata": {},
   "outputs": [],
   "source": [
    "nfold <- 2\n",
    "nobs <- 50 #number of observations\n",
    "foldid <- rep.int(1:nfold,times = ceiling(nobs/nfold))[sample.int(nobs)] #define folds indices\n",
    "I <- split(1:nobs, foldid) \n"
   ]
  },
  {
   "cell_type": "markdown",
   "metadata": {
    "papermill": {
     "duration": 0.020604,
     "end_time": "2021-02-13T17:30:41.102146",
     "exception": false,
     "start_time": "2021-02-13T17:30:41.081542",
     "status": "completed"
    },
    "tags": []
   },
   "source": [
    "Now, we apply the Double Machine Learning (DML) approach with different machine learning methods. First, we load the relevant libraries."
   ]
  },
  {
   "cell_type": "code",
   "execution_count": 82,
   "metadata": {
    "execution": {
     "iopub.execute_input": "2021-02-13T17:30:41.148547Z",
     "iopub.status.busy": "2021-02-13T17:30:41.147436Z",
     "iopub.status.idle": "2021-02-13T17:30:41.609900Z",
     "shell.execute_reply": "2021-02-13T17:30:41.609227Z"
    },
    "papermill": {
     "duration": 0.486944,
     "end_time": "2021-02-13T17:30:41.610047",
     "exception": false,
     "start_time": "2021-02-13T17:30:41.123103",
     "status": "completed"
    },
    "tags": []
   },
   "outputs": [
    {
     "name": "stderr",
     "output_type": "stream",
     "text": [
      "Loaded glmnet 4.1-1\n",
      "\n",
      "randomForest 4.6-14\n",
      "\n",
      "Type rfNews() to see new features/changes/bug fixes.\n",
      "\n"
     ]
    }
   ],
   "source": [
    "library(hdm)\n",
    "library(glmnet)\n",
    "library(sandwich)\n",
    "library(randomForest)"
   ]
  },
  {
   "cell_type": "markdown",
   "metadata": {
    "papermill": {
     "duration": 0.022531,
     "end_time": "2021-02-13T17:30:41.655799",
     "exception": false,
     "start_time": "2021-02-13T17:30:41.633268",
     "status": "completed"
    },
    "tags": []
   },
   "source": [
    "Let us, construct the input matrices."
   ]
  },
  {
   "cell_type": "code",
   "execution_count": 83,
   "metadata": {
    "execution": {
     "iopub.execute_input": "2021-02-13T17:30:41.706539Z",
     "iopub.status.busy": "2021-02-13T17:30:41.705289Z",
     "iopub.status.idle": "2021-02-13T17:30:41.750368Z",
     "shell.execute_reply": "2021-02-13T17:30:41.749361Z"
    },
    "papermill": {
     "duration": 0.071827,
     "end_time": "2021-02-13T17:30:41.750537",
     "exception": false,
     "start_time": "2021-02-13T17:30:41.678710",
     "status": "completed"
    },
    "tags": []
   },
   "outputs": [
    {
     "data": {
      "text/html": [
       "<table class=\"dataframe\">\n",
       "<caption>A data.frame: 6 × 3</caption>\n",
       "<thead>\n",
       "\t<tr><th></th><th scope=col>logghomr</th><th scope=col>logfssl</th><th scope=col>CountyCode</th></tr>\n",
       "\t<tr><th></th><th scope=col>&lt;dbl&gt;</th><th scope=col>&lt;dbl&gt;</th><th scope=col>&lt;dbl&gt;</th></tr>\n",
       "</thead>\n",
       "<tbody>\n",
       "\t<tr><th scope=row>1</th><td>-0.13477752</td><td> 0.096127077</td><td>1073</td></tr>\n",
       "\t<tr><th scope=row>2</th><td>-0.23962152</td><td> 0.080809373</td><td>1073</td></tr>\n",
       "\t<tr><th scope=row>3</th><td>-0.07867716</td><td> 0.057339916</td><td>1073</td></tr>\n",
       "\t<tr><th scope=row>4</th><td>-0.33146546</td><td> 0.081694483</td><td>1073</td></tr>\n",
       "\t<tr><th scope=row>5</th><td>-0.31663980</td><td> 0.025365514</td><td>1073</td></tr>\n",
       "\t<tr><th scope=row>6</th><td> 0.10513190</td><td>-0.006777264</td><td>1073</td></tr>\n",
       "</tbody>\n",
       "</table>\n"
      ],
      "text/latex": [
       "A data.frame: 6 × 3\n",
       "\\begin{tabular}{r|lll}\n",
       "  & logghomr & logfssl & CountyCode\\\\\n",
       "  & <dbl> & <dbl> & <dbl>\\\\\n",
       "\\hline\n",
       "\t1 & -0.13477752 &  0.096127077 & 1073\\\\\n",
       "\t2 & -0.23962152 &  0.080809373 & 1073\\\\\n",
       "\t3 & -0.07867716 &  0.057339916 & 1073\\\\\n",
       "\t4 & -0.33146546 &  0.081694483 & 1073\\\\\n",
       "\t5 & -0.31663980 &  0.025365514 & 1073\\\\\n",
       "\t6 &  0.10513190 & -0.006777264 & 1073\\\\\n",
       "\\end{tabular}\n"
      ],
      "text/markdown": [
       "\n",
       "A data.frame: 6 × 3\n",
       "\n",
       "| <!--/--> | logghomr &lt;dbl&gt; | logfssl &lt;dbl&gt; | CountyCode &lt;dbl&gt; |\n",
       "|---|---|---|---|\n",
       "| 1 | -0.13477752 |  0.096127077 | 1073 |\n",
       "| 2 | -0.23962152 |  0.080809373 | 1073 |\n",
       "| 3 | -0.07867716 |  0.057339916 | 1073 |\n",
       "| 4 | -0.33146546 |  0.081694483 | 1073 |\n",
       "| 5 | -0.31663980 |  0.025365514 | 1073 |\n",
       "| 6 |  0.10513190 | -0.006777264 | 1073 |\n",
       "\n"
      ],
      "text/plain": [
       "  logghomr    logfssl      CountyCode\n",
       "1 -0.13477752  0.096127077 1073      \n",
       "2 -0.23962152  0.080809373 1073      \n",
       "3 -0.07867716  0.057339916 1073      \n",
       "4 -0.33146546  0.081694483 1073      \n",
       "5 -0.31663980  0.025365514 1073      \n",
       "6  0.10513190 -0.006777264 1073      "
      ]
     },
     "metadata": {},
     "output_type": "display_data"
    }
   ],
   "source": [
    "y <- as.matrix(Y)\n",
    "d <- as.matrix(D)\n",
    "z <- as.matrix(Z)\n",
    "clu <- rdata[which(colnames(rdata) == \"CountyCode\")]\n",
    "head(data.frame(cbind(y,d,as.matrix(clu))))"
   ]
  },
  {
   "cell_type": "markdown",
   "metadata": {
    "papermill": {
     "duration": 0.022813,
     "end_time": "2021-02-13T17:30:41.796577",
     "exception": false,
     "start_time": "2021-02-13T17:30:41.773764",
     "status": "completed"
    },
    "tags": []
   },
   "source": [
    "In the following, we apply the DML approach with the differnt versions of lasso.\n"
   ]
  },
  {
   "cell_type": "markdown",
   "metadata": {
    "papermill": {
     "duration": 0.02306,
     "end_time": "2021-02-13T17:30:41.843131",
     "exception": false,
     "start_time": "2021-02-13T17:30:41.820071",
     "status": "completed"
    },
    "tags": []
   },
   "source": [
    "## Lasso"
   ]
  },
  {
   "cell_type": "code",
   "execution_count": 84,
   "metadata": {
    "execution": {
     "iopub.execute_input": "2021-02-13T17:30:41.892634Z",
     "iopub.status.busy": "2021-02-13T17:30:41.891453Z",
     "iopub.status.idle": "2021-02-13T17:31:07.362797Z",
     "shell.execute_reply": "2021-02-13T17:31:07.360728Z"
    },
    "papermill": {
     "duration": 25.497739,
     "end_time": "2021-02-13T17:31:07.363059",
     "exception": false,
     "start_time": "2021-02-13T17:30:41.865320",
     "status": "completed"
    },
    "tags": []
   },
   "outputs": [],
   "source": [
    "#DML with Lasso:\n",
    "set.seed(123)\n",
    "dreg <- function(z,d){ rlasso(z,d, post=FALSE) } #ML method= lasso from hdm \n",
    "yreg <- function(z,y){ rlasso(z,y, post=FALSE) } #ML method = lasso from hdm\n"
   ]
  },
  {
   "cell_type": "code",
   "execution_count": 78,
   "metadata": {
    "execution": {
     "iopub.execute_input": "2021-02-13T17:30:41.892634Z",
     "iopub.status.busy": "2021-02-13T17:30:41.891453Z",
     "iopub.status.idle": "2021-02-13T17:31:07.362797Z",
     "shell.execute_reply": "2021-02-13T17:31:07.360728Z"
    },
    "papermill": {
     "duration": 25.497739,
     "end_time": "2021-02-13T17:31:07.363059",
     "exception": false,
     "start_time": "2021-02-13T17:30:41.865320",
     "status": "completed"
    },
    "tags": []
   },
   "outputs": [
    {
     "name": "stdout",
     "output_type": "stream",
     "text": [
      "fold: "
     ]
    },
    {
     "ename": "ERROR",
     "evalue": "Error in rlasso(z, d, post = FALSE): could not find function \"rlasso\"\n",
     "output_type": "error",
     "traceback": [
      "Error in rlasso(z, d, post = FALSE): could not find function \"rlasso\"\nTraceback:\n",
      "1. DML2.for.PLM(z, d, y, dreg, yreg, nfold = 10, clu)",
      "2. dreg(z[-I[[b]], ], d[-I[[b]]])   # at line 8 of file <text>"
     ]
    }
   ],
   "source": [
    "DML2.lasso = DML2.for.PLM(z, d, y, dreg, yreg, nfold=10,clu)"
   ]
  },
  {
   "cell_type": "code",
   "execution_count": 175,
   "metadata": {},
   "outputs": [
    {
     "data": {
      "text/html": [
       "<table class=\"dataframe\">\n",
       "<caption>A data.frame: 3900 × 1</caption>\n",
       "<thead>\n",
       "\t<tr><th scope=col>CountyCode</th></tr>\n",
       "\t<tr><th scope=col>&lt;int&gt;</th></tr>\n",
       "</thead>\n",
       "<tbody>\n",
       "\t<tr><td>1073</td></tr>\n",
       "\t<tr><td>1073</td></tr>\n",
       "\t<tr><td>1073</td></tr>\n",
       "\t<tr><td>1073</td></tr>\n",
       "\t<tr><td>1073</td></tr>\n",
       "\t<tr><td>1073</td></tr>\n",
       "\t<tr><td>1073</td></tr>\n",
       "\t<tr><td>1073</td></tr>\n",
       "\t<tr><td>1073</td></tr>\n",
       "\t<tr><td>1073</td></tr>\n",
       "\t<tr><td>1073</td></tr>\n",
       "\t<tr><td>1073</td></tr>\n",
       "\t<tr><td>1073</td></tr>\n",
       "\t<tr><td>1073</td></tr>\n",
       "\t<tr><td>1073</td></tr>\n",
       "\t<tr><td>1073</td></tr>\n",
       "\t<tr><td>1073</td></tr>\n",
       "\t<tr><td>1073</td></tr>\n",
       "\t<tr><td>1073</td></tr>\n",
       "\t<tr><td>1073</td></tr>\n",
       "\t<tr><td>1097</td></tr>\n",
       "\t<tr><td>1097</td></tr>\n",
       "\t<tr><td>1097</td></tr>\n",
       "\t<tr><td>1097</td></tr>\n",
       "\t<tr><td>1097</td></tr>\n",
       "\t<tr><td>1097</td></tr>\n",
       "\t<tr><td>1097</td></tr>\n",
       "\t<tr><td>1097</td></tr>\n",
       "\t<tr><td>1097</td></tr>\n",
       "\t<tr><td>1097</td></tr>\n",
       "\t<tr><td>...</td></tr>\n",
       "\t<tr><td>55079</td></tr>\n",
       "\t<tr><td>55079</td></tr>\n",
       "\t<tr><td>55079</td></tr>\n",
       "\t<tr><td>55079</td></tr>\n",
       "\t<tr><td>55079</td></tr>\n",
       "\t<tr><td>55079</td></tr>\n",
       "\t<tr><td>55079</td></tr>\n",
       "\t<tr><td>55079</td></tr>\n",
       "\t<tr><td>55079</td></tr>\n",
       "\t<tr><td>55079</td></tr>\n",
       "\t<tr><td>55133</td></tr>\n",
       "\t<tr><td>55133</td></tr>\n",
       "\t<tr><td>55133</td></tr>\n",
       "\t<tr><td>55133</td></tr>\n",
       "\t<tr><td>55133</td></tr>\n",
       "\t<tr><td>55133</td></tr>\n",
       "\t<tr><td>55133</td></tr>\n",
       "\t<tr><td>55133</td></tr>\n",
       "\t<tr><td>55133</td></tr>\n",
       "\t<tr><td>55133</td></tr>\n",
       "\t<tr><td>55133</td></tr>\n",
       "\t<tr><td>55133</td></tr>\n",
       "\t<tr><td>55133</td></tr>\n",
       "\t<tr><td>55133</td></tr>\n",
       "\t<tr><td>55133</td></tr>\n",
       "\t<tr><td>55133</td></tr>\n",
       "\t<tr><td>55133</td></tr>\n",
       "\t<tr><td>55133</td></tr>\n",
       "\t<tr><td>55133</td></tr>\n",
       "\t<tr><td>55133</td></tr>\n",
       "</tbody>\n",
       "</table>\n"
      ],
      "text/latex": [
       "A data.frame: 3900 × 1\n",
       "\\begin{tabular}{l}\n",
       " CountyCode\\\\\n",
       " <int>\\\\\n",
       "\\hline\n",
       "\t 1073\\\\\n",
       "\t 1073\\\\\n",
       "\t 1073\\\\\n",
       "\t 1073\\\\\n",
       "\t 1073\\\\\n",
       "\t 1073\\\\\n",
       "\t 1073\\\\\n",
       "\t 1073\\\\\n",
       "\t 1073\\\\\n",
       "\t 1073\\\\\n",
       "\t 1073\\\\\n",
       "\t 1073\\\\\n",
       "\t 1073\\\\\n",
       "\t 1073\\\\\n",
       "\t 1073\\\\\n",
       "\t 1073\\\\\n",
       "\t 1073\\\\\n",
       "\t 1073\\\\\n",
       "\t 1073\\\\\n",
       "\t 1073\\\\\n",
       "\t 1097\\\\\n",
       "\t 1097\\\\\n",
       "\t 1097\\\\\n",
       "\t 1097\\\\\n",
       "\t 1097\\\\\n",
       "\t 1097\\\\\n",
       "\t 1097\\\\\n",
       "\t 1097\\\\\n",
       "\t 1097\\\\\n",
       "\t 1097\\\\\n",
       "\t ...\\\\\n",
       "\t 55079\\\\\n",
       "\t 55079\\\\\n",
       "\t 55079\\\\\n",
       "\t 55079\\\\\n",
       "\t 55079\\\\\n",
       "\t 55079\\\\\n",
       "\t 55079\\\\\n",
       "\t 55079\\\\\n",
       "\t 55079\\\\\n",
       "\t 55079\\\\\n",
       "\t 55133\\\\\n",
       "\t 55133\\\\\n",
       "\t 55133\\\\\n",
       "\t 55133\\\\\n",
       "\t 55133\\\\\n",
       "\t 55133\\\\\n",
       "\t 55133\\\\\n",
       "\t 55133\\\\\n",
       "\t 55133\\\\\n",
       "\t 55133\\\\\n",
       "\t 55133\\\\\n",
       "\t 55133\\\\\n",
       "\t 55133\\\\\n",
       "\t 55133\\\\\n",
       "\t 55133\\\\\n",
       "\t 55133\\\\\n",
       "\t 55133\\\\\n",
       "\t 55133\\\\\n",
       "\t 55133\\\\\n",
       "\t 55133\\\\\n",
       "\\end{tabular}\n"
      ],
      "text/markdown": [
       "\n",
       "A data.frame: 3900 × 1\n",
       "\n",
       "| CountyCode &lt;int&gt; |\n",
       "|---|\n",
       "| 1073 |\n",
       "| 1073 |\n",
       "| 1073 |\n",
       "| 1073 |\n",
       "| 1073 |\n",
       "| 1073 |\n",
       "| 1073 |\n",
       "| 1073 |\n",
       "| 1073 |\n",
       "| 1073 |\n",
       "| 1073 |\n",
       "| 1073 |\n",
       "| 1073 |\n",
       "| 1073 |\n",
       "| 1073 |\n",
       "| 1073 |\n",
       "| 1073 |\n",
       "| 1073 |\n",
       "| 1073 |\n",
       "| 1073 |\n",
       "| 1097 |\n",
       "| 1097 |\n",
       "| 1097 |\n",
       "| 1097 |\n",
       "| 1097 |\n",
       "| 1097 |\n",
       "| 1097 |\n",
       "| 1097 |\n",
       "| 1097 |\n",
       "| 1097 |\n",
       "| ... |\n",
       "| 55079 |\n",
       "| 55079 |\n",
       "| 55079 |\n",
       "| 55079 |\n",
       "| 55079 |\n",
       "| 55079 |\n",
       "| 55079 |\n",
       "| 55079 |\n",
       "| 55079 |\n",
       "| 55079 |\n",
       "| 55133 |\n",
       "| 55133 |\n",
       "| 55133 |\n",
       "| 55133 |\n",
       "| 55133 |\n",
       "| 55133 |\n",
       "| 55133 |\n",
       "| 55133 |\n",
       "| 55133 |\n",
       "| 55133 |\n",
       "| 55133 |\n",
       "| 55133 |\n",
       "| 55133 |\n",
       "| 55133 |\n",
       "| 55133 |\n",
       "| 55133 |\n",
       "| 55133 |\n",
       "| 55133 |\n",
       "| 55133 |\n",
       "| 55133 |\n",
       "\n"
      ],
      "text/plain": [
       "     CountyCode\n",
       "1    1073      \n",
       "2    1073      \n",
       "3    1073      \n",
       "4    1073      \n",
       "5    1073      \n",
       "6    1073      \n",
       "7    1073      \n",
       "8    1073      \n",
       "9    1073      \n",
       "10   1073      \n",
       "11   1073      \n",
       "12   1073      \n",
       "13   1073      \n",
       "14   1073      \n",
       "15   1073      \n",
       "16   1073      \n",
       "17   1073      \n",
       "18   1073      \n",
       "19   1073      \n",
       "20   1073      \n",
       "21   1097      \n",
       "22   1097      \n",
       "23   1097      \n",
       "24   1097      \n",
       "25   1097      \n",
       "26   1097      \n",
       "27   1097      \n",
       "28   1097      \n",
       "29   1097      \n",
       "30   1097      \n",
       "...  ...       \n",
       "3871 55079     \n",
       "3872 55079     \n",
       "3873 55079     \n",
       "3874 55079     \n",
       "3875 55079     \n",
       "3876 55079     \n",
       "3877 55079     \n",
       "3878 55079     \n",
       "3879 55079     \n",
       "3880 55079     \n",
       "3881 55133     \n",
       "3882 55133     \n",
       "3883 55133     \n",
       "3884 55133     \n",
       "3885 55133     \n",
       "3886 55133     \n",
       "3887 55133     \n",
       "3888 55133     \n",
       "3889 55133     \n",
       "3890 55133     \n",
       "3891 55133     \n",
       "3892 55133     \n",
       "3893 55133     \n",
       "3894 55133     \n",
       "3895 55133     \n",
       "3896 55133     \n",
       "3897 55133     \n",
       "3898 55133     \n",
       "3899 55133     \n",
       "3900 55133     "
      ]
     },
     "metadata": {},
     "output_type": "display_data"
    }
   ],
   "source": []
  },
  {
   "cell_type": "code",
   "execution_count": 12,
   "metadata": {
    "execution": {
     "iopub.execute_input": "2021-02-13T17:31:07.450047Z",
     "iopub.status.busy": "2021-02-13T17:31:07.449335Z",
     "iopub.status.idle": "2021-02-13T17:31:33.296006Z",
     "shell.execute_reply": "2021-02-13T17:31:33.294119Z"
    },
    "papermill": {
     "duration": 25.88845,
     "end_time": "2021-02-13T17:31:33.296252",
     "exception": false,
     "start_time": "2021-02-13T17:31:07.407802",
     "status": "completed"
    },
    "tags": []
   },
   "outputs": [
    {
     "name": "stdout",
     "output_type": "stream",
     "text": [
      "fold: 1  2  3  4  5  6  7  8  9  10  \n",
      "coef (se) = 0.226934 (0.0561918)\n"
     ]
    }
   ],
   "source": [
    "#DML with Post-Lasso:\n",
    "dreg <- function(z,d){ rlasso(z,d, post=T) } #ML method= lasso from hdm \n",
    "yreg <- function(z,y){ rlasso(z,y, post=T) } #ML method = lasso from hdm\n",
    "DML2.post = DML2.for.PLM(z, d, y, dreg, yreg, nfold=10, clu)"
   ]
  },
  {
   "cell_type": "code",
   "execution_count": 13,
   "metadata": {
    "execution": {
     "iopub.execute_input": "2021-02-13T17:31:33.387359Z",
     "iopub.status.busy": "2021-02-13T17:31:33.386570Z",
     "iopub.status.idle": "2021-02-13T17:35:07.561791Z",
     "shell.execute_reply": "2021-02-13T17:35:07.562608Z"
    },
    "papermill": {
     "duration": 214.221131,
     "end_time": "2021-02-13T17:35:07.562866",
     "exception": false,
     "start_time": "2021-02-13T17:31:33.341735",
     "status": "completed"
    },
    "tags": []
   },
   "outputs": [
    {
     "name": "stdout",
     "output_type": "stream",
     "text": [
      "fold: 1  2  3  4  5  6  7  8  9  10  \n",
      "coef (se) = 0.200474 (0.0576411)\n",
      "fold: 1  2  3  4  5  6  7  8  9  10  \n",
      "coef (se) = 0.206117 (0.0574622)\n",
      "fold: 1  2  3  4  5  6  7  8  9  10  \n",
      "coef (se) = 0.201379 (0.0579066)\n"
     ]
    }
   ],
   "source": [
    "#DML with cross-validated Lasso:\n",
    "dreg <- function(z,d){ cv.glmnet(z,d,family=\"gaussian\", alpha=1) } #ML method = lasso from glmnet \n",
    "yreg <- function(z,y){ cv.glmnet(z,y,family=\"gaussian\", alpha=1) }  #ML method = lasso from glmnet \n",
    "DML2.lasso.cv = DML2.for.PLM(z, d, y, dreg, yreg, nfold=10, clu)\n",
    "\n",
    "dreg <- function(z,d){ cv.glmnet(z,d,family=\"gaussian\", alpha=0.5) } #ML method = elastic net from glmnet \n",
    "yreg <- function(z,y){ cv.glmnet(z,y,family=\"gaussian\", alpha=0.5) }  #ML method = elastic net from glmnet \n",
    "DML2.elnet = DML2.for.PLM(z, d, y, dreg, yreg, nfold=10, clu)\n",
    "\n",
    "dreg <- function(z,d){ cv.glmnet(z,d,family=\"gaussian\", alpha=0) } #ML method = ridge from glmnet \n",
    "yreg <- function(z,y){ cv.glmnet(z,y,family=\"gaussian\", alpha=0) }  #ML method = ridge from glmnet \n",
    "DML2.ridge = DML2.for.PLM(z, d, y, dreg, yreg, nfold=10, clu)\n"
   ]
  },
  {
   "cell_type": "markdown",
   "metadata": {
    "papermill": {
     "duration": 0.025906,
     "end_time": "2021-02-13T17:35:07.615290",
     "exception": false,
     "start_time": "2021-02-13T17:35:07.589384",
     "status": "completed"
    },
    "tags": []
   },
   "source": [
    "Here we also compute DML with OLS used as the ML method"
   ]
  },
  {
   "cell_type": "code",
   "execution_count": 14,
   "metadata": {
    "execution": {
     "iopub.execute_input": "2021-02-13T17:35:07.679348Z",
     "iopub.status.busy": "2021-02-13T17:35:07.678603Z",
     "iopub.status.idle": "2021-02-13T17:35:14.164446Z",
     "shell.execute_reply": "2021-02-13T17:35:14.163551Z"
    },
    "papermill": {
     "duration": 6.523989,
     "end_time": "2021-02-13T17:35:14.164734",
     "exception": false,
     "start_time": "2021-02-13T17:35:07.640745",
     "status": "completed"
    },
    "tags": []
   },
   "outputs": [
    {
     "name": "stdout",
     "output_type": "stream",
     "text": [
      "fold: 1  2  3  4  5  6  7  8  9  10  \n",
      "coef (se) = 0.222905 (0.0540549)\n"
     ]
    }
   ],
   "source": [
    "dreg <- function(z,d){  glmnet(z,d,family=\"gaussian\", lambda=0) } #ML method = ols from glmnet \n",
    "yreg <- function(z,y){  glmnet(z,y,family=\"gaussian\", lambda=0) }  #ML method = ols from glmnet \n",
    "DML2.ols = DML2.for.PLM(z, d, y, dreg, yreg, nfold=10, clu)\n"
   ]
  },
  {
   "cell_type": "markdown",
   "metadata": {
    "papermill": {
     "duration": 0.024512,
     "end_time": "2021-02-13T17:35:14.215612",
     "exception": false,
     "start_time": "2021-02-13T17:35:14.191100",
     "status": "completed"
    },
    "tags": []
   },
   "source": [
    "Next, we also apply Random Forest for comparison purposes."
   ]
  },
  {
   "cell_type": "markdown",
   "metadata": {
    "papermill": {
     "duration": 0.025256,
     "end_time": "2021-02-13T17:35:14.266042",
     "exception": false,
     "start_time": "2021-02-13T17:35:14.240786",
     "status": "completed"
    },
    "tags": []
   },
   "source": [
    "### Random Forest\n"
   ]
  },
  {
   "cell_type": "code",
   "execution_count": 15,
   "metadata": {
    "execution": {
     "iopub.execute_input": "2021-02-13T17:35:14.320437Z",
     "iopub.status.busy": "2021-02-13T17:35:14.319294Z",
     "iopub.status.idle": "2021-02-13T17:40:48.550498Z",
     "shell.execute_reply": "2021-02-13T17:40:48.551323Z"
    },
    "papermill": {
     "duration": 334.261061,
     "end_time": "2021-02-13T17:40:48.551591",
     "exception": false,
     "start_time": "2021-02-13T17:35:14.290530",
     "status": "completed"
    },
    "tags": []
   },
   "outputs": [
    {
     "name": "stdout",
     "output_type": "stream",
     "text": [
      "fold: 1  2  \n",
      "coef (se) = 0.192174 (0.058141)\n"
     ]
    }
   ],
   "source": [
    "#DML with Random Forest:\n",
    "dreg <- function(z,d){ randomForest(z, d) } #ML method=Forest \n",
    "yreg <- function(z,y){ randomForest(z, y) } #ML method=Forest\n",
    "set.seed(1)\n",
    "DML2.RF = DML2.for.PLM(z, d, y, dreg, yreg, nfold=2, clu) # set to 2 due to computation time"
   ]
  },
  {
   "cell_type": "markdown",
   "metadata": {
    "papermill": {
     "duration": 0.024871,
     "end_time": "2021-02-13T17:40:48.605021",
     "exception": false,
     "start_time": "2021-02-13T17:40:48.580150",
     "status": "completed"
    },
    "tags": []
   },
   "source": [
    "We conclude that the gun ownership rates are related to gun homicide rates - if gun ownership increases by 1% relative\n",
    "to a trend then the predicted gun homicide rate goes up by about 0.20% controlling for counties' characteristics."
   ]
  },
  {
   "cell_type": "markdown",
   "metadata": {
    "papermill": {
     "duration": 0.027238,
     "end_time": "2021-02-13T17:40:48.657096",
     "exception": false,
     "start_time": "2021-02-13T17:40:48.629858",
     "status": "completed"
    },
    "tags": []
   },
   "source": [
    "Finally, let's see which method is actually better. We compute RMSE for predicting D and Y, and see which\n",
    "of the methods works better.\n"
   ]
  },
  {
   "cell_type": "code",
   "execution_count": 16,
   "metadata": {
    "execution": {
     "iopub.execute_input": "2021-02-13T17:40:48.735660Z",
     "iopub.status.busy": "2021-02-13T17:40:48.733563Z",
     "iopub.status.idle": "2021-02-13T17:40:48.775290Z",
     "shell.execute_reply": "2021-02-13T17:40:48.773348Z"
    },
    "papermill": {
     "duration": 0.087953,
     "end_time": "2021-02-13T17:40:48.775469",
     "exception": false,
     "start_time": "2021-02-13T17:40:48.687516",
     "status": "completed"
    },
    "tags": []
   },
   "outputs": [
    {
     "name": "stdout",
     "output_type": "stream",
     "text": [
      "               OLS       Lasso  Post-Lasso    CV Lasso    CV Ridge    CV Elnet\n",
      "RMSE D 1.08679e-04 3.25471e-05 1.32656e-04 3.85574e-04 2.56496e-04 0.000824198\n",
      "RMSE Y 6.53256e-05 3.73226e-05 6.89649e-05 6.22797e-05 2.76534e-06 0.000025963\n",
      "               RF\n",
      "RMSE D 0.01109672\n",
      "RMSE Y 0.00134852\n"
     ]
    }
   ],
   "source": [
    "mods<- list(DML2.ols, DML2.lasso, DML2.post, DML2.lasso.cv, DML2.ridge, DML2.elnet, DML2.RF)\n",
    "\n",
    "RMSE.mdl<- function(mdl) {\n",
    "RMSEY <- sqrt(mean(mdl$ytil)^2) \n",
    "RMSED <- sqrt(mean(mdl$dtil)^2) \n",
    "return( list(RMSEY=RMSEY, RMSED=RMSED))\n",
    "}\n",
    "\n",
    "#RMSE.mdl(DML2.lasso)\n",
    "\n",
    "#DML2.lasso$ytil\n",
    "\n",
    "Res<- lapply(mods, RMSE.mdl)\n",
    "\n",
    "\n",
    "prRes.Y<- c( Res[[1]]$RMSEY,Res[[2]]$RMSEY, Res[[3]]$RMSEY, Res[[4]]$RMSEY, Res[[5]]$RMSEY,  Res[[6]]$RMSEY, Res[[7]]$RMSEY)\n",
    "prRes.D<- c( Res[[1]]$RMSED,Res[[2]]$RMSED, Res[[3]]$RMSED, Res[[4]]$RMSED, Res[[5]]$RMSED, Res[[6]]$RMSED, Res[[7]]$RMSED)\n",
    "\n",
    "prRes<- rbind(prRes.Y, prRes.D); \n",
    "rownames(prRes)<- c(\"RMSE D\", \"RMSE Y\");\n",
    "colnames(prRes)<- c(\"OLS\", \"Lasso\", \"Post-Lasso\", \"CV Lasso\", \"CV Ridge\", \"CV Elnet\", \"RF\")\n",
    "print(prRes,digit=6)"
   ]
  },
  {
   "cell_type": "markdown",
   "metadata": {
    "papermill": {
     "duration": 0.027155,
     "end_time": "2021-02-13T17:40:48.832101",
     "exception": false,
     "start_time": "2021-02-13T17:40:48.804946",
     "status": "completed"
    },
    "tags": []
   },
   "source": [
    "It looks like the best method for predicting D is Lasso, and the best method for predicting Y is CV Ridge.\n"
   ]
  },
  {
   "cell_type": "code",
   "execution_count": 17,
   "metadata": {
    "execution": {
     "iopub.execute_input": "2021-02-13T17:40:48.887079Z",
     "iopub.status.busy": "2021-02-13T17:40:48.885820Z",
     "iopub.status.idle": "2021-02-13T17:41:18.806979Z",
     "shell.execute_reply": "2021-02-13T17:41:18.805624Z"
    },
    "papermill": {
     "duration": 29.950099,
     "end_time": "2021-02-13T17:41:18.807192",
     "exception": false,
     "start_time": "2021-02-13T17:40:48.857093",
     "status": "completed"
    },
    "tags": []
   },
   "outputs": [
    {
     "name": "stdout",
     "output_type": "stream",
     "text": [
      "fold: 1  2  3  4  5  6  7  8  9  10  \n",
      "coef (se) = 0.219005 (0.0572196)\n"
     ]
    }
   ],
   "source": [
    "dreg <- function(z,d){ rlasso(z,d, post=T) } #ML method= lasso from hdm \n",
    "yreg <- function(z,y){ cv.glmnet(z,y,family=\"gaussian\", alpha=0) }  #ML method = ridge from glmnet \n",
    "DML2.best= DML2.for.PLM(z, d, y, dreg, yreg, nfold=10, clu)"
   ]
  },
  {
   "cell_type": "markdown",
   "metadata": {
    "papermill": {
     "duration": 0.034891,
     "end_time": "2021-02-13T17:41:18.892429",
     "exception": false,
     "start_time": "2021-02-13T17:41:18.857538",
     "status": "completed"
    },
    "tags": []
   },
   "source": [
    "Let's organize the results in a table."
   ]
  },
  {
   "cell_type": "code",
   "execution_count": 18,
   "metadata": {
    "execution": {
     "iopub.execute_input": "2021-02-13T17:41:18.948154Z",
     "iopub.status.busy": "2021-02-13T17:41:18.946908Z",
     "iopub.status.idle": "2021-02-13T17:41:19.006359Z",
     "shell.execute_reply": "2021-02-13T17:41:19.005308Z"
    },
    "papermill": {
     "duration": 0.088669,
     "end_time": "2021-02-13T17:41:19.006521",
     "exception": false,
     "start_time": "2021-02-13T17:41:18.917852",
     "status": "completed"
    },
    "tags": []
   },
   "outputs": [
    {
     "data": {
      "text/html": [
       "<table class=\"dataframe\">\n",
       "<caption>A matrix: 9 × 2 of type dbl</caption>\n",
       "<thead>\n",
       "\t<tr><th></th><th scope=col>Estimate</th><th scope=col>Standard Error</th></tr>\n",
       "</thead>\n",
       "<tbody>\n",
       "\t<tr><th scope=row>Baseline OLS</th><td>0.2823045</td><td>0.06481080</td></tr>\n",
       "\t<tr><th scope=row>Least Squares with controls</th><td>0.1906447</td><td>0.05244756</td></tr>\n",
       "\t<tr><th scope=row>Lasso</th><td>0.2228074</td><td>0.05702673</td></tr>\n",
       "\t<tr><th scope=row>Post-Lasso</th><td>0.2269338</td><td>0.05619181</td></tr>\n",
       "\t<tr><th scope=row>CV Lasso</th><td>0.2004742</td><td>0.05764115</td></tr>\n",
       "\t<tr><th scope=row>CV Elnet</th><td>0.2061170</td><td>0.05746222</td></tr>\n",
       "\t<tr><th scope=row>CV Ridge</th><td>0.2013789</td><td>0.05790663</td></tr>\n",
       "\t<tr><th scope=row>Random Forest</th><td>0.1921739</td><td>0.05814101</td></tr>\n",
       "\t<tr><th scope=row>Best</th><td>0.2190048</td><td>0.05721956</td></tr>\n",
       "</tbody>\n",
       "</table>\n"
      ],
      "text/latex": [
       "A matrix: 9 × 2 of type dbl\n",
       "\\begin{tabular}{r|ll}\n",
       "  & Estimate & Standard Error\\\\\n",
       "\\hline\n",
       "\tBaseline OLS & 0.2823045 & 0.06481080\\\\\n",
       "\tLeast Squares with controls & 0.1906447 & 0.05244756\\\\\n",
       "\tLasso & 0.2228074 & 0.05702673\\\\\n",
       "\tPost-Lasso & 0.2269338 & 0.05619181\\\\\n",
       "\tCV Lasso & 0.2004742 & 0.05764115\\\\\n",
       "\tCV Elnet & 0.2061170 & 0.05746222\\\\\n",
       "\tCV Ridge & 0.2013789 & 0.05790663\\\\\n",
       "\tRandom Forest & 0.1921739 & 0.05814101\\\\\n",
       "\tBest & 0.2190048 & 0.05721956\\\\\n",
       "\\end{tabular}\n"
      ],
      "text/markdown": [
       "\n",
       "A matrix: 9 × 2 of type dbl\n",
       "\n",
       "| <!--/--> | Estimate | Standard Error |\n",
       "|---|---|---|\n",
       "| Baseline OLS | 0.2823045 | 0.06481080 |\n",
       "| Least Squares with controls | 0.1906447 | 0.05244756 |\n",
       "| Lasso | 0.2228074 | 0.05702673 |\n",
       "| Post-Lasso | 0.2269338 | 0.05619181 |\n",
       "| CV Lasso | 0.2004742 | 0.05764115 |\n",
       "| CV Elnet | 0.2061170 | 0.05746222 |\n",
       "| CV Ridge | 0.2013789 | 0.05790663 |\n",
       "| Random Forest | 0.1921739 | 0.05814101 |\n",
       "| Best | 0.2190048 | 0.05721956 |\n",
       "\n"
      ],
      "text/plain": [
       "                            Estimate  Standard Error\n",
       "Baseline OLS                0.2823045 0.06481080    \n",
       "Least Squares with controls 0.1906447 0.05244756    \n",
       "Lasso                       0.2228074 0.05702673    \n",
       "Post-Lasso                  0.2269338 0.05619181    \n",
       "CV Lasso                    0.2004742 0.05764115    \n",
       "CV Elnet                    0.2061170 0.05746222    \n",
       "CV Ridge                    0.2013789 0.05790663    \n",
       "Random Forest               0.1921739 0.05814101    \n",
       "Best                        0.2190048 0.05721956    "
      ]
     },
     "metadata": {},
     "output_type": "display_data"
    }
   ],
   "source": [
    "library(xtable)\n",
    "\n",
    "table <- matrix(0,9,2)\n",
    "table[1,1] <- as.numeric(est_baseline[1])\n",
    "table[2,1] <- as.numeric(est_ols[1])\n",
    "table[3,1]   <- as.numeric(DML2.lasso$coef.est)\n",
    "table[4,1]   <- as.numeric(DML2.post$coef.est)\n",
    "table[5,1]  <-as.numeric(DML2.lasso.cv$coef.est)\n",
    "table[6,1] <-as.numeric(DML2.elnet$coef.est)\n",
    "table[7,1] <-as.numeric(DML2.ridge$coef.est)\n",
    "table[8,1] <-as.numeric(DML2.RF$coef.est)\n",
    "table[9,1] <-as.numeric(DML2.best$coef.est)\n",
    "table[1,2] <- as.numeric(est_baseline[2])\n",
    "table[2,2] <- as.numeric(est_ols[2])\n",
    "table[3,2]   <- as.numeric(DML2.lasso$se)\n",
    "table[4,2]   <- as.numeric(DML2.post$se)\n",
    "table[5,2]  <-as.numeric(DML2.lasso.cv$se)\n",
    "table[6,2] <-as.numeric(DML2.elnet$se)\n",
    "table[7,2] <-as.numeric(DML2.ridge$se)\n",
    "table[8,2] <-as.numeric(DML2.RF$se)\n",
    "table[9,2] <-as.numeric(DML2.best$se)\n",
    "\n",
    "\n",
    "\n",
    "\n",
    "################################# Print Results #################################\n",
    "\n",
    "colnames(table) <- c(\"Estimate\",\"Standard Error\")\n",
    "rownames(table) <- c(\"Baseline OLS\", \"Least Squares with controls\", \"Lasso\", \"Post-Lasso\", \"CV Lasso\",\"CV Elnet\", \"CV Ridge\", \"Random Forest\", \n",
    "                     \"Best\")\n",
    "\n",
    "table"
   ]
  },
  {
   "cell_type": "code",
   "execution_count": 19,
   "metadata": {
    "execution": {
     "iopub.execute_input": "2021-02-13T17:41:19.063047Z",
     "iopub.status.busy": "2021-02-13T17:41:19.062074Z",
     "iopub.status.idle": "2021-02-13T17:41:19.075566Z",
     "shell.execute_reply": "2021-02-13T17:41:19.074278Z"
    },
    "papermill": {
     "duration": 0.043017,
     "end_time": "2021-02-13T17:41:19.075707",
     "exception": false,
     "start_time": "2021-02-13T17:41:19.032690",
     "status": "completed"
    },
    "tags": []
   },
   "outputs": [
    {
     "name": "stdout",
     "output_type": "stream",
     "text": [
      "                            Estimate Standard Error\n",
      "Baseline OLS                   0.282         0.0648\n",
      "Least Squares with controls    0.191         0.0524\n",
      "Lasso                          0.223         0.0570\n",
      "Post-Lasso                     0.227         0.0562\n",
      "CV Lasso                       0.200         0.0576\n",
      "CV Elnet                       0.206         0.0575\n",
      "CV Ridge                       0.201         0.0579\n",
      "Random Forest                  0.192         0.0581\n",
      "Best                           0.219         0.0572\n"
     ]
    }
   ],
   "source": [
    "print(table, digit=3)\n"
   ]
  },
  {
   "cell_type": "code",
   "execution_count": 20,
   "metadata": {
    "execution": {
     "iopub.execute_input": "2021-02-13T17:41:19.135002Z",
     "iopub.status.busy": "2021-02-13T17:41:19.134319Z",
     "iopub.status.idle": "2021-02-13T17:41:19.154458Z",
     "shell.execute_reply": "2021-02-13T17:41:19.152712Z"
    },
    "papermill": {
     "duration": 0.052331,
     "end_time": "2021-02-13T17:41:19.154690",
     "exception": false,
     "start_time": "2021-02-13T17:41:19.102359",
     "status": "completed"
    },
    "tags": []
   },
   "outputs": [
    {
     "name": "stdout",
     "output_type": "stream",
     "text": [
      "% latex table generated in R 3.6.3 by xtable 1.8-4 package\n",
      "% Sat Feb 13 17:41:19 2021\n",
      "\\begin{table}[ht]\n",
      "\\centering\n",
      "\\begin{tabular}{rrr}\n",
      "  \\hline\n",
      " & Estimate & Standard Error \\\\ \n",
      "  \\hline\n",
      "Baseline OLS & 0.282 & 0.065 \\\\ \n",
      "  Least Squares with controls & 0.191 & 0.052 \\\\ \n",
      "  Lasso & 0.223 & 0.057 \\\\ \n",
      "  Post-Lasso & 0.227 & 0.056 \\\\ \n",
      "  CV Lasso & 0.200 & 0.058 \\\\ \n",
      "  CV Elnet & 0.206 & 0.057 \\\\ \n",
      "  CV Ridge & 0.201 & 0.058 \\\\ \n",
      "  Random Forest & 0.192 & 0.058 \\\\ \n",
      "  Best & 0.219 & 0.057 \\\\ \n",
      "   \\hline\n",
      "\\end{tabular}\n",
      "\\end{table}\n"
     ]
    }
   ],
   "source": [
    "tab<- xtable(table, digits=3)\n",
    "print(tab, type=\"latex\")"
   ]
  }
 ],
 "metadata": {
  "kernelspec": {
   "display_name": "R",
   "language": "R",
   "name": "ir"
  },
  "language_info": {
   "codemirror_mode": "r",
   "file_extension": ".r",
   "mimetype": "text/x-r-source",
   "name": "R",
   "pygments_lexer": "r",
   "version": "4.0.4"
  },
  "papermill": {
   "default_parameters": {},
   "duration": 669.535702,
   "end_time": "2021-02-13T17:41:19.292106",
   "environment_variables": {},
   "exception": null,
   "input_path": "__notebook__.ipynb",
   "output_path": "__notebook__.ipynb",
   "parameters": {},
   "start_time": "2021-02-13T17:30:09.756404",
   "version": "2.2.2"
  }
 },
 "nbformat": 4,
 "nbformat_minor": 4
}
