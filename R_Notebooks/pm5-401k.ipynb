{
 "cells": [
  {
   "cell_type": "markdown",
   "id": "narrative-sailing",
   "metadata": {
    "papermill": {
     "duration": 0.040767,
     "end_time": "2021-03-24T14:13:51.082088",
     "exception": false,
     "start_time": "2021-03-24T14:13:51.041321",
     "status": "completed"
    },
    "tags": []
   },
   "source": [
    "# Inference on Predictive and Causal Effects in High-Dimensional Nonlinear Models"
   ]
  },
  {
   "cell_type": "markdown",
   "id": "ready-appearance",
   "metadata": {
    "papermill": {
     "duration": 0.036878,
     "end_time": "2021-03-24T14:13:51.155414",
     "exception": false,
     "start_time": "2021-03-24T14:13:51.118536",
     "status": "completed"
    },
    "tags": []
   },
   "source": [
    "## Impact of 401(k) on  Financial Wealth\n",
    "\n",
    "As a practical illustration of the methods developed in this lecture, we consider estimation of the effect of 401(k) eligibility and participation \n",
    "on accumulated assets. 401(k) plans are pension accounts sponsored by employers. The key problem in determining the effect of participation in 401(k) plans on accumulated assets is saver heterogeneity coupled with the fact that the decision to enroll in a 401(k) is non-random. It is generally recognized that some people have a higher preference for saving than others. It also seems likely that those individuals with high unobserved preference for saving would be most likely to choose to participate in tax-advantaged retirement savings plans and would tend to have otherwise high amounts of accumulated assets. The presence of unobserved savings preferences with these properties then implies that conventional estimates that do not account for saver heterogeneity and endogeneity of participation will be biased upward, tending to overstate the savings effects of 401(k) participation.\n",
    "\n",
    "One can argue that eligibility for enrolling in a 401(k) plan in this data can be taken as exogenous after conditioning on a few observables of which the most important for their argument is income. The basic idea is that, at least around the time 401(k)’s initially became available, people were unlikely to be basing their employment decisions on whether an employer offered a 401(k) but would instead focus on income and other aspects of the job. "
   ]
  },
  {
   "cell_type": "markdown",
   "id": "divine-phoenix",
   "metadata": {
    "papermill": {
     "duration": 0.036497,
     "end_time": "2021-03-24T14:13:51.229370",
     "exception": false,
     "start_time": "2021-03-24T14:13:51.192873",
     "status": "completed"
    },
    "tags": []
   },
   "source": [
    "### Data\n",
    "\n",
    "The data set can be loaded from the `hdm` package for R by typing\n",
    "\n"
   ]
  },
  {
   "cell_type": "code",
   "execution_count": 54,
   "id": "concerned-continent",
   "metadata": {
    "execution": {
     "iopub.execute_input": "2021-03-24T14:13:51.310176Z",
     "iopub.status.busy": "2021-03-24T14:13:51.307949Z",
     "iopub.status.idle": "2021-03-24T14:13:51.748234Z",
     "shell.execute_reply": "2021-03-24T14:13:51.746925Z"
    },
    "papermill": {
     "duration": 0.481645,
     "end_time": "2021-03-24T14:13:51.748472",
     "exception": false,
     "start_time": "2021-03-24T14:13:51.266827",
     "status": "completed"
    },
    "tags": []
   },
   "outputs": [
    {
     "data": {
      "text/html": [
       "<style>\n",
       ".list-inline {list-style: none; margin:0; padding: 0}\n",
       ".list-inline>li {display: inline-block}\n",
       ".list-inline>li:not(:last-child)::after {content: \"\\00b7\"; padding: 0 .5ex}\n",
       "</style>\n",
       "<ol class=list-inline><li>9915</li><li>44</li></ol>\n"
      ],
      "text/latex": [
       "\\begin{enumerate*}\n",
       "\\item 9915\n",
       "\\item 44\n",
       "\\end{enumerate*}\n"
      ],
      "text/markdown": [
       "1. 9915\n",
       "2. 44\n",
       "\n",
       "\n"
      ],
      "text/plain": [
       "[1] 9915   44"
      ]
     },
     "metadata": {},
     "output_type": "display_data"
    }
   ],
   "source": [
    "library(hdm) \n",
    "library(ggplot2)\n",
    "data(pension)\n",
    "data <- pension \n",
    "dim(data)"
   ]
  },
  {
   "cell_type": "code",
   "execution_count": 56,
   "id": "8ffa8940",
   "metadata": {},
   "outputs": [
    {
     "data": {
      "text/html": [
       "<style>\n",
       ".list-inline {list-style: none; margin:0; padding: 0}\n",
       ".list-inline>li {display: inline-block}\n",
       ".list-inline>li:not(:last-child)::after {content: \"\\00b7\"; padding: 0 .5ex}\n",
       "</style>\n",
       "<ol class=list-inline><li>9915</li><li>44</li></ol>\n"
      ],
      "text/latex": [
       "\\begin{enumerate*}\n",
       "\\item 9915\n",
       "\\item 44\n",
       "\\end{enumerate*}\n"
      ],
      "text/markdown": [
       "1. 9915\n",
       "2. 44\n",
       "\n",
       "\n"
      ],
      "text/plain": [
       "[1] 9915   44"
      ]
     },
     "metadata": {},
     "output_type": "display_data"
    }
   ],
   "source": [
    "data <- na.omit(data)\n",
    "dim(data)"
   ]
  },
  {
   "cell_type": "code",
   "execution_count": 75,
   "id": "ac6f25fe",
   "metadata": {},
   "outputs": [
    {
     "ename": "ERROR",
     "evalue": "Error in is.finite(data): default method not implemented for type 'list'\n",
     "output_type": "error",
     "traceback": [
      "Error in is.finite(data): default method not implemented for type 'list'\nTraceback:\n"
     ]
    }
   ],
   "source": [
    "is.finite(data)"
   ]
  },
  {
   "cell_type": "markdown",
   "id": "horizontal-sheffield",
   "metadata": {
    "papermill": {
     "duration": 0.036873,
     "end_time": "2021-03-24T14:13:51.825239",
     "exception": false,
     "start_time": "2021-03-24T14:13:51.788366",
     "status": "completed"
    },
    "tags": []
   },
   "source": [
    "See the \"Details\" section on the description of the data set, which can be accessed by \n"
   ]
  },
  {
   "cell_type": "code",
   "execution_count": 57,
   "id": "absolute-intersection",
   "metadata": {
    "execution": {
     "iopub.execute_input": "2021-03-24T14:13:51.935617Z",
     "iopub.status.busy": "2021-03-24T14:13:51.904912Z",
     "iopub.status.idle": "2021-03-24T14:13:52.174424Z",
     "shell.execute_reply": "2021-03-24T14:13:52.173701Z"
    },
    "papermill": {
     "duration": 0.311328,
     "end_time": "2021-03-24T14:13:52.174594",
     "exception": false,
     "start_time": "2021-03-24T14:13:51.863266",
     "status": "completed"
    },
    "tags": []
   },
   "outputs": [],
   "source": [
    "help(pension)"
   ]
  },
  {
   "cell_type": "markdown",
   "id": "looking-invention",
   "metadata": {
    "papermill": {
     "duration": 0.037509,
     "end_time": "2021-03-24T14:13:52.250583",
     "exception": false,
     "start_time": "2021-03-24T14:13:52.213074",
     "status": "completed"
    },
    "tags": []
   },
   "source": [
    "The data consist of 9,915 observations at the household level drawn from the 1991 Survey of Income and Program Participation (SIPP).  All the variables are referred to 1990. We use net financial assets (*net\\_tfa*) as the outcome variable, $Y$,  in our analysis. The net financial assets are computed as the sum of IRA balances, 401(k) balances, checking accounts, saving bonds, other interest-earning accounts, other interest-earning assets, stocks, and mutual funds less non mortgage debts. "
   ]
  },
  {
   "cell_type": "markdown",
   "id": "received-nutrition",
   "metadata": {
    "papermill": {
     "duration": 0.038843,
     "end_time": "2021-03-24T14:13:52.327055",
     "exception": false,
     "start_time": "2021-03-24T14:13:52.288212",
     "status": "completed"
    },
    "tags": []
   },
   "source": [
    "Among the $9915$ individuals, $3682$ are eligible to participate in the program. The variable *e401* indicates eligibility and *p401* indicates participation, respectively."
   ]
  },
  {
   "cell_type": "code",
   "execution_count": 58,
   "id": "continuing-composite",
   "metadata": {
    "execution": {
     "iopub.execute_input": "2021-03-24T14:13:52.409601Z",
     "iopub.status.busy": "2021-03-24T14:13:52.408680Z",
     "iopub.status.idle": "2021-03-24T14:13:53.355367Z",
     "shell.execute_reply": "2021-03-24T14:13:53.353884Z"
    },
    "papermill": {
     "duration": 0.991238,
     "end_time": "2021-03-24T14:13:53.355568",
     "exception": false,
     "start_time": "2021-03-24T14:13:52.364330",
     "status": "completed"
    },
    "tags": []
   },
   "outputs": [
    {
     "data": {
      "image/png": "[encoded data removed]",
      "text/plain": [
       "plot without title"
      ]
     },
     "metadata": {
      "image/png": {
       "height": 420,
       "width": 420
      }
     },
     "output_type": "display_data"
    }
   ],
   "source": [
    "hist_e401 = ggplot(data, aes(x = e401, fill = factor(e401))) + geom_bar()\n",
    "hist_e401"
   ]
  },
  {
   "cell_type": "markdown",
   "id": "material-sending",
   "metadata": {
    "papermill": {
     "duration": 0.039406,
     "end_time": "2021-03-24T14:13:53.435306",
     "exception": false,
     "start_time": "2021-03-24T14:13:53.395900",
     "status": "completed"
    },
    "tags": []
   },
   "source": [
    "Eligibility is highly associated with financial wealth:"
   ]
  },
  {
   "cell_type": "code",
   "execution_count": 59,
   "id": "legislative-patrol",
   "metadata": {
    "execution": {
     "iopub.execute_input": "2021-03-24T14:13:53.522787Z",
     "iopub.status.busy": "2021-03-24T14:13:53.520875Z",
     "iopub.status.idle": "2021-03-24T14:13:54.163627Z",
     "shell.execute_reply": "2021-03-24T14:13:54.162037Z"
    },
    "papermill": {
     "duration": 0.688917,
     "end_time": "2021-03-24T14:13:54.163799",
     "exception": false,
     "start_time": "2021-03-24T14:13:53.474882",
     "status": "completed"
    },
    "tags": []
   },
   "outputs": [
    {
     "name": "stderr",
     "output_type": "stream",
     "text": [
      "Warning message:\n",
      "\"Removed 340 rows containing non-finite values (stat_density).\"\n"
     ]
    },
    {
     "data": {
      "image/png": "[encoded data removed]",
      "text/plain": [
       "plot without title"
      ]
     },
     "metadata": {
      "image/png": {
       "height": 420,
       "width": 420
      }
     },
     "output_type": "display_data"
    }
   ],
   "source": [
    "dens_net_tfa = ggplot(data, aes(x = net_tfa, color = factor(e401), fill = factor(e401)) ) + \n",
    "                    geom_density() + xlim(c(-20000, 150000)) + \n",
    "                    facet_wrap(.~e401) \n",
    "                    \n",
    "dens_net_tfa"
   ]
  },
  {
   "cell_type": "markdown",
   "id": "awful-antigua",
   "metadata": {
    "papermill": {
     "duration": 0.040645,
     "end_time": "2021-03-24T14:13:54.245822",
     "exception": false,
     "start_time": "2021-03-24T14:13:54.205177",
     "status": "completed"
    },
    "tags": []
   },
   "source": [
    "The unconditional APE of e401 is about $19559$:"
   ]
  },
  {
   "cell_type": "code",
   "execution_count": 60,
   "id": "interesting-jones",
   "metadata": {
    "execution": {
     "iopub.execute_input": "2021-03-24T14:13:54.332250Z",
     "iopub.status.busy": "2021-03-24T14:13:54.330777Z",
     "iopub.status.idle": "2021-03-24T14:13:54.354476Z",
     "shell.execute_reply": "2021-03-24T14:13:54.352982Z"
    },
    "papermill": {
     "duration": 0.068689,
     "end_time": "2021-03-24T14:13:54.354643",
     "exception": false,
     "start_time": "2021-03-24T14:13:54.285954",
     "status": "completed"
    },
    "tags": []
   },
   "outputs": [
    {
     "data": {
      "text/html": [
       "19559"
      ],
      "text/latex": [
       "19559"
      ],
      "text/markdown": [
       "19559"
      ],
      "text/plain": [
       "[1] 19559"
      ]
     },
     "metadata": {},
     "output_type": "display_data"
    }
   ],
   "source": [
    "e1 <- data[data$e401==1,]\n",
    "e0 <- data[data$e401==0,]\n",
    "round(mean(e1$net_tfa)-mean(e0$net_tfa),0)"
   ]
  },
  {
   "cell_type": "markdown",
   "id": "cross-priority",
   "metadata": {
    "papermill": {
     "duration": 0.041187,
     "end_time": "2021-03-24T14:13:54.437695",
     "exception": false,
     "start_time": "2021-03-24T14:13:54.396508",
     "status": "completed"
    },
    "tags": []
   },
   "source": [
    "Among the $3682$ individuals that  are eligible, $2594$ decided to participate in the program. The unconditional APE of p401 is about $27372$:"
   ]
  },
  {
   "cell_type": "code",
   "execution_count": 61,
   "id": "organized-radius",
   "metadata": {
    "execution": {
     "iopub.execute_input": "2021-03-24T14:13:54.528739Z",
     "iopub.status.busy": "2021-03-24T14:13:54.526722Z",
     "iopub.status.idle": "2021-03-24T14:13:54.557004Z",
     "shell.execute_reply": "2021-03-24T14:13:54.554832Z"
    },
    "papermill": {
     "duration": 0.078062,
     "end_time": "2021-03-24T14:13:54.557173",
     "exception": false,
     "start_time": "2021-03-24T14:13:54.479111",
     "status": "completed"
    },
    "tags": []
   },
   "outputs": [
    {
     "data": {
      "text/html": [
       "27372"
      ],
      "text/latex": [
       "27372"
      ],
      "text/markdown": [
       "27372"
      ],
      "text/plain": [
       "[1] 27372"
      ]
     },
     "metadata": {},
     "output_type": "display_data"
    }
   ],
   "source": [
    "p1 <- data[data$p401==1,]\n",
    "p0 <- data[data$p401==0,]\n",
    "round(mean(p1$net_tfa)-mean(p0$net_tfa),0)"
   ]
  },
  {
   "cell_type": "markdown",
   "id": "suitable-vulnerability",
   "metadata": {
    "papermill": {
     "duration": 0.041678,
     "end_time": "2021-03-24T14:13:54.640532",
     "exception": false,
     "start_time": "2021-03-24T14:13:54.598854",
     "status": "completed"
    },
    "tags": []
   },
   "source": [
    "As discussed, these estimates are biased since they do not account for saver heterogeneity and endogeneity of participation."
   ]
  },
  {
   "cell_type": "markdown",
   "id": "balanced-damages",
   "metadata": {
    "papermill": {
     "duration": 0.041283,
     "end_time": "2021-03-24T14:13:54.723664",
     "exception": false,
     "start_time": "2021-03-24T14:13:54.682381",
     "status": "completed"
    },
    "tags": []
   },
   "source": [
    "## Double ML package"
   ]
  },
  {
   "cell_type": "markdown",
   "id": "recent-southwest",
   "metadata": {
    "papermill": {
     "duration": 0.041034,
     "end_time": "2021-03-24T14:13:54.806271",
     "exception": false,
     "start_time": "2021-03-24T14:13:54.765237",
     "status": "completed"
    },
    "tags": []
   },
   "source": [
    "We are interested in valid estimators of the average treatment effect of `e401` and `p401` on `net_tfa`. To get those estimators, we use the `DoubleML` package that internally builds on mlr3. You find additional information on the package on the package website https://docs.doubleml.org/ and the R documentation page https://docs.doubleml.org/r/stable/. "
   ]
  },
  {
   "cell_type": "code",
   "execution_count": 62,
   "id": "popular-matrix",
   "metadata": {
    "execution": {
     "iopub.execute_input": "2021-03-24T14:13:54.895058Z",
     "iopub.status.busy": "2021-03-24T14:13:54.893837Z",
     "iopub.status.idle": "2021-03-24T14:16:45.447127Z",
     "shell.execute_reply": "2021-03-24T14:16:45.445798Z"
    },
    "papermill": {
     "duration": 170.599415,
     "end_time": "2021-03-24T14:16:45.447305",
     "exception": false,
     "start_time": "2021-03-24T14:13:54.847890",
     "status": "completed"
    },
    "tags": []
   },
   "outputs": [],
   "source": [
    "# installing Double ML\n",
    "remotes::install_github(\"DoubleML/doubleml-for-r\",quiet=TRUE)\n",
    "\n",
    "\n",
    "# loading the packages\n",
    "library(DoubleML)\n",
    "library(mlr3learners)\n",
    "library(mlr3)\n",
    "library(data.table)\n",
    "library(randomForest)\n"
   ]
  },
  {
   "cell_type": "markdown",
   "id": "empirical-basics",
   "metadata": {
    "papermill": {
     "duration": 0.045129,
     "end_time": "2021-03-24T14:16:45.537784",
     "exception": false,
     "start_time": "2021-03-24T14:16:45.492655",
     "status": "completed"
    },
    "tags": []
   },
   "source": [
    "As mentioned, in the tutorial we use the meta package `mlr3` to generate predictions with machine learning methods. A comprehensive introduction and description of the `mlr3` package is provided in the [mlr3book](https://mlr3book.mlr-org.com/). A list of all learners that you can use in `mlr3` can be found [here](https://mlr3extralearners.mlr-org.com/articles/learners/list_learners.html). The entry in the columns *mlr3 Package* and *Packages* indicate which packages must be installed/loaded in your R session. "
   ]
  },
  {
   "cell_type": "markdown",
   "id": "other-leader",
   "metadata": {
    "papermill": {
     "duration": 0.044769,
     "end_time": "2021-03-24T14:16:45.625738",
     "exception": false,
     "start_time": "2021-03-24T14:16:45.580969",
     "status": "completed"
    },
    "tags": []
   },
   "source": [
    "## Estimating the ATE of 401(k) Eligibility on Net Financial Assets"
   ]
  },
  {
   "cell_type": "markdown",
   "id": "reliable-solid",
   "metadata": {
    "papermill": {
     "duration": 0.043232,
     "end_time": "2021-03-24T14:16:45.711972",
     "exception": false,
     "start_time": "2021-03-24T14:16:45.668740",
     "status": "completed"
    },
    "tags": []
   },
   "source": [
    "We first look at the treatment effect of e401 on net total financial assets. We give estimates of the ATE and ATT that corresponds to the linear model\n",
    "\n",
    "\\begin{equation*}\n",
    "Y = D \\alpha + f(X)'\\beta+ \\epsilon,\n",
    "\\end{equation*}\n",
    "\n",
    "where $f(X)$ includes indicators of marital status, two-earner status, defined benefit pension status, IRA participation status, and home ownership status, and  orthogonal polynomials of degrees 2, 4, 6 and 8 in family size, education, age and  income, respectively. The dimensions of $f(X)$ is 25. \n",
    "\n",
    "In the first step, we report estimates of the average treatment effect (ATE) of 401(k) eligibility on net financial assets both in the partially linear regression (PLR) model and in the interactive regression model (IRM) allowing for heterogeneous treatment effects. \n"
   ]
  },
  {
   "cell_type": "code",
   "execution_count": 63,
   "id": "directed-discovery",
   "metadata": {
    "execution": {
     "iopub.execute_input": "2021-03-24T14:16:45.807182Z",
     "iopub.status.busy": "2021-03-24T14:16:45.805836Z",
     "iopub.status.idle": "2021-03-24T14:16:46.084153Z",
     "shell.execute_reply": "2021-03-24T14:16:46.082149Z"
    },
    "papermill": {
     "duration": 0.328447,
     "end_time": "2021-03-24T14:16:46.084312",
     "exception": false,
     "start_time": "2021-03-24T14:16:45.755865",
     "status": "completed"
    },
    "tags": []
   },
   "outputs": [
    {
     "data": {
      "text/html": [
       "25"
      ],
      "text/latex": [
       "25"
      ],
      "text/markdown": [
       "25"
      ],
      "text/plain": [
       "[1] 25"
      ]
     },
     "metadata": {},
     "output_type": "display_data"
    }
   ],
   "source": [
    "# Constructing the data (as DoubleMLData)\n",
    "formula_flex = \"net_tfa ~ e401 + poly(age, 6, raw=TRUE) + poly(inc, 8, raw=TRUE) + poly(educ, 4, raw=TRUE) + poly(fsize, 2, raw=TRUE) + marr + twoearn + db + pira + hown\"\n",
    "model_flex = as.data.table(model.frame(formula_flex, pension))\n",
    "x_cols = colnames(model_flex)[-c(1,2)]\n",
    "data_ml = DoubleMLData$new(model_flex, y_col = \"net_tfa\", d_cols = \"e401\", x_cols=x_cols)\n",
    "\n",
    "\n",
    "p <- dim(model_flex)[2]-2\n",
    "p\n",
    "\n",
    "# complex model with two-way interactions\n",
    "#data_interactions = fetch_401k(polynomial_features = TRUE, instrument = FALSE)\n"
   ]
  },
  {
   "cell_type": "code",
   "execution_count": 81,
   "id": "e3d4e4c0",
   "metadata": {},
   "outputs": [
    {
     "data": {
      "text/html": [
       "<table class=\"dataframe\">\n",
       "<caption>A data.table: 9915 × 27</caption>\n",
       "<thead>\n",
       "\t<tr><th scope=col>net_tfa</th><th scope=col>e401</th><th scope=col>poly.age..6..raw...TRUE..1</th><th scope=col>poly.age..6..raw...TRUE..2</th><th scope=col>poly.age..6..raw...TRUE..3</th><th scope=col>poly.age..6..raw...TRUE..4</th><th scope=col>poly.age..6..raw...TRUE..5</th><th scope=col>poly.age..6..raw...TRUE..6</th><th scope=col>poly.inc..8..raw...TRUE..1</th><th scope=col>poly.inc..8..raw...TRUE..2</th><th scope=col>...</th><th scope=col>poly.educ..4..raw...TRUE..2</th><th scope=col>poly.educ..4..raw...TRUE..3</th><th scope=col>poly.educ..4..raw...TRUE..4</th><th scope=col>poly.fsize..2..raw...TRUE..1</th><th scope=col>poly.fsize..2..raw...TRUE..2</th><th scope=col>marr</th><th scope=col>twoearn</th><th scope=col>db</th><th scope=col>pira</th><th scope=col>hown</th></tr>\n",
       "\t<tr><th scope=col>&lt;int&gt;</th><th scope=col>&lt;int&gt;</th><th scope=col>&lt;dbl&gt;</th><th scope=col>&lt;dbl&gt;</th><th scope=col>&lt;dbl&gt;</th><th scope=col>&lt;dbl&gt;</th><th scope=col>&lt;dbl&gt;</th><th scope=col>&lt;dbl&gt;</th><th scope=col>&lt;dbl&gt;</th><th scope=col>&lt;dbl&gt;</th><th scope=col>...</th><th scope=col>&lt;dbl&gt;</th><th scope=col>&lt;dbl&gt;</th><th scope=col>&lt;dbl&gt;</th><th scope=col>&lt;dbl&gt;</th><th scope=col>&lt;dbl&gt;</th><th scope=col>&lt;int&gt;</th><th scope=col>&lt;int&gt;</th><th scope=col>&lt;int&gt;</th><th scope=col>&lt;int&gt;</th><th scope=col>&lt;dbl&gt;</th></tr>\n",
       "</thead>\n",
       "<tbody>\n",
       "\t<tr><td> -3300</td><td>0</td><td>31</td><td> 961</td><td> 29791</td><td>  923521</td><td> 28629151</td><td>  887503681</td><td>28146</td><td> 792197316</td><td>...</td><td>144</td><td>1728</td><td> 20736</td><td>5</td><td>25</td><td>1</td><td>0</td><td>0</td><td>0</td><td>1</td></tr>\n",
       "\t<tr><td> 61010</td><td>0</td><td>52</td><td>2704</td><td>140608</td><td> 7311616</td><td>380204032</td><td>19770609664</td><td>32634</td><td>1064977956</td><td>...</td><td>256</td><td>4096</td><td> 65536</td><td>5</td><td>25</td><td>0</td><td>0</td><td>0</td><td>0</td><td>1</td></tr>\n",
       "\t<tr><td>  8849</td><td>0</td><td>50</td><td>2500</td><td>125000</td><td> 6250000</td><td>312500000</td><td>15625000000</td><td>52206</td><td>2725466436</td><td>...</td><td>121</td><td>1331</td><td> 14641</td><td>3</td><td> 9</td><td>1</td><td>1</td><td>0</td><td>1</td><td>1</td></tr>\n",
       "\t<tr><td> -6013</td><td>0</td><td>28</td><td> 784</td><td> 21952</td><td>  614656</td><td> 17210368</td><td>  481890304</td><td>45252</td><td>2047743504</td><td>...</td><td>225</td><td>3375</td><td> 50625</td><td>4</td><td>16</td><td>1</td><td>1</td><td>0</td><td>0</td><td>0</td></tr>\n",
       "\t<tr><td> -2375</td><td>0</td><td>42</td><td>1764</td><td> 74088</td><td> 3111696</td><td>130691232</td><td> 5489031744</td><td>33126</td><td>1097331876</td><td>...</td><td>144</td><td>1728</td><td> 20736</td><td>3</td><td> 9</td><td>0</td><td>0</td><td>1</td><td>0</td><td>1</td></tr>\n",
       "\t<tr><td>-11000</td><td>0</td><td>49</td><td>2401</td><td>117649</td><td> 5764801</td><td>282475249</td><td>13841287201</td><td>76860</td><td>5907459600</td><td>...</td><td>225</td><td>3375</td><td> 50625</td><td>6</td><td>36</td><td>1</td><td>1</td><td>1</td><td>0</td><td>1</td></tr>\n",
       "\t<tr><td>-16901</td><td>0</td><td>40</td><td>1600</td><td> 64000</td><td> 2560000</td><td>102400000</td><td> 4096000000</td><td>57477</td><td>3303605529</td><td>...</td><td>289</td><td>4913</td><td> 83521</td><td>4</td><td>16</td><td>1</td><td>1</td><td>1</td><td>0</td><td>1</td></tr>\n",
       "\t<tr><td>  1000</td><td>0</td><td>58</td><td>3364</td><td>195112</td><td>11316496</td><td>656356768</td><td>38068692544</td><td>14637</td><td> 214241769</td><td>...</td><td>196</td><td>2744</td><td> 38416</td><td>1</td><td> 1</td><td>0</td><td>0</td><td>0</td><td>0</td><td>0</td></tr>\n",
       "\t<tr><td>     0</td><td>0</td><td>29</td><td> 841</td><td> 24389</td><td>  707281</td><td> 20511149</td><td>  594823321</td><td> 6573</td><td>  43204329</td><td>...</td><td>144</td><td>1728</td><td> 20736</td><td>4</td><td>16</td><td>0</td><td>0</td><td>0</td><td>0</td><td>0</td></tr>\n",
       "\t<tr><td>  6400</td><td>0</td><td>50</td><td>2500</td><td>125000</td><td> 6250000</td><td>312500000</td><td>15625000000</td><td> 5766</td><td>  33246756</td><td>...</td><td>196</td><td>2744</td><td> 38416</td><td>1</td><td> 1</td><td>0</td><td>0</td><td>0</td><td>1</td><td>0</td></tr>\n",
       "\t<tr><td> 24900</td><td>0</td><td>45</td><td>2025</td><td> 91125</td><td> 4100625</td><td>184528125</td><td> 8303765625</td><td>43239</td><td>1869611121</td><td>...</td><td>144</td><td>1728</td><td> 20736</td><td>1</td><td> 1</td><td>0</td><td>0</td><td>1</td><td>1</td><td>1</td></tr>\n",
       "\t<tr><td>  -675</td><td>0</td><td>25</td><td> 625</td><td> 15625</td><td>  390625</td><td>  9765625</td><td>  244140625</td><td>40323</td><td>1625944329</td><td>...</td><td>144</td><td>1728</td><td> 20736</td><td>3</td><td> 9</td><td>1</td><td>1</td><td>0</td><td>0</td><td>0</td></tr>\n",
       "\t<tr><td>  -400</td><td>0</td><td>30</td><td> 900</td><td> 27000</td><td>  810000</td><td> 24300000</td><td>  729000000</td><td>30000</td><td> 900000000</td><td>...</td><td>196</td><td>2744</td><td> 38416</td><td>2</td><td> 4</td><td>1</td><td>0</td><td>0</td><td>0</td><td>0</td></tr>\n",
       "\t<tr><td>   -83</td><td>0</td><td>27</td><td> 729</td><td> 19683</td><td>  531441</td><td> 14348907</td><td>  387420489</td><td> 9612</td><td>  92390544</td><td>...</td><td>289</td><td>4913</td><td> 83521</td><td>1</td><td> 1</td><td>0</td><td>0</td><td>0</td><td>0</td><td>0</td></tr>\n",
       "\t<tr><td> 35400</td><td>0</td><td>42</td><td>1764</td><td> 74088</td><td> 3111696</td><td>130691232</td><td> 5489031744</td><td>85086</td><td>7239627396</td><td>...</td><td>144</td><td>1728</td><td> 20736</td><td>4</td><td>16</td><td>1</td><td>1</td><td>0</td><td>1</td><td>1</td></tr>\n",
       "\t<tr><td>  -100</td><td>0</td><td>35</td><td>1225</td><td> 42875</td><td> 1500625</td><td> 52521875</td><td> 1838265625</td><td>32208</td><td>1037355264</td><td>...</td><td>169</td><td>2197</td><td> 28561</td><td>2</td><td> 4</td><td>1</td><td>1</td><td>0</td><td>0</td><td>0</td></tr>\n",
       "\t<tr><td> 62300</td><td>0</td><td>35</td><td>1225</td><td> 42875</td><td> 1500625</td><td> 52521875</td><td> 1838265625</td><td>63525</td><td>4035425625</td><td>...</td><td>324</td><td>5832</td><td>104976</td><td>1</td><td> 1</td><td>0</td><td>0</td><td>0</td><td>1</td><td>0</td></tr>\n",
       "\t<tr><td> -3888</td><td>0</td><td>41</td><td>1681</td><td> 68921</td><td> 2825761</td><td>115856201</td><td> 4750104241</td><td>31896</td><td>1017354816</td><td>...</td><td>144</td><td>1728</td><td> 20736</td><td>5</td><td>25</td><td>1</td><td>0</td><td>0</td><td>0</td><td>0</td></tr>\n",
       "\t<tr><td>    20</td><td>0</td><td>53</td><td>2809</td><td>148877</td><td> 7890481</td><td>418195493</td><td>22164361129</td><td> 9744</td><td>  94945536</td><td>...</td><td>144</td><td>1728</td><td> 20736</td><td>1</td><td> 1</td><td>1</td><td>0</td><td>0</td><td>0</td><td>0</td></tr>\n",
       "\t<tr><td>  3098</td><td>0</td><td>62</td><td>3844</td><td>238328</td><td>14776336</td><td>916132832</td><td>56800235584</td><td>74589</td><td>5563518921</td><td>...</td><td>256</td><td>4096</td><td> 65536</td><td>3</td><td> 9</td><td>1</td><td>0</td><td>1</td><td>0</td><td>1</td></tr>\n",
       "\t<tr><td>   205</td><td>0</td><td>45</td><td>2025</td><td> 91125</td><td> 4100625</td><td>184528125</td><td> 8303765625</td><td>38148</td><td>1455269904</td><td>...</td><td>121</td><td>1331</td><td> 14641</td><td>1</td><td> 1</td><td>0</td><td>0</td><td>0</td><td>0</td><td>0</td></tr>\n",
       "\t<tr><td>  2863</td><td>0</td><td>56</td><td>3136</td><td>175616</td><td> 9834496</td><td>550731776</td><td>30840979456</td><td>16290</td><td> 265364100</td><td>...</td><td>144</td><td>1728</td><td> 20736</td><td>1</td><td> 1</td><td>0</td><td>0</td><td>0</td><td>0</td><td>0</td></tr>\n",
       "\t<tr><td>     0</td><td>0</td><td>31</td><td> 961</td><td> 29791</td><td>  923521</td><td> 28629151</td><td>  887503681</td><td>11340</td><td> 128595600</td><td>...</td><td>144</td><td>1728</td><td> 20736</td><td>1</td><td> 1</td><td>0</td><td>0</td><td>0</td><td>0</td><td>0</td></tr>\n",
       "\t<tr><td> -2171</td><td>0</td><td>31</td><td> 961</td><td> 29791</td><td>  923521</td><td> 28629151</td><td>  887503681</td><td>26175</td><td> 685130625</td><td>...</td><td>169</td><td>2197</td><td> 28561</td><td>5</td><td>25</td><td>1</td><td>1</td><td>0</td><td>0</td><td>0</td></tr>\n",
       "\t<tr><td>360413</td><td>0</td><td>63</td><td>3969</td><td>250047</td><td>15752961</td><td>992436543</td><td>62523502209</td><td>71535</td><td>5117256225</td><td>...</td><td>324</td><td>5832</td><td>104976</td><td>2</td><td> 4</td><td>1</td><td>0</td><td>0</td><td>1</td><td>1</td></tr>\n",
       "\t<tr><td>   499</td><td>0</td><td>56</td><td>3136</td><td>175616</td><td> 9834496</td><td>550731776</td><td>30840979456</td><td>21678</td><td> 469935684</td><td>...</td><td>169</td><td>2197</td><td> 28561</td><td>1</td><td> 1</td><td>0</td><td>0</td><td>1</td><td>0</td><td>1</td></tr>\n",
       "\t<tr><td> -1300</td><td>0</td><td>52</td><td>2704</td><td>140608</td><td> 7311616</td><td>380204032</td><td>19770609664</td><td>27360</td><td> 748569600</td><td>...</td><td>169</td><td>2197</td><td> 28561</td><td>4</td><td>16</td><td>1</td><td>0</td><td>0</td><td>0</td><td>1</td></tr>\n",
       "\t<tr><td> -1700</td><td>0</td><td>58</td><td>3364</td><td>195112</td><td>11316496</td><td>656356768</td><td>38068692544</td><td>29724</td><td> 883516176</td><td>...</td><td>144</td><td>1728</td><td> 20736</td><td>3</td><td> 9</td><td>1</td><td>1</td><td>1</td><td>0</td><td>1</td></tr>\n",
       "\t<tr><td> 53698</td><td>0</td><td>42</td><td>1764</td><td> 74088</td><td> 3111696</td><td>130691232</td><td> 5489031744</td><td>42084</td><td>1771063056</td><td>...</td><td>256</td><td>4096</td><td> 65536</td><td>1</td><td> 1</td><td>0</td><td>0</td><td>1</td><td>0</td><td>1</td></tr>\n",
       "\t<tr><td> 26000</td><td>0</td><td>35</td><td>1225</td><td> 42875</td><td> 1500625</td><td> 52521875</td><td> 1838265625</td><td>71340</td><td>5089395600</td><td>...</td><td>196</td><td>2744</td><td> 38416</td><td>2</td><td> 4</td><td>1</td><td>1</td><td>0</td><td>1</td><td>1</td></tr>\n",
       "\t<tr><td>...</td><td>...</td><td>...</td><td>...</td><td>...</td><td>...</td><td>...</td><td>...</td><td>...</td><td>...</td><td></td><td>...</td><td>...</td><td>...</td><td>...</td><td>...</td><td>...</td><td>...</td><td>...</td><td>...</td><td>...</td></tr>\n",
       "\t<tr><td>  1000</td><td>1</td><td>31</td><td> 961</td><td> 29791</td><td>  923521</td><td> 28629151</td><td>  887503681</td><td>35586</td><td>1266363396</td><td>...</td><td>144</td><td>1728</td><td> 20736</td><td>3</td><td> 9</td><td>1</td><td>1</td><td>0</td><td>0</td><td>1</td></tr>\n",
       "\t<tr><td>  -500</td><td>1</td><td>40</td><td>1600</td><td> 64000</td><td> 2560000</td><td>102400000</td><td> 4096000000</td><td>24927</td><td> 621355329</td><td>...</td><td>256</td><td>4096</td><td> 65536</td><td>4</td><td>16</td><td>1</td><td>0</td><td>1</td><td>0</td><td>0</td></tr>\n",
       "\t<tr><td> 22610</td><td>1</td><td>37</td><td>1369</td><td> 50653</td><td> 1874161</td><td> 69343957</td><td> 2565726409</td><td>65667</td><td>4312154889</td><td>...</td><td>144</td><td>1728</td><td> 20736</td><td>4</td><td>16</td><td>1</td><td>1</td><td>0</td><td>1</td><td>0</td></tr>\n",
       "\t<tr><td>110350</td><td>1</td><td>50</td><td>2500</td><td>125000</td><td> 6250000</td><td>312500000</td><td>15625000000</td><td>99084</td><td>9817639056</td><td>...</td><td>196</td><td>2744</td><td> 38416</td><td>2</td><td> 4</td><td>1</td><td>1</td><td>1</td><td>1</td><td>1</td></tr>\n",
       "\t<tr><td> -3500</td><td>1</td><td>31</td><td> 961</td><td> 29791</td><td>  923521</td><td> 28629151</td><td>  887503681</td><td>29937</td><td> 896223969</td><td>...</td><td>144</td><td>1728</td><td> 20736</td><td>6</td><td>36</td><td>1</td><td>0</td><td>0</td><td>0</td><td>1</td></tr>\n",
       "\t<tr><td>  5740</td><td>1</td><td>49</td><td>2401</td><td>117649</td><td> 5764801</td><td>282475249</td><td>13841287201</td><td>26505</td><td> 702515025</td><td>...</td><td>256</td><td>4096</td><td> 65536</td><td>2</td><td> 4</td><td>0</td><td>0</td><td>1</td><td>1</td><td>1</td></tr>\n",
       "\t<tr><td> 12148</td><td>1</td><td>36</td><td>1296</td><td> 46656</td><td> 1679616</td><td> 60466176</td><td> 2176782336</td><td>58026</td><td>3367016676</td><td>...</td><td>289</td><td>4913</td><td> 83521</td><td>4</td><td>16</td><td>1</td><td>1</td><td>0</td><td>1</td><td>1</td></tr>\n",
       "\t<tr><td>-10115</td><td>1</td><td>34</td><td>1156</td><td> 39304</td><td> 1336336</td><td> 45435424</td><td> 1544804416</td><td>49200</td><td>2420640000</td><td>...</td><td>144</td><td>1728</td><td> 20736</td><td>3</td><td> 9</td><td>1</td><td>1</td><td>0</td><td>0</td><td>1</td></tr>\n",
       "\t<tr><td> -4270</td><td>1</td><td>38</td><td>1444</td><td> 54872</td><td> 2085136</td><td> 79235168</td><td> 3010936384</td><td>40488</td><td>1639278144</td><td>...</td><td>256</td><td>4096</td><td> 65536</td><td>4</td><td>16</td><td>1</td><td>0</td><td>0</td><td>0</td><td>1</td></tr>\n",
       "\t<tr><td> 14000</td><td>1</td><td>45</td><td>2025</td><td> 91125</td><td> 4100625</td><td>184528125</td><td> 8303765625</td><td>48663</td><td>2368087569</td><td>...</td><td>144</td><td>1728</td><td> 20736</td><td>4</td><td>16</td><td>1</td><td>1</td><td>0</td><td>0</td><td>1</td></tr>\n",
       "\t<tr><td>  5900</td><td>1</td><td>40</td><td>1600</td><td> 64000</td><td> 2560000</td><td>102400000</td><td> 4096000000</td><td>38376</td><td>1472717376</td><td>...</td><td>144</td><td>1728</td><td> 20736</td><td>2</td><td> 4</td><td>0</td><td>0</td><td>1</td><td>0</td><td>0</td></tr>\n",
       "\t<tr><td> 16201</td><td>1</td><td>29</td><td> 841</td><td> 24389</td><td>  707281</td><td> 20511149</td><td>  594823321</td><td>39396</td><td>1552044816</td><td>...</td><td>324</td><td>5832</td><td>104976</td><td>1</td><td> 1</td><td>0</td><td>0</td><td>0</td><td>0</td><td>1</td></tr>\n",
       "\t<tr><td>  4570</td><td>1</td><td>32</td><td>1024</td><td> 32768</td><td> 1048576</td><td> 33554432</td><td> 1073741824</td><td> 8664</td><td>  75064896</td><td>...</td><td>169</td><td>2197</td><td> 28561</td><td>2</td><td> 4</td><td>0</td><td>0</td><td>0</td><td>0</td><td>0</td></tr>\n",
       "\t<tr><td>  4412</td><td>1</td><td>36</td><td>1296</td><td> 46656</td><td> 1679616</td><td> 60466176</td><td> 2176782336</td><td>28500</td><td> 812250000</td><td>...</td><td>144</td><td>1728</td><td> 20736</td><td>3</td><td> 9</td><td>0</td><td>0</td><td>1</td><td>0</td><td>0</td></tr>\n",
       "\t<tr><td>-17201</td><td>1</td><td>36</td><td>1296</td><td> 46656</td><td> 1679616</td><td> 60466176</td><td> 2176782336</td><td>63546</td><td>4038094116</td><td>...</td><td>256</td><td>4096</td><td> 65536</td><td>5</td><td>25</td><td>1</td><td>0</td><td>0</td><td>0</td><td>1</td></tr>\n",
       "\t<tr><td>  8600</td><td>1</td><td>34</td><td>1156</td><td> 39304</td><td> 1336336</td><td> 45435424</td><td> 1544804416</td><td>70590</td><td>4982948100</td><td>...</td><td>144</td><td>1728</td><td> 20736</td><td>2</td><td> 4</td><td>1</td><td>1</td><td>0</td><td>0</td><td>1</td></tr>\n",
       "\t<tr><td> 80020</td><td>1</td><td>46</td><td>2116</td><td> 97336</td><td> 4477456</td><td>205962976</td><td> 9474296896</td><td>99372</td><td>9874794384</td><td>...</td><td>144</td><td>1728</td><td> 20736</td><td>5</td><td>25</td><td>1</td><td>0</td><td>0</td><td>1</td><td>1</td></tr>\n",
       "\t<tr><td> 16200</td><td>1</td><td>36</td><td>1296</td><td> 46656</td><td> 1679616</td><td> 60466176</td><td> 2176782336</td><td>33738</td><td>1138252644</td><td>...</td><td>144</td><td>1728</td><td> 20736</td><td>5</td><td>25</td><td>1</td><td>1</td><td>0</td><td>0</td><td>1</td></tr>\n",
       "\t<tr><td>178935</td><td>1</td><td>63</td><td>3969</td><td>250047</td><td>15752961</td><td>992436543</td><td>62523502209</td><td>38307</td><td>1467426249</td><td>...</td><td>196</td><td>2744</td><td> 38416</td><td>1</td><td> 1</td><td>0</td><td>0</td><td>0</td><td>1</td><td>1</td></tr>\n",
       "\t<tr><td> 18900</td><td>1</td><td>32</td><td>1024</td><td> 32768</td><td> 1048576</td><td> 33554432</td><td> 1073741824</td><td>49542</td><td>2454409764</td><td>...</td><td>196</td><td>2744</td><td> 38416</td><td>3</td><td> 9</td><td>1</td><td>1</td><td>0</td><td>0</td><td>1</td></tr>\n",
       "\t<tr><td> -1436</td><td>1</td><td>27</td><td> 729</td><td> 19683</td><td>  531441</td><td> 14348907</td><td>  387420489</td><td>37815</td><td>1429974225</td><td>...</td><td>144</td><td>1728</td><td> 20736</td><td>4</td><td>16</td><td>1</td><td>1</td><td>0</td><td>0</td><td>0</td></tr>\n",
       "\t<tr><td>  4500</td><td>1</td><td>42</td><td>1764</td><td> 74088</td><td> 3111696</td><td>130691232</td><td> 5489031744</td><td>16512</td><td> 272646144</td><td>...</td><td>169</td><td>2197</td><td> 28561</td><td>1</td><td> 1</td><td>0</td><td>0</td><td>0</td><td>0</td><td>1</td></tr>\n",
       "\t<tr><td> 34739</td><td>1</td><td>38</td><td>1444</td><td> 54872</td><td> 2085136</td><td> 79235168</td><td> 3010936384</td><td>17028</td><td> 289952784</td><td>...</td><td>196</td><td>2744</td><td> 38416</td><td>3</td><td> 9</td><td>1</td><td>0</td><td>0</td><td>0</td><td>1</td></tr>\n",
       "\t<tr><td>  -750</td><td>1</td><td>28</td><td> 784</td><td> 21952</td><td>  614656</td><td> 17210368</td><td>  481890304</td><td>31926</td><td>1019269476</td><td>...</td><td>144</td><td>1728</td><td> 20736</td><td>2</td><td> 4</td><td>1</td><td>1</td><td>0</td><td>0</td><td>0</td></tr>\n",
       "\t<tr><td> 40000</td><td>1</td><td>49</td><td>2401</td><td>117649</td><td> 5764801</td><td>282475249</td><td>13841287201</td><td>64215</td><td>4123566225</td><td>...</td><td>256</td><td>4096</td><td> 65536</td><td>4</td><td>16</td><td>1</td><td>1</td><td>0</td><td>1</td><td>1</td></tr>\n",
       "\t<tr><td>   172</td><td>1</td><td>34</td><td>1156</td><td> 39304</td><td> 1336336</td><td> 45435424</td><td> 1544804416</td><td>13500</td><td> 182250000</td><td>...</td><td>196</td><td>2744</td><td> 38416</td><td>1</td><td> 1</td><td>0</td><td>0</td><td>1</td><td>0</td><td>0</td></tr>\n",
       "\t<tr><td>   836</td><td>1</td><td>33</td><td>1089</td><td> 35937</td><td> 1185921</td><td> 39135393</td><td> 1291467969</td><td>39027</td><td>1523106729</td><td>...</td><td>144</td><td>1728</td><td> 20736</td><td>3</td><td> 9</td><td>1</td><td>0</td><td>1</td><td>0</td><td>1</td></tr>\n",
       "\t<tr><td>  6150</td><td>1</td><td>34</td><td>1156</td><td> 39304</td><td> 1336336</td><td> 45435424</td><td> 1544804416</td><td>62616</td><td>3920763456</td><td>...</td><td>256</td><td>4096</td><td> 65536</td><td>4</td><td>16</td><td>1</td><td>1</td><td>0</td><td>0</td><td>1</td></tr>\n",
       "\t<tr><td> 14499</td><td>1</td><td>41</td><td>1681</td><td> 68921</td><td> 2825761</td><td>115856201</td><td> 4750104241</td><td>56190</td><td>3157316100</td><td>...</td><td>324</td><td>5832</td><td>104976</td><td>3</td><td> 9</td><td>1</td><td>1</td><td>1</td><td>0</td><td>1</td></tr>\n",
       "\t<tr><td> -5400</td><td>1</td><td>28</td><td> 784</td><td> 21952</td><td>  614656</td><td> 17210368</td><td>  481890304</td><td>26205</td><td> 686702025</td><td>...</td><td>144</td><td>1728</td><td> 20736</td><td>4</td><td>16</td><td>1</td><td>1</td><td>0</td><td>0</td><td>0</td></tr>\n",
       "</tbody>\n",
       "</table>\n"
      ],
      "text/latex": [
       "A data.table: 9915 × 27\n",
       "\\begin{tabular}{lllllllllllllllllllll}\n",
       " net\\_tfa & e401 & poly.age..6..raw...TRUE..1 & poly.age..6..raw...TRUE..2 & poly.age..6..raw...TRUE..3 & poly.age..6..raw...TRUE..4 & poly.age..6..raw...TRUE..5 & poly.age..6..raw...TRUE..6 & poly.inc..8..raw...TRUE..1 & poly.inc..8..raw...TRUE..2 & ... & poly.educ..4..raw...TRUE..2 & poly.educ..4..raw...TRUE..3 & poly.educ..4..raw...TRUE..4 & poly.fsize..2..raw...TRUE..1 & poly.fsize..2..raw...TRUE..2 & marr & twoearn & db & pira & hown\\\\\n",
       " <int> & <int> & <dbl> & <dbl> & <dbl> & <dbl> & <dbl> & <dbl> & <dbl> & <dbl> & ... & <dbl> & <dbl> & <dbl> & <dbl> & <dbl> & <int> & <int> & <int> & <int> & <dbl>\\\\\n",
       "\\hline\n",
       "\t  -3300 & 0 & 31 &  961 &  29791 &   923521 &  28629151 &   887503681 & 28146 &  792197316 & ... & 144 & 1728 &  20736 & 5 & 25 & 1 & 0 & 0 & 0 & 1\\\\\n",
       "\t  61010 & 0 & 52 & 2704 & 140608 &  7311616 & 380204032 & 19770609664 & 32634 & 1064977956 & ... & 256 & 4096 &  65536 & 5 & 25 & 0 & 0 & 0 & 0 & 1\\\\\n",
       "\t   8849 & 0 & 50 & 2500 & 125000 &  6250000 & 312500000 & 15625000000 & 52206 & 2725466436 & ... & 121 & 1331 &  14641 & 3 &  9 & 1 & 1 & 0 & 1 & 1\\\\\n",
       "\t  -6013 & 0 & 28 &  784 &  21952 &   614656 &  17210368 &   481890304 & 45252 & 2047743504 & ... & 225 & 3375 &  50625 & 4 & 16 & 1 & 1 & 0 & 0 & 0\\\\\n",
       "\t  -2375 & 0 & 42 & 1764 &  74088 &  3111696 & 130691232 &  5489031744 & 33126 & 1097331876 & ... & 144 & 1728 &  20736 & 3 &  9 & 0 & 0 & 1 & 0 & 1\\\\\n",
       "\t -11000 & 0 & 49 & 2401 & 117649 &  5764801 & 282475249 & 13841287201 & 76860 & 5907459600 & ... & 225 & 3375 &  50625 & 6 & 36 & 1 & 1 & 1 & 0 & 1\\\\\n",
       "\t -16901 & 0 & 40 & 1600 &  64000 &  2560000 & 102400000 &  4096000000 & 57477 & 3303605529 & ... & 289 & 4913 &  83521 & 4 & 16 & 1 & 1 & 1 & 0 & 1\\\\\n",
       "\t   1000 & 0 & 58 & 3364 & 195112 & 11316496 & 656356768 & 38068692544 & 14637 &  214241769 & ... & 196 & 2744 &  38416 & 1 &  1 & 0 & 0 & 0 & 0 & 0\\\\\n",
       "\t      0 & 0 & 29 &  841 &  24389 &   707281 &  20511149 &   594823321 &  6573 &   43204329 & ... & 144 & 1728 &  20736 & 4 & 16 & 0 & 0 & 0 & 0 & 0\\\\\n",
       "\t   6400 & 0 & 50 & 2500 & 125000 &  6250000 & 312500000 & 15625000000 &  5766 &   33246756 & ... & 196 & 2744 &  38416 & 1 &  1 & 0 & 0 & 0 & 1 & 0\\\\\n",
       "\t  24900 & 0 & 45 & 2025 &  91125 &  4100625 & 184528125 &  8303765625 & 43239 & 1869611121 & ... & 144 & 1728 &  20736 & 1 &  1 & 0 & 0 & 1 & 1 & 1\\\\\n",
       "\t   -675 & 0 & 25 &  625 &  15625 &   390625 &   9765625 &   244140625 & 40323 & 1625944329 & ... & 144 & 1728 &  20736 & 3 &  9 & 1 & 1 & 0 & 0 & 0\\\\\n",
       "\t   -400 & 0 & 30 &  900 &  27000 &   810000 &  24300000 &   729000000 & 30000 &  900000000 & ... & 196 & 2744 &  38416 & 2 &  4 & 1 & 0 & 0 & 0 & 0\\\\\n",
       "\t    -83 & 0 & 27 &  729 &  19683 &   531441 &  14348907 &   387420489 &  9612 &   92390544 & ... & 289 & 4913 &  83521 & 1 &  1 & 0 & 0 & 0 & 0 & 0\\\\\n",
       "\t  35400 & 0 & 42 & 1764 &  74088 &  3111696 & 130691232 &  5489031744 & 85086 & 7239627396 & ... & 144 & 1728 &  20736 & 4 & 16 & 1 & 1 & 0 & 1 & 1\\\\\n",
       "\t   -100 & 0 & 35 & 1225 &  42875 &  1500625 &  52521875 &  1838265625 & 32208 & 1037355264 & ... & 169 & 2197 &  28561 & 2 &  4 & 1 & 1 & 0 & 0 & 0\\\\\n",
       "\t  62300 & 0 & 35 & 1225 &  42875 &  1500625 &  52521875 &  1838265625 & 63525 & 4035425625 & ... & 324 & 5832 & 104976 & 1 &  1 & 0 & 0 & 0 & 1 & 0\\\\\n",
       "\t  -3888 & 0 & 41 & 1681 &  68921 &  2825761 & 115856201 &  4750104241 & 31896 & 1017354816 & ... & 144 & 1728 &  20736 & 5 & 25 & 1 & 0 & 0 & 0 & 0\\\\\n",
       "\t     20 & 0 & 53 & 2809 & 148877 &  7890481 & 418195493 & 22164361129 &  9744 &   94945536 & ... & 144 & 1728 &  20736 & 1 &  1 & 1 & 0 & 0 & 0 & 0\\\\\n",
       "\t   3098 & 0 & 62 & 3844 & 238328 & 14776336 & 916132832 & 56800235584 & 74589 & 5563518921 & ... & 256 & 4096 &  65536 & 3 &  9 & 1 & 0 & 1 & 0 & 1\\\\\n",
       "\t    205 & 0 & 45 & 2025 &  91125 &  4100625 & 184528125 &  8303765625 & 38148 & 1455269904 & ... & 121 & 1331 &  14641 & 1 &  1 & 0 & 0 & 0 & 0 & 0\\\\\n",
       "\t   2863 & 0 & 56 & 3136 & 175616 &  9834496 & 550731776 & 30840979456 & 16290 &  265364100 & ... & 144 & 1728 &  20736 & 1 &  1 & 0 & 0 & 0 & 0 & 0\\\\\n",
       "\t      0 & 0 & 31 &  961 &  29791 &   923521 &  28629151 &   887503681 & 11340 &  128595600 & ... & 144 & 1728 &  20736 & 1 &  1 & 0 & 0 & 0 & 0 & 0\\\\\n",
       "\t  -2171 & 0 & 31 &  961 &  29791 &   923521 &  28629151 &   887503681 & 26175 &  685130625 & ... & 169 & 2197 &  28561 & 5 & 25 & 1 & 1 & 0 & 0 & 0\\\\\n",
       "\t 360413 & 0 & 63 & 3969 & 250047 & 15752961 & 992436543 & 62523502209 & 71535 & 5117256225 & ... & 324 & 5832 & 104976 & 2 &  4 & 1 & 0 & 0 & 1 & 1\\\\\n",
       "\t    499 & 0 & 56 & 3136 & 175616 &  9834496 & 550731776 & 30840979456 & 21678 &  469935684 & ... & 169 & 2197 &  28561 & 1 &  1 & 0 & 0 & 1 & 0 & 1\\\\\n",
       "\t  -1300 & 0 & 52 & 2704 & 140608 &  7311616 & 380204032 & 19770609664 & 27360 &  748569600 & ... & 169 & 2197 &  28561 & 4 & 16 & 1 & 0 & 0 & 0 & 1\\\\\n",
       "\t  -1700 & 0 & 58 & 3364 & 195112 & 11316496 & 656356768 & 38068692544 & 29724 &  883516176 & ... & 144 & 1728 &  20736 & 3 &  9 & 1 & 1 & 1 & 0 & 1\\\\\n",
       "\t  53698 & 0 & 42 & 1764 &  74088 &  3111696 & 130691232 &  5489031744 & 42084 & 1771063056 & ... & 256 & 4096 &  65536 & 1 &  1 & 0 & 0 & 1 & 0 & 1\\\\\n",
       "\t  26000 & 0 & 35 & 1225 &  42875 &  1500625 &  52521875 &  1838265625 & 71340 & 5089395600 & ... & 196 & 2744 &  38416 & 2 &  4 & 1 & 1 & 0 & 1 & 1\\\\\n",
       "\t ... & ... & ... & ... & ... & ... & ... & ... & ... & ... &  & ... & ... & ... & ... & ... & ... & ... & ... & ... & ...\\\\\n",
       "\t   1000 & 1 & 31 &  961 &  29791 &   923521 &  28629151 &   887503681 & 35586 & 1266363396 & ... & 144 & 1728 &  20736 & 3 &  9 & 1 & 1 & 0 & 0 & 1\\\\\n",
       "\t   -500 & 1 & 40 & 1600 &  64000 &  2560000 & 102400000 &  4096000000 & 24927 &  621355329 & ... & 256 & 4096 &  65536 & 4 & 16 & 1 & 0 & 1 & 0 & 0\\\\\n",
       "\t  22610 & 1 & 37 & 1369 &  50653 &  1874161 &  69343957 &  2565726409 & 65667 & 4312154889 & ... & 144 & 1728 &  20736 & 4 & 16 & 1 & 1 & 0 & 1 & 0\\\\\n",
       "\t 110350 & 1 & 50 & 2500 & 125000 &  6250000 & 312500000 & 15625000000 & 99084 & 9817639056 & ... & 196 & 2744 &  38416 & 2 &  4 & 1 & 1 & 1 & 1 & 1\\\\\n",
       "\t  -3500 & 1 & 31 &  961 &  29791 &   923521 &  28629151 &   887503681 & 29937 &  896223969 & ... & 144 & 1728 &  20736 & 6 & 36 & 1 & 0 & 0 & 0 & 1\\\\\n",
       "\t   5740 & 1 & 49 & 2401 & 117649 &  5764801 & 282475249 & 13841287201 & 26505 &  702515025 & ... & 256 & 4096 &  65536 & 2 &  4 & 0 & 0 & 1 & 1 & 1\\\\\n",
       "\t  12148 & 1 & 36 & 1296 &  46656 &  1679616 &  60466176 &  2176782336 & 58026 & 3367016676 & ... & 289 & 4913 &  83521 & 4 & 16 & 1 & 1 & 0 & 1 & 1\\\\\n",
       "\t -10115 & 1 & 34 & 1156 &  39304 &  1336336 &  45435424 &  1544804416 & 49200 & 2420640000 & ... & 144 & 1728 &  20736 & 3 &  9 & 1 & 1 & 0 & 0 & 1\\\\\n",
       "\t  -4270 & 1 & 38 & 1444 &  54872 &  2085136 &  79235168 &  3010936384 & 40488 & 1639278144 & ... & 256 & 4096 &  65536 & 4 & 16 & 1 & 0 & 0 & 0 & 1\\\\\n",
       "\t  14000 & 1 & 45 & 2025 &  91125 &  4100625 & 184528125 &  8303765625 & 48663 & 2368087569 & ... & 144 & 1728 &  20736 & 4 & 16 & 1 & 1 & 0 & 0 & 1\\\\\n",
       "\t   5900 & 1 & 40 & 1600 &  64000 &  2560000 & 102400000 &  4096000000 & 38376 & 1472717376 & ... & 144 & 1728 &  20736 & 2 &  4 & 0 & 0 & 1 & 0 & 0\\\\\n",
       "\t  16201 & 1 & 29 &  841 &  24389 &   707281 &  20511149 &   594823321 & 39396 & 1552044816 & ... & 324 & 5832 & 104976 & 1 &  1 & 0 & 0 & 0 & 0 & 1\\\\\n",
       "\t   4570 & 1 & 32 & 1024 &  32768 &  1048576 &  33554432 &  1073741824 &  8664 &   75064896 & ... & 169 & 2197 &  28561 & 2 &  4 & 0 & 0 & 0 & 0 & 0\\\\\n",
       "\t   4412 & 1 & 36 & 1296 &  46656 &  1679616 &  60466176 &  2176782336 & 28500 &  812250000 & ... & 144 & 1728 &  20736 & 3 &  9 & 0 & 0 & 1 & 0 & 0\\\\\n",
       "\t -17201 & 1 & 36 & 1296 &  46656 &  1679616 &  60466176 &  2176782336 & 63546 & 4038094116 & ... & 256 & 4096 &  65536 & 5 & 25 & 1 & 0 & 0 & 0 & 1\\\\\n",
       "\t   8600 & 1 & 34 & 1156 &  39304 &  1336336 &  45435424 &  1544804416 & 70590 & 4982948100 & ... & 144 & 1728 &  20736 & 2 &  4 & 1 & 1 & 0 & 0 & 1\\\\\n",
       "\t  80020 & 1 & 46 & 2116 &  97336 &  4477456 & 205962976 &  9474296896 & 99372 & 9874794384 & ... & 144 & 1728 &  20736 & 5 & 25 & 1 & 0 & 0 & 1 & 1\\\\\n",
       "\t  16200 & 1 & 36 & 1296 &  46656 &  1679616 &  60466176 &  2176782336 & 33738 & 1138252644 & ... & 144 & 1728 &  20736 & 5 & 25 & 1 & 1 & 0 & 0 & 1\\\\\n",
       "\t 178935 & 1 & 63 & 3969 & 250047 & 15752961 & 992436543 & 62523502209 & 38307 & 1467426249 & ... & 196 & 2744 &  38416 & 1 &  1 & 0 & 0 & 0 & 1 & 1\\\\\n",
       "\t  18900 & 1 & 32 & 1024 &  32768 &  1048576 &  33554432 &  1073741824 & 49542 & 2454409764 & ... & 196 & 2744 &  38416 & 3 &  9 & 1 & 1 & 0 & 0 & 1\\\\\n",
       "\t  -1436 & 1 & 27 &  729 &  19683 &   531441 &  14348907 &   387420489 & 37815 & 1429974225 & ... & 144 & 1728 &  20736 & 4 & 16 & 1 & 1 & 0 & 0 & 0\\\\\n",
       "\t   4500 & 1 & 42 & 1764 &  74088 &  3111696 & 130691232 &  5489031744 & 16512 &  272646144 & ... & 169 & 2197 &  28561 & 1 &  1 & 0 & 0 & 0 & 0 & 1\\\\\n",
       "\t  34739 & 1 & 38 & 1444 &  54872 &  2085136 &  79235168 &  3010936384 & 17028 &  289952784 & ... & 196 & 2744 &  38416 & 3 &  9 & 1 & 0 & 0 & 0 & 1\\\\\n",
       "\t   -750 & 1 & 28 &  784 &  21952 &   614656 &  17210368 &   481890304 & 31926 & 1019269476 & ... & 144 & 1728 &  20736 & 2 &  4 & 1 & 1 & 0 & 0 & 0\\\\\n",
       "\t  40000 & 1 & 49 & 2401 & 117649 &  5764801 & 282475249 & 13841287201 & 64215 & 4123566225 & ... & 256 & 4096 &  65536 & 4 & 16 & 1 & 1 & 0 & 1 & 1\\\\\n",
       "\t    172 & 1 & 34 & 1156 &  39304 &  1336336 &  45435424 &  1544804416 & 13500 &  182250000 & ... & 196 & 2744 &  38416 & 1 &  1 & 0 & 0 & 1 & 0 & 0\\\\\n",
       "\t    836 & 1 & 33 & 1089 &  35937 &  1185921 &  39135393 &  1291467969 & 39027 & 1523106729 & ... & 144 & 1728 &  20736 & 3 &  9 & 1 & 0 & 1 & 0 & 1\\\\\n",
       "\t   6150 & 1 & 34 & 1156 &  39304 &  1336336 &  45435424 &  1544804416 & 62616 & 3920763456 & ... & 256 & 4096 &  65536 & 4 & 16 & 1 & 1 & 0 & 0 & 1\\\\\n",
       "\t  14499 & 1 & 41 & 1681 &  68921 &  2825761 & 115856201 &  4750104241 & 56190 & 3157316100 & ... & 324 & 5832 & 104976 & 3 &  9 & 1 & 1 & 1 & 0 & 1\\\\\n",
       "\t  -5400 & 1 & 28 &  784 &  21952 &   614656 &  17210368 &   481890304 & 26205 &  686702025 & ... & 144 & 1728 &  20736 & 4 & 16 & 1 & 1 & 0 & 0 & 0\\\\\n",
       "\\end{tabular}\n"
      ],
      "text/markdown": [
       "\n",
       "A data.table: 9915 × 27\n",
       "\n",
       "| net_tfa &lt;int&gt; | e401 &lt;int&gt; | poly.age..6..raw...TRUE..1 &lt;dbl&gt; | poly.age..6..raw...TRUE..2 &lt;dbl&gt; | poly.age..6..raw...TRUE..3 &lt;dbl&gt; | poly.age..6..raw...TRUE..4 &lt;dbl&gt; | poly.age..6..raw...TRUE..5 &lt;dbl&gt; | poly.age..6..raw...TRUE..6 &lt;dbl&gt; | poly.inc..8..raw...TRUE..1 &lt;dbl&gt; | poly.inc..8..raw...TRUE..2 &lt;dbl&gt; | ... ... | poly.educ..4..raw...TRUE..2 &lt;dbl&gt; | poly.educ..4..raw...TRUE..3 &lt;dbl&gt; | poly.educ..4..raw...TRUE..4 &lt;dbl&gt; | poly.fsize..2..raw...TRUE..1 &lt;dbl&gt; | poly.fsize..2..raw...TRUE..2 &lt;dbl&gt; | marr &lt;int&gt; | twoearn &lt;int&gt; | db &lt;int&gt; | pira &lt;int&gt; | hown &lt;dbl&gt; |\n",
       "|---|---|---|---|---|---|---|---|---|---|---|---|---|---|---|---|---|---|---|---|---|\n",
       "|  -3300 | 0 | 31 |  961 |  29791 |   923521 |  28629151 |   887503681 | 28146 |  792197316 | ... | 144 | 1728 |  20736 | 5 | 25 | 1 | 0 | 0 | 0 | 1 |\n",
       "|  61010 | 0 | 52 | 2704 | 140608 |  7311616 | 380204032 | 19770609664 | 32634 | 1064977956 | ... | 256 | 4096 |  65536 | 5 | 25 | 0 | 0 | 0 | 0 | 1 |\n",
       "|   8849 | 0 | 50 | 2500 | 125000 |  6250000 | 312500000 | 15625000000 | 52206 | 2725466436 | ... | 121 | 1331 |  14641 | 3 |  9 | 1 | 1 | 0 | 1 | 1 |\n",
       "|  -6013 | 0 | 28 |  784 |  21952 |   614656 |  17210368 |   481890304 | 45252 | 2047743504 | ... | 225 | 3375 |  50625 | 4 | 16 | 1 | 1 | 0 | 0 | 0 |\n",
       "|  -2375 | 0 | 42 | 1764 |  74088 |  3111696 | 130691232 |  5489031744 | 33126 | 1097331876 | ... | 144 | 1728 |  20736 | 3 |  9 | 0 | 0 | 1 | 0 | 1 |\n",
       "| -11000 | 0 | 49 | 2401 | 117649 |  5764801 | 282475249 | 13841287201 | 76860 | 5907459600 | ... | 225 | 3375 |  50625 | 6 | 36 | 1 | 1 | 1 | 0 | 1 |\n",
       "| -16901 | 0 | 40 | 1600 |  64000 |  2560000 | 102400000 |  4096000000 | 57477 | 3303605529 | ... | 289 | 4913 |  83521 | 4 | 16 | 1 | 1 | 1 | 0 | 1 |\n",
       "|   1000 | 0 | 58 | 3364 | 195112 | 11316496 | 656356768 | 38068692544 | 14637 |  214241769 | ... | 196 | 2744 |  38416 | 1 |  1 | 0 | 0 | 0 | 0 | 0 |\n",
       "|      0 | 0 | 29 |  841 |  24389 |   707281 |  20511149 |   594823321 |  6573 |   43204329 | ... | 144 | 1728 |  20736 | 4 | 16 | 0 | 0 | 0 | 0 | 0 |\n",
       "|   6400 | 0 | 50 | 2500 | 125000 |  6250000 | 312500000 | 15625000000 |  5766 |   33246756 | ... | 196 | 2744 |  38416 | 1 |  1 | 0 | 0 | 0 | 1 | 0 |\n",
       "|  24900 | 0 | 45 | 2025 |  91125 |  4100625 | 184528125 |  8303765625 | 43239 | 1869611121 | ... | 144 | 1728 |  20736 | 1 |  1 | 0 | 0 | 1 | 1 | 1 |\n",
       "|   -675 | 0 | 25 |  625 |  15625 |   390625 |   9765625 |   244140625 | 40323 | 1625944329 | ... | 144 | 1728 |  20736 | 3 |  9 | 1 | 1 | 0 | 0 | 0 |\n",
       "|   -400 | 0 | 30 |  900 |  27000 |   810000 |  24300000 |   729000000 | 30000 |  900000000 | ... | 196 | 2744 |  38416 | 2 |  4 | 1 | 0 | 0 | 0 | 0 |\n",
       "|    -83 | 0 | 27 |  729 |  19683 |   531441 |  14348907 |   387420489 |  9612 |   92390544 | ... | 289 | 4913 |  83521 | 1 |  1 | 0 | 0 | 0 | 0 | 0 |\n",
       "|  35400 | 0 | 42 | 1764 |  74088 |  3111696 | 130691232 |  5489031744 | 85086 | 7239627396 | ... | 144 | 1728 |  20736 | 4 | 16 | 1 | 1 | 0 | 1 | 1 |\n",
       "|   -100 | 0 | 35 | 1225 |  42875 |  1500625 |  52521875 |  1838265625 | 32208 | 1037355264 | ... | 169 | 2197 |  28561 | 2 |  4 | 1 | 1 | 0 | 0 | 0 |\n",
       "|  62300 | 0 | 35 | 1225 |  42875 |  1500625 |  52521875 |  1838265625 | 63525 | 4035425625 | ... | 324 | 5832 | 104976 | 1 |  1 | 0 | 0 | 0 | 1 | 0 |\n",
       "|  -3888 | 0 | 41 | 1681 |  68921 |  2825761 | 115856201 |  4750104241 | 31896 | 1017354816 | ... | 144 | 1728 |  20736 | 5 | 25 | 1 | 0 | 0 | 0 | 0 |\n",
       "|     20 | 0 | 53 | 2809 | 148877 |  7890481 | 418195493 | 22164361129 |  9744 |   94945536 | ... | 144 | 1728 |  20736 | 1 |  1 | 1 | 0 | 0 | 0 | 0 |\n",
       "|   3098 | 0 | 62 | 3844 | 238328 | 14776336 | 916132832 | 56800235584 | 74589 | 5563518921 | ... | 256 | 4096 |  65536 | 3 |  9 | 1 | 0 | 1 | 0 | 1 |\n",
       "|    205 | 0 | 45 | 2025 |  91125 |  4100625 | 184528125 |  8303765625 | 38148 | 1455269904 | ... | 121 | 1331 |  14641 | 1 |  1 | 0 | 0 | 0 | 0 | 0 |\n",
       "|   2863 | 0 | 56 | 3136 | 175616 |  9834496 | 550731776 | 30840979456 | 16290 |  265364100 | ... | 144 | 1728 |  20736 | 1 |  1 | 0 | 0 | 0 | 0 | 0 |\n",
       "|      0 | 0 | 31 |  961 |  29791 |   923521 |  28629151 |   887503681 | 11340 |  128595600 | ... | 144 | 1728 |  20736 | 1 |  1 | 0 | 0 | 0 | 0 | 0 |\n",
       "|  -2171 | 0 | 31 |  961 |  29791 |   923521 |  28629151 |   887503681 | 26175 |  685130625 | ... | 169 | 2197 |  28561 | 5 | 25 | 1 | 1 | 0 | 0 | 0 |\n",
       "| 360413 | 0 | 63 | 3969 | 250047 | 15752961 | 992436543 | 62523502209 | 71535 | 5117256225 | ... | 324 | 5832 | 104976 | 2 |  4 | 1 | 0 | 0 | 1 | 1 |\n",
       "|    499 | 0 | 56 | 3136 | 175616 |  9834496 | 550731776 | 30840979456 | 21678 |  469935684 | ... | 169 | 2197 |  28561 | 1 |  1 | 0 | 0 | 1 | 0 | 1 |\n",
       "|  -1300 | 0 | 52 | 2704 | 140608 |  7311616 | 380204032 | 19770609664 | 27360 |  748569600 | ... | 169 | 2197 |  28561 | 4 | 16 | 1 | 0 | 0 | 0 | 1 |\n",
       "|  -1700 | 0 | 58 | 3364 | 195112 | 11316496 | 656356768 | 38068692544 | 29724 |  883516176 | ... | 144 | 1728 |  20736 | 3 |  9 | 1 | 1 | 1 | 0 | 1 |\n",
       "|  53698 | 0 | 42 | 1764 |  74088 |  3111696 | 130691232 |  5489031744 | 42084 | 1771063056 | ... | 256 | 4096 |  65536 | 1 |  1 | 0 | 0 | 1 | 0 | 1 |\n",
       "|  26000 | 0 | 35 | 1225 |  42875 |  1500625 |  52521875 |  1838265625 | 71340 | 5089395600 | ... | 196 | 2744 |  38416 | 2 |  4 | 1 | 1 | 0 | 1 | 1 |\n",
       "| ... | ... | ... | ... | ... | ... | ... | ... | ... | ... | <!----> | ... | ... | ... | ... | ... | ... | ... | ... | ... | ... |\n",
       "|   1000 | 1 | 31 |  961 |  29791 |   923521 |  28629151 |   887503681 | 35586 | 1266363396 | ... | 144 | 1728 |  20736 | 3 |  9 | 1 | 1 | 0 | 0 | 1 |\n",
       "|   -500 | 1 | 40 | 1600 |  64000 |  2560000 | 102400000 |  4096000000 | 24927 |  621355329 | ... | 256 | 4096 |  65536 | 4 | 16 | 1 | 0 | 1 | 0 | 0 |\n",
       "|  22610 | 1 | 37 | 1369 |  50653 |  1874161 |  69343957 |  2565726409 | 65667 | 4312154889 | ... | 144 | 1728 |  20736 | 4 | 16 | 1 | 1 | 0 | 1 | 0 |\n",
       "| 110350 | 1 | 50 | 2500 | 125000 |  6250000 | 312500000 | 15625000000 | 99084 | 9817639056 | ... | 196 | 2744 |  38416 | 2 |  4 | 1 | 1 | 1 | 1 | 1 |\n",
       "|  -3500 | 1 | 31 |  961 |  29791 |   923521 |  28629151 |   887503681 | 29937 |  896223969 | ... | 144 | 1728 |  20736 | 6 | 36 | 1 | 0 | 0 | 0 | 1 |\n",
       "|   5740 | 1 | 49 | 2401 | 117649 |  5764801 | 282475249 | 13841287201 | 26505 |  702515025 | ... | 256 | 4096 |  65536 | 2 |  4 | 0 | 0 | 1 | 1 | 1 |\n",
       "|  12148 | 1 | 36 | 1296 |  46656 |  1679616 |  60466176 |  2176782336 | 58026 | 3367016676 | ... | 289 | 4913 |  83521 | 4 | 16 | 1 | 1 | 0 | 1 | 1 |\n",
       "| -10115 | 1 | 34 | 1156 |  39304 |  1336336 |  45435424 |  1544804416 | 49200 | 2420640000 | ... | 144 | 1728 |  20736 | 3 |  9 | 1 | 1 | 0 | 0 | 1 |\n",
       "|  -4270 | 1 | 38 | 1444 |  54872 |  2085136 |  79235168 |  3010936384 | 40488 | 1639278144 | ... | 256 | 4096 |  65536 | 4 | 16 | 1 | 0 | 0 | 0 | 1 |\n",
       "|  14000 | 1 | 45 | 2025 |  91125 |  4100625 | 184528125 |  8303765625 | 48663 | 2368087569 | ... | 144 | 1728 |  20736 | 4 | 16 | 1 | 1 | 0 | 0 | 1 |\n",
       "|   5900 | 1 | 40 | 1600 |  64000 |  2560000 | 102400000 |  4096000000 | 38376 | 1472717376 | ... | 144 | 1728 |  20736 | 2 |  4 | 0 | 0 | 1 | 0 | 0 |\n",
       "|  16201 | 1 | 29 |  841 |  24389 |   707281 |  20511149 |   594823321 | 39396 | 1552044816 | ... | 324 | 5832 | 104976 | 1 |  1 | 0 | 0 | 0 | 0 | 1 |\n",
       "|   4570 | 1 | 32 | 1024 |  32768 |  1048576 |  33554432 |  1073741824 |  8664 |   75064896 | ... | 169 | 2197 |  28561 | 2 |  4 | 0 | 0 | 0 | 0 | 0 |\n",
       "|   4412 | 1 | 36 | 1296 |  46656 |  1679616 |  60466176 |  2176782336 | 28500 |  812250000 | ... | 144 | 1728 |  20736 | 3 |  9 | 0 | 0 | 1 | 0 | 0 |\n",
       "| -17201 | 1 | 36 | 1296 |  46656 |  1679616 |  60466176 |  2176782336 | 63546 | 4038094116 | ... | 256 | 4096 |  65536 | 5 | 25 | 1 | 0 | 0 | 0 | 1 |\n",
       "|   8600 | 1 | 34 | 1156 |  39304 |  1336336 |  45435424 |  1544804416 | 70590 | 4982948100 | ... | 144 | 1728 |  20736 | 2 |  4 | 1 | 1 | 0 | 0 | 1 |\n",
       "|  80020 | 1 | 46 | 2116 |  97336 |  4477456 | 205962976 |  9474296896 | 99372 | 9874794384 | ... | 144 | 1728 |  20736 | 5 | 25 | 1 | 0 | 0 | 1 | 1 |\n",
       "|  16200 | 1 | 36 | 1296 |  46656 |  1679616 |  60466176 |  2176782336 | 33738 | 1138252644 | ... | 144 | 1728 |  20736 | 5 | 25 | 1 | 1 | 0 | 0 | 1 |\n",
       "| 178935 | 1 | 63 | 3969 | 250047 | 15752961 | 992436543 | 62523502209 | 38307 | 1467426249 | ... | 196 | 2744 |  38416 | 1 |  1 | 0 | 0 | 0 | 1 | 1 |\n",
       "|  18900 | 1 | 32 | 1024 |  32768 |  1048576 |  33554432 |  1073741824 | 49542 | 2454409764 | ... | 196 | 2744 |  38416 | 3 |  9 | 1 | 1 | 0 | 0 | 1 |\n",
       "|  -1436 | 1 | 27 |  729 |  19683 |   531441 |  14348907 |   387420489 | 37815 | 1429974225 | ... | 144 | 1728 |  20736 | 4 | 16 | 1 | 1 | 0 | 0 | 0 |\n",
       "|   4500 | 1 | 42 | 1764 |  74088 |  3111696 | 130691232 |  5489031744 | 16512 |  272646144 | ... | 169 | 2197 |  28561 | 1 |  1 | 0 | 0 | 0 | 0 | 1 |\n",
       "|  34739 | 1 | 38 | 1444 |  54872 |  2085136 |  79235168 |  3010936384 | 17028 |  289952784 | ... | 196 | 2744 |  38416 | 3 |  9 | 1 | 0 | 0 | 0 | 1 |\n",
       "|   -750 | 1 | 28 |  784 |  21952 |   614656 |  17210368 |   481890304 | 31926 | 1019269476 | ... | 144 | 1728 |  20736 | 2 |  4 | 1 | 1 | 0 | 0 | 0 |\n",
       "|  40000 | 1 | 49 | 2401 | 117649 |  5764801 | 282475249 | 13841287201 | 64215 | 4123566225 | ... | 256 | 4096 |  65536 | 4 | 16 | 1 | 1 | 0 | 1 | 1 |\n",
       "|    172 | 1 | 34 | 1156 |  39304 |  1336336 |  45435424 |  1544804416 | 13500 |  182250000 | ... | 196 | 2744 |  38416 | 1 |  1 | 0 | 0 | 1 | 0 | 0 |\n",
       "|    836 | 1 | 33 | 1089 |  35937 |  1185921 |  39135393 |  1291467969 | 39027 | 1523106729 | ... | 144 | 1728 |  20736 | 3 |  9 | 1 | 0 | 1 | 0 | 1 |\n",
       "|   6150 | 1 | 34 | 1156 |  39304 |  1336336 |  45435424 |  1544804416 | 62616 | 3920763456 | ... | 256 | 4096 |  65536 | 4 | 16 | 1 | 1 | 0 | 0 | 1 |\n",
       "|  14499 | 1 | 41 | 1681 |  68921 |  2825761 | 115856201 |  4750104241 | 56190 | 3157316100 | ... | 324 | 5832 | 104976 | 3 |  9 | 1 | 1 | 1 | 0 | 1 |\n",
       "|  -5400 | 1 | 28 |  784 |  21952 |   614656 |  17210368 |   481890304 | 26205 |  686702025 | ... | 144 | 1728 |  20736 | 4 | 16 | 1 | 1 | 0 | 0 | 0 |\n",
       "\n"
      ],
      "text/plain": [
       "     net_tfa e401 poly.age..6..raw...TRUE..1 poly.age..6..raw...TRUE..2\n",
       "1     -3300  0    31                          961                      \n",
       "2     61010  0    52                         2704                      \n",
       "3      8849  0    50                         2500                      \n",
       "4     -6013  0    28                          784                      \n",
       "5     -2375  0    42                         1764                      \n",
       "6    -11000  0    49                         2401                      \n",
       "7    -16901  0    40                         1600                      \n",
       "8      1000  0    58                         3364                      \n",
       "9         0  0    29                          841                      \n",
       "10     6400  0    50                         2500                      \n",
       "11    24900  0    45                         2025                      \n",
       "12     -675  0    25                          625                      \n",
       "13     -400  0    30                          900                      \n",
       "14      -83  0    27                          729                      \n",
       "15    35400  0    42                         1764                      \n",
       "16     -100  0    35                         1225                      \n",
       "17    62300  0    35                         1225                      \n",
       "18    -3888  0    41                         1681                      \n",
       "19       20  0    53                         2809                      \n",
       "20     3098  0    62                         3844                      \n",
       "21      205  0    45                         2025                      \n",
       "22     2863  0    56                         3136                      \n",
       "23        0  0    31                          961                      \n",
       "24    -2171  0    31                          961                      \n",
       "25   360413  0    63                         3969                      \n",
       "26      499  0    56                         3136                      \n",
       "27    -1300  0    52                         2704                      \n",
       "28    -1700  0    58                         3364                      \n",
       "29    53698  0    42                         1764                      \n",
       "30    26000  0    35                         1225                      \n",
       "...  ...     ...  ...                        ...                       \n",
       "9886   1000  1    31                          961                      \n",
       "9887   -500  1    40                         1600                      \n",
       "9888  22610  1    37                         1369                      \n",
       "9889 110350  1    50                         2500                      \n",
       "9890  -3500  1    31                          961                      \n",
       "9891   5740  1    49                         2401                      \n",
       "9892  12148  1    36                         1296                      \n",
       "9893 -10115  1    34                         1156                      \n",
       "9894  -4270  1    38                         1444                      \n",
       "9895  14000  1    45                         2025                      \n",
       "9896   5900  1    40                         1600                      \n",
       "9897  16201  1    29                          841                      \n",
       "9898   4570  1    32                         1024                      \n",
       "9899   4412  1    36                         1296                      \n",
       "9900 -17201  1    36                         1296                      \n",
       "9901   8600  1    34                         1156                      \n",
       "9902  80020  1    46                         2116                      \n",
       "9903  16200  1    36                         1296                      \n",
       "9904 178935  1    63                         3969                      \n",
       "9905  18900  1    32                         1024                      \n",
       "9906  -1436  1    27                          729                      \n",
       "9907   4500  1    42                         1764                      \n",
       "9908  34739  1    38                         1444                      \n",
       "9909   -750  1    28                          784                      \n",
       "9910  40000  1    49                         2401                      \n",
       "9911    172  1    34                         1156                      \n",
       "9912    836  1    33                         1089                      \n",
       "9913   6150  1    34                         1156                      \n",
       "9914  14499  1    41                         1681                      \n",
       "9915  -5400  1    28                          784                      \n",
       "     poly.age..6..raw...TRUE..3 poly.age..6..raw...TRUE..4\n",
       "1     29791                       923521                  \n",
       "2    140608                      7311616                  \n",
       "3    125000                      6250000                  \n",
       "4     21952                       614656                  \n",
       "5     74088                      3111696                  \n",
       "6    117649                      5764801                  \n",
       "7     64000                      2560000                  \n",
       "8    195112                     11316496                  \n",
       "9     24389                       707281                  \n",
       "10   125000                      6250000                  \n",
       "11    91125                      4100625                  \n",
       "12    15625                       390625                  \n",
       "13    27000                       810000                  \n",
       "14    19683                       531441                  \n",
       "15    74088                      3111696                  \n",
       "16    42875                      1500625                  \n",
       "17    42875                      1500625                  \n",
       "18    68921                      2825761                  \n",
       "19   148877                      7890481                  \n",
       "20   238328                     14776336                  \n",
       "21    91125                      4100625                  \n",
       "22   175616                      9834496                  \n",
       "23    29791                       923521                  \n",
       "24    29791                       923521                  \n",
       "25   250047                     15752961                  \n",
       "26   175616                      9834496                  \n",
       "27   140608                      7311616                  \n",
       "28   195112                     11316496                  \n",
       "29    74088                      3111696                  \n",
       "30    42875                      1500625                  \n",
       "...  ...                        ...                       \n",
       "9886  29791                       923521                  \n",
       "9887  64000                      2560000                  \n",
       "9888  50653                      1874161                  \n",
       "9889 125000                      6250000                  \n",
       "9890  29791                       923521                  \n",
       "9891 117649                      5764801                  \n",
       "9892  46656                      1679616                  \n",
       "9893  39304                      1336336                  \n",
       "9894  54872                      2085136                  \n",
       "9895  91125                      4100625                  \n",
       "9896  64000                      2560000                  \n",
       "9897  24389                       707281                  \n",
       "9898  32768                      1048576                  \n",
       "9899  46656                      1679616                  \n",
       "9900  46656                      1679616                  \n",
       "9901  39304                      1336336                  \n",
       "9902  97336                      4477456                  \n",
       "9903  46656                      1679616                  \n",
       "9904 250047                     15752961                  \n",
       "9905  32768                      1048576                  \n",
       "9906  19683                       531441                  \n",
       "9907  74088                      3111696                  \n",
       "9908  54872                      2085136                  \n",
       "9909  21952                       614656                  \n",
       "9910 117649                      5764801                  \n",
       "9911  39304                      1336336                  \n",
       "9912  35937                      1185921                  \n",
       "9913  39304                      1336336                  \n",
       "9914  68921                      2825761                  \n",
       "9915  21952                       614656                  \n",
       "     poly.age..6..raw...TRUE..5 poly.age..6..raw...TRUE..6\n",
       "1     28629151                    887503681               \n",
       "2    380204032                  19770609664               \n",
       "3    312500000                  15625000000               \n",
       "4     17210368                    481890304               \n",
       "5    130691232                   5489031744               \n",
       "6    282475249                  13841287201               \n",
       "7    102400000                   4096000000               \n",
       "8    656356768                  38068692544               \n",
       "9     20511149                    594823321               \n",
       "10   312500000                  15625000000               \n",
       "11   184528125                   8303765625               \n",
       "12     9765625                    244140625               \n",
       "13    24300000                    729000000               \n",
       "14    14348907                    387420489               \n",
       "15   130691232                   5489031744               \n",
       "16    52521875                   1838265625               \n",
       "17    52521875                   1838265625               \n",
       "18   115856201                   4750104241               \n",
       "19   418195493                  22164361129               \n",
       "20   916132832                  56800235584               \n",
       "21   184528125                   8303765625               \n",
       "22   550731776                  30840979456               \n",
       "23    28629151                    887503681               \n",
       "24    28629151                    887503681               \n",
       "25   992436543                  62523502209               \n",
       "26   550731776                  30840979456               \n",
       "27   380204032                  19770609664               \n",
       "28   656356768                  38068692544               \n",
       "29   130691232                   5489031744               \n",
       "30    52521875                   1838265625               \n",
       "...  ...                        ...                       \n",
       "9886  28629151                    887503681               \n",
       "9887 102400000                   4096000000               \n",
       "9888  69343957                   2565726409               \n",
       "9889 312500000                  15625000000               \n",
       "9890  28629151                    887503681               \n",
       "9891 282475249                  13841287201               \n",
       "9892  60466176                   2176782336               \n",
       "9893  45435424                   1544804416               \n",
       "9894  79235168                   3010936384               \n",
       "9895 184528125                   8303765625               \n",
       "9896 102400000                   4096000000               \n",
       "9897  20511149                    594823321               \n",
       "9898  33554432                   1073741824               \n",
       "9899  60466176                   2176782336               \n",
       "9900  60466176                   2176782336               \n",
       "9901  45435424                   1544804416               \n",
       "9902 205962976                   9474296896               \n",
       "9903  60466176                   2176782336               \n",
       "9904 992436543                  62523502209               \n",
       "9905  33554432                   1073741824               \n",
       "9906  14348907                    387420489               \n",
       "9907 130691232                   5489031744               \n",
       "9908  79235168                   3010936384               \n",
       "9909  17210368                    481890304               \n",
       "9910 282475249                  13841287201               \n",
       "9911  45435424                   1544804416               \n",
       "9912  39135393                   1291467969               \n",
       "9913  45435424                   1544804416               \n",
       "9914 115856201                   4750104241               \n",
       "9915  17210368                    481890304               \n",
       "     poly.inc..8..raw...TRUE..1 poly.inc..8..raw...TRUE..2 ...\n",
       "1    28146                       792197316                 ...\n",
       "2    32634                      1064977956                 ...\n",
       "3    52206                      2725466436                 ...\n",
       "4    45252                      2047743504                 ...\n",
       "5    33126                      1097331876                 ...\n",
       "6    76860                      5907459600                 ...\n",
       "7    57477                      3303605529                 ...\n",
       "8    14637                       214241769                 ...\n",
       "9     6573                        43204329                 ...\n",
       "10    5766                        33246756                 ...\n",
       "11   43239                      1869611121                 ...\n",
       "12   40323                      1625944329                 ...\n",
       "13   30000                       900000000                 ...\n",
       "14    9612                        92390544                 ...\n",
       "15   85086                      7239627396                 ...\n",
       "16   32208                      1037355264                 ...\n",
       "17   63525                      4035425625                 ...\n",
       "18   31896                      1017354816                 ...\n",
       "19    9744                        94945536                 ...\n",
       "20   74589                      5563518921                 ...\n",
       "21   38148                      1455269904                 ...\n",
       "22   16290                       265364100                 ...\n",
       "23   11340                       128595600                 ...\n",
       "24   26175                       685130625                 ...\n",
       "25   71535                      5117256225                 ...\n",
       "26   21678                       469935684                 ...\n",
       "27   27360                       748569600                 ...\n",
       "28   29724                       883516176                 ...\n",
       "29   42084                      1771063056                 ...\n",
       "30   71340                      5089395600                 ...\n",
       "...  ...                        ...                           \n",
       "9886 35586                      1266363396                 ...\n",
       "9887 24927                       621355329                 ...\n",
       "9888 65667                      4312154889                 ...\n",
       "9889 99084                      9817639056                 ...\n",
       "9890 29937                       896223969                 ...\n",
       "9891 26505                       702515025                 ...\n",
       "9892 58026                      3367016676                 ...\n",
       "9893 49200                      2420640000                 ...\n",
       "9894 40488                      1639278144                 ...\n",
       "9895 48663                      2368087569                 ...\n",
       "9896 38376                      1472717376                 ...\n",
       "9897 39396                      1552044816                 ...\n",
       "9898  8664                        75064896                 ...\n",
       "9899 28500                       812250000                 ...\n",
       "9900 63546                      4038094116                 ...\n",
       "9901 70590                      4982948100                 ...\n",
       "9902 99372                      9874794384                 ...\n",
       "9903 33738                      1138252644                 ...\n",
       "9904 38307                      1467426249                 ...\n",
       "9905 49542                      2454409764                 ...\n",
       "9906 37815                      1429974225                 ...\n",
       "9907 16512                       272646144                 ...\n",
       "9908 17028                       289952784                 ...\n",
       "9909 31926                      1019269476                 ...\n",
       "9910 64215                      4123566225                 ...\n",
       "9911 13500                       182250000                 ...\n",
       "9912 39027                      1523106729                 ...\n",
       "9913 62616                      3920763456                 ...\n",
       "9914 56190                      3157316100                 ...\n",
       "9915 26205                       686702025                 ...\n",
       "     poly.educ..4..raw...TRUE..2 poly.educ..4..raw...TRUE..3\n",
       "1    144                         1728                       \n",
       "2    256                         4096                       \n",
       "3    121                         1331                       \n",
       "4    225                         3375                       \n",
       "5    144                         1728                       \n",
       "6    225                         3375                       \n",
       "7    289                         4913                       \n",
       "8    196                         2744                       \n",
       "9    144                         1728                       \n",
       "10   196                         2744                       \n",
       "11   144                         1728                       \n",
       "12   144                         1728                       \n",
       "13   196                         2744                       \n",
       "14   289                         4913                       \n",
       "15   144                         1728                       \n",
       "16   169                         2197                       \n",
       "17   324                         5832                       \n",
       "18   144                         1728                       \n",
       "19   144                         1728                       \n",
       "20   256                         4096                       \n",
       "21   121                         1331                       \n",
       "22   144                         1728                       \n",
       "23   144                         1728                       \n",
       "24   169                         2197                       \n",
       "25   324                         5832                       \n",
       "26   169                         2197                       \n",
       "27   169                         2197                       \n",
       "28   144                         1728                       \n",
       "29   256                         4096                       \n",
       "30   196                         2744                       \n",
       "...  ...                         ...                        \n",
       "9886 144                         1728                       \n",
       "9887 256                         4096                       \n",
       "9888 144                         1728                       \n",
       "9889 196                         2744                       \n",
       "9890 144                         1728                       \n",
       "9891 256                         4096                       \n",
       "9892 289                         4913                       \n",
       "9893 144                         1728                       \n",
       "9894 256                         4096                       \n",
       "9895 144                         1728                       \n",
       "9896 144                         1728                       \n",
       "9897 324                         5832                       \n",
       "9898 169                         2197                       \n",
       "9899 144                         1728                       \n",
       "9900 256                         4096                       \n",
       "9901 144                         1728                       \n",
       "9902 144                         1728                       \n",
       "9903 144                         1728                       \n",
       "9904 196                         2744                       \n",
       "9905 196                         2744                       \n",
       "9906 144                         1728                       \n",
       "9907 169                         2197                       \n",
       "9908 196                         2744                       \n",
       "9909 144                         1728                       \n",
       "9910 256                         4096                       \n",
       "9911 196                         2744                       \n",
       "9912 144                         1728                       \n",
       "9913 256                         4096                       \n",
       "9914 324                         5832                       \n",
       "9915 144                         1728                       \n",
       "     poly.educ..4..raw...TRUE..4 poly.fsize..2..raw...TRUE..1\n",
       "1     20736                      5                           \n",
       "2     65536                      5                           \n",
       "3     14641                      3                           \n",
       "4     50625                      4                           \n",
       "5     20736                      3                           \n",
       "6     50625                      6                           \n",
       "7     83521                      4                           \n",
       "8     38416                      1                           \n",
       "9     20736                      4                           \n",
       "10    38416                      1                           \n",
       "11    20736                      1                           \n",
       "12    20736                      3                           \n",
       "13    38416                      2                           \n",
       "14    83521                      1                           \n",
       "15    20736                      4                           \n",
       "16    28561                      2                           \n",
       "17   104976                      1                           \n",
       "18    20736                      5                           \n",
       "19    20736                      1                           \n",
       "20    65536                      3                           \n",
       "21    14641                      1                           \n",
       "22    20736                      1                           \n",
       "23    20736                      1                           \n",
       "24    28561                      5                           \n",
       "25   104976                      2                           \n",
       "26    28561                      1                           \n",
       "27    28561                      4                           \n",
       "28    20736                      3                           \n",
       "29    65536                      1                           \n",
       "30    38416                      2                           \n",
       "...  ...                         ...                         \n",
       "9886  20736                      3                           \n",
       "9887  65536                      4                           \n",
       "9888  20736                      4                           \n",
       "9889  38416                      2                           \n",
       "9890  20736                      6                           \n",
       "9891  65536                      2                           \n",
       "9892  83521                      4                           \n",
       "9893  20736                      3                           \n",
       "9894  65536                      4                           \n",
       "9895  20736                      4                           \n",
       "9896  20736                      2                           \n",
       "9897 104976                      1                           \n",
       "9898  28561                      2                           \n",
       "9899  20736                      3                           \n",
       "9900  65536                      5                           \n",
       "9901  20736                      2                           \n",
       "9902  20736                      5                           \n",
       "9903  20736                      5                           \n",
       "9904  38416                      1                           \n",
       "9905  38416                      3                           \n",
       "9906  20736                      4                           \n",
       "9907  28561                      1                           \n",
       "9908  38416                      3                           \n",
       "9909  20736                      2                           \n",
       "9910  65536                      4                           \n",
       "9911  38416                      1                           \n",
       "9912  20736                      3                           \n",
       "9913  65536                      4                           \n",
       "9914 104976                      3                           \n",
       "9915  20736                      4                           \n",
       "     poly.fsize..2..raw...TRUE..2 marr twoearn db  pira hown\n",
       "1    25                           1    0       0   0    1   \n",
       "2    25                           0    0       0   0    1   \n",
       "3     9                           1    1       0   1    1   \n",
       "4    16                           1    1       0   0    0   \n",
       "5     9                           0    0       1   0    1   \n",
       "6    36                           1    1       1   0    1   \n",
       "7    16                           1    1       1   0    1   \n",
       "8     1                           0    0       0   0    0   \n",
       "9    16                           0    0       0   0    0   \n",
       "10    1                           0    0       0   1    0   \n",
       "11    1                           0    0       1   1    1   \n",
       "12    9                           1    1       0   0    0   \n",
       "13    4                           1    0       0   0    0   \n",
       "14    1                           0    0       0   0    0   \n",
       "15   16                           1    1       0   1    1   \n",
       "16    4                           1    1       0   0    0   \n",
       "17    1                           0    0       0   1    0   \n",
       "18   25                           1    0       0   0    0   \n",
       "19    1                           1    0       0   0    0   \n",
       "20    9                           1    0       1   0    1   \n",
       "21    1                           0    0       0   0    0   \n",
       "22    1                           0    0       0   0    0   \n",
       "23    1                           0    0       0   0    0   \n",
       "24   25                           1    1       0   0    0   \n",
       "25    4                           1    0       0   1    1   \n",
       "26    1                           0    0       1   0    1   \n",
       "27   16                           1    0       0   0    1   \n",
       "28    9                           1    1       1   0    1   \n",
       "29    1                           0    0       1   0    1   \n",
       "30    4                           1    1       0   1    1   \n",
       "...  ...                          ...  ...     ... ...  ... \n",
       "9886  9                           1    1       0   0    1   \n",
       "9887 16                           1    0       1   0    0   \n",
       "9888 16                           1    1       0   1    0   \n",
       "9889  4                           1    1       1   1    1   \n",
       "9890 36                           1    0       0   0    1   \n",
       "9891  4                           0    0       1   1    1   \n",
       "9892 16                           1    1       0   1    1   \n",
       "9893  9                           1    1       0   0    1   \n",
       "9894 16                           1    0       0   0    1   \n",
       "9895 16                           1    1       0   0    1   \n",
       "9896  4                           0    0       1   0    0   \n",
       "9897  1                           0    0       0   0    1   \n",
       "9898  4                           0    0       0   0    0   \n",
       "9899  9                           0    0       1   0    0   \n",
       "9900 25                           1    0       0   0    1   \n",
       "9901  4                           1    1       0   0    1   \n",
       "9902 25                           1    0       0   1    1   \n",
       "9903 25                           1    1       0   0    1   \n",
       "9904  1                           0    0       0   1    1   \n",
       "9905  9                           1    1       0   0    1   \n",
       "9906 16                           1    1       0   0    0   \n",
       "9907  1                           0    0       0   0    1   \n",
       "9908  9                           1    0       0   0    1   \n",
       "9909  4                           1    1       0   0    0   \n",
       "9910 16                           1    1       0   1    1   \n",
       "9911  1                           0    0       1   0    0   \n",
       "9912  9                           1    0       1   0    1   \n",
       "9913 16                           1    1       0   0    1   \n",
       "9914  9                           1    1       1   0    1   \n",
       "9915 16                           1    1       0   0    0   "
      ]
     },
     "metadata": {},
     "output_type": "display_data"
    }
   ],
   "source": [
    "model_flex_2 <- model_flex[is.finite(rowSums(model_flex)),]\n",
    "model_flex_2"
   ]
  },
  {
   "cell_type": "code",
   "execution_count": 82,
   "id": "27f8594b",
   "metadata": {},
   "outputs": [
    {
     "data": {
      "text/html": [
       "<table class=\"dataframe\">\n",
       "<caption>A data.table: 9915 × 27</caption>\n",
       "<thead>\n",
       "\t<tr><th scope=col>net_tfa</th><th scope=col>e401</th><th scope=col>poly.age..6..raw...TRUE..1</th><th scope=col>poly.age..6..raw...TRUE..2</th><th scope=col>poly.age..6..raw...TRUE..3</th><th scope=col>poly.age..6..raw...TRUE..4</th><th scope=col>poly.age..6..raw...TRUE..5</th><th scope=col>poly.age..6..raw...TRUE..6</th><th scope=col>poly.inc..8..raw...TRUE..1</th><th scope=col>poly.inc..8..raw...TRUE..2</th><th scope=col>...</th><th scope=col>poly.educ..4..raw...TRUE..2</th><th scope=col>poly.educ..4..raw...TRUE..3</th><th scope=col>poly.educ..4..raw...TRUE..4</th><th scope=col>poly.fsize..2..raw...TRUE..1</th><th scope=col>poly.fsize..2..raw...TRUE..2</th><th scope=col>marr</th><th scope=col>twoearn</th><th scope=col>db</th><th scope=col>pira</th><th scope=col>hown</th></tr>\n",
       "\t<tr><th scope=col>&lt;int&gt;</th><th scope=col>&lt;int&gt;</th><th scope=col>&lt;dbl&gt;</th><th scope=col>&lt;dbl&gt;</th><th scope=col>&lt;dbl&gt;</th><th scope=col>&lt;dbl&gt;</th><th scope=col>&lt;dbl&gt;</th><th scope=col>&lt;dbl&gt;</th><th scope=col>&lt;dbl&gt;</th><th scope=col>&lt;dbl&gt;</th><th scope=col>...</th><th scope=col>&lt;dbl&gt;</th><th scope=col>&lt;dbl&gt;</th><th scope=col>&lt;dbl&gt;</th><th scope=col>&lt;dbl&gt;</th><th scope=col>&lt;dbl&gt;</th><th scope=col>&lt;int&gt;</th><th scope=col>&lt;int&gt;</th><th scope=col>&lt;int&gt;</th><th scope=col>&lt;int&gt;</th><th scope=col>&lt;dbl&gt;</th></tr>\n",
       "</thead>\n",
       "<tbody>\n",
       "\t<tr><td> -3300</td><td>0</td><td>31</td><td> 961</td><td> 29791</td><td>  923521</td><td> 28629151</td><td>  887503681</td><td>28146</td><td> 792197316</td><td>...</td><td>144</td><td>1728</td><td> 20736</td><td>5</td><td>25</td><td>1</td><td>0</td><td>0</td><td>0</td><td>1</td></tr>\n",
       "\t<tr><td> 61010</td><td>0</td><td>52</td><td>2704</td><td>140608</td><td> 7311616</td><td>380204032</td><td>19770609664</td><td>32634</td><td>1064977956</td><td>...</td><td>256</td><td>4096</td><td> 65536</td><td>5</td><td>25</td><td>0</td><td>0</td><td>0</td><td>0</td><td>1</td></tr>\n",
       "\t<tr><td>  8849</td><td>0</td><td>50</td><td>2500</td><td>125000</td><td> 6250000</td><td>312500000</td><td>15625000000</td><td>52206</td><td>2725466436</td><td>...</td><td>121</td><td>1331</td><td> 14641</td><td>3</td><td> 9</td><td>1</td><td>1</td><td>0</td><td>1</td><td>1</td></tr>\n",
       "\t<tr><td> -6013</td><td>0</td><td>28</td><td> 784</td><td> 21952</td><td>  614656</td><td> 17210368</td><td>  481890304</td><td>45252</td><td>2047743504</td><td>...</td><td>225</td><td>3375</td><td> 50625</td><td>4</td><td>16</td><td>1</td><td>1</td><td>0</td><td>0</td><td>0</td></tr>\n",
       "\t<tr><td> -2375</td><td>0</td><td>42</td><td>1764</td><td> 74088</td><td> 3111696</td><td>130691232</td><td> 5489031744</td><td>33126</td><td>1097331876</td><td>...</td><td>144</td><td>1728</td><td> 20736</td><td>3</td><td> 9</td><td>0</td><td>0</td><td>1</td><td>0</td><td>1</td></tr>\n",
       "\t<tr><td>-11000</td><td>0</td><td>49</td><td>2401</td><td>117649</td><td> 5764801</td><td>282475249</td><td>13841287201</td><td>76860</td><td>5907459600</td><td>...</td><td>225</td><td>3375</td><td> 50625</td><td>6</td><td>36</td><td>1</td><td>1</td><td>1</td><td>0</td><td>1</td></tr>\n",
       "\t<tr><td>-16901</td><td>0</td><td>40</td><td>1600</td><td> 64000</td><td> 2560000</td><td>102400000</td><td> 4096000000</td><td>57477</td><td>3303605529</td><td>...</td><td>289</td><td>4913</td><td> 83521</td><td>4</td><td>16</td><td>1</td><td>1</td><td>1</td><td>0</td><td>1</td></tr>\n",
       "\t<tr><td>  1000</td><td>0</td><td>58</td><td>3364</td><td>195112</td><td>11316496</td><td>656356768</td><td>38068692544</td><td>14637</td><td> 214241769</td><td>...</td><td>196</td><td>2744</td><td> 38416</td><td>1</td><td> 1</td><td>0</td><td>0</td><td>0</td><td>0</td><td>0</td></tr>\n",
       "\t<tr><td>     0</td><td>0</td><td>29</td><td> 841</td><td> 24389</td><td>  707281</td><td> 20511149</td><td>  594823321</td><td> 6573</td><td>  43204329</td><td>...</td><td>144</td><td>1728</td><td> 20736</td><td>4</td><td>16</td><td>0</td><td>0</td><td>0</td><td>0</td><td>0</td></tr>\n",
       "\t<tr><td>  6400</td><td>0</td><td>50</td><td>2500</td><td>125000</td><td> 6250000</td><td>312500000</td><td>15625000000</td><td> 5766</td><td>  33246756</td><td>...</td><td>196</td><td>2744</td><td> 38416</td><td>1</td><td> 1</td><td>0</td><td>0</td><td>0</td><td>1</td><td>0</td></tr>\n",
       "\t<tr><td> 24900</td><td>0</td><td>45</td><td>2025</td><td> 91125</td><td> 4100625</td><td>184528125</td><td> 8303765625</td><td>43239</td><td>1869611121</td><td>...</td><td>144</td><td>1728</td><td> 20736</td><td>1</td><td> 1</td><td>0</td><td>0</td><td>1</td><td>1</td><td>1</td></tr>\n",
       "\t<tr><td>  -675</td><td>0</td><td>25</td><td> 625</td><td> 15625</td><td>  390625</td><td>  9765625</td><td>  244140625</td><td>40323</td><td>1625944329</td><td>...</td><td>144</td><td>1728</td><td> 20736</td><td>3</td><td> 9</td><td>1</td><td>1</td><td>0</td><td>0</td><td>0</td></tr>\n",
       "\t<tr><td>  -400</td><td>0</td><td>30</td><td> 900</td><td> 27000</td><td>  810000</td><td> 24300000</td><td>  729000000</td><td>30000</td><td> 900000000</td><td>...</td><td>196</td><td>2744</td><td> 38416</td><td>2</td><td> 4</td><td>1</td><td>0</td><td>0</td><td>0</td><td>0</td></tr>\n",
       "\t<tr><td>   -83</td><td>0</td><td>27</td><td> 729</td><td> 19683</td><td>  531441</td><td> 14348907</td><td>  387420489</td><td> 9612</td><td>  92390544</td><td>...</td><td>289</td><td>4913</td><td> 83521</td><td>1</td><td> 1</td><td>0</td><td>0</td><td>0</td><td>0</td><td>0</td></tr>\n",
       "\t<tr><td> 35400</td><td>0</td><td>42</td><td>1764</td><td> 74088</td><td> 3111696</td><td>130691232</td><td> 5489031744</td><td>85086</td><td>7239627396</td><td>...</td><td>144</td><td>1728</td><td> 20736</td><td>4</td><td>16</td><td>1</td><td>1</td><td>0</td><td>1</td><td>1</td></tr>\n",
       "\t<tr><td>  -100</td><td>0</td><td>35</td><td>1225</td><td> 42875</td><td> 1500625</td><td> 52521875</td><td> 1838265625</td><td>32208</td><td>1037355264</td><td>...</td><td>169</td><td>2197</td><td> 28561</td><td>2</td><td> 4</td><td>1</td><td>1</td><td>0</td><td>0</td><td>0</td></tr>\n",
       "\t<tr><td> 62300</td><td>0</td><td>35</td><td>1225</td><td> 42875</td><td> 1500625</td><td> 52521875</td><td> 1838265625</td><td>63525</td><td>4035425625</td><td>...</td><td>324</td><td>5832</td><td>104976</td><td>1</td><td> 1</td><td>0</td><td>0</td><td>0</td><td>1</td><td>0</td></tr>\n",
       "\t<tr><td> -3888</td><td>0</td><td>41</td><td>1681</td><td> 68921</td><td> 2825761</td><td>115856201</td><td> 4750104241</td><td>31896</td><td>1017354816</td><td>...</td><td>144</td><td>1728</td><td> 20736</td><td>5</td><td>25</td><td>1</td><td>0</td><td>0</td><td>0</td><td>0</td></tr>\n",
       "\t<tr><td>    20</td><td>0</td><td>53</td><td>2809</td><td>148877</td><td> 7890481</td><td>418195493</td><td>22164361129</td><td> 9744</td><td>  94945536</td><td>...</td><td>144</td><td>1728</td><td> 20736</td><td>1</td><td> 1</td><td>1</td><td>0</td><td>0</td><td>0</td><td>0</td></tr>\n",
       "\t<tr><td>  3098</td><td>0</td><td>62</td><td>3844</td><td>238328</td><td>14776336</td><td>916132832</td><td>56800235584</td><td>74589</td><td>5563518921</td><td>...</td><td>256</td><td>4096</td><td> 65536</td><td>3</td><td> 9</td><td>1</td><td>0</td><td>1</td><td>0</td><td>1</td></tr>\n",
       "\t<tr><td>   205</td><td>0</td><td>45</td><td>2025</td><td> 91125</td><td> 4100625</td><td>184528125</td><td> 8303765625</td><td>38148</td><td>1455269904</td><td>...</td><td>121</td><td>1331</td><td> 14641</td><td>1</td><td> 1</td><td>0</td><td>0</td><td>0</td><td>0</td><td>0</td></tr>\n",
       "\t<tr><td>  2863</td><td>0</td><td>56</td><td>3136</td><td>175616</td><td> 9834496</td><td>550731776</td><td>30840979456</td><td>16290</td><td> 265364100</td><td>...</td><td>144</td><td>1728</td><td> 20736</td><td>1</td><td> 1</td><td>0</td><td>0</td><td>0</td><td>0</td><td>0</td></tr>\n",
       "\t<tr><td>     0</td><td>0</td><td>31</td><td> 961</td><td> 29791</td><td>  923521</td><td> 28629151</td><td>  887503681</td><td>11340</td><td> 128595600</td><td>...</td><td>144</td><td>1728</td><td> 20736</td><td>1</td><td> 1</td><td>0</td><td>0</td><td>0</td><td>0</td><td>0</td></tr>\n",
       "\t<tr><td> -2171</td><td>0</td><td>31</td><td> 961</td><td> 29791</td><td>  923521</td><td> 28629151</td><td>  887503681</td><td>26175</td><td> 685130625</td><td>...</td><td>169</td><td>2197</td><td> 28561</td><td>5</td><td>25</td><td>1</td><td>1</td><td>0</td><td>0</td><td>0</td></tr>\n",
       "\t<tr><td>360413</td><td>0</td><td>63</td><td>3969</td><td>250047</td><td>15752961</td><td>992436543</td><td>62523502209</td><td>71535</td><td>5117256225</td><td>...</td><td>324</td><td>5832</td><td>104976</td><td>2</td><td> 4</td><td>1</td><td>0</td><td>0</td><td>1</td><td>1</td></tr>\n",
       "\t<tr><td>   499</td><td>0</td><td>56</td><td>3136</td><td>175616</td><td> 9834496</td><td>550731776</td><td>30840979456</td><td>21678</td><td> 469935684</td><td>...</td><td>169</td><td>2197</td><td> 28561</td><td>1</td><td> 1</td><td>0</td><td>0</td><td>1</td><td>0</td><td>1</td></tr>\n",
       "\t<tr><td> -1300</td><td>0</td><td>52</td><td>2704</td><td>140608</td><td> 7311616</td><td>380204032</td><td>19770609664</td><td>27360</td><td> 748569600</td><td>...</td><td>169</td><td>2197</td><td> 28561</td><td>4</td><td>16</td><td>1</td><td>0</td><td>0</td><td>0</td><td>1</td></tr>\n",
       "\t<tr><td> -1700</td><td>0</td><td>58</td><td>3364</td><td>195112</td><td>11316496</td><td>656356768</td><td>38068692544</td><td>29724</td><td> 883516176</td><td>...</td><td>144</td><td>1728</td><td> 20736</td><td>3</td><td> 9</td><td>1</td><td>1</td><td>1</td><td>0</td><td>1</td></tr>\n",
       "\t<tr><td> 53698</td><td>0</td><td>42</td><td>1764</td><td> 74088</td><td> 3111696</td><td>130691232</td><td> 5489031744</td><td>42084</td><td>1771063056</td><td>...</td><td>256</td><td>4096</td><td> 65536</td><td>1</td><td> 1</td><td>0</td><td>0</td><td>1</td><td>0</td><td>1</td></tr>\n",
       "\t<tr><td> 26000</td><td>0</td><td>35</td><td>1225</td><td> 42875</td><td> 1500625</td><td> 52521875</td><td> 1838265625</td><td>71340</td><td>5089395600</td><td>...</td><td>196</td><td>2744</td><td> 38416</td><td>2</td><td> 4</td><td>1</td><td>1</td><td>0</td><td>1</td><td>1</td></tr>\n",
       "\t<tr><td>...</td><td>...</td><td>...</td><td>...</td><td>...</td><td>...</td><td>...</td><td>...</td><td>...</td><td>...</td><td></td><td>...</td><td>...</td><td>...</td><td>...</td><td>...</td><td>...</td><td>...</td><td>...</td><td>...</td><td>...</td></tr>\n",
       "\t<tr><td>  1000</td><td>1</td><td>31</td><td> 961</td><td> 29791</td><td>  923521</td><td> 28629151</td><td>  887503681</td><td>35586</td><td>1266363396</td><td>...</td><td>144</td><td>1728</td><td> 20736</td><td>3</td><td> 9</td><td>1</td><td>1</td><td>0</td><td>0</td><td>1</td></tr>\n",
       "\t<tr><td>  -500</td><td>1</td><td>40</td><td>1600</td><td> 64000</td><td> 2560000</td><td>102400000</td><td> 4096000000</td><td>24927</td><td> 621355329</td><td>...</td><td>256</td><td>4096</td><td> 65536</td><td>4</td><td>16</td><td>1</td><td>0</td><td>1</td><td>0</td><td>0</td></tr>\n",
       "\t<tr><td> 22610</td><td>1</td><td>37</td><td>1369</td><td> 50653</td><td> 1874161</td><td> 69343957</td><td> 2565726409</td><td>65667</td><td>4312154889</td><td>...</td><td>144</td><td>1728</td><td> 20736</td><td>4</td><td>16</td><td>1</td><td>1</td><td>0</td><td>1</td><td>0</td></tr>\n",
       "\t<tr><td>110350</td><td>1</td><td>50</td><td>2500</td><td>125000</td><td> 6250000</td><td>312500000</td><td>15625000000</td><td>99084</td><td>9817639056</td><td>...</td><td>196</td><td>2744</td><td> 38416</td><td>2</td><td> 4</td><td>1</td><td>1</td><td>1</td><td>1</td><td>1</td></tr>\n",
       "\t<tr><td> -3500</td><td>1</td><td>31</td><td> 961</td><td> 29791</td><td>  923521</td><td> 28629151</td><td>  887503681</td><td>29937</td><td> 896223969</td><td>...</td><td>144</td><td>1728</td><td> 20736</td><td>6</td><td>36</td><td>1</td><td>0</td><td>0</td><td>0</td><td>1</td></tr>\n",
       "\t<tr><td>  5740</td><td>1</td><td>49</td><td>2401</td><td>117649</td><td> 5764801</td><td>282475249</td><td>13841287201</td><td>26505</td><td> 702515025</td><td>...</td><td>256</td><td>4096</td><td> 65536</td><td>2</td><td> 4</td><td>0</td><td>0</td><td>1</td><td>1</td><td>1</td></tr>\n",
       "\t<tr><td> 12148</td><td>1</td><td>36</td><td>1296</td><td> 46656</td><td> 1679616</td><td> 60466176</td><td> 2176782336</td><td>58026</td><td>3367016676</td><td>...</td><td>289</td><td>4913</td><td> 83521</td><td>4</td><td>16</td><td>1</td><td>1</td><td>0</td><td>1</td><td>1</td></tr>\n",
       "\t<tr><td>-10115</td><td>1</td><td>34</td><td>1156</td><td> 39304</td><td> 1336336</td><td> 45435424</td><td> 1544804416</td><td>49200</td><td>2420640000</td><td>...</td><td>144</td><td>1728</td><td> 20736</td><td>3</td><td> 9</td><td>1</td><td>1</td><td>0</td><td>0</td><td>1</td></tr>\n",
       "\t<tr><td> -4270</td><td>1</td><td>38</td><td>1444</td><td> 54872</td><td> 2085136</td><td> 79235168</td><td> 3010936384</td><td>40488</td><td>1639278144</td><td>...</td><td>256</td><td>4096</td><td> 65536</td><td>4</td><td>16</td><td>1</td><td>0</td><td>0</td><td>0</td><td>1</td></tr>\n",
       "\t<tr><td> 14000</td><td>1</td><td>45</td><td>2025</td><td> 91125</td><td> 4100625</td><td>184528125</td><td> 8303765625</td><td>48663</td><td>2368087569</td><td>...</td><td>144</td><td>1728</td><td> 20736</td><td>4</td><td>16</td><td>1</td><td>1</td><td>0</td><td>0</td><td>1</td></tr>\n",
       "\t<tr><td>  5900</td><td>1</td><td>40</td><td>1600</td><td> 64000</td><td> 2560000</td><td>102400000</td><td> 4096000000</td><td>38376</td><td>1472717376</td><td>...</td><td>144</td><td>1728</td><td> 20736</td><td>2</td><td> 4</td><td>0</td><td>0</td><td>1</td><td>0</td><td>0</td></tr>\n",
       "\t<tr><td> 16201</td><td>1</td><td>29</td><td> 841</td><td> 24389</td><td>  707281</td><td> 20511149</td><td>  594823321</td><td>39396</td><td>1552044816</td><td>...</td><td>324</td><td>5832</td><td>104976</td><td>1</td><td> 1</td><td>0</td><td>0</td><td>0</td><td>0</td><td>1</td></tr>\n",
       "\t<tr><td>  4570</td><td>1</td><td>32</td><td>1024</td><td> 32768</td><td> 1048576</td><td> 33554432</td><td> 1073741824</td><td> 8664</td><td>  75064896</td><td>...</td><td>169</td><td>2197</td><td> 28561</td><td>2</td><td> 4</td><td>0</td><td>0</td><td>0</td><td>0</td><td>0</td></tr>\n",
       "\t<tr><td>  4412</td><td>1</td><td>36</td><td>1296</td><td> 46656</td><td> 1679616</td><td> 60466176</td><td> 2176782336</td><td>28500</td><td> 812250000</td><td>...</td><td>144</td><td>1728</td><td> 20736</td><td>3</td><td> 9</td><td>0</td><td>0</td><td>1</td><td>0</td><td>0</td></tr>\n",
       "\t<tr><td>-17201</td><td>1</td><td>36</td><td>1296</td><td> 46656</td><td> 1679616</td><td> 60466176</td><td> 2176782336</td><td>63546</td><td>4038094116</td><td>...</td><td>256</td><td>4096</td><td> 65536</td><td>5</td><td>25</td><td>1</td><td>0</td><td>0</td><td>0</td><td>1</td></tr>\n",
       "\t<tr><td>  8600</td><td>1</td><td>34</td><td>1156</td><td> 39304</td><td> 1336336</td><td> 45435424</td><td> 1544804416</td><td>70590</td><td>4982948100</td><td>...</td><td>144</td><td>1728</td><td> 20736</td><td>2</td><td> 4</td><td>1</td><td>1</td><td>0</td><td>0</td><td>1</td></tr>\n",
       "\t<tr><td> 80020</td><td>1</td><td>46</td><td>2116</td><td> 97336</td><td> 4477456</td><td>205962976</td><td> 9474296896</td><td>99372</td><td>9874794384</td><td>...</td><td>144</td><td>1728</td><td> 20736</td><td>5</td><td>25</td><td>1</td><td>0</td><td>0</td><td>1</td><td>1</td></tr>\n",
       "\t<tr><td> 16200</td><td>1</td><td>36</td><td>1296</td><td> 46656</td><td> 1679616</td><td> 60466176</td><td> 2176782336</td><td>33738</td><td>1138252644</td><td>...</td><td>144</td><td>1728</td><td> 20736</td><td>5</td><td>25</td><td>1</td><td>1</td><td>0</td><td>0</td><td>1</td></tr>\n",
       "\t<tr><td>178935</td><td>1</td><td>63</td><td>3969</td><td>250047</td><td>15752961</td><td>992436543</td><td>62523502209</td><td>38307</td><td>1467426249</td><td>...</td><td>196</td><td>2744</td><td> 38416</td><td>1</td><td> 1</td><td>0</td><td>0</td><td>0</td><td>1</td><td>1</td></tr>\n",
       "\t<tr><td> 18900</td><td>1</td><td>32</td><td>1024</td><td> 32768</td><td> 1048576</td><td> 33554432</td><td> 1073741824</td><td>49542</td><td>2454409764</td><td>...</td><td>196</td><td>2744</td><td> 38416</td><td>3</td><td> 9</td><td>1</td><td>1</td><td>0</td><td>0</td><td>1</td></tr>\n",
       "\t<tr><td> -1436</td><td>1</td><td>27</td><td> 729</td><td> 19683</td><td>  531441</td><td> 14348907</td><td>  387420489</td><td>37815</td><td>1429974225</td><td>...</td><td>144</td><td>1728</td><td> 20736</td><td>4</td><td>16</td><td>1</td><td>1</td><td>0</td><td>0</td><td>0</td></tr>\n",
       "\t<tr><td>  4500</td><td>1</td><td>42</td><td>1764</td><td> 74088</td><td> 3111696</td><td>130691232</td><td> 5489031744</td><td>16512</td><td> 272646144</td><td>...</td><td>169</td><td>2197</td><td> 28561</td><td>1</td><td> 1</td><td>0</td><td>0</td><td>0</td><td>0</td><td>1</td></tr>\n",
       "\t<tr><td> 34739</td><td>1</td><td>38</td><td>1444</td><td> 54872</td><td> 2085136</td><td> 79235168</td><td> 3010936384</td><td>17028</td><td> 289952784</td><td>...</td><td>196</td><td>2744</td><td> 38416</td><td>3</td><td> 9</td><td>1</td><td>0</td><td>0</td><td>0</td><td>1</td></tr>\n",
       "\t<tr><td>  -750</td><td>1</td><td>28</td><td> 784</td><td> 21952</td><td>  614656</td><td> 17210368</td><td>  481890304</td><td>31926</td><td>1019269476</td><td>...</td><td>144</td><td>1728</td><td> 20736</td><td>2</td><td> 4</td><td>1</td><td>1</td><td>0</td><td>0</td><td>0</td></tr>\n",
       "\t<tr><td> 40000</td><td>1</td><td>49</td><td>2401</td><td>117649</td><td> 5764801</td><td>282475249</td><td>13841287201</td><td>64215</td><td>4123566225</td><td>...</td><td>256</td><td>4096</td><td> 65536</td><td>4</td><td>16</td><td>1</td><td>1</td><td>0</td><td>1</td><td>1</td></tr>\n",
       "\t<tr><td>   172</td><td>1</td><td>34</td><td>1156</td><td> 39304</td><td> 1336336</td><td> 45435424</td><td> 1544804416</td><td>13500</td><td> 182250000</td><td>...</td><td>196</td><td>2744</td><td> 38416</td><td>1</td><td> 1</td><td>0</td><td>0</td><td>1</td><td>0</td><td>0</td></tr>\n",
       "\t<tr><td>   836</td><td>1</td><td>33</td><td>1089</td><td> 35937</td><td> 1185921</td><td> 39135393</td><td> 1291467969</td><td>39027</td><td>1523106729</td><td>...</td><td>144</td><td>1728</td><td> 20736</td><td>3</td><td> 9</td><td>1</td><td>0</td><td>1</td><td>0</td><td>1</td></tr>\n",
       "\t<tr><td>  6150</td><td>1</td><td>34</td><td>1156</td><td> 39304</td><td> 1336336</td><td> 45435424</td><td> 1544804416</td><td>62616</td><td>3920763456</td><td>...</td><td>256</td><td>4096</td><td> 65536</td><td>4</td><td>16</td><td>1</td><td>1</td><td>0</td><td>0</td><td>1</td></tr>\n",
       "\t<tr><td> 14499</td><td>1</td><td>41</td><td>1681</td><td> 68921</td><td> 2825761</td><td>115856201</td><td> 4750104241</td><td>56190</td><td>3157316100</td><td>...</td><td>324</td><td>5832</td><td>104976</td><td>3</td><td> 9</td><td>1</td><td>1</td><td>1</td><td>0</td><td>1</td></tr>\n",
       "\t<tr><td> -5400</td><td>1</td><td>28</td><td> 784</td><td> 21952</td><td>  614656</td><td> 17210368</td><td>  481890304</td><td>26205</td><td> 686702025</td><td>...</td><td>144</td><td>1728</td><td> 20736</td><td>4</td><td>16</td><td>1</td><td>1</td><td>0</td><td>0</td><td>0</td></tr>\n",
       "</tbody>\n",
       "</table>\n"
      ],
      "text/latex": [
       "A data.table: 9915 × 27\n",
       "\\begin{tabular}{lllllllllllllllllllll}\n",
       " net\\_tfa & e401 & poly.age..6..raw...TRUE..1 & poly.age..6..raw...TRUE..2 & poly.age..6..raw...TRUE..3 & poly.age..6..raw...TRUE..4 & poly.age..6..raw...TRUE..5 & poly.age..6..raw...TRUE..6 & poly.inc..8..raw...TRUE..1 & poly.inc..8..raw...TRUE..2 & ... & poly.educ..4..raw...TRUE..2 & poly.educ..4..raw...TRUE..3 & poly.educ..4..raw...TRUE..4 & poly.fsize..2..raw...TRUE..1 & poly.fsize..2..raw...TRUE..2 & marr & twoearn & db & pira & hown\\\\\n",
       " <int> & <int> & <dbl> & <dbl> & <dbl> & <dbl> & <dbl> & <dbl> & <dbl> & <dbl> & ... & <dbl> & <dbl> & <dbl> & <dbl> & <dbl> & <int> & <int> & <int> & <int> & <dbl>\\\\\n",
       "\\hline\n",
       "\t  -3300 & 0 & 31 &  961 &  29791 &   923521 &  28629151 &   887503681 & 28146 &  792197316 & ... & 144 & 1728 &  20736 & 5 & 25 & 1 & 0 & 0 & 0 & 1\\\\\n",
       "\t  61010 & 0 & 52 & 2704 & 140608 &  7311616 & 380204032 & 19770609664 & 32634 & 1064977956 & ... & 256 & 4096 &  65536 & 5 & 25 & 0 & 0 & 0 & 0 & 1\\\\\n",
       "\t   8849 & 0 & 50 & 2500 & 125000 &  6250000 & 312500000 & 15625000000 & 52206 & 2725466436 & ... & 121 & 1331 &  14641 & 3 &  9 & 1 & 1 & 0 & 1 & 1\\\\\n",
       "\t  -6013 & 0 & 28 &  784 &  21952 &   614656 &  17210368 &   481890304 & 45252 & 2047743504 & ... & 225 & 3375 &  50625 & 4 & 16 & 1 & 1 & 0 & 0 & 0\\\\\n",
       "\t  -2375 & 0 & 42 & 1764 &  74088 &  3111696 & 130691232 &  5489031744 & 33126 & 1097331876 & ... & 144 & 1728 &  20736 & 3 &  9 & 0 & 0 & 1 & 0 & 1\\\\\n",
       "\t -11000 & 0 & 49 & 2401 & 117649 &  5764801 & 282475249 & 13841287201 & 76860 & 5907459600 & ... & 225 & 3375 &  50625 & 6 & 36 & 1 & 1 & 1 & 0 & 1\\\\\n",
       "\t -16901 & 0 & 40 & 1600 &  64000 &  2560000 & 102400000 &  4096000000 & 57477 & 3303605529 & ... & 289 & 4913 &  83521 & 4 & 16 & 1 & 1 & 1 & 0 & 1\\\\\n",
       "\t   1000 & 0 & 58 & 3364 & 195112 & 11316496 & 656356768 & 38068692544 & 14637 &  214241769 & ... & 196 & 2744 &  38416 & 1 &  1 & 0 & 0 & 0 & 0 & 0\\\\\n",
       "\t      0 & 0 & 29 &  841 &  24389 &   707281 &  20511149 &   594823321 &  6573 &   43204329 & ... & 144 & 1728 &  20736 & 4 & 16 & 0 & 0 & 0 & 0 & 0\\\\\n",
       "\t   6400 & 0 & 50 & 2500 & 125000 &  6250000 & 312500000 & 15625000000 &  5766 &   33246756 & ... & 196 & 2744 &  38416 & 1 &  1 & 0 & 0 & 0 & 1 & 0\\\\\n",
       "\t  24900 & 0 & 45 & 2025 &  91125 &  4100625 & 184528125 &  8303765625 & 43239 & 1869611121 & ... & 144 & 1728 &  20736 & 1 &  1 & 0 & 0 & 1 & 1 & 1\\\\\n",
       "\t   -675 & 0 & 25 &  625 &  15625 &   390625 &   9765625 &   244140625 & 40323 & 1625944329 & ... & 144 & 1728 &  20736 & 3 &  9 & 1 & 1 & 0 & 0 & 0\\\\\n",
       "\t   -400 & 0 & 30 &  900 &  27000 &   810000 &  24300000 &   729000000 & 30000 &  900000000 & ... & 196 & 2744 &  38416 & 2 &  4 & 1 & 0 & 0 & 0 & 0\\\\\n",
       "\t    -83 & 0 & 27 &  729 &  19683 &   531441 &  14348907 &   387420489 &  9612 &   92390544 & ... & 289 & 4913 &  83521 & 1 &  1 & 0 & 0 & 0 & 0 & 0\\\\\n",
       "\t  35400 & 0 & 42 & 1764 &  74088 &  3111696 & 130691232 &  5489031744 & 85086 & 7239627396 & ... & 144 & 1728 &  20736 & 4 & 16 & 1 & 1 & 0 & 1 & 1\\\\\n",
       "\t   -100 & 0 & 35 & 1225 &  42875 &  1500625 &  52521875 &  1838265625 & 32208 & 1037355264 & ... & 169 & 2197 &  28561 & 2 &  4 & 1 & 1 & 0 & 0 & 0\\\\\n",
       "\t  62300 & 0 & 35 & 1225 &  42875 &  1500625 &  52521875 &  1838265625 & 63525 & 4035425625 & ... & 324 & 5832 & 104976 & 1 &  1 & 0 & 0 & 0 & 1 & 0\\\\\n",
       "\t  -3888 & 0 & 41 & 1681 &  68921 &  2825761 & 115856201 &  4750104241 & 31896 & 1017354816 & ... & 144 & 1728 &  20736 & 5 & 25 & 1 & 0 & 0 & 0 & 0\\\\\n",
       "\t     20 & 0 & 53 & 2809 & 148877 &  7890481 & 418195493 & 22164361129 &  9744 &   94945536 & ... & 144 & 1728 &  20736 & 1 &  1 & 1 & 0 & 0 & 0 & 0\\\\\n",
       "\t   3098 & 0 & 62 & 3844 & 238328 & 14776336 & 916132832 & 56800235584 & 74589 & 5563518921 & ... & 256 & 4096 &  65536 & 3 &  9 & 1 & 0 & 1 & 0 & 1\\\\\n",
       "\t    205 & 0 & 45 & 2025 &  91125 &  4100625 & 184528125 &  8303765625 & 38148 & 1455269904 & ... & 121 & 1331 &  14641 & 1 &  1 & 0 & 0 & 0 & 0 & 0\\\\\n",
       "\t   2863 & 0 & 56 & 3136 & 175616 &  9834496 & 550731776 & 30840979456 & 16290 &  265364100 & ... & 144 & 1728 &  20736 & 1 &  1 & 0 & 0 & 0 & 0 & 0\\\\\n",
       "\t      0 & 0 & 31 &  961 &  29791 &   923521 &  28629151 &   887503681 & 11340 &  128595600 & ... & 144 & 1728 &  20736 & 1 &  1 & 0 & 0 & 0 & 0 & 0\\\\\n",
       "\t  -2171 & 0 & 31 &  961 &  29791 &   923521 &  28629151 &   887503681 & 26175 &  685130625 & ... & 169 & 2197 &  28561 & 5 & 25 & 1 & 1 & 0 & 0 & 0\\\\\n",
       "\t 360413 & 0 & 63 & 3969 & 250047 & 15752961 & 992436543 & 62523502209 & 71535 & 5117256225 & ... & 324 & 5832 & 104976 & 2 &  4 & 1 & 0 & 0 & 1 & 1\\\\\n",
       "\t    499 & 0 & 56 & 3136 & 175616 &  9834496 & 550731776 & 30840979456 & 21678 &  469935684 & ... & 169 & 2197 &  28561 & 1 &  1 & 0 & 0 & 1 & 0 & 1\\\\\n",
       "\t  -1300 & 0 & 52 & 2704 & 140608 &  7311616 & 380204032 & 19770609664 & 27360 &  748569600 & ... & 169 & 2197 &  28561 & 4 & 16 & 1 & 0 & 0 & 0 & 1\\\\\n",
       "\t  -1700 & 0 & 58 & 3364 & 195112 & 11316496 & 656356768 & 38068692544 & 29724 &  883516176 & ... & 144 & 1728 &  20736 & 3 &  9 & 1 & 1 & 1 & 0 & 1\\\\\n",
       "\t  53698 & 0 & 42 & 1764 &  74088 &  3111696 & 130691232 &  5489031744 & 42084 & 1771063056 & ... & 256 & 4096 &  65536 & 1 &  1 & 0 & 0 & 1 & 0 & 1\\\\\n",
       "\t  26000 & 0 & 35 & 1225 &  42875 &  1500625 &  52521875 &  1838265625 & 71340 & 5089395600 & ... & 196 & 2744 &  38416 & 2 &  4 & 1 & 1 & 0 & 1 & 1\\\\\n",
       "\t ... & ... & ... & ... & ... & ... & ... & ... & ... & ... &  & ... & ... & ... & ... & ... & ... & ... & ... & ... & ...\\\\\n",
       "\t   1000 & 1 & 31 &  961 &  29791 &   923521 &  28629151 &   887503681 & 35586 & 1266363396 & ... & 144 & 1728 &  20736 & 3 &  9 & 1 & 1 & 0 & 0 & 1\\\\\n",
       "\t   -500 & 1 & 40 & 1600 &  64000 &  2560000 & 102400000 &  4096000000 & 24927 &  621355329 & ... & 256 & 4096 &  65536 & 4 & 16 & 1 & 0 & 1 & 0 & 0\\\\\n",
       "\t  22610 & 1 & 37 & 1369 &  50653 &  1874161 &  69343957 &  2565726409 & 65667 & 4312154889 & ... & 144 & 1728 &  20736 & 4 & 16 & 1 & 1 & 0 & 1 & 0\\\\\n",
       "\t 110350 & 1 & 50 & 2500 & 125000 &  6250000 & 312500000 & 15625000000 & 99084 & 9817639056 & ... & 196 & 2744 &  38416 & 2 &  4 & 1 & 1 & 1 & 1 & 1\\\\\n",
       "\t  -3500 & 1 & 31 &  961 &  29791 &   923521 &  28629151 &   887503681 & 29937 &  896223969 & ... & 144 & 1728 &  20736 & 6 & 36 & 1 & 0 & 0 & 0 & 1\\\\\n",
       "\t   5740 & 1 & 49 & 2401 & 117649 &  5764801 & 282475249 & 13841287201 & 26505 &  702515025 & ... & 256 & 4096 &  65536 & 2 &  4 & 0 & 0 & 1 & 1 & 1\\\\\n",
       "\t  12148 & 1 & 36 & 1296 &  46656 &  1679616 &  60466176 &  2176782336 & 58026 & 3367016676 & ... & 289 & 4913 &  83521 & 4 & 16 & 1 & 1 & 0 & 1 & 1\\\\\n",
       "\t -10115 & 1 & 34 & 1156 &  39304 &  1336336 &  45435424 &  1544804416 & 49200 & 2420640000 & ... & 144 & 1728 &  20736 & 3 &  9 & 1 & 1 & 0 & 0 & 1\\\\\n",
       "\t  -4270 & 1 & 38 & 1444 &  54872 &  2085136 &  79235168 &  3010936384 & 40488 & 1639278144 & ... & 256 & 4096 &  65536 & 4 & 16 & 1 & 0 & 0 & 0 & 1\\\\\n",
       "\t  14000 & 1 & 45 & 2025 &  91125 &  4100625 & 184528125 &  8303765625 & 48663 & 2368087569 & ... & 144 & 1728 &  20736 & 4 & 16 & 1 & 1 & 0 & 0 & 1\\\\\n",
       "\t   5900 & 1 & 40 & 1600 &  64000 &  2560000 & 102400000 &  4096000000 & 38376 & 1472717376 & ... & 144 & 1728 &  20736 & 2 &  4 & 0 & 0 & 1 & 0 & 0\\\\\n",
       "\t  16201 & 1 & 29 &  841 &  24389 &   707281 &  20511149 &   594823321 & 39396 & 1552044816 & ... & 324 & 5832 & 104976 & 1 &  1 & 0 & 0 & 0 & 0 & 1\\\\\n",
       "\t   4570 & 1 & 32 & 1024 &  32768 &  1048576 &  33554432 &  1073741824 &  8664 &   75064896 & ... & 169 & 2197 &  28561 & 2 &  4 & 0 & 0 & 0 & 0 & 0\\\\\n",
       "\t   4412 & 1 & 36 & 1296 &  46656 &  1679616 &  60466176 &  2176782336 & 28500 &  812250000 & ... & 144 & 1728 &  20736 & 3 &  9 & 0 & 0 & 1 & 0 & 0\\\\\n",
       "\t -17201 & 1 & 36 & 1296 &  46656 &  1679616 &  60466176 &  2176782336 & 63546 & 4038094116 & ... & 256 & 4096 &  65536 & 5 & 25 & 1 & 0 & 0 & 0 & 1\\\\\n",
       "\t   8600 & 1 & 34 & 1156 &  39304 &  1336336 &  45435424 &  1544804416 & 70590 & 4982948100 & ... & 144 & 1728 &  20736 & 2 &  4 & 1 & 1 & 0 & 0 & 1\\\\\n",
       "\t  80020 & 1 & 46 & 2116 &  97336 &  4477456 & 205962976 &  9474296896 & 99372 & 9874794384 & ... & 144 & 1728 &  20736 & 5 & 25 & 1 & 0 & 0 & 1 & 1\\\\\n",
       "\t  16200 & 1 & 36 & 1296 &  46656 &  1679616 &  60466176 &  2176782336 & 33738 & 1138252644 & ... & 144 & 1728 &  20736 & 5 & 25 & 1 & 1 & 0 & 0 & 1\\\\\n",
       "\t 178935 & 1 & 63 & 3969 & 250047 & 15752961 & 992436543 & 62523502209 & 38307 & 1467426249 & ... & 196 & 2744 &  38416 & 1 &  1 & 0 & 0 & 0 & 1 & 1\\\\\n",
       "\t  18900 & 1 & 32 & 1024 &  32768 &  1048576 &  33554432 &  1073741824 & 49542 & 2454409764 & ... & 196 & 2744 &  38416 & 3 &  9 & 1 & 1 & 0 & 0 & 1\\\\\n",
       "\t  -1436 & 1 & 27 &  729 &  19683 &   531441 &  14348907 &   387420489 & 37815 & 1429974225 & ... & 144 & 1728 &  20736 & 4 & 16 & 1 & 1 & 0 & 0 & 0\\\\\n",
       "\t   4500 & 1 & 42 & 1764 &  74088 &  3111696 & 130691232 &  5489031744 & 16512 &  272646144 & ... & 169 & 2197 &  28561 & 1 &  1 & 0 & 0 & 0 & 0 & 1\\\\\n",
       "\t  34739 & 1 & 38 & 1444 &  54872 &  2085136 &  79235168 &  3010936384 & 17028 &  289952784 & ... & 196 & 2744 &  38416 & 3 &  9 & 1 & 0 & 0 & 0 & 1\\\\\n",
       "\t   -750 & 1 & 28 &  784 &  21952 &   614656 &  17210368 &   481890304 & 31926 & 1019269476 & ... & 144 & 1728 &  20736 & 2 &  4 & 1 & 1 & 0 & 0 & 0\\\\\n",
       "\t  40000 & 1 & 49 & 2401 & 117649 &  5764801 & 282475249 & 13841287201 & 64215 & 4123566225 & ... & 256 & 4096 &  65536 & 4 & 16 & 1 & 1 & 0 & 1 & 1\\\\\n",
       "\t    172 & 1 & 34 & 1156 &  39304 &  1336336 &  45435424 &  1544804416 & 13500 &  182250000 & ... & 196 & 2744 &  38416 & 1 &  1 & 0 & 0 & 1 & 0 & 0\\\\\n",
       "\t    836 & 1 & 33 & 1089 &  35937 &  1185921 &  39135393 &  1291467969 & 39027 & 1523106729 & ... & 144 & 1728 &  20736 & 3 &  9 & 1 & 0 & 1 & 0 & 1\\\\\n",
       "\t   6150 & 1 & 34 & 1156 &  39304 &  1336336 &  45435424 &  1544804416 & 62616 & 3920763456 & ... & 256 & 4096 &  65536 & 4 & 16 & 1 & 1 & 0 & 0 & 1\\\\\n",
       "\t  14499 & 1 & 41 & 1681 &  68921 &  2825761 & 115856201 &  4750104241 & 56190 & 3157316100 & ... & 324 & 5832 & 104976 & 3 &  9 & 1 & 1 & 1 & 0 & 1\\\\\n",
       "\t  -5400 & 1 & 28 &  784 &  21952 &   614656 &  17210368 &   481890304 & 26205 &  686702025 & ... & 144 & 1728 &  20736 & 4 & 16 & 1 & 1 & 0 & 0 & 0\\\\\n",
       "\\end{tabular}\n"
      ],
      "text/markdown": [
       "\n",
       "A data.table: 9915 × 27\n",
       "\n",
       "| net_tfa &lt;int&gt; | e401 &lt;int&gt; | poly.age..6..raw...TRUE..1 &lt;dbl&gt; | poly.age..6..raw...TRUE..2 &lt;dbl&gt; | poly.age..6..raw...TRUE..3 &lt;dbl&gt; | poly.age..6..raw...TRUE..4 &lt;dbl&gt; | poly.age..6..raw...TRUE..5 &lt;dbl&gt; | poly.age..6..raw...TRUE..6 &lt;dbl&gt; | poly.inc..8..raw...TRUE..1 &lt;dbl&gt; | poly.inc..8..raw...TRUE..2 &lt;dbl&gt; | ... ... | poly.educ..4..raw...TRUE..2 &lt;dbl&gt; | poly.educ..4..raw...TRUE..3 &lt;dbl&gt; | poly.educ..4..raw...TRUE..4 &lt;dbl&gt; | poly.fsize..2..raw...TRUE..1 &lt;dbl&gt; | poly.fsize..2..raw...TRUE..2 &lt;dbl&gt; | marr &lt;int&gt; | twoearn &lt;int&gt; | db &lt;int&gt; | pira &lt;int&gt; | hown &lt;dbl&gt; |\n",
       "|---|---|---|---|---|---|---|---|---|---|---|---|---|---|---|---|---|---|---|---|---|\n",
       "|  -3300 | 0 | 31 |  961 |  29791 |   923521 |  28629151 |   887503681 | 28146 |  792197316 | ... | 144 | 1728 |  20736 | 5 | 25 | 1 | 0 | 0 | 0 | 1 |\n",
       "|  61010 | 0 | 52 | 2704 | 140608 |  7311616 | 380204032 | 19770609664 | 32634 | 1064977956 | ... | 256 | 4096 |  65536 | 5 | 25 | 0 | 0 | 0 | 0 | 1 |\n",
       "|   8849 | 0 | 50 | 2500 | 125000 |  6250000 | 312500000 | 15625000000 | 52206 | 2725466436 | ... | 121 | 1331 |  14641 | 3 |  9 | 1 | 1 | 0 | 1 | 1 |\n",
       "|  -6013 | 0 | 28 |  784 |  21952 |   614656 |  17210368 |   481890304 | 45252 | 2047743504 | ... | 225 | 3375 |  50625 | 4 | 16 | 1 | 1 | 0 | 0 | 0 |\n",
       "|  -2375 | 0 | 42 | 1764 |  74088 |  3111696 | 130691232 |  5489031744 | 33126 | 1097331876 | ... | 144 | 1728 |  20736 | 3 |  9 | 0 | 0 | 1 | 0 | 1 |\n",
       "| -11000 | 0 | 49 | 2401 | 117649 |  5764801 | 282475249 | 13841287201 | 76860 | 5907459600 | ... | 225 | 3375 |  50625 | 6 | 36 | 1 | 1 | 1 | 0 | 1 |\n",
       "| -16901 | 0 | 40 | 1600 |  64000 |  2560000 | 102400000 |  4096000000 | 57477 | 3303605529 | ... | 289 | 4913 |  83521 | 4 | 16 | 1 | 1 | 1 | 0 | 1 |\n",
       "|   1000 | 0 | 58 | 3364 | 195112 | 11316496 | 656356768 | 38068692544 | 14637 |  214241769 | ... | 196 | 2744 |  38416 | 1 |  1 | 0 | 0 | 0 | 0 | 0 |\n",
       "|      0 | 0 | 29 |  841 |  24389 |   707281 |  20511149 |   594823321 |  6573 |   43204329 | ... | 144 | 1728 |  20736 | 4 | 16 | 0 | 0 | 0 | 0 | 0 |\n",
       "|   6400 | 0 | 50 | 2500 | 125000 |  6250000 | 312500000 | 15625000000 |  5766 |   33246756 | ... | 196 | 2744 |  38416 | 1 |  1 | 0 | 0 | 0 | 1 | 0 |\n",
       "|  24900 | 0 | 45 | 2025 |  91125 |  4100625 | 184528125 |  8303765625 | 43239 | 1869611121 | ... | 144 | 1728 |  20736 | 1 |  1 | 0 | 0 | 1 | 1 | 1 |\n",
       "|   -675 | 0 | 25 |  625 |  15625 |   390625 |   9765625 |   244140625 | 40323 | 1625944329 | ... | 144 | 1728 |  20736 | 3 |  9 | 1 | 1 | 0 | 0 | 0 |\n",
       "|   -400 | 0 | 30 |  900 |  27000 |   810000 |  24300000 |   729000000 | 30000 |  900000000 | ... | 196 | 2744 |  38416 | 2 |  4 | 1 | 0 | 0 | 0 | 0 |\n",
       "|    -83 | 0 | 27 |  729 |  19683 |   531441 |  14348907 |   387420489 |  9612 |   92390544 | ... | 289 | 4913 |  83521 | 1 |  1 | 0 | 0 | 0 | 0 | 0 |\n",
       "|  35400 | 0 | 42 | 1764 |  74088 |  3111696 | 130691232 |  5489031744 | 85086 | 7239627396 | ... | 144 | 1728 |  20736 | 4 | 16 | 1 | 1 | 0 | 1 | 1 |\n",
       "|   -100 | 0 | 35 | 1225 |  42875 |  1500625 |  52521875 |  1838265625 | 32208 | 1037355264 | ... | 169 | 2197 |  28561 | 2 |  4 | 1 | 1 | 0 | 0 | 0 |\n",
       "|  62300 | 0 | 35 | 1225 |  42875 |  1500625 |  52521875 |  1838265625 | 63525 | 4035425625 | ... | 324 | 5832 | 104976 | 1 |  1 | 0 | 0 | 0 | 1 | 0 |\n",
       "|  -3888 | 0 | 41 | 1681 |  68921 |  2825761 | 115856201 |  4750104241 | 31896 | 1017354816 | ... | 144 | 1728 |  20736 | 5 | 25 | 1 | 0 | 0 | 0 | 0 |\n",
       "|     20 | 0 | 53 | 2809 | 148877 |  7890481 | 418195493 | 22164361129 |  9744 |   94945536 | ... | 144 | 1728 |  20736 | 1 |  1 | 1 | 0 | 0 | 0 | 0 |\n",
       "|   3098 | 0 | 62 | 3844 | 238328 | 14776336 | 916132832 | 56800235584 | 74589 | 5563518921 | ... | 256 | 4096 |  65536 | 3 |  9 | 1 | 0 | 1 | 0 | 1 |\n",
       "|    205 | 0 | 45 | 2025 |  91125 |  4100625 | 184528125 |  8303765625 | 38148 | 1455269904 | ... | 121 | 1331 |  14641 | 1 |  1 | 0 | 0 | 0 | 0 | 0 |\n",
       "|   2863 | 0 | 56 | 3136 | 175616 |  9834496 | 550731776 | 30840979456 | 16290 |  265364100 | ... | 144 | 1728 |  20736 | 1 |  1 | 0 | 0 | 0 | 0 | 0 |\n",
       "|      0 | 0 | 31 |  961 |  29791 |   923521 |  28629151 |   887503681 | 11340 |  128595600 | ... | 144 | 1728 |  20736 | 1 |  1 | 0 | 0 | 0 | 0 | 0 |\n",
       "|  -2171 | 0 | 31 |  961 |  29791 |   923521 |  28629151 |   887503681 | 26175 |  685130625 | ... | 169 | 2197 |  28561 | 5 | 25 | 1 | 1 | 0 | 0 | 0 |\n",
       "| 360413 | 0 | 63 | 3969 | 250047 | 15752961 | 992436543 | 62523502209 | 71535 | 5117256225 | ... | 324 | 5832 | 104976 | 2 |  4 | 1 | 0 | 0 | 1 | 1 |\n",
       "|    499 | 0 | 56 | 3136 | 175616 |  9834496 | 550731776 | 30840979456 | 21678 |  469935684 | ... | 169 | 2197 |  28561 | 1 |  1 | 0 | 0 | 1 | 0 | 1 |\n",
       "|  -1300 | 0 | 52 | 2704 | 140608 |  7311616 | 380204032 | 19770609664 | 27360 |  748569600 | ... | 169 | 2197 |  28561 | 4 | 16 | 1 | 0 | 0 | 0 | 1 |\n",
       "|  -1700 | 0 | 58 | 3364 | 195112 | 11316496 | 656356768 | 38068692544 | 29724 |  883516176 | ... | 144 | 1728 |  20736 | 3 |  9 | 1 | 1 | 1 | 0 | 1 |\n",
       "|  53698 | 0 | 42 | 1764 |  74088 |  3111696 | 130691232 |  5489031744 | 42084 | 1771063056 | ... | 256 | 4096 |  65536 | 1 |  1 | 0 | 0 | 1 | 0 | 1 |\n",
       "|  26000 | 0 | 35 | 1225 |  42875 |  1500625 |  52521875 |  1838265625 | 71340 | 5089395600 | ... | 196 | 2744 |  38416 | 2 |  4 | 1 | 1 | 0 | 1 | 1 |\n",
       "| ... | ... | ... | ... | ... | ... | ... | ... | ... | ... | <!----> | ... | ... | ... | ... | ... | ... | ... | ... | ... | ... |\n",
       "|   1000 | 1 | 31 |  961 |  29791 |   923521 |  28629151 |   887503681 | 35586 | 1266363396 | ... | 144 | 1728 |  20736 | 3 |  9 | 1 | 1 | 0 | 0 | 1 |\n",
       "|   -500 | 1 | 40 | 1600 |  64000 |  2560000 | 102400000 |  4096000000 | 24927 |  621355329 | ... | 256 | 4096 |  65536 | 4 | 16 | 1 | 0 | 1 | 0 | 0 |\n",
       "|  22610 | 1 | 37 | 1369 |  50653 |  1874161 |  69343957 |  2565726409 | 65667 | 4312154889 | ... | 144 | 1728 |  20736 | 4 | 16 | 1 | 1 | 0 | 1 | 0 |\n",
       "| 110350 | 1 | 50 | 2500 | 125000 |  6250000 | 312500000 | 15625000000 | 99084 | 9817639056 | ... | 196 | 2744 |  38416 | 2 |  4 | 1 | 1 | 1 | 1 | 1 |\n",
       "|  -3500 | 1 | 31 |  961 |  29791 |   923521 |  28629151 |   887503681 | 29937 |  896223969 | ... | 144 | 1728 |  20736 | 6 | 36 | 1 | 0 | 0 | 0 | 1 |\n",
       "|   5740 | 1 | 49 | 2401 | 117649 |  5764801 | 282475249 | 13841287201 | 26505 |  702515025 | ... | 256 | 4096 |  65536 | 2 |  4 | 0 | 0 | 1 | 1 | 1 |\n",
       "|  12148 | 1 | 36 | 1296 |  46656 |  1679616 |  60466176 |  2176782336 | 58026 | 3367016676 | ... | 289 | 4913 |  83521 | 4 | 16 | 1 | 1 | 0 | 1 | 1 |\n",
       "| -10115 | 1 | 34 | 1156 |  39304 |  1336336 |  45435424 |  1544804416 | 49200 | 2420640000 | ... | 144 | 1728 |  20736 | 3 |  9 | 1 | 1 | 0 | 0 | 1 |\n",
       "|  -4270 | 1 | 38 | 1444 |  54872 |  2085136 |  79235168 |  3010936384 | 40488 | 1639278144 | ... | 256 | 4096 |  65536 | 4 | 16 | 1 | 0 | 0 | 0 | 1 |\n",
       "|  14000 | 1 | 45 | 2025 |  91125 |  4100625 | 184528125 |  8303765625 | 48663 | 2368087569 | ... | 144 | 1728 |  20736 | 4 | 16 | 1 | 1 | 0 | 0 | 1 |\n",
       "|   5900 | 1 | 40 | 1600 |  64000 |  2560000 | 102400000 |  4096000000 | 38376 | 1472717376 | ... | 144 | 1728 |  20736 | 2 |  4 | 0 | 0 | 1 | 0 | 0 |\n",
       "|  16201 | 1 | 29 |  841 |  24389 |   707281 |  20511149 |   594823321 | 39396 | 1552044816 | ... | 324 | 5832 | 104976 | 1 |  1 | 0 | 0 | 0 | 0 | 1 |\n",
       "|   4570 | 1 | 32 | 1024 |  32768 |  1048576 |  33554432 |  1073741824 |  8664 |   75064896 | ... | 169 | 2197 |  28561 | 2 |  4 | 0 | 0 | 0 | 0 | 0 |\n",
       "|   4412 | 1 | 36 | 1296 |  46656 |  1679616 |  60466176 |  2176782336 | 28500 |  812250000 | ... | 144 | 1728 |  20736 | 3 |  9 | 0 | 0 | 1 | 0 | 0 |\n",
       "| -17201 | 1 | 36 | 1296 |  46656 |  1679616 |  60466176 |  2176782336 | 63546 | 4038094116 | ... | 256 | 4096 |  65536 | 5 | 25 | 1 | 0 | 0 | 0 | 1 |\n",
       "|   8600 | 1 | 34 | 1156 |  39304 |  1336336 |  45435424 |  1544804416 | 70590 | 4982948100 | ... | 144 | 1728 |  20736 | 2 |  4 | 1 | 1 | 0 | 0 | 1 |\n",
       "|  80020 | 1 | 46 | 2116 |  97336 |  4477456 | 205962976 |  9474296896 | 99372 | 9874794384 | ... | 144 | 1728 |  20736 | 5 | 25 | 1 | 0 | 0 | 1 | 1 |\n",
       "|  16200 | 1 | 36 | 1296 |  46656 |  1679616 |  60466176 |  2176782336 | 33738 | 1138252644 | ... | 144 | 1728 |  20736 | 5 | 25 | 1 | 1 | 0 | 0 | 1 |\n",
       "| 178935 | 1 | 63 | 3969 | 250047 | 15752961 | 992436543 | 62523502209 | 38307 | 1467426249 | ... | 196 | 2744 |  38416 | 1 |  1 | 0 | 0 | 0 | 1 | 1 |\n",
       "|  18900 | 1 | 32 | 1024 |  32768 |  1048576 |  33554432 |  1073741824 | 49542 | 2454409764 | ... | 196 | 2744 |  38416 | 3 |  9 | 1 | 1 | 0 | 0 | 1 |\n",
       "|  -1436 | 1 | 27 |  729 |  19683 |   531441 |  14348907 |   387420489 | 37815 | 1429974225 | ... | 144 | 1728 |  20736 | 4 | 16 | 1 | 1 | 0 | 0 | 0 |\n",
       "|   4500 | 1 | 42 | 1764 |  74088 |  3111696 | 130691232 |  5489031744 | 16512 |  272646144 | ... | 169 | 2197 |  28561 | 1 |  1 | 0 | 0 | 0 | 0 | 1 |\n",
       "|  34739 | 1 | 38 | 1444 |  54872 |  2085136 |  79235168 |  3010936384 | 17028 |  289952784 | ... | 196 | 2744 |  38416 | 3 |  9 | 1 | 0 | 0 | 0 | 1 |\n",
       "|   -750 | 1 | 28 |  784 |  21952 |   614656 |  17210368 |   481890304 | 31926 | 1019269476 | ... | 144 | 1728 |  20736 | 2 |  4 | 1 | 1 | 0 | 0 | 0 |\n",
       "|  40000 | 1 | 49 | 2401 | 117649 |  5764801 | 282475249 | 13841287201 | 64215 | 4123566225 | ... | 256 | 4096 |  65536 | 4 | 16 | 1 | 1 | 0 | 1 | 1 |\n",
       "|    172 | 1 | 34 | 1156 |  39304 |  1336336 |  45435424 |  1544804416 | 13500 |  182250000 | ... | 196 | 2744 |  38416 | 1 |  1 | 0 | 0 | 1 | 0 | 0 |\n",
       "|    836 | 1 | 33 | 1089 |  35937 |  1185921 |  39135393 |  1291467969 | 39027 | 1523106729 | ... | 144 | 1728 |  20736 | 3 |  9 | 1 | 0 | 1 | 0 | 1 |\n",
       "|   6150 | 1 | 34 | 1156 |  39304 |  1336336 |  45435424 |  1544804416 | 62616 | 3920763456 | ... | 256 | 4096 |  65536 | 4 | 16 | 1 | 1 | 0 | 0 | 1 |\n",
       "|  14499 | 1 | 41 | 1681 |  68921 |  2825761 | 115856201 |  4750104241 | 56190 | 3157316100 | ... | 324 | 5832 | 104976 | 3 |  9 | 1 | 1 | 1 | 0 | 1 |\n",
       "|  -5400 | 1 | 28 |  784 |  21952 |   614656 |  17210368 |   481890304 | 26205 |  686702025 | ... | 144 | 1728 |  20736 | 4 | 16 | 1 | 1 | 0 | 0 | 0 |\n",
       "\n"
      ],
      "text/plain": [
       "     net_tfa e401 poly.age..6..raw...TRUE..1 poly.age..6..raw...TRUE..2\n",
       "1     -3300  0    31                          961                      \n",
       "2     61010  0    52                         2704                      \n",
       "3      8849  0    50                         2500                      \n",
       "4     -6013  0    28                          784                      \n",
       "5     -2375  0    42                         1764                      \n",
       "6    -11000  0    49                         2401                      \n",
       "7    -16901  0    40                         1600                      \n",
       "8      1000  0    58                         3364                      \n",
       "9         0  0    29                          841                      \n",
       "10     6400  0    50                         2500                      \n",
       "11    24900  0    45                         2025                      \n",
       "12     -675  0    25                          625                      \n",
       "13     -400  0    30                          900                      \n",
       "14      -83  0    27                          729                      \n",
       "15    35400  0    42                         1764                      \n",
       "16     -100  0    35                         1225                      \n",
       "17    62300  0    35                         1225                      \n",
       "18    -3888  0    41                         1681                      \n",
       "19       20  0    53                         2809                      \n",
       "20     3098  0    62                         3844                      \n",
       "21      205  0    45                         2025                      \n",
       "22     2863  0    56                         3136                      \n",
       "23        0  0    31                          961                      \n",
       "24    -2171  0    31                          961                      \n",
       "25   360413  0    63                         3969                      \n",
       "26      499  0    56                         3136                      \n",
       "27    -1300  0    52                         2704                      \n",
       "28    -1700  0    58                         3364                      \n",
       "29    53698  0    42                         1764                      \n",
       "30    26000  0    35                         1225                      \n",
       "...  ...     ...  ...                        ...                       \n",
       "9886   1000  1    31                          961                      \n",
       "9887   -500  1    40                         1600                      \n",
       "9888  22610  1    37                         1369                      \n",
       "9889 110350  1    50                         2500                      \n",
       "9890  -3500  1    31                          961                      \n",
       "9891   5740  1    49                         2401                      \n",
       "9892  12148  1    36                         1296                      \n",
       "9893 -10115  1    34                         1156                      \n",
       "9894  -4270  1    38                         1444                      \n",
       "9895  14000  1    45                         2025                      \n",
       "9896   5900  1    40                         1600                      \n",
       "9897  16201  1    29                          841                      \n",
       "9898   4570  1    32                         1024                      \n",
       "9899   4412  1    36                         1296                      \n",
       "9900 -17201  1    36                         1296                      \n",
       "9901   8600  1    34                         1156                      \n",
       "9902  80020  1    46                         2116                      \n",
       "9903  16200  1    36                         1296                      \n",
       "9904 178935  1    63                         3969                      \n",
       "9905  18900  1    32                         1024                      \n",
       "9906  -1436  1    27                          729                      \n",
       "9907   4500  1    42                         1764                      \n",
       "9908  34739  1    38                         1444                      \n",
       "9909   -750  1    28                          784                      \n",
       "9910  40000  1    49                         2401                      \n",
       "9911    172  1    34                         1156                      \n",
       "9912    836  1    33                         1089                      \n",
       "9913   6150  1    34                         1156                      \n",
       "9914  14499  1    41                         1681                      \n",
       "9915  -5400  1    28                          784                      \n",
       "     poly.age..6..raw...TRUE..3 poly.age..6..raw...TRUE..4\n",
       "1     29791                       923521                  \n",
       "2    140608                      7311616                  \n",
       "3    125000                      6250000                  \n",
       "4     21952                       614656                  \n",
       "5     74088                      3111696                  \n",
       "6    117649                      5764801                  \n",
       "7     64000                      2560000                  \n",
       "8    195112                     11316496                  \n",
       "9     24389                       707281                  \n",
       "10   125000                      6250000                  \n",
       "11    91125                      4100625                  \n",
       "12    15625                       390625                  \n",
       "13    27000                       810000                  \n",
       "14    19683                       531441                  \n",
       "15    74088                      3111696                  \n",
       "16    42875                      1500625                  \n",
       "17    42875                      1500625                  \n",
       "18    68921                      2825761                  \n",
       "19   148877                      7890481                  \n",
       "20   238328                     14776336                  \n",
       "21    91125                      4100625                  \n",
       "22   175616                      9834496                  \n",
       "23    29791                       923521                  \n",
       "24    29791                       923521                  \n",
       "25   250047                     15752961                  \n",
       "26   175616                      9834496                  \n",
       "27   140608                      7311616                  \n",
       "28   195112                     11316496                  \n",
       "29    74088                      3111696                  \n",
       "30    42875                      1500625                  \n",
       "...  ...                        ...                       \n",
       "9886  29791                       923521                  \n",
       "9887  64000                      2560000                  \n",
       "9888  50653                      1874161                  \n",
       "9889 125000                      6250000                  \n",
       "9890  29791                       923521                  \n",
       "9891 117649                      5764801                  \n",
       "9892  46656                      1679616                  \n",
       "9893  39304                      1336336                  \n",
       "9894  54872                      2085136                  \n",
       "9895  91125                      4100625                  \n",
       "9896  64000                      2560000                  \n",
       "9897  24389                       707281                  \n",
       "9898  32768                      1048576                  \n",
       "9899  46656                      1679616                  \n",
       "9900  46656                      1679616                  \n",
       "9901  39304                      1336336                  \n",
       "9902  97336                      4477456                  \n",
       "9903  46656                      1679616                  \n",
       "9904 250047                     15752961                  \n",
       "9905  32768                      1048576                  \n",
       "9906  19683                       531441                  \n",
       "9907  74088                      3111696                  \n",
       "9908  54872                      2085136                  \n",
       "9909  21952                       614656                  \n",
       "9910 117649                      5764801                  \n",
       "9911  39304                      1336336                  \n",
       "9912  35937                      1185921                  \n",
       "9913  39304                      1336336                  \n",
       "9914  68921                      2825761                  \n",
       "9915  21952                       614656                  \n",
       "     poly.age..6..raw...TRUE..5 poly.age..6..raw...TRUE..6\n",
       "1     28629151                    887503681               \n",
       "2    380204032                  19770609664               \n",
       "3    312500000                  15625000000               \n",
       "4     17210368                    481890304               \n",
       "5    130691232                   5489031744               \n",
       "6    282475249                  13841287201               \n",
       "7    102400000                   4096000000               \n",
       "8    656356768                  38068692544               \n",
       "9     20511149                    594823321               \n",
       "10   312500000                  15625000000               \n",
       "11   184528125                   8303765625               \n",
       "12     9765625                    244140625               \n",
       "13    24300000                    729000000               \n",
       "14    14348907                    387420489               \n",
       "15   130691232                   5489031744               \n",
       "16    52521875                   1838265625               \n",
       "17    52521875                   1838265625               \n",
       "18   115856201                   4750104241               \n",
       "19   418195493                  22164361129               \n",
       "20   916132832                  56800235584               \n",
       "21   184528125                   8303765625               \n",
       "22   550731776                  30840979456               \n",
       "23    28629151                    887503681               \n",
       "24    28629151                    887503681               \n",
       "25   992436543                  62523502209               \n",
       "26   550731776                  30840979456               \n",
       "27   380204032                  19770609664               \n",
       "28   656356768                  38068692544               \n",
       "29   130691232                   5489031744               \n",
       "30    52521875                   1838265625               \n",
       "...  ...                        ...                       \n",
       "9886  28629151                    887503681               \n",
       "9887 102400000                   4096000000               \n",
       "9888  69343957                   2565726409               \n",
       "9889 312500000                  15625000000               \n",
       "9890  28629151                    887503681               \n",
       "9891 282475249                  13841287201               \n",
       "9892  60466176                   2176782336               \n",
       "9893  45435424                   1544804416               \n",
       "9894  79235168                   3010936384               \n",
       "9895 184528125                   8303765625               \n",
       "9896 102400000                   4096000000               \n",
       "9897  20511149                    594823321               \n",
       "9898  33554432                   1073741824               \n",
       "9899  60466176                   2176782336               \n",
       "9900  60466176                   2176782336               \n",
       "9901  45435424                   1544804416               \n",
       "9902 205962976                   9474296896               \n",
       "9903  60466176                   2176782336               \n",
       "9904 992436543                  62523502209               \n",
       "9905  33554432                   1073741824               \n",
       "9906  14348907                    387420489               \n",
       "9907 130691232                   5489031744               \n",
       "9908  79235168                   3010936384               \n",
       "9909  17210368                    481890304               \n",
       "9910 282475249                  13841287201               \n",
       "9911  45435424                   1544804416               \n",
       "9912  39135393                   1291467969               \n",
       "9913  45435424                   1544804416               \n",
       "9914 115856201                   4750104241               \n",
       "9915  17210368                    481890304               \n",
       "     poly.inc..8..raw...TRUE..1 poly.inc..8..raw...TRUE..2 ...\n",
       "1    28146                       792197316                 ...\n",
       "2    32634                      1064977956                 ...\n",
       "3    52206                      2725466436                 ...\n",
       "4    45252                      2047743504                 ...\n",
       "5    33126                      1097331876                 ...\n",
       "6    76860                      5907459600                 ...\n",
       "7    57477                      3303605529                 ...\n",
       "8    14637                       214241769                 ...\n",
       "9     6573                        43204329                 ...\n",
       "10    5766                        33246756                 ...\n",
       "11   43239                      1869611121                 ...\n",
       "12   40323                      1625944329                 ...\n",
       "13   30000                       900000000                 ...\n",
       "14    9612                        92390544                 ...\n",
       "15   85086                      7239627396                 ...\n",
       "16   32208                      1037355264                 ...\n",
       "17   63525                      4035425625                 ...\n",
       "18   31896                      1017354816                 ...\n",
       "19    9744                        94945536                 ...\n",
       "20   74589                      5563518921                 ...\n",
       "21   38148                      1455269904                 ...\n",
       "22   16290                       265364100                 ...\n",
       "23   11340                       128595600                 ...\n",
       "24   26175                       685130625                 ...\n",
       "25   71535                      5117256225                 ...\n",
       "26   21678                       469935684                 ...\n",
       "27   27360                       748569600                 ...\n",
       "28   29724                       883516176                 ...\n",
       "29   42084                      1771063056                 ...\n",
       "30   71340                      5089395600                 ...\n",
       "...  ...                        ...                           \n",
       "9886 35586                      1266363396                 ...\n",
       "9887 24927                       621355329                 ...\n",
       "9888 65667                      4312154889                 ...\n",
       "9889 99084                      9817639056                 ...\n",
       "9890 29937                       896223969                 ...\n",
       "9891 26505                       702515025                 ...\n",
       "9892 58026                      3367016676                 ...\n",
       "9893 49200                      2420640000                 ...\n",
       "9894 40488                      1639278144                 ...\n",
       "9895 48663                      2368087569                 ...\n",
       "9896 38376                      1472717376                 ...\n",
       "9897 39396                      1552044816                 ...\n",
       "9898  8664                        75064896                 ...\n",
       "9899 28500                       812250000                 ...\n",
       "9900 63546                      4038094116                 ...\n",
       "9901 70590                      4982948100                 ...\n",
       "9902 99372                      9874794384                 ...\n",
       "9903 33738                      1138252644                 ...\n",
       "9904 38307                      1467426249                 ...\n",
       "9905 49542                      2454409764                 ...\n",
       "9906 37815                      1429974225                 ...\n",
       "9907 16512                       272646144                 ...\n",
       "9908 17028                       289952784                 ...\n",
       "9909 31926                      1019269476                 ...\n",
       "9910 64215                      4123566225                 ...\n",
       "9911 13500                       182250000                 ...\n",
       "9912 39027                      1523106729                 ...\n",
       "9913 62616                      3920763456                 ...\n",
       "9914 56190                      3157316100                 ...\n",
       "9915 26205                       686702025                 ...\n",
       "     poly.educ..4..raw...TRUE..2 poly.educ..4..raw...TRUE..3\n",
       "1    144                         1728                       \n",
       "2    256                         4096                       \n",
       "3    121                         1331                       \n",
       "4    225                         3375                       \n",
       "5    144                         1728                       \n",
       "6    225                         3375                       \n",
       "7    289                         4913                       \n",
       "8    196                         2744                       \n",
       "9    144                         1728                       \n",
       "10   196                         2744                       \n",
       "11   144                         1728                       \n",
       "12   144                         1728                       \n",
       "13   196                         2744                       \n",
       "14   289                         4913                       \n",
       "15   144                         1728                       \n",
       "16   169                         2197                       \n",
       "17   324                         5832                       \n",
       "18   144                         1728                       \n",
       "19   144                         1728                       \n",
       "20   256                         4096                       \n",
       "21   121                         1331                       \n",
       "22   144                         1728                       \n",
       "23   144                         1728                       \n",
       "24   169                         2197                       \n",
       "25   324                         5832                       \n",
       "26   169                         2197                       \n",
       "27   169                         2197                       \n",
       "28   144                         1728                       \n",
       "29   256                         4096                       \n",
       "30   196                         2744                       \n",
       "...  ...                         ...                        \n",
       "9886 144                         1728                       \n",
       "9887 256                         4096                       \n",
       "9888 144                         1728                       \n",
       "9889 196                         2744                       \n",
       "9890 144                         1728                       \n",
       "9891 256                         4096                       \n",
       "9892 289                         4913                       \n",
       "9893 144                         1728                       \n",
       "9894 256                         4096                       \n",
       "9895 144                         1728                       \n",
       "9896 144                         1728                       \n",
       "9897 324                         5832                       \n",
       "9898 169                         2197                       \n",
       "9899 144                         1728                       \n",
       "9900 256                         4096                       \n",
       "9901 144                         1728                       \n",
       "9902 144                         1728                       \n",
       "9903 144                         1728                       \n",
       "9904 196                         2744                       \n",
       "9905 196                         2744                       \n",
       "9906 144                         1728                       \n",
       "9907 169                         2197                       \n",
       "9908 196                         2744                       \n",
       "9909 144                         1728                       \n",
       "9910 256                         4096                       \n",
       "9911 196                         2744                       \n",
       "9912 144                         1728                       \n",
       "9913 256                         4096                       \n",
       "9914 324                         5832                       \n",
       "9915 144                         1728                       \n",
       "     poly.educ..4..raw...TRUE..4 poly.fsize..2..raw...TRUE..1\n",
       "1     20736                      5                           \n",
       "2     65536                      5                           \n",
       "3     14641                      3                           \n",
       "4     50625                      4                           \n",
       "5     20736                      3                           \n",
       "6     50625                      6                           \n",
       "7     83521                      4                           \n",
       "8     38416                      1                           \n",
       "9     20736                      4                           \n",
       "10    38416                      1                           \n",
       "11    20736                      1                           \n",
       "12    20736                      3                           \n",
       "13    38416                      2                           \n",
       "14    83521                      1                           \n",
       "15    20736                      4                           \n",
       "16    28561                      2                           \n",
       "17   104976                      1                           \n",
       "18    20736                      5                           \n",
       "19    20736                      1                           \n",
       "20    65536                      3                           \n",
       "21    14641                      1                           \n",
       "22    20736                      1                           \n",
       "23    20736                      1                           \n",
       "24    28561                      5                           \n",
       "25   104976                      2                           \n",
       "26    28561                      1                           \n",
       "27    28561                      4                           \n",
       "28    20736                      3                           \n",
       "29    65536                      1                           \n",
       "30    38416                      2                           \n",
       "...  ...                         ...                         \n",
       "9886  20736                      3                           \n",
       "9887  65536                      4                           \n",
       "9888  20736                      4                           \n",
       "9889  38416                      2                           \n",
       "9890  20736                      6                           \n",
       "9891  65536                      2                           \n",
       "9892  83521                      4                           \n",
       "9893  20736                      3                           \n",
       "9894  65536                      4                           \n",
       "9895  20736                      4                           \n",
       "9896  20736                      2                           \n",
       "9897 104976                      1                           \n",
       "9898  28561                      2                           \n",
       "9899  20736                      3                           \n",
       "9900  65536                      5                           \n",
       "9901  20736                      2                           \n",
       "9902  20736                      5                           \n",
       "9903  20736                      5                           \n",
       "9904  38416                      1                           \n",
       "9905  38416                      3                           \n",
       "9906  20736                      4                           \n",
       "9907  28561                      1                           \n",
       "9908  38416                      3                           \n",
       "9909  20736                      2                           \n",
       "9910  65536                      4                           \n",
       "9911  38416                      1                           \n",
       "9912  20736                      3                           \n",
       "9913  65536                      4                           \n",
       "9914 104976                      3                           \n",
       "9915  20736                      4                           \n",
       "     poly.fsize..2..raw...TRUE..2 marr twoearn db  pira hown\n",
       "1    25                           1    0       0   0    1   \n",
       "2    25                           0    0       0   0    1   \n",
       "3     9                           1    1       0   1    1   \n",
       "4    16                           1    1       0   0    0   \n",
       "5     9                           0    0       1   0    1   \n",
       "6    36                           1    1       1   0    1   \n",
       "7    16                           1    1       1   0    1   \n",
       "8     1                           0    0       0   0    0   \n",
       "9    16                           0    0       0   0    0   \n",
       "10    1                           0    0       0   1    0   \n",
       "11    1                           0    0       1   1    1   \n",
       "12    9                           1    1       0   0    0   \n",
       "13    4                           1    0       0   0    0   \n",
       "14    1                           0    0       0   0    0   \n",
       "15   16                           1    1       0   1    1   \n",
       "16    4                           1    1       0   0    0   \n",
       "17    1                           0    0       0   1    0   \n",
       "18   25                           1    0       0   0    0   \n",
       "19    1                           1    0       0   0    0   \n",
       "20    9                           1    0       1   0    1   \n",
       "21    1                           0    0       0   0    0   \n",
       "22    1                           0    0       0   0    0   \n",
       "23    1                           0    0       0   0    0   \n",
       "24   25                           1    1       0   0    0   \n",
       "25    4                           1    0       0   1    1   \n",
       "26    1                           0    0       1   0    1   \n",
       "27   16                           1    0       0   0    1   \n",
       "28    9                           1    1       1   0    1   \n",
       "29    1                           0    0       1   0    1   \n",
       "30    4                           1    1       0   1    1   \n",
       "...  ...                          ...  ...     ... ...  ... \n",
       "9886  9                           1    1       0   0    1   \n",
       "9887 16                           1    0       1   0    0   \n",
       "9888 16                           1    1       0   1    0   \n",
       "9889  4                           1    1       1   1    1   \n",
       "9890 36                           1    0       0   0    1   \n",
       "9891  4                           0    0       1   1    1   \n",
       "9892 16                           1    1       0   1    1   \n",
       "9893  9                           1    1       0   0    1   \n",
       "9894 16                           1    0       0   0    1   \n",
       "9895 16                           1    1       0   0    1   \n",
       "9896  4                           0    0       1   0    0   \n",
       "9897  1                           0    0       0   0    1   \n",
       "9898  4                           0    0       0   0    0   \n",
       "9899  9                           0    0       1   0    0   \n",
       "9900 25                           1    0       0   0    1   \n",
       "9901  4                           1    1       0   0    1   \n",
       "9902 25                           1    0       0   1    1   \n",
       "9903 25                           1    1       0   0    1   \n",
       "9904  1                           0    0       0   1    1   \n",
       "9905  9                           1    1       0   0    1   \n",
       "9906 16                           1    1       0   0    0   \n",
       "9907  1                           0    0       0   0    1   \n",
       "9908  9                           1    0       0   0    1   \n",
       "9909  4                           1    1       0   0    0   \n",
       "9910 16                           1    1       0   1    1   \n",
       "9911  1                           0    0       1   0    0   \n",
       "9912  9                           1    0       1   0    1   \n",
       "9913 16                           1    1       0   0    1   \n",
       "9914  9                           1    1       1   0    1   \n",
       "9915 16                           1    1       0   0    0   "
      ]
     },
     "metadata": {},
     "output_type": "display_data"
    }
   ],
   "source": [
    "model_flex_2 <- na.omit(model_flex)\n",
    "model_flex_2"
   ]
  },
  {
   "cell_type": "markdown",
   "id": "weekly-advancement",
   "metadata": {
    "papermill": {
     "duration": 0.047299,
     "end_time": "2021-03-24T14:16:46.176537",
     "exception": false,
     "start_time": "2021-03-24T14:16:46.129238",
     "status": "completed"
    },
    "tags": []
   },
   "source": [
    "## Partially Linear Regression Models (PLR)"
   ]
  },
  {
   "cell_type": "markdown",
   "id": "united-massachusetts",
   "metadata": {
    "papermill": {
     "duration": 0.044606,
     "end_time": "2021-03-24T14:16:46.266797",
     "exception": false,
     "start_time": "2021-03-24T14:16:46.222191",
     "status": "completed"
    },
    "tags": []
   },
   "source": [
    "We start using lasso to estimate the function $g_0$ and $m_0$ in the following PLR model:"
   ]
  },
  {
   "cell_type": "markdown",
   "id": "interesting-symphony",
   "metadata": {
    "papermill": {
     "duration": 0.044208,
     "end_time": "2021-03-24T14:16:46.355767",
     "exception": false,
     "start_time": "2021-03-24T14:16:46.311559",
     "status": "completed"
    },
    "tags": []
   },
   "source": [
    "\\begin{eqnarray}\n",
    " &  Y = D\\theta_0 + g_0(X) + \\zeta,  &  E[\\zeta \\mid D,X]= 0,\\\\\n",
    " & D = m_0(X) +  V,   &  E[V \\mid X] = 0.\n",
    "\\end{eqnarray}"
   ]
  },
  {
   "cell_type": "code",
   "execution_count": 64,
   "id": "entire-killer",
   "metadata": {
    "execution": {
     "iopub.execute_input": "2021-03-24T14:16:46.455502Z",
     "iopub.status.busy": "2021-03-24T14:16:46.452415Z",
     "iopub.status.idle": "2021-03-24T14:17:09.397729Z",
     "shell.execute_reply": "2021-03-24T14:17:09.396355Z"
    },
    "papermill": {
     "duration": 22.997053,
     "end_time": "2021-03-24T14:17:09.397895",
     "exception": false,
     "start_time": "2021-03-24T14:16:46.400842",
     "status": "completed"
    },
    "tags": []
   },
   "outputs": [
    {
     "name": "stdout",
     "output_type": "stream",
     "text": [
      "[1] \"Estimates and significance testing of the effect of target variables\"\n",
      "     Estimate. Std. Error t value Pr(>|t|)    \n",
      "e401      8737       1262   6.923 4.43e-12 ***\n",
      "---\n",
      "Signif. codes:  0 '***' 0.001 '**' 0.01 '*' 0.05 '.' 0.1 ' ' 1\n",
      "\n",
      "\n"
     ]
    }
   ],
   "source": [
    "# Estimating the PLR\n",
    "lgr::get_logger(\"mlr3\")$set_threshold(\"warn\") \n",
    "set.seed(123)\n",
    "lasso <- lrn(\"regr.cv_glmnet\",nfolds = 5, s = \"lambda.min\")\n",
    "lasso_class <- lrn(\"classif.cv_glmnet\", nfolds = 5, s = \"lambda.min\")\n",
    "\n",
    "dml_plr <- DoubleMLPLR$new(data_ml, ml_g = lasso, ml_m = lasso_class, n_folds=3)\n",
    "dml_plr$fit(store_predictions=TRUE)\n",
    "dml_plr$summary()\n",
    "lasso_plr <- dml_plr$coef\n",
    "lasso_std_plr <- dml_plr$se"
   ]
  },
  {
   "cell_type": "markdown",
   "id": "prerequisite-browser",
   "metadata": {
    "papermill": {
     "duration": 0.04484,
     "end_time": "2021-03-24T14:17:09.488491",
     "exception": false,
     "start_time": "2021-03-24T14:17:09.443651",
     "status": "completed"
    },
    "tags": []
   },
   "source": [
    "Let us check the predictive performance of this model."
   ]
  },
  {
   "cell_type": "code",
   "execution_count": 65,
   "id": "middle-spokesman",
   "metadata": {
    "execution": {
     "iopub.execute_input": "2021-03-24T14:17:09.584202Z",
     "iopub.status.busy": "2021-03-24T14:17:09.582552Z",
     "iopub.status.idle": "2021-03-24T14:17:09.602810Z",
     "shell.execute_reply": "2021-03-24T14:17:09.601315Z"
    },
    "papermill": {
     "duration": 0.069669,
     "end_time": "2021-03-24T14:17:09.602972",
     "exception": false,
     "start_time": "2021-03-24T14:17:09.533303",
     "status": "completed"
    },
    "tags": []
   },
   "outputs": [
    {
     "data": {
      "text/html": [
       "<style>\n",
       ".list-inline {list-style: none; margin:0; padding: 0}\n",
       ".list-inline>li {display: inline-block}\n",
       ".list-inline>li:not(:last-child)::after {content: \"\\00b7\"; padding: 0 .5ex}\n",
       "</style>\n",
       "<ol class=list-inline><li>'ml_g'</li><li>'ml_m'</li></ol>\n"
      ],
      "text/latex": [
       "\\begin{enumerate*}\n",
       "\\item 'ml\\_g'\n",
       "\\item 'ml\\_m'\n",
       "\\end{enumerate*}\n"
      ],
      "text/markdown": [
       "1. 'ml_g'\n",
       "2. 'ml_m'\n",
       "\n",
       "\n"
      ],
      "text/plain": [
       "[1] \"ml_g\" \"ml_m\""
      ]
     },
     "metadata": {},
     "output_type": "display_data"
    }
   ],
   "source": [
    "dml_plr$params_names()\n",
    "g_hat <- as.matrix(dml_plr$predictions$ml_g) # predictions of g_o\n",
    "m_hat <- as.matrix(dml_plr$predictions$ml_m) # predictions of m_o"
   ]
  },
  {
   "cell_type": "code",
   "execution_count": 66,
   "id": "wrong-letters",
   "metadata": {
    "execution": {
     "iopub.execute_input": "2021-03-24T14:17:09.703885Z",
     "iopub.status.busy": "2021-03-24T14:17:09.702298Z",
     "iopub.status.idle": "2021-03-24T14:17:09.726073Z",
     "shell.execute_reply": "2021-03-24T14:17:09.724913Z"
    },
    "papermill": {
     "duration": 0.075135,
     "end_time": "2021-03-24T14:17:09.726237",
     "exception": false,
     "start_time": "2021-03-24T14:17:09.651102",
     "status": "completed"
    },
    "tags": []
   },
   "outputs": [
    {
     "data": {
      "text/html": [
       "54032.8281642243"
      ],
      "text/latex": [
       "54032.8281642243"
      ],
      "text/markdown": [
       "54032.8281642243"
      ],
      "text/plain": [
       "[1] 54032.83"
      ]
     },
     "metadata": {},
     "output_type": "display_data"
    }
   ],
   "source": [
    "# cross-fitted RMSE: outcome\n",
    "y <- as.matrix(pension$net_tfa) # true observations\n",
    "theta <- as.numeric(dml_plr$coef) # estimated regression coefficient\n",
    "d <- as.matrix(pension$e401) \n",
    "predictions_y <- as.matrix(d*theta)+g_hat # predictions for y\n",
    "lasso_y_rmse <- sqrt(mean((y-predictions_y)^2)) \n",
    "lasso_y_rmse"
   ]
  },
  {
   "cell_type": "code",
   "execution_count": 67,
   "id": "medieval-friend",
   "metadata": {
    "execution": {
     "iopub.execute_input": "2021-03-24T14:17:09.825055Z",
     "iopub.status.busy": "2021-03-24T14:17:09.823925Z",
     "iopub.status.idle": "2021-03-24T14:17:09.848399Z",
     "shell.execute_reply": "2021-03-24T14:17:09.847714Z"
    },
    "papermill": {
     "duration": 0.075492,
     "end_time": "2021-03-24T14:17:09.848578",
     "exception": false,
     "start_time": "2021-03-24T14:17:09.773086",
     "status": "completed"
    },
    "tags": []
   },
   "outputs": [
    {
     "data": {
      "text/html": [
       "0.444095938474169"
      ],
      "text/latex": [
       "0.444095938474169"
      ],
      "text/markdown": [
       "0.444095938474169"
      ],
      "text/plain": [
       "[1] 0.4440959"
      ]
     },
     "metadata": {},
     "output_type": "display_data"
    },
    {
     "data": {
      "text/html": [
       "0.315279878971256"
      ],
      "text/latex": [
       "0.315279878971256"
      ],
      "text/markdown": [
       "0.315279878971256"
      ],
      "text/plain": [
       "[1] 0.3152799"
      ]
     },
     "metadata": {},
     "output_type": "display_data"
    }
   ],
   "source": [
    "# cross-fitted RMSE: treatment\n",
    "d <- as.matrix(pension$e401) \n",
    "lasso_d_rmse <- sqrt(mean((d-m_hat)^2)) \n",
    "lasso_d_rmse\n",
    "\n",
    "# cross-fitted ce: treatment\n",
    "mean(ifelse(m_hat > 0.5, 1, 0) != d)"
   ]
  },
  {
   "cell_type": "markdown",
   "id": "fluid-gregory",
   "metadata": {
    "papermill": {
     "duration": 0.048205,
     "end_time": "2021-03-24T14:17:09.946894",
     "exception": false,
     "start_time": "2021-03-24T14:17:09.898689",
     "status": "completed"
    },
    "tags": []
   },
   "source": [
    "Then, we repeat this procedure for various machine learning methods."
   ]
  },
  {
   "cell_type": "code",
   "execution_count": 68,
   "id": "naughty-moscow",
   "metadata": {
    "execution": {
     "iopub.execute_input": "2021-03-24T14:17:10.048394Z",
     "iopub.status.busy": "2021-03-24T14:17:10.047089Z",
     "iopub.status.idle": "2021-03-24T14:18:12.647333Z",
     "shell.execute_reply": "2021-03-24T14:18:12.648086Z"
    },
    "papermill": {
     "duration": 62.65345,
     "end_time": "2021-03-24T14:18:12.648324",
     "exception": false,
     "start_time": "2021-03-24T14:17:09.994874",
     "status": "completed"
    },
    "tags": []
   },
   "outputs": [
    {
     "name": "stdout",
     "output_type": "stream",
     "text": [
      "[1] \"Estimates and significance testing of the effect of target variables\"\n",
      "     Estimate. Std. Error t value Pr(>|t|)    \n",
      "e401      8368       1276   6.557  5.5e-11 ***\n",
      "---\n",
      "Signif. codes:  0 '***' 0.001 '**' 0.01 '*' 0.05 '.' 0.1 ' ' 1\n",
      "\n",
      "\n"
     ]
    }
   ],
   "source": [
    "# Random Forest\n",
    "lgr::get_logger(\"mlr3\")$set_threshold(\"warn\") \n",
    "randomForest <- lrn(\"regr.ranger\")\n",
    "randomForest_class <- lrn(\"classif.ranger\")\n",
    "\n",
    "dml_plr <- DoubleMLPLR$new(data_ml, ml_g = randomForest, ml_m = randomForest_class, n_folds=3)\n",
    "dml_plr$fit(store_predictions=TRUE) # set store_predictions=TRUE to evaluate the model\n",
    "dml_plr$summary()\n",
    "forest_plr <- dml_plr$coef\n",
    "forest_std_plr <- dml_plr$se"
   ]
  },
  {
   "cell_type": "markdown",
   "id": "legislative-balance",
   "metadata": {
    "papermill": {
     "duration": 0.04819,
     "end_time": "2021-03-24T14:18:12.746400",
     "exception": false,
     "start_time": "2021-03-24T14:18:12.698210",
     "status": "completed"
    },
    "tags": []
   },
   "source": [
    "We can compare the accuracy of this model to the model that has been estimated with lasso."
   ]
  },
  {
   "cell_type": "code",
   "execution_count": 69,
   "id": "described-expansion",
   "metadata": {
    "execution": {
     "iopub.execute_input": "2021-03-24T14:18:12.892094Z",
     "iopub.status.busy": "2021-03-24T14:18:12.890840Z",
     "iopub.status.idle": "2021-03-24T14:18:12.927047Z",
     "shell.execute_reply": "2021-03-24T14:18:12.926116Z"
    },
    "papermill": {
     "duration": 0.132718,
     "end_time": "2021-03-24T14:18:12.927195",
     "exception": false,
     "start_time": "2021-03-24T14:18:12.794477",
     "status": "completed"
    },
    "tags": []
   },
   "outputs": [
    {
     "data": {
      "text/html": [
       "56301.7307493148"
      ],
      "text/latex": [
       "56301.7307493148"
      ],
      "text/markdown": [
       "56301.7307493148"
      ],
      "text/plain": [
       "[1] 56301.73"
      ]
     },
     "metadata": {},
     "output_type": "display_data"
    },
    {
     "data": {
      "text/html": [
       "0.457953295496333"
      ],
      "text/latex": [
       "0.457953295496333"
      ],
      "text/markdown": [
       "0.457953295496333"
      ],
      "text/plain": [
       "[1] 0.4579533"
      ]
     },
     "metadata": {},
     "output_type": "display_data"
    },
    {
     "data": {
      "text/html": [
       "0.33171961674231"
      ],
      "text/latex": [
       "0.33171961674231"
      ],
      "text/markdown": [
       "0.33171961674231"
      ],
      "text/plain": [
       "[1] 0.3317196"
      ]
     },
     "metadata": {},
     "output_type": "display_data"
    }
   ],
   "source": [
    "# Evaluation predictions\n",
    "g_hat <- as.matrix(dml_plr$predictions$ml_g) # predictions of g_o\n",
    "m_hat <- as.matrix(dml_plr$predictions$ml_m) # predictions of m_o\n",
    "theta <- as.numeric(dml_plr$coef) # estimated regression coefficient\n",
    "predictions_y <- as.matrix(d*theta)+g_hat # predictions for y\n",
    "forest_y_rmse <- sqrt(mean((y-predictions_y)^2)) \n",
    "forest_y_rmse\n",
    "\n",
    "# cross-fitted RMSE: treatment\n",
    "forest_d_rmse <- sqrt(mean((d-m_hat)^2)) \n",
    "forest_d_rmse\n",
    "\n",
    "# cross-fitted ce: treatment\n",
    "mean(ifelse(m_hat > 0.5, 1, 0) != d)"
   ]
  },
  {
   "cell_type": "code",
   "execution_count": 70,
   "id": "aquatic-toner",
   "metadata": {
    "execution": {
     "iopub.execute_input": "2021-03-24T14:18:13.036160Z",
     "iopub.status.busy": "2021-03-24T14:18:13.034322Z",
     "iopub.status.idle": "2021-03-24T14:18:14.545093Z",
     "shell.execute_reply": "2021-03-24T14:18:14.543310Z"
    },
    "papermill": {
     "duration": 1.567333,
     "end_time": "2021-03-24T14:18:14.545412",
     "exception": false,
     "start_time": "2021-03-24T14:18:12.978079",
     "status": "completed"
    },
    "tags": []
   },
   "outputs": [
    {
     "name": "stdout",
     "output_type": "stream",
     "text": [
      "[1] \"Estimates and significance testing of the effect of target variables\"\n",
      "     Estimate. Std. Error t value Pr(>|t|)    \n",
      "e401      8835       1317   6.708 1.98e-11 ***\n",
      "---\n",
      "Signif. codes:  0 '***' 0.001 '**' 0.01 '*' 0.05 '.' 0.1 ' ' 1\n",
      "\n",
      "\n"
     ]
    },
    {
     "data": {
      "text/html": [
       "56708.5196086904"
      ],
      "text/latex": [
       "56708.5196086904"
      ],
      "text/markdown": [
       "56708.5196086904"
      ],
      "text/plain": [
       "[1] 56708.52"
      ]
     },
     "metadata": {},
     "output_type": "display_data"
    },
    {
     "data": {
      "text/html": [
       "0.455388797440497"
      ],
      "text/latex": [
       "0.455388797440497"
      ],
      "text/markdown": [
       "0.455388797440497"
      ],
      "text/plain": [
       "[1] 0.4553888"
      ]
     },
     "metadata": {},
     "output_type": "display_data"
    },
    {
     "data": {
      "text/html": [
       "0.313666162380232"
      ],
      "text/latex": [
       "0.313666162380232"
      ],
      "text/markdown": [
       "0.313666162380232"
      ],
      "text/plain": [
       "[1] 0.3136662"
      ]
     },
     "metadata": {},
     "output_type": "display_data"
    }
   ],
   "source": [
    "# Trees\n",
    "lgr::get_logger(\"mlr3\")$set_threshold(\"warn\") \n",
    "\n",
    "trees <- lrn(\"regr.rpart\")\n",
    "trees_class <- lrn(\"classif.rpart\")\n",
    "\n",
    "dml_plr <- DoubleMLPLR$new(data_ml, ml_g = trees, ml_m = trees_class, n_folds=3)\n",
    "dml_plr$fit(store_predictions=TRUE)\n",
    "dml_plr$summary()\n",
    "tree_plr <- dml_plr$coef\n",
    "tree_std_plr <- dml_plr$se\n",
    "\n",
    "# Evaluation predictions\n",
    "g_hat <- as.matrix(dml_plr$predictions$ml_g) # predictions of g_o\n",
    "m_hat <- as.matrix(dml_plr$predictions$ml_m) # predictions of m_o\n",
    "theta <- as.numeric(dml_plr$coef) # estimated regression coefficient\n",
    "predictions_y <- as.matrix(d*theta)+g_hat # predictions for y\n",
    "tree_y_rmse <- sqrt(mean((y-predictions_y)^2)) \n",
    "tree_y_rmse\n",
    "\n",
    "# cross-fitted RMSE: treatment\n",
    "tree_d_rmse <- sqrt(mean((d-m_hat)^2)) \n",
    "tree_d_rmse\n",
    "\n",
    "# cross-fitted ce: treatment\n",
    "mean(ifelse(m_hat > 0.5, 1, 0) != d)"
   ]
  },
  {
   "cell_type": "code",
   "execution_count": 71,
   "id": "e30a116e",
   "metadata": {},
   "outputs": [
    {
     "data": {
      "text/plain": [
       "<DoubleMLData>\n",
       "  Public:\n",
       "    all_variables: net_tfa e401 poly.age..6..raw...TRUE..1 poly.age..6..raw ...\n",
       "    clone: function (deep = FALSE) \n",
       "    d_cols: e401\n",
       "    data: data.table, data.frame\n",
       "    data_model: data.table, data.frame\n",
       "    initialize: function (data = NULL, x_cols = NULL, y_col = NULL, d_cols = NULL, \n",
       "    n_instr: 0\n",
       "    n_obs: 9915\n",
       "    n_treat: 1\n",
       "    other_treat_cols: NULL\n",
       "    set_data_model: function (treatment_var) \n",
       "    treat_col: e401\n",
       "    use_other_treat_as_covariate: TRUE\n",
       "    x_cols: poly.age..6..raw...TRUE..1 poly.age..6..raw...TRUE..2 po ...\n",
       "    y_col: net_tfa\n",
       "    z_cols: NULL"
      ]
     },
     "metadata": {},
     "output_type": "display_data"
    }
   ],
   "source": [
    "data_ml"
   ]
  },
  {
   "cell_type": "code",
   "execution_count": 73,
   "id": "df21577a",
   "metadata": {
    "execution": {
     "iopub.execute_input": "2021-03-24T14:18:14.656382Z",
     "iopub.status.busy": "2021-03-24T14:18:14.654430Z",
     "iopub.status.idle": "2021-03-24T14:18:15.603413Z",
     "shell.execute_reply": "2021-03-24T14:18:15.601475Z"
    },
    "papermill": {
     "duration": 1.005937,
     "end_time": "2021-03-24T14:18:15.603603",
     "exception": false,
     "start_time": "2021-03-24T14:18:14.597666",
     "status": "completed"
    },
    "tags": []
   },
   "outputs": [],
   "source": [
    "# Boosting\n",
    "lgr::get_logger(\"mlr3\")$set_threshold(\"warn\") \n",
    "boost<- lrn(\"regr.xgboost\",objective=\"reg:squarederror\")\n",
    "boost_class <- lrn(\"classif.xgboost\",objective = \"binary:logistic\",eval_metric =\"logloss\")"
   ]
  },
  {
   "cell_type": "code",
   "execution_count": 74,
   "id": "3a1a898e",
   "metadata": {
    "execution": {
     "iopub.execute_input": "2021-03-24T14:18:14.656382Z",
     "iopub.status.busy": "2021-03-24T14:18:14.654430Z",
     "iopub.status.idle": "2021-03-24T14:18:15.603413Z",
     "shell.execute_reply": "2021-03-24T14:18:15.601475Z"
    },
    "papermill": {
     "duration": 1.005937,
     "end_time": "2021-03-24T14:18:15.603603",
     "exception": false,
     "start_time": "2021-03-24T14:18:14.597666",
     "status": "completed"
    },
    "tags": []
   },
   "outputs": [
    {
     "ename": "ERROR",
     "evalue": "Error in xgboost::xgb.DMatrix(data = data.matrix(data), label = data.matrix(target)): [13:43:28] amalgamation/../src/data/data.cc:945: Check failed: valid: Input data contains `inf` or `nan`\n",
     "output_type": "error",
     "traceback": [
      "Error in xgboost::xgb.DMatrix(data = data.matrix(data), label = data.matrix(target)): [13:43:28] amalgamation/../src/data/data.cc:945: Check failed: valid: Input data contains `inf` or `nan`\nTraceback:\n",
      "1. dml_plr$fit(store_predictions = TRUE)",
      "2. private$ml_nuisance_and_score_elements(private$get__smpls())",
      "3. dml_cv_predict(self$learner$ml_g, c(self$data$x_cols, self$data$other_treat_cols), \n .     self$data$y_col, self$data$data_model, nuisance_id = \"nuis_g\", \n .     smpls = smpls, est_params = self$get_params(\"ml_g\"), return_train_preds = FALSE, \n .     learner_class = private$learner_class$ml_g, fold_specific_params = private$fold_specific_params)",
      "4. resample(task_pred, ml_learner, resampling_smpls, store_models = TRUE)",
      "5. future.apply::future_lapply(seq_len(n), workhorse, task = task, \n .     learner = learner, resampling = instance, store_models = store_models, \n .     lgr_threshold = lg$threshold, pb = pb, future.globals = FALSE, \n .     future.scheduling = structure(TRUE, ordering = \"random\"), \n .     future.packages = \"mlr3\", future.seed = TRUE)",
      "6. future_xapply(FUN = FUN, nX = nX, chunk_args = X, args = list(...), \n .     get_chunk = `[`, expr = expr, envir = envir, future.globals = future.globals, \n .     future.packages = future.packages, future.scheduling = future.scheduling, \n .     future.chunk.size = future.chunk.size, future.stdout = future.stdout, \n .     future.conditions = future.conditions, future.seed = future.seed, \n .     future.lazy = future.lazy, future.label = future.label, fcn_name = fcn_name, \n .     args_name = args_name, debug = debug)",
      "7. value(fs)",
      "8. value.list(fs)",
      "9. resolve(y, result = TRUE, stdout = stdout, signal = signal, force = TRUE)",
      "10. resolve.list(y, result = TRUE, stdout = stdout, signal = signal, \n  .     force = TRUE)",
      "11. signalConditionsASAP(obj, resignal = FALSE, pos = ii)",
      "12. signalConditions(obj, exclude = getOption(\"future.relay.immediate\", \n  .     \"immediateCondition\"), resignal = resignal, ...)"
     ]
    }
   ],
   "source": [
    "dml_plr <- DoubleMLPLR$new(data_ml, ml_g = boost, ml_m = boost_class, n_folds=3)\n",
    "dml_plr$fit(store_predictions=TRUE)\n",
    "dml_plr$summary()"
   ]
  },
  {
   "cell_type": "code",
   "execution_count": 48,
   "id": "collectible-engineering",
   "metadata": {
    "execution": {
     "iopub.execute_input": "2021-03-24T14:18:14.656382Z",
     "iopub.status.busy": "2021-03-24T14:18:14.654430Z",
     "iopub.status.idle": "2021-03-24T14:18:15.603413Z",
     "shell.execute_reply": "2021-03-24T14:18:15.601475Z"
    },
    "papermill": {
     "duration": 1.005937,
     "end_time": "2021-03-24T14:18:15.603603",
     "exception": false,
     "start_time": "2021-03-24T14:18:14.597666",
     "status": "completed"
    },
    "tags": []
   },
   "outputs": [
    {
     "ename": "ERROR",
     "evalue": "Error in xgboost::xgb.DMatrix(data = data.matrix(data), label = data.matrix(target)): [12:11:04] amalgamation/../src/data/data.cc:945: Check failed: valid: Input data contains `inf` or `nan`\n",
     "output_type": "error",
     "traceback": [
      "Error in xgboost::xgb.DMatrix(data = data.matrix(data), label = data.matrix(target)): [12:11:04] amalgamation/../src/data/data.cc:945: Check failed: valid: Input data contains `inf` or `nan`\nTraceback:\n",
      "1. dml_plr$fit(store_predictions = TRUE)",
      "2. private$ml_nuisance_and_score_elements(private$get__smpls())",
      "3. dml_cv_predict(self$learner$ml_g, c(self$data$x_cols, self$data$other_treat_cols), \n .     self$data$y_col, self$data$data_model, nuisance_id = \"nuis_g\", \n .     smpls = smpls, est_params = self$get_params(\"ml_g\"), return_train_preds = FALSE, \n .     learner_class = private$learner_class$ml_g, fold_specific_params = private$fold_specific_params)",
      "4. resample(task_pred, ml_learner, resampling_smpls, store_models = TRUE)",
      "5. future.apply::future_lapply(seq_len(n), workhorse, task = task, \n .     learner = learner, resampling = instance, store_models = store_models, \n .     lgr_threshold = lg$threshold, pb = pb, future.globals = FALSE, \n .     future.scheduling = structure(TRUE, ordering = \"random\"), \n .     future.packages = \"mlr3\", future.seed = TRUE)",
      "6. future_xapply(FUN = FUN, nX = nX, chunk_args = X, args = list(...), \n .     get_chunk = `[`, expr = expr, envir = envir, future.globals = future.globals, \n .     future.packages = future.packages, future.scheduling = future.scheduling, \n .     future.chunk.size = future.chunk.size, future.stdout = future.stdout, \n .     future.conditions = future.conditions, future.seed = future.seed, \n .     future.lazy = future.lazy, future.label = future.label, fcn_name = fcn_name, \n .     args_name = args_name, debug = debug)",
      "7. value(fs)",
      "8. value.list(fs)",
      "9. resolve(y, result = TRUE, stdout = stdout, signal = signal, force = TRUE)",
      "10. resolve.list(y, result = TRUE, stdout = stdout, signal = signal, \n  .     force = TRUE)",
      "11. signalConditionsASAP(obj, resignal = FALSE, pos = ii)",
      "12. signalConditions(obj, exclude = getOption(\"future.relay.immediate\", \n  .     \"immediateCondition\"), resignal = resignal, ...)"
     ]
    }
   ],
   "source": [
    "boost_plr <- dml_plr$coef\n",
    "boost_std_plr <- dml_plr$se\n",
    "\n",
    "# Evaluation predictions\n",
    "g_hat <- as.matrix(dml_plr$predictions$ml_g) # predictions of g_o\n",
    "m_hat <- as.matrix(dml_plr$predictions$ml_m) # predictions of m_o\n",
    "theta <- as.numeric(dml_plr$coef) # estimated regression coefficient\n",
    "predictions_y <- as.matrix(d*theta)+g_hat # predictions for y\n",
    "boost_y_rmse <- sqrt(mean((y-predictions_y)^2)) \n",
    "boost_y_rmse\n",
    "\n",
    "# cross-fitted RMSE: treatment\n",
    "boost_d_rmse <- sqrt(mean((d-m_hat)^2)) \n",
    "boost_d_rmse\n",
    "\n",
    "# cross-fitted ce: treatment\n",
    "mean(ifelse(m_hat > 0.5, 1, 0) != d)"
   ]
  },
  {
   "cell_type": "markdown",
   "id": "laden-netherlands",
   "metadata": {
    "papermill": {
     "duration": 0.057943,
     "end_time": "2021-03-24T14:18:15.717190",
     "exception": false,
     "start_time": "2021-03-24T14:18:15.659247",
     "status": "completed"
    },
    "tags": []
   },
   "source": [
    "Let's sum up the results:"
   ]
  },
  {
   "cell_type": "code",
   "execution_count": 49,
   "id": "seven-hawaii",
   "metadata": {
    "execution": {
     "iopub.execute_input": "2021-03-24T14:18:15.867116Z",
     "iopub.status.busy": "2021-03-24T14:18:15.865054Z",
     "iopub.status.idle": "2021-03-24T14:18:15.930491Z",
     "shell.execute_reply": "2021-03-24T14:18:15.928848Z"
    },
    "papermill": {
     "duration": 0.158103,
     "end_time": "2021-03-24T14:18:15.930645",
     "exception": false,
     "start_time": "2021-03-24T14:18:15.772542",
     "status": "completed"
    },
    "tags": []
   },
   "outputs": [
    {
     "ename": "ERROR",
     "evalue": "Error in eval(expr, envir, enclos): object 'boost_plr' not found\n",
     "output_type": "error",
     "traceback": [
      "Error in eval(expr, envir, enclos): object 'boost_plr' not found\nTraceback:\n"
     ]
    }
   ],
   "source": [
    "library(xtable)\n",
    "table <- matrix(0, 4, 4)\n",
    "table[1,1:4]   <- c(lasso_plr,forest_plr,tree_plr,boost_plr)\n",
    "table[2,1:4]   <- c(lasso_std_plr,forest_std_plr,tree_std_plr,boost_std_plr)\n",
    "table[3,1:4]   <- c(lasso_y_rmse,forest_y_rmse,tree_y_rmse,boost_y_rmse)\n",
    "table[4,1:4]   <- c(lasso_d_rmse,forest_d_rmse,tree_d_rmse,boost_d_rmse)\n",
    "rownames(table) <- c(\"Estimate\",\"Std.Error\",\"RMSE Y\",\"RMSE D\")\n",
    "colnames(table) <- c(\"Lasso\",\"Random Forest\",\"Trees\",\"Boosting\")\n",
    "tab<- xtable(table, digits = 2)\n",
    "tab"
   ]
  },
  {
   "cell_type": "markdown",
   "id": "identical-smith",
   "metadata": {
    "papermill": {
     "duration": 0.056641,
     "end_time": "2021-03-24T14:18:16.044675",
     "exception": false,
     "start_time": "2021-03-24T14:18:15.988034",
     "status": "completed"
    },
    "tags": []
   },
   "source": [
    "The best model with lowest RMSE in both equation is the PLR model estimated via lasso. It gives the following estimate:"
   ]
  },
  {
   "cell_type": "code",
   "execution_count": 83,
   "id": "occupied-wrong",
   "metadata": {
    "execution": {
     "iopub.execute_input": "2021-03-24T14:18:16.164966Z",
     "iopub.status.busy": "2021-03-24T14:18:16.162908Z",
     "iopub.status.idle": "2021-03-24T14:18:16.183110Z",
     "shell.execute_reply": "2021-03-24T14:18:16.181190Z"
    },
    "papermill": {
     "duration": 0.082029,
     "end_time": "2021-03-24T14:18:16.183273",
     "exception": false,
     "start_time": "2021-03-24T14:18:16.101244",
     "status": "completed"
    },
    "tags": []
   },
   "outputs": [
    {
     "data": {
      "text/html": [
       "<strong>e401:</strong> 8737.18433297035"
      ],
      "text/latex": [
       "\\textbf{e401:} 8737.18433297035"
      ],
      "text/markdown": [
       "**e401:** 8737.18433297035"
      ],
      "text/plain": [
       "    e401 \n",
       "8737.184 "
      ]
     },
     "metadata": {},
     "output_type": "display_data"
    }
   ],
   "source": [
    "lasso_plr"
   ]
  },
  {
   "cell_type": "markdown",
   "id": "comprehensive-graphics",
   "metadata": {
    "papermill": {
     "duration": 0.056567,
     "end_time": "2021-03-24T14:18:16.296870",
     "exception": false,
     "start_time": "2021-03-24T14:18:16.240303",
     "status": "completed"
    },
    "tags": []
   },
   "source": [
    "## Interactive Regression Model (IRM)"
   ]
  },
  {
   "cell_type": "markdown",
   "id": "square-craps",
   "metadata": {
    "papermill": {
     "duration": 0.057315,
     "end_time": "2021-03-24T14:18:16.410105",
     "exception": false,
     "start_time": "2021-03-24T14:18:16.352790",
     "status": "completed"
    },
    "tags": []
   },
   "source": [
    "Next, we consider estimation of average treatment effects when treatment effects are fully heterogeneous:"
   ]
  },
  {
   "cell_type": "markdown",
   "id": "large-welcome",
   "metadata": {
    "papermill": {
     "duration": 0.05644,
     "end_time": "2021-03-24T14:18:16.525113",
     "exception": false,
     "start_time": "2021-03-24T14:18:16.468673",
     "status": "completed"
    },
    "tags": []
   },
   "source": [
    " \\begin{eqnarray}\\label{eq: HetPL1}\n",
    " & Y  = g_0(D, X) + U,  &  \\quad E[U \\mid X, D]= 0,\\\\\n",
    "  & D  = m_0(X) + V,  & \\quad  E[V\\mid X] = 0.\n",
    "\\end{eqnarray}"
   ]
  },
  {
   "cell_type": "markdown",
   "id": "perfect-reliance",
   "metadata": {
    "papermill": {
     "duration": 0.056073,
     "end_time": "2021-03-24T14:18:16.637385",
     "exception": false,
     "start_time": "2021-03-24T14:18:16.581312",
     "status": "completed"
    },
    "tags": []
   },
   "source": [
    "To reduce the disproportionate impact of extreme propensity score weights in the interactive model\n",
    "we trim the propensity scores which are close to the bounds."
   ]
  },
  {
   "cell_type": "code",
   "execution_count": 86,
   "id": "maritime-cleveland",
   "metadata": {
    "execution": {
     "iopub.execute_input": "2021-03-24T14:18:16.759482Z",
     "iopub.status.busy": "2021-03-24T14:18:16.758760Z",
     "iopub.status.idle": "2021-03-24T14:18:35.308209Z",
     "shell.execute_reply": "2021-03-24T14:18:35.306089Z"
    },
    "papermill": {
     "duration": 18.61409,
     "end_time": "2021-03-24T14:18:35.308502",
     "exception": false,
     "start_time": "2021-03-24T14:18:16.694412",
     "status": "completed"
    },
    "tags": []
   },
   "outputs": [
    {
     "name": "stdout",
     "output_type": "stream",
     "text": [
      "[1] \"Estimates and significance testing of the effect of target variables\"\n",
      "     Estimate. Std. Error t value Pr(>|t|)    \n",
      "e401      7280       1268   5.739 9.54e-09 ***\n",
      "---\n",
      "Signif. codes:  0 '***' 0.001 '**' 0.01 '*' 0.05 '.' 0.1 ' ' 1\n",
      "\n",
      "\n"
     ]
    },
    {
     "data": {
      "text/html": [
       "<style>\n",
       ".list-inline {list-style: none; margin:0; padding: 0}\n",
       ".list-inline>li {display: inline-block}\n",
       ".list-inline>li:not(:last-child)::after {content: \"\\00b7\"; padding: 0 .5ex}\n",
       "</style>\n",
       "<ol class=list-inline><li>'ml_g0'</li><li>'ml_g1'</li><li>'ml_m'</li></ol>\n"
      ],
      "text/latex": [
       "\\begin{enumerate*}\n",
       "\\item 'ml\\_g0'\n",
       "\\item 'ml\\_g1'\n",
       "\\item 'ml\\_m'\n",
       "\\end{enumerate*}\n"
      ],
      "text/markdown": [
       "1. 'ml_g0'\n",
       "2. 'ml_g1'\n",
       "3. 'ml_m'\n",
       "\n",
       "\n"
      ],
      "text/plain": [
       "[1] \"ml_g0\" \"ml_g1\" \"ml_m\" "
      ]
     },
     "metadata": {},
     "output_type": "display_data"
    }
   ],
   "source": [
    "set.seed(123)\n",
    "lgr::get_logger(\"mlr3\")$set_threshold(\"warn\") \n",
    "dml_irm = DoubleMLIRM$new(data_ml, ml_g = lasso, \n",
    "                          ml_m = lasso_class, \n",
    "                          trimming_threshold = 0.01, n_folds=3)\n",
    "dml_irm$fit(store_predictions=TRUE)\n",
    "dml_irm$summary()\n",
    "lasso_irm <- dml_irm$coef\n",
    "lasso_std_irm <- dml_irm$se\n",
    "\n",
    "\n",
    "# predictions\n",
    "dml_irm$params_names()\n",
    "g0_hat <- as.matrix(dml_irm$predictions$ml_g0) # predictions of g_0(D=0, X)\n",
    "g1_hat <- as.matrix(dml_irm$predictions$ml_g1) # predictions of g_0(D=1, X)\n",
    "g_hat <- d*g1_hat+(1-d)*g0_hat # predictions of g_0\n",
    "m_hat <- as.matrix(dml_irm$predictions$ml_m) # predictions of m_o\n"
   ]
  },
  {
   "cell_type": "code",
   "execution_count": 87,
   "id": "artistic-parallel",
   "metadata": {
    "execution": {
     "iopub.execute_input": "2021-03-24T14:18:35.431099Z",
     "iopub.status.busy": "2021-03-24T14:18:35.428215Z",
     "iopub.status.idle": "2021-03-24T14:18:35.466774Z",
     "shell.execute_reply": "2021-03-24T14:18:35.465197Z"
    },
    "papermill": {
     "duration": 0.100289,
     "end_time": "2021-03-24T14:18:35.466922",
     "exception": false,
     "start_time": "2021-03-24T14:18:35.366633",
     "status": "completed"
    },
    "tags": []
   },
   "outputs": [
    {
     "data": {
      "text/html": [
       "61730.4674226016"
      ],
      "text/latex": [
       "61730.4674226016"
      ],
      "text/markdown": [
       "61730.4674226016"
      ],
      "text/plain": [
       "[1] 61730.47"
      ]
     },
     "metadata": {},
     "output_type": "display_data"
    },
    {
     "data": {
      "text/html": [
       "0.444069289487318"
      ],
      "text/latex": [
       "0.444069289487318"
      ],
      "text/markdown": [
       "0.444069289487318"
      ],
      "text/plain": [
       "[1] 0.4440693"
      ]
     },
     "metadata": {},
     "output_type": "display_data"
    },
    {
     "data": {
      "text/html": [
       "0.315078164397378"
      ],
      "text/latex": [
       "0.315078164397378"
      ],
      "text/markdown": [
       "0.315078164397378"
      ],
      "text/plain": [
       "[1] 0.3150782"
      ]
     },
     "metadata": {},
     "output_type": "display_data"
    }
   ],
   "source": [
    "# cross-fitted RMSE: outcome\n",
    "y <- as.matrix(pension$net_tfa) # true observations\n",
    "d <- as.matrix(pension$e401) \n",
    "lasso_y_irm <- sqrt(mean((y-g_hat)^2)) \n",
    "lasso_y_irm\n",
    "\n",
    "# cross-fitted RMSE: treatment\n",
    "lasso_d_irm <- sqrt(mean((d-m_hat)^2)) \n",
    "lasso_d_irm\n",
    "\n",
    "# cross-fitted ce: treatment\n",
    "mean(ifelse(m_hat > 0.5, 1, 0) != d)"
   ]
  },
  {
   "cell_type": "code",
   "execution_count": 89,
   "id": "f54d603e",
   "metadata": {
    "execution": {
     "iopub.execute_input": "2021-03-24T14:18:35.591899Z",
     "iopub.status.busy": "2021-03-24T14:18:35.590001Z",
     "iopub.status.idle": "2021-03-24T14:19:35.420615Z",
     "shell.execute_reply": "2021-03-24T14:19:35.417901Z"
    },
    "papermill": {
     "duration": 59.894412,
     "end_time": "2021-03-24T14:19:35.420832",
     "exception": false,
     "start_time": "2021-03-24T14:18:35.526420",
     "status": "completed"
    },
    "tags": []
   },
   "outputs": [
    {
     "name": "stdout",
     "output_type": "stream",
     "text": [
      "[1] \"Estimates and significance testing of the effect of target variables\"\n",
      "     Estimate. Std. Error t value Pr(>|t|)    \n",
      "e401      7674       1401   5.477 4.34e-08 ***\n",
      "---\n",
      "Signif. codes:  0 '***' 0.001 '**' 0.01 '*' 0.05 '.' 0.1 ' ' 1\n",
      "\n",
      "\n"
     ]
    },
    {
     "data": {
      "text/html": [
       "56116.0967796085"
      ],
      "text/latex": [
       "56116.0967796085"
      ],
      "text/markdown": [
       "56116.0967796085"
      ],
      "text/plain": [
       "[1] 56116.1"
      ]
     },
     "metadata": {},
     "output_type": "display_data"
    },
    {
     "data": {
      "text/html": [
       "0.45646482548729"
      ],
      "text/latex": [
       "0.45646482548729"
      ],
      "text/markdown": [
       "0.45646482548729"
      ],
      "text/plain": [
       "[1] 0.4564648"
      ]
     },
     "metadata": {},
     "output_type": "display_data"
    },
    {
     "data": {
      "text/html": [
       "0.328189611699445"
      ],
      "text/latex": [
       "0.328189611699445"
      ],
      "text/markdown": [
       "0.328189611699445"
      ],
      "text/plain": [
       "[1] 0.3281896"
      ]
     },
     "metadata": {},
     "output_type": "display_data"
    }
   ],
   "source": [
    "##### forest #####\n",
    "\n",
    "dml_irm = DoubleMLIRM$new(data_ml, ml_g = randomForest, \n",
    "                          ml_m = randomForest_class, \n",
    "                          trimming_threshold = 0.01, n_folds=3)\n",
    "dml_irm$fit(store_predictions=TRUE)\n",
    "dml_irm$summary()\n",
    "forest_irm <- dml_irm$coef\n",
    "forest_std_irm <- dml_plr$se\n",
    "\n",
    "# predictions\n",
    "g0_hat <- as.matrix(dml_irm$predictions$ml_g0) # predictions of g_0(D=0, X)\n",
    "g1_hat <- as.matrix(dml_irm$predictions$ml_g1) # predictions of g_0(D=1, X)\n",
    "g_hat <- d*g1_hat+(1-d)*g0_hat # predictions of g_0\n",
    "m_hat <- as.matrix(dml_irm$predictions$ml_m) # predictions of m_o\n",
    "\n",
    "# cross-fitted RMSE: outcome\n",
    "y <- as.matrix(pension$net_tfa) # true observations\n",
    "d <- as.matrix(pension$e401) \n",
    "forest_y_irm <- sqrt(mean((y-g_hat)^2)) \n",
    "forest_y_irm\n",
    "\n",
    "# cross-fitted RMSE: treatment\n",
    "forest_d_irm <- sqrt(mean((d-m_hat)^2)) \n",
    "forest_d_irm\n",
    "\n",
    "# cross-fitted ce: treatment\n",
    "mean(ifelse(m_hat > 0.5, 1, 0) != d)"
   ]
  },
  {
   "cell_type": "code",
   "execution_count": 90,
   "id": "d388dd16",
   "metadata": {
    "execution": {
     "iopub.execute_input": "2021-03-24T14:18:35.591899Z",
     "iopub.status.busy": "2021-03-24T14:18:35.590001Z",
     "iopub.status.idle": "2021-03-24T14:19:35.420615Z",
     "shell.execute_reply": "2021-03-24T14:19:35.417901Z"
    },
    "papermill": {
     "duration": 59.894412,
     "end_time": "2021-03-24T14:19:35.420832",
     "exception": false,
     "start_time": "2021-03-24T14:18:35.526420",
     "status": "completed"
    },
    "tags": []
   },
   "outputs": [
    {
     "name": "stdout",
     "output_type": "stream",
     "text": [
      "[1] \"Estimates and significance testing of the effect of target variables\"\n",
      "     Estimate. Std. Error t value Pr(>|t|)    \n",
      "e401      7454       1163   6.409 1.47e-10 ***\n",
      "---\n",
      "Signif. codes:  0 '***' 0.001 '**' 0.01 '*' 0.05 '.' 0.1 ' ' 1\n",
      "\n",
      "\n"
     ]
    },
    {
     "data": {
      "text/html": [
       "58271.4874782691"
      ],
      "text/latex": [
       "58271.4874782691"
      ],
      "text/markdown": [
       "58271.4874782691"
      ],
      "text/plain": [
       "[1] 58271.49"
      ]
     },
     "metadata": {},
     "output_type": "display_data"
    },
    {
     "data": {
      "text/html": [
       "0.454921997341491"
      ],
      "text/latex": [
       "0.454921997341491"
      ],
      "text/markdown": [
       "0.454921997341491"
      ],
      "text/plain": [
       "[1] 0.454922"
      ]
     },
     "metadata": {},
     "output_type": "display_data"
    },
    {
     "data": {
      "text/html": [
       "0.31185073121533"
      ],
      "text/latex": [
       "0.31185073121533"
      ],
      "text/markdown": [
       "0.31185073121533"
      ],
      "text/plain": [
       "[1] 0.3118507"
      ]
     },
     "metadata": {},
     "output_type": "display_data"
    }
   ],
   "source": [
    "##### trees #####\n",
    "\n",
    "dml_irm <- DoubleMLIRM$new(data_ml, ml_g = trees, ml_m = trees_class, \n",
    "                           trimming_threshold = 0.01, n_folds=3)\n",
    "dml_irm$fit(store_predictions=TRUE)\n",
    "dml_irm$summary()\n",
    "tree_irm <- dml_irm$coef\n",
    "tree_std_irm <- dml_irm$se\n",
    "\n",
    "# predictions\n",
    "g0_hat <- as.matrix(dml_irm$predictions$ml_g0) # predictions of g_0(D=0, X)\n",
    "g1_hat <- as.matrix(dml_irm$predictions$ml_g1) # predictions of g_0(D=1, X)\n",
    "g_hat <- d*g1_hat+(1-d)*g0_hat # predictions of g_0\n",
    "m_hat <- as.matrix(dml_irm$predictions$ml_m) # predictions of m_o\n",
    "\n",
    "# cross-fitted RMSE: outcome\n",
    "y <- as.matrix(pension$net_tfa) # true observations\n",
    "d <- as.matrix(pension$e401) \n",
    "tree_y_irm <- sqrt(mean((y-g_hat)^2)) \n",
    "tree_y_irm\n",
    "\n",
    "# cross-fitted RMSE: treatment\n",
    "tree_d_irm <- sqrt(mean((d-m_hat)^2)) \n",
    "tree_d_irm\n",
    "\n",
    "# cross-fitted ce: treatment\n",
    "mean(ifelse(m_hat > 0.5, 1, 0) != d)"
   ]
  },
  {
   "cell_type": "code",
   "execution_count": 21,
   "id": "hired-somerset",
   "metadata": {
    "execution": {
     "iopub.execute_input": "2021-03-24T14:18:35.591899Z",
     "iopub.status.busy": "2021-03-24T14:18:35.590001Z",
     "iopub.status.idle": "2021-03-24T14:19:35.420615Z",
     "shell.execute_reply": "2021-03-24T14:19:35.417901Z"
    },
    "papermill": {
     "duration": 59.894412,
     "end_time": "2021-03-24T14:19:35.420832",
     "exception": false,
     "start_time": "2021-03-24T14:18:35.526420",
     "status": "completed"
    },
    "tags": []
   },
   "outputs": [
    {
     "name": "stdout",
     "output_type": "stream",
     "text": [
      "[1] \"Estimates and significance testing of the effect of target variables\"\n",
      "     Estimate. Std. Error t value Pr(>|t|)    \n",
      "e401      7933       1347    5.89 3.86e-09 ***\n",
      "---\n",
      "Signif. codes:  0 ‘***’ 0.001 ‘**’ 0.01 ‘*’ 0.05 ‘.’ 0.1 ‘ ’ 1\n",
      "\n",
      "\n"
     ]
    },
    {
     "data": {
      "text/html": [
       "55602.1648765556"
      ],
      "text/latex": [
       "55602.1648765556"
      ],
      "text/markdown": [
       "55602.1648765556"
      ],
      "text/plain": [
       "[1] 55602.16"
      ]
     },
     "metadata": {},
     "output_type": "display_data"
    },
    {
     "data": {
      "text/html": [
       "0.457410898917724"
      ],
      "text/latex": [
       "0.457410898917724"
      ],
      "text/markdown": [
       "0.457410898917724"
      ],
      "text/plain": [
       "[1] 0.4574109"
      ]
     },
     "metadata": {},
     "output_type": "display_data"
    },
    {
     "data": {
      "text/html": [
       "0.331517902168432"
      ],
      "text/latex": [
       "0.331517902168432"
      ],
      "text/markdown": [
       "0.331517902168432"
      ],
      "text/plain": [
       "[1] 0.3315179"
      ]
     },
     "metadata": {},
     "output_type": "display_data"
    },
    {
     "name": "stdout",
     "output_type": "stream",
     "text": [
      "[1] \"Estimates and significance testing of the effect of target variables\"\n",
      "     Estimate. Std. Error t value Pr(>|t|)    \n",
      "e401      7477       1187     6.3 2.97e-10 ***\n",
      "---\n",
      "Signif. codes:  0 ‘***’ 0.001 ‘**’ 0.01 ‘*’ 0.05 ‘.’ 0.1 ‘ ’ 1\n",
      "\n",
      "\n"
     ]
    },
    {
     "data": {
      "text/html": [
       "57305.2609648949"
      ],
      "text/latex": [
       "57305.2609648949"
      ],
      "text/markdown": [
       "57305.2609648949"
      ],
      "text/plain": [
       "[1] 57305.26"
      ]
     },
     "metadata": {},
     "output_type": "display_data"
    },
    {
     "data": {
      "text/html": [
       "0.455894013067015"
      ],
      "text/latex": [
       "0.455894013067015"
      ],
      "text/markdown": [
       "0.455894013067015"
      ],
      "text/plain": [
       "[1] 0.455894"
      ]
     },
     "metadata": {},
     "output_type": "display_data"
    },
    {
     "data": {
      "text/html": [
       "0.313565305093293"
      ],
      "text/latex": [
       "0.313565305093293"
      ],
      "text/markdown": [
       "0.313565305093293"
      ],
      "text/plain": [
       "[1] 0.3135653"
      ]
     },
     "metadata": {},
     "output_type": "display_data"
    },
    {
     "name": "stdout",
     "output_type": "stream",
     "text": [
      "[1] \"Estimates and significance testing of the effect of target variables\"\n",
      "     Estimate. Std. Error t value Pr(>|t|)    \n",
      "e401      8353       1228   6.803 1.03e-11 ***\n",
      "---\n",
      "Signif. codes:  0 ‘***’ 0.001 ‘**’ 0.01 ‘*’ 0.05 ‘.’ 0.1 ‘ ’ 1\n",
      "\n",
      "\n"
     ]
    },
    {
     "data": {
      "text/html": [
       "61055.9143568919"
      ],
      "text/latex": [
       "61055.9143568919"
      ],
      "text/markdown": [
       "61055.9143568919"
      ],
      "text/plain": [
       "[1] 61055.91"
      ]
     },
     "metadata": {},
     "output_type": "display_data"
    },
    {
     "data": {
      "text/html": [
       "0.473234647359898"
      ],
      "text/latex": [
       "0.473234647359898"
      ],
      "text/markdown": [
       "0.473234647359898"
      ],
      "text/plain": [
       "[1] 0.4732346"
      ]
     },
     "metadata": {},
     "output_type": "display_data"
    },
    {
     "data": {
      "text/html": [
       "0.323449319213313"
      ],
      "text/latex": [
       "0.323449319213313"
      ],
      "text/markdown": [
       "0.323449319213313"
      ],
      "text/plain": [
       "[1] 0.3234493"
      ]
     },
     "metadata": {},
     "output_type": "display_data"
    }
   ],
   "source": [
    "##### boosting #####\n",
    "\n",
    "dml_irm <- DoubleMLIRM$new(data_ml, ml_g = boost, ml_m = boost_class,\n",
    "                           trimming_threshold = 0.01, n_folds=3)\n",
    "dml_irm$fit(store_predictions=TRUE)\n",
    "dml_irm$summary()\n",
    "boost_irm <- dml_irm$coef\n",
    "boost_std_irm <- dml_irm$se\n",
    "\n",
    "# predictions\n",
    "g0_hat <- as.matrix(dml_irm$predictions$ml_g0) # predictions of g_0(D=0, X)\n",
    "g1_hat <- as.matrix(dml_irm$predictions$ml_g1) # predictions of g_0(D=1, X)\n",
    "g_hat <- d*g1_hat+(1-d)*g0_hat # predictions of g_0\n",
    "m_hat <- as.matrix(dml_irm$predictions$ml_m) # predictions of m_o\n",
    "\n",
    "# cross-fitted RMSE: outcome\n",
    "y <- as.matrix(pension$net_tfa) # true observations\n",
    "d <- as.matrix(pension$e401) \n",
    "boost_y_irm <- sqrt(mean((y-g_hat)^2)) \n",
    "boost_y_irm\n",
    "\n",
    "# cross-fitted RMSE: treatment\n",
    "boost_d_irm <- sqrt(mean((d-m_hat)^2)) \n",
    "boost_d_irm\n",
    "\n",
    "# cross-fitted ce: treatment\n",
    "mean(ifelse(m_hat > 0.5, 1, 0) != d)"
   ]
  },
  {
   "cell_type": "code",
   "execution_count": 91,
   "id": "stopped-concrete",
   "metadata": {
    "execution": {
     "iopub.execute_input": "2021-03-24T14:19:35.564530Z",
     "iopub.status.busy": "2021-03-24T14:19:35.563346Z",
     "iopub.status.idle": "2021-03-24T14:19:35.601128Z",
     "shell.execute_reply": "2021-03-24T14:19:35.599153Z"
    },
    "papermill": {
     "duration": 0.109284,
     "end_time": "2021-03-24T14:19:35.601290",
     "exception": false,
     "start_time": "2021-03-24T14:19:35.492006",
     "status": "completed"
    },
    "tags": []
   },
   "outputs": [
    {
     "ename": "ERROR",
     "evalue": "Error in eval(expr, envir, enclos): object 'boost_irm' not found\n",
     "output_type": "error",
     "traceback": [
      "Error in eval(expr, envir, enclos): object 'boost_irm' not found\nTraceback:\n"
     ]
    }
   ],
   "source": [
    "library(xtable)\n",
    "table <- matrix(0, 4, 4)\n",
    "table[1,1:4]   <- c(lasso_irm,forest_irm,tree_irm,boost_irm)\n",
    "table[2,1:4]   <- c(lasso_std_irm,forest_std_irm,tree_std_irm,boost_std_irm)\n",
    "table[3,1:4]   <- c(lasso_y_irm,forest_y_irm,tree_y_irm,boost_y_irm)\n",
    "table[4,1:4]   <- c(lasso_d_irm,forest_d_irm,tree_d_irm,boost_d_irm)\n",
    "rownames(table) <- c(\"Estimate\",\"Std.Error\",\"RMSE Y\",\"RMSE D\")\n",
    "colnames(table) <- c(\"Lasso\",\"Random Forest\",\"Trees\",\"Boosting\")\n",
    "tab<- xtable(table, digits = 2)\n",
    "tab"
   ]
  },
  {
   "cell_type": "markdown",
   "id": "surrounded-hospital",
   "metadata": {
    "papermill": {
     "duration": 0.067113,
     "end_time": "2021-03-24T14:19:35.736036",
     "exception": false,
     "start_time": "2021-03-24T14:19:35.668923",
     "status": "completed"
    },
    "tags": []
   },
   "source": [
    "Here, Random Forest gives the best prediction rule for $g_0$ and Lasso the best prediction rule for $m_0$, respectively. Let us fit the IRM model using the best ML method for each equation to get a final estimate for the treatment effect of eligibility."
   ]
  },
  {
   "cell_type": "code",
   "execution_count": 23,
   "id": "later-fraud",
   "metadata": {
    "execution": {
     "iopub.execute_input": "2021-03-24T14:19:35.880010Z",
     "iopub.status.busy": "2021-03-24T14:19:35.878579Z",
     "iopub.status.idle": "2021-03-24T14:20:21.421235Z",
     "shell.execute_reply": "2021-03-24T14:20:21.421888Z"
    },
    "papermill": {
     "duration": 45.616712,
     "end_time": "2021-03-24T14:20:21.422243",
     "exception": false,
     "start_time": "2021-03-24T14:19:35.805531",
     "status": "completed"
    },
    "tags": []
   },
   "outputs": [
    {
     "name": "stdout",
     "output_type": "stream",
     "text": [
      "[1] \"Estimates and significance testing of the effect of target variables\"\n",
      "     Estimate. Std. Error t value Pr(>|t|)    \n",
      "e401      8310       1130   7.354 1.93e-13 ***\n",
      "---\n",
      "Signif. codes:  0 ‘***’ 0.001 ‘**’ 0.01 ‘*’ 0.05 ‘.’ 0.1 ‘ ’ 1\n",
      "\n",
      "\n"
     ]
    }
   ],
   "source": [
    "set.seed(123)\n",
    "lgr::get_logger(\"mlr3\")$set_threshold(\"warn\") \n",
    "dml_irm = DoubleMLIRM$new(data_ml, ml_g = randomForest, \n",
    "                          ml_m = lasso_class, \n",
    "                          trimming_threshold = 0.01, n_folds=3)\n",
    "dml_irm$fit(store_predictions=TRUE)\n",
    "dml_irm$summary()\n",
    "best_irm <- dml_irm$coef\n",
    "best_std_irm <- dml_irm$se"
   ]
  },
  {
   "cell_type": "markdown",
   "id": "discrete-karma",
   "metadata": {
    "papermill": {
     "duration": 0.066697,
     "end_time": "2021-03-24T14:20:21.555921",
     "exception": false,
     "start_time": "2021-03-24T14:20:21.489224",
     "status": "completed"
    },
    "tags": []
   },
   "source": [
    "These estimates that flexibly account for confounding are\n",
    "substantially attenuated relative to the baseline estimate (*19559*) that does not account for confounding. They suggest much smaller causal effects of 401(k) eligiblity on financial asset holdings. "
   ]
  },
  {
   "cell_type": "markdown",
   "id": "timely-bunch",
   "metadata": {
    "papermill": {
     "duration": 0.06665,
     "end_time": "2021-03-24T14:20:21.689265",
     "exception": false,
     "start_time": "2021-03-24T14:20:21.622615",
     "status": "completed"
    },
    "tags": []
   },
   "source": [
    "## Local Average Treatment Effects of 401(k) Participation on Net Financial Assets"
   ]
  },
  {
   "cell_type": "markdown",
   "id": "composite-isaac",
   "metadata": {
    "papermill": {
     "duration": 0.067774,
     "end_time": "2021-03-24T14:20:21.824102",
     "exception": false,
     "start_time": "2021-03-24T14:20:21.756328",
     "status": "completed"
    },
    "tags": []
   },
   "source": [
    "## Interactive IV Model (IIVM)"
   ]
  },
  {
   "cell_type": "markdown",
   "id": "together-editing",
   "metadata": {
    "papermill": {
     "duration": 0.066857,
     "end_time": "2021-03-24T14:20:21.957598",
     "exception": false,
     "start_time": "2021-03-24T14:20:21.890741",
     "status": "completed"
    },
    "tags": []
   },
   "source": [
    "Now, we consider estimation of local average treatment effects (LATE) of participation with the binary instrument `e401`. As before, $Y$ denotes the outcome `net_tfa`, and $X$ is the vector of covariates.  Here the structural equation model is:\n",
    "\n",
    "\\begin{eqnarray}\n",
    "& Y = g_0(Z,X) + U, &\\quad E[U\\mid Z,X] = 0,\\\\\n",
    "& D = r_0(Z,X) + V, &\\quad E[V\\mid Z, X] = 0,\\\\\n",
    "& Z = m_0(X) + \\zeta, &\\quad E[\\zeta \\mid X] = 0.\n",
    "\\end{eqnarray}"
   ]
  },
  {
   "cell_type": "code",
   "execution_count": 24,
   "id": "capable-gauge",
   "metadata": {
    "execution": {
     "iopub.execute_input": "2021-03-24T14:20:22.099109Z",
     "iopub.status.busy": "2021-03-24T14:20:22.098355Z",
     "iopub.status.idle": "2021-03-24T14:20:22.137978Z",
     "shell.execute_reply": "2021-03-24T14:20:22.136922Z"
    },
    "papermill": {
     "duration": 0.112727,
     "end_time": "2021-03-24T14:20:22.138131",
     "exception": false,
     "start_time": "2021-03-24T14:20:22.025404",
     "status": "completed"
    },
    "tags": []
   },
   "outputs": [],
   "source": [
    "# Constructing the data (as DoubleMLData)\n",
    "formula_flex2 = \"net_tfa ~ p401+ e401 + poly(age, 6, raw=TRUE) + poly(inc, 8, raw=TRUE) + poly(educ, 4, raw=TRUE) + poly(fsize, 2, raw=TRUE) + marr + twoearn + db + pira + hown\"\n",
    "model_flex2 = as.data.table(model.frame(formula_flex2, data))\n",
    "x_cols = colnames(model_flex2)[-c(1,2,3)]\n",
    "data_IV = DoubleMLData$new(model_flex2, y_col = \"net_tfa\", d_cols = \"p401\", z_cols =\"e401\",x_cols=x_cols)"
   ]
  },
  {
   "cell_type": "code",
   "execution_count": 25,
   "id": "quick-fellowship",
   "metadata": {
    "execution": {
     "iopub.execute_input": "2021-03-24T14:20:22.281232Z",
     "iopub.status.busy": "2021-03-24T14:20:22.279563Z",
     "iopub.status.idle": "2021-03-24T14:20:43.691559Z",
     "shell.execute_reply": "2021-03-24T14:20:43.689836Z"
    },
    "papermill": {
     "duration": 21.484394,
     "end_time": "2021-03-24T14:20:43.691771",
     "exception": false,
     "start_time": "2021-03-24T14:20:22.207377",
     "status": "completed"
    },
    "tags": []
   },
   "outputs": [
    {
     "name": "stdout",
     "output_type": "stream",
     "text": [
      "[1] \"Estimates and significance testing of the effect of target variables\"\n",
      "     Estimate. Std. Error t value Pr(>|t|)    \n",
      "p401     10528       1833   5.743 9.29e-09 ***\n",
      "---\n",
      "Signif. codes:  0 ‘***’ 0.001 ‘**’ 0.01 ‘*’ 0.05 ‘.’ 0.1 ‘ ’ 1\n",
      "\n",
      "\n"
     ]
    }
   ],
   "source": [
    "set.seed(123)\n",
    "lgr::get_logger(\"mlr3\")$set_threshold(\"warn\") \n",
    "dml_MLIIVM = DoubleMLIIVM$new(data_IV, ml_g = lasso, \n",
    "                       ml_m = lasso_class, ml_r = lasso_class,n_folds=3, subgroups = list(always_takers = FALSE, \n",
    "                                         never_takers = TRUE))\n",
    "dml_MLIIVM$fit(store_predictions=TRUE)\n",
    "dml_MLIIVM$summary()\n",
    "lasso_MLIIVM <- dml_MLIIVM$coef\n",
    "lasso_std_MLIIVM <- dml_MLIIVM$se"
   ]
  },
  {
   "cell_type": "markdown",
   "id": "played-rugby",
   "metadata": {
    "papermill": {
     "duration": 0.069118,
     "end_time": "2021-03-24T14:20:43.830269",
     "exception": false,
     "start_time": "2021-03-24T14:20:43.761151",
     "status": "completed"
    },
    "tags": []
   },
   "source": [
    "The confidence interval for the local average treatment effect of participation is given by"
   ]
  },
  {
   "cell_type": "code",
   "execution_count": 26,
   "id": "healthy-lesson",
   "metadata": {
    "execution": {
     "iopub.execute_input": "2021-03-24T14:20:43.973277Z",
     "iopub.status.busy": "2021-03-24T14:20:43.971521Z",
     "iopub.status.idle": "2021-03-24T14:20:43.992998Z",
     "shell.execute_reply": "2021-03-24T14:20:43.991154Z"
    },
    "papermill": {
     "duration": 0.093963,
     "end_time": "2021-03-24T14:20:43.993163",
     "exception": false,
     "start_time": "2021-03-24T14:20:43.899200",
     "status": "completed"
    },
    "tags": []
   },
   "outputs": [
    {
     "data": {
      "text/html": [
       "<table class=\"dataframe\">\n",
       "<caption>A matrix: 1 × 2 of type dbl</caption>\n",
       "<thead>\n",
       "\t<tr><th></th><th scope=col>2.5 %</th><th scope=col>97.5 %</th></tr>\n",
       "</thead>\n",
       "<tbody>\n",
       "\t<tr><th scope=row>p401</th><td>6934.916</td><td>14120.31</td></tr>\n",
       "</tbody>\n",
       "</table>\n"
      ],
      "text/latex": [
       "A matrix: 1 × 2 of type dbl\n",
       "\\begin{tabular}{r|ll}\n",
       "  & 2.5 \\% & 97.5 \\%\\\\\n",
       "\\hline\n",
       "\tp401 & 6934.916 & 14120.31\\\\\n",
       "\\end{tabular}\n"
      ],
      "text/markdown": [
       "\n",
       "A matrix: 1 × 2 of type dbl\n",
       "\n",
       "| <!--/--> | 2.5 % | 97.5 % |\n",
       "|---|---|---|\n",
       "| p401 | 6934.916 | 14120.31 |\n",
       "\n"
      ],
      "text/plain": [
       "     2.5 %    97.5 %  \n",
       "p401 6934.916 14120.31"
      ]
     },
     "metadata": {},
     "output_type": "display_data"
    }
   ],
   "source": [
    "dml_MLIIVM$confint(level = 0.95)"
   ]
  },
  {
   "cell_type": "markdown",
   "id": "prospective-aggregate",
   "metadata": {
    "papermill": {
     "duration": 0.07021,
     "end_time": "2021-03-24T14:20:44.133038",
     "exception": false,
     "start_time": "2021-03-24T14:20:44.062828",
     "status": "completed"
    },
    "tags": []
   },
   "source": [
    "Here we can also check the accuracy of the model:"
   ]
  },
  {
   "cell_type": "code",
   "execution_count": 27,
   "id": "finished-harassment",
   "metadata": {
    "execution": {
     "iopub.execute_input": "2021-03-24T14:20:44.280222Z",
     "iopub.status.busy": "2021-03-24T14:20:44.278087Z",
     "iopub.status.idle": "2021-03-24T14:20:44.313718Z",
     "shell.execute_reply": "2021-03-24T14:20:44.311941Z"
    },
    "papermill": {
     "duration": 0.109791,
     "end_time": "2021-03-24T14:20:44.313881",
     "exception": false,
     "start_time": "2021-03-24T14:20:44.204090",
     "status": "completed"
    },
    "tags": []
   },
   "outputs": [
    {
     "data": {
      "text/html": [
       "<style>\n",
       ".list-inline {list-style: none; margin:0; padding: 0}\n",
       ".list-inline>li {display: inline-block}\n",
       ".list-inline>li:not(:last-child)::after {content: \"\\00b7\"; padding: 0 .5ex}\n",
       "</style>\n",
       "<ol class=list-inline><li>'ml_g0'</li><li>'ml_g1'</li><li>'ml_m'</li><li>'ml_r0'</li><li>'ml_r1'</li></ol>\n"
      ],
      "text/latex": [
       "\\begin{enumerate*}\n",
       "\\item 'ml\\_g0'\n",
       "\\item 'ml\\_g1'\n",
       "\\item 'ml\\_m'\n",
       "\\item 'ml\\_r0'\n",
       "\\item 'ml\\_r1'\n",
       "\\end{enumerate*}\n"
      ],
      "text/markdown": [
       "1. 'ml_g0'\n",
       "2. 'ml_g1'\n",
       "3. 'ml_m'\n",
       "4. 'ml_r0'\n",
       "5. 'ml_r1'\n",
       "\n",
       "\n"
      ],
      "text/plain": [
       "[1] \"ml_g0\" \"ml_g1\" \"ml_m\"  \"ml_r0\" \"ml_r1\""
      ]
     },
     "metadata": {},
     "output_type": "display_data"
    }
   ],
   "source": [
    "# variables\n",
    "y <- as.matrix(pension$net_tfa) # true observations\n",
    "d <- as.matrix(pension$p401) \n",
    "z <- as.matrix(pension$e401) \n",
    "\n",
    "# predictions\n",
    "dml_MLIIVM$params_names()\n",
    "g0_hat <- as.matrix(dml_MLIIVM$predictions$ml_g0) # predictions of g_0(z=0, X)\n",
    "g1_hat <- as.matrix(dml_MLIIVM$predictions$ml_g1) # predictions of g_0(z=1, X)\n",
    "g_hat <- z*g1_hat+(1-z)*g0_hat # predictions of g_0\n",
    "r0_hat <- as.matrix(dml_MLIIVM$predictions$ml_r0) # predictions of r_0(z=0, X)\n",
    "r1_hat <- as.matrix(dml_MLIIVM$predictions$ml_r1) # predictions of r_0(z=1, X)\n",
    "r_hat <- z*r1_hat+(1-z)*r0_hat # predictions of r_0\n",
    "m_hat <- as.matrix(dml_MLIIVM$predictions$ml_m) # predictions of m_o"
   ]
  },
  {
   "cell_type": "code",
   "execution_count": 28,
   "id": "national-steering",
   "metadata": {
    "execution": {
     "iopub.execute_input": "2021-03-24T14:20:44.462740Z",
     "iopub.status.busy": "2021-03-24T14:20:44.460887Z",
     "iopub.status.idle": "2021-03-24T14:20:44.497932Z",
     "shell.execute_reply": "2021-03-24T14:20:44.496180Z"
    },
    "papermill": {
     "duration": 0.113011,
     "end_time": "2021-03-24T14:20:44.498082",
     "exception": false,
     "start_time": "2021-03-24T14:20:44.385071",
     "status": "completed"
    },
    "tags": []
   },
   "outputs": [
    {
     "data": {
      "text/html": [
       "61730.4674226016"
      ],
      "text/latex": [
       "61730.4674226016"
      ],
      "text/markdown": [
       "61730.4674226016"
      ],
      "text/plain": [
       "[1] 61730.47"
      ]
     },
     "metadata": {},
     "output_type": "display_data"
    },
    {
     "data": {
      "text/html": [
       "0.273063858434189"
      ],
      "text/latex": [
       "0.273063858434189"
      ],
      "text/markdown": [
       "0.273063858434189"
      ],
      "text/plain": [
       "[1] 0.2730639"
      ]
     },
     "metadata": {},
     "output_type": "display_data"
    },
    {
     "data": {
      "text/html": [
       "0.444069289487318"
      ],
      "text/latex": [
       "0.444069289487318"
      ],
      "text/markdown": [
       "0.444069289487318"
      ],
      "text/plain": [
       "[1] 0.4440693"
      ]
     },
     "metadata": {},
     "output_type": "display_data"
    }
   ],
   "source": [
    "# cross-fitted RMSE: outcome\n",
    "lasso_y_MLIIVM <- sqrt(mean((y-g_hat)^2)) \n",
    "lasso_y_MLIIVM\n",
    "\n",
    "# cross-fitted RMSE: treatment\n",
    "lasso_d_MLIIVM <- sqrt(mean((d-r_hat)^2)) \n",
    "lasso_d_MLIIVM\n",
    "\n",
    "# cross-fitted RMSE: instrument\n",
    "lasso_z_MLIIVM <- sqrt(mean((z-m_hat)^2)) \n",
    "lasso_z_MLIIVM\n"
   ]
  },
  {
   "cell_type": "markdown",
   "id": "consistent-compression",
   "metadata": {
    "papermill": {
     "duration": 0.070907,
     "end_time": "2021-03-24T14:20:44.640829",
     "exception": false,
     "start_time": "2021-03-24T14:20:44.569922",
     "status": "completed"
    },
    "tags": []
   },
   "source": [
    "Again, we repeat the procedure for the other machine learning methods:"
   ]
  },
  {
   "cell_type": "code",
   "execution_count": 29,
   "id": "graduate-harrison",
   "metadata": {
    "execution": {
     "iopub.execute_input": "2021-03-24T14:20:44.789529Z",
     "iopub.status.busy": "2021-03-24T14:20:44.787575Z",
     "iopub.status.idle": "2021-03-24T14:21:54.825110Z",
     "shell.execute_reply": "2021-03-24T14:21:54.823299Z"
    },
    "papermill": {
     "duration": 70.113632,
     "end_time": "2021-03-24T14:21:54.825289",
     "exception": false,
     "start_time": "2021-03-24T14:20:44.711657",
     "status": "completed"
    },
    "tags": []
   },
   "outputs": [
    {
     "name": "stdout",
     "output_type": "stream",
     "text": [
      "[1] \"Estimates and significance testing of the effect of target variables\"\n",
      "     Estimate. Std. Error t value Pr(>|t|)    \n",
      "p401     12156       1957   6.212 5.24e-10 ***\n",
      "---\n",
      "Signif. codes:  0 ‘***’ 0.001 ‘**’ 0.01 ‘*’ 0.05 ‘.’ 0.1 ‘ ’ 1\n",
      "\n",
      "\n"
     ]
    },
    {
     "data": {
      "text/html": [
       "56152.0373394551"
      ],
      "text/latex": [
       "56152.0373394551"
      ],
      "text/markdown": [
       "56152.0373394551"
      ],
      "text/plain": [
       "[1] 56152.04"
      ]
     },
     "metadata": {},
     "output_type": "display_data"
    },
    {
     "data": {
      "text/html": [
       "0.282240102003389"
      ],
      "text/latex": [
       "0.282240102003389"
      ],
      "text/markdown": [
       "0.282240102003389"
      ],
      "text/plain": [
       "[1] 0.2822401"
      ]
     },
     "metadata": {},
     "output_type": "display_data"
    },
    {
     "data": {
      "text/html": [
       "0.457723772745491"
      ],
      "text/latex": [
       "0.457723772745491"
      ],
      "text/markdown": [
       "0.457723772745491"
      ],
      "text/plain": [
       "[1] 0.4577238"
      ]
     },
     "metadata": {},
     "output_type": "display_data"
    },
    {
     "name": "stdout",
     "output_type": "stream",
     "text": [
      "[1] \"Estimates and significance testing of the effect of target variables\"\n",
      "     Estimate. Std. Error t value Pr(>|t|)    \n",
      "p401     11341       1719   6.596 4.23e-11 ***\n",
      "---\n",
      "Signif. codes:  0 ‘***’ 0.001 ‘**’ 0.01 ‘*’ 0.05 ‘.’ 0.1 ‘ ’ 1\n",
      "\n",
      "\n"
     ]
    },
    {
     "data": {
      "text/html": [
       "58138.8671314746"
      ],
      "text/latex": [
       "58138.8671314746"
      ],
      "text/markdown": [
       "58138.8671314746"
      ],
      "text/plain": [
       "[1] 58138.87"
      ]
     },
     "metadata": {},
     "output_type": "display_data"
    },
    {
     "data": {
      "text/html": [
       "0.278065853668596"
      ],
      "text/latex": [
       "0.278065853668596"
      ],
      "text/markdown": [
       "0.278065853668596"
      ],
      "text/plain": [
       "[1] 0.2780659"
      ]
     },
     "metadata": {},
     "output_type": "display_data"
    },
    {
     "data": {
      "text/html": [
       "0.455683602053198"
      ],
      "text/latex": [
       "0.455683602053198"
      ],
      "text/markdown": [
       "0.455683602053198"
      ],
      "text/plain": [
       "[1] 0.4556836"
      ]
     },
     "metadata": {},
     "output_type": "display_data"
    },
    {
     "name": "stdout",
     "output_type": "stream",
     "text": [
      "[1] \"Estimates and significance testing of the effect of target variables\"\n",
      "     Estimate. Std. Error t value Pr(>|t|)    \n",
      "p401     12529       1822   6.878 6.08e-12 ***\n",
      "---\n",
      "Signif. codes:  0 ‘***’ 0.001 ‘**’ 0.01 ‘*’ 0.05 ‘.’ 0.1 ‘ ’ 1\n",
      "\n",
      "\n"
     ]
    },
    {
     "data": {
      "text/html": [
       "61377.343221528"
      ],
      "text/latex": [
       "61377.343221528"
      ],
      "text/markdown": [
       "61377.343221528"
      ],
      "text/plain": [
       "[1] 61377.34"
      ]
     },
     "metadata": {},
     "output_type": "display_data"
    },
    {
     "data": {
      "text/html": [
       "0.289797050341825"
      ],
      "text/latex": [
       "0.289797050341825"
      ],
      "text/markdown": [
       "0.289797050341825"
      ],
      "text/plain": [
       "[1] 0.2897971"
      ]
     },
     "metadata": {},
     "output_type": "display_data"
    },
    {
     "data": {
      "text/html": [
       "0.472681479997785"
      ],
      "text/latex": [
       "0.472681479997785"
      ],
      "text/markdown": [
       "0.472681479997785"
      ],
      "text/plain": [
       "[1] 0.4726815"
      ]
     },
     "metadata": {},
     "output_type": "display_data"
    }
   ],
   "source": [
    "### random forest ###\n",
    "\n",
    "set.seed(123)\n",
    "lgr::get_logger(\"mlr3\")$set_threshold(\"warn\") \n",
    "dml_MLIIVM = DoubleMLIIVM$new(data_IV, ml_g = randomForest, \n",
    "                       ml_m = randomForest_class, ml_r = randomForest_class,n_folds=3, subgroups = list(always_takers = FALSE, \n",
    "                                         never_takers = TRUE))\n",
    "dml_MLIIVM$fit(store_predictions=TRUE)\n",
    "dml_MLIIVM$summary()\n",
    "forest_MLIIVM <- dml_MLIIVM$coef\n",
    "forest_std_MLIIVM <- dml_MLIIVM$se\n",
    "\n",
    "# predictions\n",
    "g0_hat <- as.matrix(dml_MLIIVM$predictions$ml_g0) # predictions of g_0(Z=0, X)\n",
    "g1_hat <- as.matrix(dml_MLIIVM$predictions$ml_g1) # predictions of g_0(Z=1, X)\n",
    "g_hat <- z*g1_hat+(1-z)*g0_hat # predictions of g_0\n",
    "r0_hat <- as.matrix(dml_MLIIVM$predictions$ml_r0) # predictions of r_0(Z=0, X)\n",
    "r1_hat <- as.matrix(dml_MLIIVM$predictions$ml_r1) # predictions of r_0(Z=1, X)\n",
    "r_hat <- z*r1_hat+(1-z)*r0_hat # predictions of r_0\n",
    "m_hat <- as.matrix(dml_MLIIVM$predictions$ml_m) # predictions of m_o\n",
    "\n",
    "# cross-fitted RMSE: outcome\n",
    "forest_y_MLIIVM <- sqrt(mean((y-g_hat)^2)) \n",
    "forest_y_MLIIVM\n",
    "\n",
    "# cross-fitted RMSE: treatment\n",
    "forest_d_MLIIVM <- sqrt(mean((d-r_hat)^2)) \n",
    "forest_d_MLIIVM\n",
    "\n",
    "# cross-fitted RMSE: instrument\n",
    "forest_z_MLIIVM <- sqrt(mean((z-m_hat)^2)) \n",
    "forest_z_MLIIVM\n",
    "\n",
    "### trees ###\n",
    "\n",
    "dml_MLIIVM = DoubleMLIIVM$new(data_IV, ml_g = trees, \n",
    "                       ml_m = trees_class, ml_r = trees_class,n_folds=3, subgroups = list(always_takers = FALSE, \n",
    "                                         never_takers = TRUE))\n",
    "dml_MLIIVM$fit(store_predictions=TRUE)\n",
    "dml_MLIIVM$summary()\n",
    "tree_MLIIVM <- dml_MLIIVM$coef\n",
    "tree_std_MLIIVM <- dml_MLIIVM$se\n",
    "\n",
    "# predictions\n",
    "g0_hat <- as.matrix(dml_MLIIVM$predictions$ml_g0) # predictions of g_0(Z=0, X)\n",
    "g1_hat <- as.matrix(dml_MLIIVM$predictions$ml_g1) # predictions of g_0(Z=1, X)\n",
    "g_hat <- z*g1_hat+(1-z)*g0_hat # predictions of g_0\n",
    "r0_hat <- as.matrix(dml_MLIIVM$predictions$ml_r0) # predictions of r_0(Z=0, X)\n",
    "r1_hat <- as.matrix(dml_MLIIVM$predictions$ml_r1) # predictions of r_0(Z=1, X)\n",
    "r_hat <- z*r1_hat+(1-z)*r0_hat # predictions of r_0\n",
    "m_hat <- as.matrix(dml_MLIIVM$predictions$ml_m) # predictions of m_o\n",
    "\n",
    "# cross-fitted RMSE: outcome\n",
    "tree_y_MLIIVM <- sqrt(mean((y-g_hat)^2)) \n",
    "tree_y_MLIIVM\n",
    "\n",
    "# cross-fitted RMSE: treatment\n",
    "tree_d_MLIIVM <- sqrt(mean((d-r_hat)^2)) \n",
    "tree_d_MLIIVM\n",
    "\n",
    "# cross-fitted RMSE: instrument\n",
    "tree_z_MLIIVM <- sqrt(mean((z-m_hat)^2)) \n",
    "tree_z_MLIIVM\n",
    "\n",
    "\n",
    "### boosting ###\n",
    "dml_MLIIVM = DoubleMLIIVM$new(data_IV, ml_g = boost, \n",
    "                       ml_m = boost_class, ml_r = boost_class,n_folds=3, subgroups = list(always_takers = FALSE, \n",
    "                                         never_takers = TRUE))\n",
    "dml_MLIIVM$fit(store_predictions=TRUE)\n",
    "dml_MLIIVM$summary()\n",
    "boost_MLIIVM <- dml_MLIIVM$coef\n",
    "boost_std_MLIIVM <- dml_MLIIVM$se\n",
    "\n",
    "# predictions\n",
    "g0_hat <- as.matrix(dml_MLIIVM$predictions$ml_g0) # predictions of g_0(Z=0, X)\n",
    "g1_hat <- as.matrix(dml_MLIIVM$predictions$ml_g1) # predictions of g_0(Z=1, X)\n",
    "g_hat <- z*g1_hat+(1-z)*g0_hat # predictions of g_0\n",
    "r0_hat <- as.matrix(dml_MLIIVM$predictions$ml_r0) # predictions of r_0(Z=0, X)\n",
    "r1_hat <- as.matrix(dml_MLIIVM$predictions$ml_r1) # predictions of r_0(Z=1, X)\n",
    "r_hat <- z*r1_hat+(1-z)*r0_hat # predictions of r_0\n",
    "m_hat <- as.matrix(dml_MLIIVM$predictions$ml_m) # predictions of m_o\n",
    "\n",
    "# cross-fitted RMSE: outcome\n",
    "boost_y_MLIIVM <- sqrt(mean((y-g_hat)^2)) \n",
    "boost_y_MLIIVM\n",
    "\n",
    "# cross-fitted RMSE: treatment\n",
    "boost_d_MLIIVM <- sqrt(mean((d-r_hat)^2)) \n",
    "boost_d_MLIIVM\n",
    "\n",
    "# cross-fitted RMSE: instrument\n",
    "boost_z_MLIIVM <- sqrt(mean((z-m_hat)^2)) \n",
    "boost_z_MLIIVM"
   ]
  },
  {
   "cell_type": "code",
   "execution_count": 30,
   "id": "japanese-missouri",
   "metadata": {
    "execution": {
     "iopub.execute_input": "2021-03-24T14:21:54.995245Z",
     "iopub.status.busy": "2021-03-24T14:21:54.993532Z",
     "iopub.status.idle": "2021-03-24T14:21:55.032941Z",
     "shell.execute_reply": "2021-03-24T14:21:55.031530Z"
    },
    "papermill": {
     "duration": 0.125566,
     "end_time": "2021-03-24T14:21:55.033100",
     "exception": false,
     "start_time": "2021-03-24T14:21:54.907534",
     "status": "completed"
    },
    "tags": []
   },
   "outputs": [
    {
     "data": {
      "text/html": [
       "<table class=\"dataframe\">\n",
       "<caption>A xtable: 5 × 4</caption>\n",
       "<thead>\n",
       "\t<tr><th></th><th scope=col>Lasso</th><th scope=col>Random Forest</th><th scope=col>Trees</th><th scope=col>Boosting</th></tr>\n",
       "\t<tr><th></th><th scope=col>&lt;dbl&gt;</th><th scope=col>&lt;dbl&gt;</th><th scope=col>&lt;dbl&gt;</th><th scope=col>&lt;dbl&gt;</th></tr>\n",
       "</thead>\n",
       "<tbody>\n",
       "\t<tr><th scope=row>Estimate</th><td>1.052761e+04</td><td>1.215578e+04</td><td>1.134090e+04</td><td>1.252911e+04</td></tr>\n",
       "\t<tr><th scope=row>Std.Error</th><td>1.833042e+03</td><td>1.956930e+03</td><td>1.719411e+03</td><td>1.821686e+03</td></tr>\n",
       "\t<tr><th scope=row>RMSE Y</th><td>6.173047e+04</td><td>5.615204e+04</td><td>5.813887e+04</td><td>6.137734e+04</td></tr>\n",
       "\t<tr><th scope=row>RMSE D</th><td>2.730639e-01</td><td>2.822401e-01</td><td>2.780659e-01</td><td>2.897971e-01</td></tr>\n",
       "\t<tr><th scope=row>RMSE Z</th><td>4.440693e-01</td><td>4.577238e-01</td><td>4.556836e-01</td><td>4.726815e-01</td></tr>\n",
       "</tbody>\n",
       "</table>\n"
      ],
      "text/latex": [
       "A xtable: 5 × 4\n",
       "\\begin{tabular}{r|llll}\n",
       "  & Lasso & Random Forest & Trees & Boosting\\\\\n",
       "  & <dbl> & <dbl> & <dbl> & <dbl>\\\\\n",
       "\\hline\n",
       "\tEstimate & 1.052761e+04 & 1.215578e+04 & 1.134090e+04 & 1.252911e+04\\\\\n",
       "\tStd.Error & 1.833042e+03 & 1.956930e+03 & 1.719411e+03 & 1.821686e+03\\\\\n",
       "\tRMSE Y & 6.173047e+04 & 5.615204e+04 & 5.813887e+04 & 6.137734e+04\\\\\n",
       "\tRMSE D & 2.730639e-01 & 2.822401e-01 & 2.780659e-01 & 2.897971e-01\\\\\n",
       "\tRMSE Z & 4.440693e-01 & 4.577238e-01 & 4.556836e-01 & 4.726815e-01\\\\\n",
       "\\end{tabular}\n"
      ],
      "text/markdown": [
       "\n",
       "A xtable: 5 × 4\n",
       "\n",
       "| <!--/--> | Lasso &lt;dbl&gt; | Random Forest &lt;dbl&gt; | Trees &lt;dbl&gt; | Boosting &lt;dbl&gt; |\n",
       "|---|---|---|---|---|\n",
       "| Estimate | 1.052761e+04 | 1.215578e+04 | 1.134090e+04 | 1.252911e+04 |\n",
       "| Std.Error | 1.833042e+03 | 1.956930e+03 | 1.719411e+03 | 1.821686e+03 |\n",
       "| RMSE Y | 6.173047e+04 | 5.615204e+04 | 5.813887e+04 | 6.137734e+04 |\n",
       "| RMSE D | 2.730639e-01 | 2.822401e-01 | 2.780659e-01 | 2.897971e-01 |\n",
       "| RMSE Z | 4.440693e-01 | 4.577238e-01 | 4.556836e-01 | 4.726815e-01 |\n",
       "\n"
      ],
      "text/plain": [
       "          Lasso        Random Forest Trees        Boosting    \n",
       "Estimate  1.052761e+04 1.215578e+04  1.134090e+04 1.252911e+04\n",
       "Std.Error 1.833042e+03 1.956930e+03  1.719411e+03 1.821686e+03\n",
       "RMSE Y    6.173047e+04 5.615204e+04  5.813887e+04 6.137734e+04\n",
       "RMSE D    2.730639e-01 2.822401e-01  2.780659e-01 2.897971e-01\n",
       "RMSE Z    4.440693e-01 4.577238e-01  4.556836e-01 4.726815e-01"
      ]
     },
     "metadata": {},
     "output_type": "display_data"
    }
   ],
   "source": [
    "library(xtable)\n",
    "table <- matrix(0, 5, 4)\n",
    "table[1,1:4]   <- c(lasso_MLIIVM,forest_MLIIVM,tree_MLIIVM,boost_MLIIVM)\n",
    "table[2,1:4]   <- c(lasso_std_MLIIVM,forest_std_MLIIVM,tree_std_MLIIVM,boost_std_MLIIVM)\n",
    "table[3,1:4]   <- c(lasso_y_MLIIVM,forest_y_MLIIVM,tree_y_MLIIVM,boost_y_MLIIVM)\n",
    "table[4,1:4]   <- c(lasso_d_MLIIVM,forest_d_MLIIVM,tree_d_MLIIVM,boost_d_MLIIVM)\n",
    "table[5,1:4]   <- c(lasso_z_MLIIVM,forest_z_MLIIVM,tree_z_MLIIVM,boost_z_MLIIVM)\n",
    "rownames(table) <- c(\"Estimate\",\"Std.Error\",\"RMSE Y\",\"RMSE D\",\"RMSE Z\")\n",
    "colnames(table) <- c(\"Lasso\",\"Random Forest\",\"Trees\",\"Boosting\")\n",
    "tab<- xtable(table, digits = 2)\n",
    "tab"
   ]
  },
  {
   "cell_type": "markdown",
   "id": "animal-dancing",
   "metadata": {
    "papermill": {
     "duration": 0.078988,
     "end_time": "2021-03-24T14:21:55.191630",
     "exception": false,
     "start_time": "2021-03-24T14:21:55.112642",
     "status": "completed"
    },
    "tags": []
   },
   "source": [
    "We report results based on four ML methods for estimating the nuisance functions used in\n",
    "forming the orthogonal estimating equations. We find again that the estimates of the treatment effect are stable across ML methods. The estimates are highly significant, hence we would reject the hypothesis\n",
    "that the effect of 401(k) participation has no effect on financial health."
   ]
  },
  {
   "cell_type": "markdown",
   "id": "failing-cambridge",
   "metadata": {
    "papermill": {
     "duration": 0.080777,
     "end_time": "2021-03-24T14:21:55.350975",
     "exception": false,
     "start_time": "2021-03-24T14:21:55.270198",
     "status": "completed"
    },
    "tags": []
   },
   "source": [
    "We might rerun the model using the best ML method for each equation to get a final estimate for the treatment effect of participation:"
   ]
  },
  {
   "cell_type": "code",
   "execution_count": 31,
   "id": "advisory-taxation",
   "metadata": {
    "execution": {
     "iopub.execute_input": "2021-03-24T14:21:55.516930Z",
     "iopub.status.busy": "2021-03-24T14:21:55.514958Z",
     "iopub.status.idle": "2021-03-24T14:22:43.797152Z",
     "shell.execute_reply": "2021-03-24T14:22:43.797909Z"
    },
    "papermill": {
     "duration": 48.36793,
     "end_time": "2021-03-24T14:22:43.798156",
     "exception": false,
     "start_time": "2021-03-24T14:21:55.430226",
     "status": "completed"
    },
    "tags": []
   },
   "outputs": [
    {
     "name": "stdout",
     "output_type": "stream",
     "text": [
      "[1] \"Estimates and significance testing of the effect of target variables\"\n",
      "     Estimate. Std. Error t value Pr(>|t|)    \n",
      "p401     12022       1630   7.374 1.65e-13 ***\n",
      "---\n",
      "Signif. codes:  0 ‘***’ 0.001 ‘**’ 0.01 ‘*’ 0.05 ‘.’ 0.1 ‘ ’ 1\n",
      "\n",
      "\n"
     ]
    }
   ],
   "source": [
    "set.seed(123)\n",
    "lgr::get_logger(\"mlr3\")$set_threshold(\"warn\") \n",
    "dml_MLIIVM = DoubleMLIIVM$new(data_IV, ml_g = randomForest, \n",
    "                       ml_m = lasso_class, ml_r = lasso_class,n_folds=3, subgroups = list(always_takers = FALSE, \n",
    "                                         never_takers = TRUE))\n",
    "dml_MLIIVM$fit(store_predictions=TRUE)\n",
    "dml_MLIIVM$summary()\n",
    "best_MLIIVM <- dml_MLIIVM$coef\n",
    "best_std_MLIIVM <- dml_MLIIVM$se"
   ]
  }
 ],
 "metadata": {
  "kernelspec": {
   "display_name": "R",
   "language": "R",
   "name": "ir"
  },
  "language_info": {
   "codemirror_mode": "r",
   "file_extension": ".r",
   "mimetype": "text/x-r-source",
   "name": "R",
   "pygments_lexer": "r",
   "version": "4.0.4"
  },
  "papermill": {
   "default_parameters": {},
   "duration": 537.547458,
   "end_time": "2021-03-24T14:22:44.931595",
   "environment_variables": {},
   "exception": null,
   "input_path": "__notebook__.ipynb",
   "output_path": "__notebook__.ipynb",
   "parameters": {},
   "start_time": "2021-03-24T14:13:47.384137",
   "version": "2.3.2"
  }
 },
 "nbformat": 4,
 "nbformat_minor": 5
}
