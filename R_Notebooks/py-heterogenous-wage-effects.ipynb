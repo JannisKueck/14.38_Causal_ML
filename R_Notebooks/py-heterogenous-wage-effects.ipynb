{
 "cells": [
  {
   "cell_type": "code",
   "execution_count": 59,
   "metadata": {},
   "outputs": [],
   "source": [
    "set.seed(123)        # set MC seed\n",
    "n = 1000             # sample size\n",
    "Z = rnorm(n)         # generate Z\n",
    "Y0 = -Z + rnorm(n)   # conditional average baseline response is -Z\n",
    "Y1 = Z + rnorm(n)    # conditional average treatment effect is +Z\n",
    "D = (runif(n)<.2)    # treatment indicator; only 20% get treated "
   ]
  },
  {
   "cell_type": "code",
   "execution_count": 60,
   "metadata": {},
   "outputs": [
    {
     "data": {
      "text/html": [
       "0.016127865934888"
      ],
      "text/latex": [
       "0.016127865934888"
      ],
      "text/markdown": [
       "0.016127865934888"
      ],
      "text/plain": [
       "[1] 0.01612787"
      ]
     },
     "metadata": {},
     "output_type": "display_data"
    },
    {
     "data": {
      "text/html": [
       "0.0263373873675022"
      ],
      "text/latex": [
       "0.0263373873675022"
      ],
      "text/markdown": [
       "0.0263373873675022"
      ],
      "text/plain": [
       "[1] 0.02633739"
      ]
     },
     "metadata": {},
     "output_type": "display_data"
    },
    {
     "data": {
      "text/html": [
       "-0.00398466199204452"
      ],
      "text/latex": [
       "-0.00398466199204452"
      ],
      "text/markdown": [
       "-0.00398466199204452"
      ],
      "text/plain": [
       "[1] -0.003984662"
      ]
     },
     "metadata": {},
     "output_type": "display_data"
    },
    {
     "data": {
      "text/html": [
       "0.186"
      ],
      "text/latex": [
       "0.186"
      ],
      "text/markdown": [
       "0.186"
      ],
      "text/plain": [
       "[1] 0.186"
      ]
     },
     "metadata": {},
     "output_type": "display_data"
    }
   ],
   "source": [
    "mean(Z)\n",
    "mean(Y0)\n",
    "mean(Y1)\n",
    "mean(D)"
   ]
  },
  {
   "cell_type": "code",
   "execution_count": 61,
   "metadata": {},
   "outputs": [
    {
     "data": {
      "text/html": [
       "0.0384568679555819"
      ],
      "text/latex": [
       "0.0384568679555819"
      ],
      "text/markdown": [
       "0.0384568679555819"
      ],
      "text/plain": [
       "[1] 0.03845687"
      ]
     },
     "metadata": {},
     "output_type": "display_data"
    },
    {
     "data": {
      "text/html": [
       "1.17375727193281e-17"
      ],
      "text/latex": [
       "1.17375727193281e-17"
      ],
      "text/markdown": [
       "1.17375727193281e-17"
      ],
      "text/plain": [
       "[1] 1.173757e-17"
      ]
     },
     "metadata": {},
     "output_type": "display_data"
    }
   ],
   "source": [
    "Y = Y1*D + Y0*(1-D)  # observed Y\n",
    "D = D - mean(D)      # demean D\n",
    "Z = Z-mean(Z)        # demean Z\n",
    "mean(Y)\n",
    "mean(D)"
   ]
  },
  {
   "cell_type": "code",
   "execution_count": 56,
   "metadata": {},
   "outputs": [
    {
     "data": {
      "text/plain": [
       "\n",
       "t test of coefficients:\n",
       "\n",
       "            Estimate Std. Error t value Pr(>|t|)\n",
       "(Intercept) 0.038457   0.042730  0.9000   0.3683\n",
       "D           0.010373   0.109479  0.0947   0.9245\n"
      ]
     },
     "metadata": {},
     "output_type": "display_data"
    },
    {
     "data": {
      "text/plain": [
       "\n",
       "t test of coefficients:\n",
       "\n",
       "             Estimate Std. Error  t value Pr(>|t|)    \n",
       "(Intercept)  0.038457   0.039038   0.9851   0.3248    \n",
       "D            0.070199   0.136195   0.5154   0.6064    \n",
       "Z           -0.555628   0.050840 -10.9289   <2e-16 ***\n",
       "---\n",
       "Signif. codes:  0 '***' 0.001 '**' 0.01 '*' 0.05 '.' 0.1 ' ' 1\n"
      ]
     },
     "metadata": {},
     "output_type": "display_data"
    },
    {
     "data": {
      "text/plain": [
       "\n",
       "t test of coefficients:\n",
       "\n",
       "             Estimate Std. Error  t value Pr(>|t|)    \n",
       "(Intercept)  0.007973   0.031466   0.2534   0.8000    \n",
       "D           -0.054906   0.077519  -0.7083   0.4789    \n",
       "Z           -0.568043   0.031620 -17.9647   <2e-16 ***\n",
       "D:Z          1.869928   0.078191  23.9147   <2e-16 ***\n",
       "---\n",
       "Signif. codes:  0 '***' 0.001 '**' 0.01 '*' 0.05 '.' 0.1 ' ' 1\n"
      ]
     },
     "metadata": {},
     "output_type": "display_data"
    }
   ],
   "source": [
    "library(lmtest)\n",
    "CL = lm(Y ~ D)          \n",
    "CRA = lm(Y ~ D+ Z)      #classical\n",
    "IRA = lm(Y ~ D+ Z+ Z*D) #interactive approach\n",
    "\n",
    "\n",
    "# we are interested in the coefficients on variable \"D\".\n",
    "\n",
    "library(sandwich)\n",
    "library(lmtest)\n",
    "coeftest(CL, vcov = vcovHC(CL, type=\"HC1\"))\n",
    "coeftest(CRA, vcov = vcovHC(CRA, type=\"HC1\"))\n",
    "coeftest(IRA, vcov = vcovHC(IRA, type=\"HC1\"))\n",
    "\n"
   ]
  },
  {
   "cell_type": "code",
   "execution_count": 3,
   "metadata": {},
   "outputs": [
    {
     "data": {
      "text/plain": [
       "\n",
       "Call:\n",
       "lm(formula = Y ~ D)\n",
       "\n",
       "Coefficients:\n",
       "(Intercept)            D  \n",
       "    0.03846      0.01037  \n"
      ]
     },
     "metadata": {},
     "output_type": "display_data"
    }
   ],
   "source": [
    "CL"
   ]
  },
  {
   "cell_type": "code",
   "execution_count": null,
   "metadata": {},
   "outputs": [],
   "source": []
  }
 ],
 "metadata": {
  "kernelspec": {
   "display_name": "R",
   "language": "R",
   "name": "ir"
  },
  "language_info": {
   "codemirror_mode": "r",
   "file_extension": ".r",
   "mimetype": "text/x-r-source",
   "name": "R",
   "pygments_lexer": "r",
   "version": "4.0.4"
  }
 },
 "nbformat": 4,
 "nbformat_minor": 4
}
