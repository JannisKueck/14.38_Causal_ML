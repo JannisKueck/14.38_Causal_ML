{
 "cells": [
  {
   "cell_type": "markdown",
   "metadata": {
    "papermill": {
     "duration": 0.011489,
     "end_time": "2021-03-30T21:54:42.895419",
     "exception": false,
     "start_time": "2021-03-30T21:54:42.883930",
     "status": "completed"
    },
    "tags": []
   },
   "source": [
    "# Functional Approximations by Trees and Neural Networks\n",
    "\n",
    "Here we show how the function\n",
    "$$\n",
    "x \\mapsto exp(4 x)\n",
    "$$\n",
    "can be easily approximated by a tree-based methods (Trees, Random Forest) and a neural network (2 Layered Neural Network)"
   ]
  },
  {
   "cell_type": "markdown",
   "metadata": {
    "papermill": {
     "duration": 0.009467,
     "end_time": "2021-03-30T21:54:42.915858",
     "exception": false,
     "start_time": "2021-03-30T21:54:42.906391",
     "status": "completed"
    },
    "tags": []
   },
   "source": [
    "# Functional Approximation by a Tree\n"
   ]
  },
  {
   "cell_type": "code",
   "execution_count": 27,
   "metadata": {
    "execution": {
     "iopub.execute_input": "2021-03-30T21:54:42.941913Z",
     "iopub.status.busy": "2021-03-30T21:54:42.939168Z",
     "iopub.status.idle": "2021-03-30T21:54:43.619921Z",
     "shell.execute_reply": "2021-03-30T21:54:43.618545Z"
    },
    "papermill": {
     "duration": 0.694812,
     "end_time": "2021-03-30T21:54:43.620078",
     "exception": false,
     "start_time": "2021-03-30T21:54:42.925266",
     "status": "completed"
    },
    "scrolled": true,
    "tags": []
   },
   "outputs": [
    {
     "data": {
      "text/html": [
       "<style>\n",
       ".list-inline {list-style: none; margin:0; padding: 0}\n",
       ".list-inline>li {display: inline-block}\n",
       ".list-inline>li:not(:last-child)::after {content: \"\\00b7\"; padding: 0 .5ex}\n",
       "</style>\n",
       "<ol class=list-inline><li>1000</li><li>1</li></ol>\n"
      ],
      "text/latex": [
       "\\begin{enumerate*}\n",
       "\\item 1000\n",
       "\\item 1\n",
       "\\end{enumerate*}\n"
      ],
      "text/markdown": [
       "1. 1000\n",
       "2. 1\n",
       "\n",
       "\n"
      ],
      "text/plain": [
       "[1] 1000    1"
      ]
     },
     "metadata": {},
     "output_type": "display_data"
    },
    {
     "data": {
      "image/png": "[encoded data removed]",
      "text/plain": [
       "plot without title"
      ]
     },
     "metadata": {
      "image/png": {
       "height": 420,
       "width": 420
      }
     },
     "output_type": "display_data"
    }
   ],
   "source": [
    "set.seed(1)\n",
    "X_train <- matrix(runif(1000),1000,1)\n",
    "Y_train <- exp(4*X_train)  #Noiseless case  Y=g(X)\n",
    "dim(X_train)\n",
    "\n",
    "library(rpart)\n",
    "\n",
    "# shallow tree\n",
    "TreeModel<- rpart(Y_train~X_train, cp=.01)  #cp is penalty level\n",
    "pred.TM<- predict(TreeModel, newx=X_train)\n",
    "plot(X_train, Y_train, type=\"p\", pch=19, xlab=\"z\", ylab=\"g(z)\")\n",
    "points(X_train, pred.TM, col=3, pch=19)"
   ]
  },
  {
   "cell_type": "code",
   "execution_count": 28,
   "metadata": {
    "execution": {
     "iopub.execute_input": "2021-03-30T21:54:43.677485Z",
     "iopub.status.busy": "2021-03-30T21:54:43.647907Z",
     "iopub.status.idle": "2021-03-30T21:54:43.926010Z",
     "shell.execute_reply": "2021-03-30T21:54:43.924442Z"
    },
    "papermill": {
     "duration": 0.294088,
     "end_time": "2021-03-30T21:54:43.926159",
     "exception": false,
     "start_time": "2021-03-30T21:54:43.632071",
     "status": "completed"
    },
    "tags": []
   },
   "outputs": [
    {
     "data": {
      "text/html": [
       "<style>\n",
       ".list-inline {list-style: none; margin:0; padding: 0}\n",
       ".list-inline>li {display: inline-block}\n",
       ".list-inline>li:not(:last-child)::after {content: \"\\00b7\"; padding: 0 .5ex}\n",
       "</style>\n",
       "<ol class=list-inline><li>1000</li><li>1</li></ol>\n"
      ],
      "text/latex": [
       "\\begin{enumerate*}\n",
       "\\item 1000\n",
       "\\item 1\n",
       "\\end{enumerate*}\n"
      ],
      "text/markdown": [
       "1. 1000\n",
       "2. 1\n",
       "\n",
       "\n"
      ],
      "text/plain": [
       "[1] 1000    1"
      ]
     },
     "metadata": {},
     "output_type": "display_data"
    },
    {
     "data": {
      "image/png": "[encoded data removed]",
      "text/plain": [
       "plot without title"
      ]
     },
     "metadata": {
      "image/png": {
       "height": 420,
       "width": 420
      }
     },
     "output_type": "display_data"
    }
   ],
   "source": [
    "set.seed(1)\n",
    "X_train <- matrix(runif(1000),1000,1)\n",
    "Y_train <- exp(4*X_train)  #Noiseless case  Y=g(X)\n",
    "dim(X_train)\n",
    "\n",
    "library(rpart)\n",
    "\n",
    "TreeModel<- rpart(Y_train~X_train, cp = .0005)  #cp is penalty level\n",
    "pred.TM<- predict(TreeModel, newx = X_train)\n",
    "plot(X_train, Y_train, type=\"p\", pch=19, xlab=\"z\", ylab=\"g(z)\")\n",
    "points(X_train, pred.TM, col=3, pch=19)"
   ]
  },
  {
   "cell_type": "markdown",
   "metadata": {
    "papermill": {
     "duration": 0.013444,
     "end_time": "2021-03-30T21:54:43.953303",
     "exception": false,
     "start_time": "2021-03-30T21:54:43.939859",
     "status": "completed"
    },
    "tags": []
   },
   "source": [
    "# Functional Approximation by RF"
   ]
  },
  {
   "cell_type": "markdown",
   "metadata": {
    "papermill": {
     "duration": 0.01351,
     "end_time": "2021-03-30T21:54:43.980273",
     "exception": false,
     "start_time": "2021-03-30T21:54:43.966763",
     "status": "completed"
    },
    "tags": []
   },
   "source": [
    "Here we show how the function\n",
    "$$\n",
    "x \\mapsto exp(4 x)\n",
    "$$\n",
    "can be easily approximated by a tree-based method (Random Forest) and a neural network (2 Layered Neural Network)"
   ]
  },
  {
   "cell_type": "code",
   "execution_count": 29,
   "metadata": {
    "execution": {
     "iopub.execute_input": "2021-03-30T21:54:44.013619Z",
     "iopub.status.busy": "2021-03-30T21:54:44.011718Z",
     "iopub.status.idle": "2021-03-30T21:54:45.163793Z",
     "shell.execute_reply": "2021-03-30T21:54:45.162552Z"
    },
    "papermill": {
     "duration": 1.170101,
     "end_time": "2021-03-30T21:54:45.163992",
     "exception": false,
     "start_time": "2021-03-30T21:54:43.993891",
     "status": "completed"
    },
    "tags": []
   },
   "outputs": [
    {
     "name": "stderr",
     "output_type": "stream",
     "text": [
      "randomForest 4.6-14\n",
      "\n",
      "Type rfNews() to see new features/changes/bug fixes.\n",
      "\n"
     ]
    },
    {
     "data": {
      "image/png": "[encoded data removed]",
      "text/plain": [
       "plot without title"
      ]
     },
     "metadata": {
      "image/png": {
       "height": 420,
       "width": 420
      }
     },
     "output_type": "display_data"
    }
   ],
   "source": [
    "\n",
    "\n",
    "library(randomForest)\n",
    "\n",
    "RFmodel<- randomForest(Y_train~X_train)\n",
    "pred.RF<- predict(RFmodel, newdata=X_train)\n",
    "plot(X_train, Y_train, type=\"p\", pch=19, xlab=\"z\", ylab=\"g(z)\")\n",
    "points(X_train, pred.RF, col=4,  pch=19,)\n"
   ]
  },
  {
   "cell_type": "markdown",
   "metadata": {
    "papermill": {
     "duration": 0.015474,
     "end_time": "2021-03-30T21:54:45.201078",
     "exception": false,
     "start_time": "2021-03-30T21:54:45.185604",
     "status": "completed"
    },
    "tags": []
   },
   "source": [
    "# Boosted Trees"
   ]
  },
  {
   "cell_type": "code",
   "execution_count": 30,
   "metadata": {
    "execution": {
     "iopub.execute_input": "2021-03-30T21:54:45.239246Z",
     "iopub.status.busy": "2021-03-30T21:54:45.237197Z",
     "iopub.status.idle": "2021-03-30T21:54:46.619565Z",
     "shell.execute_reply": "2021-03-30T21:54:46.617646Z"
    },
    "papermill": {
     "duration": 1.40312,
     "end_time": "2021-03-30T21:54:46.619828",
     "exception": false,
     "start_time": "2021-03-30T21:54:45.216708",
     "status": "completed"
    },
    "tags": []
   },
   "outputs": [
    {
     "name": "stderr",
     "output_type": "stream",
     "text": [
      "Loaded gbm 2.1.8\n",
      "\n"
     ]
    },
    {
     "data": {
      "image/png": "[encoded data removed]",
      "text/plain": [
       "plot without title"
      ]
     },
     "metadata": {
      "image/png": {
       "height": 420,
       "width": 420
      }
     },
     "output_type": "display_data"
    }
   ],
   "source": [
    "library(gbm)\n",
    "\n",
    "data_train = as.data.frame(cbind(X_train, Y_train))\n",
    "BoostTreemodel<- gbm(Y_train~X_train, distribution= \"gaussian\",  n.trees=100, shrinkage=.01, interaction.depth\n",
    "=4) \n",
    " #shrinkage is \"learning rate\"\n",
    " # n.trees is the number of boosting steps \n",
    "pred.BT<- predict(BoostTreemodel, newdata=data_train, n.trees=100)\n",
    "plot(X_train, Y_train, type=\"p\", pch=19, xlab=\"z\", ylab=\"g(z)\")\n",
    "points(X_train, pred.BT, col=4,  pch=19,)"
   ]
  },
  {
   "cell_type": "code",
   "execution_count": 31,
   "metadata": {
    "execution": {
     "iopub.execute_input": "2021-03-30T21:54:46.661994Z",
     "iopub.status.busy": "2021-03-30T21:54:46.660721Z",
     "iopub.status.idle": "2021-03-30T21:54:47.050301Z",
     "shell.execute_reply": "2021-03-30T21:54:47.048790Z"
    },
    "papermill": {
     "duration": 0.411341,
     "end_time": "2021-03-30T21:54:47.050501",
     "exception": false,
     "start_time": "2021-03-30T21:54:46.639160",
     "status": "completed"
    },
    "tags": []
   },
   "outputs": [
    {
     "data": {
      "image/png": "[encoded data removed]",
      "text/plain": [
       "plot without title"
      ]
     },
     "metadata": {
      "image/png": {
       "height": 420,
       "width": 420
      }
     },
     "output_type": "display_data"
    }
   ],
   "source": [
    "library(gbm)\n",
    "\n",
    "data_train = as.data.frame(cbind(X_train, Y_train))\n",
    "BoostTreemodel<- gbm(Y_train~X_train, distribution= \"gaussian\",  n.trees=1000, shrinkage=.01, interaction.depth\n",
    "=4) \n",
    " # shrinkage is \"learning rate\"\n",
    " # n.trees is the number of boosting steps \n",
    "pred.BT<- predict(BoostTreemodel, newdata=data_train, n.trees=1000)\n",
    "plot(X_train, Y_train, type=\"p\", pch=19, xlab=\"z\", ylab=\"g(z)\")\n",
    "points(X_train, pred.BT, col=4,  pch=19,)"
   ]
  },
  {
   "cell_type": "markdown",
   "metadata": {
    "_cell_guid": "b1076dfc-b9ad-4769-8c92-a6c4dae69d19",
    "_uuid": "8f2839f25d086af736a60e9eeb907d3b93b6e0e5",
    "papermill": {
     "duration": 0.018291,
     "end_time": "2021-03-30T21:54:47.087924",
     "exception": false,
     "start_time": "2021-03-30T21:54:47.069633",
     "status": "completed"
    },
    "tags": []
   },
   "source": [
    "# Same Example with a Neural Network"
   ]
  },
  {
   "cell_type": "code",
   "execution_count": 32,
   "metadata": {
    "execution": {
     "iopub.execute_input": "2021-03-30T21:54:47.131670Z",
     "iopub.status.busy": "2021-03-30T21:54:47.129684Z",
     "iopub.status.idle": "2021-03-30T21:54:47.301209Z",
     "shell.execute_reply": "2021-03-30T21:54:47.299828Z"
    },
    "papermill": {
     "duration": 0.195046,
     "end_time": "2021-03-30T21:54:47.301402",
     "exception": false,
     "start_time": "2021-03-30T21:54:47.106356",
     "status": "completed"
    },
    "tags": []
   },
   "outputs": [],
   "source": [
    "library(keras)\n",
    "\n",
    "build_model <- function() {\n",
    "  model <- keras_model_sequential() %>% \n",
    "    layer_dense(units = 200, activation = \"relu\", \n",
    "                input_shape = 1)%>% \n",
    "   layer_dense(units = 20, activation = \"relu\") %>% \n",
    "    layer_dense(units = 1) \n",
    "  \n",
    "  model %>% compile(\n",
    "    optimizer = optimizer_adam(lr = 0.01), \n",
    "    loss = \"mse\", \n",
    "    metrics = c(\"mae\"),\n",
    "  )\n",
    "}\n",
    "\n"
   ]
  },
  {
   "cell_type": "code",
   "execution_count": 33,
   "metadata": {
    "execution": {
     "iopub.execute_input": "2021-03-30T21:54:47.345231Z",
     "iopub.status.busy": "2021-03-30T21:54:47.343797Z",
     "iopub.status.idle": "2021-03-30T21:54:54.919444Z",
     "shell.execute_reply": "2021-03-30T21:54:54.917621Z"
    },
    "papermill": {
     "duration": 7.599438,
     "end_time": "2021-03-30T21:54:54.919929",
     "exception": false,
     "start_time": "2021-03-30T21:54:47.320491",
     "status": "completed"
    },
    "tags": []
   },
   "outputs": [
    {
     "name": "stdout",
     "output_type": "stream",
     "text": [
      "Model: \"sequential\"\n",
      "________________________________________________________________________________\n",
      "Layer (type)                        Output Shape                    Param #     \n",
      "================================================================================\n",
      "dense_2 (Dense)                     (None, 200)                     400         \n",
      "________________________________________________________________________________\n",
      "dense_1 (Dense)                     (None, 20)                      4020        \n",
      "________________________________________________________________________________\n",
      "dense (Dense)                       (None, 1)                       21          \n",
      "================================================================================\n",
      "Total params: 4,441\n",
      "Trainable params: 4,441\n",
      "Non-trainable params: 0\n",
      "________________________________________________________________________________\n"
     ]
    }
   ],
   "source": [
    "model <- build_model()\n",
    "summary(model)"
   ]
  },
  {
   "cell_type": "code",
   "execution_count": 34,
   "metadata": {
    "execution": {
     "iopub.execute_input": "2021-03-30T21:54:54.965012Z",
     "iopub.status.busy": "2021-03-30T21:54:54.962962Z",
     "iopub.status.idle": "2021-03-30T21:54:56.310629Z",
     "shell.execute_reply": "2021-03-30T21:54:56.309191Z"
    },
    "papermill": {
     "duration": 1.37161,
     "end_time": "2021-03-30T21:54:56.310872",
     "exception": false,
     "start_time": "2021-03-30T21:54:54.939262",
     "status": "completed"
    },
    "tags": []
   },
   "outputs": [
    {
     "data": {
      "image/png": "[encoded data removed]",
      "text/plain": [
       "plot without title"
      ]
     },
     "metadata": {
      "image/png": {
       "height": 420,
       "width": 420
      }
     },
     "output_type": "display_data"
    }
   ],
   "source": [
    "num_epochs <- 1\n",
    "model %>% fit(X_train, Y_train,\n",
    "                    epochs = num_epochs, batch_size = 10, verbose = 0)\n",
    "pred.NN <- model %>% predict(X_train)\n",
    "plot(X_train, Y_train, type=\"p\", pch=19, xlab=\"z\", ylab=\"g(z)\")\n",
    "points(X_train, pred.NN, col=4,  pch=19,)\n",
    "\n"
   ]
  },
  {
   "cell_type": "code",
   "execution_count": 35,
   "metadata": {
    "execution": {
     "iopub.execute_input": "2021-03-30T21:54:56.357681Z",
     "iopub.status.busy": "2021-03-30T21:54:56.356263Z",
     "iopub.status.idle": "2021-03-30T21:55:10.197483Z",
     "shell.execute_reply": "2021-03-30T21:55:10.196420Z"
    },
    "papermill": {
     "duration": 13.865941,
     "end_time": "2021-03-30T21:55:10.197721",
     "exception": false,
     "start_time": "2021-03-30T21:54:56.331780",
     "status": "completed"
    },
    "tags": []
   },
   "outputs": [
    {
     "data": {
      "image/png": "[encoded data removed]",
      "text/plain": [
       "plot without title"
      ]
     },
     "metadata": {
      "image/png": {
       "height": 420,
       "width": 420
      }
     },
     "output_type": "display_data"
    }
   ],
   "source": [
    "num_epochs <- 100\n",
    "model %>% fit(X_train, Y_train,\n",
    "                    epochs = num_epochs, batch_size = 10, verbose = 0)\n",
    "pred.NN <- model %>% predict(X_train)\n",
    "plot(X_train, Y_train, type=\"p\", pch=19, xlab=\"z\", ylab=\"g(z)\")\n",
    "points(X_train, pred.NN, col=4,  pch=19,)\n",
    "\n",
    "\n"
   ]
  }
 ],
 "metadata": {
  "hide_input": false,
  "kernelspec": {
   "display_name": "R",
   "language": "R",
   "name": "ir"
  },
  "language_info": {
   "codemirror_mode": "r",
   "file_extension": ".r",
   "mimetype": "text/x-r-source",
   "name": "R",
   "pygments_lexer": "r",
   "version": "4.0.4"
  },
  "papermill": {
   "default_parameters": {},
   "duration": 30.682213,
   "end_time": "2021-03-30T21:55:10.531019",
   "environment_variables": {},
   "exception": null,
   "input_path": "__notebook__.ipynb",
   "output_path": "__notebook__.ipynb",
   "parameters": {},
   "start_time": "2021-03-30T21:54:39.848806",
   "version": "2.3.2"
  }
 },
 "nbformat": 4,
 "nbformat_minor": 5
}
