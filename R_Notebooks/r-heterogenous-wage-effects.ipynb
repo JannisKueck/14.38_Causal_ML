{
 "cells": [
  {
   "cell_type": "markdown",
   "metadata": {
    "papermill": {
     "duration": 0.011184,
     "end_time": "2021-02-28T17:17:25.882205",
     "exception": false,
     "start_time": "2021-02-28T17:17:25.871021",
     "status": "completed"
    },
    "tags": []
   },
   "source": [
    "# Application: Heterogeneous Effect of Gender on Wage Using Double Lasso\n",
    "\n",
    " We use US census data from the year 2012 to analyse the effect of gender and interaction effects of other variables with gender on wage jointly. The dependent variable is the logarithm of the wage, the target variable is *female* (in combination with other variables). All other variables denote some other socio-economic characteristics, e.g. marital status, education, and experience.  For a detailed description of the variables we refer to the help page.\n",
    "\n",
    "\n",
    "\n",
    "This analysis allows a closer look how discrimination according to gender is related to other socio-economic variables.\n",
    "\n"
   ]
  },
  {
   "cell_type": "code",
   "execution_count": 10,
   "metadata": {
    "execution": {
     "iopub.execute_input": "2021-02-28T17:17:25.940403Z",
     "iopub.status.busy": "2021-02-28T17:17:25.937816Z",
     "iopub.status.idle": "2021-02-28T17:17:26.291065Z",
     "shell.execute_reply": "2021-02-28T17:17:26.289341Z"
    },
    "papermill": {
     "duration": 0.39942,
     "end_time": "2021-02-28T17:17:26.291369",
     "exception": false,
     "start_time": "2021-02-28T17:17:25.891949",
     "status": "completed"
    },
    "tags": []
   },
   "outputs": [
    {
     "name": "stdout",
     "output_type": "stream",
     "text": [
      "'data.frame':\t29217 obs. of  23 variables:\n",
      " $ year        : num  2012 2012 2012 2012 2012 ...\n",
      " $ lnw         : num  1.91 1.37 2.54 1.8 3.35 ...\n",
      " $ female      : num  1 1 0 1 0 0 0 0 0 1 ...\n",
      " $ widowed     : num  0 0 0 0 0 0 0 0 0 0 ...\n",
      " $ divorced    : num  0 0 0 0 0 0 0 0 0 0 ...\n",
      " $ separated   : num  0 0 0 0 0 0 0 0 0 0 ...\n",
      " $ nevermarried: num  0 0 0 0 0 0 1 0 0 0 ...\n",
      " $ hsd08       : num  0 0 0 0 0 0 0 0 0 0 ...\n",
      " $ hsd911      : num  0 1 0 0 0 0 0 0 0 0 ...\n",
      " $ hsg         : num  0 0 1 1 0 1 1 0 0 0 ...\n",
      " $ cg          : num  0 0 0 0 1 0 0 0 1 0 ...\n",
      " $ ad          : num  0 0 0 0 0 0 0 0 0 0 ...\n",
      " $ mw          : num  0 0 0 0 0 0 0 0 0 0 ...\n",
      " $ so          : num  0 0 0 0 0 0 0 0 0 0 ...\n",
      " $ we          : num  0 0 0 0 0 0 0 0 0 0 ...\n",
      " $ exp1        : num  22 30 19 14 15 23 33 23.5 15 15.5 ...\n",
      " $ exp2        : num  4.84 9 3.61 1.96 2.25 ...\n",
      " $ exp3        : num  10.65 27 6.86 2.74 3.38 ...\n",
      " $ exp4        : num  23.43 81 13.03 3.84 5.06 ...\n",
      " $ weight      : num  569 626 264 257 257 ...\n",
      " $ married     : logi  TRUE TRUE TRUE TRUE TRUE TRUE ...\n",
      " $ ne          : logi  TRUE TRUE TRUE TRUE TRUE TRUE ...\n",
      " $ sc          : logi  TRUE FALSE FALSE FALSE FALSE FALSE ...\n"
     ]
    }
   ],
   "source": [
    "library(hdm)\n",
    "data(cps2012)\n",
    "str(cps2012)"
   ]
  },
  {
   "cell_type": "code",
   "execution_count": 11,
   "metadata": {},
   "outputs": [],
   "source": [
    "X <- model.matrix(~-1 + female + female:(widowed + divorced + separated + nevermarried +\n",
    "hsd08 + hsd911 + hsg + cg + ad + mw + so + we + exp1 + exp2 + exp3) + +(widowed +\n",
    "divorced + separated + nevermarried + hsd08 + hsd911 + hsg + cg + ad + mw + so +\n",
    "we + exp1 + exp2 + exp3)^2, data = cps2012)"
   ]
  },
  {
   "cell_type": "code",
   "execution_count": 12,
   "metadata": {},
   "outputs": [
    {
     "data": {
      "text/html": [
       "136"
      ],
      "text/latex": [
       "136"
      ],
      "text/markdown": [
       "136"
      ],
      "text/plain": [
       "[1] 136"
      ]
     },
     "metadata": {},
     "output_type": "display_data"
    }
   ],
   "source": [
    "length(colnames(X))"
   ]
  },
  {
   "cell_type": "code",
   "execution_count": 13,
   "metadata": {},
   "outputs": [
    {
     "data": {
      "text/html": [
       "<style>\n",
       ".dl-inline {width: auto; margin:0; padding: 0}\n",
       ".dl-inline>dt, .dl-inline>dd {float: none; width: auto; display: inline-block}\n",
       ".dl-inline>dt::after {content: \":\\0020\"; padding-right: .5ex}\n",
       ".dl-inline>dt:not(:first-of-type) {padding-left: .5ex}\n",
       "</style><dl class=dl-inline><dt>female</dt><dd>0.244932851007499</dd><dt>widowed</dt><dd>0.00791148238840229</dd><dt>divorced</dt><dd>0.100538381812776</dd><dt>separated</dt><dd>0.0163249259487895</dd><dt>nevermarried</dt><dd>0.131907358545815</dd><dt>hsd08</dt><dd>0.00409046879300004</dd><dt>hsd911</dt><dd>0.021687708558098</dd><dt>hsg</dt><dd>0.186142782632551</dd><dt>cg</dt><dd>0.203104767547259</dd><dt>ad</dt><dd>0.131530659223626</dd><dt>mw</dt><dd>0.206595379642327</dd><dt>so</dt><dd>0.202852397558009</dd><dt>we</dt><dd>0.159791768142308</dd><dt>exp1</dt><dd>76.8609890308698</dd><dt>exp2</dt><dd>11.0324049992148</dd><dt>exp3</dt><dd>123.69585246705</dd><dt>female:widowed</dt><dd>0.00612305095073421</dd><dt>female:divorced</dt><dd>0.0591924048816873</dd><dt>female:separated</dt><dd>0.00885365712118045</dd><dt>female:nevermarried</dt><dd>0.0638877748670756</dd><dt>female:hsd08</dt><dd>0.00109409063224118</dd><dt>female:hsd911</dt><dd>0.00629205205854549</dd><dt>female:hsg</dt><dd>0.0845159732358852</dd><dt>female:cg</dt><dd>0.11017021487925</dd><dt>female:ad</dt><dd>0.0672099809781556</dd><dt>female:mw</dt><dd>0.112413812949527</dd><dt>female:so</dt><dd>0.107572813352937</dd><dt>female:we</dt><dd>0.074281546839094</dd><dt>female:exp1</dt><dd>118.811295071656</dd><dt>female:exp2</dt><dd>9.22543603020754</dd><dt>female:exp3</dt><dd>81.6538871446986</dd><dt>widowed:divorced</dt><dd>0</dd><dt>widowed:separated</dt><dd>0</dd><dt>widowed:nevermarried</dt><dd>0</dd><dt>widowed:hsd08</dt><dd>0</dd><dt>widowed:hsd911</dt><dd>0.000513153717278358</dd><dt>widowed:hsg</dt><dd>0.0031050304326642</dd><dt>widowed:cg</dt><dd>0.00136723840915286</dd><dt>widowed:ad</dt><dd>0.000752445040455487</dd><dt>widowed:mw</dt><dd>0.00225393307494275</dd><dt>widowed:so</dt><dd>0.002662642561209</dd><dt>widowed:we</dt><dd>0.00153787962198934</dd><dt>widowed:exp1</dt><dd>5.42677659034799</dd><dt>widowed:exp2</dt><dd>0.455967639900303</dd><dt>widowed:exp3</dt><dd>4.23292566319592</dd><dt>divorced:separated</dt><dd>0</dd><dt>divorced:nevermarried</dt><dd>0</dd><dt>divorced:hsd08</dt><dd>0.000410565147951906</dd><dt>divorced:hsd911</dt><dd>0.00361498594514342</dd><dt>divorced:hsg</dt><dd>0.0339163527130767</dd><dt>divorced:cg</dt><dd>0.0233202573851493</dd><dt>divorced:ad</dt><dd>0.0104980428204993</dd><dt>divorced:mw</dt><dd>0.0326416162273453</dd><dt>divorced:so</dt><dd>0.0326416162273453</dd><dt>divorced:we</dt><dd>0.0224720630133224</dd><dt>divorced:exp1</dt><dd>54.1745355291687</dd><dt>divorced:exp2</dt><dd>4.0242551207786</dd><dt>divorced:exp3</dt><dd>34.5051586157924</dd><dt>separated:nevermarried</dt><dd>0</dd><dt>separated:hsd08</dt><dd>0.000136892537432164</dd><dt>separated:hsd911</dt><dd>0.000649905674279791</dd><dt>separated:hsg</dt><dd>0.00531103026674181</dd><dt>separated:cg</dt><dd>0.00307101465444149</dd><dt>separated:ad</dt><dd>0.0015037560654364</dd><dt>separated:mw</dt><dd>0.00351303701677679</dd><dt>separated:so</dt><dd>0.00537875020323244</dd><dt>separated:we</dt><dd>0.00371691378644543</dd><dt>separated:exp1</dt><dd>7.34504173617432</dd><dt>separated:exp2</dt><dd>0.500270764451382</dd><dt>separated:exp3</dt><dd>4.1289642693416</dd><dt>nevermarried:hsd08</dt><dd>0.000820792902870056</dd><dt>nevermarried:hsd911</dt><dd>0.00388674666180521</dd><dt>nevermarried:hsg</dt><dd>0.0378126799312363</dd><dt>nevermarried:cg</dt><dd>0.0469513826197827</dd><dt>nevermarried:ad</dt><dd>0.019950811563329</dd><dt>nevermarried:mw</dt><dd>0.0419234461954268</dd><dt>nevermarried:so</dt><dd>0.038348408522683</dd><dt>nevermarried:we</dt><dd>0.0313311207660501</dd><dt>nevermarried:exp1</dt><dd>34.8827948410478</dd><dt>nevermarried:exp2</dt><dd>2.13455487931536</dd><dt>nevermarried:exp3</dt><dd>16.8936845393902</dd><dt>hsd08:hsd911</dt><dd>0</dd><dt>hsd08:hsg</dt><dd>0</dd><dt>hsd08:cg</dt><dd>0</dd><dt>hsd08:ad</dt><dd>0</dd><dt>hsd08:mw</dt><dd>0.00133310313756402</dd><dt>hsd08:so</dt><dd>0.00143550192330899</dd><dt>hsd08:we</dt><dd>0.000376364272162064</dd><dt>hsd08:exp1</dt><dd>3.56412151970651</dd><dt>hsd08:exp2</dt><dd>0.395429991715188</dd><dt>hsd08:exp3</dt><dd>5.00675177888639</dd><dt>hsd911:hsg</dt><dd>0</dd><dt>hsd911:cg</dt><dd>0</dd><dt>hsd911:ad</dt><dd>0</dd><dt>hsd911:mw</dt><dd>0.00541260665696699</dd><dt>hsd911:so</dt><dd>0.00797884150178738</dd><dt>hsd911:we</dt><dd>0.00388674666180521</dd><dt>hsd911:exp1</dt><dd>13.1268344504417</dd><dt>hsd911:exp2</dt><dd>1.12850829887777</dd><dt>hsd911:exp3</dt><dd>11.187174754792</dd><dt>hsg:cg</dt><dd>0</dd><dt>hsg:ad</dt><dd>0</dd><dt>hsg:mw</dt><dd>0.0680285573962345</dd><dt>hsg:so</dt><dd>0.0682037276419477</dd><dt>hsg:we</dt><dd>0.0401083724231279</dd><dt>hsg:exp1</dt><dd>109.154355361218</dd><dt>hsg:exp2</dt><dd>9.15571935179905</dd><dt>hsg:exp3</dt><dd>86.8713006232265</dd><dt>cg:ad</dt><dd>0</dd><dt>cg:mw</dt><dd>0.0749695755831811</dd><dt>cg:so</dt><dd>0.0715159361413956</dd><dt>cg:we</dt><dd>0.0541356986721822</dd><dt>cg:exp1</dt><dd>74.1681968588821</dd><dt>cg:exp2</dt><dd>4.54594845428888</dd><dt>cg:exp3</dt><dd>32.432385872734</dd><dt>ad:mw</dt><dd>0.0371499626937025</dd><dt>ad:so</dt><dd>0.0433262631685907</dd><dt>ad:we</dt><dd>0.0312670934088734</dd><dt>ad:exp1</dt><dd>41.3589411881206</dd><dt>ad:exp2</dt><dd>2.15497936973557</dd><dt>ad:exp3</dt><dd>13.2446746219321</dd><dt>mw:so</dt><dd>0</dd><dt>mw:we</dt><dd>0</dd><dt>mw:exp1</dt><dd>95.1059942515115</dd><dt>mw:exp2</dt><dd>7.09775044199403</dd><dt>mw:exp3</dt><dd>62.0288079341247</dd><dt>so:we</dt><dd>0</dd><dt>so:exp1</dt><dd>91.2638438412566</dd><dt>so:exp2</dt><dd>6.63238482897262</dd><dt>so:exp3</dt><dd>56.7134042250972</dd><dt>we:exp1</dt><dd>69.2156800906592</dd><dt>we:exp2</dt><dd>4.87453721750917</dd><dt>we:exp3</dt><dd>40.6511139209753</dd><dt>exp1:exp2</dt><dd>12369.585246705</dd><dt>exp1:exp3</dt><dd>133735.897439942</dd><dt>exp2:exp3</dt><dd>14557.2303434333</dd></dl>\n"
      ],
      "text/latex": [
       "\\begin{description*}\n",
       "\\item[female] 0.244932851007499\n",
       "\\item[widowed] 0.00791148238840229\n",
       "\\item[divorced] 0.100538381812776\n",
       "\\item[separated] 0.0163249259487895\n",
       "\\item[nevermarried] 0.131907358545815\n",
       "\\item[hsd08] 0.00409046879300004\n",
       "\\item[hsd911] 0.021687708558098\n",
       "\\item[hsg] 0.186142782632551\n",
       "\\item[cg] 0.203104767547259\n",
       "\\item[ad] 0.131530659223626\n",
       "\\item[mw] 0.206595379642327\n",
       "\\item[so] 0.202852397558009\n",
       "\\item[we] 0.159791768142308\n",
       "\\item[exp1] 76.8609890308698\n",
       "\\item[exp2] 11.0324049992148\n",
       "\\item[exp3] 123.69585246705\n",
       "\\item[female:widowed] 0.00612305095073421\n",
       "\\item[female:divorced] 0.0591924048816873\n",
       "\\item[female:separated] 0.00885365712118045\n",
       "\\item[female:nevermarried] 0.0638877748670756\n",
       "\\item[female:hsd08] 0.00109409063224118\n",
       "\\item[female:hsd911] 0.00629205205854549\n",
       "\\item[female:hsg] 0.0845159732358852\n",
       "\\item[female:cg] 0.11017021487925\n",
       "\\item[female:ad] 0.0672099809781556\n",
       "\\item[female:mw] 0.112413812949527\n",
       "\\item[female:so] 0.107572813352937\n",
       "\\item[female:we] 0.074281546839094\n",
       "\\item[female:exp1] 118.811295071656\n",
       "\\item[female:exp2] 9.22543603020754\n",
       "\\item[female:exp3] 81.6538871446986\n",
       "\\item[widowed:divorced] 0\n",
       "\\item[widowed:separated] 0\n",
       "\\item[widowed:nevermarried] 0\n",
       "\\item[widowed:hsd08] 0\n",
       "\\item[widowed:hsd911] 0.000513153717278358\n",
       "\\item[widowed:hsg] 0.0031050304326642\n",
       "\\item[widowed:cg] 0.00136723840915286\n",
       "\\item[widowed:ad] 0.000752445040455487\n",
       "\\item[widowed:mw] 0.00225393307494275\n",
       "\\item[widowed:so] 0.002662642561209\n",
       "\\item[widowed:we] 0.00153787962198934\n",
       "\\item[widowed:exp1] 5.42677659034799\n",
       "\\item[widowed:exp2] 0.455967639900303\n",
       "\\item[widowed:exp3] 4.23292566319592\n",
       "\\item[divorced:separated] 0\n",
       "\\item[divorced:nevermarried] 0\n",
       "\\item[divorced:hsd08] 0.000410565147951906\n",
       "\\item[divorced:hsd911] 0.00361498594514342\n",
       "\\item[divorced:hsg] 0.0339163527130767\n",
       "\\item[divorced:cg] 0.0233202573851493\n",
       "\\item[divorced:ad] 0.0104980428204993\n",
       "\\item[divorced:mw] 0.0326416162273453\n",
       "\\item[divorced:so] 0.0326416162273453\n",
       "\\item[divorced:we] 0.0224720630133224\n",
       "\\item[divorced:exp1] 54.1745355291687\n",
       "\\item[divorced:exp2] 4.0242551207786\n",
       "\\item[divorced:exp3] 34.5051586157924\n",
       "\\item[separated:nevermarried] 0\n",
       "\\item[separated:hsd08] 0.000136892537432164\n",
       "\\item[separated:hsd911] 0.000649905674279791\n",
       "\\item[separated:hsg] 0.00531103026674181\n",
       "\\item[separated:cg] 0.00307101465444149\n",
       "\\item[separated:ad] 0.0015037560654364\n",
       "\\item[separated:mw] 0.00351303701677679\n",
       "\\item[separated:so] 0.00537875020323244\n",
       "\\item[separated:we] 0.00371691378644543\n",
       "\\item[separated:exp1] 7.34504173617432\n",
       "\\item[separated:exp2] 0.500270764451382\n",
       "\\item[separated:exp3] 4.1289642693416\n",
       "\\item[nevermarried:hsd08] 0.000820792902870056\n",
       "\\item[nevermarried:hsd911] 0.00388674666180521\n",
       "\\item[nevermarried:hsg] 0.0378126799312363\n",
       "\\item[nevermarried:cg] 0.0469513826197827\n",
       "\\item[nevermarried:ad] 0.019950811563329\n",
       "\\item[nevermarried:mw] 0.0419234461954268\n",
       "\\item[nevermarried:so] 0.038348408522683\n",
       "\\item[nevermarried:we] 0.0313311207660501\n",
       "\\item[nevermarried:exp1] 34.8827948410478\n",
       "\\item[nevermarried:exp2] 2.13455487931536\n",
       "\\item[nevermarried:exp3] 16.8936845393902\n",
       "\\item[hsd08:hsd911] 0\n",
       "\\item[hsd08:hsg] 0\n",
       "\\item[hsd08:cg] 0\n",
       "\\item[hsd08:ad] 0\n",
       "\\item[hsd08:mw] 0.00133310313756402\n",
       "\\item[hsd08:so] 0.00143550192330899\n",
       "\\item[hsd08:we] 0.000376364272162064\n",
       "\\item[hsd08:exp1] 3.56412151970651\n",
       "\\item[hsd08:exp2] 0.395429991715188\n",
       "\\item[hsd08:exp3] 5.00675177888639\n",
       "\\item[hsd911:hsg] 0\n",
       "\\item[hsd911:cg] 0\n",
       "\\item[hsd911:ad] 0\n",
       "\\item[hsd911:mw] 0.00541260665696699\n",
       "\\item[hsd911:so] 0.00797884150178738\n",
       "\\item[hsd911:we] 0.00388674666180521\n",
       "\\item[hsd911:exp1] 13.1268344504417\n",
       "\\item[hsd911:exp2] 1.12850829887777\n",
       "\\item[hsd911:exp3] 11.187174754792\n",
       "\\item[hsg:cg] 0\n",
       "\\item[hsg:ad] 0\n",
       "\\item[hsg:mw] 0.0680285573962345\n",
       "\\item[hsg:so] 0.0682037276419477\n",
       "\\item[hsg:we] 0.0401083724231279\n",
       "\\item[hsg:exp1] 109.154355361218\n",
       "\\item[hsg:exp2] 9.15571935179905\n",
       "\\item[hsg:exp3] 86.8713006232265\n",
       "\\item[cg:ad] 0\n",
       "\\item[cg:mw] 0.0749695755831811\n",
       "\\item[cg:so] 0.0715159361413956\n",
       "\\item[cg:we] 0.0541356986721822\n",
       "\\item[cg:exp1] 74.1681968588821\n",
       "\\item[cg:exp2] 4.54594845428888\n",
       "\\item[cg:exp3] 32.432385872734\n",
       "\\item[ad:mw] 0.0371499626937025\n",
       "\\item[ad:so] 0.0433262631685907\n",
       "\\item[ad:we] 0.0312670934088734\n",
       "\\item[ad:exp1] 41.3589411881206\n",
       "\\item[ad:exp2] 2.15497936973557\n",
       "\\item[ad:exp3] 13.2446746219321\n",
       "\\item[mw:so] 0\n",
       "\\item[mw:we] 0\n",
       "\\item[mw:exp1] 95.1059942515115\n",
       "\\item[mw:exp2] 7.09775044199403\n",
       "\\item[mw:exp3] 62.0288079341247\n",
       "\\item[so:we] 0\n",
       "\\item[so:exp1] 91.2638438412566\n",
       "\\item[so:exp2] 6.63238482897262\n",
       "\\item[so:exp3] 56.7134042250972\n",
       "\\item[we:exp1] 69.2156800906592\n",
       "\\item[we:exp2] 4.87453721750917\n",
       "\\item[we:exp3] 40.6511139209753\n",
       "\\item[exp1:exp2] 12369.585246705\n",
       "\\item[exp1:exp3] 133735.897439942\n",
       "\\item[exp2:exp3] 14557.2303434333\n",
       "\\end{description*}\n"
      ],
      "text/markdown": [
       "female\n",
       ":   0.244932851007499widowed\n",
       ":   0.00791148238840229divorced\n",
       ":   0.100538381812776separated\n",
       ":   0.0163249259487895nevermarried\n",
       ":   0.131907358545815hsd08\n",
       ":   0.00409046879300004hsd911\n",
       ":   0.021687708558098hsg\n",
       ":   0.186142782632551cg\n",
       ":   0.203104767547259ad\n",
       ":   0.131530659223626mw\n",
       ":   0.206595379642327so\n",
       ":   0.202852397558009we\n",
       ":   0.159791768142308exp1\n",
       ":   76.8609890308698exp2\n",
       ":   11.0324049992148exp3\n",
       ":   123.69585246705female:widowed\n",
       ":   0.00612305095073421female:divorced\n",
       ":   0.0591924048816873female:separated\n",
       ":   0.00885365712118045female:nevermarried\n",
       ":   0.0638877748670756female:hsd08\n",
       ":   0.00109409063224118female:hsd911\n",
       ":   0.00629205205854549female:hsg\n",
       ":   0.0845159732358852female:cg\n",
       ":   0.11017021487925female:ad\n",
       ":   0.0672099809781556female:mw\n",
       ":   0.112413812949527female:so\n",
       ":   0.107572813352937female:we\n",
       ":   0.074281546839094female:exp1\n",
       ":   118.811295071656female:exp2\n",
       ":   9.22543603020754female:exp3\n",
       ":   81.6538871446986widowed:divorced\n",
       ":   0widowed:separated\n",
       ":   0widowed:nevermarried\n",
       ":   0widowed:hsd08\n",
       ":   0widowed:hsd911\n",
       ":   0.000513153717278358widowed:hsg\n",
       ":   0.0031050304326642widowed:cg\n",
       ":   0.00136723840915286widowed:ad\n",
       ":   0.000752445040455487widowed:mw\n",
       ":   0.00225393307494275widowed:so\n",
       ":   0.002662642561209widowed:we\n",
       ":   0.00153787962198934widowed:exp1\n",
       ":   5.42677659034799widowed:exp2\n",
       ":   0.455967639900303widowed:exp3\n",
       ":   4.23292566319592divorced:separated\n",
       ":   0divorced:nevermarried\n",
       ":   0divorced:hsd08\n",
       ":   0.000410565147951906divorced:hsd911\n",
       ":   0.00361498594514342divorced:hsg\n",
       ":   0.0339163527130767divorced:cg\n",
       ":   0.0233202573851493divorced:ad\n",
       ":   0.0104980428204993divorced:mw\n",
       ":   0.0326416162273453divorced:so\n",
       ":   0.0326416162273453divorced:we\n",
       ":   0.0224720630133224divorced:exp1\n",
       ":   54.1745355291687divorced:exp2\n",
       ":   4.0242551207786divorced:exp3\n",
       ":   34.5051586157924separated:nevermarried\n",
       ":   0separated:hsd08\n",
       ":   0.000136892537432164separated:hsd911\n",
       ":   0.000649905674279791separated:hsg\n",
       ":   0.00531103026674181separated:cg\n",
       ":   0.00307101465444149separated:ad\n",
       ":   0.0015037560654364separated:mw\n",
       ":   0.00351303701677679separated:so\n",
       ":   0.00537875020323244separated:we\n",
       ":   0.00371691378644543separated:exp1\n",
       ":   7.34504173617432separated:exp2\n",
       ":   0.500270764451382separated:exp3\n",
       ":   4.1289642693416nevermarried:hsd08\n",
       ":   0.000820792902870056nevermarried:hsd911\n",
       ":   0.00388674666180521nevermarried:hsg\n",
       ":   0.0378126799312363nevermarried:cg\n",
       ":   0.0469513826197827nevermarried:ad\n",
       ":   0.019950811563329nevermarried:mw\n",
       ":   0.0419234461954268nevermarried:so\n",
       ":   0.038348408522683nevermarried:we\n",
       ":   0.0313311207660501nevermarried:exp1\n",
       ":   34.8827948410478nevermarried:exp2\n",
       ":   2.13455487931536nevermarried:exp3\n",
       ":   16.8936845393902hsd08:hsd911\n",
       ":   0hsd08:hsg\n",
       ":   0hsd08:cg\n",
       ":   0hsd08:ad\n",
       ":   0hsd08:mw\n",
       ":   0.00133310313756402hsd08:so\n",
       ":   0.00143550192330899hsd08:we\n",
       ":   0.000376364272162064hsd08:exp1\n",
       ":   3.56412151970651hsd08:exp2\n",
       ":   0.395429991715188hsd08:exp3\n",
       ":   5.00675177888639hsd911:hsg\n",
       ":   0hsd911:cg\n",
       ":   0hsd911:ad\n",
       ":   0hsd911:mw\n",
       ":   0.00541260665696699hsd911:so\n",
       ":   0.00797884150178738hsd911:we\n",
       ":   0.00388674666180521hsd911:exp1\n",
       ":   13.1268344504417hsd911:exp2\n",
       ":   1.12850829887777hsd911:exp3\n",
       ":   11.187174754792hsg:cg\n",
       ":   0hsg:ad\n",
       ":   0hsg:mw\n",
       ":   0.0680285573962345hsg:so\n",
       ":   0.0682037276419477hsg:we\n",
       ":   0.0401083724231279hsg:exp1\n",
       ":   109.154355361218hsg:exp2\n",
       ":   9.15571935179905hsg:exp3\n",
       ":   86.8713006232265cg:ad\n",
       ":   0cg:mw\n",
       ":   0.0749695755831811cg:so\n",
       ":   0.0715159361413956cg:we\n",
       ":   0.0541356986721822cg:exp1\n",
       ":   74.1681968588821cg:exp2\n",
       ":   4.54594845428888cg:exp3\n",
       ":   32.432385872734ad:mw\n",
       ":   0.0371499626937025ad:so\n",
       ":   0.0433262631685907ad:we\n",
       ":   0.0312670934088734ad:exp1\n",
       ":   41.3589411881206ad:exp2\n",
       ":   2.15497936973557ad:exp3\n",
       ":   13.2446746219321mw:so\n",
       ":   0mw:we\n",
       ":   0mw:exp1\n",
       ":   95.1059942515115mw:exp2\n",
       ":   7.09775044199403mw:exp3\n",
       ":   62.0288079341247so:we\n",
       ":   0so:exp1\n",
       ":   91.2638438412566so:exp2\n",
       ":   6.63238482897262so:exp3\n",
       ":   56.7134042250972we:exp1\n",
       ":   69.2156800906592we:exp2\n",
       ":   4.87453721750917we:exp3\n",
       ":   40.6511139209753exp1:exp2\n",
       ":   12369.585246705exp1:exp3\n",
       ":   133735.897439942exp2:exp3\n",
       ":   14557.2303434333\n",
       "\n"
      ],
      "text/plain": [
       "                female                widowed               divorced \n",
       "          2.449329e-01           7.911482e-03           1.005384e-01 \n",
       "             separated           nevermarried                  hsd08 \n",
       "          1.632493e-02           1.319074e-01           4.090469e-03 \n",
       "                hsd911                    hsg                     cg \n",
       "          2.168771e-02           1.861428e-01           2.031048e-01 \n",
       "                    ad                     mw                     so \n",
       "          1.315307e-01           2.065954e-01           2.028524e-01 \n",
       "                    we                   exp1                   exp2 \n",
       "          1.597918e-01           7.686099e+01           1.103240e+01 \n",
       "                  exp3         female:widowed        female:divorced \n",
       "          1.236959e+02           6.123051e-03           5.919240e-02 \n",
       "      female:separated    female:nevermarried           female:hsd08 \n",
       "          8.853657e-03           6.388777e-02           1.094091e-03 \n",
       "         female:hsd911             female:hsg              female:cg \n",
       "          6.292052e-03           8.451597e-02           1.101702e-01 \n",
       "             female:ad              female:mw              female:so \n",
       "          6.720998e-02           1.124138e-01           1.075728e-01 \n",
       "             female:we            female:exp1            female:exp2 \n",
       "          7.428155e-02           1.188113e+02           9.225436e+00 \n",
       "           female:exp3       widowed:divorced      widowed:separated \n",
       "          8.165389e+01           0.000000e+00           0.000000e+00 \n",
       "  widowed:nevermarried          widowed:hsd08         widowed:hsd911 \n",
       "          0.000000e+00           0.000000e+00           5.131537e-04 \n",
       "           widowed:hsg             widowed:cg             widowed:ad \n",
       "          3.105030e-03           1.367238e-03           7.524450e-04 \n",
       "            widowed:mw             widowed:so             widowed:we \n",
       "          2.253933e-03           2.662643e-03           1.537880e-03 \n",
       "          widowed:exp1           widowed:exp2           widowed:exp3 \n",
       "          5.426777e+00           4.559676e-01           4.232926e+00 \n",
       "    divorced:separated  divorced:nevermarried         divorced:hsd08 \n",
       "          0.000000e+00           0.000000e+00           4.105651e-04 \n",
       "       divorced:hsd911           divorced:hsg            divorced:cg \n",
       "          3.614986e-03           3.391635e-02           2.332026e-02 \n",
       "           divorced:ad            divorced:mw            divorced:so \n",
       "          1.049804e-02           3.264162e-02           3.264162e-02 \n",
       "           divorced:we          divorced:exp1          divorced:exp2 \n",
       "          2.247206e-02           5.417454e+01           4.024255e+00 \n",
       "         divorced:exp3 separated:nevermarried        separated:hsd08 \n",
       "          3.450516e+01           0.000000e+00           1.368925e-04 \n",
       "      separated:hsd911          separated:hsg           separated:cg \n",
       "          6.499057e-04           5.311030e-03           3.071015e-03 \n",
       "          separated:ad           separated:mw           separated:so \n",
       "          1.503756e-03           3.513037e-03           5.378750e-03 \n",
       "          separated:we         separated:exp1         separated:exp2 \n",
       "          3.716914e-03           7.345042e+00           5.002708e-01 \n",
       "        separated:exp3     nevermarried:hsd08    nevermarried:hsd911 \n",
       "          4.128964e+00           8.207929e-04           3.886747e-03 \n",
       "      nevermarried:hsg        nevermarried:cg        nevermarried:ad \n",
       "          3.781268e-02           4.695138e-02           1.995081e-02 \n",
       "       nevermarried:mw        nevermarried:so        nevermarried:we \n",
       "          4.192345e-02           3.834841e-02           3.133112e-02 \n",
       "     nevermarried:exp1      nevermarried:exp2      nevermarried:exp3 \n",
       "          3.488279e+01           2.134555e+00           1.689368e+01 \n",
       "          hsd08:hsd911              hsd08:hsg               hsd08:cg \n",
       "          0.000000e+00           0.000000e+00           0.000000e+00 \n",
       "              hsd08:ad               hsd08:mw               hsd08:so \n",
       "          0.000000e+00           1.333103e-03           1.435502e-03 \n",
       "              hsd08:we             hsd08:exp1             hsd08:exp2 \n",
       "          3.763643e-04           3.564122e+00           3.954300e-01 \n",
       "            hsd08:exp3             hsd911:hsg              hsd911:cg \n",
       "          5.006752e+00           0.000000e+00           0.000000e+00 \n",
       "             hsd911:ad              hsd911:mw              hsd911:so \n",
       "          0.000000e+00           5.412607e-03           7.978842e-03 \n",
       "             hsd911:we            hsd911:exp1            hsd911:exp2 \n",
       "          3.886747e-03           1.312683e+01           1.128508e+00 \n",
       "           hsd911:exp3                 hsg:cg                 hsg:ad \n",
       "          1.118717e+01           0.000000e+00           0.000000e+00 \n",
       "                hsg:mw                 hsg:so                 hsg:we \n",
       "          6.802856e-02           6.820373e-02           4.010837e-02 \n",
       "              hsg:exp1               hsg:exp2               hsg:exp3 \n",
       "          1.091544e+02           9.155719e+00           8.687130e+01 \n",
       "                 cg:ad                  cg:mw                  cg:so \n",
       "          0.000000e+00           7.496958e-02           7.151594e-02 \n",
       "                 cg:we                cg:exp1                cg:exp2 \n",
       "          5.413570e-02           7.416820e+01           4.545948e+00 \n",
       "               cg:exp3                  ad:mw                  ad:so \n",
       "          3.243239e+01           3.714996e-02           4.332626e-02 \n",
       "                 ad:we                ad:exp1                ad:exp2 \n",
       "          3.126709e-02           4.135894e+01           2.154979e+00 \n",
       "               ad:exp3                  mw:so                  mw:we \n",
       "          1.324467e+01           0.000000e+00           0.000000e+00 \n",
       "               mw:exp1                mw:exp2                mw:exp3 \n",
       "          9.510599e+01           7.097750e+00           6.202881e+01 \n",
       "                 so:we                so:exp1                so:exp2 \n",
       "          0.000000e+00           9.126384e+01           6.632385e+00 \n",
       "               so:exp3                we:exp1                we:exp2 \n",
       "          5.671340e+01           6.921568e+01           4.874537e+00 \n",
       "               we:exp3              exp1:exp2              exp1:exp3 \n",
       "          4.065111e+01           1.236959e+04           1.337359e+05 \n",
       "             exp2:exp3 \n",
       "          1.455723e+04 "
      ]
     },
     "metadata": {},
     "output_type": "display_data"
    }
   ],
   "source": [
    "apply(X, 2, var)"
   ]
  },
  {
   "cell_type": "code",
   "execution_count": 14,
   "metadata": {
    "execution": {
     "iopub.execute_input": "2021-02-28T17:17:26.350577Z",
     "iopub.status.busy": "2021-02-28T17:17:26.317735Z",
     "iopub.status.idle": "2021-02-28T17:17:29.196789Z",
     "shell.execute_reply": "2021-02-28T17:17:29.194681Z"
    },
    "papermill": {
     "duration": 2.894102,
     "end_time": "2021-02-28T17:17:29.196986",
     "exception": false,
     "start_time": "2021-02-28T17:17:26.302884",
     "status": "completed"
    },
    "tags": []
   },
   "outputs": [
    {
     "data": {
      "text/html": [
       "<style>\n",
       ".list-inline {list-style: none; margin:0; padding: 0}\n",
       ".list-inline>li {display: inline-block}\n",
       ".list-inline>li:not(:last-child)::after {content: \"\\00b7\"; padding: 0 .5ex}\n",
       "</style>\n",
       "<ol class=list-inline><li>29217</li><li>116</li></ol>\n"
      ],
      "text/latex": [
       "\\begin{enumerate*}\n",
       "\\item 29217\n",
       "\\item 116\n",
       "\\end{enumerate*}\n"
      ],
      "text/markdown": [
       "1. 29217\n",
       "2. 116\n",
       "\n",
       "\n"
      ],
      "text/plain": [
       "[1] 29217   116"
      ]
     },
     "metadata": {},
     "output_type": "display_data"
    }
   ],
   "source": [
    "# create the model matrix for the covariates\n",
    "X <- model.matrix(~-1 + female + female:(widowed + divorced + separated + nevermarried +\n",
    "hsd08 + hsd911 + hsg + cg + ad + mw + so + we + exp1 + exp2 + exp3) + +(widowed +\n",
    "divorced + separated + nevermarried + hsd08 + hsd911 + hsg + cg + ad + mw + so +\n",
    "we + exp1 + exp2 + exp3)^2, data = cps2012)\n",
    "X <- X[, which(apply(X, 2, var) != 0)] # exclude all constant variables\n",
    "demean<- function (x){ x- mean(x)}\n",
    "X<- apply(X, 2, FUN=demean)\n",
    "dim(X)\n",
    "\n",
    "# target variables, index.gender specifices coefficients we are interested in\n",
    "index.gender <- grep(\"female\", colnames(X))\n",
    "y <- cps2012$lnw"
   ]
  },
  {
   "cell_type": "markdown",
   "metadata": {
    "papermill": {
     "duration": 0.008565,
     "end_time": "2021-02-28T17:17:29.215145",
     "exception": false,
     "start_time": "2021-02-28T17:17:29.206580",
     "status": "completed"
    },
    "tags": []
   },
   "source": [
    "The parameter estimates for the target parameters, i.e. all coefficients related to gender (i.e. by interaction with other variables) are calculated and summarized by the following commands:\n",
    "\n"
   ]
  },
  {
   "cell_type": "code",
   "execution_count": 15,
   "metadata": {
    "_execution_state": "idle",
    "_uuid": "051d70d956493feee0c6d64651c6a088724dca2a",
    "execution": {
     "iopub.execute_input": "2021-02-28T17:17:29.240943Z",
     "iopub.status.busy": "2021-02-28T17:17:29.238952Z",
     "iopub.status.idle": "2021-02-28T17:18:47.651562Z",
     "shell.execute_reply": "2021-02-28T17:18:47.648518Z"
    },
    "papermill": {
     "duration": 78.426974,
     "end_time": "2021-02-28T17:18:47.651893",
     "exception": false,
     "start_time": "2021-02-28T17:17:29.224919",
     "status": "completed"
    },
    "tags": []
   },
   "outputs": [],
   "source": [
    "# this cell takes a minute to run\n",
    "\n",
    "    effects.female <- rlassoEffects(x = X, y = y, index = index.gender)\n"
   ]
  },
  {
   "cell_type": "code",
   "execution_count": 16,
   "metadata": {
    "execution": {
     "iopub.execute_input": "2021-02-28T17:18:47.695255Z",
     "iopub.status.busy": "2021-02-28T17:18:47.694641Z",
     "iopub.status.idle": "2021-02-28T17:18:47.787196Z",
     "shell.execute_reply": "2021-02-28T17:18:47.785009Z"
    },
    "papermill": {
     "duration": 0.115154,
     "end_time": "2021-02-28T17:18:47.787349",
     "exception": false,
     "start_time": "2021-02-28T17:18:47.672195",
     "status": "completed"
    },
    "tags": []
   },
   "outputs": [
    {
     "data": {
      "text/html": [
       "<table class=\"dataframe\">\n",
       "<caption>A matrix: 16 × 4 of type dbl</caption>\n",
       "<thead>\n",
       "\t<tr><th></th><th scope=col>Estimate.</th><th scope=col>Std. Error</th><th scope=col>t value</th><th scope=col>Pr(&gt;|t|)</th></tr>\n",
       "</thead>\n",
       "<tbody>\n",
       "\t<tr><th scope=row>female</th><td>-0.154923281</td><td>0.050162447</td><td>-3.08843149</td><td>2.012161e-03</td></tr>\n",
       "\t<tr><th scope=row>female:widowed</th><td> 0.136095484</td><td>0.090662629</td><td> 1.50111997</td><td>1.333245e-01</td></tr>\n",
       "\t<tr><th scope=row>female:divorced</th><td> 0.136939386</td><td>0.022181700</td><td> 6.17352970</td><td>6.678200e-10</td></tr>\n",
       "\t<tr><th scope=row>female:separated</th><td> 0.023302763</td><td>0.053211795</td><td> 0.43792476</td><td>6.614408e-01</td></tr>\n",
       "\t<tr><th scope=row>female:nevermarried</th><td> 0.186853483</td><td>0.019942393</td><td> 9.36966209</td><td>7.276511e-21</td></tr>\n",
       "\t<tr><th scope=row>female:hsd08</th><td> 0.027810312</td><td>0.120914496</td><td> 0.22999982</td><td>8.180919e-01</td></tr>\n",
       "\t<tr><th scope=row>female:hsd911</th><td>-0.119335040</td><td>0.051879684</td><td>-2.30022682</td><td>2.143537e-02</td></tr>\n",
       "\t<tr><th scope=row>female:hsg</th><td>-0.012889780</td><td>0.019223188</td><td>-0.67053290</td><td>5.025181e-01</td></tr>\n",
       "\t<tr><th scope=row>female:cg</th><td> 0.010138553</td><td>0.018326505</td><td> 0.55321800</td><td>5.801141e-01</td></tr>\n",
       "\t<tr><th scope=row>female:ad</th><td>-0.030463745</td><td>0.021806103</td><td>-1.39702838</td><td>1.624050e-01</td></tr>\n",
       "\t<tr><th scope=row>female:mw</th><td>-0.001063439</td><td>0.019191770</td><td>-0.05541119</td><td>9.558109e-01</td></tr>\n",
       "\t<tr><th scope=row>female:so</th><td>-0.008183343</td><td>0.019356818</td><td>-0.42276282</td><td>6.724683e-01</td></tr>\n",
       "\t<tr><th scope=row>female:we</th><td>-0.004226129</td><td>0.021168404</td><td>-0.19964324</td><td>8.417596e-01</td></tr>\n",
       "\t<tr><th scope=row>female:exp1</th><td> 0.004935259</td><td>0.007804275</td><td> 0.63237886</td><td>5.271393e-01</td></tr>\n",
       "\t<tr><th scope=row>female:exp2</th><td>-0.159519328</td><td>0.045299884</td><td>-3.52140699</td><td>4.292632e-04</td></tr>\n",
       "\t<tr><th scope=row>female:exp3</th><td> 0.038450579</td><td>0.007861100</td><td> 4.89124680</td><td>1.001992e-06</td></tr>\n",
       "</tbody>\n",
       "</table>\n"
      ],
      "text/latex": [
       "A matrix: 16 × 4 of type dbl\n",
       "\\begin{tabular}{r|llll}\n",
       "  & Estimate. & Std. Error & t value & Pr(>\\textbar{}t\\textbar{})\\\\\n",
       "\\hline\n",
       "\tfemale & -0.154923281 & 0.050162447 & -3.08843149 & 2.012161e-03\\\\\n",
       "\tfemale:widowed &  0.136095484 & 0.090662629 &  1.50111997 & 1.333245e-01\\\\\n",
       "\tfemale:divorced &  0.136939386 & 0.022181700 &  6.17352970 & 6.678200e-10\\\\\n",
       "\tfemale:separated &  0.023302763 & 0.053211795 &  0.43792476 & 6.614408e-01\\\\\n",
       "\tfemale:nevermarried &  0.186853483 & 0.019942393 &  9.36966209 & 7.276511e-21\\\\\n",
       "\tfemale:hsd08 &  0.027810312 & 0.120914496 &  0.22999982 & 8.180919e-01\\\\\n",
       "\tfemale:hsd911 & -0.119335040 & 0.051879684 & -2.30022682 & 2.143537e-02\\\\\n",
       "\tfemale:hsg & -0.012889780 & 0.019223188 & -0.67053290 & 5.025181e-01\\\\\n",
       "\tfemale:cg &  0.010138553 & 0.018326505 &  0.55321800 & 5.801141e-01\\\\\n",
       "\tfemale:ad & -0.030463745 & 0.021806103 & -1.39702838 & 1.624050e-01\\\\\n",
       "\tfemale:mw & -0.001063439 & 0.019191770 & -0.05541119 & 9.558109e-01\\\\\n",
       "\tfemale:so & -0.008183343 & 0.019356818 & -0.42276282 & 6.724683e-01\\\\\n",
       "\tfemale:we & -0.004226129 & 0.021168404 & -0.19964324 & 8.417596e-01\\\\\n",
       "\tfemale:exp1 &  0.004935259 & 0.007804275 &  0.63237886 & 5.271393e-01\\\\\n",
       "\tfemale:exp2 & -0.159519328 & 0.045299884 & -3.52140699 & 4.292632e-04\\\\\n",
       "\tfemale:exp3 &  0.038450579 & 0.007861100 &  4.89124680 & 1.001992e-06\\\\\n",
       "\\end{tabular}\n"
      ],
      "text/markdown": [
       "\n",
       "A matrix: 16 × 4 of type dbl\n",
       "\n",
       "| <!--/--> | Estimate. | Std. Error | t value | Pr(&gt;|t|) |\n",
       "|---|---|---|---|---|\n",
       "| female | -0.154923281 | 0.050162447 | -3.08843149 | 2.012161e-03 |\n",
       "| female:widowed |  0.136095484 | 0.090662629 |  1.50111997 | 1.333245e-01 |\n",
       "| female:divorced |  0.136939386 | 0.022181700 |  6.17352970 | 6.678200e-10 |\n",
       "| female:separated |  0.023302763 | 0.053211795 |  0.43792476 | 6.614408e-01 |\n",
       "| female:nevermarried |  0.186853483 | 0.019942393 |  9.36966209 | 7.276511e-21 |\n",
       "| female:hsd08 |  0.027810312 | 0.120914496 |  0.22999982 | 8.180919e-01 |\n",
       "| female:hsd911 | -0.119335040 | 0.051879684 | -2.30022682 | 2.143537e-02 |\n",
       "| female:hsg | -0.012889780 | 0.019223188 | -0.67053290 | 5.025181e-01 |\n",
       "| female:cg |  0.010138553 | 0.018326505 |  0.55321800 | 5.801141e-01 |\n",
       "| female:ad | -0.030463745 | 0.021806103 | -1.39702838 | 1.624050e-01 |\n",
       "| female:mw | -0.001063439 | 0.019191770 | -0.05541119 | 9.558109e-01 |\n",
       "| female:so | -0.008183343 | 0.019356818 | -0.42276282 | 6.724683e-01 |\n",
       "| female:we | -0.004226129 | 0.021168404 | -0.19964324 | 8.417596e-01 |\n",
       "| female:exp1 |  0.004935259 | 0.007804275 |  0.63237886 | 5.271393e-01 |\n",
       "| female:exp2 | -0.159519328 | 0.045299884 | -3.52140699 | 4.292632e-04 |\n",
       "| female:exp3 |  0.038450579 | 0.007861100 |  4.89124680 | 1.001992e-06 |\n",
       "\n"
      ],
      "text/plain": [
       "                    Estimate.    Std. Error  t value     Pr(>|t|)    \n",
       "female              -0.154923281 0.050162447 -3.08843149 2.012161e-03\n",
       "female:widowed       0.136095484 0.090662629  1.50111997 1.333245e-01\n",
       "female:divorced      0.136939386 0.022181700  6.17352970 6.678200e-10\n",
       "female:separated     0.023302763 0.053211795  0.43792476 6.614408e-01\n",
       "female:nevermarried  0.186853483 0.019942393  9.36966209 7.276511e-21\n",
       "female:hsd08         0.027810312 0.120914496  0.22999982 8.180919e-01\n",
       "female:hsd911       -0.119335040 0.051879684 -2.30022682 2.143537e-02\n",
       "female:hsg          -0.012889780 0.019223188 -0.67053290 5.025181e-01\n",
       "female:cg            0.010138553 0.018326505  0.55321800 5.801141e-01\n",
       "female:ad           -0.030463745 0.021806103 -1.39702838 1.624050e-01\n",
       "female:mw           -0.001063439 0.019191770 -0.05541119 9.558109e-01\n",
       "female:so           -0.008183343 0.019356818 -0.42276282 6.724683e-01\n",
       "female:we           -0.004226129 0.021168404 -0.19964324 8.417596e-01\n",
       "female:exp1          0.004935259 0.007804275  0.63237886 5.271393e-01\n",
       "female:exp2         -0.159519328 0.045299884 -3.52140699 4.292632e-04\n",
       "female:exp3          0.038450579 0.007861100  4.89124680 1.001992e-06"
      ]
     },
     "metadata": {},
     "output_type": "display_data"
    },
    {
     "name": "stdout",
     "output_type": "stream",
     "text": [
      "% latex table generated in R 4.0.4 by xtable 1.8-4 package\n",
      "% Tue Apr 13 11:04:14 2021\n",
      "\\begin{table}[ht]\n",
      "\\centering\n",
      "\\begin{tabular}{rrrr}\n",
      "  \\hline\n",
      " & Estimate. & Std. Error & Pr($>$$|$t$|$) \\\\ \n",
      "  \\hline\n",
      "female & -0.15 & 0.05 & 0.00 \\\\ \n",
      "  female:widowed & 0.14 & 0.09 & 0.13 \\\\ \n",
      "  female:divorced & 0.14 & 0.02 & 0.00 \\\\ \n",
      "  female:separated & 0.02 & 0.05 & 0.66 \\\\ \n",
      "  female:nevermarried & 0.19 & 0.02 & 0.00 \\\\ \n",
      "  female:hsd08 & 0.03 & 0.12 & 0.82 \\\\ \n",
      "  female:hsd911 & -0.12 & 0.05 & 0.02 \\\\ \n",
      "  female:hsg & -0.01 & 0.02 & 0.50 \\\\ \n",
      "  female:cg & 0.01 & 0.02 & 0.58 \\\\ \n",
      "  female:ad & -0.03 & 0.02 & 0.16 \\\\ \n",
      "  female:mw & -0.00 & 0.02 & 0.96 \\\\ \n",
      "  female:so & -0.01 & 0.02 & 0.67 \\\\ \n",
      "  female:we & -0.00 & 0.02 & 0.84 \\\\ \n",
      "  female:exp1 & 0.00 & 0.01 & 0.53 \\\\ \n",
      "  female:exp2 & -0.16 & 0.05 & 0.00 \\\\ \n",
      "  female:exp3 & 0.04 & 0.01 & 0.00 \\\\ \n",
      "   \\hline\n",
      "\\end{tabular}\n",
      "\\end{table}\n"
     ]
    }
   ],
   "source": [
    "result=summary(effects.female)\n",
    "result$coef\n",
    "library(xtable)\n",
    "print(xtable(result$coef[,c(1,2,4)], type=\"latex\"), digits=3)\n"
   ]
  },
  {
   "cell_type": "markdown",
   "metadata": {
    "papermill": {
     "duration": 0.008891,
     "end_time": "2021-02-28T17:18:47.805643",
     "exception": false,
     "start_time": "2021-02-28T17:18:47.796752",
     "status": "completed"
    },
    "tags": []
   },
   "source": [
    "Now, we estimate and plot confident intervals, first \"pointwise\" and then the joint confidence intervals."
   ]
  },
  {
   "cell_type": "code",
   "execution_count": null,
   "metadata": {},
   "outputs": [],
   "source": [
    "result$coef"
   ]
  },
  {
   "cell_type": "code",
   "execution_count": 18,
   "metadata": {
    "execution": {
     "iopub.execute_input": "2021-02-28T17:18:47.830650Z",
     "iopub.status.busy": "2021-02-28T17:18:47.828883Z",
     "iopub.status.idle": "2021-02-28T17:18:48.896575Z",
     "shell.execute_reply": "2021-02-28T17:18:48.895785Z"
    },
    "papermill": {
     "duration": 1.082155,
     "end_time": "2021-02-28T17:18:48.896774",
     "exception": false,
     "start_time": "2021-02-28T17:18:47.814619",
     "status": "completed"
    },
    "tags": []
   },
   "outputs": [
    {
     "data": {
      "text/html": [
       "<table class=\"dataframe\">\n",
       "<caption>A matrix: 16 × 2 of type dbl</caption>\n",
       "<thead>\n",
       "\t<tr><th></th><th scope=col>5 %</th><th scope=col>95 %</th></tr>\n",
       "</thead>\n",
       "<tbody>\n",
       "\t<tr><th scope=row>female</th><td>-0.237433164</td><td>-0.072413398</td></tr>\n",
       "\t<tr><th scope=row>female:widowed</th><td>-0.013031271</td><td> 0.285222239</td></tr>\n",
       "\t<tr><th scope=row>female:divorced</th><td> 0.100453736</td><td> 0.173425037</td></tr>\n",
       "\t<tr><th scope=row>female:separated</th><td>-0.064222851</td><td> 0.110828376</td></tr>\n",
       "\t<tr><th scope=row>female:nevermarried</th><td> 0.154051166</td><td> 0.219655800</td></tr>\n",
       "\t<tr><th scope=row>female:hsd08</th><td>-0.171076335</td><td> 0.226696960</td></tr>\n",
       "\t<tr><th scope=row>female:hsd911</th><td>-0.204669525</td><td>-0.034000554</td></tr>\n",
       "\t<tr><th scope=row>female:hsg</th><td>-0.044509111</td><td> 0.018729551</td></tr>\n",
       "\t<tr><th scope=row>female:cg</th><td>-0.020005866</td><td> 0.040282971</td></tr>\n",
       "\t<tr><th scope=row>female:ad</th><td>-0.066331593</td><td> 0.005404103</td></tr>\n",
       "\t<tr><th scope=row>female:mw</th><td>-0.032631091</td><td> 0.030504214</td></tr>\n",
       "\t<tr><th scope=row>female:so</th><td>-0.040022474</td><td> 0.023655789</td></tr>\n",
       "\t<tr><th scope=row>female:we</th><td>-0.039045055</td><td> 0.030592798</td></tr>\n",
       "\t<tr><th scope=row>female:exp1</th><td>-0.007901632</td><td> 0.017772149</td></tr>\n",
       "\t<tr><th scope=row>female:exp2</th><td>-0.234031007</td><td>-0.085007650</td></tr>\n",
       "\t<tr><th scope=row>female:exp3</th><td> 0.025520220</td><td> 0.051380937</td></tr>\n",
       "</tbody>\n",
       "</table>\n"
      ],
      "text/latex": [
       "A matrix: 16 × 2 of type dbl\n",
       "\\begin{tabular}{r|ll}\n",
       "  & 5 \\% & 95 \\%\\\\\n",
       "\\hline\n",
       "\tfemale & -0.237433164 & -0.072413398\\\\\n",
       "\tfemale:widowed & -0.013031271 &  0.285222239\\\\\n",
       "\tfemale:divorced &  0.100453736 &  0.173425037\\\\\n",
       "\tfemale:separated & -0.064222851 &  0.110828376\\\\\n",
       "\tfemale:nevermarried &  0.154051166 &  0.219655800\\\\\n",
       "\tfemale:hsd08 & -0.171076335 &  0.226696960\\\\\n",
       "\tfemale:hsd911 & -0.204669525 & -0.034000554\\\\\n",
       "\tfemale:hsg & -0.044509111 &  0.018729551\\\\\n",
       "\tfemale:cg & -0.020005866 &  0.040282971\\\\\n",
       "\tfemale:ad & -0.066331593 &  0.005404103\\\\\n",
       "\tfemale:mw & -0.032631091 &  0.030504214\\\\\n",
       "\tfemale:so & -0.040022474 &  0.023655789\\\\\n",
       "\tfemale:we & -0.039045055 &  0.030592798\\\\\n",
       "\tfemale:exp1 & -0.007901632 &  0.017772149\\\\\n",
       "\tfemale:exp2 & -0.234031007 & -0.085007650\\\\\n",
       "\tfemale:exp3 &  0.025520220 &  0.051380937\\\\\n",
       "\\end{tabular}\n"
      ],
      "text/markdown": [
       "\n",
       "A matrix: 16 × 2 of type dbl\n",
       "\n",
       "| <!--/--> | 5 % | 95 % |\n",
       "|---|---|---|\n",
       "| female | -0.237433164 | -0.072413398 |\n",
       "| female:widowed | -0.013031271 |  0.285222239 |\n",
       "| female:divorced |  0.100453736 |  0.173425037 |\n",
       "| female:separated | -0.064222851 |  0.110828376 |\n",
       "| female:nevermarried |  0.154051166 |  0.219655800 |\n",
       "| female:hsd08 | -0.171076335 |  0.226696960 |\n",
       "| female:hsd911 | -0.204669525 | -0.034000554 |\n",
       "| female:hsg | -0.044509111 |  0.018729551 |\n",
       "| female:cg | -0.020005866 |  0.040282971 |\n",
       "| female:ad | -0.066331593 |  0.005404103 |\n",
       "| female:mw | -0.032631091 |  0.030504214 |\n",
       "| female:so | -0.040022474 |  0.023655789 |\n",
       "| female:we | -0.039045055 |  0.030592798 |\n",
       "| female:exp1 | -0.007901632 |  0.017772149 |\n",
       "| female:exp2 | -0.234031007 | -0.085007650 |\n",
       "| female:exp3 |  0.025520220 |  0.051380937 |\n",
       "\n"
      ],
      "text/plain": [
       "                    5 %          95 %        \n",
       "female              -0.237433164 -0.072413398\n",
       "female:widowed      -0.013031271  0.285222239\n",
       "female:divorced      0.100453736  0.173425037\n",
       "female:separated    -0.064222851  0.110828376\n",
       "female:nevermarried  0.154051166  0.219655800\n",
       "female:hsd08        -0.171076335  0.226696960\n",
       "female:hsd911       -0.204669525 -0.034000554\n",
       "female:hsg          -0.044509111  0.018729551\n",
       "female:cg           -0.020005866  0.040282971\n",
       "female:ad           -0.066331593  0.005404103\n",
       "female:mw           -0.032631091  0.030504214\n",
       "female:so           -0.040022474  0.023655789\n",
       "female:we           -0.039045055  0.030592798\n",
       "female:exp1         -0.007901632  0.017772149\n",
       "female:exp2         -0.234031007 -0.085007650\n",
       "female:exp3          0.025520220  0.051380937"
      ]
     },
     "metadata": {},
     "output_type": "display_data"
    },
    {
     "name": "stderr",
     "output_type": "stream",
     "text": [
      "Warning message:\n",
      "\"Ignoring unknown aesthetics: width, h\"\n"
     ]
    },
    {
     "data": {
      "image/png": "[encoded data removed]",
      "text/plain": [
       "plot without title"
      ]
     },
     "metadata": {
      "image/png": {
       "height": 420,
       "width": 420
      }
     },
     "output_type": "display_data"
    }
   ],
   "source": [
    "pointwise.CI <- confint(effects.female, level = 0.90)\n",
    "pointwise.CI\n",
    "plot(effects.female, level=0.90) # plot of the effects\n",
    "\n"
   ]
  },
  {
   "cell_type": "markdown",
   "metadata": {
    "papermill": {
     "duration": 0.01145,
     "end_time": "2021-02-28T17:18:48.920882",
     "exception": false,
     "start_time": "2021-02-28T17:18:48.909432",
     "status": "completed"
    },
    "tags": []
   },
   "source": [
    "Finally, we compare the pointwise confidence intervals to joint confidence intervals."
   ]
  },
  {
   "cell_type": "code",
   "execution_count": 130,
   "metadata": {},
   "outputs": [],
   "source": [
    "p = 16"
   ]
  },
  {
   "cell_type": "code",
   "execution_count": 132,
   "metadata": {},
   "outputs": [],
   "source": [
    "s = rnorm(p * n)"
   ]
  },
  {
   "cell_type": "code",
   "execution_count": null,
   "metadata": {},
   "outputs": [],
   "source": [
    "s"
   ]
  },
  {
   "cell_type": "code",
   "execution_count": null,
   "metadata": {
    "scrolled": true
   },
   "outputs": [],
   "source": [
    "matrix(s, n)"
   ]
  },
  {
   "cell_type": "code",
   "execution_count": 34,
   "metadata": {
    "scrolled": true
   },
   "outputs": [
    {
     "data": {
      "text/html": [
       "<style>\n",
       ".list-inline {list-style: none; margin:0; padding: 0}\n",
       ".list-inline>li {display: inline-block}\n",
       ".list-inline>li:not(:last-child)::after {content: \"\\00b7\"; padding: 0 .5ex}\n",
       "</style>\n",
       "<ol class=list-inline><li>29217</li><li>116</li></ol>\n"
      ],
      "text/latex": [
       "\\begin{enumerate*}\n",
       "\\item 29217\n",
       "\\item 116\n",
       "\\end{enumerate*}\n"
      ],
      "text/markdown": [
       "1. 29217\n",
       "2. 116\n",
       "\n",
       "\n"
      ],
      "text/plain": [
       "[1] 29217   116"
      ]
     },
     "metadata": {},
     "output_type": "display_data"
    }
   ],
   "source": [
    "dim(X)"
   ]
  },
  {
   "cell_type": "code",
   "execution_count": 77,
   "metadata": {},
   "outputs": [],
   "source": [
    "e = effects.female$residuals$e\n",
    "v = effects.female$residuals$v"
   ]
  },
  {
   "cell_type": "code",
   "execution_count": 84,
   "metadata": {},
   "outputs": [],
   "source": [
    "Ev = colMeans( v ^ 2 )"
   ]
  },
  {
   "cell_type": "code",
   "execution_count": 82,
   "metadata": {},
   "outputs": [],
   "source": [
    "ev <- e * v"
   ]
  },
  {
   "cell_type": "code",
   "execution_count": 80,
   "metadata": {},
   "outputs": [],
   "source": [
    "k = 16 "
   ]
  },
  {
   "cell_type": "code",
   "execution_count": 87,
   "metadata": {},
   "outputs": [],
   "source": [
    "B <- 500"
   ]
  },
  {
   "cell_type": "code",
   "execution_count": 89,
   "metadata": {},
   "outputs": [],
   "source": [
    "n <- 29217"
   ]
  },
  {
   "cell_type": "code",
   "execution_count": 90,
   "metadata": {},
   "outputs": [],
   "source": [
    "Ev2 <- colMeans(v^2)\n",
    "Omegahat <- matrix(NA, ncol = k, nrow = k)\n",
    "for (j in 1:k) {\n",
    "    for (l in 1:k) {\n",
    "        Omegahat[j, l] = Omegahat[l, j] = 1/(Ev2[j] * \n",
    "          Ev2[l]) * mean(ev[, j] * ev[, l])\n",
    "    }\n",
    "}\n",
    "var <- diag(Omegahat)\n",
    "\n",
    "sim <- vector(\"numeric\", length = B)\n",
    "for (i in 1:B) {\n",
    "    beta_i <- MASS::mvrnorm(mu = rep(0, k), Sigma = Omegahat/n)\n",
    "    sim[i] <- max(abs(beta_i/sqrt(var)))\n",
    "}"
   ]
  },
  {
   "cell_type": "code",
   "execution_count": 129,
   "metadata": {},
   "outputs": [
    {
     "data": {
      "text/html": [
       "<table class=\"dataframe\">\n",
       "<caption>A matrix: 2 × 16 of type dbl</caption>\n",
       "<tbody>\n",
       "\t<tr><td>-0.007160589</td><td>-0.05589545</td><td>-0.004167968</td><td>-0.04043583</td><td> 0.01387742</td><td>-0.08747612</td><td> 0.01478855</td><td>-9.910349e-05</td><td>-0.004641704</td><td>-0.006501835</td><td>0.01620948</td><td>0.004924204</td><td>0.01004258</td><td>0.012222111</td><td>-0.06730783</td><td>0.010575195</td></tr>\n",
       "\t<tr><td>-0.024815735</td><td> 0.03783863</td><td>-0.011125802</td><td> 0.01940758</td><td>-0.01408162</td><td> 0.11509624</td><td>-0.05477366</td><td> 2.273910e-03</td><td>-0.007522464</td><td> 0.001114684</td><td>0.02217983</td><td>0.027262106</td><td>0.02359632</td><td>0.002881176</td><td>-0.01172130</td><td>0.002281709</td></tr>\n",
       "</tbody>\n",
       "</table>\n"
      ],
      "text/latex": [
       "A matrix: 2 × 16 of type dbl\n",
       "\\begin{tabular}{llllllllllllllll}\n",
       "\t -0.007160589 & -0.05589545 & -0.004167968 & -0.04043583 &  0.01387742 & -0.08747612 &  0.01478855 & -9.910349e-05 & -0.004641704 & -0.006501835 & 0.01620948 & 0.004924204 & 0.01004258 & 0.012222111 & -0.06730783 & 0.010575195\\\\\n",
       "\t -0.024815735 &  0.03783863 & -0.011125802 &  0.01940758 & -0.01408162 &  0.11509624 & -0.05477366 &  2.273910e-03 & -0.007522464 &  0.001114684 & 0.02217983 & 0.027262106 & 0.02359632 & 0.002881176 & -0.01172130 & 0.002281709\\\\\n",
       "\\end{tabular}\n"
      ],
      "text/markdown": [
       "\n",
       "A matrix: 2 × 16 of type dbl\n",
       "\n",
       "| -0.007160589 | -0.05589545 | -0.004167968 | -0.04043583 |  0.01387742 | -0.08747612 |  0.01478855 | -9.910349e-05 | -0.004641704 | -0.006501835 | 0.01620948 | 0.004924204 | 0.01004258 | 0.012222111 | -0.06730783 | 0.010575195 |\n",
       "| -0.024815735 |  0.03783863 | -0.011125802 |  0.01940758 | -0.01408162 |  0.11509624 | -0.05477366 |  2.273910e-03 | -0.007522464 |  0.001114684 | 0.02217983 | 0.027262106 | 0.02359632 | 0.002881176 | -0.01172130 | 0.002281709 |\n",
       "\n"
      ],
      "text/plain": [
       "     [,1]         [,2]        [,3]         [,4]        [,5]        [,6]       \n",
       "[1,] -0.007160589 -0.05589545 -0.004167968 -0.04043583  0.01387742 -0.08747612\n",
       "[2,] -0.024815735  0.03783863 -0.011125802  0.01940758 -0.01408162  0.11509624\n",
       "     [,7]        [,8]          [,9]         [,10]        [,11]      [,12]      \n",
       "[1,]  0.01478855 -9.910349e-05 -0.004641704 -0.006501835 0.01620948 0.004924204\n",
       "[2,] -0.05477366  2.273910e-03 -0.007522464  0.001114684 0.02217983 0.027262106\n",
       "     [,13]      [,14]       [,15]       [,16]      \n",
       "[1,] 0.01004258 0.012222111 -0.06730783 0.010575195\n",
       "[2,] 0.02359632 0.002881176 -0.01172130 0.002281709"
      ]
     },
     "metadata": {},
     "output_type": "display_data"
    }
   ],
   "source": [
    "MASS::mvrnorm(mu = rep(0, k), Sigma = Omegahat/n, n = 2 )"
   ]
  },
  {
   "cell_type": "code",
   "execution_count": 74,
   "metadata": {},
   "outputs": [
    {
     "data": {
      "text/html": [
       "<style>\n",
       ".dl-inline {width: auto; margin:0; padding: 0}\n",
       ".dl-inline>dt, .dl-inline>dd {float: none; width: auto; display: inline-block}\n",
       ".dl-inline>dt::after {content: \":\\0020\"; padding-right: .5ex}\n",
       ".dl-inline>dt:not(:first-of-type) {padding-left: .5ex}\n",
       "</style><dl class=dl-inline><dt>female</dt><dd>0.00454846847829984</dd><dt>female:widowed</dt><dd>0.00277639659097662</dd><dt>female:divorced</dt><dd>0.0926500702539721</dd><dt>female:separated</dt><dd>0.0241809973488524</dd><dt>female:nevermarried</dt><dd>0.228862155034235</dd><dt>female:hsd08</dt><dd>0.00780520110711463</dd><dt>female:hsd911</dt><dd>0.0508618578230414</dd><dt>female:hsg</dt><dd>0.432326774191891</dd><dt>female:cg</dt><dd>0.475670047608456</dd><dt>female:ad</dt><dd>0.239969743365201</dd><dt>female:mw</dt><dd>0.309883321394018</dd><dt>female:so</dt><dd>0.3046195173404</dd><dt>female:we</dt><dd>0.254662377839497</dd><dt>female:exp1</dt><dd>1.87362664626016</dd><dt>female:exp2</dt><dd>0.0556024992865376</dd><dt>female:exp3</dt><dd>1.84509833732331</dd></dl>\n"
      ],
      "text/latex": [
       "\\begin{description*}\n",
       "\\item[female] 0.00454846847829984\n",
       "\\item[female:widowed] 0.00277639659097662\n",
       "\\item[female:divorced] 0.0926500702539721\n",
       "\\item[female:separated] 0.0241809973488524\n",
       "\\item[female:nevermarried] 0.228862155034235\n",
       "\\item[female:hsd08] 0.00780520110711463\n",
       "\\item[female:hsd911] 0.0508618578230414\n",
       "\\item[female:hsg] 0.432326774191891\n",
       "\\item[female:cg] 0.475670047608456\n",
       "\\item[female:ad] 0.239969743365201\n",
       "\\item[female:mw] 0.309883321394018\n",
       "\\item[female:so] 0.3046195173404\n",
       "\\item[female:we] 0.254662377839497\n",
       "\\item[female:exp1] 1.87362664626016\n",
       "\\item[female:exp2] 0.0556024992865376\n",
       "\\item[female:exp3] 1.84509833732331\n",
       "\\end{description*}\n"
      ],
      "text/markdown": [
       "female\n",
       ":   0.00454846847829984female:widowed\n",
       ":   0.00277639659097662female:divorced\n",
       ":   0.0926500702539721female:separated\n",
       ":   0.0241809973488524female:nevermarried\n",
       ":   0.228862155034235female:hsd08\n",
       ":   0.00780520110711463female:hsd911\n",
       ":   0.0508618578230414female:hsg\n",
       ":   0.432326774191891female:cg\n",
       ":   0.475670047608456female:ad\n",
       ":   0.239969743365201female:mw\n",
       ":   0.309883321394018female:so\n",
       ":   0.3046195173404female:we\n",
       ":   0.254662377839497female:exp1\n",
       ":   1.87362664626016female:exp2\n",
       ":   0.0556024992865376female:exp3\n",
       ":   1.84509833732331\n",
       "\n"
      ],
      "text/plain": [
       "             female      female:widowed     female:divorced    female:separated \n",
       "        0.004548468         0.002776397         0.092650070         0.024180997 \n",
       "female:nevermarried        female:hsd08       female:hsd911          female:hsg \n",
       "        0.228862155         0.007805201         0.050861858         0.432326774 \n",
       "          female:cg           female:ad           female:mw           female:so \n",
       "        0.475670048         0.239969743         0.309883321         0.304619517 \n",
       "          female:we         female:exp1         female:exp2         female:exp3 \n",
       "        0.254662378         1.873626646         0.055602499         1.845098337 "
      ]
     },
     "metadata": {},
     "output_type": "display_data"
    }
   ],
   "source": [
    "EV * c( 1 , 2, 4, 6, 8, 10, 12 , 14, 14, 10, 10, 10 , 10, 10, 10 , 10 )"
   ]
  },
  {
   "cell_type": "code",
   "execution_count": 136,
   "metadata": {},
   "outputs": [],
   "source": [
    "mu = rep(0, k)"
   ]
  },
  {
   "cell_type": "code",
   "execution_count": 141,
   "metadata": {},
   "outputs": [
    {
     "data": {
      "text/html": [
       "<style>\n",
       ".list-inline {list-style: none; margin:0; padding: 0}\n",
       ".list-inline>li {display: inline-block}\n",
       ".list-inline>li:not(:last-child)::after {content: \"\\00b7\"; padding: 0 .5ex}\n",
       "</style>\n",
       "<ol class=list-inline><li>0</li><li>0</li><li>0</li><li>0</li><li>0</li><li>0</li><li>0</li><li>0</li><li>0</li><li>0</li><li>0</li><li>0</li><li>0</li><li>0</li><li>0</li><li>0</li></ol>\n"
      ],
      "text/latex": [
       "\\begin{enumerate*}\n",
       "\\item 0\n",
       "\\item 0\n",
       "\\item 0\n",
       "\\item 0\n",
       "\\item 0\n",
       "\\item 0\n",
       "\\item 0\n",
       "\\item 0\n",
       "\\item 0\n",
       "\\item 0\n",
       "\\item 0\n",
       "\\item 0\n",
       "\\item 0\n",
       "\\item 0\n",
       "\\item 0\n",
       "\\item 0\n",
       "\\end{enumerate*}\n"
      ],
      "text/markdown": [
       "1. 0\n",
       "2. 0\n",
       "3. 0\n",
       "4. 0\n",
       "5. 0\n",
       "6. 0\n",
       "7. 0\n",
       "8. 0\n",
       "9. 0\n",
       "10. 0\n",
       "11. 0\n",
       "12. 0\n",
       "13. 0\n",
       "14. 0\n",
       "15. 0\n",
       "16. 0\n",
       "\n",
       "\n"
      ],
      "text/plain": [
       " [1] 0 0 0 0 0 0 0 0 0 0 0 0 0 0 0 0"
      ]
     },
     "metadata": {},
     "output_type": "display_data"
    }
   ],
   "source": [
    "drop(mu)"
   ]
  },
  {
   "cell_type": "code",
   "execution_count": 54,
   "metadata": {},
   "outputs": [
    {
     "data": {
      "text/plain": [
       "A single object matching 'confint.rlassoEffects' was found\n",
       "It was found in the following places\n",
       "  registered S3 method for confint from namespace hdm\n",
       "  namespace:hdm\n",
       "with value\n",
       "\n",
       "function (object, parm, level = 0.95, joint = FALSE, ...) \n",
       "{\n",
       "    B <- 500\n",
       "    n <- object$samplesize\n",
       "    k <- p1 <- length(object$coefficients)\n",
       "    cf <- coef(object)\n",
       "    pnames <- names(cf)\n",
       "    if (missing(parm)) \n",
       "        parm <- pnames\n",
       "    else if (is.numeric(parm)) \n",
       "        parm <- pnames[parm]\n",
       "    if (!joint) {\n",
       "        a <- (1 - level)/2\n",
       "        a <- c(a, 1 - a)\n",
       "        fac <- qnorm(a)\n",
       "        pct <- format.perc(a, 3)\n",
       "        ci <- array(NA, dim = c(length(parm), 2L), dimnames = list(parm, \n",
       "            pct))\n",
       "        ses <- object$se[parm]\n",
       "        ci[] <- cf[parm] + ses %o% fac\n",
       "    }\n",
       "    if (joint) {\n",
       "        e <- object$residuals$e\n",
       "        v <- object$residuals$v\n",
       "        ev <- e * v\n",
       "        Ev2 <- colMeans(v^2)\n",
       "        Omegahat <- matrix(NA, ncol = k, nrow = k)\n",
       "        for (j in 1:k) {\n",
       "            for (l in 1:k) {\n",
       "                Omegahat[j, l] = Omegahat[l, j] = 1/(Ev2[j] * \n",
       "                  Ev2[l]) * mean(ev[, j] * ev[, l])\n",
       "            }\n",
       "        }\n",
       "        var <- diag(Omegahat)\n",
       "        names(var) <- names(cf)\n",
       "        sim <- vector(\"numeric\", length = B)\n",
       "        for (i in 1:B) {\n",
       "            beta_i <- MASS::mvrnorm(mu = rep(0, k), Sigma = Omegahat/n)\n",
       "            sim[i] <- max(abs(beta_i/sqrt(var)))\n",
       "        }\n",
       "        a <- (1 - level)\n",
       "        ab <- c(a/2, 1 - a/2)\n",
       "        pct <- format.perc(ab, 3)\n",
       "        ci <- array(NA, dim = c(length(parm), 2L), dimnames = list(parm, \n",
       "            pct))\n",
       "        hatc <- quantile(sim, probs = 1 - a)\n",
       "        ci[, 1] <- cf[parm] - hatc * sqrt(var[parm])\n",
       "        ci[, 2] <- cf[parm] + hatc * sqrt(var[parm])\n",
       "    }\n",
       "    return(ci)\n",
       "}\n",
       "<bytecode: 0x00000000165d1850>\n",
       "<environment: namespace:hdm>"
      ]
     },
     "metadata": {},
     "output_type": "display_data"
    }
   ],
   "source": [
    "getAnywhere( confint.rlassoEffects )"
   ]
  },
  {
   "cell_type": "code",
   "execution_count": null,
   "metadata": {},
   "outputs": [],
   "source": []
  },
  {
   "cell_type": "code",
   "execution_count": 76,
   "metadata": {
    "scrolled": true
   },
   "outputs": [
    {
     "ename": "ERROR",
     "evalue": "Error in mvrnorm(mu = rep(0, k), Sigma = Omegahat/n): could not find function \"mvrnorm\"\n",
     "output_type": "error",
     "traceback": [
      "Error in mvrnorm(mu = rep(0, k), Sigma = Omegahat/n): could not find function \"mvrnorm\"\nTraceback:\n"
     ]
    }
   ],
   "source": [
    "mvrnorm(mu = rep( 0 , k ) , Sigma = Omegahat/n )"
   ]
  },
  {
   "cell_type": "code",
   "execution_count": 43,
   "metadata": {},
   "outputs": [
    {
     "data": {
      "text/html": [
       "<style>\n",
       ".dl-inline {width: auto; margin:0; padding: 0}\n",
       ".dl-inline>dt, .dl-inline>dd {float: none; width: auto; display: inline-block}\n",
       ".dl-inline>dt::after {content: \":\\0020\"; padding-right: .5ex}\n",
       ".dl-inline>dt:not(:first-of-type) {padding-left: .5ex}\n",
       "</style><dl class=dl-inline><dt>female</dt><dd>-0.0724107714578542</dd><dt>female:widowed</dt><dd>0.285226986059336</dd><dt>female:divorced</dt><dd>0.173426198421503</dd><dt>female:separated</dt><dd>0.110831162507733</dd><dt>female:nevermarried</dt><dd>0.219656844646764</dd><dt>female:hsd08</dt><dd>0.226703291303783</dd><dt>female:hsd911</dt><dd>-0.0339978372780584</dd><dt>female:hsg</dt><dd>0.0187305575778143</dd><dt>female:cg</dt><dd>0.0402839306323897</dd><dt>female:ad</dt><dd>0.00540524482090987</dd><dt>female:mw</dt><dd>0.0305052185390267</dd><dt>female:so</dt><dd>0.0236568023703827</dd><dt>female:we</dt><dd>0.0305939061675652</dd><dt>female:exp1</dt><dd>0.0177725578137677</dd><dt>female:exp2</dt><dd>-0.0850052773804273</dd><dt>female:exp3</dt><dd>0.0513813486260025</dd></dl>\n"
      ],
      "text/latex": [
       "\\begin{description*}\n",
       "\\item[female] -0.0724107714578542\n",
       "\\item[female:widowed] 0.285226986059336\n",
       "\\item[female:divorced] 0.173426198421503\n",
       "\\item[female:separated] 0.110831162507733\n",
       "\\item[female:nevermarried] 0.219656844646764\n",
       "\\item[female:hsd08] 0.226703291303783\n",
       "\\item[female:hsd911] -0.0339978372780584\n",
       "\\item[female:hsg] 0.0187305575778143\n",
       "\\item[female:cg] 0.0402839306323897\n",
       "\\item[female:ad] 0.00540524482090987\n",
       "\\item[female:mw] 0.0305052185390267\n",
       "\\item[female:so] 0.0236568023703827\n",
       "\\item[female:we] 0.0305939061675652\n",
       "\\item[female:exp1] 0.0177725578137677\n",
       "\\item[female:exp2] -0.0850052773804273\n",
       "\\item[female:exp3] 0.0513813486260025\n",
       "\\end{description*}\n"
      ],
      "text/markdown": [
       "female\n",
       ":   -0.0724107714578542female:widowed\n",
       ":   0.285226986059336female:divorced\n",
       ":   0.173426198421503female:separated\n",
       ":   0.110831162507733female:nevermarried\n",
       ":   0.219656844646764female:hsd08\n",
       ":   0.226703291303783female:hsd911\n",
       ":   -0.0339978372780584female:hsg\n",
       ":   0.0187305575778143female:cg\n",
       ":   0.0402839306323897female:ad\n",
       ":   0.00540524482090987female:mw\n",
       ":   0.0305052185390267female:so\n",
       ":   0.0236568023703827female:we\n",
       ":   0.0305939061675652female:exp1\n",
       ":   0.0177725578137677female:exp2\n",
       ":   -0.0850052773804273female:exp3\n",
       ":   0.0513813486260025\n",
       "\n"
      ],
      "text/plain": [
       "             female      female:widowed     female:divorced    female:separated \n",
       "       -0.072410771         0.285226986         0.173426198         0.110831163 \n",
       "female:nevermarried        female:hsd08       female:hsd911          female:hsg \n",
       "        0.219656845         0.226703291        -0.033997837         0.018730558 \n",
       "          female:cg           female:ad           female:mw           female:so \n",
       "        0.040283931         0.005405245         0.030505219         0.023656802 \n",
       "          female:we         female:exp1         female:exp2         female:exp3 \n",
       "        0.030593906         0.017772558        -0.085005277         0.051381349 "
      ]
     },
     "metadata": {},
     "output_type": "display_data"
    }
   ],
   "source": [
    "result$coef[, 1] + (1.645* result$coef[, 2])"
   ]
  },
  {
   "cell_type": "code",
   "execution_count": 19,
   "metadata": {
    "execution": {
     "iopub.execute_input": "2021-02-28T17:18:48.950512Z",
     "iopub.status.busy": "2021-02-28T17:18:48.948204Z",
     "iopub.status.idle": "2021-02-28T17:18:49.953148Z",
     "shell.execute_reply": "2021-02-28T17:18:49.950709Z"
    },
    "papermill": {
     "duration": 1.021263,
     "end_time": "2021-02-28T17:18:49.953381",
     "exception": false,
     "start_time": "2021-02-28T17:18:48.932118",
     "status": "completed"
    },
    "tags": []
   },
   "outputs": [
    {
     "data": {
      "text/html": [
       "<table class=\"dataframe\">\n",
       "<caption>A matrix: 16 × 2 of type dbl</caption>\n",
       "<thead>\n",
       "\t<tr><th></th><th scope=col>5 %</th><th scope=col>95 %</th></tr>\n",
       "</thead>\n",
       "<tbody>\n",
       "\t<tr><th scope=row>female</th><td>-0.28511502</td><td>-0.02473155</td></tr>\n",
       "\t<tr><th scope=row>female:widowed</th><td>-0.11602996</td><td> 0.38822093</td></tr>\n",
       "\t<tr><th scope=row>female:divorced</th><td> 0.07886071</td><td> 0.19501806</td></tr>\n",
       "\t<tr><th scope=row>female:separated</th><td>-0.10756017</td><td> 0.15416569</td></tr>\n",
       "\t<tr><th scope=row>female:nevermarried</th><td> 0.13302425</td><td> 0.24068272</td></tr>\n",
       "\t<tr><th scope=row>female:hsd08</th><td>-0.34819333</td><td> 0.40381396</td></tr>\n",
       "\t<tr><th scope=row>female:hsd911</th><td>-0.25923601</td><td> 0.02056593</td></tr>\n",
       "\t<tr><th scope=row>female:hsg</th><td>-0.06172265</td><td> 0.03594309</td></tr>\n",
       "\t<tr><th scope=row>female:cg</th><td>-0.03829300</td><td> 0.05857010</td></tr>\n",
       "\t<tr><th scope=row>female:ad</th><td>-0.09156190</td><td> 0.03063441</td></tr>\n",
       "\t<tr><th scope=row>female:mw</th><td>-0.05119990</td><td> 0.04907302</td></tr>\n",
       "\t<tr><th scope=row>female:so</th><td>-0.05915431</td><td> 0.04278762</td></tr>\n",
       "\t<tr><th scope=row>female:we</th><td>-0.06161336</td><td> 0.05316110</td></tr>\n",
       "\t<tr><th scope=row>female:exp1</th><td>-0.01509395</td><td> 0.02496447</td></tr>\n",
       "\t<tr><th scope=row>female:exp2</th><td>-0.27599485</td><td>-0.04304380</td></tr>\n",
       "\t<tr><th scope=row>female:exp3</th><td> 0.01826047</td><td> 0.05864068</td></tr>\n",
       "</tbody>\n",
       "</table>\n"
      ],
      "text/latex": [
       "A matrix: 16 × 2 of type dbl\n",
       "\\begin{tabular}{r|ll}\n",
       "  & 5 \\% & 95 \\%\\\\\n",
       "\\hline\n",
       "\tfemale & -0.28511502 & -0.02473155\\\\\n",
       "\tfemale:widowed & -0.11602996 &  0.38822093\\\\\n",
       "\tfemale:divorced &  0.07886071 &  0.19501806\\\\\n",
       "\tfemale:separated & -0.10756017 &  0.15416569\\\\\n",
       "\tfemale:nevermarried &  0.13302425 &  0.24068272\\\\\n",
       "\tfemale:hsd08 & -0.34819333 &  0.40381396\\\\\n",
       "\tfemale:hsd911 & -0.25923601 &  0.02056593\\\\\n",
       "\tfemale:hsg & -0.06172265 &  0.03594309\\\\\n",
       "\tfemale:cg & -0.03829300 &  0.05857010\\\\\n",
       "\tfemale:ad & -0.09156190 &  0.03063441\\\\\n",
       "\tfemale:mw & -0.05119990 &  0.04907302\\\\\n",
       "\tfemale:so & -0.05915431 &  0.04278762\\\\\n",
       "\tfemale:we & -0.06161336 &  0.05316110\\\\\n",
       "\tfemale:exp1 & -0.01509395 &  0.02496447\\\\\n",
       "\tfemale:exp2 & -0.27599485 & -0.04304380\\\\\n",
       "\tfemale:exp3 &  0.01826047 &  0.05864068\\\\\n",
       "\\end{tabular}\n"
      ],
      "text/markdown": [
       "\n",
       "A matrix: 16 × 2 of type dbl\n",
       "\n",
       "| <!--/--> | 5 % | 95 % |\n",
       "|---|---|---|\n",
       "| female | -0.28511502 | -0.02473155 |\n",
       "| female:widowed | -0.11602996 |  0.38822093 |\n",
       "| female:divorced |  0.07886071 |  0.19501806 |\n",
       "| female:separated | -0.10756017 |  0.15416569 |\n",
       "| female:nevermarried |  0.13302425 |  0.24068272 |\n",
       "| female:hsd08 | -0.34819333 |  0.40381396 |\n",
       "| female:hsd911 | -0.25923601 |  0.02056593 |\n",
       "| female:hsg | -0.06172265 |  0.03594309 |\n",
       "| female:cg | -0.03829300 |  0.05857010 |\n",
       "| female:ad | -0.09156190 |  0.03063441 |\n",
       "| female:mw | -0.05119990 |  0.04907302 |\n",
       "| female:so | -0.05915431 |  0.04278762 |\n",
       "| female:we | -0.06161336 |  0.05316110 |\n",
       "| female:exp1 | -0.01509395 |  0.02496447 |\n",
       "| female:exp2 | -0.27599485 | -0.04304380 |\n",
       "| female:exp3 |  0.01826047 |  0.05864068 |\n",
       "\n"
      ],
      "text/plain": [
       "                    5 %         95 %       \n",
       "female              -0.28511502 -0.02473155\n",
       "female:widowed      -0.11602996  0.38822093\n",
       "female:divorced      0.07886071  0.19501806\n",
       "female:separated    -0.10756017  0.15416569\n",
       "female:nevermarried  0.13302425  0.24068272\n",
       "female:hsd08        -0.34819333  0.40381396\n",
       "female:hsd911       -0.25923601  0.02056593\n",
       "female:hsg          -0.06172265  0.03594309\n",
       "female:cg           -0.03829300  0.05857010\n",
       "female:ad           -0.09156190  0.03063441\n",
       "female:mw           -0.05119990  0.04907302\n",
       "female:so           -0.05915431  0.04278762\n",
       "female:we           -0.06161336  0.05316110\n",
       "female:exp1         -0.01509395  0.02496447\n",
       "female:exp2         -0.27599485 -0.04304380\n",
       "female:exp3          0.01826047  0.05864068"
      ]
     },
     "metadata": {},
     "output_type": "display_data"
    },
    {
     "name": "stderr",
     "output_type": "stream",
     "text": [
      "Warning message:\n",
      "\"Ignoring unknown aesthetics: width, h\"\n"
     ]
    },
    {
     "name": "stdout",
     "output_type": "stream",
     "text": [
      "% latex table generated in R 4.0.4 by xtable 1.8-4 package\n",
      "% Tue Apr 13 11:04:48 2021\n",
      "\\begin{table}[ht]\n",
      "\\centering\n",
      "\\begin{tabular}{rrr}\n",
      "  \\hline\n",
      " & 5 \\% & 95 \\% \\\\ \n",
      "  \\hline\n",
      "female & -0.29 & -0.02 \\\\ \n",
      "  female:widowed & -0.12 & 0.39 \\\\ \n",
      "  female:divorced & 0.08 & 0.20 \\\\ \n",
      "  female:separated & -0.11 & 0.15 \\\\ \n",
      "  female:nevermarried & 0.13 & 0.24 \\\\ \n",
      "  female:hsd08 & -0.35 & 0.40 \\\\ \n",
      "  female:hsd911 & -0.26 & 0.02 \\\\ \n",
      "  female:hsg & -0.06 & 0.04 \\\\ \n",
      "  female:cg & -0.04 & 0.06 \\\\ \n",
      "  female:ad & -0.09 & 0.03 \\\\ \n",
      "  female:mw & -0.05 & 0.05 \\\\ \n",
      "  female:so & -0.06 & 0.04 \\\\ \n",
      "  female:we & -0.06 & 0.05 \\\\ \n",
      "  female:exp1 & -0.02 & 0.02 \\\\ \n",
      "  female:exp2 & -0.28 & -0.04 \\\\ \n",
      "  female:exp3 & 0.02 & 0.06 \\\\ \n",
      "   \\hline\n",
      "\\end{tabular}\n",
      "\\end{table}\n"
     ]
    },
    {
     "data": {
      "image/png": "[encoded data removed]",
      "text/plain": [
       "plot without title"
      ]
     },
     "metadata": {
      "image/png": {
       "height": 420,
       "width": 420
      }
     },
     "output_type": "display_data"
    }
   ],
   "source": [
    "joint.CI <- confint(effects.female, level = 0.90, joint = TRUE)\n",
    "joint.CI\n",
    "plot(effects.female, joint=TRUE, level=0.90) # plot of the effects\n",
    "print(xtable(joint.CI), type=\"latex\")\n",
    "\n",
    "# the plot output does not look great"
   ]
  },
  {
   "cell_type": "code",
   "execution_count": 20,
   "metadata": {
    "scrolled": true
   },
   "outputs": [
    {
     "data": {
      "text/html": [
       "<table class=\"dataframe\">\n",
       "<caption>A matrix: 16 × 2 of type dbl</caption>\n",
       "<thead>\n",
       "\t<tr><th></th><th scope=col>5 %</th><th scope=col>95 %</th></tr>\n",
       "</thead>\n",
       "<tbody>\n",
       "\t<tr><th scope=row>female</th><td>-0.28511502</td><td>-0.02473155</td></tr>\n",
       "\t<tr><th scope=row>female:widowed</th><td>-0.11602996</td><td> 0.38822093</td></tr>\n",
       "\t<tr><th scope=row>female:divorced</th><td> 0.07886071</td><td> 0.19501806</td></tr>\n",
       "\t<tr><th scope=row>female:separated</th><td>-0.10756017</td><td> 0.15416569</td></tr>\n",
       "\t<tr><th scope=row>female:nevermarried</th><td> 0.13302425</td><td> 0.24068272</td></tr>\n",
       "\t<tr><th scope=row>female:hsd08</th><td>-0.34819333</td><td> 0.40381396</td></tr>\n",
       "\t<tr><th scope=row>female:hsd911</th><td>-0.25923601</td><td> 0.02056593</td></tr>\n",
       "\t<tr><th scope=row>female:hsg</th><td>-0.06172265</td><td> 0.03594309</td></tr>\n",
       "\t<tr><th scope=row>female:cg</th><td>-0.03829300</td><td> 0.05857010</td></tr>\n",
       "\t<tr><th scope=row>female:ad</th><td>-0.09156190</td><td> 0.03063441</td></tr>\n",
       "\t<tr><th scope=row>female:mw</th><td>-0.05119990</td><td> 0.04907302</td></tr>\n",
       "\t<tr><th scope=row>female:so</th><td>-0.05915431</td><td> 0.04278762</td></tr>\n",
       "\t<tr><th scope=row>female:we</th><td>-0.06161336</td><td> 0.05316110</td></tr>\n",
       "\t<tr><th scope=row>female:exp1</th><td>-0.01509395</td><td> 0.02496447</td></tr>\n",
       "\t<tr><th scope=row>female:exp2</th><td>-0.27599485</td><td>-0.04304380</td></tr>\n",
       "\t<tr><th scope=row>female:exp3</th><td> 0.01826047</td><td> 0.05864068</td></tr>\n",
       "</tbody>\n",
       "</table>\n"
      ],
      "text/latex": [
       "A matrix: 16 × 2 of type dbl\n",
       "\\begin{tabular}{r|ll}\n",
       "  & 5 \\% & 95 \\%\\\\\n",
       "\\hline\n",
       "\tfemale & -0.28511502 & -0.02473155\\\\\n",
       "\tfemale:widowed & -0.11602996 &  0.38822093\\\\\n",
       "\tfemale:divorced &  0.07886071 &  0.19501806\\\\\n",
       "\tfemale:separated & -0.10756017 &  0.15416569\\\\\n",
       "\tfemale:nevermarried &  0.13302425 &  0.24068272\\\\\n",
       "\tfemale:hsd08 & -0.34819333 &  0.40381396\\\\\n",
       "\tfemale:hsd911 & -0.25923601 &  0.02056593\\\\\n",
       "\tfemale:hsg & -0.06172265 &  0.03594309\\\\\n",
       "\tfemale:cg & -0.03829300 &  0.05857010\\\\\n",
       "\tfemale:ad & -0.09156190 &  0.03063441\\\\\n",
       "\tfemale:mw & -0.05119990 &  0.04907302\\\\\n",
       "\tfemale:so & -0.05915431 &  0.04278762\\\\\n",
       "\tfemale:we & -0.06161336 &  0.05316110\\\\\n",
       "\tfemale:exp1 & -0.01509395 &  0.02496447\\\\\n",
       "\tfemale:exp2 & -0.27599485 & -0.04304380\\\\\n",
       "\tfemale:exp3 &  0.01826047 &  0.05864068\\\\\n",
       "\\end{tabular}\n"
      ],
      "text/markdown": [
       "\n",
       "A matrix: 16 × 2 of type dbl\n",
       "\n",
       "| <!--/--> | 5 % | 95 % |\n",
       "|---|---|---|\n",
       "| female | -0.28511502 | -0.02473155 |\n",
       "| female:widowed | -0.11602996 |  0.38822093 |\n",
       "| female:divorced |  0.07886071 |  0.19501806 |\n",
       "| female:separated | -0.10756017 |  0.15416569 |\n",
       "| female:nevermarried |  0.13302425 |  0.24068272 |\n",
       "| female:hsd08 | -0.34819333 |  0.40381396 |\n",
       "| female:hsd911 | -0.25923601 |  0.02056593 |\n",
       "| female:hsg | -0.06172265 |  0.03594309 |\n",
       "| female:cg | -0.03829300 |  0.05857010 |\n",
       "| female:ad | -0.09156190 |  0.03063441 |\n",
       "| female:mw | -0.05119990 |  0.04907302 |\n",
       "| female:so | -0.05915431 |  0.04278762 |\n",
       "| female:we | -0.06161336 |  0.05316110 |\n",
       "| female:exp1 | -0.01509395 |  0.02496447 |\n",
       "| female:exp2 | -0.27599485 | -0.04304380 |\n",
       "| female:exp3 |  0.01826047 |  0.05864068 |\n",
       "\n"
      ],
      "text/plain": [
       "                    5 %         95 %       \n",
       "female              -0.28511502 -0.02473155\n",
       "female:widowed      -0.11602996  0.38822093\n",
       "female:divorced      0.07886071  0.19501806\n",
       "female:separated    -0.10756017  0.15416569\n",
       "female:nevermarried  0.13302425  0.24068272\n",
       "female:hsd08        -0.34819333  0.40381396\n",
       "female:hsd911       -0.25923601  0.02056593\n",
       "female:hsg          -0.06172265  0.03594309\n",
       "female:cg           -0.03829300  0.05857010\n",
       "female:ad           -0.09156190  0.03063441\n",
       "female:mw           -0.05119990  0.04907302\n",
       "female:so           -0.05915431  0.04278762\n",
       "female:we           -0.06161336  0.05316110\n",
       "female:exp1         -0.01509395  0.02496447\n",
       "female:exp2         -0.27599485 -0.04304380\n",
       "female:exp3          0.01826047  0.05864068"
      ]
     },
     "metadata": {},
     "output_type": "display_data"
    }
   ],
   "source": [
    "joint.CI"
   ]
  }
 ],
 "metadata": {
  "hide_input": false,
  "kernelspec": {
   "display_name": "R",
   "language": "R",
   "name": "ir"
  },
  "language_info": {
   "codemirror_mode": "r",
   "file_extension": ".r",
   "mimetype": "text/x-r-source",
   "name": "R",
   "pygments_lexer": "r",
   "version": "4.0.4"
  },
  "papermill": {
   "default_parameters": {},
   "duration": 89.365707,
   "end_time": "2021-02-28T17:18:51.003711",
   "environment_variables": {},
   "exception": null,
   "input_path": "__notebook__.ipynb",
   "output_path": "__notebook__.ipynb",
   "parameters": {},
   "start_time": "2021-02-28T17:17:21.638004",
   "version": "2.2.2"
  }
 },
 "nbformat": 4,
 "nbformat_minor": 4
}
