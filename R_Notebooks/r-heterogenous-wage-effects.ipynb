{
 "cells": [
  {
   "cell_type": "markdown",
   "metadata": {
    "papermill": {
     "duration": 0.011184,
     "end_time": "2021-02-28T17:17:25.882205",
     "exception": false,
     "start_time": "2021-02-28T17:17:25.871021",
     "status": "completed"
    },
    "tags": []
   },
   "source": [
    "# Application: Heterogeneous Effect of Gender on Wage Using Double Lasso\n",
    "\n",
    " We use US census data from the year 2012 to analyse the effect of gender and interaction effects of other variables with gender on wage jointly. The dependent variable is the logarithm of the wage, the target variable is *female* (in combination with other variables). All other variables denote some other socio-economic characteristics, e.g. marital status, education, and experience.  For a detailed description of the variables we refer to the help page.\n",
    "\n",
    "\n",
    "\n",
    "This analysis allows a closer look how discrimination according to gender is related to other socio-economic variables.\n",
    "\n"
   ]
  },
  {
   "cell_type": "code",
   "execution_count": 1,
   "metadata": {
    "execution": {
     "iopub.execute_input": "2021-02-28T17:17:25.940403Z",
     "iopub.status.busy": "2021-02-28T17:17:25.937816Z",
     "iopub.status.idle": "2021-02-28T17:17:26.291065Z",
     "shell.execute_reply": "2021-02-28T17:17:26.289341Z"
    },
    "papermill": {
     "duration": 0.39942,
     "end_time": "2021-02-28T17:17:26.291369",
     "exception": false,
     "start_time": "2021-02-28T17:17:25.891949",
     "status": "completed"
    },
    "tags": []
   },
   "outputs": [
    {
     "name": "stdout",
     "output_type": "stream",
     "text": [
      "'data.frame':\t29217 obs. of  23 variables:\n",
      " $ year        : num  2012 2012 2012 2012 2012 ...\n",
      " $ lnw         : num  1.91 1.37 2.54 1.8 3.35 ...\n",
      " $ female      : num  1 1 0 1 0 0 0 0 0 1 ...\n",
      " $ widowed     : num  0 0 0 0 0 0 0 0 0 0 ...\n",
      " $ divorced    : num  0 0 0 0 0 0 0 0 0 0 ...\n",
      " $ separated   : num  0 0 0 0 0 0 0 0 0 0 ...\n",
      " $ nevermarried: num  0 0 0 0 0 0 1 0 0 0 ...\n",
      " $ hsd08       : num  0 0 0 0 0 0 0 0 0 0 ...\n",
      " $ hsd911      : num  0 1 0 0 0 0 0 0 0 0 ...\n",
      " $ hsg         : num  0 0 1 1 0 1 1 0 0 0 ...\n",
      " $ cg          : num  0 0 0 0 1 0 0 0 1 0 ...\n",
      " $ ad          : num  0 0 0 0 0 0 0 0 0 0 ...\n",
      " $ mw          : num  0 0 0 0 0 0 0 0 0 0 ...\n",
      " $ so          : num  0 0 0 0 0 0 0 0 0 0 ...\n",
      " $ we          : num  0 0 0 0 0 0 0 0 0 0 ...\n",
      " $ exp1        : num  22 30 19 14 15 23 33 23.5 15 15.5 ...\n",
      " $ exp2        : num  4.84 9 3.61 1.96 2.25 ...\n",
      " $ exp3        : num  10.65 27 6.86 2.74 3.38 ...\n",
      " $ exp4        : num  23.43 81 13.03 3.84 5.06 ...\n",
      " $ weight      : num  569 626 264 257 257 ...\n",
      " $ married     : logi  TRUE TRUE TRUE TRUE TRUE TRUE ...\n",
      " $ ne          : logi  TRUE TRUE TRUE TRUE TRUE TRUE ...\n",
      " $ sc          : logi  TRUE FALSE FALSE FALSE FALSE FALSE ...\n"
     ]
    }
   ],
   "source": [
    "library(hdm)\n",
    "data(cps2012)\n",
    "str(cps2012)"
   ]
  },
  {
   "cell_type": "code",
   "execution_count": 2,
   "metadata": {},
   "outputs": [],
   "source": [
    "X <- model.matrix(~-1 + female + female:(widowed + divorced + separated + nevermarried +\n",
    "hsd08 + hsd911 + hsg + cg + ad + mw + so + we + exp1 + exp2 + exp3) + +(widowed +\n",
    "divorced + separated + nevermarried + hsd08 + hsd911 + hsg + cg + ad + mw + so +\n",
    "we + exp1 + exp2 + exp3)^2, data = cps2012)"
   ]
  },
  {
   "cell_type": "code",
   "execution_count": 3,
   "metadata": {},
   "outputs": [
    {
     "data": {
      "text/html": [
       "136"
      ],
      "text/latex": [
       "136"
      ],
      "text/markdown": [
       "136"
      ],
      "text/plain": [
       "[1] 136"
      ]
     },
     "metadata": {},
     "output_type": "display_data"
    }
   ],
   "source": [
    "length(colnames(X))"
   ]
  },
  {
   "cell_type": "code",
   "execution_count": 4,
   "metadata": {},
   "outputs": [
    {
     "data": {
      "text/html": [
       "<style>\n",
       ".dl-inline {width: auto; margin:0; padding: 0}\n",
       ".dl-inline>dt, .dl-inline>dd {float: none; width: auto; display: inline-block}\n",
       ".dl-inline>dt::after {content: \":\\0020\"; padding-right: .5ex}\n",
       ".dl-inline>dt:not(:first-of-type) {padding-left: .5ex}\n",
       "</style><dl class=dl-inline><dt>female</dt><dd>0.244932851007499</dd><dt>widowed</dt><dd>0.00791148238840229</dd><dt>divorced</dt><dd>0.100538381812776</dd><dt>separated</dt><dd>0.0163249259487895</dd><dt>nevermarried</dt><dd>0.131907358545815</dd><dt>hsd08</dt><dd>0.00409046879300004</dd><dt>hsd911</dt><dd>0.021687708558098</dd><dt>hsg</dt><dd>0.186142782632551</dd><dt>cg</dt><dd>0.203104767547259</dd><dt>ad</dt><dd>0.131530659223626</dd><dt>mw</dt><dd>0.206595379642327</dd><dt>so</dt><dd>0.202852397558009</dd><dt>we</dt><dd>0.159791768142308</dd><dt>exp1</dt><dd>76.8609890308698</dd><dt>exp2</dt><dd>11.0324049992148</dd><dt>exp3</dt><dd>123.69585246705</dd><dt>female:widowed</dt><dd>0.00612305095073421</dd><dt>female:divorced</dt><dd>0.0591924048816873</dd><dt>female:separated</dt><dd>0.00885365712118045</dd><dt>female:nevermarried</dt><dd>0.0638877748670756</dd><dt>female:hsd08</dt><dd>0.00109409063224118</dd><dt>female:hsd911</dt><dd>0.00629205205854549</dd><dt>female:hsg</dt><dd>0.0845159732358852</dd><dt>female:cg</dt><dd>0.11017021487925</dd><dt>female:ad</dt><dd>0.0672099809781556</dd><dt>female:mw</dt><dd>0.112413812949527</dd><dt>female:so</dt><dd>0.107572813352937</dd><dt>female:we</dt><dd>0.074281546839094</dd><dt>female:exp1</dt><dd>118.811295071656</dd><dt>female:exp2</dt><dd>9.22543603020754</dd><dt>female:exp3</dt><dd>81.6538871446986</dd><dt>widowed:divorced</dt><dd>0</dd><dt>widowed:separated</dt><dd>0</dd><dt>widowed:nevermarried</dt><dd>0</dd><dt>widowed:hsd08</dt><dd>0</dd><dt>widowed:hsd911</dt><dd>0.000513153717278358</dd><dt>widowed:hsg</dt><dd>0.0031050304326642</dd><dt>widowed:cg</dt><dd>0.00136723840915286</dd><dt>widowed:ad</dt><dd>0.000752445040455487</dd><dt>widowed:mw</dt><dd>0.00225393307494275</dd><dt>widowed:so</dt><dd>0.002662642561209</dd><dt>widowed:we</dt><dd>0.00153787962198934</dd><dt>widowed:exp1</dt><dd>5.42677659034799</dd><dt>widowed:exp2</dt><dd>0.455967639900303</dd><dt>widowed:exp3</dt><dd>4.23292566319592</dd><dt>divorced:separated</dt><dd>0</dd><dt>divorced:nevermarried</dt><dd>0</dd><dt>divorced:hsd08</dt><dd>0.000410565147951906</dd><dt>divorced:hsd911</dt><dd>0.00361498594514342</dd><dt>divorced:hsg</dt><dd>0.0339163527130767</dd><dt>divorced:cg</dt><dd>0.0233202573851493</dd><dt>divorced:ad</dt><dd>0.0104980428204993</dd><dt>divorced:mw</dt><dd>0.0326416162273453</dd><dt>divorced:so</dt><dd>0.0326416162273453</dd><dt>divorced:we</dt><dd>0.0224720630133224</dd><dt>divorced:exp1</dt><dd>54.1745355291687</dd><dt>divorced:exp2</dt><dd>4.0242551207786</dd><dt>divorced:exp3</dt><dd>34.5051586157924</dd><dt>separated:nevermarried</dt><dd>0</dd><dt>separated:hsd08</dt><dd>0.000136892537432164</dd><dt>separated:hsd911</dt><dd>0.000649905674279791</dd><dt>separated:hsg</dt><dd>0.00531103026674181</dd><dt>separated:cg</dt><dd>0.00307101465444149</dd><dt>separated:ad</dt><dd>0.0015037560654364</dd><dt>separated:mw</dt><dd>0.00351303701677679</dd><dt>separated:so</dt><dd>0.00537875020323244</dd><dt>separated:we</dt><dd>0.00371691378644543</dd><dt>separated:exp1</dt><dd>7.34504173617432</dd><dt>separated:exp2</dt><dd>0.500270764451382</dd><dt>separated:exp3</dt><dd>4.1289642693416</dd><dt>nevermarried:hsd08</dt><dd>0.000820792902870056</dd><dt>nevermarried:hsd911</dt><dd>0.00388674666180521</dd><dt>nevermarried:hsg</dt><dd>0.0378126799312363</dd><dt>nevermarried:cg</dt><dd>0.0469513826197827</dd><dt>nevermarried:ad</dt><dd>0.019950811563329</dd><dt>nevermarried:mw</dt><dd>0.0419234461954268</dd><dt>nevermarried:so</dt><dd>0.038348408522683</dd><dt>nevermarried:we</dt><dd>0.0313311207660501</dd><dt>nevermarried:exp1</dt><dd>34.8827948410478</dd><dt>nevermarried:exp2</dt><dd>2.13455487931536</dd><dt>nevermarried:exp3</dt><dd>16.8936845393902</dd><dt>hsd08:hsd911</dt><dd>0</dd><dt>hsd08:hsg</dt><dd>0</dd><dt>hsd08:cg</dt><dd>0</dd><dt>hsd08:ad</dt><dd>0</dd><dt>hsd08:mw</dt><dd>0.00133310313756402</dd><dt>hsd08:so</dt><dd>0.00143550192330899</dd><dt>hsd08:we</dt><dd>0.000376364272162064</dd><dt>hsd08:exp1</dt><dd>3.56412151970651</dd><dt>hsd08:exp2</dt><dd>0.395429991715188</dd><dt>hsd08:exp3</dt><dd>5.00675177888639</dd><dt>hsd911:hsg</dt><dd>0</dd><dt>hsd911:cg</dt><dd>0</dd><dt>hsd911:ad</dt><dd>0</dd><dt>hsd911:mw</dt><dd>0.00541260665696699</dd><dt>hsd911:so</dt><dd>0.00797884150178738</dd><dt>hsd911:we</dt><dd>0.00388674666180521</dd><dt>hsd911:exp1</dt><dd>13.1268344504417</dd><dt>hsd911:exp2</dt><dd>1.12850829887777</dd><dt>hsd911:exp3</dt><dd>11.187174754792</dd><dt>hsg:cg</dt><dd>0</dd><dt>hsg:ad</dt><dd>0</dd><dt>hsg:mw</dt><dd>0.0680285573962345</dd><dt>hsg:so</dt><dd>0.0682037276419477</dd><dt>hsg:we</dt><dd>0.0401083724231279</dd><dt>hsg:exp1</dt><dd>109.154355361218</dd><dt>hsg:exp2</dt><dd>9.15571935179905</dd><dt>hsg:exp3</dt><dd>86.8713006232265</dd><dt>cg:ad</dt><dd>0</dd><dt>cg:mw</dt><dd>0.0749695755831811</dd><dt>cg:so</dt><dd>0.0715159361413956</dd><dt>cg:we</dt><dd>0.0541356986721822</dd><dt>cg:exp1</dt><dd>74.1681968588821</dd><dt>cg:exp2</dt><dd>4.54594845428888</dd><dt>cg:exp3</dt><dd>32.432385872734</dd><dt>ad:mw</dt><dd>0.0371499626937025</dd><dt>ad:so</dt><dd>0.0433262631685907</dd><dt>ad:we</dt><dd>0.0312670934088734</dd><dt>ad:exp1</dt><dd>41.3589411881206</dd><dt>ad:exp2</dt><dd>2.15497936973557</dd><dt>ad:exp3</dt><dd>13.2446746219321</dd><dt>mw:so</dt><dd>0</dd><dt>mw:we</dt><dd>0</dd><dt>mw:exp1</dt><dd>95.1059942515115</dd><dt>mw:exp2</dt><dd>7.09775044199403</dd><dt>mw:exp3</dt><dd>62.0288079341247</dd><dt>so:we</dt><dd>0</dd><dt>so:exp1</dt><dd>91.2638438412566</dd><dt>so:exp2</dt><dd>6.63238482897262</dd><dt>so:exp3</dt><dd>56.7134042250972</dd><dt>we:exp1</dt><dd>69.2156800906592</dd><dt>we:exp2</dt><dd>4.87453721750917</dd><dt>we:exp3</dt><dd>40.6511139209753</dd><dt>exp1:exp2</dt><dd>12369.585246705</dd><dt>exp1:exp3</dt><dd>133735.897439942</dd><dt>exp2:exp3</dt><dd>14557.2303434333</dd></dl>\n"
      ],
      "text/latex": [
       "\\begin{description*}\n",
       "\\item[female] 0.244932851007499\n",
       "\\item[widowed] 0.00791148238840229\n",
       "\\item[divorced] 0.100538381812776\n",
       "\\item[separated] 0.0163249259487895\n",
       "\\item[nevermarried] 0.131907358545815\n",
       "\\item[hsd08] 0.00409046879300004\n",
       "\\item[hsd911] 0.021687708558098\n",
       "\\item[hsg] 0.186142782632551\n",
       "\\item[cg] 0.203104767547259\n",
       "\\item[ad] 0.131530659223626\n",
       "\\item[mw] 0.206595379642327\n",
       "\\item[so] 0.202852397558009\n",
       "\\item[we] 0.159791768142308\n",
       "\\item[exp1] 76.8609890308698\n",
       "\\item[exp2] 11.0324049992148\n",
       "\\item[exp3] 123.69585246705\n",
       "\\item[female:widowed] 0.00612305095073421\n",
       "\\item[female:divorced] 0.0591924048816873\n",
       "\\item[female:separated] 0.00885365712118045\n",
       "\\item[female:nevermarried] 0.0638877748670756\n",
       "\\item[female:hsd08] 0.00109409063224118\n",
       "\\item[female:hsd911] 0.00629205205854549\n",
       "\\item[female:hsg] 0.0845159732358852\n",
       "\\item[female:cg] 0.11017021487925\n",
       "\\item[female:ad] 0.0672099809781556\n",
       "\\item[female:mw] 0.112413812949527\n",
       "\\item[female:so] 0.107572813352937\n",
       "\\item[female:we] 0.074281546839094\n",
       "\\item[female:exp1] 118.811295071656\n",
       "\\item[female:exp2] 9.22543603020754\n",
       "\\item[female:exp3] 81.6538871446986\n",
       "\\item[widowed:divorced] 0\n",
       "\\item[widowed:separated] 0\n",
       "\\item[widowed:nevermarried] 0\n",
       "\\item[widowed:hsd08] 0\n",
       "\\item[widowed:hsd911] 0.000513153717278358\n",
       "\\item[widowed:hsg] 0.0031050304326642\n",
       "\\item[widowed:cg] 0.00136723840915286\n",
       "\\item[widowed:ad] 0.000752445040455487\n",
       "\\item[widowed:mw] 0.00225393307494275\n",
       "\\item[widowed:so] 0.002662642561209\n",
       "\\item[widowed:we] 0.00153787962198934\n",
       "\\item[widowed:exp1] 5.42677659034799\n",
       "\\item[widowed:exp2] 0.455967639900303\n",
       "\\item[widowed:exp3] 4.23292566319592\n",
       "\\item[divorced:separated] 0\n",
       "\\item[divorced:nevermarried] 0\n",
       "\\item[divorced:hsd08] 0.000410565147951906\n",
       "\\item[divorced:hsd911] 0.00361498594514342\n",
       "\\item[divorced:hsg] 0.0339163527130767\n",
       "\\item[divorced:cg] 0.0233202573851493\n",
       "\\item[divorced:ad] 0.0104980428204993\n",
       "\\item[divorced:mw] 0.0326416162273453\n",
       "\\item[divorced:so] 0.0326416162273453\n",
       "\\item[divorced:we] 0.0224720630133224\n",
       "\\item[divorced:exp1] 54.1745355291687\n",
       "\\item[divorced:exp2] 4.0242551207786\n",
       "\\item[divorced:exp3] 34.5051586157924\n",
       "\\item[separated:nevermarried] 0\n",
       "\\item[separated:hsd08] 0.000136892537432164\n",
       "\\item[separated:hsd911] 0.000649905674279791\n",
       "\\item[separated:hsg] 0.00531103026674181\n",
       "\\item[separated:cg] 0.00307101465444149\n",
       "\\item[separated:ad] 0.0015037560654364\n",
       "\\item[separated:mw] 0.00351303701677679\n",
       "\\item[separated:so] 0.00537875020323244\n",
       "\\item[separated:we] 0.00371691378644543\n",
       "\\item[separated:exp1] 7.34504173617432\n",
       "\\item[separated:exp2] 0.500270764451382\n",
       "\\item[separated:exp3] 4.1289642693416\n",
       "\\item[nevermarried:hsd08] 0.000820792902870056\n",
       "\\item[nevermarried:hsd911] 0.00388674666180521\n",
       "\\item[nevermarried:hsg] 0.0378126799312363\n",
       "\\item[nevermarried:cg] 0.0469513826197827\n",
       "\\item[nevermarried:ad] 0.019950811563329\n",
       "\\item[nevermarried:mw] 0.0419234461954268\n",
       "\\item[nevermarried:so] 0.038348408522683\n",
       "\\item[nevermarried:we] 0.0313311207660501\n",
       "\\item[nevermarried:exp1] 34.8827948410478\n",
       "\\item[nevermarried:exp2] 2.13455487931536\n",
       "\\item[nevermarried:exp3] 16.8936845393902\n",
       "\\item[hsd08:hsd911] 0\n",
       "\\item[hsd08:hsg] 0\n",
       "\\item[hsd08:cg] 0\n",
       "\\item[hsd08:ad] 0\n",
       "\\item[hsd08:mw] 0.00133310313756402\n",
       "\\item[hsd08:so] 0.00143550192330899\n",
       "\\item[hsd08:we] 0.000376364272162064\n",
       "\\item[hsd08:exp1] 3.56412151970651\n",
       "\\item[hsd08:exp2] 0.395429991715188\n",
       "\\item[hsd08:exp3] 5.00675177888639\n",
       "\\item[hsd911:hsg] 0\n",
       "\\item[hsd911:cg] 0\n",
       "\\item[hsd911:ad] 0\n",
       "\\item[hsd911:mw] 0.00541260665696699\n",
       "\\item[hsd911:so] 0.00797884150178738\n",
       "\\item[hsd911:we] 0.00388674666180521\n",
       "\\item[hsd911:exp1] 13.1268344504417\n",
       "\\item[hsd911:exp2] 1.12850829887777\n",
       "\\item[hsd911:exp3] 11.187174754792\n",
       "\\item[hsg:cg] 0\n",
       "\\item[hsg:ad] 0\n",
       "\\item[hsg:mw] 0.0680285573962345\n",
       "\\item[hsg:so] 0.0682037276419477\n",
       "\\item[hsg:we] 0.0401083724231279\n",
       "\\item[hsg:exp1] 109.154355361218\n",
       "\\item[hsg:exp2] 9.15571935179905\n",
       "\\item[hsg:exp3] 86.8713006232265\n",
       "\\item[cg:ad] 0\n",
       "\\item[cg:mw] 0.0749695755831811\n",
       "\\item[cg:so] 0.0715159361413956\n",
       "\\item[cg:we] 0.0541356986721822\n",
       "\\item[cg:exp1] 74.1681968588821\n",
       "\\item[cg:exp2] 4.54594845428888\n",
       "\\item[cg:exp3] 32.432385872734\n",
       "\\item[ad:mw] 0.0371499626937025\n",
       "\\item[ad:so] 0.0433262631685907\n",
       "\\item[ad:we] 0.0312670934088734\n",
       "\\item[ad:exp1] 41.3589411881206\n",
       "\\item[ad:exp2] 2.15497936973557\n",
       "\\item[ad:exp3] 13.2446746219321\n",
       "\\item[mw:so] 0\n",
       "\\item[mw:we] 0\n",
       "\\item[mw:exp1] 95.1059942515115\n",
       "\\item[mw:exp2] 7.09775044199403\n",
       "\\item[mw:exp3] 62.0288079341247\n",
       "\\item[so:we] 0\n",
       "\\item[so:exp1] 91.2638438412566\n",
       "\\item[so:exp2] 6.63238482897262\n",
       "\\item[so:exp3] 56.7134042250972\n",
       "\\item[we:exp1] 69.2156800906592\n",
       "\\item[we:exp2] 4.87453721750917\n",
       "\\item[we:exp3] 40.6511139209753\n",
       "\\item[exp1:exp2] 12369.585246705\n",
       "\\item[exp1:exp3] 133735.897439942\n",
       "\\item[exp2:exp3] 14557.2303434333\n",
       "\\end{description*}\n"
      ],
      "text/markdown": [
       "female\n",
       ":   0.244932851007499widowed\n",
       ":   0.00791148238840229divorced\n",
       ":   0.100538381812776separated\n",
       ":   0.0163249259487895nevermarried\n",
       ":   0.131907358545815hsd08\n",
       ":   0.00409046879300004hsd911\n",
       ":   0.021687708558098hsg\n",
       ":   0.186142782632551cg\n",
       ":   0.203104767547259ad\n",
       ":   0.131530659223626mw\n",
       ":   0.206595379642327so\n",
       ":   0.202852397558009we\n",
       ":   0.159791768142308exp1\n",
       ":   76.8609890308698exp2\n",
       ":   11.0324049992148exp3\n",
       ":   123.69585246705female:widowed\n",
       ":   0.00612305095073421female:divorced\n",
       ":   0.0591924048816873female:separated\n",
       ":   0.00885365712118045female:nevermarried\n",
       ":   0.0638877748670756female:hsd08\n",
       ":   0.00109409063224118female:hsd911\n",
       ":   0.00629205205854549female:hsg\n",
       ":   0.0845159732358852female:cg\n",
       ":   0.11017021487925female:ad\n",
       ":   0.0672099809781556female:mw\n",
       ":   0.112413812949527female:so\n",
       ":   0.107572813352937female:we\n",
       ":   0.074281546839094female:exp1\n",
       ":   118.811295071656female:exp2\n",
       ":   9.22543603020754female:exp3\n",
       ":   81.6538871446986widowed:divorced\n",
       ":   0widowed:separated\n",
       ":   0widowed:nevermarried\n",
       ":   0widowed:hsd08\n",
       ":   0widowed:hsd911\n",
       ":   0.000513153717278358widowed:hsg\n",
       ":   0.0031050304326642widowed:cg\n",
       ":   0.00136723840915286widowed:ad\n",
       ":   0.000752445040455487widowed:mw\n",
       ":   0.00225393307494275widowed:so\n",
       ":   0.002662642561209widowed:we\n",
       ":   0.00153787962198934widowed:exp1\n",
       ":   5.42677659034799widowed:exp2\n",
       ":   0.455967639900303widowed:exp3\n",
       ":   4.23292566319592divorced:separated\n",
       ":   0divorced:nevermarried\n",
       ":   0divorced:hsd08\n",
       ":   0.000410565147951906divorced:hsd911\n",
       ":   0.00361498594514342divorced:hsg\n",
       ":   0.0339163527130767divorced:cg\n",
       ":   0.0233202573851493divorced:ad\n",
       ":   0.0104980428204993divorced:mw\n",
       ":   0.0326416162273453divorced:so\n",
       ":   0.0326416162273453divorced:we\n",
       ":   0.0224720630133224divorced:exp1\n",
       ":   54.1745355291687divorced:exp2\n",
       ":   4.0242551207786divorced:exp3\n",
       ":   34.5051586157924separated:nevermarried\n",
       ":   0separated:hsd08\n",
       ":   0.000136892537432164separated:hsd911\n",
       ":   0.000649905674279791separated:hsg\n",
       ":   0.00531103026674181separated:cg\n",
       ":   0.00307101465444149separated:ad\n",
       ":   0.0015037560654364separated:mw\n",
       ":   0.00351303701677679separated:so\n",
       ":   0.00537875020323244separated:we\n",
       ":   0.00371691378644543separated:exp1\n",
       ":   7.34504173617432separated:exp2\n",
       ":   0.500270764451382separated:exp3\n",
       ":   4.1289642693416nevermarried:hsd08\n",
       ":   0.000820792902870056nevermarried:hsd911\n",
       ":   0.00388674666180521nevermarried:hsg\n",
       ":   0.0378126799312363nevermarried:cg\n",
       ":   0.0469513826197827nevermarried:ad\n",
       ":   0.019950811563329nevermarried:mw\n",
       ":   0.0419234461954268nevermarried:so\n",
       ":   0.038348408522683nevermarried:we\n",
       ":   0.0313311207660501nevermarried:exp1\n",
       ":   34.8827948410478nevermarried:exp2\n",
       ":   2.13455487931536nevermarried:exp3\n",
       ":   16.8936845393902hsd08:hsd911\n",
       ":   0hsd08:hsg\n",
       ":   0hsd08:cg\n",
       ":   0hsd08:ad\n",
       ":   0hsd08:mw\n",
       ":   0.00133310313756402hsd08:so\n",
       ":   0.00143550192330899hsd08:we\n",
       ":   0.000376364272162064hsd08:exp1\n",
       ":   3.56412151970651hsd08:exp2\n",
       ":   0.395429991715188hsd08:exp3\n",
       ":   5.00675177888639hsd911:hsg\n",
       ":   0hsd911:cg\n",
       ":   0hsd911:ad\n",
       ":   0hsd911:mw\n",
       ":   0.00541260665696699hsd911:so\n",
       ":   0.00797884150178738hsd911:we\n",
       ":   0.00388674666180521hsd911:exp1\n",
       ":   13.1268344504417hsd911:exp2\n",
       ":   1.12850829887777hsd911:exp3\n",
       ":   11.187174754792hsg:cg\n",
       ":   0hsg:ad\n",
       ":   0hsg:mw\n",
       ":   0.0680285573962345hsg:so\n",
       ":   0.0682037276419477hsg:we\n",
       ":   0.0401083724231279hsg:exp1\n",
       ":   109.154355361218hsg:exp2\n",
       ":   9.15571935179905hsg:exp3\n",
       ":   86.8713006232265cg:ad\n",
       ":   0cg:mw\n",
       ":   0.0749695755831811cg:so\n",
       ":   0.0715159361413956cg:we\n",
       ":   0.0541356986721822cg:exp1\n",
       ":   74.1681968588821cg:exp2\n",
       ":   4.54594845428888cg:exp3\n",
       ":   32.432385872734ad:mw\n",
       ":   0.0371499626937025ad:so\n",
       ":   0.0433262631685907ad:we\n",
       ":   0.0312670934088734ad:exp1\n",
       ":   41.3589411881206ad:exp2\n",
       ":   2.15497936973557ad:exp3\n",
       ":   13.2446746219321mw:so\n",
       ":   0mw:we\n",
       ":   0mw:exp1\n",
       ":   95.1059942515115mw:exp2\n",
       ":   7.09775044199403mw:exp3\n",
       ":   62.0288079341247so:we\n",
       ":   0so:exp1\n",
       ":   91.2638438412566so:exp2\n",
       ":   6.63238482897262so:exp3\n",
       ":   56.7134042250972we:exp1\n",
       ":   69.2156800906592we:exp2\n",
       ":   4.87453721750917we:exp3\n",
       ":   40.6511139209753exp1:exp2\n",
       ":   12369.585246705exp1:exp3\n",
       ":   133735.897439942exp2:exp3\n",
       ":   14557.2303434333\n",
       "\n"
      ],
      "text/plain": [
       "                female                widowed               divorced \n",
       "          2.449329e-01           7.911482e-03           1.005384e-01 \n",
       "             separated           nevermarried                  hsd08 \n",
       "          1.632493e-02           1.319074e-01           4.090469e-03 \n",
       "                hsd911                    hsg                     cg \n",
       "          2.168771e-02           1.861428e-01           2.031048e-01 \n",
       "                    ad                     mw                     so \n",
       "          1.315307e-01           2.065954e-01           2.028524e-01 \n",
       "                    we                   exp1                   exp2 \n",
       "          1.597918e-01           7.686099e+01           1.103240e+01 \n",
       "                  exp3         female:widowed        female:divorced \n",
       "          1.236959e+02           6.123051e-03           5.919240e-02 \n",
       "      female:separated    female:nevermarried           female:hsd08 \n",
       "          8.853657e-03           6.388777e-02           1.094091e-03 \n",
       "         female:hsd911             female:hsg              female:cg \n",
       "          6.292052e-03           8.451597e-02           1.101702e-01 \n",
       "             female:ad              female:mw              female:so \n",
       "          6.720998e-02           1.124138e-01           1.075728e-01 \n",
       "             female:we            female:exp1            female:exp2 \n",
       "          7.428155e-02           1.188113e+02           9.225436e+00 \n",
       "           female:exp3       widowed:divorced      widowed:separated \n",
       "          8.165389e+01           0.000000e+00           0.000000e+00 \n",
       "  widowed:nevermarried          widowed:hsd08         widowed:hsd911 \n",
       "          0.000000e+00           0.000000e+00           5.131537e-04 \n",
       "           widowed:hsg             widowed:cg             widowed:ad \n",
       "          3.105030e-03           1.367238e-03           7.524450e-04 \n",
       "            widowed:mw             widowed:so             widowed:we \n",
       "          2.253933e-03           2.662643e-03           1.537880e-03 \n",
       "          widowed:exp1           widowed:exp2           widowed:exp3 \n",
       "          5.426777e+00           4.559676e-01           4.232926e+00 \n",
       "    divorced:separated  divorced:nevermarried         divorced:hsd08 \n",
       "          0.000000e+00           0.000000e+00           4.105651e-04 \n",
       "       divorced:hsd911           divorced:hsg            divorced:cg \n",
       "          3.614986e-03           3.391635e-02           2.332026e-02 \n",
       "           divorced:ad            divorced:mw            divorced:so \n",
       "          1.049804e-02           3.264162e-02           3.264162e-02 \n",
       "           divorced:we          divorced:exp1          divorced:exp2 \n",
       "          2.247206e-02           5.417454e+01           4.024255e+00 \n",
       "         divorced:exp3 separated:nevermarried        separated:hsd08 \n",
       "          3.450516e+01           0.000000e+00           1.368925e-04 \n",
       "      separated:hsd911          separated:hsg           separated:cg \n",
       "          6.499057e-04           5.311030e-03           3.071015e-03 \n",
       "          separated:ad           separated:mw           separated:so \n",
       "          1.503756e-03           3.513037e-03           5.378750e-03 \n",
       "          separated:we         separated:exp1         separated:exp2 \n",
       "          3.716914e-03           7.345042e+00           5.002708e-01 \n",
       "        separated:exp3     nevermarried:hsd08    nevermarried:hsd911 \n",
       "          4.128964e+00           8.207929e-04           3.886747e-03 \n",
       "      nevermarried:hsg        nevermarried:cg        nevermarried:ad \n",
       "          3.781268e-02           4.695138e-02           1.995081e-02 \n",
       "       nevermarried:mw        nevermarried:so        nevermarried:we \n",
       "          4.192345e-02           3.834841e-02           3.133112e-02 \n",
       "     nevermarried:exp1      nevermarried:exp2      nevermarried:exp3 \n",
       "          3.488279e+01           2.134555e+00           1.689368e+01 \n",
       "          hsd08:hsd911              hsd08:hsg               hsd08:cg \n",
       "          0.000000e+00           0.000000e+00           0.000000e+00 \n",
       "              hsd08:ad               hsd08:mw               hsd08:so \n",
       "          0.000000e+00           1.333103e-03           1.435502e-03 \n",
       "              hsd08:we             hsd08:exp1             hsd08:exp2 \n",
       "          3.763643e-04           3.564122e+00           3.954300e-01 \n",
       "            hsd08:exp3             hsd911:hsg              hsd911:cg \n",
       "          5.006752e+00           0.000000e+00           0.000000e+00 \n",
       "             hsd911:ad              hsd911:mw              hsd911:so \n",
       "          0.000000e+00           5.412607e-03           7.978842e-03 \n",
       "             hsd911:we            hsd911:exp1            hsd911:exp2 \n",
       "          3.886747e-03           1.312683e+01           1.128508e+00 \n",
       "           hsd911:exp3                 hsg:cg                 hsg:ad \n",
       "          1.118717e+01           0.000000e+00           0.000000e+00 \n",
       "                hsg:mw                 hsg:so                 hsg:we \n",
       "          6.802856e-02           6.820373e-02           4.010837e-02 \n",
       "              hsg:exp1               hsg:exp2               hsg:exp3 \n",
       "          1.091544e+02           9.155719e+00           8.687130e+01 \n",
       "                 cg:ad                  cg:mw                  cg:so \n",
       "          0.000000e+00           7.496958e-02           7.151594e-02 \n",
       "                 cg:we                cg:exp1                cg:exp2 \n",
       "          5.413570e-02           7.416820e+01           4.545948e+00 \n",
       "               cg:exp3                  ad:mw                  ad:so \n",
       "          3.243239e+01           3.714996e-02           4.332626e-02 \n",
       "                 ad:we                ad:exp1                ad:exp2 \n",
       "          3.126709e-02           4.135894e+01           2.154979e+00 \n",
       "               ad:exp3                  mw:so                  mw:we \n",
       "          1.324467e+01           0.000000e+00           0.000000e+00 \n",
       "               mw:exp1                mw:exp2                mw:exp3 \n",
       "          9.510599e+01           7.097750e+00           6.202881e+01 \n",
       "                 so:we                so:exp1                so:exp2 \n",
       "          0.000000e+00           9.126384e+01           6.632385e+00 \n",
       "               so:exp3                we:exp1                we:exp2 \n",
       "          5.671340e+01           6.921568e+01           4.874537e+00 \n",
       "               we:exp3              exp1:exp2              exp1:exp3 \n",
       "          4.065111e+01           1.236959e+04           1.337359e+05 \n",
       "             exp2:exp3 \n",
       "          1.455723e+04 "
      ]
     },
     "metadata": {},
     "output_type": "display_data"
    }
   ],
   "source": [
    "apply(X, 2, var)"
   ]
  },
  {
   "cell_type": "code",
   "execution_count": 5,
   "metadata": {
    "execution": {
     "iopub.execute_input": "2021-02-28T17:17:26.350577Z",
     "iopub.status.busy": "2021-02-28T17:17:26.317735Z",
     "iopub.status.idle": "2021-02-28T17:17:29.196789Z",
     "shell.execute_reply": "2021-02-28T17:17:29.194681Z"
    },
    "papermill": {
     "duration": 2.894102,
     "end_time": "2021-02-28T17:17:29.196986",
     "exception": false,
     "start_time": "2021-02-28T17:17:26.302884",
     "status": "completed"
    },
    "tags": []
   },
   "outputs": [
    {
     "data": {
      "text/html": [
       "<style>\n",
       ".list-inline {list-style: none; margin:0; padding: 0}\n",
       ".list-inline>li {display: inline-block}\n",
       ".list-inline>li:not(:last-child)::after {content: \"\\00b7\"; padding: 0 .5ex}\n",
       "</style>\n",
       "<ol class=list-inline><li>29217</li><li>116</li></ol>\n"
      ],
      "text/latex": [
       "\\begin{enumerate*}\n",
       "\\item 29217\n",
       "\\item 116\n",
       "\\end{enumerate*}\n"
      ],
      "text/markdown": [
       "1. 29217\n",
       "2. 116\n",
       "\n",
       "\n"
      ],
      "text/plain": [
       "[1] 29217   116"
      ]
     },
     "metadata": {},
     "output_type": "display_data"
    }
   ],
   "source": [
    "# create the model matrix for the covariates\n",
    "X <- model.matrix(~-1 + female + female:(widowed + divorced + separated + nevermarried +\n",
    "hsd08 + hsd911 + hsg + cg + ad + mw + so + we + exp1 + exp2 + exp3) + +(widowed +\n",
    "divorced + separated + nevermarried + hsd08 + hsd911 + hsg + cg + ad + mw + so +\n",
    "we + exp1 + exp2 + exp3)^2, data = cps2012)\n",
    "X <- X[, which(apply(X, 2, var) != 0)] # exclude all constant variables\n",
    "demean<- function (x){ x- mean(x)}\n",
    "X<- apply(X, 2, FUN=demean)\n",
    "dim(X)\n",
    "\n",
    "# target variables, index.gender specifices coefficients we are interested in\n",
    "index.gender <- grep(\"female\", colnames(X))\n",
    "y <- cps2012$lnw"
   ]
  },
  {
   "cell_type": "markdown",
   "metadata": {
    "papermill": {
     "duration": 0.008565,
     "end_time": "2021-02-28T17:17:29.215145",
     "exception": false,
     "start_time": "2021-02-28T17:17:29.206580",
     "status": "completed"
    },
    "tags": []
   },
   "source": [
    "The parameter estimates for the target parameters, i.e. all coefficients related to gender (i.e. by interaction with other variables) are calculated and summarized by the following commands:\n",
    "\n"
   ]
  },
  {
   "cell_type": "code",
   "execution_count": 6,
   "metadata": {
    "_execution_state": "idle",
    "_uuid": "051d70d956493feee0c6d64651c6a088724dca2a",
    "execution": {
     "iopub.execute_input": "2021-02-28T17:17:29.240943Z",
     "iopub.status.busy": "2021-02-28T17:17:29.238952Z",
     "iopub.status.idle": "2021-02-28T17:18:47.651562Z",
     "shell.execute_reply": "2021-02-28T17:18:47.648518Z"
    },
    "papermill": {
     "duration": 78.426974,
     "end_time": "2021-02-28T17:18:47.651893",
     "exception": false,
     "start_time": "2021-02-28T17:17:29.224919",
     "status": "completed"
    },
    "tags": []
   },
   "outputs": [],
   "source": [
    "# this cell takes a minute to run\n",
    "\n",
    "    effects.female <- rlassoEffects(x = X, y = y, index = index.gender)\n"
   ]
  },
  {
   "cell_type": "code",
   "execution_count": 7,
   "metadata": {
    "execution": {
     "iopub.execute_input": "2021-02-28T17:18:47.695255Z",
     "iopub.status.busy": "2021-02-28T17:18:47.694641Z",
     "iopub.status.idle": "2021-02-28T17:18:47.787196Z",
     "shell.execute_reply": "2021-02-28T17:18:47.785009Z"
    },
    "papermill": {
     "duration": 0.115154,
     "end_time": "2021-02-28T17:18:47.787349",
     "exception": false,
     "start_time": "2021-02-28T17:18:47.672195",
     "status": "completed"
    },
    "tags": []
   },
   "outputs": [
    {
     "data": {
      "text/html": [
       "<table class=\"dataframe\">\n",
       "<caption>A matrix: 16 × 4 of type dbl</caption>\n",
       "<thead>\n",
       "\t<tr><th></th><th scope=col>Estimate.</th><th scope=col>Std. Error</th><th scope=col>t value</th><th scope=col>Pr(&gt;|t|)</th></tr>\n",
       "</thead>\n",
       "<tbody>\n",
       "\t<tr><th scope=row>female</th><td>-0.154923281</td><td>0.050162447</td><td>-3.08843149</td><td>2.012161e-03</td></tr>\n",
       "\t<tr><th scope=row>female:widowed</th><td> 0.136095484</td><td>0.090662629</td><td> 1.50111997</td><td>1.333245e-01</td></tr>\n",
       "\t<tr><th scope=row>female:divorced</th><td> 0.136939386</td><td>0.022181700</td><td> 6.17352970</td><td>6.678200e-10</td></tr>\n",
       "\t<tr><th scope=row>female:separated</th><td> 0.023302763</td><td>0.053211795</td><td> 0.43792476</td><td>6.614408e-01</td></tr>\n",
       "\t<tr><th scope=row>female:nevermarried</th><td> 0.186853483</td><td>0.019942393</td><td> 9.36966209</td><td>7.276511e-21</td></tr>\n",
       "\t<tr><th scope=row>female:hsd08</th><td> 0.027810312</td><td>0.120914496</td><td> 0.22999982</td><td>8.180919e-01</td></tr>\n",
       "\t<tr><th scope=row>female:hsd911</th><td>-0.119335040</td><td>0.051879684</td><td>-2.30022682</td><td>2.143537e-02</td></tr>\n",
       "\t<tr><th scope=row>female:hsg</th><td>-0.012889780</td><td>0.019223188</td><td>-0.67053290</td><td>5.025181e-01</td></tr>\n",
       "\t<tr><th scope=row>female:cg</th><td> 0.010138553</td><td>0.018326505</td><td> 0.55321800</td><td>5.801141e-01</td></tr>\n",
       "\t<tr><th scope=row>female:ad</th><td>-0.030463745</td><td>0.021806103</td><td>-1.39702838</td><td>1.624050e-01</td></tr>\n",
       "\t<tr><th scope=row>female:mw</th><td>-0.001063439</td><td>0.019191770</td><td>-0.05541119</td><td>9.558109e-01</td></tr>\n",
       "\t<tr><th scope=row>female:so</th><td>-0.008183343</td><td>0.019356818</td><td>-0.42276282</td><td>6.724683e-01</td></tr>\n",
       "\t<tr><th scope=row>female:we</th><td>-0.004226129</td><td>0.021168404</td><td>-0.19964324</td><td>8.417596e-01</td></tr>\n",
       "\t<tr><th scope=row>female:exp1</th><td> 0.004935259</td><td>0.007804275</td><td> 0.63237886</td><td>5.271393e-01</td></tr>\n",
       "\t<tr><th scope=row>female:exp2</th><td>-0.159519328</td><td>0.045299884</td><td>-3.52140699</td><td>4.292632e-04</td></tr>\n",
       "\t<tr><th scope=row>female:exp3</th><td> 0.038450579</td><td>0.007861100</td><td> 4.89124680</td><td>1.001992e-06</td></tr>\n",
       "</tbody>\n",
       "</table>\n"
      ],
      "text/latex": [
       "A matrix: 16 × 4 of type dbl\n",
       "\\begin{tabular}{r|llll}\n",
       "  & Estimate. & Std. Error & t value & Pr(>\\textbar{}t\\textbar{})\\\\\n",
       "\\hline\n",
       "\tfemale & -0.154923281 & 0.050162447 & -3.08843149 & 2.012161e-03\\\\\n",
       "\tfemale:widowed &  0.136095484 & 0.090662629 &  1.50111997 & 1.333245e-01\\\\\n",
       "\tfemale:divorced &  0.136939386 & 0.022181700 &  6.17352970 & 6.678200e-10\\\\\n",
       "\tfemale:separated &  0.023302763 & 0.053211795 &  0.43792476 & 6.614408e-01\\\\\n",
       "\tfemale:nevermarried &  0.186853483 & 0.019942393 &  9.36966209 & 7.276511e-21\\\\\n",
       "\tfemale:hsd08 &  0.027810312 & 0.120914496 &  0.22999982 & 8.180919e-01\\\\\n",
       "\tfemale:hsd911 & -0.119335040 & 0.051879684 & -2.30022682 & 2.143537e-02\\\\\n",
       "\tfemale:hsg & -0.012889780 & 0.019223188 & -0.67053290 & 5.025181e-01\\\\\n",
       "\tfemale:cg &  0.010138553 & 0.018326505 &  0.55321800 & 5.801141e-01\\\\\n",
       "\tfemale:ad & -0.030463745 & 0.021806103 & -1.39702838 & 1.624050e-01\\\\\n",
       "\tfemale:mw & -0.001063439 & 0.019191770 & -0.05541119 & 9.558109e-01\\\\\n",
       "\tfemale:so & -0.008183343 & 0.019356818 & -0.42276282 & 6.724683e-01\\\\\n",
       "\tfemale:we & -0.004226129 & 0.021168404 & -0.19964324 & 8.417596e-01\\\\\n",
       "\tfemale:exp1 &  0.004935259 & 0.007804275 &  0.63237886 & 5.271393e-01\\\\\n",
       "\tfemale:exp2 & -0.159519328 & 0.045299884 & -3.52140699 & 4.292632e-04\\\\\n",
       "\tfemale:exp3 &  0.038450579 & 0.007861100 &  4.89124680 & 1.001992e-06\\\\\n",
       "\\end{tabular}\n"
      ],
      "text/markdown": [
       "\n",
       "A matrix: 16 × 4 of type dbl\n",
       "\n",
       "| <!--/--> | Estimate. | Std. Error | t value | Pr(&gt;|t|) |\n",
       "|---|---|---|---|---|\n",
       "| female | -0.154923281 | 0.050162447 | -3.08843149 | 2.012161e-03 |\n",
       "| female:widowed |  0.136095484 | 0.090662629 |  1.50111997 | 1.333245e-01 |\n",
       "| female:divorced |  0.136939386 | 0.022181700 |  6.17352970 | 6.678200e-10 |\n",
       "| female:separated |  0.023302763 | 0.053211795 |  0.43792476 | 6.614408e-01 |\n",
       "| female:nevermarried |  0.186853483 | 0.019942393 |  9.36966209 | 7.276511e-21 |\n",
       "| female:hsd08 |  0.027810312 | 0.120914496 |  0.22999982 | 8.180919e-01 |\n",
       "| female:hsd911 | -0.119335040 | 0.051879684 | -2.30022682 | 2.143537e-02 |\n",
       "| female:hsg | -0.012889780 | 0.019223188 | -0.67053290 | 5.025181e-01 |\n",
       "| female:cg |  0.010138553 | 0.018326505 |  0.55321800 | 5.801141e-01 |\n",
       "| female:ad | -0.030463745 | 0.021806103 | -1.39702838 | 1.624050e-01 |\n",
       "| female:mw | -0.001063439 | 0.019191770 | -0.05541119 | 9.558109e-01 |\n",
       "| female:so | -0.008183343 | 0.019356818 | -0.42276282 | 6.724683e-01 |\n",
       "| female:we | -0.004226129 | 0.021168404 | -0.19964324 | 8.417596e-01 |\n",
       "| female:exp1 |  0.004935259 | 0.007804275 |  0.63237886 | 5.271393e-01 |\n",
       "| female:exp2 | -0.159519328 | 0.045299884 | -3.52140699 | 4.292632e-04 |\n",
       "| female:exp3 |  0.038450579 | 0.007861100 |  4.89124680 | 1.001992e-06 |\n",
       "\n"
      ],
      "text/plain": [
       "                    Estimate.    Std. Error  t value     Pr(>|t|)    \n",
       "female              -0.154923281 0.050162447 -3.08843149 2.012161e-03\n",
       "female:widowed       0.136095484 0.090662629  1.50111997 1.333245e-01\n",
       "female:divorced      0.136939386 0.022181700  6.17352970 6.678200e-10\n",
       "female:separated     0.023302763 0.053211795  0.43792476 6.614408e-01\n",
       "female:nevermarried  0.186853483 0.019942393  9.36966209 7.276511e-21\n",
       "female:hsd08         0.027810312 0.120914496  0.22999982 8.180919e-01\n",
       "female:hsd911       -0.119335040 0.051879684 -2.30022682 2.143537e-02\n",
       "female:hsg          -0.012889780 0.019223188 -0.67053290 5.025181e-01\n",
       "female:cg            0.010138553 0.018326505  0.55321800 5.801141e-01\n",
       "female:ad           -0.030463745 0.021806103 -1.39702838 1.624050e-01\n",
       "female:mw           -0.001063439 0.019191770 -0.05541119 9.558109e-01\n",
       "female:so           -0.008183343 0.019356818 -0.42276282 6.724683e-01\n",
       "female:we           -0.004226129 0.021168404 -0.19964324 8.417596e-01\n",
       "female:exp1          0.004935259 0.007804275  0.63237886 5.271393e-01\n",
       "female:exp2         -0.159519328 0.045299884 -3.52140699 4.292632e-04\n",
       "female:exp3          0.038450579 0.007861100  4.89124680 1.001992e-06"
      ]
     },
     "metadata": {},
     "output_type": "display_data"
    },
    {
     "name": "stdout",
     "output_type": "stream",
     "text": [
      "% latex table generated in R 4.0.4 by xtable 1.8-4 package\n",
      "% Wed Apr 14 19:10:31 2021\n",
      "\\begin{table}[ht]\n",
      "\\centering\n",
      "\\begin{tabular}{rrrr}\n",
      "  \\hline\n",
      " & Estimate. & Std. Error & Pr($>$$|$t$|$) \\\\ \n",
      "  \\hline\n",
      "female & -0.15 & 0.05 & 0.00 \\\\ \n",
      "  female:widowed & 0.14 & 0.09 & 0.13 \\\\ \n",
      "  female:divorced & 0.14 & 0.02 & 0.00 \\\\ \n",
      "  female:separated & 0.02 & 0.05 & 0.66 \\\\ \n",
      "  female:nevermarried & 0.19 & 0.02 & 0.00 \\\\ \n",
      "  female:hsd08 & 0.03 & 0.12 & 0.82 \\\\ \n",
      "  female:hsd911 & -0.12 & 0.05 & 0.02 \\\\ \n",
      "  female:hsg & -0.01 & 0.02 & 0.50 \\\\ \n",
      "  female:cg & 0.01 & 0.02 & 0.58 \\\\ \n",
      "  female:ad & -0.03 & 0.02 & 0.16 \\\\ \n",
      "  female:mw & -0.00 & 0.02 & 0.96 \\\\ \n",
      "  female:so & -0.01 & 0.02 & 0.67 \\\\ \n",
      "  female:we & -0.00 & 0.02 & 0.84 \\\\ \n",
      "  female:exp1 & 0.00 & 0.01 & 0.53 \\\\ \n",
      "  female:exp2 & -0.16 & 0.05 & 0.00 \\\\ \n",
      "  female:exp3 & 0.04 & 0.01 & 0.00 \\\\ \n",
      "   \\hline\n",
      "\\end{tabular}\n",
      "\\end{table}\n"
     ]
    }
   ],
   "source": [
    "result=summary(effects.female)\n",
    "result$coef\n",
    "library(xtable)\n",
    "print(xtable(result$coef[,c(1,2,4)], type=\"latex\"), digits=3)\n"
   ]
  },
  {
   "cell_type": "markdown",
   "metadata": {
    "papermill": {
     "duration": 0.008891,
     "end_time": "2021-02-28T17:18:47.805643",
     "exception": false,
     "start_time": "2021-02-28T17:18:47.796752",
     "status": "completed"
    },
    "tags": []
   },
   "source": [
    "Now, we estimate and plot confident intervals, first \"pointwise\" and then the joint confidence intervals."
   ]
  },
  {
   "cell_type": "code",
   "execution_count": null,
   "metadata": {},
   "outputs": [],
   "source": [
    "result$coef"
   ]
  },
  {
   "cell_type": "code",
   "execution_count": 18,
   "metadata": {
    "execution": {
     "iopub.execute_input": "2021-02-28T17:18:47.830650Z",
     "iopub.status.busy": "2021-02-28T17:18:47.828883Z",
     "iopub.status.idle": "2021-02-28T17:18:48.896575Z",
     "shell.execute_reply": "2021-02-28T17:18:48.895785Z"
    },
    "papermill": {
     "duration": 1.082155,
     "end_time": "2021-02-28T17:18:48.896774",
     "exception": false,
     "start_time": "2021-02-28T17:18:47.814619",
     "status": "completed"
    },
    "tags": []
   },
   "outputs": [
    {
     "data": {
      "text/html": [
       "<table class=\"dataframe\">\n",
       "<caption>A matrix: 16 × 2 of type dbl</caption>\n",
       "<thead>\n",
       "\t<tr><th></th><th scope=col>5 %</th><th scope=col>95 %</th></tr>\n",
       "</thead>\n",
       "<tbody>\n",
       "\t<tr><th scope=row>female</th><td>-0.237433164</td><td>-0.072413398</td></tr>\n",
       "\t<tr><th scope=row>female:widowed</th><td>-0.013031271</td><td> 0.285222239</td></tr>\n",
       "\t<tr><th scope=row>female:divorced</th><td> 0.100453736</td><td> 0.173425037</td></tr>\n",
       "\t<tr><th scope=row>female:separated</th><td>-0.064222851</td><td> 0.110828376</td></tr>\n",
       "\t<tr><th scope=row>female:nevermarried</th><td> 0.154051166</td><td> 0.219655800</td></tr>\n",
       "\t<tr><th scope=row>female:hsd08</th><td>-0.171076335</td><td> 0.226696960</td></tr>\n",
       "\t<tr><th scope=row>female:hsd911</th><td>-0.204669525</td><td>-0.034000554</td></tr>\n",
       "\t<tr><th scope=row>female:hsg</th><td>-0.044509111</td><td> 0.018729551</td></tr>\n",
       "\t<tr><th scope=row>female:cg</th><td>-0.020005866</td><td> 0.040282971</td></tr>\n",
       "\t<tr><th scope=row>female:ad</th><td>-0.066331593</td><td> 0.005404103</td></tr>\n",
       "\t<tr><th scope=row>female:mw</th><td>-0.032631091</td><td> 0.030504214</td></tr>\n",
       "\t<tr><th scope=row>female:so</th><td>-0.040022474</td><td> 0.023655789</td></tr>\n",
       "\t<tr><th scope=row>female:we</th><td>-0.039045055</td><td> 0.030592798</td></tr>\n",
       "\t<tr><th scope=row>female:exp1</th><td>-0.007901632</td><td> 0.017772149</td></tr>\n",
       "\t<tr><th scope=row>female:exp2</th><td>-0.234031007</td><td>-0.085007650</td></tr>\n",
       "\t<tr><th scope=row>female:exp3</th><td> 0.025520220</td><td> 0.051380937</td></tr>\n",
       "</tbody>\n",
       "</table>\n"
      ],
      "text/latex": [
       "A matrix: 16 × 2 of type dbl\n",
       "\\begin{tabular}{r|ll}\n",
       "  & 5 \\% & 95 \\%\\\\\n",
       "\\hline\n",
       "\tfemale & -0.237433164 & -0.072413398\\\\\n",
       "\tfemale:widowed & -0.013031271 &  0.285222239\\\\\n",
       "\tfemale:divorced &  0.100453736 &  0.173425037\\\\\n",
       "\tfemale:separated & -0.064222851 &  0.110828376\\\\\n",
       "\tfemale:nevermarried &  0.154051166 &  0.219655800\\\\\n",
       "\tfemale:hsd08 & -0.171076335 &  0.226696960\\\\\n",
       "\tfemale:hsd911 & -0.204669525 & -0.034000554\\\\\n",
       "\tfemale:hsg & -0.044509111 &  0.018729551\\\\\n",
       "\tfemale:cg & -0.020005866 &  0.040282971\\\\\n",
       "\tfemale:ad & -0.066331593 &  0.005404103\\\\\n",
       "\tfemale:mw & -0.032631091 &  0.030504214\\\\\n",
       "\tfemale:so & -0.040022474 &  0.023655789\\\\\n",
       "\tfemale:we & -0.039045055 &  0.030592798\\\\\n",
       "\tfemale:exp1 & -0.007901632 &  0.017772149\\\\\n",
       "\tfemale:exp2 & -0.234031007 & -0.085007650\\\\\n",
       "\tfemale:exp3 &  0.025520220 &  0.051380937\\\\\n",
       "\\end{tabular}\n"
      ],
      "text/markdown": [
       "\n",
       "A matrix: 16 × 2 of type dbl\n",
       "\n",
       "| <!--/--> | 5 % | 95 % |\n",
       "|---|---|---|\n",
       "| female | -0.237433164 | -0.072413398 |\n",
       "| female:widowed | -0.013031271 |  0.285222239 |\n",
       "| female:divorced |  0.100453736 |  0.173425037 |\n",
       "| female:separated | -0.064222851 |  0.110828376 |\n",
       "| female:nevermarried |  0.154051166 |  0.219655800 |\n",
       "| female:hsd08 | -0.171076335 |  0.226696960 |\n",
       "| female:hsd911 | -0.204669525 | -0.034000554 |\n",
       "| female:hsg | -0.044509111 |  0.018729551 |\n",
       "| female:cg | -0.020005866 |  0.040282971 |\n",
       "| female:ad | -0.066331593 |  0.005404103 |\n",
       "| female:mw | -0.032631091 |  0.030504214 |\n",
       "| female:so | -0.040022474 |  0.023655789 |\n",
       "| female:we | -0.039045055 |  0.030592798 |\n",
       "| female:exp1 | -0.007901632 |  0.017772149 |\n",
       "| female:exp2 | -0.234031007 | -0.085007650 |\n",
       "| female:exp3 |  0.025520220 |  0.051380937 |\n",
       "\n"
      ],
      "text/plain": [
       "                    5 %          95 %        \n",
       "female              -0.237433164 -0.072413398\n",
       "female:widowed      -0.013031271  0.285222239\n",
       "female:divorced      0.100453736  0.173425037\n",
       "female:separated    -0.064222851  0.110828376\n",
       "female:nevermarried  0.154051166  0.219655800\n",
       "female:hsd08        -0.171076335  0.226696960\n",
       "female:hsd911       -0.204669525 -0.034000554\n",
       "female:hsg          -0.044509111  0.018729551\n",
       "female:cg           -0.020005866  0.040282971\n",
       "female:ad           -0.066331593  0.005404103\n",
       "female:mw           -0.032631091  0.030504214\n",
       "female:so           -0.040022474  0.023655789\n",
       "female:we           -0.039045055  0.030592798\n",
       "female:exp1         -0.007901632  0.017772149\n",
       "female:exp2         -0.234031007 -0.085007650\n",
       "female:exp3          0.025520220  0.051380937"
      ]
     },
     "metadata": {},
     "output_type": "display_data"
    },
    {
     "name": "stderr",
     "output_type": "stream",
     "text": [
      "Warning message:\n",
      "\"Ignoring unknown aesthetics: width, h\"\n"
     ]
    },
    {
     "data": {
      "image/png": "[encoded data removed]",
      "text/plain": [
       "plot without title"
      ]
     },
     "metadata": {
      "image/png": {
       "height": 420,
       "width": 420
      }
     },
     "output_type": "display_data"
    }
   ],
   "source": [
    "pointwise.CI <- confint(effects.female, level = 0.90)\n",
    "pointwise.CI\n",
    "plot(effects.female, level=0.90) # plot of the effects\n",
    "\n"
   ]
  },
  {
   "cell_type": "markdown",
   "metadata": {
    "papermill": {
     "duration": 0.01145,
     "end_time": "2021-02-28T17:18:48.920882",
     "exception": false,
     "start_time": "2021-02-28T17:18:48.909432",
     "status": "completed"
    },
    "tags": []
   },
   "source": [
    "Finally, we compare the pointwise confidence intervals to joint confidence intervals."
   ]
  },
  {
   "cell_type": "code",
   "execution_count": 130,
   "metadata": {},
   "outputs": [],
   "source": [
    "p = 16"
   ]
  },
  {
   "cell_type": "code",
   "execution_count": 132,
   "metadata": {},
   "outputs": [],
   "source": [
    "s = rnorm(p * n)"
   ]
  },
  {
   "cell_type": "code",
   "execution_count": null,
   "metadata": {},
   "outputs": [],
   "source": [
    "s"
   ]
  },
  {
   "cell_type": "code",
   "execution_count": null,
   "metadata": {
    "scrolled": true
   },
   "outputs": [],
   "source": [
    "matrix(s, n)"
   ]
  },
  {
   "cell_type": "code",
   "execution_count": 34,
   "metadata": {
    "scrolled": true
   },
   "outputs": [
    {
     "data": {
      "text/html": [
       "<style>\n",
       ".list-inline {list-style: none; margin:0; padding: 0}\n",
       ".list-inline>li {display: inline-block}\n",
       ".list-inline>li:not(:last-child)::after {content: \"\\00b7\"; padding: 0 .5ex}\n",
       "</style>\n",
       "<ol class=list-inline><li>29217</li><li>116</li></ol>\n"
      ],
      "text/latex": [
       "\\begin{enumerate*}\n",
       "\\item 29217\n",
       "\\item 116\n",
       "\\end{enumerate*}\n"
      ],
      "text/markdown": [
       "1. 29217\n",
       "2. 116\n",
       "\n",
       "\n"
      ],
      "text/plain": [
       "[1] 29217   116"
      ]
     },
     "metadata": {},
     "output_type": "display_data"
    }
   ],
   "source": [
    "dim(X)"
   ]
  },
  {
   "cell_type": "code",
   "execution_count": 200,
   "metadata": {},
   "outputs": [],
   "source": [
    "e = effects.female$residuals$e\n",
    "v = effects.female$residuals$v"
   ]
  },
  {
   "cell_type": "code",
   "execution_count": 201,
   "metadata": {},
   "outputs": [],
   "source": [
    "Ev = colMeans( v ^ 2 )"
   ]
  },
  {
   "cell_type": "code",
   "execution_count": 202,
   "metadata": {},
   "outputs": [
    {
     "name": "stdout",
     "output_type": "stream",
     "text": [
      "             female      female:widowed     female:divorced    female:separated \n",
      "       0.0045484685        0.0013881983        0.0231625176        0.0040301662 \n",
      "female:nevermarried        female:hsd08       female:hsd911          female:hsg \n",
      "       0.0286077694        0.0007805201        0.0042384882        0.0308804839 \n",
      "          female:cg           female:ad           female:mw           female:so \n",
      "       0.0339764320        0.0239969743        0.0309883321        0.0304619517 \n",
      "          female:we         female:exp1         female:exp2         female:exp3 \n",
      "       0.0254662378        0.1873626646        0.0055602499        0.1845098337 \n"
     ]
    }
   ],
   "source": [
    "print(Ev)"
   ]
  },
  {
   "cell_type": "code",
   "execution_count": 203,
   "metadata": {},
   "outputs": [],
   "source": [
    "ev <- e * v"
   ]
  },
  {
   "cell_type": "code",
   "execution_count": 204,
   "metadata": {},
   "outputs": [],
   "source": [
    "k = 16 "
   ]
  },
  {
   "cell_type": "code",
   "execution_count": 205,
   "metadata": {},
   "outputs": [],
   "source": [
    "B <- 500"
   ]
  },
  {
   "cell_type": "code",
   "execution_count": 206,
   "metadata": {},
   "outputs": [],
   "source": [
    "n <- 29217"
   ]
  },
  {
   "cell_type": "code",
   "execution_count": 207,
   "metadata": {
    "scrolled": true
   },
   "outputs": [],
   "source": [
    "#eigen( Omegahat/n )"
   ]
  },
  {
   "cell_type": "code",
   "execution_count": 208,
   "metadata": {},
   "outputs": [],
   "source": [
    "Ev2 <- colMeans(v^2)\n",
    "Omegahat <- matrix(NA, ncol = k, nrow = k)\n",
    "for (j in 1:k) {\n",
    "    for (l in 1:k) {\n",
    "        Omegahat[j, l] = Omegahat[l, j] = 1/(Ev2[j] * \n",
    "          Ev2[l]) * mean(ev[, j] * ev[, l])\n",
    "    }\n",
    "}\n",
    "var <- diag(Omegahat)\n",
    "\n",
    "sim <- vector(\"numeric\", length = B)\n",
    "for (i in 1:B) {\n",
    "    beta_i <- MASS::mvrnorm(mu = rep(0, k), Sigma = Omegahat/n)\n",
    "    sim[i] <- max(abs(beta_i/sqrt(var)))\n",
    "}"
   ]
  },
  {
   "cell_type": "code",
   "execution_count": 211,
   "metadata": {},
   "outputs": [
    {
     "data": {
      "text/html": [
       "<strong>90%:</strong> 0.0153418827915543"
      ],
      "text/latex": [
       "\\textbf{90\\textbackslash{}\\%:} 0.0153418827915543"
      ],
      "text/markdown": [
       "**90%:** 0.0153418827915543"
      ],
      "text/plain": [
       "       90% \n",
       "0.01534188 "
      ]
     },
     "metadata": {},
     "output_type": "display_data"
    }
   ],
   "source": [
    "quantile( sim, probs = 0.9)"
   ]
  },
  {
   "cell_type": "code",
   "execution_count": 150,
   "metadata": {},
   "outputs": [
    {
     "data": {
      "text/html": [
       "<style>\n",
       ".list-inline {list-style: none; margin:0; padding: 0}\n",
       ".list-inline>li {display: inline-block}\n",
       ".list-inline>li:not(:last-child)::after {content: \"\\00b7\"; padding: 0 .5ex}\n",
       "</style>\n",
       "<ol class=list-inline><li>4.79508165770943</li><li>1.47401422227195</li><li>1.84769007877083</li><li>7.36977913040049</li><li>2.02412606622085</li><li>4.55239365335238</li><li>9.67230881140152</li><li>-0.43630619039194</li><li>5.92904339522983</li><li>1.64369563717949</li><li>-3.31450488127824</li><li>-2.6612264425893</li><li>1.37841797530115</li><li>-1.93012584137239</li><li>9.19202191070699</li><li>-1.42650304014016</li></ol>\n"
      ],
      "text/latex": [
       "\\begin{enumerate*}\n",
       "\\item 4.79508165770943\n",
       "\\item 1.47401422227195\n",
       "\\item 1.84769007877083\n",
       "\\item 7.36977913040049\n",
       "\\item 2.02412606622085\n",
       "\\item 4.55239365335238\n",
       "\\item 9.67230881140152\n",
       "\\item -0.43630619039194\n",
       "\\item 5.92904339522983\n",
       "\\item 1.64369563717949\n",
       "\\item -3.31450488127824\n",
       "\\item -2.6612264425893\n",
       "\\item 1.37841797530115\n",
       "\\item -1.93012584137239\n",
       "\\item 9.19202191070699\n",
       "\\item -1.42650304014016\n",
       "\\end{enumerate*}\n"
      ],
      "text/markdown": [
       "1. 4.79508165770943\n",
       "2. 1.47401422227195\n",
       "3. 1.84769007877083\n",
       "4. 7.36977913040049\n",
       "5. 2.02412606622085\n",
       "6. 4.55239365335238\n",
       "7. 9.67230881140152\n",
       "8. -0.43630619039194\n",
       "9. 5.92904339522983\n",
       "10. 1.64369563717949\n",
       "11. -3.31450488127824\n",
       "12. -2.6612264425893\n",
       "13. 1.37841797530115\n",
       "14. -1.93012584137239\n",
       "15. 9.19202191070699\n",
       "16. -1.42650304014016\n",
       "\n",
       "\n"
      ],
      "text/plain": [
       " [1]  4.7950817  1.4740142  1.8476901  7.3697791  2.0241261  4.5523937\n",
       " [7]  9.6723088 -0.4363062  5.9290434  1.6436956 -3.3145049 -2.6612264\n",
       "[13]  1.3784180 -1.9301258  9.1920219 -1.4265030"
      ]
     },
     "metadata": {},
     "output_type": "display_data"
    }
   ],
   "source": [
    "MASS::mvrnorm(mu = rep(0, k), Sigma = Omegahat/n, n = 1 )"
   ]
  },
  {
   "cell_type": "code",
   "execution_count": 166,
   "metadata": {},
   "outputs": [
    {
     "data": {
      "text/html": [
       "<table class=\"dataframe\">\n",
       "<caption>A matrix: 16 × 16 of type dbl</caption>\n",
       "<tbody>\n",
       "\t<tr><td> 69.0011817</td><td>  1.69258124</td><td>-1.0495805</td><td>-0.98311835</td><td>-4.78035613</td><td>-11.5467259</td><td>-3.7447350</td><td>-4.99370329</td><td>-6.38342837</td><td>-5.77045481</td><td>-5.7455967992</td><td>-5.32329406</td><td>-6.05501822</td><td>-7.9648915117</td><td> 30.81513576</td><td>-4.31924226</td></tr>\n",
       "\t<tr><td>  1.6925812</td><td>258.77544131</td><td> 0.4258934</td><td> 0.46933319</td><td> 0.09547703</td><td>  0.2628873</td><td> 5.4035224</td><td> 0.35506149</td><td> 0.11084202</td><td>-0.83378724</td><td> 0.3848426276</td><td> 1.50122041</td><td> 0.19185396</td><td>-0.1060834643</td><td> -0.89470357</td><td> 0.25719767</td></tr>\n",
       "\t<tr><td> -1.0495805</td><td>  0.42589336</td><td>13.7316620</td><td> 1.28300312</td><td> 1.54732031</td><td> -2.1147520</td><td> 0.3386030</td><td>-0.15111407</td><td> 0.32402198</td><td> 0.47554247</td><td> 0.1906293589</td><td> 0.77846815</td><td> 0.38385000</td><td>-0.1690944537</td><td>  1.11870745</td><td>-0.21234254</td></tr>\n",
       "\t<tr><td> -0.9831184</td><td>  0.46933319</td><td> 1.2830031</td><td>69.71447662</td><td> 1.44610064</td><td> -1.4108493</td><td> 1.7847809</td><td> 0.38419920</td><td> 0.06979047</td><td>-0.02327326</td><td>-0.2374730294</td><td>-0.53884944</td><td> 0.39001579</td><td>-0.1299717478</td><td>  0.83265490</td><td>-0.29342746</td></tr>\n",
       "\t<tr><td> -4.7803561</td><td>  0.09547703</td><td> 1.5473203</td><td> 1.44610064</td><td>11.79576484</td><td>  0.6332743</td><td> 1.2607308</td><td> 0.74647137</td><td>-0.52879538</td><td>-0.05685906</td><td> 0.1031604014</td><td>-0.68698659</td><td>-0.61580101</td><td> 0.3778195278</td><td>  0.64636307</td><td> 0.16603865</td></tr>\n",
       "\t<tr><td>-11.5467259</td><td>  0.26288730</td><td>-2.1147520</td><td>-1.41084929</td><td> 0.63327431</td><td>575.5377319</td><td> 1.0323417</td><td> 2.94972719</td><td> 1.54937141</td><td> 1.23169032</td><td> 2.7584313641</td><td>-0.64442308</td><td>-0.90144590</td><td> 1.6417711182</td><td>-10.70362585</td><td> 2.04058116</td></tr>\n",
       "\t<tr><td> -3.7447350</td><td>  5.40352236</td><td> 0.3386030</td><td> 1.78478091</td><td> 1.26073083</td><td>  1.0323417</td><td>79.6766695</td><td> 4.75379568</td><td> 4.01488725</td><td> 3.84634333</td><td>-0.3407314040</td><td> 0.16517582</td><td>-0.41095459</td><td> 0.5260921135</td><td>  1.20284182</td><td>-0.21271711</td></tr>\n",
       "\t<tr><td> -4.9937033</td><td>  0.35506149</td><td>-0.1511141</td><td> 0.38419920</td><td> 0.74647137</td><td>  2.9497272</td><td> 4.7537957</td><td> 9.70765364</td><td> 4.20551026</td><td> 4.10298375</td><td> 0.0612715854</td><td>-0.23265543</td><td>-0.15369660</td><td> 0.2304618400</td><td> -0.26980905</td><td> 0.01700924</td></tr>\n",
       "\t<tr><td> -6.3834284</td><td>  0.11084202</td><td> 0.3240220</td><td> 0.06979047</td><td>-0.52879538</td><td>  1.5493714</td><td> 4.0148873</td><td> 4.20551026</td><td> 9.54874838</td><td> 4.60266740</td><td>-0.5347324729</td><td>-0.34980454</td><td>-0.03301887</td><td> 0.2726170590</td><td>  0.28934667</td><td>-0.08066227</td></tr>\n",
       "\t<tr><td> -5.7704548</td><td> -0.83378724</td><td> 0.4755425</td><td>-0.02327326</td><td>-0.05685906</td><td>  1.2316903</td><td> 3.8463433</td><td> 4.10298375</td><td> 4.60266740</td><td>15.19658021</td><td>-0.4539592278</td><td>-0.21666759</td><td> 0.58527767</td><td>-0.1217805242</td><td>  2.80798742</td><td>-0.44185533</td></tr>\n",
       "\t<tr><td> -5.7455968</td><td>  0.38484263</td><td> 0.1906294</td><td>-0.23747303</td><td> 0.10316040</td><td>  2.7584314</td><td>-0.3407314</td><td> 0.06127159</td><td>-0.53473247</td><td>-0.45395923</td><td>10.2328587565</td><td> 5.82327216</td><td> 5.82014157</td><td>-0.0002390817</td><td> -0.28954679</td><td> 0.07964122</td></tr>\n",
       "\t<tr><td> -5.3232941</td><td>  1.50122041</td><td> 0.7784682</td><td>-0.53884944</td><td>-0.68698659</td><td> -0.6444231</td><td> 0.1651758</td><td>-0.23265543</td><td>-0.34980454</td><td>-0.21666759</td><td> 5.8232721602</td><td>10.57633928</td><td> 5.82019887</td><td>-0.1181098962</td><td>  0.02689258</td><td>-0.02185863</td></tr>\n",
       "\t<tr><td> -6.0550182</td><td>  0.19185396</td><td> 0.3838500</td><td> 0.39001579</td><td>-0.61580101</td><td> -0.9014459</td><td>-0.4109546</td><td>-0.15369660</td><td>-0.03301887</td><td> 0.58527767</td><td> 5.8201415653</td><td> 5.82019887</td><td>13.40664800</td><td>-0.0836395646</td><td>  0.43344893</td><td>-0.08766802</td></tr>\n",
       "\t<tr><td> -7.9648915</td><td> -0.10608346</td><td>-0.1690945</td><td>-0.12997175</td><td> 0.37781953</td><td>  1.6417711</td><td> 0.5260921</td><td> 0.23046184</td><td> 0.27261706</td><td>-0.12178052</td><td>-0.0002390817</td><td>-0.11810990</td><td>-0.08363956</td><td> 1.6331177154</td><td> -7.45221044</td><td> 1.15896025</td></tr>\n",
       "\t<tr><td> 30.8151358</td><td> -0.89470357</td><td> 1.1187075</td><td> 0.83265490</td><td> 0.64636307</td><td>-10.7036259</td><td> 1.2028418</td><td>-0.26980905</td><td> 0.28934667</td><td> 2.80798742</td><td>-0.2895467853</td><td> 0.02689258</td><td> 0.43344893</td><td>-7.4522104410</td><td> 55.22796606</td><td>-8.94909838</td></tr>\n",
       "\t<tr><td> -4.3192423</td><td>  0.25719767</td><td>-0.2123425</td><td>-0.29342746</td><td> 0.16603865</td><td>  2.0405812</td><td>-0.2127171</td><td> 0.01700924</td><td>-0.08066227</td><td>-0.44185533</td><td> 0.0796412156</td><td>-0.02185863</td><td>-0.08766802</td><td> 1.1589602546</td><td> -8.94909838</td><td> 1.65946028</td></tr>\n",
       "</tbody>\n",
       "</table>\n"
      ],
      "text/latex": [
       "A matrix: 16 × 16 of type dbl\n",
       "\\begin{tabular}{llllllllllllllll}\n",
       "\t  69.0011817 &   1.69258124 & -1.0495805 & -0.98311835 & -4.78035613 & -11.5467259 & -3.7447350 & -4.99370329 & -6.38342837 & -5.77045481 & -5.7455967992 & -5.32329406 & -6.05501822 & -7.9648915117 &  30.81513576 & -4.31924226\\\\\n",
       "\t   1.6925812 & 258.77544131 &  0.4258934 &  0.46933319 &  0.09547703 &   0.2628873 &  5.4035224 &  0.35506149 &  0.11084202 & -0.83378724 &  0.3848426276 &  1.50122041 &  0.19185396 & -0.1060834643 &  -0.89470357 &  0.25719767\\\\\n",
       "\t  -1.0495805 &   0.42589336 & 13.7316620 &  1.28300312 &  1.54732031 &  -2.1147520 &  0.3386030 & -0.15111407 &  0.32402198 &  0.47554247 &  0.1906293589 &  0.77846815 &  0.38385000 & -0.1690944537 &   1.11870745 & -0.21234254\\\\\n",
       "\t  -0.9831184 &   0.46933319 &  1.2830031 & 69.71447662 &  1.44610064 &  -1.4108493 &  1.7847809 &  0.38419920 &  0.06979047 & -0.02327326 & -0.2374730294 & -0.53884944 &  0.39001579 & -0.1299717478 &   0.83265490 & -0.29342746\\\\\n",
       "\t  -4.7803561 &   0.09547703 &  1.5473203 &  1.44610064 & 11.79576484 &   0.6332743 &  1.2607308 &  0.74647137 & -0.52879538 & -0.05685906 &  0.1031604014 & -0.68698659 & -0.61580101 &  0.3778195278 &   0.64636307 &  0.16603865\\\\\n",
       "\t -11.5467259 &   0.26288730 & -2.1147520 & -1.41084929 &  0.63327431 & 575.5377319 &  1.0323417 &  2.94972719 &  1.54937141 &  1.23169032 &  2.7584313641 & -0.64442308 & -0.90144590 &  1.6417711182 & -10.70362585 &  2.04058116\\\\\n",
       "\t  -3.7447350 &   5.40352236 &  0.3386030 &  1.78478091 &  1.26073083 &   1.0323417 & 79.6766695 &  4.75379568 &  4.01488725 &  3.84634333 & -0.3407314040 &  0.16517582 & -0.41095459 &  0.5260921135 &   1.20284182 & -0.21271711\\\\\n",
       "\t  -4.9937033 &   0.35506149 & -0.1511141 &  0.38419920 &  0.74647137 &   2.9497272 &  4.7537957 &  9.70765364 &  4.20551026 &  4.10298375 &  0.0612715854 & -0.23265543 & -0.15369660 &  0.2304618400 &  -0.26980905 &  0.01700924\\\\\n",
       "\t  -6.3834284 &   0.11084202 &  0.3240220 &  0.06979047 & -0.52879538 &   1.5493714 &  4.0148873 &  4.20551026 &  9.54874838 &  4.60266740 & -0.5347324729 & -0.34980454 & -0.03301887 &  0.2726170590 &   0.28934667 & -0.08066227\\\\\n",
       "\t  -5.7704548 &  -0.83378724 &  0.4755425 & -0.02327326 & -0.05685906 &   1.2316903 &  3.8463433 &  4.10298375 &  4.60266740 & 15.19658021 & -0.4539592278 & -0.21666759 &  0.58527767 & -0.1217805242 &   2.80798742 & -0.44185533\\\\\n",
       "\t  -5.7455968 &   0.38484263 &  0.1906294 & -0.23747303 &  0.10316040 &   2.7584314 & -0.3407314 &  0.06127159 & -0.53473247 & -0.45395923 & 10.2328587565 &  5.82327216 &  5.82014157 & -0.0002390817 &  -0.28954679 &  0.07964122\\\\\n",
       "\t  -5.3232941 &   1.50122041 &  0.7784682 & -0.53884944 & -0.68698659 &  -0.6444231 &  0.1651758 & -0.23265543 & -0.34980454 & -0.21666759 &  5.8232721602 & 10.57633928 &  5.82019887 & -0.1181098962 &   0.02689258 & -0.02185863\\\\\n",
       "\t  -6.0550182 &   0.19185396 &  0.3838500 &  0.39001579 & -0.61580101 &  -0.9014459 & -0.4109546 & -0.15369660 & -0.03301887 &  0.58527767 &  5.8201415653 &  5.82019887 & 13.40664800 & -0.0836395646 &   0.43344893 & -0.08766802\\\\\n",
       "\t  -7.9648915 &  -0.10608346 & -0.1690945 & -0.12997175 &  0.37781953 &   1.6417711 &  0.5260921 &  0.23046184 &  0.27261706 & -0.12178052 & -0.0002390817 & -0.11810990 & -0.08363956 &  1.6331177154 &  -7.45221044 &  1.15896025\\\\\n",
       "\t  30.8151358 &  -0.89470357 &  1.1187075 &  0.83265490 &  0.64636307 & -10.7036259 &  1.2028418 & -0.26980905 &  0.28934667 &  2.80798742 & -0.2895467853 &  0.02689258 &  0.43344893 & -7.4522104410 &  55.22796606 & -8.94909838\\\\\n",
       "\t  -4.3192423 &   0.25719767 & -0.2123425 & -0.29342746 &  0.16603865 &   2.0405812 & -0.2127171 &  0.01700924 & -0.08066227 & -0.44185533 &  0.0796412156 & -0.02185863 & -0.08766802 &  1.1589602546 &  -8.94909838 &  1.65946028\\\\\n",
       "\\end{tabular}\n"
      ],
      "text/markdown": [
       "\n",
       "A matrix: 16 × 16 of type dbl\n",
       "\n",
       "|  69.0011817 |   1.69258124 | -1.0495805 | -0.98311835 | -4.78035613 | -11.5467259 | -3.7447350 | -4.99370329 | -6.38342837 | -5.77045481 | -5.7455967992 | -5.32329406 | -6.05501822 | -7.9648915117 |  30.81513576 | -4.31924226 |\n",
       "|   1.6925812 | 258.77544131 |  0.4258934 |  0.46933319 |  0.09547703 |   0.2628873 |  5.4035224 |  0.35506149 |  0.11084202 | -0.83378724 |  0.3848426276 |  1.50122041 |  0.19185396 | -0.1060834643 |  -0.89470357 |  0.25719767 |\n",
       "|  -1.0495805 |   0.42589336 | 13.7316620 |  1.28300312 |  1.54732031 |  -2.1147520 |  0.3386030 | -0.15111407 |  0.32402198 |  0.47554247 |  0.1906293589 |  0.77846815 |  0.38385000 | -0.1690944537 |   1.11870745 | -0.21234254 |\n",
       "|  -0.9831184 |   0.46933319 |  1.2830031 | 69.71447662 |  1.44610064 |  -1.4108493 |  1.7847809 |  0.38419920 |  0.06979047 | -0.02327326 | -0.2374730294 | -0.53884944 |  0.39001579 | -0.1299717478 |   0.83265490 | -0.29342746 |\n",
       "|  -4.7803561 |   0.09547703 |  1.5473203 |  1.44610064 | 11.79576484 |   0.6332743 |  1.2607308 |  0.74647137 | -0.52879538 | -0.05685906 |  0.1031604014 | -0.68698659 | -0.61580101 |  0.3778195278 |   0.64636307 |  0.16603865 |\n",
       "| -11.5467259 |   0.26288730 | -2.1147520 | -1.41084929 |  0.63327431 | 575.5377319 |  1.0323417 |  2.94972719 |  1.54937141 |  1.23169032 |  2.7584313641 | -0.64442308 | -0.90144590 |  1.6417711182 | -10.70362585 |  2.04058116 |\n",
       "|  -3.7447350 |   5.40352236 |  0.3386030 |  1.78478091 |  1.26073083 |   1.0323417 | 79.6766695 |  4.75379568 |  4.01488725 |  3.84634333 | -0.3407314040 |  0.16517582 | -0.41095459 |  0.5260921135 |   1.20284182 | -0.21271711 |\n",
       "|  -4.9937033 |   0.35506149 | -0.1511141 |  0.38419920 |  0.74647137 |   2.9497272 |  4.7537957 |  9.70765364 |  4.20551026 |  4.10298375 |  0.0612715854 | -0.23265543 | -0.15369660 |  0.2304618400 |  -0.26980905 |  0.01700924 |\n",
       "|  -6.3834284 |   0.11084202 |  0.3240220 |  0.06979047 | -0.52879538 |   1.5493714 |  4.0148873 |  4.20551026 |  9.54874838 |  4.60266740 | -0.5347324729 | -0.34980454 | -0.03301887 |  0.2726170590 |   0.28934667 | -0.08066227 |\n",
       "|  -5.7704548 |  -0.83378724 |  0.4755425 | -0.02327326 | -0.05685906 |   1.2316903 |  3.8463433 |  4.10298375 |  4.60266740 | 15.19658021 | -0.4539592278 | -0.21666759 |  0.58527767 | -0.1217805242 |   2.80798742 | -0.44185533 |\n",
       "|  -5.7455968 |   0.38484263 |  0.1906294 | -0.23747303 |  0.10316040 |   2.7584314 | -0.3407314 |  0.06127159 | -0.53473247 | -0.45395923 | 10.2328587565 |  5.82327216 |  5.82014157 | -0.0002390817 |  -0.28954679 |  0.07964122 |\n",
       "|  -5.3232941 |   1.50122041 |  0.7784682 | -0.53884944 | -0.68698659 |  -0.6444231 |  0.1651758 | -0.23265543 | -0.34980454 | -0.21666759 |  5.8232721602 | 10.57633928 |  5.82019887 | -0.1181098962 |   0.02689258 | -0.02185863 |\n",
       "|  -6.0550182 |   0.19185396 |  0.3838500 |  0.39001579 | -0.61580101 |  -0.9014459 | -0.4109546 | -0.15369660 | -0.03301887 |  0.58527767 |  5.8201415653 |  5.82019887 | 13.40664800 | -0.0836395646 |   0.43344893 | -0.08766802 |\n",
       "|  -7.9648915 |  -0.10608346 | -0.1690945 | -0.12997175 |  0.37781953 |   1.6417711 |  0.5260921 |  0.23046184 |  0.27261706 | -0.12178052 | -0.0002390817 | -0.11810990 | -0.08363956 |  1.6331177154 |  -7.45221044 |  1.15896025 |\n",
       "|  30.8151358 |  -0.89470357 |  1.1187075 |  0.83265490 |  0.64636307 | -10.7036259 |  1.2028418 | -0.26980905 |  0.28934667 |  2.80798742 | -0.2895467853 |  0.02689258 |  0.43344893 | -7.4522104410 |  55.22796606 | -8.94909838 |\n",
       "|  -4.3192423 |   0.25719767 | -0.2123425 | -0.29342746 |  0.16603865 |   2.0405812 | -0.2127171 |  0.01700924 | -0.08066227 | -0.44185533 |  0.0796412156 | -0.02185863 | -0.08766802 |  1.1589602546 |  -8.94909838 |  1.65946028 |\n",
       "\n"
      ],
      "text/plain": [
       "      [,1]        [,2]         [,3]       [,4]        [,5]        [,6]       \n",
       " [1,]  69.0011817   1.69258124 -1.0495805 -0.98311835 -4.78035613 -11.5467259\n",
       " [2,]   1.6925812 258.77544131  0.4258934  0.46933319  0.09547703   0.2628873\n",
       " [3,]  -1.0495805   0.42589336 13.7316620  1.28300312  1.54732031  -2.1147520\n",
       " [4,]  -0.9831184   0.46933319  1.2830031 69.71447662  1.44610064  -1.4108493\n",
       " [5,]  -4.7803561   0.09547703  1.5473203  1.44610064 11.79576484   0.6332743\n",
       " [6,] -11.5467259   0.26288730 -2.1147520 -1.41084929  0.63327431 575.5377319\n",
       " [7,]  -3.7447350   5.40352236  0.3386030  1.78478091  1.26073083   1.0323417\n",
       " [8,]  -4.9937033   0.35506149 -0.1511141  0.38419920  0.74647137   2.9497272\n",
       " [9,]  -6.3834284   0.11084202  0.3240220  0.06979047 -0.52879538   1.5493714\n",
       "[10,]  -5.7704548  -0.83378724  0.4755425 -0.02327326 -0.05685906   1.2316903\n",
       "[11,]  -5.7455968   0.38484263  0.1906294 -0.23747303  0.10316040   2.7584314\n",
       "[12,]  -5.3232941   1.50122041  0.7784682 -0.53884944 -0.68698659  -0.6444231\n",
       "[13,]  -6.0550182   0.19185396  0.3838500  0.39001579 -0.61580101  -0.9014459\n",
       "[14,]  -7.9648915  -0.10608346 -0.1690945 -0.12997175  0.37781953   1.6417711\n",
       "[15,]  30.8151358  -0.89470357  1.1187075  0.83265490  0.64636307 -10.7036259\n",
       "[16,]  -4.3192423   0.25719767 -0.2123425 -0.29342746  0.16603865   2.0405812\n",
       "      [,7]       [,8]        [,9]        [,10]       [,11]         [,12]      \n",
       " [1,] -3.7447350 -4.99370329 -6.38342837 -5.77045481 -5.7455967992 -5.32329406\n",
       " [2,]  5.4035224  0.35506149  0.11084202 -0.83378724  0.3848426276  1.50122041\n",
       " [3,]  0.3386030 -0.15111407  0.32402198  0.47554247  0.1906293589  0.77846815\n",
       " [4,]  1.7847809  0.38419920  0.06979047 -0.02327326 -0.2374730294 -0.53884944\n",
       " [5,]  1.2607308  0.74647137 -0.52879538 -0.05685906  0.1031604014 -0.68698659\n",
       " [6,]  1.0323417  2.94972719  1.54937141  1.23169032  2.7584313641 -0.64442308\n",
       " [7,] 79.6766695  4.75379568  4.01488725  3.84634333 -0.3407314040  0.16517582\n",
       " [8,]  4.7537957  9.70765364  4.20551026  4.10298375  0.0612715854 -0.23265543\n",
       " [9,]  4.0148873  4.20551026  9.54874838  4.60266740 -0.5347324729 -0.34980454\n",
       "[10,]  3.8463433  4.10298375  4.60266740 15.19658021 -0.4539592278 -0.21666759\n",
       "[11,] -0.3407314  0.06127159 -0.53473247 -0.45395923 10.2328587565  5.82327216\n",
       "[12,]  0.1651758 -0.23265543 -0.34980454 -0.21666759  5.8232721602 10.57633928\n",
       "[13,] -0.4109546 -0.15369660 -0.03301887  0.58527767  5.8201415653  5.82019887\n",
       "[14,]  0.5260921  0.23046184  0.27261706 -0.12178052 -0.0002390817 -0.11810990\n",
       "[15,]  1.2028418 -0.26980905  0.28934667  2.80798742 -0.2895467853  0.02689258\n",
       "[16,] -0.2127171  0.01700924 -0.08066227 -0.44185533  0.0796412156 -0.02185863\n",
       "      [,13]       [,14]         [,15]        [,16]      \n",
       " [1,] -6.05501822 -7.9648915117  30.81513576 -4.31924226\n",
       " [2,]  0.19185396 -0.1060834643  -0.89470357  0.25719767\n",
       " [3,]  0.38385000 -0.1690944537   1.11870745 -0.21234254\n",
       " [4,]  0.39001579 -0.1299717478   0.83265490 -0.29342746\n",
       " [5,] -0.61580101  0.3778195278   0.64636307  0.16603865\n",
       " [6,] -0.90144590  1.6417711182 -10.70362585  2.04058116\n",
       " [7,] -0.41095459  0.5260921135   1.20284182 -0.21271711\n",
       " [8,] -0.15369660  0.2304618400  -0.26980905  0.01700924\n",
       " [9,] -0.03301887  0.2726170590   0.28934667 -0.08066227\n",
       "[10,]  0.58527767 -0.1217805242   2.80798742 -0.44185533\n",
       "[11,]  5.82014157 -0.0002390817  -0.28954679  0.07964122\n",
       "[12,]  5.82019887 -0.1181098962   0.02689258 -0.02185863\n",
       "[13,] 13.40664800 -0.0836395646   0.43344893 -0.08766802\n",
       "[14,] -0.08363956  1.6331177154  -7.45221044  1.15896025\n",
       "[15,]  0.43344893 -7.4522104410  55.22796606 -8.94909838\n",
       "[16,] -0.08766802  1.1589602546  -8.94909838  1.65946028"
      ]
     },
     "metadata": {},
     "output_type": "display_data"
    }
   ],
   "source": [
    "Omegahat/n"
   ]
  },
  {
   "cell_type": "code",
   "execution_count": 74,
   "metadata": {},
   "outputs": [
    {
     "data": {
      "text/html": [
       "<style>\n",
       ".dl-inline {width: auto; margin:0; padding: 0}\n",
       ".dl-inline>dt, .dl-inline>dd {float: none; width: auto; display: inline-block}\n",
       ".dl-inline>dt::after {content: \":\\0020\"; padding-right: .5ex}\n",
       ".dl-inline>dt:not(:first-of-type) {padding-left: .5ex}\n",
       "</style><dl class=dl-inline><dt>female</dt><dd>0.00454846847829984</dd><dt>female:widowed</dt><dd>0.00277639659097662</dd><dt>female:divorced</dt><dd>0.0926500702539721</dd><dt>female:separated</dt><dd>0.0241809973488524</dd><dt>female:nevermarried</dt><dd>0.228862155034235</dd><dt>female:hsd08</dt><dd>0.00780520110711463</dd><dt>female:hsd911</dt><dd>0.0508618578230414</dd><dt>female:hsg</dt><dd>0.432326774191891</dd><dt>female:cg</dt><dd>0.475670047608456</dd><dt>female:ad</dt><dd>0.239969743365201</dd><dt>female:mw</dt><dd>0.309883321394018</dd><dt>female:so</dt><dd>0.3046195173404</dd><dt>female:we</dt><dd>0.254662377839497</dd><dt>female:exp1</dt><dd>1.87362664626016</dd><dt>female:exp2</dt><dd>0.0556024992865376</dd><dt>female:exp3</dt><dd>1.84509833732331</dd></dl>\n"
      ],
      "text/latex": [
       "\\begin{description*}\n",
       "\\item[female] 0.00454846847829984\n",
       "\\item[female:widowed] 0.00277639659097662\n",
       "\\item[female:divorced] 0.0926500702539721\n",
       "\\item[female:separated] 0.0241809973488524\n",
       "\\item[female:nevermarried] 0.228862155034235\n",
       "\\item[female:hsd08] 0.00780520110711463\n",
       "\\item[female:hsd911] 0.0508618578230414\n",
       "\\item[female:hsg] 0.432326774191891\n",
       "\\item[female:cg] 0.475670047608456\n",
       "\\item[female:ad] 0.239969743365201\n",
       "\\item[female:mw] 0.309883321394018\n",
       "\\item[female:so] 0.3046195173404\n",
       "\\item[female:we] 0.254662377839497\n",
       "\\item[female:exp1] 1.87362664626016\n",
       "\\item[female:exp2] 0.0556024992865376\n",
       "\\item[female:exp3] 1.84509833732331\n",
       "\\end{description*}\n"
      ],
      "text/markdown": [
       "female\n",
       ":   0.00454846847829984female:widowed\n",
       ":   0.00277639659097662female:divorced\n",
       ":   0.0926500702539721female:separated\n",
       ":   0.0241809973488524female:nevermarried\n",
       ":   0.228862155034235female:hsd08\n",
       ":   0.00780520110711463female:hsd911\n",
       ":   0.0508618578230414female:hsg\n",
       ":   0.432326774191891female:cg\n",
       ":   0.475670047608456female:ad\n",
       ":   0.239969743365201female:mw\n",
       ":   0.309883321394018female:so\n",
       ":   0.3046195173404female:we\n",
       ":   0.254662377839497female:exp1\n",
       ":   1.87362664626016female:exp2\n",
       ":   0.0556024992865376female:exp3\n",
       ":   1.84509833732331\n",
       "\n"
      ],
      "text/plain": [
       "             female      female:widowed     female:divorced    female:separated \n",
       "        0.004548468         0.002776397         0.092650070         0.024180997 \n",
       "female:nevermarried        female:hsd08       female:hsd911          female:hsg \n",
       "        0.228862155         0.007805201         0.050861858         0.432326774 \n",
       "          female:cg           female:ad           female:mw           female:so \n",
       "        0.475670048         0.239969743         0.309883321         0.304619517 \n",
       "          female:we         female:exp1         female:exp2         female:exp3 \n",
       "        0.254662378         1.873626646         0.055602499         1.845098337 "
      ]
     },
     "metadata": {},
     "output_type": "display_data"
    }
   ],
   "source": [
    "EV * c( 1 , 2, 4, 6, 8, 10, 12 , 14, 14, 10, 10, 10 , 10, 10, 10 , 10 )"
   ]
  },
  {
   "cell_type": "code",
   "execution_count": 136,
   "metadata": {},
   "outputs": [],
   "source": [
    "mu = rep(0, k)"
   ]
  },
  {
   "cell_type": "code",
   "execution_count": 167,
   "metadata": {},
   "outputs": [
    {
     "data": {
      "text/plain": [
       "A single object matching 'confint.rlassoEffects' was found\n",
       "It was found in the following places\n",
       "  registered S3 method for confint from namespace hdm\n",
       "  namespace:hdm\n",
       "with value\n",
       "\n",
       "function (object, parm, level = 0.95, joint = FALSE, ...) \n",
       "{\n",
       "    B <- 500\n",
       "    n <- object$samplesize\n",
       "    k <- p1 <- length(object$coefficients)\n",
       "    cf <- coef(object)\n",
       "    pnames <- names(cf)\n",
       "    if (missing(parm)) \n",
       "        parm <- pnames\n",
       "    else if (is.numeric(parm)) \n",
       "        parm <- pnames[parm]\n",
       "    if (!joint) {\n",
       "        a <- (1 - level)/2\n",
       "        a <- c(a, 1 - a)\n",
       "        fac <- qnorm(a)\n",
       "        pct <- format.perc(a, 3)\n",
       "        ci <- array(NA, dim = c(length(parm), 2L), dimnames = list(parm, \n",
       "            pct))\n",
       "        ses <- object$se[parm]\n",
       "        ci[] <- cf[parm] + ses %o% fac\n",
       "    }\n",
       "    if (joint) {\n",
       "        e <- object$residuals$e\n",
       "        v <- object$residuals$v\n",
       "        ev <- e * v\n",
       "        Ev2 <- colMeans(v^2)\n",
       "        Omegahat <- matrix(NA, ncol = k, nrow = k)\n",
       "        for (j in 1:k) {\n",
       "            for (l in 1:k) {\n",
       "                Omegahat[j, l] = Omegahat[l, j] = 1/(Ev2[j] * \n",
       "                  Ev2[l]) * mean(ev[, j] * ev[, l])\n",
       "            }\n",
       "        }\n",
       "        var <- diag(Omegahat)\n",
       "        names(var) <- names(cf)\n",
       "        sim <- vector(\"numeric\", length = B)\n",
       "        for (i in 1:B) {\n",
       "            beta_i <- MASS::mvrnorm(mu = rep(0, k), Sigma = Omegahat/n)\n",
       "            sim[i] <- max(abs(beta_i/sqrt(var)))\n",
       "        }\n",
       "        a <- (1 - level)\n",
       "        ab <- c(a/2, 1 - a/2)\n",
       "        pct <- format.perc(ab, 3)\n",
       "        ci <- array(NA, dim = c(length(parm), 2L), dimnames = list(parm, \n",
       "            pct))\n",
       "        hatc <- quantile(sim, probs = 1 - a)\n",
       "        ci[, 1] <- cf[parm] - hatc * sqrt(var[parm])\n",
       "        ci[, 2] <- cf[parm] + hatc * sqrt(var[parm])\n",
       "    }\n",
       "    return(ci)\n",
       "}\n",
       "<bytecode: 0x00000000165d1850>\n",
       "<environment: namespace:hdm>"
      ]
     },
     "metadata": {},
     "output_type": "display_data"
    }
   ],
   "source": [
    "getAnywhere( confint.rlassoEffects )"
   ]
  },
  {
   "cell_type": "code",
   "execution_count": 215,
   "metadata": {},
   "outputs": [],
   "source": [
    "Omegahat[l, j] = 1/(Ev2[1] * \n",
    "                  Ev2[2]) * mean(ev[, 2] * ev[, 1])"
   ]
  },
  {
   "cell_type": "code",
   "execution_count": 223,
   "metadata": {},
   "outputs": [
    {
     "data": {
      "text/html": [
       "1.06872561412509e-05"
      ],
      "text/latex": [
       "1.06872561412509e-05"
      ],
      "text/markdown": [
       "1.06872561412509e-05"
      ],
      "text/plain": [
       "[1] 1.068726e-05"
      ]
     },
     "metadata": {},
     "output_type": "display_data"
    }
   ],
   "source": [
    "mean(ev[, 1] * ev[,2])"
   ]
  },
  {
   "cell_type": "code",
   "execution_count": 219,
   "metadata": {},
   "outputs": [
    {
     "data": {
      "text/html": [
       "<style>\n",
       ".list-inline {list-style: none; margin:0; padding: 0}\n",
       ".list-inline>li {display: inline-block}\n",
       ".list-inline>li:not(:last-child)::after {content: \"\\00b7\"; padding: 0 .5ex}\n",
       "</style>\n",
       "<ol class=list-inline><li>1.4375</li><li>0.766666666666667</li></ol>\n"
      ],
      "text/latex": [
       "\\begin{enumerate*}\n",
       "\\item 1.4375\n",
       "\\item 0.766666666666667\n",
       "\\end{enumerate*}\n"
      ],
      "text/markdown": [
       "1. 1.4375\n",
       "2. 0.766666666666667\n",
       "\n",
       "\n"
      ],
      "text/plain": [
       "[1] 1.4375000 0.7666667"
      ]
     },
     "metadata": {},
     "output_type": "display_data"
    }
   ],
   "source": [
    "1/(c(2,3) * c(4,5)) * mean( c(2,3) * c(4,5) )"
   ]
  },
  {
   "cell_type": "code",
   "execution_count": 216,
   "metadata": {},
   "outputs": [
    {
     "data": {
      "text/html": [
       "<strong>female:</strong> 1.69258123655907"
      ],
      "text/latex": [
       "\\textbf{female:} 1.69258123655907"
      ],
      "text/markdown": [
       "**female:** 1.69258123655907"
      ],
      "text/plain": [
       "  female \n",
       "1.692581 "
      ]
     },
     "metadata": {},
     "output_type": "display_data"
    }
   ],
   "source": [
    "1/(Ev2[1] * Ev2[2]) * mean(ev[, 2] * ev[, 1])"
   ]
  },
  {
   "cell_type": "code",
   "execution_count": 213,
   "metadata": {},
   "outputs": [
    {
     "data": {
      "text/html": [
       "<strong>90%:</strong> 0.0153418827915543"
      ],
      "text/latex": [
       "\\textbf{90\\textbackslash{}\\%:} 0.0153418827915543"
      ],
      "text/markdown": [
       "**90%:** 0.0153418827915543"
      ],
      "text/plain": [
       "       90% \n",
       "0.01534188 "
      ]
     },
     "metadata": {},
     "output_type": "display_data"
    }
   ],
   "source": [
    "quantile( sim, probs = 0.9)"
   ]
  },
  {
   "cell_type": "code",
   "execution_count": 197,
   "metadata": {},
   "outputs": [
    {
     "data": {
      "text/html": [
       "'34.55345 %'"
      ],
      "text/latex": [
       "'34.55345 \\%'"
      ],
      "text/markdown": [
       "'34.55345 %'"
      ],
      "text/plain": [
       "[1] \"34.55345 %\""
      ]
     },
     "metadata": {},
     "output_type": "display_data"
    }
   ],
   "source": [
    "stats:::format.perc( 0.345534534, 7)"
   ]
  },
  {
   "cell_type": "code",
   "execution_count": 156,
   "metadata": {},
   "outputs": [
    {
     "data": {
      "text/plain": [
       "A single object matching 'mvrnorm' was found\n",
       "It was found in the following places\n",
       "  namespace:MASS\n",
       "with value\n",
       "\n",
       "function (n = 1, mu, Sigma, tol = 1e-06, empirical = FALSE, EISPACK = FALSE) \n",
       "{\n",
       "    p <- length(mu)\n",
       "    if (!all(dim(Sigma) == c(p, p))) \n",
       "        stop(\"incompatible arguments\")\n",
       "    if (EISPACK) \n",
       "        stop(\"'EISPACK' is no longer supported by R\", domain = NA)\n",
       "    eS <- eigen(Sigma, symmetric = TRUE)\n",
       "    ev <- eS$values\n",
       "    if (!all(ev >= -tol * abs(ev[1L]))) \n",
       "        stop(\"'Sigma' is not positive definite\")\n",
       "    X <- matrix(rnorm(p * n), n)\n",
       "    if (empirical) {\n",
       "        X <- scale(X, TRUE, FALSE)\n",
       "        X <- X %*% svd(X, nu = 0)$v\n",
       "        X <- scale(X, FALSE, TRUE)\n",
       "    }\n",
       "    X <- drop(mu) + eS$vectors %*% diag(sqrt(pmax(ev, 0)), p) %*% \n",
       "        t(X)\n",
       "    nm <- names(mu)\n",
       "    if (is.null(nm) && !is.null(dn <- dimnames(Sigma))) \n",
       "        nm <- dn[[1L]]\n",
       "    dimnames(X) <- list(nm, NULL)\n",
       "    if (n == 1) \n",
       "        drop(X)\n",
       "    else t(X)\n",
       "}\n",
       "<bytecode: 0x00000000296fd7a0>\n",
       "<environment: namespace:MASS>"
      ]
     },
     "metadata": {},
     "output_type": "display_data"
    }
   ],
   "source": [
    "getAnywhere( mvrnorm )"
   ]
  },
  {
   "cell_type": "code",
   "execution_count": 158,
   "metadata": {},
   "outputs": [],
   "source": [
    "X <- matrix(rnorm(p * n), n)"
   ]
  },
  {
   "cell_type": "code",
   "execution_count": null,
   "metadata": {},
   "outputs": [],
   "source": [
    "t(X)"
   ]
  },
  {
   "cell_type": "code",
   "execution_count": 157,
   "metadata": {},
   "outputs": [],
   "source": [
    "ev = eigen(Omegahat/n, symmetric = TRUE)$values\n",
    "evc = eigen(Omegahat/n, symmetric = TRUE)$vectors"
   ]
  },
  {
   "cell_type": "code",
   "execution_count": null,
   "metadata": {},
   "outputs": [],
   "source": [
    "diag(sqrt(pmax(ev, 0)), p) %*% t(X)"
   ]
  },
  {
   "cell_type": "code",
   "execution_count": null,
   "metadata": {},
   "outputs": [],
   "source": [
    "drop(rep(0, k)) + evc %*% diag(sqrt(pmax(ev, 0)), p) %*% t(X)"
   ]
  },
  {
   "cell_type": "code",
   "execution_count": null,
   "metadata": {},
   "outputs": [],
   "source": [
    "n = 1"
   ]
  },
  {
   "cell_type": "code",
   "execution_count": null,
   "metadata": {},
   "outputs": [],
   "source": [
    "eS$vectors"
   ]
  },
  {
   "cell_type": "code",
   "execution_count": 145,
   "metadata": {},
   "outputs": [
    {
     "data": {
      "text/html": [
       "<style>\n",
       ".list-inline {list-style: none; margin:0; padding: 0}\n",
       ".list-inline>li {display: inline-block}\n",
       ".list-inline>li:not(:last-child)::after {content: \"\\00b7\"; padding: 0 .5ex}\n",
       "</style>\n",
       "<ol class=list-inline><li>1</li><li>16</li></ol>\n"
      ],
      "text/latex": [
       "\\begin{enumerate*}\n",
       "\\item 1\n",
       "\\item 16\n",
       "\\end{enumerate*}\n"
      ],
      "text/markdown": [
       "1. 1\n",
       "2. 16\n",
       "\n",
       "\n"
      ],
      "text/plain": [
       "[1]  1 16"
      ]
     },
     "metadata": {},
     "output_type": "display_data"
    }
   ],
   "source": [
    "dim(matrix(rnorm(p * n), n))"
   ]
  },
  {
   "cell_type": "code",
   "execution_count": null,
   "metadata": {
    "scrolled": true
   },
   "outputs": [],
   "source": [
    "mvrnorm(mu = rep( 0 , k ) , Sigma = Omegahat/n )"
   ]
  },
  {
   "cell_type": "code",
   "execution_count": 214,
   "metadata": {},
   "outputs": [
    {
     "data": {
      "text/html": [
       "<table class=\"dataframe\">\n",
       "<caption>A matrix: 16 × 4 of type dbl</caption>\n",
       "<thead>\n",
       "\t<tr><th></th><th scope=col>Estimate.</th><th scope=col>Std. Error</th><th scope=col>t value</th><th scope=col>Pr(&gt;|t|)</th></tr>\n",
       "</thead>\n",
       "<tbody>\n",
       "\t<tr><th scope=row>female</th><td>-0.154923281</td><td>0.050162447</td><td>-3.08843149</td><td>2.012161e-03</td></tr>\n",
       "\t<tr><th scope=row>female:widowed</th><td> 0.136095484</td><td>0.090662629</td><td> 1.50111997</td><td>1.333245e-01</td></tr>\n",
       "\t<tr><th scope=row>female:divorced</th><td> 0.136939386</td><td>0.022181700</td><td> 6.17352970</td><td>6.678200e-10</td></tr>\n",
       "\t<tr><th scope=row>female:separated</th><td> 0.023302763</td><td>0.053211795</td><td> 0.43792476</td><td>6.614408e-01</td></tr>\n",
       "\t<tr><th scope=row>female:nevermarried</th><td> 0.186853483</td><td>0.019942393</td><td> 9.36966209</td><td>7.276511e-21</td></tr>\n",
       "\t<tr><th scope=row>female:hsd08</th><td> 0.027810312</td><td>0.120914496</td><td> 0.22999982</td><td>8.180919e-01</td></tr>\n",
       "\t<tr><th scope=row>female:hsd911</th><td>-0.119335040</td><td>0.051879684</td><td>-2.30022682</td><td>2.143537e-02</td></tr>\n",
       "\t<tr><th scope=row>female:hsg</th><td>-0.012889780</td><td>0.019223188</td><td>-0.67053290</td><td>5.025181e-01</td></tr>\n",
       "\t<tr><th scope=row>female:cg</th><td> 0.010138553</td><td>0.018326505</td><td> 0.55321800</td><td>5.801141e-01</td></tr>\n",
       "\t<tr><th scope=row>female:ad</th><td>-0.030463745</td><td>0.021806103</td><td>-1.39702838</td><td>1.624050e-01</td></tr>\n",
       "\t<tr><th scope=row>female:mw</th><td>-0.001063439</td><td>0.019191770</td><td>-0.05541119</td><td>9.558109e-01</td></tr>\n",
       "\t<tr><th scope=row>female:so</th><td>-0.008183343</td><td>0.019356818</td><td>-0.42276282</td><td>6.724683e-01</td></tr>\n",
       "\t<tr><th scope=row>female:we</th><td>-0.004226129</td><td>0.021168404</td><td>-0.19964324</td><td>8.417596e-01</td></tr>\n",
       "\t<tr><th scope=row>female:exp1</th><td> 0.004935259</td><td>0.007804275</td><td> 0.63237886</td><td>5.271393e-01</td></tr>\n",
       "\t<tr><th scope=row>female:exp2</th><td>-0.159519328</td><td>0.045299884</td><td>-3.52140699</td><td>4.292632e-04</td></tr>\n",
       "\t<tr><th scope=row>female:exp3</th><td> 0.038450579</td><td>0.007861100</td><td> 4.89124680</td><td>1.001992e-06</td></tr>\n",
       "</tbody>\n",
       "</table>\n"
      ],
      "text/latex": [
       "A matrix: 16 × 4 of type dbl\n",
       "\\begin{tabular}{r|llll}\n",
       "  & Estimate. & Std. Error & t value & Pr(>\\textbar{}t\\textbar{})\\\\\n",
       "\\hline\n",
       "\tfemale & -0.154923281 & 0.050162447 & -3.08843149 & 2.012161e-03\\\\\n",
       "\tfemale:widowed &  0.136095484 & 0.090662629 &  1.50111997 & 1.333245e-01\\\\\n",
       "\tfemale:divorced &  0.136939386 & 0.022181700 &  6.17352970 & 6.678200e-10\\\\\n",
       "\tfemale:separated &  0.023302763 & 0.053211795 &  0.43792476 & 6.614408e-01\\\\\n",
       "\tfemale:nevermarried &  0.186853483 & 0.019942393 &  9.36966209 & 7.276511e-21\\\\\n",
       "\tfemale:hsd08 &  0.027810312 & 0.120914496 &  0.22999982 & 8.180919e-01\\\\\n",
       "\tfemale:hsd911 & -0.119335040 & 0.051879684 & -2.30022682 & 2.143537e-02\\\\\n",
       "\tfemale:hsg & -0.012889780 & 0.019223188 & -0.67053290 & 5.025181e-01\\\\\n",
       "\tfemale:cg &  0.010138553 & 0.018326505 &  0.55321800 & 5.801141e-01\\\\\n",
       "\tfemale:ad & -0.030463745 & 0.021806103 & -1.39702838 & 1.624050e-01\\\\\n",
       "\tfemale:mw & -0.001063439 & 0.019191770 & -0.05541119 & 9.558109e-01\\\\\n",
       "\tfemale:so & -0.008183343 & 0.019356818 & -0.42276282 & 6.724683e-01\\\\\n",
       "\tfemale:we & -0.004226129 & 0.021168404 & -0.19964324 & 8.417596e-01\\\\\n",
       "\tfemale:exp1 &  0.004935259 & 0.007804275 &  0.63237886 & 5.271393e-01\\\\\n",
       "\tfemale:exp2 & -0.159519328 & 0.045299884 & -3.52140699 & 4.292632e-04\\\\\n",
       "\tfemale:exp3 &  0.038450579 & 0.007861100 &  4.89124680 & 1.001992e-06\\\\\n",
       "\\end{tabular}\n"
      ],
      "text/markdown": [
       "\n",
       "A matrix: 16 × 4 of type dbl\n",
       "\n",
       "| <!--/--> | Estimate. | Std. Error | t value | Pr(&gt;|t|) |\n",
       "|---|---|---|---|---|\n",
       "| female | -0.154923281 | 0.050162447 | -3.08843149 | 2.012161e-03 |\n",
       "| female:widowed |  0.136095484 | 0.090662629 |  1.50111997 | 1.333245e-01 |\n",
       "| female:divorced |  0.136939386 | 0.022181700 |  6.17352970 | 6.678200e-10 |\n",
       "| female:separated |  0.023302763 | 0.053211795 |  0.43792476 | 6.614408e-01 |\n",
       "| female:nevermarried |  0.186853483 | 0.019942393 |  9.36966209 | 7.276511e-21 |\n",
       "| female:hsd08 |  0.027810312 | 0.120914496 |  0.22999982 | 8.180919e-01 |\n",
       "| female:hsd911 | -0.119335040 | 0.051879684 | -2.30022682 | 2.143537e-02 |\n",
       "| female:hsg | -0.012889780 | 0.019223188 | -0.67053290 | 5.025181e-01 |\n",
       "| female:cg |  0.010138553 | 0.018326505 |  0.55321800 | 5.801141e-01 |\n",
       "| female:ad | -0.030463745 | 0.021806103 | -1.39702838 | 1.624050e-01 |\n",
       "| female:mw | -0.001063439 | 0.019191770 | -0.05541119 | 9.558109e-01 |\n",
       "| female:so | -0.008183343 | 0.019356818 | -0.42276282 | 6.724683e-01 |\n",
       "| female:we | -0.004226129 | 0.021168404 | -0.19964324 | 8.417596e-01 |\n",
       "| female:exp1 |  0.004935259 | 0.007804275 |  0.63237886 | 5.271393e-01 |\n",
       "| female:exp2 | -0.159519328 | 0.045299884 | -3.52140699 | 4.292632e-04 |\n",
       "| female:exp3 |  0.038450579 | 0.007861100 |  4.89124680 | 1.001992e-06 |\n",
       "\n"
      ],
      "text/plain": [
       "                    Estimate.    Std. Error  t value     Pr(>|t|)    \n",
       "female              -0.154923281 0.050162447 -3.08843149 2.012161e-03\n",
       "female:widowed       0.136095484 0.090662629  1.50111997 1.333245e-01\n",
       "female:divorced      0.136939386 0.022181700  6.17352970 6.678200e-10\n",
       "female:separated     0.023302763 0.053211795  0.43792476 6.614408e-01\n",
       "female:nevermarried  0.186853483 0.019942393  9.36966209 7.276511e-21\n",
       "female:hsd08         0.027810312 0.120914496  0.22999982 8.180919e-01\n",
       "female:hsd911       -0.119335040 0.051879684 -2.30022682 2.143537e-02\n",
       "female:hsg          -0.012889780 0.019223188 -0.67053290 5.025181e-01\n",
       "female:cg            0.010138553 0.018326505  0.55321800 5.801141e-01\n",
       "female:ad           -0.030463745 0.021806103 -1.39702838 1.624050e-01\n",
       "female:mw           -0.001063439 0.019191770 -0.05541119 9.558109e-01\n",
       "female:so           -0.008183343 0.019356818 -0.42276282 6.724683e-01\n",
       "female:we           -0.004226129 0.021168404 -0.19964324 8.417596e-01\n",
       "female:exp1          0.004935259 0.007804275  0.63237886 5.271393e-01\n",
       "female:exp2         -0.159519328 0.045299884 -3.52140699 4.292632e-04\n",
       "female:exp3          0.038450579 0.007861100  4.89124680 1.001992e-06"
      ]
     },
     "metadata": {},
     "output_type": "display_data"
    }
   ],
   "source": [
    "result$coef"
   ]
  },
  {
   "cell_type": "code",
   "execution_count": null,
   "metadata": {},
   "outputs": [],
   "source": [
    "result$coef[, 1] + (1.645* result$coef[, 2])"
   ]
  },
  {
   "cell_type": "code",
   "execution_count": 212,
   "metadata": {
    "execution": {
     "iopub.execute_input": "2021-02-28T17:18:48.950512Z",
     "iopub.status.busy": "2021-02-28T17:18:48.948204Z",
     "iopub.status.idle": "2021-02-28T17:18:49.953148Z",
     "shell.execute_reply": "2021-02-28T17:18:49.950709Z"
    },
    "papermill": {
     "duration": 1.021263,
     "end_time": "2021-02-28T17:18:49.953381",
     "exception": false,
     "start_time": "2021-02-28T17:18:48.932118",
     "status": "completed"
    },
    "tags": []
   },
   "outputs": [
    {
     "data": {
      "text/html": [
       "<table class=\"dataframe\">\n",
       "<caption>A matrix: 16 × 2 of type dbl</caption>\n",
       "<thead>\n",
       "\t<tr><th></th><th scope=col>5 %</th><th scope=col>95 %</th></tr>\n",
       "</thead>\n",
       "<tbody>\n",
       "\t<tr><th scope=row>female</th><td>-0.28511760</td><td>-0.02472896</td></tr>\n",
       "\t<tr><th scope=row>female:widowed</th><td>-0.11603497</td><td> 0.38822594</td></tr>\n",
       "\t<tr><th scope=row>female:divorced</th><td> 0.07885956</td><td> 0.19501922</td></tr>\n",
       "\t<tr><th scope=row>female:separated</th><td>-0.10756277</td><td> 0.15416829</td></tr>\n",
       "\t<tr><th scope=row>female:nevermarried</th><td> 0.13302318</td><td> 0.24068379</td></tr>\n",
       "\t<tr><th scope=row>female:hsd08</th><td>-0.34820080</td><td> 0.40382142</td></tr>\n",
       "\t<tr><th scope=row>female:hsd911</th><td>-0.25923879</td><td> 0.02056871</td></tr>\n",
       "\t<tr><th scope=row>female:hsg</th><td>-0.06172362</td><td> 0.03594406</td></tr>\n",
       "\t<tr><th scope=row>female:cg</th><td>-0.03829396</td><td> 0.05857107</td></tr>\n",
       "\t<tr><th scope=row>female:ad</th><td>-0.09156311</td><td> 0.03063562</td></tr>\n",
       "\t<tr><th scope=row>female:mw</th><td>-0.05120089</td><td> 0.04907401</td></tr>\n",
       "\t<tr><th scope=row>female:so</th><td>-0.05915532</td><td> 0.04278863</td></tr>\n",
       "\t<tr><th scope=row>female:we</th><td>-0.06161450</td><td> 0.05316224</td></tr>\n",
       "\t<tr><th scope=row>female:exp1</th><td>-0.01509435</td><td> 0.02496487</td></tr>\n",
       "\t<tr><th scope=row>female:exp2</th><td>-0.27599717</td><td>-0.04304149</td></tr>\n",
       "\t<tr><th scope=row>female:exp3</th><td> 0.01826007</td><td> 0.05864108</td></tr>\n",
       "</tbody>\n",
       "</table>\n"
      ],
      "text/latex": [
       "A matrix: 16 × 2 of type dbl\n",
       "\\begin{tabular}{r|ll}\n",
       "  & 5 \\% & 95 \\%\\\\\n",
       "\\hline\n",
       "\tfemale & -0.28511760 & -0.02472896\\\\\n",
       "\tfemale:widowed & -0.11603497 &  0.38822594\\\\\n",
       "\tfemale:divorced &  0.07885956 &  0.19501922\\\\\n",
       "\tfemale:separated & -0.10756277 &  0.15416829\\\\\n",
       "\tfemale:nevermarried &  0.13302318 &  0.24068379\\\\\n",
       "\tfemale:hsd08 & -0.34820080 &  0.40382142\\\\\n",
       "\tfemale:hsd911 & -0.25923879 &  0.02056871\\\\\n",
       "\tfemale:hsg & -0.06172362 &  0.03594406\\\\\n",
       "\tfemale:cg & -0.03829396 &  0.05857107\\\\\n",
       "\tfemale:ad & -0.09156311 &  0.03063562\\\\\n",
       "\tfemale:mw & -0.05120089 &  0.04907401\\\\\n",
       "\tfemale:so & -0.05915532 &  0.04278863\\\\\n",
       "\tfemale:we & -0.06161450 &  0.05316224\\\\\n",
       "\tfemale:exp1 & -0.01509435 &  0.02496487\\\\\n",
       "\tfemale:exp2 & -0.27599717 & -0.04304149\\\\\n",
       "\tfemale:exp3 &  0.01826007 &  0.05864108\\\\\n",
       "\\end{tabular}\n"
      ],
      "text/markdown": [
       "\n",
       "A matrix: 16 × 2 of type dbl\n",
       "\n",
       "| <!--/--> | 5 % | 95 % |\n",
       "|---|---|---|\n",
       "| female | -0.28511760 | -0.02472896 |\n",
       "| female:widowed | -0.11603497 |  0.38822594 |\n",
       "| female:divorced |  0.07885956 |  0.19501922 |\n",
       "| female:separated | -0.10756277 |  0.15416829 |\n",
       "| female:nevermarried |  0.13302318 |  0.24068379 |\n",
       "| female:hsd08 | -0.34820080 |  0.40382142 |\n",
       "| female:hsd911 | -0.25923879 |  0.02056871 |\n",
       "| female:hsg | -0.06172362 |  0.03594406 |\n",
       "| female:cg | -0.03829396 |  0.05857107 |\n",
       "| female:ad | -0.09156311 |  0.03063562 |\n",
       "| female:mw | -0.05120089 |  0.04907401 |\n",
       "| female:so | -0.05915532 |  0.04278863 |\n",
       "| female:we | -0.06161450 |  0.05316224 |\n",
       "| female:exp1 | -0.01509435 |  0.02496487 |\n",
       "| female:exp2 | -0.27599717 | -0.04304149 |\n",
       "| female:exp3 |  0.01826007 |  0.05864108 |\n",
       "\n"
      ],
      "text/plain": [
       "                    5 %         95 %       \n",
       "female              -0.28511760 -0.02472896\n",
       "female:widowed      -0.11603497  0.38822594\n",
       "female:divorced      0.07885956  0.19501922\n",
       "female:separated    -0.10756277  0.15416829\n",
       "female:nevermarried  0.13302318  0.24068379\n",
       "female:hsd08        -0.34820080  0.40382142\n",
       "female:hsd911       -0.25923879  0.02056871\n",
       "female:hsg          -0.06172362  0.03594406\n",
       "female:cg           -0.03829396  0.05857107\n",
       "female:ad           -0.09156311  0.03063562\n",
       "female:mw           -0.05120089  0.04907401\n",
       "female:so           -0.05915532  0.04278863\n",
       "female:we           -0.06161450  0.05316224\n",
       "female:exp1         -0.01509435  0.02496487\n",
       "female:exp2         -0.27599717 -0.04304149\n",
       "female:exp3          0.01826007  0.05864108"
      ]
     },
     "metadata": {},
     "output_type": "display_data"
    },
    {
     "name": "stderr",
     "output_type": "stream",
     "text": [
      "Warning message:\n",
      "\"Ignoring unknown aesthetics: width, h\"\n"
     ]
    },
    {
     "name": "stdout",
     "output_type": "stream",
     "text": [
      "% latex table generated in R 4.0.4 by xtable 1.8-4 package\n",
      "% Tue Apr 13 17:18:57 2021\n",
      "\\begin{table}[ht]\n",
      "\\centering\n",
      "\\begin{tabular}{rrr}\n",
      "  \\hline\n",
      " & 5 \\% & 95 \\% \\\\ \n",
      "  \\hline\n",
      "female & -0.29 & -0.02 \\\\ \n",
      "  female:widowed & -0.12 & 0.39 \\\\ \n",
      "  female:divorced & 0.08 & 0.20 \\\\ \n",
      "  female:separated & -0.11 & 0.15 \\\\ \n",
      "  female:nevermarried & 0.13 & 0.24 \\\\ \n",
      "  female:hsd08 & -0.35 & 0.40 \\\\ \n",
      "  female:hsd911 & -0.26 & 0.02 \\\\ \n",
      "  female:hsg & -0.06 & 0.04 \\\\ \n",
      "  female:cg & -0.04 & 0.06 \\\\ \n",
      "  female:ad & -0.09 & 0.03 \\\\ \n",
      "  female:mw & -0.05 & 0.05 \\\\ \n",
      "  female:so & -0.06 & 0.04 \\\\ \n",
      "  female:we & -0.06 & 0.05 \\\\ \n",
      "  female:exp1 & -0.02 & 0.02 \\\\ \n",
      "  female:exp2 & -0.28 & -0.04 \\\\ \n",
      "  female:exp3 & 0.02 & 0.06 \\\\ \n",
      "   \\hline\n",
      "\\end{tabular}\n",
      "\\end{table}\n"
     ]
    },
    {
     "data": {
      "image/png": "[encoded data removed]",
      "text/plain": [
       "plot without title"
      ]
     },
     "metadata": {
      "image/png": {
       "height": 420,
       "width": 420
      }
     },
     "output_type": "display_data"
    }
   ],
   "source": [
    "joint.CI <- confint(effects.female, level = 0.90, joint = TRUE)\n",
    "joint.CI\n",
    "plot(effects.female, joint=TRUE, level=0.90) # plot of the effects\n",
    "print(xtable(joint.CI), type=\"latex\")\n",
    "\n",
    "# the plot output does not look great"
   ]
  },
  {
   "cell_type": "code",
   "execution_count": 20,
   "metadata": {
    "scrolled": true
   },
   "outputs": [
    {
     "data": {
      "text/html": [
       "<table class=\"dataframe\">\n",
       "<caption>A matrix: 16 × 2 of type dbl</caption>\n",
       "<thead>\n",
       "\t<tr><th></th><th scope=col>5 %</th><th scope=col>95 %</th></tr>\n",
       "</thead>\n",
       "<tbody>\n",
       "\t<tr><th scope=row>female</th><td>-0.28511502</td><td>-0.02473155</td></tr>\n",
       "\t<tr><th scope=row>female:widowed</th><td>-0.11602996</td><td> 0.38822093</td></tr>\n",
       "\t<tr><th scope=row>female:divorced</th><td> 0.07886071</td><td> 0.19501806</td></tr>\n",
       "\t<tr><th scope=row>female:separated</th><td>-0.10756017</td><td> 0.15416569</td></tr>\n",
       "\t<tr><th scope=row>female:nevermarried</th><td> 0.13302425</td><td> 0.24068272</td></tr>\n",
       "\t<tr><th scope=row>female:hsd08</th><td>-0.34819333</td><td> 0.40381396</td></tr>\n",
       "\t<tr><th scope=row>female:hsd911</th><td>-0.25923601</td><td> 0.02056593</td></tr>\n",
       "\t<tr><th scope=row>female:hsg</th><td>-0.06172265</td><td> 0.03594309</td></tr>\n",
       "\t<tr><th scope=row>female:cg</th><td>-0.03829300</td><td> 0.05857010</td></tr>\n",
       "\t<tr><th scope=row>female:ad</th><td>-0.09156190</td><td> 0.03063441</td></tr>\n",
       "\t<tr><th scope=row>female:mw</th><td>-0.05119990</td><td> 0.04907302</td></tr>\n",
       "\t<tr><th scope=row>female:so</th><td>-0.05915431</td><td> 0.04278762</td></tr>\n",
       "\t<tr><th scope=row>female:we</th><td>-0.06161336</td><td> 0.05316110</td></tr>\n",
       "\t<tr><th scope=row>female:exp1</th><td>-0.01509395</td><td> 0.02496447</td></tr>\n",
       "\t<tr><th scope=row>female:exp2</th><td>-0.27599485</td><td>-0.04304380</td></tr>\n",
       "\t<tr><th scope=row>female:exp3</th><td> 0.01826047</td><td> 0.05864068</td></tr>\n",
       "</tbody>\n",
       "</table>\n"
      ],
      "text/latex": [
       "A matrix: 16 × 2 of type dbl\n",
       "\\begin{tabular}{r|ll}\n",
       "  & 5 \\% & 95 \\%\\\\\n",
       "\\hline\n",
       "\tfemale & -0.28511502 & -0.02473155\\\\\n",
       "\tfemale:widowed & -0.11602996 &  0.38822093\\\\\n",
       "\tfemale:divorced &  0.07886071 &  0.19501806\\\\\n",
       "\tfemale:separated & -0.10756017 &  0.15416569\\\\\n",
       "\tfemale:nevermarried &  0.13302425 &  0.24068272\\\\\n",
       "\tfemale:hsd08 & -0.34819333 &  0.40381396\\\\\n",
       "\tfemale:hsd911 & -0.25923601 &  0.02056593\\\\\n",
       "\tfemale:hsg & -0.06172265 &  0.03594309\\\\\n",
       "\tfemale:cg & -0.03829300 &  0.05857010\\\\\n",
       "\tfemale:ad & -0.09156190 &  0.03063441\\\\\n",
       "\tfemale:mw & -0.05119990 &  0.04907302\\\\\n",
       "\tfemale:so & -0.05915431 &  0.04278762\\\\\n",
       "\tfemale:we & -0.06161336 &  0.05316110\\\\\n",
       "\tfemale:exp1 & -0.01509395 &  0.02496447\\\\\n",
       "\tfemale:exp2 & -0.27599485 & -0.04304380\\\\\n",
       "\tfemale:exp3 &  0.01826047 &  0.05864068\\\\\n",
       "\\end{tabular}\n"
      ],
      "text/markdown": [
       "\n",
       "A matrix: 16 × 2 of type dbl\n",
       "\n",
       "| <!--/--> | 5 % | 95 % |\n",
       "|---|---|---|\n",
       "| female | -0.28511502 | -0.02473155 |\n",
       "| female:widowed | -0.11602996 |  0.38822093 |\n",
       "| female:divorced |  0.07886071 |  0.19501806 |\n",
       "| female:separated | -0.10756017 |  0.15416569 |\n",
       "| female:nevermarried |  0.13302425 |  0.24068272 |\n",
       "| female:hsd08 | -0.34819333 |  0.40381396 |\n",
       "| female:hsd911 | -0.25923601 |  0.02056593 |\n",
       "| female:hsg | -0.06172265 |  0.03594309 |\n",
       "| female:cg | -0.03829300 |  0.05857010 |\n",
       "| female:ad | -0.09156190 |  0.03063441 |\n",
       "| female:mw | -0.05119990 |  0.04907302 |\n",
       "| female:so | -0.05915431 |  0.04278762 |\n",
       "| female:we | -0.06161336 |  0.05316110 |\n",
       "| female:exp1 | -0.01509395 |  0.02496447 |\n",
       "| female:exp2 | -0.27599485 | -0.04304380 |\n",
       "| female:exp3 |  0.01826047 |  0.05864068 |\n",
       "\n"
      ],
      "text/plain": [
       "                    5 %         95 %       \n",
       "female              -0.28511502 -0.02473155\n",
       "female:widowed      -0.11602996  0.38822093\n",
       "female:divorced      0.07886071  0.19501806\n",
       "female:separated    -0.10756017  0.15416569\n",
       "female:nevermarried  0.13302425  0.24068272\n",
       "female:hsd08        -0.34819333  0.40381396\n",
       "female:hsd911       -0.25923601  0.02056593\n",
       "female:hsg          -0.06172265  0.03594309\n",
       "female:cg           -0.03829300  0.05857010\n",
       "female:ad           -0.09156190  0.03063441\n",
       "female:mw           -0.05119990  0.04907302\n",
       "female:so           -0.05915431  0.04278762\n",
       "female:we           -0.06161336  0.05316110\n",
       "female:exp1         -0.01509395  0.02496447\n",
       "female:exp2         -0.27599485 -0.04304380\n",
       "female:exp3          0.01826047  0.05864068"
      ]
     },
     "metadata": {},
     "output_type": "display_data"
    }
   ],
   "source": [
    "joint.CI"
   ]
  }
 ],
 "metadata": {
  "hide_input": false,
  "kernelspec": {
   "display_name": "R",
   "language": "R",
   "name": "ir"
  },
  "language_info": {
   "codemirror_mode": "r",
   "file_extension": ".r",
   "mimetype": "text/x-r-source",
   "name": "R",
   "pygments_lexer": "r",
   "version": "4.0.4"
  },
  "papermill": {
   "default_parameters": {},
   "duration": 89.365707,
   "end_time": "2021-02-28T17:18:51.003711",
   "environment_variables": {},
   "exception": null,
   "input_path": "__notebook__.ipynb",
   "output_path": "__notebook__.ipynb",
   "parameters": {},
   "start_time": "2021-02-28T17:17:21.638004",
   "version": "2.2.2"
  }
 },
 "nbformat": 4,
 "nbformat_minor": 4
}
