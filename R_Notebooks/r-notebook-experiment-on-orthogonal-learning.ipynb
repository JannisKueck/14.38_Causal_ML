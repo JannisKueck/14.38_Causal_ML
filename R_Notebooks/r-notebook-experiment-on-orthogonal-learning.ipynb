{
 "cells": [
  {
   "cell_type": "code",
   "execution_count": 22,
   "metadata": {
    "_execution_state": "idle",
    "_uuid": "051d70d956493feee0c6d64651c6a088724dca2a",
    "execution": {
     "iopub.execute_input": "2021-03-17T13:55:27.521139Z",
     "iopub.status.busy": "2021-03-17T13:55:27.518637Z",
     "iopub.status.idle": "2021-03-17T14:02:21.927575Z",
     "shell.execute_reply": "2021-03-17T14:02:21.925824Z"
    },
    "papermill": {
     "duration": 414.418507,
     "end_time": "2021-03-17T14:02:21.927880",
     "exception": false,
     "start_time": "2021-03-17T13:55:27.509373",
     "status": "completed"
    },
    "tags": []
   },
   "outputs": [],
   "source": [
    "# Simulation Design\n",
    "\n",
    "library(hdm)\n",
    "\n",
    "set.seed(1)\n",
    "B= 20 # trials\n",
    "Naive = rep(0, B)\n",
    "Orthogonal = rep(0, B)\n",
    "\n",
    "for (i in 1:B){\n",
    "    \n",
    "n=100\n",
    "p= 100\n",
    "beta = 1/(1:p)^2\n",
    "gamma =1/(1:p)^2\n",
    "\n",
    "X = matrix(rnorm(n*p), n, p)\n",
    "    \n",
    "    \n",
    "D=   X%*%gamma + rnorm(n)/4\n",
    "\n",
    "Y =  D+ X%*%beta + rnorm(n)\n",
    "\n",
    "# single selection method\n",
    "\n",
    "SX.IDs = which(rlasso(Y~ D+X)$coef[-c(1,2)] !=0)  #select covariates by Lasso\n",
    "\n",
    "\n",
    "if (sum(SX.IDs)==0) {Naive[i] = lm(Y~ D)$coef[2]}\n",
    "\n",
    "if (sum(SX.IDs)>0) {Naive[i] = lm(Y~ D + X[,SX.IDs])$coef[2]}\n",
    "\n",
    "\n",
    "\n",
    "#partialling out\n",
    "\n",
    "resY = rlasso(Y~ X, Post=F)$res\n",
    "resD = rlasso(D~ X, Post=F)$res\n",
    "Orthogonal[i]= lm(resY ~ resD)$coef[2]\n",
    "\n",
    "}\n"
   ]
  },
  {
   "cell_type": "code",
   "execution_count": 33,
   "metadata": {},
   "outputs": [
    {
     "data": {
      "text/plain": [
       "A single object matching 'confint.rlassoEffects' was found\n",
       "It was found in the following places\n",
       "  registered S3 method for confint from namespace hdm\n",
       "  namespace:hdm\n",
       "with value\n",
       "\n",
       "function (object, parm, level = 0.95, joint = FALSE, ...) \n",
       "{\n",
       "    B <- 500\n",
       "    n <- object$samplesize\n",
       "    k <- p1 <- length(object$coefficients)\n",
       "    cf <- coef(object)\n",
       "    pnames <- names(cf)\n",
       "    if (missing(parm)) \n",
       "        parm <- pnames\n",
       "    else if (is.numeric(parm)) \n",
       "        parm <- pnames[parm]\n",
       "    if (!joint) {\n",
       "        a <- (1 - level)/2\n",
       "        a <- c(a, 1 - a)\n",
       "        fac <- qnorm(a)\n",
       "        pct <- format.perc(a, 3)\n",
       "        ci <- array(NA, dim = c(length(parm), 2L), dimnames = list(parm, \n",
       "            pct))\n",
       "        ses <- object$se[parm]\n",
       "        ci[] <- cf[parm] + ses %o% fac\n",
       "    }\n",
       "    if (joint) {\n",
       "        e <- object$residuals$e\n",
       "        v <- object$residuals$v\n",
       "        ev <- e * v\n",
       "        Ev2 <- colMeans(v^2)\n",
       "        Omegahat <- matrix(NA, ncol = k, nrow = k)\n",
       "        for (j in 1:k) {\n",
       "            for (l in 1:k) {\n",
       "                Omegahat[j, l] = Omegahat[l, j] = 1/(Ev2[j] * \n",
       "                  Ev2[l]) * mean(ev[, j] * ev[, l])\n",
       "            }\n",
       "        }\n",
       "        var <- diag(Omegahat)\n",
       "        names(var) <- names(cf)\n",
       "        sim <- vector(\"numeric\", length = B)\n",
       "        for (i in 1:B) {\n",
       "            beta_i <- MASS::mvrnorm(mu = rep(0, k), Sigma = Omegahat/n)\n",
       "            sim[i] <- max(abs(beta_i/sqrt(var)))\n",
       "        }\n",
       "        a <- (1 - level)\n",
       "        ab <- c(a/2, 1 - a/2)\n",
       "        pct <- format.perc(ab, 3)\n",
       "        ci <- array(NA, dim = c(length(parm), 2L), dimnames = list(parm, \n",
       "            pct))\n",
       "        hatc <- quantile(sim, probs = 1 - a)\n",
       "        ci[, 1] <- cf[parm] - hatc * sqrt(var[parm])\n",
       "        ci[, 2] <- cf[parm] + hatc * sqrt(var[parm])\n",
       "    }\n",
       "    return(ci)\n",
       "}\n",
       "<bytecode: 0x000000000aa735d0>\n",
       "<environment: namespace:hdm>"
      ]
     },
     "metadata": {},
     "output_type": "display_data"
    }
   ],
   "source": [
    "library(hdm)\n",
    "getAnywhere( confint.rlassoEffects )"
   ]
  },
  {
   "cell_type": "code",
   "execution_count": 24,
   "metadata": {},
   "outputs": [
    {
     "data": {
      "text/html": [
       "<strong>D:</strong> 1.71871041021465"
      ],
      "text/latex": [
       "\\textbf{D:} 1.71871041021465"
      ],
      "text/markdown": [
       "**D:** 1.71871041021465"
      ],
      "text/plain": [
       "      D \n",
       "1.71871 "
      ]
     },
     "metadata": {},
     "output_type": "display_data"
    }
   ],
   "source": [
    "\n",
    "function (object, parm, level = 0.95, joint = FALSE, ...) \n",
    "{\n",
    "    B <- 500\n",
    "    n <- object$samplesize\n",
    "    k <- p1 <- length(object$coefficients)\n",
    "    cf <- coef(object)\n",
    "    pnames <- names(cf)\n",
    "    if (missing(parm)) \n",
    "        parm <- pnames\n",
    "    else if (is.numeric(parm)) \n",
    "        parm <- pnames[parm]\n",
    "    if (!joint) {\n",
    "        a <- (1 - level)/2\n",
    "        a <- c(a, 1 - a)\n",
    "        fac <- qnorm(a)\n",
    "        pct <- format.perc(a, 3)\n",
    "        ci <- array(NA, dim = c(length(parm), 2L), dimnames = list(parm, \n",
    "            pct))\n",
    "        ses <- object$se[parm]\n",
    "        ci[] <- cf[parm] + ses %o% fac\n",
    "    }\n",
    "    if (joint) {\n",
    "        e <- object$residuals$e\n",
    "        v <- object$residuals$v\n",
    "        ev <- e * v\n",
    "        Ev2 <- colMeans(v^2)\n",
    "        Omegahat <- matrix(NA, ncol = k, nrow = k)\n",
    "        for (j in 1:k) {\n",
    "            for (l in 1:k) {\n",
    "                Omegahat[j, l] = Omegahat[l, j] = 1/(Ev2[j] * \n",
    "                  Ev2[l]) * mean(ev[, j] * ev[, l])\n",
    "            }\n",
    "        }\n",
    "        var <- diag(Omegahat)\n",
    "        names(var) <- names(cf)\n",
    "        sim <- vector(\"numeric\", length = B)\n",
    "        for (i in 1:B) {\n",
    "            beta_i <- MASS::mvrnorm(mu = rep(0, k), Sigma = Omegahat/n)\n",
    "            sim[i] <- max(abs(beta_i/sqrt(var)))\n",
    "        }\n",
    "        a <- (1 - level)\n",
    "        ab <- c(a/2, 1 - a/2)\n",
    "        pct <- format.perc(ab, 3)\n",
    "        ci <- array(NA, dim = c(length(parm), 2L), dimnames = list(parm, \n",
    "            pct))\n",
    "        hatc <- quantile(sim, probs = 1 - a)\n",
    "        ci[, 1] <- cf[parm] - hatc * sqrt(var[parm])\n",
    "        ci[, 2] <- cf[parm] + hatc * sqrt(var[parm])\n",
    "    }\n",
    "    return(ci)\n",
    "}"
   ]
  },
  {
   "cell_type": "code",
   "execution_count": 25,
   "metadata": {},
   "outputs": [
    {
     "ename": "ERROR",
     "evalue": "Error in hist$freq: object of type 'closure' is not subsettable\n",
     "output_type": "error",
     "traceback": [
      "Error in hist$freq: object of type 'closure' is not subsettable\nTraceback:\n"
     ]
    }
   ],
   "source": [
    "hist$freq"
   ]
  },
  {
   "cell_type": "code",
   "execution_count": 26,
   "metadata": {},
   "outputs": [
    {
     "ename": "ERROR",
     "evalue": "Error in B$breaks: $ operator is invalid for atomic vectors\n",
     "output_type": "error",
     "traceback": [
      "Error in B$breaks: $ operator is invalid for atomic vectors\nTraceback:\n"
     ]
    }
   ],
   "source": [
    "B$breaks"
   ]
  },
  {
   "cell_type": "code",
   "execution_count": 27,
   "metadata": {
    "execution": {
     "iopub.execute_input": "2021-03-17T14:02:22.037841Z",
     "iopub.status.busy": "2021-03-17T14:02:21.989089Z",
     "iopub.status.idle": "2021-03-17T14:02:22.473026Z",
     "shell.execute_reply": "2021-03-17T14:02:22.471864Z"
    },
    "papermill": {
     "duration": 0.537926,
     "end_time": "2021-03-17T14:02:22.473201",
     "exception": false,
     "start_time": "2021-03-17T14:02:21.935275",
     "status": "completed"
    },
    "tags": []
   },
   "outputs": [
    {
     "data": {
      "image/png": "[encoded data removed]",
      "text/plain": [
       "Plot with title \"Orthogonal\""
      ]
     },
     "metadata": {
      "image/png": {
       "height": 420,
       "width": 420
      }
     },
     "output_type": "display_data"
    },
    {
     "data": {
      "image/png": "[encoded data removed]",
      "text/plain": [
       "Plot with title \"Naive\""
      ]
     },
     "metadata": {
      "image/png": {
       "height": 420,
       "width": 420
      }
     },
     "output_type": "display_data"
    }
   ],
   "source": [
    "A = hist(Orthogonal-1,col=4, freq=F, xlim= c(-2, 2), xlab= \"Orhtogonal -True \", main=\"Orthogonal\")\n",
    "B = hist(Naive-1, col=2, freq=F, xlim= c(-2,2), xlab= \"Naive- True\", main = \"Naive\")\n"
   ]
  },
  {
   "cell_type": "code",
   "execution_count": 29,
   "metadata": {
    "execution": {
     "iopub.execute_input": "2021-03-17T14:02:22.491998Z",
     "iopub.status.busy": "2021-03-17T14:02:22.490334Z",
     "iopub.status.idle": "2021-03-17T14:09:19.285478Z",
     "shell.execute_reply": "2021-03-17T14:09:19.281058Z"
    },
    "papermill": {
     "duration": 416.805708,
     "end_time": "2021-03-17T14:09:19.285763",
     "exception": false,
     "start_time": "2021-03-17T14:02:22.480055",
     "status": "completed"
    },
    "tags": []
   },
   "outputs": [],
   "source": [
    "library(hdm)\n",
    "\n",
    "set.seed(1)\n",
    "B= 20 # trials \n",
    "Naive = rep(0, B)\n",
    "Orthogonal = rep(0, B)\n",
    "\n",
    "for (i in 1:B){\n",
    "    \n",
    "n=100\n",
    "p= 100\n",
    "beta = 1/(1:p)^2\n",
    "gamma =1/(1:p)^2\n",
    "\n",
    "X=matrix(rnorm(n*p), n, p)\n",
    "    \n",
    "    \n",
    "D=   X%*%gamma + rnorm(n)/4\n",
    "\n",
    "Y =  D+ X%*%beta + rnorm(n)\n",
    "\n",
    "# single selection method\n",
    "\n",
    "SX.IDs = which(rlasso(Y~ D+X)$coef[-c(1,2)] !=0)  #select covariates by Lasso\n",
    "\n",
    "\n",
    "if (sum(SX.IDs)==0) {Naive[i] = lm(Y~ D)$coef[2]}\n",
    "\n",
    "if (sum(SX.IDs)>0) {Naive[i] = lm(Y~ D + X[,SX.IDs])$coef[2]}\n",
    "\n",
    "\n",
    "\n",
    "#partialling out\n",
    "\n",
    "resY = rlasso(Y~ X, Post=T)$res\n",
    "resD = rlasso(D~ X, Post=T)$res\n",
    "Orthogonal[i]= lm(resY ~ resD)$coef[2]\n",
    "\n",
    "}\n"
   ]
  },
  {
   "cell_type": "code",
   "execution_count": 31,
   "metadata": {
    "execution": {
     "iopub.execute_input": "2021-03-17T14:09:19.374054Z",
     "iopub.status.busy": "2021-03-17T14:09:19.369799Z",
     "iopub.status.idle": "2021-03-17T14:09:19.514722Z",
     "shell.execute_reply": "2021-03-17T14:09:19.513652Z"
    },
    "papermill": {
     "duration": 0.217916,
     "end_time": "2021-03-17T14:09:19.514867",
     "exception": false,
     "start_time": "2021-03-17T14:09:19.296951",
     "status": "completed"
    },
    "tags": []
   },
   "outputs": [
    {
     "data": {
      "image/png": "[encoded data removed]",
      "text/plain": [
       "Plot with title \"Orthogonal\""
      ]
     },
     "metadata": {
      "image/png": {
       "height": 420,
       "width": 420
      }
     },
     "output_type": "display_data"
    },
    {
     "data": {
      "image/png": "[encoded data removed]",
      "text/plain": [
       "Plot with title \"Naive\""
      ]
     },
     "metadata": {
      "image/png": {
       "height": 420,
       "width": 420
      }
     },
     "output_type": "display_data"
    }
   ],
   "source": [
    "hist(Orthogonal-1,col=4, freq=F, xlim= c(-2, 2), xlab= \"Orhtogonal -True \", main=\"Orthogonal\")\n",
    "hist(Naive-1, col=2, freq=F, xlim= c(-2,2), xlab= \"Naive- True\", main = \"Naive\")\n"
   ]
  },
  {
   "cell_type": "code",
   "execution_count": null,
   "metadata": {},
   "outputs": [],
   "source": []
  }
 ],
 "metadata": {
  "hide_input": false,
  "kernelspec": {
   "display_name": "R",
   "language": "R",
   "name": "ir"
  },
  "language_info": {
   "codemirror_mode": "r",
   "file_extension": ".r",
   "mimetype": "text/x-r-source",
   "name": "R",
   "pygments_lexer": "r",
   "version": "4.0.4"
  },
  "papermill": {
   "default_parameters": {},
   "duration": 835.118278,
   "end_time": "2021-03-17T14:09:19.633175",
   "environment_variables": {},
   "exception": null,
   "input_path": "__notebook__.ipynb",
   "output_path": "__notebook__.ipynb",
   "parameters": {},
   "start_time": "2021-03-17T13:55:24.514897",
   "version": "2.3.2"
  }
 },
 "nbformat": 4,
 "nbformat_minor": 5
}
